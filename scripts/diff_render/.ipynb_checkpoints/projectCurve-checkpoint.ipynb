{
 "cells": [
  {
   "cell_type": "code",
   "execution_count": 7,
   "metadata": {},
   "outputs": [],
   "source": [
    "import math\n",
    "import numpy as np\n",
    "import cv2\n",
    "import matplotlib.pyplot as plt\n",
    "from mpl_toolkits.mplot3d import Axes3D"
   ]
  },
  {
   "cell_type": "code",
   "execution_count": 2,
   "metadata": {},
   "outputs": [],
   "source": [
    "#p is of size R^(Nx3)\n",
    "def projPointCam(p, fx, fy, cx, cy):\n",
    "    if p.shape == (3,):\n",
    "        p = np.expand_dims(p, axis=0)\n",
    "    K = np.array([[fx, 0,   cx],\n",
    "                  [  0, fy, cy],\n",
    "                  [  0,  0, 1]])\n",
    "    divide_z = np.divide(p[:,:-1].transpose(), p[:,-1].transpose())\n",
    "    divide_z = np.vstack( (divide_z, np.ones( (1,p.shape[0]) ) ) )\n",
    "    return np.dot(K, divide_z )[:-1, :].transpose()\n",
    "\n",
    "\n",
    "def quadraticBezierCurve(p0, p1, p2, n=100):\n",
    "    out = np.zeros((n, 3))\n",
    "    for i in range(n):\n",
    "        t = float(i)/float(n)\n",
    "        out[i, :] = (1 - t)**2 * p0 + 2*(1 - t)*t*p1 + t**2 * p2\n",
    "    return out\n",
    "\n",
    "def derivativeOfquadraticBezierCurve(p0, p1, p2, n=100):\n",
    "    out = np.zeros((n, 3))\n",
    "    for i in range(n):\n",
    "        t = float(i)/float(n)\n",
    "        out[i, :] = 2*(1-t)*(p1 - p0) + 2*t*(p2 - p1)\n",
    "    return out"
   ]
  },
  {
   "cell_type": "code",
   "execution_count": 32,
   "metadata": {},
   "outputs": [],
   "source": [
    "#position and direction must be 3D and defined in the camera frame.\n",
    "def projectCylinder(position, direction, R, fx, fy, cx, cy):\n",
    "    a = direction[0]\n",
    "    b = direction[1]\n",
    "    c = direction[2]\n",
    "\n",
    "    x0 = position[0]\n",
    "    y0 = position[1]\n",
    "    z0 = position[2]\n",
    "\n",
    "\n",
    "    alpha1 = (1-a*a)*x0 - a*b*y0 - a*c*z0\n",
    "    beta1  = -a*b*x0 + (1 - b*b)*y0 - b*c*z0\n",
    "    gamma1 = -a*c*x0 - b*c*y0 + (1 - c*c)*z0\n",
    "\n",
    "    alpha2 = c*y0 - b*z0\n",
    "    beta2  = a*z0 - c*x0\n",
    "    gamma2 = b*x0 - a*y0\n",
    "\n",
    "    C = x0*x0 + y0*y0 + z0*z0 - (a*x0 + b*y0 + c*z0)*(a*x0 + b*y0 + c*z0) - R*R\n",
    "    \n",
    "    if C < 0:\n",
    "        print(\"Recieved C less than 0\")\n",
    "        return (-1, -1), (-1, -1)\n",
    "\n",
    "\n",
    "    temp = R/math.sqrt(C)\n",
    "\n",
    "    k1   = (alpha1*temp - alpha2)\n",
    "    k2   = (beta1* temp - beta2 )\n",
    "    k3   = (gamma1*temp - gamma2)\n",
    "\n",
    "    #Get edges! Fu + Gv = D convert to hough trnasform cos(theta)u + sin(theta)v = r\n",
    "    F = k1/fx\n",
    "    G = k2/fy\n",
    "    D = -k3 + F*cx + G*cy\n",
    "\n",
    "    if D < 0:\n",
    "        D = -D\n",
    "        G = -G\n",
    "        F = -F\n",
    "         \n",
    "    e_1 = (D/math.sqrt(F*F + G*G), np.arctan2(G,F))\n",
    "\n",
    "    k1 += 2*alpha2\n",
    "    k2 += 2*beta2\n",
    "    k3 += 2*gamma2\n",
    "\n",
    "    F = k1/fx\n",
    "    G = k2/fy\n",
    "    D = -k3 + F*cx + G*cy\n",
    "\n",
    "    if D < 0:\n",
    "        D = -D\n",
    "        G = -G\n",
    "        F = -F\n",
    "\n",
    "    e_2 = (D/math.sqrt(F*F + G*G), np.arctan2(G,F))\n",
    "    \n",
    "    return e_1, e_2"
   ]
  },
  {
   "cell_type": "code",
   "execution_count": 33,
   "metadata": {
    "scrolled": true
   },
   "outputs": [
    {
     "data": {
      "text/plain": [
       "<matplotlib.image.AxesImage at 0x1191c4b10>"
      ]
     },
     "execution_count": 33,
     "metadata": {},
     "output_type": "execute_result"
    },
    {
     "data": {
      "image/png": "[encoded data removed]",
      "text/plain": [
       "<matplotlib.figure.Figure at 0x119159a50>"
      ]
     },
     "metadata": {},
     "output_type": "display_data"
    }
   ],
   "source": [
    "p0 = np.array([-500.0, 0.0, 1.5])\n",
    "p1 = np.array([0.0,  150.0, 1.5])\n",
    "p2 = np.array([25.0, -250.0, 1.5])\n",
    "w = 500\n",
    "h = 500\n",
    "fx = 1.0\n",
    "fy = 1.0\n",
    "\n",
    "cx = w/2.0\n",
    "cy = h/2.0\n",
    "l = 100.0\n",
    "n = 200\n",
    "\n",
    "\n",
    "K = np.array([[fx,  0, cx,],\n",
    "              [0,  fy, cy,],\n",
    "              [0,   0,  1]])\n",
    "\n",
    "im = np.zeros((w, h, 3))\n",
    "\n",
    "curve   = quadraticBezierCurve(p0, p1, p2, n=n)\n",
    "d_curve = derivativeOfquadraticBezierCurve(p0, p1, p2, n=n)\n",
    "\n",
    "p_curve = projPointCam(curve, fx, fy, cx, cy).astype(int)\n",
    "# p_curve = np.delete(p_curve, np.where(p_curve < 0)[0], axis=0)\n",
    "\n",
    "\n",
    "#Draw centerline\n",
    "for i,p in enumerate(p_curve):\n",
    "    if p[0] < 0 or p[1] < 0:\n",
    "        continue\n",
    "    \n",
    "    im[p[1], p[0], :] = 1\n",
    "    \n",
    "    \n",
    "\n",
    "im = cv2.dilate(im, np.ones((5,5)) ,iterations = 1)\n",
    "    \n",
    "#Draw tangents:\n",
    "for i,p in enumerate(p_curve):\n",
    "    if i % 25 != 0:\n",
    "        continue\n",
    "    \n",
    "    p_d = projPointCam(curve[i] + l*d_curve[i]/np.linalg.norm(d_curve[i]), fx, fy, cx, cy)[0].astype(int)\n",
    "    if p_d[0] < 0 or p_d[1] < 0 or p[0] < 0 or p[1] < 0:\n",
    "        continue\n",
    "    im = cv2.line(im, (p[0], p[1]), (p_d[0], p_d[1]), (1.0, 0.0, 0.0), 3)\n",
    "\n",
    "plt.imshow(im)\n",
    "\n"
   ]
  },
  {
   "cell_type": "code",
   "execution_count": 36,
   "metadata": {},
   "outputs": [
    {
     "name": "stdout",
     "output_type": "stream",
     "text": [
      "Recieved C less than 0\n",
      "Recieved C less than 0\n",
      "Recieved C less than 0\n",
      "Recieved C less than 0\n",
      "Recieved C less than 0\n",
      "Recieved C less than 0\n"
     ]
    },
    {
     "data": {
      "text/plain": [
       "<matplotlib.image.AxesImage at 0x119304ed0>"
      ]
     },
     "execution_count": 36,
     "metadata": {},
     "output_type": "execute_result"
    },
    {
     "data": {
      "image/png": "[encoded data removed]",
      "text/plain": [
       "<matplotlib.figure.Figure at 0x118ef02d0>"
      ]
     },
     "metadata": {},
     "output_type": "display_data"
    }
   ],
   "source": [
    "#Draw the cylinders\n",
    "for i,p in enumerate(p_curve):\n",
    "    if i % 25 != 0:\n",
    "        continue\n",
    "    \n",
    "    #If the centerline point is out of image frame\n",
    "    if p[0] < 0 or p[1] < 0 or p[0] > w or p[1] > h:\n",
    "        continue\n",
    "    \n",
    "    R = 0.5\n",
    "    s_i = float(i)/float(n)\n",
    "    e_1, e_2 = projectCylinder(curve[i] - s_i*d_curve[i], d_curve[i]/np.linalg.norm(d_curve[i]), R, fx, fy, cx, cy)\n",
    "        \n",
    "    a = np.cos(e_1[1])\n",
    "    b = np.sin(e_1[1])\n",
    "    x0 = a*e_1[0]\n",
    "    y0 = b*e_1[0]\n",
    "    x1 = int(x0 + 1000*(-b))\n",
    "    y1 = int(y0 + 1000*(a))\n",
    "    x2 = int(x0 - 1000*(-b))\n",
    "    y2 = int(y0 - 1000*(a))\n",
    "    \n",
    "    cv2.line(im,(x1,y1),(x2,y2),(0,1.0,0), 2)\n",
    "    \n",
    "    a = np.cos(e_2[1])\n",
    "    b = np.sin(e_2[1])\n",
    "    x0 = a*e_2[0]\n",
    "    y0 = b*e_2[0]\n",
    "    x1 = int(x0 + 1000*(-b))\n",
    "    y1 = int(y0 + 1000*(a))\n",
    "    x2 = int(x0 - 1000*(-b))\n",
    "    y2 = int(y0 - 1000*(a))\n",
    "    \n",
    "    cv2.line(im,(x1,y1),(x2,y2),(0,1.0,0), 2)\n",
    "    \n",
    "plt.imshow(im)"
   ]
  },
  {
   "cell_type": "code",
   "execution_count": null,
   "metadata": {},
   "outputs": [],
   "source": []
  }
 ],
 "metadata": {
  "kernelspec": {
   "display_name": "Python 2",
   "language": "python",
   "name": "python2"
  },
  "language_info": {
   "codemirror_mode": {
    "name": "ipython",
    "version": 2
   },
   "file_extension": ".py",
   "mimetype": "text/x-python",
   "name": "python",
   "nbconvert_exporter": "python",
   "pygments_lexer": "ipython2",
   "version": "2.7.16"
  }
 },
 "nbformat": 4,
 "nbformat_minor": 2
}
