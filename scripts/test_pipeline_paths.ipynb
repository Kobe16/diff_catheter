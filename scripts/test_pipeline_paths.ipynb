{
 "cells": [
  {
   "cell_type": "code",
   "execution_count": 5,
   "metadata": {},
   "outputs": [],
   "source": [
    "import os\n",
    "import path_settings"
   ]
  },
  {
   "cell_type": "code",
   "execution_count": 6,
   "metadata": {},
   "outputs": [],
   "source": [
    "experiments = {\n",
    "        'IA005': {'dof': 3, \n",
    "        'loss_2d': False,\n",
    "        'tip_loss': True,\n",
    "        'use_reconstruction': True,\n",
    "        'interspace': 1,\n",
    "        'viewpoint_mode': 1,\n",
    "        'damping_weights': [1, 1, 10],\n",
    "        'n_mid_points': 1}\n",
    "    }"
   ]
  },
  {
   "cell_type": "code",
   "execution_count": 9,
   "metadata": {},
   "outputs": [],
   "source": [
    "n_data = 3"
   ]
  },
  {
   "cell_type": "code",
   "execution_count": 10,
   "metadata": {},
   "outputs": [
    {
     "name": "stdout",
     "output_type": "stream",
     "text": [
      "E:/OneDrive - UC San Diego/UCSD/Lab/Catheter/diff_catheter/results\\IA005\\D00_0000\n",
      "E:/OneDrive - UC San Diego/UCSD/Lab/Catheter/diff_catheter/results\\IA005\\D00_0001\n",
      "E:/OneDrive - UC San Diego/UCSD/Lab/Catheter/diff_catheter/results\\IA005\\D00_0002\n"
     ]
    }
   ],
   "source": [
    "data_alias = 'D' + str(0).zfill(2)\n",
    "for exp_name in experiments:\n",
    "    method_dir = os.path.join(path_settings.results_dir, exp_name)\n",
    "    for i in range(n_data):\n",
    "        data_dir = os.path.join(method_dir, data_alias + '_' + str(i).zfill(4))\n",
    "        print(data_dir)\n",
    "        images_save_dir = os.path.join(data_dir, 'images')\n",
    "        cc_specs_save_dir = os.path.join(data_dir, 'cc_specs')\n",
    "        params_report_path = os.path.join(data_dir, 'params.npy')\n",
    "        p3d_report_path = os.path.join(data_dir, 'p3d_poses.npy')\n",
    "        p2d_report_path = os.path.join(data_dir, 'p2d_poses.npy')"
   ]
  }
 ],
 "metadata": {
  "kernelspec": {
   "display_name": "catheter",
   "language": "python",
   "name": "python3"
  },
  "language_info": {
   "codemirror_mode": {
    "name": "ipython",
    "version": 3
   },
   "file_extension": ".py",
   "mimetype": "text/x-python",
   "name": "python",
   "nbconvert_exporter": "python",
   "pygments_lexer": "ipython3",
   "version": "3.8.19"
  }
 },
 "nbformat": 4,
 "nbformat_minor": 2
}
