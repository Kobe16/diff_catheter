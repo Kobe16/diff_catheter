{
 "cells": [
  {
   "cell_type": "code",
   "execution_count": 15,
   "metadata": {},
   "outputs": [],
   "source": [
    "import numpy as np"
   ]
  },
  {
   "cell_type": "code",
   "execution_count": 16,
   "metadata": {},
   "outputs": [
    {
     "name": "stdout",
     "output_type": "stream",
     "text": [
      "[[[0.02       0.002      0.        ]\n",
      "  [0.16714074 0.12461728 0.98111248]\n",
      "  [0.02047046 0.00239205 0.33970698]\n",
      "  [0.06951738 0.04326448 0.66674447]]]\n",
      "(1, 4, 3)\n",
      "[0.05713803 0.03294836 0.50005836 0.16714074 0.12461728 0.98111248]\n"
     ]
    }
   ],
   "source": [
    "case_naming = 'E:/OneDrive - UC San Diego/UCSD/Lab/Catheter/diff_catheter/scripts/test_diff_render_catheter_v2/gt_dataset/gt_4_0.0006_0.0005_0.2_0.01'\n",
    "img_save_path = case_naming + '.png'\n",
    "cc_specs_path = case_naming + '.npy'\n",
    "\n",
    "para_gt_np = np.load(cc_specs_path)\n",
    "\n",
    "print(para_gt_np)\n",
    "print(para_gt_np.shape)\n",
    "\n",
    "matrix = np.squeeze(para_gt_np)\n",
    "\n",
    "# Extract vectors r2 and r4\n",
    "c1 = matrix[2]\n",
    "p_end = matrix[1]\n",
    "\n",
    "# Compute vector r\n",
    "p_mid = 3/4 * (c1 + p_end/3)\n",
    "\n",
    "# Concatenate vectors r and r4 to form a new vector of length 6\n",
    "result_vector = np.concatenate((p_mid, p_end))\n",
    "\n",
    "print(result_vector)\n"
   ]
  },
  {
   "cell_type": "code",
   "execution_count": 17,
   "metadata": {},
   "outputs": [],
   "source": [
    "def read_gt_params(cc_specs_path):\n",
    "    \"\"\"\n",
    "    The order of gt: [p_start, p_end, c1, c2]\n",
    "    \"\"\"\n",
    "    \n",
    "    para_gt_np = np.load(cc_specs_path)\n",
    "    matrix = np.squeeze(para_gt_np)\n",
    "    c1 = matrix[2]\n",
    "    p_end = matrix[1]\n",
    "    p_mid = 3/4 * (c1 + p_end/3)\n",
    "    result_vector = np.concatenate((p_mid, p_end))\n",
    "    return result_vector   "
   ]
  },
  {
   "cell_type": "code",
   "execution_count": 18,
   "metadata": {},
   "outputs": [
    {
     "name": "stdout",
     "output_type": "stream",
     "text": [
      "[[ 0.02        0.002       0.        ]\n",
      " [ 0.02007997  0.00160014  0.1026283 ]\n",
      " [ 0.02973628 -0.04668138  0.19240253]]\n",
      "[ 0.02007997  0.00160014  0.1026283   0.02973628 -0.04668138  0.19240253]\n"
     ]
    }
   ],
   "source": [
    "case_naming = 'E:/OneDrive - UC San Diego/UCSD/Lab/Catheter/diff_catheter/data/rendered_images/dof2_64/dof2_c48_0.001_-0.005_0.2_0.01'\n",
    "img_save_path = case_naming + '.png'\n",
    "cc_specs_path = case_naming + '_gt.npy'\n",
    "para_gt_np = np.load(cc_specs_path)\n",
    "\n",
    "print(para_gt_np)\n",
    "print(para_gt_np[1:3, :].flatten())\n"
   ]
  }
 ],
 "metadata": {
  "kernelspec": {
   "display_name": "catheter",
   "language": "python",
   "name": "python3"
  },
  "language_info": {
   "codemirror_mode": {
    "name": "ipython",
    "version": 3
   },
   "file_extension": ".py",
   "mimetype": "text/x-python",
   "name": "python",
   "nbconvert_exporter": "python",
   "pygments_lexer": "ipython3",
   "version": "3.8.19"
  }
 },
 "nbformat": 4,
 "nbformat_minor": 2
}
