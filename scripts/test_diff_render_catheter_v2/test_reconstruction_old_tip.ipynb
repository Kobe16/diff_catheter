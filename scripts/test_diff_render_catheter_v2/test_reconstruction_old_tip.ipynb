{
 "cells": [
  {
   "cell_type": "markdown",
   "metadata": {},
   "source": [
    "The original version of reconstruction script, from Kobe\n",
    "\n",
    "With tip loss of the original frame, without contour loss of the original frame.\n",
    "\n",
    "Without motion model loss."
   ]
  },
  {
   "cell_type": "code",
   "execution_count": 1,
   "metadata": {},
   "outputs": [
    {
     "name": "stdout",
     "output_type": "stream",
     "text": [
      "Camera Intrinsics:\n",
      "[[883.00220751   0.         320.        ]\n",
      " [  0.         883.00220751 240.        ]\n",
      " [  0.           0.           1.        ]]\n",
      "Camera Extrinsics:\n",
      "[[-1.00000000e+00 -1.22464680e-16  1.49975978e-32  0.00000000e+00]\n",
      " [-1.22464680e-16  1.00000000e+00 -1.22464680e-16  0.00000000e+00]\n",
      " [ 0.00000000e+00 -1.22464680e-16 -1.00000000e+00  0.00000000e+00]\n",
      " [ 0.00000000e+00  0.00000000e+00  0.00000000e+00  1.00000000e+00]]\n"
     ]
    },
    {
     "name": "stderr",
     "output_type": "stream",
     "text": [
      "d:\\Programs\\miniconda3\\envs\\catheter\\lib\\site-packages\\tqdm\\auto.py:21: TqdmWarning: IProgress not found. Please update jupyter and ipywidgets. See https://ipywidgets.readthedocs.io/en/stable/user_install.html\n",
      "  from .autonotebook import tqdm as notebook_tqdm\n"
     ]
    }
   ],
   "source": [
    "'''\n",
    "File used to run optimization on the catheter parameters. \n",
    "Uses Adam optimizer. \n",
    "'''\n",
    "import sys\n",
    "# from turtle import pd\n",
    "\n",
    "sys.path.append('..')\n",
    "\n",
    "# import os\n",
    "import numpy as np\n",
    "\n",
    "# import transforms\n",
    "# import bezier_interspace_transforms\n",
    "# sys.path.insert(1, '/Users/kobeyang/Downloads/Programming/ECESRIP/diff_catheter/scripts')\n",
    "sys.path.insert(1, 'E:/OneDrive - UC San Diego/UCSD/Lab/Catheter/diff_catheter/scripts')\n",
    "# from bezier_set import BezierSet\n",
    "# import camera_settings\n",
    "\n",
    "import torch\n",
    "\n",
    "# import open3d as o3d\n",
    "\n",
    "import cv2\n",
    "import matplotlib.pyplot as plt\n",
    "\n",
    "# import pdb\n",
    "\n",
    "from test_reconst_v2 import ConstructionBezier\n",
    "# from blender_catheter import BlenderRenderCatheter\n",
    "# from diff_render_catheter import DiffRenderCatheter\n",
    "from test_loss_define_v2 import ChamferLossWholeImage, ContourChamferLoss, \\\n",
    "    TipChamferLoss, BoundaryPointChamferLoss, TipDistanceLoss, BoundaryPointDistanceLoss, \\\n",
    "    GenerateRefData\n",
    "\n",
    "# import pytorch3d\n",
    "\n",
    "import torch.nn as nn\n",
    "# import torch.nn.functional as F\n",
    "\n",
    "# import matplotlib.cm as colormap\n",
    "\n",
    "# from tqdm.notebook import tqdm\n",
    "from tqdm.auto import tqdm\n",
    "\n",
    "\n",
    "class CatheterOptimizeModel(nn.Module): \n",
    "    '''\n",
    "    This class is used to optimize the catheter parameters.\n",
    "    '''\n",
    "    def __init__(self, p_start, para_init, image_ref, gpu_or_cpu, img_save_path): \n",
    "        '''\n",
    "        This function initializes the catheter optimization model.\n",
    "\n",
    "        Args:\n",
    "            p_start (tensor): starting point of the catheter\n",
    "            image_ref (numpy array): reference image to compare to\n",
    "            gpu_or_cpu (str): either 'cuda' or 'cpu'\n",
    "        '''\n",
    "        super().__init__()\n",
    "\n",
    "        ###========================================================\n",
    "        ### 1) SETTING UP BEZIER CURVE CONSTRUCTION\n",
    "        ###========================================================\n",
    "        self.build_bezier = ConstructionBezier()\n",
    "        self.build_bezier.to(gpu_or_cpu)\n",
    "        self.build_bezier.loadRawImage(img_save_path)\n",
    "\n",
    "        ###========================================================\n",
    "        ### 2) SETTING UP LOSS FUNCTIONS\n",
    "        ###========================================================\n",
    "        # self.chamfer_loss_whole_image = ChamferLossWholeImage(device=gpu_or_cpu)\n",
    "        # self.chamfer_loss_whole_image.to(gpu_or_cpu)\n",
    "        self.contour_chamfer_loss = ContourChamferLoss(device=gpu_or_cpu)\n",
    "        self.contour_chamfer_loss.to(gpu_or_cpu)\n",
    "        # self.tip_chamfer_loss = TipChamferLoss(device=gpu_or_cpu)\n",
    "        # self.tip_chamfer_loss.to(gpu_or_cpu)\n",
    "        # self.boundary_point_chamfer_loss = BoundaryPointChamferLoss(device=gpu_or_cpu)\n",
    "        # self.boundary_point_chamfer_loss.to(gpu_or_cpu)\n",
    "        self.tip_distance_loss = TipDistanceLoss(device=gpu_or_cpu)\n",
    "        self.tip_distance_loss.to(gpu_or_cpu)\n",
    "        # self.boundary_point_distance_loss = BoundaryPointDistanceLoss(device=gpu_or_cpu)\n",
    "        # self.boundary_point_distance_loss.to(gpu_or_cpu)\n",
    "\n",
    "        # Declare self.tip_euclidean_distance_loss as a variable that'll hold a single numpy scalar value\n",
    "        self.tip_euclidean_distance_loss = None\n",
    "\n",
    "\n",
    "        ###========================================================\n",
    "        ### 3) SETTING UP CURVE PARAMETERS\n",
    "        ###========================================================\n",
    "\n",
    "        # Straight Line for initial parameters\n",
    "        # self.para_init = nn.Parameter(torch.from_numpy(\n",
    "        #     np.array([0.02, 0.002, 0.0, 0.01958988, 0.00195899, 0.09690406, -0.03142905, -0.0031429, 0.18200866],\n",
    "        #              dtype=np.float32)).to(gpu_or_cpu),\n",
    "        #                               requires_grad=True)\n",
    "\n",
    "        self.p_start = p_start.to(gpu_or_cpu).detach()\n",
    "\n",
    "        # self.para_init = nn.Parameter(torch.from_numpy(\n",
    "        #     np.array([0.0365, 0.0036,  0.1202,  0.0056, -0.0166, 0.1645],\n",
    "        #              dtype=np.float32)).to(gpu_or_cpu),\n",
    "        #                               requires_grad=True)\n",
    "        self.para_init = nn.Parameter(torch.from_numpy(para_init).to(gpu_or_cpu),\n",
    "                                      requires_grad=True)\n",
    "\n",
    "        \n",
    "\n",
    "        image_ref = torch.from_numpy(image_ref.astype(np.float32))\n",
    "        self.register_buffer('image_ref', image_ref)\n",
    "        \n",
    "        # Generate reference data, so you don't need to generate it in every forward pass\n",
    "        self.generate_ref_data = GenerateRefData(self.image_ref)\n",
    "        ref_catheter_contour = self.generate_ref_data.get_raw_contour()\n",
    "        self.register_buffer('ref_catheter_contour', ref_catheter_contour)\n",
    "        ref_catheter_centerline = self.generate_ref_data.get_raw_centerline()\n",
    "        self.register_buffer('ref_catheter_centerline', ref_catheter_centerline)\n",
    "        \n",
    "        self.gpu_or_cpu = gpu_or_cpu\n",
    "\n",
    "\n",
    "\n",
    "\n",
    "    def forward(self, save_img_path): \n",
    "        '''\n",
    "        Function to run forward pass of the catheter optimization model.\n",
    "        Creates catheter model, gets projection onto 2d image, and calculates loss.\n",
    "\n",
    "        Args:\n",
    "            save_img_path (str): path to save the projection image to\n",
    "        '''\n",
    "\n",
    "        # # Get 2d center line from reference image (using skeletonization)\n",
    "        # centerline_ref = self.centerline_loss.get_raw_centerline(self.image_ref)\n",
    "        # print(\"centerline_ref shape: \", centerline_ref.shape)\n",
    "        # print(\"centerline_ref: \", centerline_ref)\n",
    "        \n",
    "        # # Plot the points in centerline_ref \n",
    "        # fig1, ax1 = plt.subplots()\n",
    "        # ax1.plot(centerline_ref[:, 1], centerline_ref[:, 0])\n",
    "        # ax1.set_title('centerline_ref')\n",
    "        # ax1.set_xlim([0, 640])\n",
    "        # ax1.set_ylim([480, 0])\n",
    "        # plt.show()\n",
    "\n",
    "        ###========================================================\n",
    "        ### 1) RUNNING BEZIER CURVE CONSTRUCTION\n",
    "        ###========================================================\n",
    "        # Generate the Bezier curve cylinder mesh points\n",
    "        self.build_bezier.getBezierCurveCylinder(self.p_start, self.para_init)\n",
    "\n",
    "        # cylinder_mesh_points = self.build_bezier.cylinder_mesh_points\n",
    "        # print(\"cylinder_mesh_points max value: \", torch.max(cylinder_mesh_points))\n",
    "\n",
    "        # TEST LOSS TO SEE IF DIFFERENTIABLE UP TILL THIS POINT\n",
    "        # find average distance of all the points in cylinder_mesh_points to (0, 0, 0)\n",
    "        # loss = torch.mean(torch.norm(cylinder_mesh_points, dim=1))\n",
    "\n",
    "        # Plot 3D Bezier Cylinder mesh points\n",
    "        # self.build_bezier.plot3dBezierCylinder()\n",
    "\n",
    "        # Get 2d projected Bezier Cylinder mesh points\n",
    "        self.build_bezier.getCylinderMeshProjImg()\n",
    "\n",
    "\n",
    "        # TEST LOSS TO SEE IF DIFFERENTIABLE UP TILL THIS POINT\n",
    "        # find average distance of all the points in cylinder_mesh_points to (0, 0)\n",
    "        # bezier_proj_img = self.build_bezier.bezier_proj_img\n",
    "        # print(\"bezier_proj_img:\" , bezier_proj_img)\n",
    "        # print(\"Max value in bezier_proj_img: \", torch.max(bezier_proj_img))\n",
    "        # print(\"average value in bezier_proj_img\", torch.mean(bezier_proj_img))\n",
    "        # loss = torch.mean(torch.norm(bezier_proj_img, dim=1))\n",
    "\n",
    "        # Get 2d projected Bezier centerline (position) points\n",
    "        self.build_bezier.getBezierProjImg()\n",
    "\n",
    "        # TEST LOSS TO SEE IF DIFFERENTIABLE UP TILL THIS POINT\n",
    "        # find average distance of all points in bezier_proj_centerline_img to (0, 0)\n",
    "        # bezier_proj_centerline_img = self.build_bezier.bezier_proj_centerline_img\n",
    "        # loss = torch.mean(torch.norm(bezier_proj_centerline_img, dim=1))\n",
    "\n",
    "        # Plot 2D projected Bezier Cylinder mesh points\n",
    "        # print(\"cylinder_mesh_points: \", self.build_bezier.cylinder_mesh_points)\n",
    "        self.build_bezier.draw2DCylinderImage(self.image_ref, save_img_path)\n",
    "\n",
    "        # TODO: add function to save image to file\n",
    "\n",
    "        ###========================================================\n",
    "        ### 4) Compute Loss using various Loss Functions\n",
    "        ###========================================================\n",
    "        # loss_whole_image = self.chamfer_loss_whole_image(self.build_bezier.bezier_proj_img, self.image_ref)\n",
    "        # loss_contour = self.contour_chamfer_loss(self.build_bezier.bezier_proj_img, self.image_ref)\n",
    "        # loss_tip = self.tip_chamfer_loss(self.build_bezier.bezier_proj_img, self.image_ref)\n",
    "        # loss_boundary = self.boundary_point_chamfer_loss(self.build_bezier.bezier_proj_img, self.image_ref)\n",
    "        # loss_tip_distance, self.tip_euclidean_distance_loss = self.tip_distance_loss(self.build_bezier.bezier_proj_centerline_img, self.image_ref)\n",
    "        # loss_boundary_point_distance_loss = self.boundary_point_distance_loss(self.build_bezier.bezier_proj_img, self.image_ref)\n",
    "\n",
    "        # loss_whole_image = self.chamfer_loss_whole_image(self.build_bezier.bezier_proj_img, self.image_ref)\n",
    "        loss_contour = self.contour_chamfer_loss(self.build_bezier.bezier_proj_img.to(self.gpu_or_cpu), self.ref_catheter_contour.to(gpu_or_cpu))\n",
    "        # loss_tip = self.tip_chamfer_loss(self.build_bezier.bezier_proj_img, self.ref_catheter_centerline)\n",
    "        # loss_boundary = self.boundary_point_chamfer_loss(self.build_bezier.bezier_proj_img, self.ref_catheter_centerline)\n",
    "        loss_tip_distance, self.tip_euclidean_distance_loss = self.tip_distance_loss(self.build_bezier.bezier_proj_centerline_img.to(gpu_or_cpu), self.ref_catheter_centerline.to(gpu_or_cpu))\n",
    "        # loss_boundary_point_distance_loss = self.boundary_point_distance_loss(self.build_bezier.bezier_proj_img, self.ref_catheter_centerline)\n",
    "\n",
    "\n",
    "        weight = torch.tensor([1.0, 1.0])\n",
    "        # loss = loss_contour * weight[0] + loss_tip_distance * weight[1]\n",
    "        loss = loss_tip_distance * weight[1]\n",
    "\n",
    "\n",
    "        print(\"-----------------------------------------------------------------\")\n",
    "        print(\"loss_contour: \", loss_contour)\n",
    "        # print(\"loss_tip: \", loss_tip)\n",
    "        # print(\"loss_boundary: \", loss_boundary)\n",
    "        print(\"loss_tip_distance: \", loss_tip_distance)\n",
    "        # print(\"loss_boundary_point_distance_loss: \", loss_boundary_point_distance_loss)\n",
    "        print(\"loss: \", loss)\n",
    "        print(\"-----------------------------------------------------------------\")\n",
    "\n",
    "\n",
    "        # TODO: Plot the loss\n",
    "\n",
    "        return loss\n",
    "\n",
    "\n",
    "\n",
    "\n"
   ]
  },
  {
   "cell_type": "code",
   "execution_count": 2,
   "metadata": {},
   "outputs": [],
   "source": [
    "def read_gt_params(cc_specs_path):\n",
    "    \"\"\"\n",
    "    The order of gt: [p_start, p_end, c1, c2]\n",
    "    \"\"\"\n",
    "    \n",
    "    para_gt_np = np.load(cc_specs_path)\n",
    "    matrix = np.squeeze(para_gt_np)\n",
    "    c1 = matrix[2]\n",
    "    c2 = matrix[3]\n",
    "    p_start = matrix[0]\n",
    "    p_end = matrix[1]\n",
    "    p_mid = 3/4 * (c1 + p_end/3)\n",
    "    p1 = 2*p_mid - 0.5*p_start - 0.5*p_end\n",
    "    result_vector = np.concatenate((p1, p_end))\n",
    "    return result_vector "
   ]
  },
  {
   "cell_type": "code",
   "execution_count": 3,
   "metadata": {},
   "outputs": [],
   "source": [
    "def process_image(img_save_path):\n",
    "    img_ref_rgb = cv2.imread(img_save_path)\n",
    "    img_ref_gray = cv2.cvtColor(img_ref_rgb, cv2.COLOR_BGR2GRAY)\n",
    "    (thresh, img_ref_thresh) = cv2.threshold(img_ref_gray, 10, 255, cv2.THRESH_BINARY)\n",
    "    img_ref_binary = np.where(img_ref_thresh == 255, 1, img_ref_thresh)\n",
    "    \n",
    "    return img_ref_binary"
   ]
  },
  {
   "cell_type": "code",
   "execution_count": 4,
   "metadata": {},
   "outputs": [
    {
     "name": "stdout",
     "output_type": "stream",
     "text": [
      "Model Parameters:\n",
      "para_init: requires_grad=True\n"
     ]
    },
    {
     "name": "stderr",
     "output_type": "stream",
     "text": [
      "  0%|          | 0/100 [00:00<?, ?it/s]"
     ]
    },
    {
     "name": "stdout",
     "output_type": "stream",
     "text": [
      "\n",
      "================================================================================================================\n",
      "loop_id:  0\n"
     ]
    },
    {
     "name": "stderr",
     "output_type": "stream",
     "text": [
      "Optimizing:   1%|          | 1/100 [00:00<01:02,  1.59it/s, loss=6.17e+4]"
     ]
    },
    {
     "name": "stdout",
     "output_type": "stream",
     "text": [
      "-----------------------------------------------------------------\n",
      "loss_contour:  tensor(69079267.4932, device='cuda:0', dtype=torch.float64,\n",
      "       grad_fn=<AddBackward0>)\n",
      "loss_tip_distance:  tensor(61674.5805, device='cuda:0', dtype=torch.float64,\n",
      "       grad_fn=<MeanBackward0>)\n",
      "loss:  tensor(61674.5805, device='cuda:0', dtype=torch.float64,\n",
      "       grad_fn=<MulBackward0>)\n",
      "-----------------------------------------------------------------\n",
      "Gradients BEFORE BACKWARD PASS:\n",
      "para_init: No gradient computed\n",
      "Gradients AFTER BACKWARD PASS:\n",
      "Parameter: para_init, Gradient: 630522.5625\n",
      "Parameter: para_init, Updated Value: tensor([ 0.0340, -0.0100,  0.5360,  0.1900, -0.3600,  0.6100], device='cuda:0')\n",
      "Loss:  61674.58048279031\n",
      "\n",
      "================================================================================================================\n",
      "loop_id:  1\n"
     ]
    },
    {
     "name": "stderr",
     "output_type": "stream",
     "text": [
      "Optimizing:   2%|▏         | 2/100 [00:01<00:53,  1.83it/s, loss=5.19e+4]"
     ]
    },
    {
     "name": "stdout",
     "output_type": "stream",
     "text": [
      "-----------------------------------------------------------------\n",
      "loss_contour:  tensor(79397079.9778, device='cuda:0', dtype=torch.float64,\n",
      "       grad_fn=<AddBackward0>)\n",
      "loss_tip_distance:  tensor(51882.6777, device='cuda:0', dtype=torch.float64,\n",
      "       grad_fn=<MeanBackward0>)\n",
      "loss:  tensor(51882.6777, device='cuda:0', dtype=torch.float64,\n",
      "       grad_fn=<MulBackward0>)\n",
      "-----------------------------------------------------------------\n",
      "Gradients BEFORE BACKWARD PASS:\n",
      "para_init: No gradient computed\n",
      "Gradients AFTER BACKWARD PASS:\n",
      "Parameter: para_init, Gradient: 559769.5\n",
      "Parameter: para_init, Updated Value: tensor([ 0.0340, -0.0100,  0.5360,  0.1801, -0.3500,  0.6199], device='cuda:0')\n",
      "Loss:  51882.677745369176\n",
      "\n",
      "================================================================================================================\n",
      "loop_id:  2\n"
     ]
    },
    {
     "name": "stderr",
     "output_type": "stream",
     "text": [
      "Optimizing:   3%|▎         | 3/100 [00:01<00:54,  1.77it/s, loss=4.33e+4]"
     ]
    },
    {
     "name": "stdout",
     "output_type": "stream",
     "text": [
      "-----------------------------------------------------------------\n",
      "loss_contour:  tensor(1.6986e+08, device='cuda:0', dtype=torch.float64,\n",
      "       grad_fn=<AddBackward0>)\n",
      "loss_tip_distance:  tensor(43325.6750, device='cuda:0', dtype=torch.float64,\n",
      "       grad_fn=<MeanBackward0>)\n",
      "loss:  tensor(43325.6750, device='cuda:0', dtype=torch.float64,\n",
      "       grad_fn=<MulBackward0>)\n",
      "-----------------------------------------------------------------\n",
      "Gradients BEFORE BACKWARD PASS:\n",
      "para_init: No gradient computed\n",
      "Gradients AFTER BACKWARD PASS:\n",
      "Parameter: para_init, Gradient: 495710.8125\n",
      "Parameter: para_init, Updated Value: tensor([ 0.0340, -0.0100,  0.5360,  0.1703, -0.3401,  0.6297], device='cuda:0')\n",
      "Loss:  43325.67496529722\n",
      "\n",
      "================================================================================================================\n",
      "loop_id:  3\n"
     ]
    },
    {
     "name": "stderr",
     "output_type": "stream",
     "text": [
      "Optimizing:   4%|▍         | 4/100 [00:02<00:50,  1.91it/s, loss=3.59e+4]"
     ]
    },
    {
     "name": "stdout",
     "output_type": "stream",
     "text": [
      "-----------------------------------------------------------------\n",
      "loss_contour:  tensor(88860850.9978, device='cuda:0', dtype=torch.float64,\n",
      "       grad_fn=<AddBackward0>)\n",
      "loss_tip_distance:  tensor(35914.3877, device='cuda:0', dtype=torch.float64,\n",
      "       grad_fn=<MeanBackward0>)\n",
      "loss:  tensor(35914.3877, device='cuda:0', dtype=torch.float64,\n",
      "       grad_fn=<MulBackward0>)\n",
      "-----------------------------------------------------------------\n",
      "Gradients BEFORE BACKWARD PASS:\n",
      "para_init: No gradient computed\n",
      "Gradients AFTER BACKWARD PASS:\n",
      "Parameter: para_init, Gradient: 437903.53125\n",
      "Parameter: para_init, Updated Value: tensor([ 0.0340, -0.0100,  0.5360,  0.1607, -0.3303,  0.6394], device='cuda:0')\n",
      "Loss:  35914.38773609605\n",
      "\n",
      "================================================================================================================\n",
      "loop_id:  4\n"
     ]
    },
    {
     "name": "stderr",
     "output_type": "stream",
     "text": [
      "Optimizing:   5%|▌         | 5/100 [00:02<00:48,  1.97it/s, loss=2.96e+4]"
     ]
    },
    {
     "name": "stdout",
     "output_type": "stream",
     "text": [
      "-----------------------------------------------------------------\n",
      "loss_contour:  tensor(2.2656e+08, device='cuda:0', dtype=torch.float64,\n",
      "       grad_fn=<AddBackward0>)\n",
      "loss_tip_distance:  tensor(29556.2749, device='cuda:0', dtype=torch.float64,\n",
      "       grad_fn=<MeanBackward0>)\n",
      "loss:  tensor(29556.2749, device='cuda:0', dtype=torch.float64,\n",
      "       grad_fn=<MulBackward0>)\n",
      "-----------------------------------------------------------------\n",
      "Gradients BEFORE BACKWARD PASS:\n",
      "para_init: No gradient computed\n",
      "Gradients AFTER BACKWARD PASS:\n",
      "Parameter: para_init, Gradient: 385923.625\n",
      "Parameter: para_init, Updated Value: tensor([ 0.0340, -0.0100,  0.5360,  0.1514, -0.3206,  0.6488], device='cuda:0')\n",
      "Loss:  29556.274888429823\n",
      "\n",
      "================================================================================================================\n",
      "loop_id:  5\n"
     ]
    },
    {
     "name": "stderr",
     "output_type": "stream",
     "text": [
      "Optimizing:   6%|▌         | 6/100 [00:03<00:46,  2.04it/s, loss=2.42e+4]"
     ]
    },
    {
     "name": "stdout",
     "output_type": "stream",
     "text": [
      "-----------------------------------------------------------------\n",
      "loss_contour:  tensor(97976024.6328, device='cuda:0', dtype=torch.float64,\n",
      "       grad_fn=<AddBackward0>)\n",
      "loss_tip_distance:  tensor(24156.3683, device='cuda:0', dtype=torch.float64,\n",
      "       grad_fn=<MeanBackward0>)\n",
      "loss:  tensor(24156.3683, device='cuda:0', dtype=torch.float64,\n",
      "       grad_fn=<MulBackward0>)\n",
      "-----------------------------------------------------------------\n",
      "Gradients BEFORE BACKWARD PASS:\n",
      "para_init: No gradient computed\n",
      "Gradients AFTER BACKWARD PASS:\n",
      "Parameter: para_init, Gradient: 339367.1875\n",
      "Parameter: para_init, Updated Value: tensor([ 0.0340, -0.0100,  0.5360,  0.1425, -0.3110,  0.6580], device='cuda:0')\n",
      "Loss:  24156.368262485572\n",
      "\n",
      "================================================================================================================\n",
      "loop_id:  6\n"
     ]
    },
    {
     "name": "stderr",
     "output_type": "stream",
     "text": [
      "Optimizing:   7%|▋         | 7/100 [00:03<00:45,  2.06it/s, loss=1.96e+4]"
     ]
    },
    {
     "name": "stdout",
     "output_type": "stream",
     "text": [
      "-----------------------------------------------------------------\n",
      "loss_contour:  tensor(71376170.0363, device='cuda:0', dtype=torch.float64,\n",
      "       grad_fn=<AddBackward0>)\n",
      "loss_tip_distance:  tensor(19618.3747, device='cuda:0', dtype=torch.float64,\n",
      "       grad_fn=<MeanBackward0>)\n",
      "loss:  tensor(19618.3747, device='cuda:0', dtype=torch.float64,\n",
      "       grad_fn=<MulBackward0>)\n",
      "-----------------------------------------------------------------\n",
      "Gradients BEFORE BACKWARD PASS:\n",
      "para_init: No gradient computed\n",
      "Gradients AFTER BACKWARD PASS:\n",
      "Parameter: para_init, Gradient: 297850.5\n",
      "Parameter: para_init, Updated Value: tensor([ 0.0340, -0.0100,  0.5360,  0.1341, -0.3016,  0.6669], device='cuda:0')\n",
      "Loss:  19618.374689329536\n",
      "\n",
      "================================================================================================================\n",
      "loop_id:  7\n"
     ]
    },
    {
     "name": "stderr",
     "output_type": "stream",
     "text": [
      "Optimizing:   8%|▊         | 8/100 [00:04<00:44,  2.06it/s, loss=1.58e+4]"
     ]
    },
    {
     "name": "stdout",
     "output_type": "stream",
     "text": [
      "-----------------------------------------------------------------\n",
      "loss_contour:  tensor(94545778.0084, device='cuda:0', dtype=torch.float64,\n",
      "       grad_fn=<AddBackward0>)\n",
      "loss_tip_distance:  tensor(15845.7322, device='cuda:0', dtype=torch.float64,\n",
      "       grad_fn=<MeanBackward0>)\n",
      "loss:  tensor(15845.7322, device='cuda:0', dtype=torch.float64,\n",
      "       grad_fn=<MulBackward0>)\n",
      "-----------------------------------------------------------------\n",
      "Gradients BEFORE BACKWARD PASS:\n",
      "para_init: No gradient computed\n",
      "Gradients AFTER BACKWARD PASS:\n",
      "Parameter: para_init, Gradient: 261006.234375\n",
      "Parameter: para_init, Updated Value: tensor([ 0.0340, -0.0100,  0.5360,  0.1263, -0.2924,  0.6755], device='cuda:0')\n",
      "Loss:  15845.732151958335\n",
      "\n",
      "================================================================================================================\n",
      "loop_id:  8\n"
     ]
    },
    {
     "name": "stderr",
     "output_type": "stream",
     "text": [
      "Optimizing:   9%|▉         | 9/100 [00:04<00:44,  2.05it/s, loss=1.27e+4]"
     ]
    },
    {
     "name": "stdout",
     "output_type": "stream",
     "text": [
      "-----------------------------------------------------------------\n",
      "loss_contour:  tensor(84453002.1669, device='cuda:0', dtype=torch.float64,\n",
      "       grad_fn=<AddBackward0>)\n",
      "loss_tip_distance:  tensor(12742.9848, device='cuda:0', dtype=torch.float64,\n",
      "       grad_fn=<MeanBackward0>)\n",
      "loss:  tensor(12742.9848, device='cuda:0', dtype=torch.float64,\n",
      "       grad_fn=<MulBackward0>)\n",
      "-----------------------------------------------------------------\n",
      "Gradients BEFORE BACKWARD PASS:\n",
      "para_init: No gradient computed\n",
      "Gradients AFTER BACKWARD PASS:\n",
      "Parameter: para_init, Gradient: 228478.796875\n",
      "Parameter: para_init, Updated Value: tensor([ 0.0340, -0.0100,  0.5360,  0.1191, -0.2833,  0.6837], device='cuda:0')\n",
      "Loss:  12742.984764255525\n",
      "\n",
      "================================================================================================================\n",
      "loop_id:  9\n"
     ]
    },
    {
     "name": "stderr",
     "output_type": "stream",
     "text": [
      "Optimizing:  10%|█         | 10/100 [00:05<00:43,  2.05it/s, loss=1.02e+4]"
     ]
    },
    {
     "name": "stdout",
     "output_type": "stream",
     "text": [
      "-----------------------------------------------------------------\n",
      "loss_contour:  tensor(76059325.2859, device='cuda:0', dtype=torch.float64,\n",
      "       grad_fn=<AddBackward0>)\n",
      "loss_tip_distance:  tensor(10217.3749, device='cuda:0', dtype=torch.float64,\n",
      "       grad_fn=<MeanBackward0>)\n",
      "loss:  tensor(10217.3749, device='cuda:0', dtype=torch.float64,\n",
      "       grad_fn=<MulBackward0>)\n",
      "-----------------------------------------------------------------\n",
      "Gradients BEFORE BACKWARD PASS:\n",
      "para_init: No gradient computed\n",
      "Gradients AFTER BACKWARD PASS:\n",
      "Parameter: para_init, Gradient: 199918.9375\n",
      "Parameter: para_init, Updated Value: tensor([ 0.0340, -0.0100,  0.5360,  0.1127, -0.2746,  0.6915], device='cuda:0')\n",
      "Loss:  10217.374874032266\n",
      "\n",
      "================================================================================================================\n",
      "loop_id:  10\n"
     ]
    },
    {
     "name": "stderr",
     "output_type": "stream",
     "text": [
      "Optimizing:  11%|█         | 11/100 [00:05<00:43,  2.03it/s, loss=8.18e+3]"
     ]
    },
    {
     "name": "stdout",
     "output_type": "stream",
     "text": [
      "-----------------------------------------------------------------\n",
      "loss_contour:  tensor(80898313.1365, device='cuda:0', dtype=torch.float64,\n",
      "       grad_fn=<AddBackward0>)\n",
      "loss_tip_distance:  tensor(8180.6101, device='cuda:0', dtype=torch.float64,\n",
      "       grad_fn=<MeanBackward0>)\n",
      "loss:  tensor(8180.6101, device='cuda:0', dtype=torch.float64, grad_fn=<MulBackward0>)\n",
      "-----------------------------------------------------------------\n",
      "Gradients BEFORE BACKWARD PASS:\n",
      "para_init: No gradient computed\n",
      "Gradients AFTER BACKWARD PASS:\n",
      "Parameter: para_init, Gradient: 174978.875\n",
      "Parameter: para_init, Updated Value: tensor([ 0.0340, -0.0100,  0.5360,  0.1071, -0.2660,  0.6990], device='cuda:0')\n",
      "Loss:  8180.610149660002\n",
      "\n",
      "================================================================================================================\n",
      "loop_id:  11\n"
     ]
    },
    {
     "name": "stderr",
     "output_type": "stream",
     "text": [
      "Optimizing:  12%|█▏        | 12/100 [00:06<00:46,  1.89it/s, loss=6.55e+3]"
     ]
    },
    {
     "name": "stdout",
     "output_type": "stream",
     "text": [
      "-----------------------------------------------------------------\n",
      "loss_contour:  tensor(66733084.9813, device='cuda:0', dtype=torch.float64,\n",
      "       grad_fn=<AddBackward0>)\n",
      "loss_tip_distance:  tensor(6550.7120, device='cuda:0', dtype=torch.float64,\n",
      "       grad_fn=<MeanBackward0>)\n",
      "loss:  tensor(6550.7120, device='cuda:0', dtype=torch.float64, grad_fn=<MulBackward0>)\n",
      "-----------------------------------------------------------------\n",
      "Gradients BEFORE BACKWARD PASS:\n",
      "para_init: No gradient computed\n",
      "Gradients AFTER BACKWARD PASS:\n",
      "Parameter: para_init, Gradient: 153309.796875\n",
      "Parameter: para_init, Updated Value: tensor([ 0.0340, -0.0100,  0.5360,  0.1024, -0.2578,  0.7060], device='cuda:0')\n",
      "Loss:  6550.712012336788\n",
      "\n",
      "================================================================================================================\n",
      "loop_id:  12\n"
     ]
    },
    {
     "name": "stderr",
     "output_type": "stream",
     "text": [
      "Optimizing:  13%|█▎        | 13/100 [00:06<00:46,  1.85it/s, loss=5.25e+3]"
     ]
    },
    {
     "name": "stdout",
     "output_type": "stream",
     "text": [
      "-----------------------------------------------------------------\n",
      "loss_contour:  tensor(3.0427e+08, device='cuda:0', dtype=torch.float64,\n",
      "       grad_fn=<AddBackward0>)\n",
      "loss_tip_distance:  tensor(5253.6402, device='cuda:0', dtype=torch.float64,\n",
      "       grad_fn=<MeanBackward0>)\n",
      "loss:  tensor(5253.6402, device='cuda:0', dtype=torch.float64, grad_fn=<MulBackward0>)\n",
      "-----------------------------------------------------------------\n",
      "Gradients BEFORE BACKWARD PASS:\n",
      "para_init: No gradient computed\n",
      "Gradients AFTER BACKWARD PASS:\n",
      "Parameter: para_init, Gradient: 134562.390625\n",
      "Parameter: para_init, Updated Value: tensor([ 0.0340, -0.0100,  0.5360,  0.0986, -0.2498,  0.7126], device='cuda:0')\n",
      "Loss:  5253.640185529142\n",
      "\n",
      "================================================================================================================\n",
      "loop_id:  13\n"
     ]
    },
    {
     "name": "stderr",
     "output_type": "stream",
     "text": [
      "Optimizing:  14%|█▍        | 14/100 [00:07<00:45,  1.89it/s, loss=4.22e+3]"
     ]
    },
    {
     "name": "stdout",
     "output_type": "stream",
     "text": [
      "-----------------------------------------------------------------\n",
      "loss_contour:  tensor(76482338.0313, device='cuda:0', dtype=torch.float64,\n",
      "       grad_fn=<AddBackward0>)\n",
      "loss_tip_distance:  tensor(4224.5287, device='cuda:0', dtype=torch.float64,\n",
      "       grad_fn=<MeanBackward0>)\n",
      "loss:  tensor(4224.5287, device='cuda:0', dtype=torch.float64, grad_fn=<MulBackward0>)\n",
      "-----------------------------------------------------------------\n",
      "Gradients BEFORE BACKWARD PASS:\n",
      "para_init: No gradient computed\n",
      "Gradients AFTER BACKWARD PASS:\n",
      "Parameter: para_init, Gradient: 118391.9375\n",
      "Parameter: para_init, Updated Value: tensor([ 0.0340, -0.0100,  0.5360,  0.0956, -0.2422,  0.7188], device='cuda:0')\n",
      "Loss:  4224.5287436633225\n",
      "\n",
      "================================================================================================================\n",
      "loop_id:  14\n"
     ]
    },
    {
     "name": "stderr",
     "output_type": "stream",
     "text": [
      "Optimizing:  15%|█▌        | 15/100 [00:07<00:46,  1.82it/s, loss=3.41e+3]"
     ]
    },
    {
     "name": "stdout",
     "output_type": "stream",
     "text": [
      "-----------------------------------------------------------------\n",
      "loss_contour:  tensor(75068939.6704, device='cuda:0', dtype=torch.float64,\n",
      "       grad_fn=<AddBackward0>)\n",
      "loss_tip_distance:  tensor(3408.2487, device='cuda:0', dtype=torch.float64,\n",
      "       grad_fn=<MeanBackward0>)\n",
      "loss:  tensor(3408.2487, device='cuda:0', dtype=torch.float64, grad_fn=<MulBackward0>)\n",
      "-----------------------------------------------------------------\n",
      "Gradients BEFORE BACKWARD PASS:\n",
      "para_init: No gradient computed\n",
      "Gradients AFTER BACKWARD PASS:\n",
      "Parameter: para_init, Gradient: 104465.328125\n",
      "Parameter: para_init, Updated Value: tensor([ 0.0340, -0.0100,  0.5360,  0.0936, -0.2349,  0.7246], device='cuda:0')\n",
      "Loss:  3408.2487381634924\n",
      "\n",
      "================================================================================================================\n",
      "loop_id:  15\n"
     ]
    },
    {
     "name": "stderr",
     "output_type": "stream",
     "text": [
      "Optimizing:  16%|█▌        | 16/100 [00:08<00:44,  1.87it/s, loss=2.76e+3]"
     ]
    },
    {
     "name": "stdout",
     "output_type": "stream",
     "text": [
      "-----------------------------------------------------------------\n",
      "loss_contour:  tensor(51363065.9039, device='cuda:0', dtype=torch.float64,\n",
      "       grad_fn=<AddBackward0>)\n",
      "loss_tip_distance:  tensor(2759.3392, device='cuda:0', dtype=torch.float64,\n",
      "       grad_fn=<MeanBackward0>)\n",
      "loss:  tensor(2759.3392, device='cuda:0', dtype=torch.float64, grad_fn=<MulBackward0>)\n",
      "-----------------------------------------------------------------\n",
      "Gradients BEFORE BACKWARD PASS:\n",
      "para_init: No gradient computed\n",
      "Gradients AFTER BACKWARD PASS:\n",
      "Parameter: para_init, Gradient: 92469.9765625\n",
      "Parameter: para_init, Updated Value: tensor([ 0.0340, -0.0100,  0.5360,  0.0924, -0.2280,  0.7300], device='cuda:0')\n",
      "Loss:  2759.3392020060182\n",
      "\n",
      "================================================================================================================\n",
      "loop_id:  16\n"
     ]
    },
    {
     "name": "stderr",
     "output_type": "stream",
     "text": [
      "Optimizing:  17%|█▋        | 17/100 [00:08<00:43,  1.90it/s, loss=2.24e+3]"
     ]
    },
    {
     "name": "stdout",
     "output_type": "stream",
     "text": [
      "-----------------------------------------------------------------\n",
      "loss_contour:  tensor(66911756.8686, device='cuda:0', dtype=torch.float64,\n",
      "       grad_fn=<AddBackward0>)\n",
      "loss_tip_distance:  tensor(2241.3456, device='cuda:0', dtype=torch.float64,\n",
      "       grad_fn=<MeanBackward0>)\n",
      "loss:  tensor(2241.3456, device='cuda:0', dtype=torch.float64, grad_fn=<MulBackward0>)\n",
      "-----------------------------------------------------------------\n",
      "Gradients BEFORE BACKWARD PASS:\n",
      "para_init: No gradient computed\n",
      "Gradients AFTER BACKWARD PASS:\n",
      "Parameter: para_init, Gradient: 82122.1640625\n",
      "Parameter: para_init, Updated Value: tensor([ 0.0340, -0.0100,  0.5360,  0.0920, -0.2214,  0.7350], device='cuda:0')\n",
      "Loss:  2241.3455652328394\n",
      "\n",
      "================================================================================================================\n",
      "loop_id:  17\n"
     ]
    },
    {
     "name": "stderr",
     "output_type": "stream",
     "text": [
      "Optimizing:  18%|█▊        | 18/100 [00:09<00:43,  1.90it/s, loss=1.83e+3]"
     ]
    },
    {
     "name": "stdout",
     "output_type": "stream",
     "text": [
      "-----------------------------------------------------------------\n",
      "loss_contour:  tensor(1.0323e+08, device='cuda:0', dtype=torch.float64,\n",
      "       grad_fn=<AddBackward0>)\n",
      "loss_tip_distance:  tensor(1825.7518, device='cuda:0', dtype=torch.float64,\n",
      "       grad_fn=<MeanBackward0>)\n",
      "loss:  tensor(1825.7518, device='cuda:0', dtype=torch.float64, grad_fn=<MulBackward0>)\n",
      "-----------------------------------------------------------------\n",
      "Gradients BEFORE BACKWARD PASS:\n",
      "para_init: No gradient computed\n",
      "Gradients AFTER BACKWARD PASS:\n",
      "Parameter: para_init, Gradient: 73173.5546875\n",
      "Parameter: para_init, Updated Value: tensor([ 0.0340, -0.0100,  0.5360,  0.0923, -0.2152,  0.7396], device='cuda:0')\n",
      "Loss:  1825.7517684991744\n",
      "\n",
      "================================================================================================================\n",
      "loop_id:  18\n"
     ]
    },
    {
     "name": "stderr",
     "output_type": "stream",
     "text": [
      "Optimizing:  19%|█▉        | 19/100 [00:09<00:42,  1.92it/s, loss=1.49e+3]"
     ]
    },
    {
     "name": "stdout",
     "output_type": "stream",
     "text": [
      "-----------------------------------------------------------------\n",
      "loss_contour:  tensor(1.1513e+08, device='cuda:0', dtype=torch.float64,\n",
      "       grad_fn=<AddBackward0>)\n",
      "loss_tip_distance:  tensor(1490.7323, device='cuda:0', dtype=torch.float64,\n",
      "       grad_fn=<MeanBackward0>)\n",
      "loss:  tensor(1490.7323, device='cuda:0', dtype=torch.float64, grad_fn=<MulBackward0>)\n",
      "-----------------------------------------------------------------\n",
      "Gradients BEFORE BACKWARD PASS:\n",
      "para_init: No gradient computed\n",
      "Gradients AFTER BACKWARD PASS:\n",
      "Parameter: para_init, Gradient: 65415.625\n",
      "Parameter: para_init, Updated Value: tensor([ 0.0340, -0.0100,  0.5360,  0.0933, -0.2094,  0.7438], device='cuda:0')\n",
      "Loss:  1490.7322512814726\n",
      "\n",
      "================================================================================================================\n",
      "loop_id:  19\n"
     ]
    },
    {
     "name": "stderr",
     "output_type": "stream",
     "text": [
      "Optimizing:  20%|██        | 20/100 [00:10<00:41,  1.93it/s, loss=1.22e+3]"
     ]
    },
    {
     "name": "stdout",
     "output_type": "stream",
     "text": [
      "-----------------------------------------------------------------\n",
      "loss_contour:  tensor(48790952.8927, device='cuda:0', dtype=torch.float64,\n",
      "       grad_fn=<AddBackward0>)\n",
      "loss_tip_distance:  tensor(1219.8662, device='cuda:0', dtype=torch.float64,\n",
      "       grad_fn=<MeanBackward0>)\n",
      "loss:  tensor(1219.8662, device='cuda:0', dtype=torch.float64, grad_fn=<MulBackward0>)\n",
      "-----------------------------------------------------------------\n",
      "Gradients BEFORE BACKWARD PASS:\n",
      "para_init: No gradient computed\n",
      "Gradients AFTER BACKWARD PASS:\n",
      "Parameter: para_init, Gradient: 58681.375\n",
      "Parameter: para_init, Updated Value: tensor([ 0.0340, -0.0100,  0.5360,  0.0948, -0.2039,  0.7476], device='cuda:0')\n",
      "Loss:  1219.8661582034329\n",
      "\n",
      "================================================================================================================\n",
      "loop_id:  20\n"
     ]
    },
    {
     "name": "stderr",
     "output_type": "stream",
     "text": [
      "Optimizing:  21%|██        | 21/100 [00:10<00:40,  1.95it/s, loss=1e+3]   "
     ]
    },
    {
     "name": "stdout",
     "output_type": "stream",
     "text": [
      "-----------------------------------------------------------------\n",
      "loss_contour:  tensor(47968857.3911, device='cuda:0', dtype=torch.float64,\n",
      "       grad_fn=<AddBackward0>)\n",
      "loss_tip_distance:  tensor(1000.9496, device='cuda:0', dtype=torch.float64,\n",
      "       grad_fn=<MeanBackward0>)\n",
      "loss:  tensor(1000.9496, device='cuda:0', dtype=torch.float64, grad_fn=<MulBackward0>)\n",
      "-----------------------------------------------------------------\n",
      "Gradients BEFORE BACKWARD PASS:\n",
      "para_init: No gradient computed\n",
      "Gradients AFTER BACKWARD PASS:\n",
      "Parameter: para_init, Gradient: 52845.05859375\n",
      "Parameter: para_init, Updated Value: tensor([ 0.0340, -0.0100,  0.5360,  0.0968, -0.1989,  0.7511], device='cuda:0')\n",
      "Loss:  1000.9495509101713\n",
      "\n",
      "================================================================================================================\n",
      "loop_id:  21\n"
     ]
    },
    {
     "name": "stderr",
     "output_type": "stream",
     "text": [
      "Optimizing:  22%|██▏       | 22/100 [00:11<00:39,  1.96it/s, loss=825] "
     ]
    },
    {
     "name": "stdout",
     "output_type": "stream",
     "text": [
      "-----------------------------------------------------------------\n",
      "loss_contour:  tensor(55749214.1253, device='cuda:0', dtype=torch.float64,\n",
      "       grad_fn=<AddBackward0>)\n",
      "loss_tip_distance:  tensor(824.9643, device='cuda:0', dtype=torch.float64, grad_fn=<MeanBackward0>)\n",
      "loss:  tensor(824.9643, device='cuda:0', dtype=torch.float64, grad_fn=<MulBackward0>)\n",
      "-----------------------------------------------------------------\n",
      "Gradients BEFORE BACKWARD PASS:\n",
      "para_init: No gradient computed\n",
      "Gradients AFTER BACKWARD PASS:\n",
      "Parameter: para_init, Gradient: 47819.9296875\n",
      "Parameter: para_init, Updated Value: tensor([ 0.0340, -0.0100,  0.5360,  0.0993, -0.1942,  0.7543], device='cuda:0')\n",
      "Loss:  824.964314747498\n",
      "\n",
      "================================================================================================================\n",
      "loop_id:  22\n"
     ]
    },
    {
     "name": "stderr",
     "output_type": "stream",
     "text": [
      "Optimizing:  23%|██▎       | 23/100 [00:12<00:42,  1.82it/s, loss=685]"
     ]
    },
    {
     "name": "stdout",
     "output_type": "stream",
     "text": [
      "-----------------------------------------------------------------\n",
      "loss_contour:  tensor(74244171.2656, device='cuda:0', dtype=torch.float64,\n",
      "       grad_fn=<AddBackward0>)\n",
      "loss_tip_distance:  tensor(685.2194, device='cuda:0', dtype=torch.float64, grad_fn=<MeanBackward0>)\n",
      "loss:  tensor(685.2194, device='cuda:0', dtype=torch.float64, grad_fn=<MulBackward0>)\n",
      "-----------------------------------------------------------------\n",
      "Gradients BEFORE BACKWARD PASS:\n",
      "para_init: No gradient computed\n",
      "Gradients AFTER BACKWARD PASS:\n",
      "Parameter: para_init, Gradient: 43554.05859375\n",
      "Parameter: para_init, Updated Value: tensor([ 0.0340, -0.0100,  0.5360,  0.1021, -0.1899,  0.7571], device='cuda:0')\n",
      "Loss:  685.2193918617003\n",
      "\n",
      "================================================================================================================\n",
      "loop_id:  23\n"
     ]
    },
    {
     "name": "stderr",
     "output_type": "stream",
     "text": [
      "Optimizing:  24%|██▍       | 24/100 [00:12<00:41,  1.83it/s, loss=577]"
     ]
    },
    {
     "name": "stdout",
     "output_type": "stream",
     "text": [
      "-----------------------------------------------------------------\n",
      "loss_contour:  tensor(73078698.5764, device='cuda:0', dtype=torch.float64,\n",
      "       grad_fn=<AddBackward0>)\n",
      "loss_tip_distance:  tensor(576.6607, device='cuda:0', dtype=torch.float64, grad_fn=<MeanBackward0>)\n",
      "loss:  tensor(576.6607, device='cuda:0', dtype=torch.float64, grad_fn=<MulBackward0>)\n",
      "-----------------------------------------------------------------\n",
      "Gradients BEFORE BACKWARD PASS:\n",
      "para_init: No gradient computed\n",
      "Gradients AFTER BACKWARD PASS:\n",
      "Parameter: para_init, Gradient: 40023.44921875\n",
      "Parameter: para_init, Updated Value: tensor([ 0.0340, -0.0100,  0.5360,  0.1052, -0.1861,  0.7597], device='cuda:0')\n",
      "Loss:  576.6607127871854\n",
      "\n",
      "================================================================================================================\n",
      "loop_id:  24\n"
     ]
    },
    {
     "name": "stderr",
     "output_type": "stream",
     "text": [
      "Optimizing:  25%|██▌       | 25/100 [00:13<00:40,  1.85it/s, loss=495]"
     ]
    },
    {
     "name": "stdout",
     "output_type": "stream",
     "text": [
      "-----------------------------------------------------------------\n",
      "loss_contour:  tensor(2.5584e+08, device='cuda:0', dtype=torch.float64,\n",
      "       grad_fn=<AddBackward0>)\n",
      "loss_tip_distance:  tensor(495.3290, device='cuda:0', dtype=torch.float64, grad_fn=<MeanBackward0>)\n",
      "loss:  tensor(495.3290, device='cuda:0', dtype=torch.float64, grad_fn=<MulBackward0>)\n",
      "-----------------------------------------------------------------\n",
      "Gradients BEFORE BACKWARD PASS:\n",
      "para_init: No gradient computed\n",
      "Gradients AFTER BACKWARD PASS:\n",
      "Parameter: para_init, Gradient: 37221.55859375\n",
      "Parameter: para_init, Updated Value: tensor([ 0.0340, -0.0100,  0.5360,  0.1085, -0.1826,  0.7620], device='cuda:0')\n",
      "Loss:  495.3290024598732\n",
      "\n",
      "================================================================================================================\n",
      "loop_id:  25\n"
     ]
    },
    {
     "name": "stderr",
     "output_type": "stream",
     "text": [
      "Optimizing:  26%|██▌       | 26/100 [00:13<00:39,  1.86it/s, loss=438]"
     ]
    },
    {
     "name": "stdout",
     "output_type": "stream",
     "text": [
      "-----------------------------------------------------------------\n",
      "loss_contour:  tensor(1.4303e+08, device='cuda:0', dtype=torch.float64,\n",
      "       grad_fn=<AddBackward0>)\n",
      "loss_tip_distance:  tensor(437.9472, device='cuda:0', dtype=torch.float64, grad_fn=<MeanBackward0>)\n",
      "loss:  tensor(437.9472, device='cuda:0', dtype=torch.float64, grad_fn=<MulBackward0>)\n",
      "-----------------------------------------------------------------\n",
      "Gradients BEFORE BACKWARD PASS:\n",
      "para_init: No gradient computed\n",
      "Gradients AFTER BACKWARD PASS:\n",
      "Parameter: para_init, Gradient: 35144.95703125\n",
      "Parameter: para_init, Updated Value: tensor([ 0.0340, -0.0100,  0.5360,  0.1119, -0.1795,  0.7640], device='cuda:0')\n",
      "Loss:  437.94715674017016\n",
      "\n",
      "================================================================================================================\n",
      "loop_id:  26\n"
     ]
    },
    {
     "name": "stderr",
     "output_type": "stream",
     "text": [
      "Optimizing:  27%|██▋       | 27/100 [00:14<00:38,  1.88it/s, loss=402]"
     ]
    },
    {
     "name": "stdout",
     "output_type": "stream",
     "text": [
      "-----------------------------------------------------------------\n",
      "loss_contour:  tensor(1.4378e+08, device='cuda:0', dtype=torch.float64,\n",
      "       grad_fn=<AddBackward0>)\n",
      "loss_tip_distance:  tensor(401.6101, device='cuda:0', dtype=torch.float64, grad_fn=<MeanBackward0>)\n",
      "loss:  tensor(401.6101, device='cuda:0', dtype=torch.float64, grad_fn=<MulBackward0>)\n",
      "-----------------------------------------------------------------\n",
      "Gradients BEFORE BACKWARD PASS:\n",
      "para_init: No gradient computed\n",
      "Gradients AFTER BACKWARD PASS:\n",
      "Parameter: para_init, Gradient: 33776.61328125\n",
      "Parameter: para_init, Updated Value: tensor([ 0.0340, -0.0100,  0.5360,  0.1154, -0.1767,  0.7657], device='cuda:0')\n",
      "Loss:  401.6101225761223\n",
      "\n",
      "================================================================================================================\n",
      "loop_id:  27\n"
     ]
    },
    {
     "name": "stderr",
     "output_type": "stream",
     "text": [
      "Optimizing:  28%|██▊       | 28/100 [00:14<00:38,  1.88it/s, loss=384]"
     ]
    },
    {
     "name": "stdout",
     "output_type": "stream",
     "text": [
      "-----------------------------------------------------------------\n",
      "loss_contour:  tensor(84709957.5458, device='cuda:0', dtype=torch.float64,\n",
      "       grad_fn=<AddBackward0>)\n",
      "loss_tip_distance:  tensor(383.5660, device='cuda:0', dtype=torch.float64, grad_fn=<MeanBackward0>)\n",
      "loss:  tensor(383.5660, device='cuda:0', dtype=torch.float64, grad_fn=<MulBackward0>)\n",
      "-----------------------------------------------------------------\n",
      "Gradients BEFORE BACKWARD PASS:\n",
      "para_init: No gradient computed\n",
      "Gradients AFTER BACKWARD PASS:\n",
      "Parameter: para_init, Gradient: 33071.54296875\n",
      "Parameter: para_init, Updated Value: tensor([ 0.0340, -0.0100,  0.5360,  0.1189, -0.1743,  0.7673], device='cuda:0')\n",
      "Loss:  383.5660226362596\n",
      "\n",
      "================================================================================================================\n",
      "loop_id:  28\n"
     ]
    },
    {
     "name": "stderr",
     "output_type": "stream",
     "text": [
      "Optimizing:  29%|██▉       | 29/100 [00:15<00:38,  1.84it/s, loss=381]"
     ]
    },
    {
     "name": "stdout",
     "output_type": "stream",
     "text": [
      "-----------------------------------------------------------------\n",
      "loss_contour:  tensor(70378548.4380, device='cuda:0', dtype=torch.float64,\n",
      "       grad_fn=<AddBackward0>)\n",
      "loss_tip_distance:  tensor(381.0711, device='cuda:0', dtype=torch.float64, grad_fn=<MeanBackward0>)\n",
      "loss:  tensor(381.0711, device='cuda:0', dtype=torch.float64, grad_fn=<MulBackward0>)\n",
      "-----------------------------------------------------------------\n",
      "Gradients BEFORE BACKWARD PASS:\n",
      "para_init: No gradient computed\n",
      "Gradients AFTER BACKWARD PASS:\n",
      "Parameter: para_init, Gradient: 32950.546875\n",
      "Parameter: para_init, Updated Value: tensor([ 0.0340, -0.0100,  0.5360,  0.1223, -0.1723,  0.7686], device='cuda:0')\n",
      "Loss:  381.07110443159286\n",
      "\n",
      "================================================================================================================\n",
      "loop_id:  29\n"
     ]
    },
    {
     "name": "stderr",
     "output_type": "stream",
     "text": [
      "Optimizing:  30%|███       | 30/100 [00:15<00:37,  1.89it/s, loss=391]"
     ]
    },
    {
     "name": "stdout",
     "output_type": "stream",
     "text": [
      "-----------------------------------------------------------------\n",
      "loss_contour:  tensor(87416581.1135, device='cuda:0', dtype=torch.float64,\n",
      "       grad_fn=<AddBackward0>)\n",
      "loss_tip_distance:  tensor(391.3078, device='cuda:0', dtype=torch.float64, grad_fn=<MeanBackward0>)\n",
      "loss:  tensor(391.3078, device='cuda:0', dtype=torch.float64, grad_fn=<MulBackward0>)\n",
      "-----------------------------------------------------------------\n",
      "Gradients BEFORE BACKWARD PASS:\n",
      "para_init: No gradient computed\n",
      "Gradients AFTER BACKWARD PASS:\n",
      "Parameter: para_init, Gradient: 33304.84375\n",
      "Parameter: para_init, Updated Value: tensor([ 0.0340, -0.0100,  0.5360,  0.1257, -0.1706,  0.7697], device='cuda:0')\n",
      "Loss:  391.3078180632521\n",
      "\n",
      "================================================================================================================\n",
      "loop_id:  30\n"
     ]
    },
    {
     "name": "stderr",
     "output_type": "stream",
     "text": [
      "Optimizing:  31%|███       | 31/100 [00:16<00:36,  1.89it/s, loss=411]"
     ]
    },
    {
     "name": "stdout",
     "output_type": "stream",
     "text": [
      "-----------------------------------------------------------------\n",
      "loss_contour:  tensor(1.1356e+08, device='cuda:0', dtype=torch.float64,\n",
      "       grad_fn=<AddBackward0>)\n",
      "loss_tip_distance:  tensor(411.3616, device='cuda:0', dtype=torch.float64, grad_fn=<MeanBackward0>)\n",
      "loss:  tensor(411.3616, device='cuda:0', dtype=torch.float64, grad_fn=<MulBackward0>)\n",
      "-----------------------------------------------------------------\n",
      "Gradients BEFORE BACKWARD PASS:\n",
      "para_init: No gradient computed\n",
      "Gradients AFTER BACKWARD PASS:\n",
      "Parameter: para_init, Gradient: 34008.6796875\n",
      "Parameter: para_init, Updated Value: tensor([ 0.0340, -0.0100,  0.5360,  0.1289, -0.1692,  0.7707], device='cuda:0')\n",
      "Loss:  411.36162495383866\n",
      "\n",
      "================================================================================================================\n",
      "loop_id:  31\n"
     ]
    },
    {
     "name": "stderr",
     "output_type": "stream",
     "text": [
      "Optimizing:  32%|███▏      | 32/100 [00:17<00:40,  1.67it/s, loss=438]"
     ]
    },
    {
     "name": "stdout",
     "output_type": "stream",
     "text": [
      "-----------------------------------------------------------------\n",
      "loss_contour:  tensor(70875711.2158, device='cuda:0', dtype=torch.float64,\n",
      "       grad_fn=<AddBackward0>)\n",
      "loss_tip_distance:  tensor(438.2404, device='cuda:0', dtype=torch.float64, grad_fn=<MeanBackward0>)\n",
      "loss:  tensor(438.2404, device='cuda:0', dtype=torch.float64, grad_fn=<MulBackward0>)\n",
      "-----------------------------------------------------------------\n",
      "Gradients BEFORE BACKWARD PASS:\n",
      "para_init: No gradient computed\n",
      "Gradients AFTER BACKWARD PASS:\n",
      "Parameter: para_init, Gradient: 34933.5859375\n",
      "Parameter: para_init, Updated Value: tensor([ 0.0340, -0.0100,  0.5360,  0.1319, -0.1681,  0.7715], device='cuda:0')\n",
      "Loss:  438.240354266574\n",
      "\n",
      "================================================================================================================\n",
      "loop_id:  32\n"
     ]
    },
    {
     "name": "stderr",
     "output_type": "stream",
     "text": [
      "Optimizing:  33%|███▎      | 33/100 [00:17<00:38,  1.75it/s, loss=469]"
     ]
    },
    {
     "name": "stdout",
     "output_type": "stream",
     "text": [
      "-----------------------------------------------------------------\n",
      "loss_contour:  tensor(85541193.6823, device='cuda:0', dtype=torch.float64,\n",
      "       grad_fn=<AddBackward0>)\n",
      "loss_tip_distance:  tensor(468.9380, device='cuda:0', dtype=torch.float64, grad_fn=<MeanBackward0>)\n",
      "loss:  tensor(468.9380, device='cuda:0', dtype=torch.float64, grad_fn=<MulBackward0>)\n",
      "-----------------------------------------------------------------\n",
      "Gradients BEFORE BACKWARD PASS:\n",
      "para_init: No gradient computed\n",
      "Gradients AFTER BACKWARD PASS:\n",
      "Parameter: para_init, Gradient: 35959.5703125\n",
      "Parameter: para_init, Updated Value: tensor([ 0.0340, -0.0100,  0.5360,  0.1346, -0.1673,  0.7721], device='cuda:0')\n",
      "Loss:  468.9379605504477\n",
      "\n",
      "================================================================================================================\n",
      "loop_id:  33\n"
     ]
    },
    {
     "name": "stderr",
     "output_type": "stream",
     "text": [
      "Optimizing:  34%|███▍      | 34/100 [00:18<00:36,  1.80it/s, loss=501]"
     ]
    },
    {
     "name": "stdout",
     "output_type": "stream",
     "text": [
      "-----------------------------------------------------------------\n",
      "loss_contour:  tensor(69608415.8091, device='cuda:0', dtype=torch.float64,\n",
      "       grad_fn=<AddBackward0>)\n",
      "loss_tip_distance:  tensor(500.5213, device='cuda:0', dtype=torch.float64, grad_fn=<MeanBackward0>)\n",
      "loss:  tensor(500.5213, device='cuda:0', dtype=torch.float64, grad_fn=<MulBackward0>)\n",
      "-----------------------------------------------------------------\n",
      "Gradients BEFORE BACKWARD PASS:\n",
      "para_init: No gradient computed\n",
      "Gradients AFTER BACKWARD PASS:\n",
      "Parameter: para_init, Gradient: 36981.296875\n",
      "Parameter: para_init, Updated Value: tensor([ 0.0340, -0.0100,  0.5360,  0.1372, -0.1668,  0.7726], device='cuda:0')\n",
      "Loss:  500.52134746411707\n",
      "\n",
      "================================================================================================================\n",
      "loop_id:  34\n"
     ]
    },
    {
     "name": "stderr",
     "output_type": "stream",
     "text": [
      "Optimizing:  35%|███▌      | 35/100 [00:18<00:35,  1.83it/s, loss=530]"
     ]
    },
    {
     "name": "stdout",
     "output_type": "stream",
     "text": [
      "-----------------------------------------------------------------\n",
      "loss_contour:  tensor(1.1810e+08, device='cuda:0', dtype=torch.float64,\n",
      "       grad_fn=<AddBackward0>)\n",
      "loss_tip_distance:  tensor(530.2387, device='cuda:0', dtype=torch.float64, grad_fn=<MeanBackward0>)\n",
      "loss:  tensor(530.2387, device='cuda:0', dtype=torch.float64, grad_fn=<MulBackward0>)\n",
      "-----------------------------------------------------------------\n",
      "Gradients BEFORE BACKWARD PASS:\n",
      "para_init: No gradient computed\n",
      "Gradients AFTER BACKWARD PASS:\n",
      "Parameter: para_init, Gradient: 37910.5234375\n",
      "Parameter: para_init, Updated Value: tensor([ 0.0340, -0.0100,  0.5360,  0.1394, -0.1666,  0.7731], device='cuda:0')\n",
      "Loss:  530.2386820912708\n",
      "\n",
      "================================================================================================================\n",
      "loop_id:  35\n"
     ]
    },
    {
     "name": "stderr",
     "output_type": "stream",
     "text": [
      "Optimizing:  36%|███▌      | 36/100 [00:19<00:33,  1.90it/s, loss=556]"
     ]
    },
    {
     "name": "stdout",
     "output_type": "stream",
     "text": [
      "-----------------------------------------------------------------\n",
      "loss_contour:  tensor(1.4097e+08, device='cuda:0', dtype=torch.float64,\n",
      "       grad_fn=<AddBackward0>)\n",
      "loss_tip_distance:  tensor(555.6320, device='cuda:0', dtype=torch.float64, grad_fn=<MeanBackward0>)\n",
      "loss:  tensor(555.6320, device='cuda:0', dtype=torch.float64, grad_fn=<MulBackward0>)\n",
      "-----------------------------------------------------------------\n",
      "Gradients BEFORE BACKWARD PASS:\n",
      "para_init: No gradient computed\n",
      "Gradients AFTER BACKWARD PASS:\n",
      "Parameter: para_init, Gradient: 38676.1484375\n",
      "Parameter: para_init, Updated Value: tensor([ 0.0340, -0.0100,  0.5360,  0.1413, -0.1665,  0.7734], device='cuda:0')\n",
      "Loss:  555.6319528819096\n",
      "\n",
      "================================================================================================================\n",
      "loop_id:  36\n"
     ]
    },
    {
     "name": "stderr",
     "output_type": "stream",
     "text": [
      "Optimizing:  37%|███▋      | 37/100 [00:19<00:32,  1.92it/s, loss=575]"
     ]
    },
    {
     "name": "stdout",
     "output_type": "stream",
     "text": [
      "-----------------------------------------------------------------\n",
      "loss_contour:  tensor(1.3034e+08, device='cuda:0', dtype=torch.float64,\n",
      "       grad_fn=<AddBackward0>)\n",
      "loss_tip_distance:  tensor(574.6389, device='cuda:0', dtype=torch.float64, grad_fn=<MeanBackward0>)\n",
      "loss:  tensor(574.6389, device='cuda:0', dtype=torch.float64, grad_fn=<MulBackward0>)\n",
      "-----------------------------------------------------------------\n",
      "Gradients BEFORE BACKWARD PASS:\n",
      "para_init: No gradient computed\n",
      "Gradients AFTER BACKWARD PASS:\n",
      "Parameter: para_init, Gradient: 39223.03515625\n",
      "Parameter: para_init, Updated Value: tensor([ 0.0340, -0.0100,  0.5360,  0.1429, -0.1667,  0.7736], device='cuda:0')\n",
      "Loss:  574.6389322148259\n",
      "\n",
      "================================================================================================================\n",
      "loop_id:  37\n"
     ]
    },
    {
     "name": "stderr",
     "output_type": "stream",
     "text": [
      "Optimizing:  38%|███▊      | 38/100 [00:20<00:35,  1.75it/s, loss=586]"
     ]
    },
    {
     "name": "stdout",
     "output_type": "stream",
     "text": [
      "-----------------------------------------------------------------\n",
      "loss_contour:  tensor(1.2976e+08, device='cuda:0', dtype=torch.float64,\n",
      "       grad_fn=<AddBackward0>)\n",
      "loss_tip_distance:  tensor(585.6841, device='cuda:0', dtype=torch.float64, grad_fn=<MeanBackward0>)\n",
      "loss:  tensor(585.6841, device='cuda:0', dtype=torch.float64, grad_fn=<MulBackward0>)\n",
      "-----------------------------------------------------------------\n",
      "Gradients BEFORE BACKWARD PASS:\n",
      "para_init: No gradient computed\n",
      "Gradients AFTER BACKWARD PASS:\n",
      "Parameter: para_init, Gradient: 39510.828125\n",
      "Parameter: para_init, Updated Value: tensor([ 0.0340, -0.0100,  0.5360,  0.1441, -0.1671,  0.7738], device='cuda:0')\n",
      "Loss:  585.6840945873635\n",
      "\n",
      "================================================================================================================\n",
      "loop_id:  38\n"
     ]
    },
    {
     "name": "stderr",
     "output_type": "stream",
     "text": [
      "Optimizing:  39%|███▉      | 39/100 [00:20<00:33,  1.80it/s, loss=588]"
     ]
    },
    {
     "name": "stdout",
     "output_type": "stream",
     "text": [
      "-----------------------------------------------------------------\n",
      "loss_contour:  tensor(1.1200e+08, device='cuda:0', dtype=torch.float64,\n",
      "       grad_fn=<AddBackward0>)\n",
      "loss_tip_distance:  tensor(587.7326, device='cuda:0', dtype=torch.float64, grad_fn=<MeanBackward0>)\n",
      "loss:  tensor(587.7326, device='cuda:0', dtype=torch.float64, grad_fn=<MulBackward0>)\n",
      "-----------------------------------------------------------------\n",
      "Gradients BEFORE BACKWARD PASS:\n",
      "para_init: No gradient computed\n",
      "Gradients AFTER BACKWARD PASS:\n",
      "Parameter: para_init, Gradient: 39512.328125\n",
      "Parameter: para_init, Updated Value: tensor([ 0.0340, -0.0100,  0.5360,  0.1451, -0.1677,  0.7739], device='cuda:0')\n",
      "Loss:  587.7325711670337\n",
      "\n",
      "================================================================================================================\n",
      "loop_id:  39\n"
     ]
    },
    {
     "name": "stderr",
     "output_type": "stream",
     "text": [
      "Optimizing:  40%|████      | 40/100 [00:21<00:32,  1.82it/s, loss=580]"
     ]
    },
    {
     "name": "stdout",
     "output_type": "stream",
     "text": [
      "-----------------------------------------------------------------\n",
      "loss_contour:  tensor(91666103.8146, device='cuda:0', dtype=torch.float64,\n",
      "       grad_fn=<AddBackward0>)\n",
      "loss_tip_distance:  tensor(580.3203, device='cuda:0', dtype=torch.float64, grad_fn=<MeanBackward0>)\n",
      "loss:  tensor(580.3203, device='cuda:0', dtype=torch.float64, grad_fn=<MulBackward0>)\n",
      "-----------------------------------------------------------------\n",
      "Gradients BEFORE BACKWARD PASS:\n",
      "para_init: No gradient computed\n",
      "Gradients AFTER BACKWARD PASS:\n",
      "Parameter: para_init, Gradient: 39212.37109375\n",
      "Parameter: para_init, Updated Value: tensor([ 0.0340, -0.0100,  0.5360,  0.1457, -0.1684,  0.7739], device='cuda:0')\n",
      "Loss:  580.3203494583336\n",
      "\n",
      "================================================================================================================\n",
      "loop_id:  40\n"
     ]
    },
    {
     "name": "stderr",
     "output_type": "stream",
     "text": [
      "Optimizing:  41%|████      | 41/100 [00:21<00:31,  1.85it/s, loss=564]"
     ]
    },
    {
     "name": "stdout",
     "output_type": "stream",
     "text": [
      "-----------------------------------------------------------------\n",
      "loss_contour:  tensor(92651799.8369, device='cuda:0', dtype=torch.float64,\n",
      "       grad_fn=<AddBackward0>)\n",
      "loss_tip_distance:  tensor(563.5425, device='cuda:0', dtype=torch.float64, grad_fn=<MeanBackward0>)\n",
      "loss:  tensor(563.5425, device='cuda:0', dtype=torch.float64, grad_fn=<MulBackward0>)\n",
      "-----------------------------------------------------------------\n",
      "Gradients BEFORE BACKWARD PASS:\n",
      "para_init: No gradient computed\n",
      "Gradients AFTER BACKWARD PASS:\n",
      "Parameter: para_init, Gradient: 38606.5078125\n",
      "Parameter: para_init, Updated Value: tensor([ 0.0340, -0.0100,  0.5360,  0.1460, -0.1693,  0.7739], device='cuda:0')\n",
      "Loss:  563.5425225840079\n",
      "\n",
      "================================================================================================================\n",
      "loop_id:  41\n"
     ]
    },
    {
     "name": "stderr",
     "output_type": "stream",
     "text": [
      "Optimizing:  42%|████▏     | 42/100 [00:22<00:31,  1.82it/s, loss=538]"
     ]
    },
    {
     "name": "stdout",
     "output_type": "stream",
     "text": [
      "-----------------------------------------------------------------\n",
      "loss_contour:  tensor(1.3380e+08, device='cuda:0', dtype=torch.float64,\n",
      "       grad_fn=<AddBackward0>)\n",
      "loss_tip_distance:  tensor(538.0091, device='cuda:0', dtype=torch.float64, grad_fn=<MeanBackward0>)\n",
      "loss:  tensor(538.0091, device='cuda:0', dtype=torch.float64, grad_fn=<MulBackward0>)\n",
      "-----------------------------------------------------------------\n",
      "Gradients BEFORE BACKWARD PASS:\n",
      "para_init: No gradient computed\n",
      "Gradients AFTER BACKWARD PASS:\n",
      "Parameter: para_init, Gradient: 37699.796875\n",
      "Parameter: para_init, Updated Value: tensor([ 0.0340, -0.0100,  0.5360,  0.1461, -0.1703,  0.7738], device='cuda:0')\n",
      "Loss:  538.0090565915726\n",
      "\n",
      "================================================================================================================\n",
      "loop_id:  42\n"
     ]
    },
    {
     "name": "stderr",
     "output_type": "stream",
     "text": [
      "Optimizing:  43%|████▎     | 43/100 [00:22<00:30,  1.85it/s, loss=505]"
     ]
    },
    {
     "name": "stdout",
     "output_type": "stream",
     "text": [
      "-----------------------------------------------------------------\n",
      "loss_contour:  tensor(81324367.0304, device='cuda:0', dtype=torch.float64,\n",
      "       grad_fn=<AddBackward0>)\n",
      "loss_tip_distance:  tensor(504.7724, device='cuda:0', dtype=torch.float64, grad_fn=<MeanBackward0>)\n",
      "loss:  tensor(504.7724, device='cuda:0', dtype=torch.float64, grad_fn=<MulBackward0>)\n",
      "-----------------------------------------------------------------\n",
      "Gradients BEFORE BACKWARD PASS:\n",
      "para_init: No gradient computed\n",
      "Gradients AFTER BACKWARD PASS:\n",
      "Parameter: para_init, Gradient: 36505.703125\n",
      "Parameter: para_init, Updated Value: tensor([ 0.0340, -0.0100,  0.5360,  0.1458, -0.1714,  0.7737], device='cuda:0')\n",
      "Loss:  504.7723875494033\n",
      "\n",
      "================================================================================================================\n",
      "loop_id:  43\n"
     ]
    },
    {
     "name": "stderr",
     "output_type": "stream",
     "text": [
      "Optimizing:  44%|████▍     | 44/100 [00:23<00:32,  1.70it/s, loss=465]"
     ]
    },
    {
     "name": "stdout",
     "output_type": "stream",
     "text": [
      "-----------------------------------------------------------------\n",
      "loss_contour:  tensor(95391070.1955, device='cuda:0', dtype=torch.float64,\n",
      "       grad_fn=<AddBackward0>)\n",
      "loss_tip_distance:  tensor(465.2308, device='cuda:0', dtype=torch.float64, grad_fn=<MeanBackward0>)\n",
      "loss:  tensor(465.2308, device='cuda:0', dtype=torch.float64, grad_fn=<MulBackward0>)\n",
      "-----------------------------------------------------------------\n",
      "Gradients BEFORE BACKWARD PASS:\n",
      "para_init: No gradient computed\n",
      "Gradients AFTER BACKWARD PASS:\n",
      "Parameter: para_init, Gradient: 35044.9140625\n",
      "Parameter: para_init, Updated Value: tensor([ 0.0340, -0.0100,  0.5360,  0.1454, -0.1726,  0.7736], device='cuda:0')\n",
      "Loss:  465.2308222825766\n",
      "\n",
      "================================================================================================================\n",
      "loop_id:  44\n"
     ]
    },
    {
     "name": "stderr",
     "output_type": "stream",
     "text": [
      "Optimizing:  45%|████▌     | 45/100 [00:24<00:30,  1.79it/s, loss=421]"
     ]
    },
    {
     "name": "stdout",
     "output_type": "stream",
     "text": [
      "-----------------------------------------------------------------\n",
      "loss_contour:  tensor(1.2211e+08, device='cuda:0', dtype=torch.float64,\n",
      "       grad_fn=<AddBackward0>)\n",
      "loss_tip_distance:  tensor(421.0166, device='cuda:0', dtype=torch.float64, grad_fn=<MeanBackward0>)\n",
      "loss:  tensor(421.0166, device='cuda:0', dtype=torch.float64, grad_fn=<MulBackward0>)\n",
      "-----------------------------------------------------------------\n",
      "Gradients BEFORE BACKWARD PASS:\n",
      "para_init: No gradient computed\n",
      "Gradients AFTER BACKWARD PASS:\n",
      "Parameter: para_init, Gradient: 33344.16015625\n",
      "Parameter: para_init, Updated Value: tensor([ 0.0340, -0.0100,  0.5360,  0.1447, -0.1739,  0.7735], device='cuda:0')\n",
      "Loss:  421.01664715044814\n",
      "\n",
      "================================================================================================================\n",
      "loop_id:  45\n"
     ]
    },
    {
     "name": "stderr",
     "output_type": "stream",
     "text": [
      "Optimizing:  46%|████▌     | 46/100 [00:24<00:29,  1.83it/s, loss=374]"
     ]
    },
    {
     "name": "stdout",
     "output_type": "stream",
     "text": [
      "-----------------------------------------------------------------\n",
      "loss_contour:  tensor(1.2214e+08, device='cuda:0', dtype=torch.float64,\n",
      "       grad_fn=<AddBackward0>)\n",
      "loss_tip_distance:  tensor(373.8816, device='cuda:0', dtype=torch.float64, grad_fn=<MeanBackward0>)\n",
      "loss:  tensor(373.8816, device='cuda:0', dtype=torch.float64, grad_fn=<MulBackward0>)\n",
      "-----------------------------------------------------------------\n",
      "Gradients BEFORE BACKWARD PASS:\n",
      "para_init: No gradient computed\n",
      "Gradients AFTER BACKWARD PASS:\n",
      "Parameter: para_init, Gradient: 31435.138671875\n",
      "Parameter: para_init, Updated Value: tensor([ 0.0340, -0.0100,  0.5360,  0.1438, -0.1752,  0.7733], device='cuda:0')\n",
      "Loss:  373.8815587724019\n",
      "\n",
      "================================================================================================================\n",
      "loop_id:  46\n"
     ]
    },
    {
     "name": "stderr",
     "output_type": "stream",
     "text": [
      "Optimizing:  47%|████▋     | 47/100 [00:25<00:28,  1.87it/s, loss=326]"
     ]
    },
    {
     "name": "stdout",
     "output_type": "stream",
     "text": [
      "-----------------------------------------------------------------\n",
      "loss_contour:  tensor(4.5096e+08, device='cuda:0', dtype=torch.float64,\n",
      "       grad_fn=<AddBackward0>)\n",
      "loss_tip_distance:  tensor(325.5816, device='cuda:0', dtype=torch.float64, grad_fn=<MeanBackward0>)\n",
      "loss:  tensor(325.5816, device='cuda:0', dtype=torch.float64, grad_fn=<MulBackward0>)\n",
      "-----------------------------------------------------------------\n",
      "Gradients BEFORE BACKWARD PASS:\n",
      "para_init: No gradient computed\n",
      "Gradients AFTER BACKWARD PASS:\n",
      "Parameter: para_init, Gradient: 29353.3515625\n",
      "Parameter: para_init, Updated Value: tensor([ 0.0340, -0.0100,  0.5360,  0.1428, -0.1766,  0.7731], device='cuda:0')\n",
      "Loss:  325.5816057816891\n",
      "\n",
      "================================================================================================================\n",
      "loop_id:  47\n"
     ]
    },
    {
     "name": "stderr",
     "output_type": "stream",
     "text": [
      "Optimizing:  48%|████▊     | 48/100 [00:25<00:28,  1.83it/s, loss=278]"
     ]
    },
    {
     "name": "stdout",
     "output_type": "stream",
     "text": [
      "-----------------------------------------------------------------\n",
      "loss_contour:  tensor(93200025.3556, device='cuda:0', dtype=torch.float64,\n",
      "       grad_fn=<AddBackward0>)\n",
      "loss_tip_distance:  tensor(277.7769, device='cuda:0', dtype=torch.float64, grad_fn=<MeanBackward0>)\n",
      "loss:  tensor(277.7769, device='cuda:0', dtype=torch.float64, grad_fn=<MulBackward0>)\n",
      "-----------------------------------------------------------------\n",
      "Gradients BEFORE BACKWARD PASS:\n",
      "para_init: No gradient computed\n",
      "Gradients AFTER BACKWARD PASS:\n",
      "Parameter: para_init, Gradient: 27137.14453125\n",
      "Parameter: para_init, Updated Value: tensor([ 0.0340, -0.0100,  0.5360,  0.1417, -0.1780,  0.7729], device='cuda:0')\n",
      "Loss:  277.776882377072\n",
      "\n",
      "================================================================================================================\n",
      "loop_id:  48\n"
     ]
    },
    {
     "name": "stderr",
     "output_type": "stream",
     "text": [
      "Optimizing:  49%|████▉     | 49/100 [00:26<00:27,  1.88it/s, loss=232]"
     ]
    },
    {
     "name": "stdout",
     "output_type": "stream",
     "text": [
      "-----------------------------------------------------------------\n",
      "loss_contour:  tensor(1.1306e+08, device='cuda:0', dtype=torch.float64,\n",
      "       grad_fn=<AddBackward0>)\n",
      "loss_tip_distance:  tensor(231.9437, device='cuda:0', dtype=torch.float64, grad_fn=<MeanBackward0>)\n",
      "loss:  tensor(231.9437, device='cuda:0', dtype=torch.float64, grad_fn=<MulBackward0>)\n",
      "-----------------------------------------------------------------\n",
      "Gradients BEFORE BACKWARD PASS:\n",
      "para_init: No gradient computed\n",
      "Gradients AFTER BACKWARD PASS:\n",
      "Parameter: para_init, Gradient: 24826.67578125\n",
      "Parameter: para_init, Updated Value: tensor([ 0.0340, -0.0100,  0.5360,  0.1405, -0.1795,  0.7726], device='cuda:0')\n",
      "Loss:  231.94366115583904\n",
      "\n",
      "================================================================================================================\n",
      "loop_id:  49\n"
     ]
    },
    {
     "name": "stderr",
     "output_type": "stream",
     "text": [
      "Optimizing:  50%|█████     | 50/100 [00:26<00:26,  1.86it/s, loss=189]"
     ]
    },
    {
     "name": "stdout",
     "output_type": "stream",
     "text": [
      "-----------------------------------------------------------------\n",
      "loss_contour:  tensor(69889317.3869, device='cuda:0', dtype=torch.float64,\n",
      "       grad_fn=<AddBackward0>)\n",
      "loss_tip_distance:  tensor(189.3099, device='cuda:0', dtype=torch.float64, grad_fn=<MeanBackward0>)\n",
      "loss:  tensor(189.3099, device='cuda:0', dtype=torch.float64, grad_fn=<MulBackward0>)\n",
      "-----------------------------------------------------------------\n",
      "Gradients BEFORE BACKWARD PASS:\n",
      "para_init: No gradient computed\n",
      "Gradients AFTER BACKWARD PASS:\n",
      "Parameter: para_init, Gradient: 22463.09765625\n",
      "Parameter: para_init, Updated Value: tensor([ 0.0340, -0.0100,  0.5360,  0.1393, -0.1809,  0.7724], device='cuda:0')\n",
      "Loss:  189.3098539371235\n",
      "\n",
      "================================================================================================================\n",
      "loop_id:  50\n"
     ]
    },
    {
     "name": "stderr",
     "output_type": "stream",
     "text": [
      "Optimizing:  51%|█████     | 51/100 [00:27<00:26,  1.84it/s, loss=151]"
     ]
    },
    {
     "name": "stdout",
     "output_type": "stream",
     "text": [
      "-----------------------------------------------------------------\n",
      "loss_contour:  tensor(67697867.8505, device='cuda:0', dtype=torch.float64,\n",
      "       grad_fn=<AddBackward0>)\n",
      "loss_tip_distance:  tensor(150.8130, device='cuda:0', dtype=torch.float64, grad_fn=<MeanBackward0>)\n",
      "loss:  tensor(150.8130, device='cuda:0', dtype=torch.float64, grad_fn=<MulBackward0>)\n",
      "-----------------------------------------------------------------\n",
      "Gradients BEFORE BACKWARD PASS:\n",
      "para_init: No gradient computed\n",
      "Gradients AFTER BACKWARD PASS:\n",
      "Parameter: para_init, Gradient: 20087.849609375\n",
      "Parameter: para_init, Updated Value: tensor([ 0.0340, -0.0100,  0.5360,  0.1380, -0.1823,  0.7721], device='cuda:0')\n",
      "Loss:  150.81298327929247\n",
      "\n",
      "================================================================================================================\n",
      "loop_id:  51\n"
     ]
    },
    {
     "name": "stderr",
     "output_type": "stream",
     "text": [
      "Optimizing:  52%|█████▏    | 52/100 [00:27<00:26,  1.81it/s, loss=117]"
     ]
    },
    {
     "name": "stdout",
     "output_type": "stream",
     "text": [
      "-----------------------------------------------------------------\n",
      "loss_contour:  tensor(79720194.4424, device='cuda:0', dtype=torch.float64,\n",
      "       grad_fn=<AddBackward0>)\n",
      "loss_tip_distance:  tensor(117.0810, device='cuda:0', dtype=torch.float64, grad_fn=<MeanBackward0>)\n",
      "loss:  tensor(117.0810, device='cuda:0', dtype=torch.float64, grad_fn=<MulBackward0>)\n",
      "-----------------------------------------------------------------\n",
      "Gradients BEFORE BACKWARD PASS:\n",
      "para_init: No gradient computed\n",
      "Gradients AFTER BACKWARD PASS:\n",
      "Parameter: para_init, Gradient: 17742.140625\n",
      "Parameter: para_init, Updated Value: tensor([ 0.0340, -0.0100,  0.5360,  0.1368, -0.1837,  0.7719], device='cuda:0')\n",
      "Loss:  117.08101612418844\n",
      "\n",
      "================================================================================================================\n",
      "loop_id:  52\n"
     ]
    },
    {
     "name": "stderr",
     "output_type": "stream",
     "text": [
      "Optimizing:  53%|█████▎    | 53/100 [00:28<00:25,  1.84it/s, loss=88.4]"
     ]
    },
    {
     "name": "stdout",
     "output_type": "stream",
     "text": [
      "-----------------------------------------------------------------\n",
      "loss_contour:  tensor(55094095.0707, device='cuda:0', dtype=torch.float64,\n",
      "       grad_fn=<AddBackward0>)\n",
      "loss_tip_distance:  tensor(88.4362, device='cuda:0', dtype=torch.float64, grad_fn=<MeanBackward0>)\n",
      "loss:  tensor(88.4362, device='cuda:0', dtype=torch.float64, grad_fn=<MulBackward0>)\n",
      "-----------------------------------------------------------------\n",
      "Gradients BEFORE BACKWARD PASS:\n",
      "para_init: No gradient computed\n",
      "Gradients AFTER BACKWARD PASS:\n",
      "Parameter: para_init, Gradient: 15466.8095703125\n",
      "Parameter: para_init, Updated Value: tensor([ 0.0340, -0.0100,  0.5360,  0.1356, -0.1851,  0.7716], device='cuda:0')\n",
      "Loss:  88.43622295069568\n",
      "\n",
      "================================================================================================================\n",
      "loop_id:  53\n"
     ]
    },
    {
     "name": "stderr",
     "output_type": "stream",
     "text": [
      "Optimizing:  54%|█████▍    | 54/100 [00:29<00:26,  1.76it/s, loss=64.9]"
     ]
    },
    {
     "name": "stdout",
     "output_type": "stream",
     "text": [
      "-----------------------------------------------------------------\n",
      "loss_contour:  tensor(91226214.9933, device='cuda:0', dtype=torch.float64,\n",
      "       grad_fn=<AddBackward0>)\n",
      "loss_tip_distance:  tensor(64.9183, device='cuda:0', dtype=torch.float64, grad_fn=<MeanBackward0>)\n",
      "loss:  tensor(64.9183, device='cuda:0', dtype=torch.float64, grad_fn=<MulBackward0>)\n",
      "-----------------------------------------------------------------\n",
      "Gradients BEFORE BACKWARD PASS:\n",
      "para_init: No gradient computed\n",
      "Gradients AFTER BACKWARD PASS:\n",
      "Parameter: para_init, Gradient: 13302.5556640625\n",
      "Parameter: para_init, Updated Value: tensor([ 0.0340, -0.0100,  0.5360,  0.1345, -0.1864,  0.7713], device='cuda:0')\n",
      "Loss:  64.91829968574768\n",
      "\n",
      "================================================================================================================\n",
      "loop_id:  54\n"
     ]
    },
    {
     "name": "stderr",
     "output_type": "stream",
     "text": [
      "Optimizing:  55%|█████▌    | 55/100 [00:29<00:27,  1.63it/s, loss=46.3]"
     ]
    },
    {
     "name": "stdout",
     "output_type": "stream",
     "text": [
      "-----------------------------------------------------------------\n",
      "loss_contour:  tensor(1.3795e+08, device='cuda:0', dtype=torch.float64,\n",
      "       grad_fn=<AddBackward0>)\n",
      "loss_tip_distance:  tensor(46.3216, device='cuda:0', dtype=torch.float64, grad_fn=<MeanBackward0>)\n",
      "loss:  tensor(46.3216, device='cuda:0', dtype=torch.float64, grad_fn=<MulBackward0>)\n",
      "-----------------------------------------------------------------\n",
      "Gradients BEFORE BACKWARD PASS:\n",
      "para_init: No gradient computed\n",
      "Gradients AFTER BACKWARD PASS:\n",
      "Parameter: para_init, Gradient: 11290.73828125\n",
      "Parameter: para_init, Updated Value: tensor([ 0.0340, -0.0100,  0.5360,  0.1334, -0.1877,  0.7711], device='cuda:0')\n",
      "Loss:  46.32161302608094\n",
      "\n",
      "================================================================================================================\n",
      "loop_id:  55\n"
     ]
    },
    {
     "name": "stderr",
     "output_type": "stream",
     "text": [
      "Optimizing:  56%|█████▌    | 56/100 [00:30<00:25,  1.71it/s, loss=32.2]"
     ]
    },
    {
     "name": "stdout",
     "output_type": "stream",
     "text": [
      "-----------------------------------------------------------------\n",
      "loss_contour:  tensor(1.5949e+08, device='cuda:0', dtype=torch.float64,\n",
      "       grad_fn=<AddBackward0>)\n",
      "loss_tip_distance:  tensor(32.2455, device='cuda:0', dtype=torch.float64, grad_fn=<MeanBackward0>)\n",
      "loss:  tensor(32.2455, device='cuda:0', dtype=torch.float64, grad_fn=<MulBackward0>)\n",
      "-----------------------------------------------------------------\n",
      "Gradients BEFORE BACKWARD PASS:\n",
      "para_init: No gradient computed\n",
      "Gradients AFTER BACKWARD PASS:\n",
      "Parameter: para_init, Gradient: 9475.0537109375\n",
      "Parameter: para_init, Updated Value: tensor([ 0.0340, -0.0100,  0.5360,  0.1325, -0.1890,  0.7708], device='cuda:0')\n",
      "Loss:  32.24547914689155\n",
      "\n",
      "================================================================================================================\n",
      "loop_id:  56\n"
     ]
    },
    {
     "name": "stderr",
     "output_type": "stream",
     "text": [
      "Optimizing:  57%|█████▋    | 57/100 [00:30<00:24,  1.77it/s, loss=22.1]"
     ]
    },
    {
     "name": "stdout",
     "output_type": "stream",
     "text": [
      "-----------------------------------------------------------------\n",
      "loss_contour:  tensor(66542177.0113, device='cuda:0', dtype=torch.float64,\n",
      "       grad_fn=<AddBackward0>)\n",
      "loss_tip_distance:  tensor(22.1489, device='cuda:0', dtype=torch.float64, grad_fn=<MeanBackward0>)\n",
      "loss:  tensor(22.1489, device='cuda:0', dtype=torch.float64, grad_fn=<MulBackward0>)\n",
      "-----------------------------------------------------------------\n",
      "Gradients BEFORE BACKWARD PASS:\n",
      "para_init: No gradient computed\n",
      "Gradients AFTER BACKWARD PASS:\n",
      "Parameter: para_init, Gradient: 7903.669921875\n",
      "Parameter: para_init, Updated Value: tensor([ 0.0340, -0.0100,  0.5360,  0.1316, -0.1901,  0.7705], device='cuda:0')\n",
      "Loss:  22.148940384471988\n",
      "\n",
      "================================================================================================================\n",
      "loop_id:  57\n"
     ]
    },
    {
     "name": "stderr",
     "output_type": "stream",
     "text": [
      "Optimizing:  58%|█████▊    | 58/100 [00:31<00:23,  1.77it/s, loss=15.4]"
     ]
    },
    {
     "name": "stdout",
     "output_type": "stream",
     "text": [
      "-----------------------------------------------------------------\n",
      "loss_contour:  tensor(66240075.6801, device='cuda:0', dtype=torch.float64,\n",
      "       grad_fn=<AddBackward0>)\n",
      "loss_tip_distance:  tensor(15.4073, device='cuda:0', dtype=torch.float64, grad_fn=<MeanBackward0>)\n",
      "loss:  tensor(15.4073, device='cuda:0', dtype=torch.float64, grad_fn=<MulBackward0>)\n",
      "-----------------------------------------------------------------\n",
      "Gradients BEFORE BACKWARD PASS:\n",
      "para_init: No gradient computed\n",
      "Gradients AFTER BACKWARD PASS:\n",
      "Parameter: para_init, Gradient: 6630.07177734375\n",
      "Parameter: para_init, Updated Value: tensor([ 0.0340, -0.0100,  0.5360,  0.1309, -0.1912,  0.7703], device='cuda:0')\n",
      "Loss:  15.407272120688813\n",
      "\n",
      "================================================================================================================\n",
      "loop_id:  58\n"
     ]
    },
    {
     "name": "stderr",
     "output_type": "stream",
     "text": [
      "Optimizing:  59%|█████▉    | 59/100 [00:31<00:22,  1.79it/s, loss=11.4]"
     ]
    },
    {
     "name": "stdout",
     "output_type": "stream",
     "text": [
      "-----------------------------------------------------------------\n",
      "loss_contour:  tensor(99192733.4765, device='cuda:0', dtype=torch.float64,\n",
      "       grad_fn=<AddBackward0>)\n",
      "loss_tip_distance:  tensor(11.3644, device='cuda:0', dtype=torch.float64, grad_fn=<MeanBackward0>)\n",
      "loss:  tensor(11.3644, device='cuda:0', dtype=torch.float64, grad_fn=<MulBackward0>)\n",
      "-----------------------------------------------------------------\n",
      "Gradients BEFORE BACKWARD PASS:\n",
      "para_init: No gradient computed\n",
      "Gradients AFTER BACKWARD PASS:\n",
      "Parameter: para_init, Gradient: 5706.51416015625\n",
      "Parameter: para_init, Updated Value: tensor([ 0.0340, -0.0100,  0.5360,  0.1303, -0.1923,  0.7700], device='cuda:0')\n",
      "Loss:  11.3644294453487\n",
      "\n",
      "================================================================================================================\n",
      "loop_id:  59\n"
     ]
    },
    {
     "name": "stderr",
     "output_type": "stream",
     "text": [
      "Optimizing:  60%|██████    | 60/100 [00:32<00:21,  1.86it/s, loss=9.38]"
     ]
    },
    {
     "name": "stdout",
     "output_type": "stream",
     "text": [
      "-----------------------------------------------------------------\n",
      "loss_contour:  tensor(64363594.3453, device='cuda:0', dtype=torch.float64,\n",
      "       grad_fn=<AddBackward0>)\n",
      "loss_tip_distance:  tensor(9.3799, device='cuda:0', dtype=torch.float64, grad_fn=<MeanBackward0>)\n",
      "loss:  tensor(9.3799, device='cuda:0', dtype=torch.float64, grad_fn=<MulBackward0>)\n",
      "-----------------------------------------------------------------\n",
      "Gradients BEFORE BACKWARD PASS:\n",
      "para_init: No gradient computed\n",
      "Gradients AFTER BACKWARD PASS:\n",
      "Parameter: para_init, Gradient: 5161.49951171875\n",
      "Parameter: para_init, Updated Value: tensor([ 0.0340, -0.0100,  0.5360,  0.1299, -0.1932,  0.7697], device='cuda:0')\n",
      "Loss:  9.379877311894212\n",
      "\n",
      "================================================================================================================\n",
      "loop_id:  60\n"
     ]
    },
    {
     "name": "stderr",
     "output_type": "stream",
     "text": [
      "Optimizing:  61%|██████    | 61/100 [00:32<00:20,  1.93it/s, loss=8.87]"
     ]
    },
    {
     "name": "stdout",
     "output_type": "stream",
     "text": [
      "-----------------------------------------------------------------\n",
      "loss_contour:  tensor(1.1366e+08, device='cuda:0', dtype=torch.float64,\n",
      "       grad_fn=<AddBackward0>)\n",
      "loss_tip_distance:  tensor(8.8654, device='cuda:0', dtype=torch.float64, grad_fn=<MeanBackward0>)\n",
      "loss:  tensor(8.8654, device='cuda:0', dtype=torch.float64, grad_fn=<MulBackward0>)\n",
      "-----------------------------------------------------------------\n",
      "Gradients BEFORE BACKWARD PASS:\n",
      "para_init: No gradient computed\n",
      "Gradients AFTER BACKWARD PASS:\n",
      "Parameter: para_init, Gradient: 4967.1474609375\n",
      "Parameter: para_init, Updated Value: tensor([ 0.0340, -0.0100,  0.5360,  0.1296, -0.1941,  0.7695], device='cuda:0')\n",
      "Loss:  8.86540428658745\n",
      "\n",
      "================================================================================================================\n",
      "loop_id:  61\n"
     ]
    },
    {
     "name": "stderr",
     "output_type": "stream",
     "text": [
      "Optimizing:  62%|██████▏   | 62/100 [00:33<00:19,  1.94it/s, loss=9.31]"
     ]
    },
    {
     "name": "stdout",
     "output_type": "stream",
     "text": [
      "-----------------------------------------------------------------\n",
      "loss_contour:  tensor(95611200.5671, device='cuda:0', dtype=torch.float64,\n",
      "       grad_fn=<AddBackward0>)\n",
      "loss_tip_distance:  tensor(9.3106, device='cuda:0', dtype=torch.float64, grad_fn=<MeanBackward0>)\n",
      "loss:  tensor(9.3106, device='cuda:0', dtype=torch.float64, grad_fn=<MulBackward0>)\n",
      "-----------------------------------------------------------------\n",
      "Gradients BEFORE BACKWARD PASS:\n",
      "para_init: No gradient computed\n",
      "Gradients AFTER BACKWARD PASS:\n",
      "Parameter: para_init, Gradient: 5033.859375\n",
      "Parameter: para_init, Updated Value: tensor([ 0.0340, -0.0100,  0.5360,  0.1294, -0.1949,  0.7693], device='cuda:0')\n",
      "Loss:  9.310635391128097\n",
      "\n",
      "================================================================================================================\n",
      "loop_id:  62\n"
     ]
    },
    {
     "name": "stderr",
     "output_type": "stream",
     "text": [
      "Optimizing:  63%|██████▎   | 63/100 [00:33<00:18,  1.96it/s, loss=10.3]"
     ]
    },
    {
     "name": "stdout",
     "output_type": "stream",
     "text": [
      "-----------------------------------------------------------------\n",
      "loss_contour:  tensor(70531982.2243, device='cuda:0', dtype=torch.float64,\n",
      "       grad_fn=<AddBackward0>)\n",
      "loss_tip_distance:  tensor(10.2992, device='cuda:0', dtype=torch.float64, grad_fn=<MeanBackward0>)\n",
      "loss:  tensor(10.2992, device='cuda:0', dtype=torch.float64, grad_fn=<MulBackward0>)\n",
      "-----------------------------------------------------------------\n",
      "Gradients BEFORE BACKWARD PASS:\n",
      "para_init: No gradient computed\n",
      "Gradients AFTER BACKWARD PASS:\n",
      "Parameter: para_init, Gradient: 5250.009765625\n",
      "Parameter: para_init, Updated Value: tensor([ 0.0340, -0.0100,  0.5360,  0.1293, -0.1956,  0.7691], device='cuda:0')\n",
      "Loss:  10.299175642617696\n",
      "\n",
      "================================================================================================================\n",
      "loop_id:  63\n"
     ]
    },
    {
     "name": "stderr",
     "output_type": "stream",
     "text": [
      "Optimizing:  64%|██████▍   | 64/100 [00:34<00:18,  1.97it/s, loss=11.5]"
     ]
    },
    {
     "name": "stdout",
     "output_type": "stream",
     "text": [
      "-----------------------------------------------------------------\n",
      "loss_contour:  tensor(1.3246e+09, device='cuda:0', dtype=torch.float64,\n",
      "       grad_fn=<AddBackward0>)\n",
      "loss_tip_distance:  tensor(11.5124, device='cuda:0', dtype=torch.float64, grad_fn=<MeanBackward0>)\n",
      "loss:  tensor(11.5124, device='cuda:0', dtype=torch.float64, grad_fn=<MulBackward0>)\n",
      "-----------------------------------------------------------------\n",
      "Gradients BEFORE BACKWARD PASS:\n",
      "para_init: No gradient computed\n",
      "Gradients AFTER BACKWARD PASS:\n",
      "Parameter: para_init, Gradient: 5523.603515625\n",
      "Parameter: para_init, Updated Value: tensor([ 0.0340, -0.0100,  0.5360,  0.1294, -0.1963,  0.7688], device='cuda:0')\n",
      "Loss:  11.512441494318054\n",
      "\n",
      "================================================================================================================\n",
      "loop_id:  64\n"
     ]
    },
    {
     "name": "stderr",
     "output_type": "stream",
     "text": [
      "Optimizing:  65%|██████▌   | 65/100 [00:34<00:17,  1.99it/s, loss=12.7]"
     ]
    },
    {
     "name": "stdout",
     "output_type": "stream",
     "text": [
      "-----------------------------------------------------------------\n",
      "loss_contour:  tensor(1.0793e+08, device='cuda:0', dtype=torch.float64,\n",
      "       grad_fn=<AddBackward0>)\n",
      "loss_tip_distance:  tensor(12.7260, device='cuda:0', dtype=torch.float64, grad_fn=<MeanBackward0>)\n",
      "loss:  tensor(12.7260, device='cuda:0', dtype=torch.float64, grad_fn=<MulBackward0>)\n",
      "-----------------------------------------------------------------\n",
      "Gradients BEFORE BACKWARD PASS:\n",
      "para_init: No gradient computed\n",
      "Gradients AFTER BACKWARD PASS:\n",
      "Parameter: para_init, Gradient: 5795.83251953125\n",
      "Parameter: para_init, Updated Value: tensor([ 0.0340, -0.0100,  0.5360,  0.1295, -0.1968,  0.7687], device='cuda:0')\n",
      "Loss:  12.726000201737767\n",
      "\n",
      "================================================================================================================\n",
      "loop_id:  65\n"
     ]
    },
    {
     "name": "stderr",
     "output_type": "stream",
     "text": [
      "Optimizing:  66%|██████▌   | 66/100 [00:35<00:17,  1.99it/s, loss=13.8]"
     ]
    },
    {
     "name": "stdout",
     "output_type": "stream",
     "text": [
      "-----------------------------------------------------------------\n",
      "loss_contour:  tensor(1.9622e+08, device='cuda:0', dtype=torch.float64,\n",
      "       grad_fn=<AddBackward0>)\n",
      "loss_tip_distance:  tensor(13.7987, device='cuda:0', dtype=torch.float64, grad_fn=<MeanBackward0>)\n",
      "loss:  tensor(13.7987, device='cuda:0', dtype=torch.float64, grad_fn=<MulBackward0>)\n",
      "-----------------------------------------------------------------\n",
      "Gradients BEFORE BACKWARD PASS:\n",
      "para_init: No gradient computed\n",
      "Gradients AFTER BACKWARD PASS:\n",
      "Parameter: para_init, Gradient: 6035.6015625\n",
      "Parameter: para_init, Updated Value: tensor([ 0.0340, -0.0100,  0.5360,  0.1297, -0.1973,  0.7685], device='cuda:0')\n",
      "Loss:  13.79869228710326\n",
      "\n",
      "================================================================================================================\n",
      "loop_id:  66\n"
     ]
    },
    {
     "name": "stderr",
     "output_type": "stream",
     "text": [
      "Optimizing:  67%|██████▋   | 67/100 [00:35<00:16,  1.96it/s, loss=14.7]"
     ]
    },
    {
     "name": "stdout",
     "output_type": "stream",
     "text": [
      "-----------------------------------------------------------------\n",
      "loss_contour:  tensor(61604449.3597, device='cuda:0', dtype=torch.float64,\n",
      "       grad_fn=<AddBackward0>)\n",
      "loss_tip_distance:  tensor(14.6572, device='cuda:0', dtype=torch.float64, grad_fn=<MeanBackward0>)\n",
      "loss:  tensor(14.6572, device='cuda:0', dtype=torch.float64, grad_fn=<MulBackward0>)\n",
      "-----------------------------------------------------------------\n",
      "Gradients BEFORE BACKWARD PASS:\n",
      "para_init: No gradient computed\n",
      "Gradients AFTER BACKWARD PASS:\n",
      "Parameter: para_init, Gradient: 6230.15380859375\n",
      "Parameter: para_init, Updated Value: tensor([ 0.0340, -0.0100,  0.5360,  0.1300, -0.1977,  0.7683], device='cuda:0')\n",
      "Loss:  14.657234597590097\n",
      "\n",
      "================================================================================================================\n",
      "loop_id:  67\n"
     ]
    },
    {
     "name": "stderr",
     "output_type": "stream",
     "text": [
      "Optimizing:  68%|██████▊   | 68/100 [00:36<00:16,  1.99it/s, loss=15.3]"
     ]
    },
    {
     "name": "stdout",
     "output_type": "stream",
     "text": [
      "-----------------------------------------------------------------\n",
      "loss_contour:  tensor(96364235.0315, device='cuda:0', dtype=torch.float64,\n",
      "       grad_fn=<AddBackward0>)\n",
      "loss_tip_distance:  tensor(15.2786, device='cuda:0', dtype=torch.float64, grad_fn=<MeanBackward0>)\n",
      "loss:  tensor(15.2786, device='cuda:0', dtype=torch.float64, grad_fn=<MulBackward0>)\n",
      "-----------------------------------------------------------------\n",
      "Gradients BEFORE BACKWARD PASS:\n",
      "para_init: No gradient computed\n",
      "Gradients AFTER BACKWARD PASS:\n",
      "Parameter: para_init, Gradient: 6377.47509765625\n",
      "Parameter: para_init, Updated Value: tensor([ 0.0340, -0.0100,  0.5360,  0.1304, -0.1981,  0.7682], device='cuda:0')\n",
      "Loss:  15.27858846276488\n",
      "\n",
      "================================================================================================================\n",
      "loop_id:  68\n"
     ]
    },
    {
     "name": "stderr",
     "output_type": "stream",
     "text": [
      "Optimizing:  69%|██████▉   | 69/100 [00:36<00:15,  1.96it/s, loss=15.7]"
     ]
    },
    {
     "name": "stdout",
     "output_type": "stream",
     "text": [
      "-----------------------------------------------------------------\n",
      "loss_contour:  tensor(1.3265e+08, device='cuda:0', dtype=torch.float64,\n",
      "       grad_fn=<AddBackward0>)\n",
      "loss_tip_distance:  tensor(15.6731, device='cuda:0', dtype=torch.float64, grad_fn=<MeanBackward0>)\n",
      "loss:  tensor(15.6731, device='cuda:0', dtype=torch.float64, grad_fn=<MulBackward0>)\n",
      "-----------------------------------------------------------------\n",
      "Gradients BEFORE BACKWARD PASS:\n",
      "para_init: No gradient computed\n",
      "Gradients AFTER BACKWARD PASS:\n",
      "Parameter: para_init, Gradient: 6481.21630859375\n",
      "Parameter: para_init, Updated Value: tensor([ 0.0340, -0.0100,  0.5360,  0.1308, -0.1983,  0.7681], device='cuda:0')\n",
      "Loss:  15.673078417033832\n",
      "\n",
      "================================================================================================================\n",
      "loop_id:  69\n"
     ]
    },
    {
     "name": "stderr",
     "output_type": "stream",
     "text": [
      "Optimizing:  70%|███████   | 70/100 [00:37<00:15,  1.96it/s, loss=15.9]"
     ]
    },
    {
     "name": "stdout",
     "output_type": "stream",
     "text": [
      "-----------------------------------------------------------------\n",
      "loss_contour:  tensor(77737968.0248, device='cuda:0', dtype=torch.float64,\n",
      "       grad_fn=<AddBackward0>)\n",
      "loss_tip_distance:  tensor(15.8685, device='cuda:0', dtype=torch.float64, grad_fn=<MeanBackward0>)\n",
      "loss:  tensor(15.8685, device='cuda:0', dtype=torch.float64, grad_fn=<MulBackward0>)\n",
      "-----------------------------------------------------------------\n",
      "Gradients BEFORE BACKWARD PASS:\n",
      "para_init: No gradient computed\n",
      "Gradients AFTER BACKWARD PASS:\n",
      "Parameter: para_init, Gradient: 6547.1982421875\n",
      "Parameter: para_init, Updated Value: tensor([ 0.0340, -0.0100,  0.5360,  0.1312, -0.1985,  0.7680], device='cuda:0')\n",
      "Loss:  15.868540426232405\n",
      "\n",
      "================================================================================================================\n",
      "loop_id:  70\n"
     ]
    },
    {
     "name": "stderr",
     "output_type": "stream",
     "text": [
      "Optimizing:  71%|███████   | 71/100 [00:37<00:14,  1.94it/s, loss=15.9]"
     ]
    },
    {
     "name": "stdout",
     "output_type": "stream",
     "text": [
      "-----------------------------------------------------------------\n",
      "loss_contour:  tensor(1.0118e+09, device='cuda:0', dtype=torch.float64,\n",
      "       grad_fn=<AddBackward0>)\n",
      "loss_tip_distance:  tensor(15.8977, device='cuda:0', dtype=torch.float64, grad_fn=<MeanBackward0>)\n",
      "loss:  tensor(15.8977, device='cuda:0', dtype=torch.float64, grad_fn=<MulBackward0>)\n",
      "-----------------------------------------------------------------\n",
      "Gradients BEFORE BACKWARD PASS:\n",
      "para_init: No gradient computed\n",
      "Gradients AFTER BACKWARD PASS:\n",
      "Parameter: para_init, Gradient: 6581.16748046875\n",
      "Parameter: para_init, Updated Value: tensor([ 0.0340, -0.0100,  0.5360,  0.1317, -0.1986,  0.7680], device='cuda:0')\n",
      "Loss:  15.897729901678328\n",
      "\n",
      "================================================================================================================\n",
      "loop_id:  71\n"
     ]
    },
    {
     "name": "stderr",
     "output_type": "stream",
     "text": [
      "Optimizing:  72%|███████▏  | 72/100 [00:38<00:14,  1.96it/s, loss=15.8]"
     ]
    },
    {
     "name": "stdout",
     "output_type": "stream",
     "text": [
      "-----------------------------------------------------------------\n",
      "loss_contour:  tensor(68461388.2932, device='cuda:0', dtype=torch.float64,\n",
      "       grad_fn=<AddBackward0>)\n",
      "loss_tip_distance:  tensor(15.7889, device='cuda:0', dtype=torch.float64, grad_fn=<MeanBackward0>)\n",
      "loss:  tensor(15.7889, device='cuda:0', dtype=torch.float64, grad_fn=<MulBackward0>)\n",
      "-----------------------------------------------------------------\n",
      "Gradients BEFORE BACKWARD PASS:\n",
      "para_init: No gradient computed\n",
      "Gradients AFTER BACKWARD PASS:\n",
      "Parameter: para_init, Gradient: 6587.32275390625\n",
      "Parameter: para_init, Updated Value: tensor([ 0.0340, -0.0100,  0.5360,  0.1321, -0.1987,  0.7679], device='cuda:0')\n",
      "Loss:  15.788916780402358\n",
      "\n",
      "================================================================================================================\n",
      "loop_id:  72\n"
     ]
    },
    {
     "name": "stderr",
     "output_type": "stream",
     "text": [
      "Optimizing:  73%|███████▎  | 73/100 [00:38<00:13,  1.93it/s, loss=15.6]"
     ]
    },
    {
     "name": "stdout",
     "output_type": "stream",
     "text": [
      "-----------------------------------------------------------------\n",
      "loss_contour:  tensor(1.2163e+08, device='cuda:0', dtype=torch.float64,\n",
      "       grad_fn=<AddBackward0>)\n",
      "loss_tip_distance:  tensor(15.5620, device='cuda:0', dtype=torch.float64, grad_fn=<MeanBackward0>)\n",
      "loss:  tensor(15.5620, device='cuda:0', dtype=torch.float64, grad_fn=<MulBackward0>)\n",
      "-----------------------------------------------------------------\n",
      "Gradients BEFORE BACKWARD PASS:\n",
      "para_init: No gradient computed\n",
      "Gradients AFTER BACKWARD PASS:\n",
      "Parameter: para_init, Gradient: 6567.8798828125\n",
      "Parameter: para_init, Updated Value: tensor([ 0.0340, -0.0100,  0.5360,  0.1325, -0.1987,  0.7679], device='cuda:0')\n",
      "Loss:  15.561954500325195\n",
      "\n",
      "================================================================================================================\n",
      "loop_id:  73\n"
     ]
    },
    {
     "name": "stderr",
     "output_type": "stream",
     "text": [
      "Optimizing:  74%|███████▍  | 74/100 [00:39<00:13,  1.90it/s, loss=15.2]"
     ]
    },
    {
     "name": "stdout",
     "output_type": "stream",
     "text": [
      "-----------------------------------------------------------------\n",
      "loss_contour:  tensor(82708213.9139, device='cuda:0', dtype=torch.float64,\n",
      "       grad_fn=<AddBackward0>)\n",
      "loss_tip_distance:  tensor(15.2255, device='cuda:0', dtype=torch.float64, grad_fn=<MeanBackward0>)\n",
      "loss:  tensor(15.2255, device='cuda:0', dtype=torch.float64, grad_fn=<MulBackward0>)\n",
      "-----------------------------------------------------------------\n",
      "Gradients BEFORE BACKWARD PASS:\n",
      "para_init: No gradient computed\n",
      "Gradients AFTER BACKWARD PASS:\n",
      "Parameter: para_init, Gradient: 6522.7080078125\n",
      "Parameter: para_init, Updated Value: tensor([ 0.0340, -0.0100,  0.5360,  0.1329, -0.1987,  0.7679], device='cuda:0')\n",
      "Loss:  15.225549259468373\n",
      "\n",
      "================================================================================================================\n",
      "loop_id:  74\n"
     ]
    },
    {
     "name": "stderr",
     "output_type": "stream",
     "text": [
      "Optimizing:  75%|███████▌  | 75/100 [00:40<00:13,  1.88it/s, loss=14.8]"
     ]
    },
    {
     "name": "stdout",
     "output_type": "stream",
     "text": [
      "-----------------------------------------------------------------\n",
      "loss_contour:  tensor(78566981.0207, device='cuda:0', dtype=torch.float64,\n",
      "       grad_fn=<AddBackward0>)\n",
      "loss_tip_distance:  tensor(14.7796, device='cuda:0', dtype=torch.float64, grad_fn=<MeanBackward0>)\n",
      "loss:  tensor(14.7796, device='cuda:0', dtype=torch.float64, grad_fn=<MulBackward0>)\n",
      "-----------------------------------------------------------------\n",
      "Gradients BEFORE BACKWARD PASS:\n",
      "para_init: No gradient computed\n",
      "Gradients AFTER BACKWARD PASS:\n",
      "Parameter: para_init, Gradient: 6449.876953125\n",
      "Parameter: para_init, Updated Value: tensor([ 0.0340, -0.0100,  0.5360,  0.1333, -0.1986,  0.7679], device='cuda:0')\n",
      "Loss:  14.77956010987503\n",
      "\n",
      "================================================================================================================\n",
      "loop_id:  75\n"
     ]
    },
    {
     "name": "stderr",
     "output_type": "stream",
     "text": [
      "Optimizing:  76%|███████▌  | 76/100 [00:40<00:12,  1.89it/s, loss=14.2]"
     ]
    },
    {
     "name": "stdout",
     "output_type": "stream",
     "text": [
      "-----------------------------------------------------------------\n",
      "loss_contour:  tensor(1.0687e+08, device='cuda:0', dtype=torch.float64,\n",
      "       grad_fn=<AddBackward0>)\n",
      "loss_tip_distance:  tensor(14.2176, device='cuda:0', dtype=torch.float64, grad_fn=<MeanBackward0>)\n",
      "loss:  tensor(14.2176, device='cuda:0', dtype=torch.float64, grad_fn=<MulBackward0>)\n",
      "-----------------------------------------------------------------\n",
      "Gradients BEFORE BACKWARD PASS:\n",
      "para_init: No gradient computed\n",
      "Gradients AFTER BACKWARD PASS:\n",
      "Parameter: para_init, Gradient: 6346.1015625\n",
      "Parameter: para_init, Updated Value: tensor([ 0.0340, -0.0100,  0.5360,  0.1336, -0.1984,  0.7680], device='cuda:0')\n",
      "Loss:  14.217596348408232\n",
      "\n",
      "================================================================================================================\n",
      "loop_id:  76\n"
     ]
    },
    {
     "name": "stderr",
     "output_type": "stream",
     "text": [
      "Optimizing:  77%|███████▋  | 77/100 [00:41<00:13,  1.71it/s, loss=13.5]"
     ]
    },
    {
     "name": "stdout",
     "output_type": "stream",
     "text": [
      "-----------------------------------------------------------------\n",
      "loss_contour:  tensor(70593194.6741, device='cuda:0', dtype=torch.float64,\n",
      "       grad_fn=<AddBackward0>)\n",
      "loss_tip_distance:  tensor(13.5321, device='cuda:0', dtype=torch.float64, grad_fn=<MeanBackward0>)\n",
      "loss:  tensor(13.5321, device='cuda:0', dtype=torch.float64, grad_fn=<MulBackward0>)\n",
      "-----------------------------------------------------------------\n",
      "Gradients BEFORE BACKWARD PASS:\n",
      "para_init: No gradient computed\n",
      "Gradients AFTER BACKWARD PASS:\n",
      "Parameter: para_init, Gradient: 6207.65625\n",
      "Parameter: para_init, Updated Value: tensor([ 0.0340, -0.0100,  0.5360,  0.1339, -0.1983,  0.7680], device='cuda:0')\n",
      "Loss:  13.532078760218203\n",
      "\n",
      "================================================================================================================\n",
      "loop_id:  77\n"
     ]
    },
    {
     "name": "stderr",
     "output_type": "stream",
     "text": [
      "Optimizing:  78%|███████▊  | 78/100 [00:41<00:12,  1.77it/s, loss=12.7]"
     ]
    },
    {
     "name": "stdout",
     "output_type": "stream",
     "text": [
      "-----------------------------------------------------------------\n",
      "loss_contour:  tensor(62430903.5688, device='cuda:0', dtype=torch.float64,\n",
      "       grad_fn=<AddBackward0>)\n",
      "loss_tip_distance:  tensor(12.7176, device='cuda:0', dtype=torch.float64, grad_fn=<MeanBackward0>)\n",
      "loss:  tensor(12.7176, device='cuda:0', dtype=torch.float64, grad_fn=<MulBackward0>)\n",
      "-----------------------------------------------------------------\n",
      "Gradients BEFORE BACKWARD PASS:\n",
      "para_init: No gradient computed\n",
      "Gradients AFTER BACKWARD PASS:\n",
      "Parameter: para_init, Gradient: 6030.86474609375\n",
      "Parameter: para_init, Updated Value: tensor([ 0.0340, -0.0100,  0.5360,  0.1341, -0.1981,  0.7681], device='cuda:0')\n",
      "Loss:  12.717641773223203\n",
      "\n",
      "================================================================================================================\n",
      "loop_id:  78\n"
     ]
    },
    {
     "name": "stderr",
     "output_type": "stream",
     "text": [
      "Optimizing:  79%|███████▉  | 79/100 [00:42<00:11,  1.83it/s, loss=11.8]"
     ]
    },
    {
     "name": "stdout",
     "output_type": "stream",
     "text": [
      "-----------------------------------------------------------------\n",
      "loss_contour:  tensor(1.4574e+08, device='cuda:0', dtype=torch.float64,\n",
      "       grad_fn=<AddBackward0>)\n",
      "loss_tip_distance:  tensor(11.7757, device='cuda:0', dtype=torch.float64, grad_fn=<MeanBackward0>)\n",
      "loss:  tensor(11.7757, device='cuda:0', dtype=torch.float64, grad_fn=<MulBackward0>)\n",
      "-----------------------------------------------------------------\n",
      "Gradients BEFORE BACKWARD PASS:\n",
      "para_init: No gradient computed\n",
      "Gradients AFTER BACKWARD PASS:\n",
      "Parameter: para_init, Gradient: 5812.92041015625\n",
      "Parameter: para_init, Updated Value: tensor([ 0.0340, -0.0100,  0.5360,  0.1343, -0.1979,  0.7682], device='cuda:0')\n",
      "Loss:  11.775699788034384\n",
      "\n",
      "================================================================================================================\n",
      "loop_id:  79\n"
     ]
    },
    {
     "name": "stderr",
     "output_type": "stream",
     "text": [
      "Optimizing:  80%|████████  | 80/100 [00:42<00:10,  1.89it/s, loss=10.7]"
     ]
    },
    {
     "name": "stdout",
     "output_type": "stream",
     "text": [
      "-----------------------------------------------------------------\n",
      "loss_contour:  tensor(57026893.7246, device='cuda:0', dtype=torch.float64,\n",
      "       grad_fn=<AddBackward0>)\n",
      "loss_tip_distance:  tensor(10.7168, device='cuda:0', dtype=torch.float64, grad_fn=<MeanBackward0>)\n",
      "loss:  tensor(10.7168, device='cuda:0', dtype=torch.float64, grad_fn=<MulBackward0>)\n",
      "-----------------------------------------------------------------\n",
      "Gradients BEFORE BACKWARD PASS:\n",
      "para_init: No gradient computed\n",
      "Gradients AFTER BACKWARD PASS:\n",
      "Parameter: para_init, Gradient: 5552.3154296875\n",
      "Parameter: para_init, Updated Value: tensor([ 0.0340, -0.0100,  0.5360,  0.1344, -0.1976,  0.7683], device='cuda:0')\n",
      "Loss:  10.716789043725777\n",
      "\n",
      "================================================================================================================\n",
      "loop_id:  80\n"
     ]
    },
    {
     "name": "stderr",
     "output_type": "stream",
     "text": [
      "Optimizing:  81%|████████  | 81/100 [00:43<00:09,  1.93it/s, loss=9.56]"
     ]
    },
    {
     "name": "stdout",
     "output_type": "stream",
     "text": [
      "-----------------------------------------------------------------\n",
      "loss_contour:  tensor(70823180.8391, device='cuda:0', dtype=torch.float64,\n",
      "       grad_fn=<AddBackward0>)\n",
      "loss_tip_distance:  tensor(9.5610, device='cuda:0', dtype=torch.float64, grad_fn=<MeanBackward0>)\n",
      "loss:  tensor(9.5610, device='cuda:0', dtype=torch.float64, grad_fn=<MulBackward0>)\n",
      "-----------------------------------------------------------------\n",
      "Gradients BEFORE BACKWARD PASS:\n",
      "para_init: No gradient computed\n",
      "Gradients AFTER BACKWARD PASS:\n",
      "Parameter: para_init, Gradient: 5249.00146484375\n",
      "Parameter: para_init, Updated Value: tensor([ 0.0340, -0.0100,  0.5360,  0.1345, -0.1974,  0.7684], device='cuda:0')\n",
      "Loss:  9.561016647180853\n",
      "\n",
      "================================================================================================================\n",
      "loop_id:  81\n"
     ]
    },
    {
     "name": "stderr",
     "output_type": "stream",
     "text": [
      "Optimizing:  82%|████████▏ | 82/100 [00:43<00:09,  1.93it/s, loss=8.34]"
     ]
    },
    {
     "name": "stdout",
     "output_type": "stream",
     "text": [
      "-----------------------------------------------------------------\n",
      "loss_contour:  tensor(54022414.6775, device='cuda:0', dtype=torch.float64,\n",
      "       grad_fn=<AddBackward0>)\n",
      "loss_tip_distance:  tensor(8.3383, device='cuda:0', dtype=torch.float64, grad_fn=<MeanBackward0>)\n",
      "loss:  tensor(8.3383, device='cuda:0', dtype=torch.float64, grad_fn=<MulBackward0>)\n",
      "-----------------------------------------------------------------\n",
      "Gradients BEFORE BACKWARD PASS:\n",
      "para_init: No gradient computed\n",
      "Gradients AFTER BACKWARD PASS:\n",
      "Parameter: para_init, Gradient: 4904.7158203125\n",
      "Parameter: para_init, Updated Value: tensor([ 0.0340, -0.0100,  0.5360,  0.1345, -0.1971,  0.7686], device='cuda:0')\n",
      "Loss:  8.33825207290424\n",
      "\n",
      "================================================================================================================\n",
      "loop_id:  82\n"
     ]
    },
    {
     "name": "stderr",
     "output_type": "stream",
     "text": [
      "Optimizing:  83%|████████▎ | 83/100 [00:44<00:08,  1.95it/s, loss=7.09]"
     ]
    },
    {
     "name": "stdout",
     "output_type": "stream",
     "text": [
      "-----------------------------------------------------------------\n",
      "loss_contour:  tensor(54962793.8171, device='cuda:0', dtype=torch.float64,\n",
      "       grad_fn=<AddBackward0>)\n",
      "loss_tip_distance:  tensor(7.0853, device='cuda:0', dtype=torch.float64, grad_fn=<MeanBackward0>)\n",
      "loss:  tensor(7.0853, device='cuda:0', dtype=torch.float64, grad_fn=<MulBackward0>)\n",
      "-----------------------------------------------------------------\n",
      "Gradients BEFORE BACKWARD PASS:\n",
      "para_init: No gradient computed\n",
      "Gradients AFTER BACKWARD PASS:\n",
      "Parameter: para_init, Gradient: 4522.73779296875\n",
      "Parameter: para_init, Updated Value: tensor([ 0.0340, -0.0100,  0.5360,  0.1345, -0.1968,  0.7687], device='cuda:0')\n",
      "Loss:  7.085301925694133\n",
      "\n",
      "================================================================================================================\n",
      "loop_id:  83\n"
     ]
    },
    {
     "name": "stderr",
     "output_type": "stream",
     "text": [
      "Optimizing:  84%|████████▍ | 84/100 [00:44<00:08,  1.97it/s, loss=5.84]"
     ]
    },
    {
     "name": "stdout",
     "output_type": "stream",
     "text": [
      "-----------------------------------------------------------------\n",
      "loss_contour:  tensor(90545923.7095, device='cuda:0', dtype=torch.float64,\n",
      "       grad_fn=<AddBackward0>)\n",
      "loss_tip_distance:  tensor(5.8433, device='cuda:0', dtype=torch.float64, grad_fn=<MeanBackward0>)\n",
      "loss:  tensor(5.8433, device='cuda:0', dtype=torch.float64, grad_fn=<MulBackward0>)\n",
      "-----------------------------------------------------------------\n",
      "Gradients BEFORE BACKWARD PASS:\n",
      "para_init: No gradient computed\n",
      "Gradients AFTER BACKWARD PASS:\n",
      "Parameter: para_init, Gradient: 4107.84375\n",
      "Parameter: para_init, Updated Value: tensor([ 0.0340, -0.0100,  0.5360,  0.1344, -0.1965,  0.7688], device='cuda:0')\n",
      "Loss:  5.843294734632766\n",
      "\n",
      "================================================================================================================\n",
      "loop_id:  84\n"
     ]
    },
    {
     "name": "stderr",
     "output_type": "stream",
     "text": [
      "Optimizing:  85%|████████▌ | 85/100 [00:45<00:07,  1.93it/s, loss=4.65]"
     ]
    },
    {
     "name": "stdout",
     "output_type": "stream",
     "text": [
      "-----------------------------------------------------------------\n",
      "loss_contour:  tensor(51373558.4154, device='cuda:0', dtype=torch.float64,\n",
      "       grad_fn=<AddBackward0>)\n",
      "loss_tip_distance:  tensor(4.6541, device='cuda:0', dtype=torch.float64, grad_fn=<MeanBackward0>)\n",
      "loss:  tensor(4.6541, device='cuda:0', dtype=torch.float64, grad_fn=<MulBackward0>)\n",
      "-----------------------------------------------------------------\n",
      "Gradients BEFORE BACKWARD PASS:\n",
      "para_init: No gradient computed\n",
      "Gradients AFTER BACKWARD PASS:\n",
      "Parameter: para_init, Gradient: 3666.0927734375\n",
      "Parameter: para_init, Updated Value: tensor([ 0.0340, -0.0100,  0.5360,  0.1344, -0.1962,  0.7689], device='cuda:0')\n",
      "Loss:  4.654123183063434\n",
      "\n",
      "================================================================================================================\n",
      "loop_id:  85\n"
     ]
    },
    {
     "name": "stderr",
     "output_type": "stream",
     "text": [
      "Optimizing:  86%|████████▌ | 86/100 [00:45<00:07,  1.88it/s, loss=3.56]"
     ]
    },
    {
     "name": "stdout",
     "output_type": "stream",
     "text": [
      "-----------------------------------------------------------------\n",
      "loss_contour:  tensor(79630954.8124, device='cuda:0', dtype=torch.float64,\n",
      "       grad_fn=<AddBackward0>)\n",
      "loss_tip_distance:  tensor(3.5569, device='cuda:0', dtype=torch.float64, grad_fn=<MeanBackward0>)\n",
      "loss:  tensor(3.5569, device='cuda:0', dtype=torch.float64, grad_fn=<MulBackward0>)\n",
      "-----------------------------------------------------------------\n",
      "Gradients BEFORE BACKWARD PASS:\n",
      "para_init: No gradient computed\n",
      "Gradients AFTER BACKWARD PASS:\n",
      "Parameter: para_init, Gradient: 3204.6044921875\n",
      "Parameter: para_init, Updated Value: tensor([ 0.0340, -0.0100,  0.5360,  0.1342, -0.1960,  0.7691], device='cuda:0')\n",
      "Loss:  3.556923797436758\n",
      "\n",
      "================================================================================================================\n",
      "loop_id:  86\n"
     ]
    },
    {
     "name": "stderr",
     "output_type": "stream",
     "text": [
      "Optimizing:  87%|████████▋ | 87/100 [00:46<00:06,  1.90it/s, loss=2.58]"
     ]
    },
    {
     "name": "stdout",
     "output_type": "stream",
     "text": [
      "-----------------------------------------------------------------\n",
      "loss_contour:  tensor(66831026.2389, device='cuda:0', dtype=torch.float64,\n",
      "       grad_fn=<AddBackward0>)\n",
      "loss_tip_distance:  tensor(2.5844, device='cuda:0', dtype=torch.float64, grad_fn=<MeanBackward0>)\n",
      "loss:  tensor(2.5844, device='cuda:0', dtype=torch.float64, grad_fn=<MulBackward0>)\n",
      "-----------------------------------------------------------------\n",
      "Gradients BEFORE BACKWARD PASS:\n",
      "para_init: No gradient computed\n",
      "Gradients AFTER BACKWARD PASS:\n",
      "Parameter: para_init, Gradient: 2731.074951171875\n",
      "Parameter: para_init, Updated Value: tensor([ 0.0340, -0.0100,  0.5360,  0.1341, -0.1957,  0.7692], device='cuda:0')\n",
      "Loss:  2.584370605386785\n",
      "\n",
      "================================================================================================================\n",
      "loop_id:  87\n"
     ]
    },
    {
     "name": "stderr",
     "output_type": "stream",
     "text": [
      "Optimizing:  88%|████████▊ | 88/100 [00:46<00:06,  1.92it/s, loss=1.76]"
     ]
    },
    {
     "name": "stdout",
     "output_type": "stream",
     "text": [
      "-----------------------------------------------------------------\n",
      "loss_contour:  tensor(81420355.8218, device='cuda:0', dtype=torch.float64,\n",
      "       grad_fn=<AddBackward0>)\n",
      "loss_tip_distance:  tensor(1.7607, device='cuda:0', dtype=torch.float64, grad_fn=<MeanBackward0>)\n",
      "loss:  tensor(1.7607, device='cuda:0', dtype=torch.float64, grad_fn=<MulBackward0>)\n",
      "-----------------------------------------------------------------\n",
      "Gradients BEFORE BACKWARD PASS:\n",
      "para_init: No gradient computed\n",
      "Gradients AFTER BACKWARD PASS:\n",
      "Parameter: para_init, Gradient: 2253.690673828125\n",
      "Parameter: para_init, Updated Value: tensor([ 0.0340, -0.0100,  0.5360,  0.1340, -0.1954,  0.7694], device='cuda:0')\n",
      "Loss:  1.7607061890035987\n",
      "\n",
      "================================================================================================================\n",
      "loop_id:  88\n"
     ]
    },
    {
     "name": "stderr",
     "output_type": "stream",
     "text": [
      "Optimizing:  89%|████████▉ | 89/100 [00:47<00:05,  1.92it/s, loss=1.1] "
     ]
    },
    {
     "name": "stdout",
     "output_type": "stream",
     "text": [
      "-----------------------------------------------------------------\n",
      "loss_contour:  tensor(54786922.3891, device='cuda:0', dtype=torch.float64,\n",
      "       grad_fn=<AddBackward0>)\n",
      "loss_tip_distance:  tensor(1.0998, device='cuda:0', dtype=torch.float64, grad_fn=<MeanBackward0>)\n",
      "loss:  tensor(1.0998, device='cuda:0', dtype=torch.float64, grad_fn=<MulBackward0>)\n",
      "-----------------------------------------------------------------\n",
      "Gradients BEFORE BACKWARD PASS:\n",
      "para_init: No gradient computed\n",
      "Gradients AFTER BACKWARD PASS:\n",
      "Parameter: para_init, Gradient: 1780.6273193359375\n",
      "Parameter: para_init, Updated Value: tensor([ 0.0340, -0.0100,  0.5360,  0.1338, -0.1952,  0.7695], device='cuda:0')\n",
      "Loss:  1.0997554859313277\n",
      "\n",
      "================================================================================================================\n",
      "loop_id:  89\n"
     ]
    },
    {
     "name": "stderr",
     "output_type": "stream",
     "text": [
      "Optimizing:  90%|█████████ | 90/100 [00:47<00:05,  1.93it/s, loss=0.605]"
     ]
    },
    {
     "name": "stdout",
     "output_type": "stream",
     "text": [
      "-----------------------------------------------------------------\n",
      "loss_contour:  tensor(55172991.9989, device='cuda:0', dtype=torch.float64,\n",
      "       grad_fn=<AddBackward0>)\n",
      "loss_tip_distance:  tensor(0.6048, device='cuda:0', dtype=torch.float64, grad_fn=<MeanBackward0>)\n",
      "loss:  tensor(0.6048, device='cuda:0', dtype=torch.float64, grad_fn=<MulBackward0>)\n",
      "-----------------------------------------------------------------\n",
      "Gradients BEFORE BACKWARD PASS:\n",
      "para_init: No gradient computed\n",
      "Gradients AFTER BACKWARD PASS:\n",
      "Parameter: para_init, Gradient: 1319.9859619140625\n",
      "Parameter: para_init, Updated Value: tensor([ 0.0340, -0.0100,  0.5360,  0.1336, -0.1949,  0.7696], device='cuda:0')\n",
      "Loss:  0.6047820925813185\n",
      "\n",
      "================================================================================================================\n",
      "loop_id:  90\n"
     ]
    },
    {
     "name": "stderr",
     "output_type": "stream",
     "text": [
      "Optimizing:  91%|█████████ | 91/100 [00:48<00:04,  1.95it/s, loss=0.269]"
     ]
    },
    {
     "name": "stdout",
     "output_type": "stream",
     "text": [
      "-----------------------------------------------------------------\n",
      "loss_contour:  tensor(76483049.6861, device='cuda:0', dtype=torch.float64,\n",
      "       grad_fn=<AddBackward0>)\n",
      "loss_tip_distance:  tensor(0.2689, device='cuda:0', dtype=torch.float64, grad_fn=<MeanBackward0>)\n",
      "loss:  tensor(0.2689, device='cuda:0', dtype=torch.float64, grad_fn=<MulBackward0>)\n",
      "-----------------------------------------------------------------\n",
      "Gradients BEFORE BACKWARD PASS:\n",
      "para_init: No gradient computed\n",
      "Gradients AFTER BACKWARD PASS:\n",
      "Parameter: para_init, Gradient: 879.6245727539062\n",
      "Parameter: para_init, Updated Value: tensor([ 0.0340, -0.0100,  0.5360,  0.1335, -0.1947,  0.7697], device='cuda:0')\n",
      "Loss:  0.26886508169395074\n",
      "\n",
      "================================================================================================================\n",
      "loop_id:  91\n"
     ]
    },
    {
     "name": "stderr",
     "output_type": "stream",
     "text": [
      "Optimizing:  92%|█████████▏| 92/100 [00:48<00:04,  1.95it/s, loss=0.0764]"
     ]
    },
    {
     "name": "stdout",
     "output_type": "stream",
     "text": [
      "-----------------------------------------------------------------\n",
      "loss_contour:  tensor(59956985.5258, device='cuda:0', dtype=torch.float64,\n",
      "       grad_fn=<AddBackward0>)\n",
      "loss_tip_distance:  tensor(0.0764, device='cuda:0', dtype=torch.float64, grad_fn=<MeanBackward0>)\n",
      "loss:  tensor(0.0764, device='cuda:0', dtype=torch.float64, grad_fn=<MulBackward0>)\n",
      "-----------------------------------------------------------------\n",
      "Gradients BEFORE BACKWARD PASS:\n",
      "para_init: No gradient computed\n",
      "Gradients AFTER BACKWARD PASS:\n",
      "Parameter: para_init, Gradient: 468.2500915527344\n",
      "Parameter: para_init, Updated Value: tensor([ 0.0340, -0.0100,  0.5360,  0.1334, -0.1945,  0.7698], device='cuda:0')\n",
      "Loss:  0.07644065213430898\n",
      "\n",
      "================================================================================================================\n",
      "loop_id:  92\n"
     ]
    },
    {
     "name": "stderr",
     "output_type": "stream",
     "text": [
      "Optimizing:  93%|█████████▎| 93/100 [00:49<00:03,  1.94it/s, loss=0.0054]"
     ]
    },
    {
     "name": "stdout",
     "output_type": "stream",
     "text": [
      "-----------------------------------------------------------------\n",
      "loss_contour:  tensor(51196581.1968, device='cuda:0', dtype=torch.float64,\n",
      "       grad_fn=<AddBackward0>)\n",
      "loss_tip_distance:  tensor(0.0054, device='cuda:0', dtype=torch.float64, grad_fn=<MeanBackward0>)\n",
      "loss:  tensor(0.0054, device='cuda:0', dtype=torch.float64, grad_fn=<MulBackward0>)\n",
      "-----------------------------------------------------------------\n",
      "Gradients BEFORE BACKWARD PASS:\n",
      "para_init: No gradient computed\n",
      "Gradients AFTER BACKWARD PASS:\n",
      "Parameter: para_init, Gradient: 121.18954467773438\n",
      "Parameter: para_init, Updated Value: tensor([ 0.0340, -0.0100,  0.5360,  0.1332, -0.1943,  0.7699], device='cuda:0')\n",
      "Loss:  0.005402944420996176\n",
      "\n",
      "================================================================================================================\n",
      "loop_id:  93\n"
     ]
    },
    {
     "name": "stderr",
     "output_type": "stream",
     "text": [
      "Optimizing:  94%|█████████▍| 94/100 [00:50<00:03,  1.86it/s, loss=0.0295]"
     ]
    },
    {
     "name": "stdout",
     "output_type": "stream",
     "text": [
      "-----------------------------------------------------------------\n",
      "loss_contour:  tensor(44170545.1527, device='cuda:0', dtype=torch.float64,\n",
      "       grad_fn=<AddBackward0>)\n",
      "loss_tip_distance:  tensor(0.0295, device='cuda:0', dtype=torch.float64, grad_fn=<MeanBackward0>)\n",
      "loss:  tensor(0.0295, device='cuda:0', dtype=torch.float64, grad_fn=<MulBackward0>)\n",
      "-----------------------------------------------------------------\n",
      "Gradients BEFORE BACKWARD PASS:\n",
      "para_init: No gradient computed\n",
      "Gradients AFTER BACKWARD PASS:\n",
      "Parameter: para_init, Gradient: 289.8707580566406\n",
      "Parameter: para_init, Updated Value: tensor([ 0.0340, -0.0100,  0.5360,  0.1331, -0.1941,  0.7700], device='cuda:0')\n",
      "Loss:  0.02949295835479292\n",
      "\n",
      "================================================================================================================\n",
      "loop_id:  94\n"
     ]
    },
    {
     "name": "stderr",
     "output_type": "stream",
     "text": [
      "Optimizing:  95%|█████████▌| 95/100 [00:50<00:02,  1.72it/s, loss=0.121] "
     ]
    },
    {
     "name": "stdout",
     "output_type": "stream",
     "text": [
      "-----------------------------------------------------------------\n",
      "loss_contour:  tensor(1.1820e+08, device='cuda:0', dtype=torch.float64,\n",
      "       grad_fn=<AddBackward0>)\n",
      "loss_tip_distance:  tensor(0.1209, device='cuda:0', dtype=torch.float64, grad_fn=<MeanBackward0>)\n",
      "loss:  tensor(0.1209, device='cuda:0', dtype=torch.float64, grad_fn=<MulBackward0>)\n",
      "-----------------------------------------------------------------\n",
      "Gradients BEFORE BACKWARD PASS:\n",
      "para_init: No gradient computed\n",
      "Gradients AFTER BACKWARD PASS:\n",
      "Parameter: para_init, Gradient: 589.1201171875\n",
      "Parameter: para_init, Updated Value: tensor([ 0.0340, -0.0100,  0.5360,  0.1330, -0.1940,  0.7701], device='cuda:0')\n",
      "Loss:  0.12092345431457127\n",
      "\n",
      "================================================================================================================\n",
      "loop_id:  95\n"
     ]
    },
    {
     "name": "stderr",
     "output_type": "stream",
     "text": [
      "Optimizing:  96%|█████████▌| 96/100 [00:51<00:02,  1.71it/s, loss=0.253]"
     ]
    },
    {
     "name": "stdout",
     "output_type": "stream",
     "text": [
      "-----------------------------------------------------------------\n",
      "loss_contour:  tensor(83020142.9263, device='cuda:0', dtype=torch.float64,\n",
      "       grad_fn=<AddBackward0>)\n",
      "loss_tip_distance:  tensor(0.2527, device='cuda:0', dtype=torch.float64, grad_fn=<MeanBackward0>)\n",
      "loss:  tensor(0.2527, device='cuda:0', dtype=torch.float64, grad_fn=<MulBackward0>)\n",
      "-----------------------------------------------------------------\n",
      "Gradients BEFORE BACKWARD PASS:\n",
      "para_init: No gradient computed\n",
      "Gradients AFTER BACKWARD PASS:\n",
      "Parameter: para_init, Gradient: 852.0348510742188\n",
      "Parameter: para_init, Updated Value: tensor([ 0.0340, -0.0100,  0.5360,  0.1330, -0.1939,  0.7701], device='cuda:0')\n",
      "Loss:  0.2526802519459128\n",
      "\n",
      "================================================================================================================\n",
      "loop_id:  96\n"
     ]
    },
    {
     "name": "stderr",
     "output_type": "stream",
     "text": [
      "Optimizing:  97%|█████████▋| 97/100 [00:51<00:01,  1.76it/s, loss=0.4]  "
     ]
    },
    {
     "name": "stdout",
     "output_type": "stream",
     "text": [
      "-----------------------------------------------------------------\n",
      "loss_contour:  tensor(69327865.2199, device='cuda:0', dtype=torch.float64,\n",
      "       grad_fn=<AddBackward0>)\n",
      "loss_tip_distance:  tensor(0.4005, device='cuda:0', dtype=torch.float64, grad_fn=<MeanBackward0>)\n",
      "loss:  tensor(0.4005, device='cuda:0', dtype=torch.float64, grad_fn=<MulBackward0>)\n",
      "-----------------------------------------------------------------\n",
      "Gradients BEFORE BACKWARD PASS:\n",
      "para_init: No gradient computed\n",
      "Gradients AFTER BACKWARD PASS:\n",
      "Parameter: para_init, Gradient: 1072.7896728515625\n",
      "Parameter: para_init, Updated Value: tensor([ 0.0340, -0.0100,  0.5360,  0.1329, -0.1938,  0.7702], device='cuda:0')\n",
      "Loss:  0.4004949433748565\n",
      "\n",
      "================================================================================================================\n",
      "loop_id:  97\n"
     ]
    },
    {
     "name": "stderr",
     "output_type": "stream",
     "text": [
      "Optimizing:  98%|█████████▊| 98/100 [00:52<00:01,  1.82it/s, loss=0.544]"
     ]
    },
    {
     "name": "stdout",
     "output_type": "stream",
     "text": [
      "-----------------------------------------------------------------\n",
      "loss_contour:  tensor(61037076.1775, device='cuda:0', dtype=torch.float64,\n",
      "       grad_fn=<AddBackward0>)\n",
      "loss_tip_distance:  tensor(0.5443, device='cuda:0', dtype=torch.float64, grad_fn=<MeanBackward0>)\n",
      "loss:  tensor(0.5443, device='cuda:0', dtype=torch.float64, grad_fn=<MulBackward0>)\n",
      "-----------------------------------------------------------------\n",
      "Gradients BEFORE BACKWARD PASS:\n",
      "para_init: No gradient computed\n",
      "Gradients AFTER BACKWARD PASS:\n",
      "Parameter: para_init, Gradient: 1250.6156005859375\n",
      "Parameter: para_init, Updated Value: tensor([ 0.0340, -0.0100,  0.5360,  0.1329, -0.1937,  0.7702], device='cuda:0')\n",
      "Loss:  0.544292075428388\n",
      "\n",
      "================================================================================================================\n",
      "loop_id:  98\n"
     ]
    },
    {
     "name": "stderr",
     "output_type": "stream",
     "text": [
      "Optimizing:  99%|█████████▉| 99/100 [00:52<00:00,  1.86it/s, loss=0.669]"
     ]
    },
    {
     "name": "stdout",
     "output_type": "stream",
     "text": [
      "-----------------------------------------------------------------\n",
      "loss_contour:  tensor(1.2748e+08, device='cuda:0', dtype=torch.float64,\n",
      "       grad_fn=<AddBackward0>)\n",
      "loss_tip_distance:  tensor(0.6691, device='cuda:0', dtype=torch.float64, grad_fn=<MeanBackward0>)\n",
      "loss:  tensor(0.6691, device='cuda:0', dtype=torch.float64, grad_fn=<MulBackward0>)\n",
      "-----------------------------------------------------------------\n",
      "Gradients BEFORE BACKWARD PASS:\n",
      "para_init: No gradient computed\n",
      "Gradients AFTER BACKWARD PASS:\n",
      "Parameter: para_init, Gradient: 1386.4412841796875\n",
      "Parameter: para_init, Updated Value: tensor([ 0.0340, -0.0100,  0.5360,  0.1329, -0.1936,  0.7702], device='cuda:0')\n",
      "Loss:  0.6690580701350566\n",
      "\n",
      "================================================================================================================\n",
      "loop_id:  99\n"
     ]
    },
    {
     "name": "stderr",
     "output_type": "stream",
     "text": [
      "Optimizing: 100%|██████████| 100/100 [00:53<00:00,  1.87it/s, loss=0.765]"
     ]
    },
    {
     "name": "stdout",
     "output_type": "stream",
     "text": [
      "-----------------------------------------------------------------\n",
      "loss_contour:  tensor(62298509.6153, device='cuda:0', dtype=torch.float64,\n",
      "       grad_fn=<AddBackward0>)\n",
      "loss_tip_distance:  tensor(0.7649, device='cuda:0', dtype=torch.float64, grad_fn=<MeanBackward0>)\n",
      "loss:  tensor(0.7649, device='cuda:0', dtype=torch.float64, grad_fn=<MulBackward0>)\n",
      "-----------------------------------------------------------------\n",
      "Gradients BEFORE BACKWARD PASS:\n",
      "para_init: No gradient computed\n",
      "Gradients AFTER BACKWARD PASS:\n",
      "Parameter: para_init, Gradient: 1482.2271728515625\n",
      "Parameter: para_init, Updated Value: tensor([ 0.0340, -0.0100,  0.5360,  0.1329, -0.1936,  0.7703], device='cuda:0')\n",
      "Loss:  0.7649429622524269\n"
     ]
    },
    {
     "name": "stderr",
     "output_type": "stream",
     "text": [
      "\n"
     ]
    },
    {
     "data": {
      "image/png": "[encoded data removed]",
      "text/plain": [
       "<Figure size 640x480 with 1 Axes>"
      ]
     },
     "metadata": {},
     "output_type": "display_data"
    }
   ],
   "source": [
    "if __name__ == '__main__':\n",
    "    '''\n",
    "    Main function to set up optimzer model and run the optimization loop\n",
    "    '''\n",
    "\n",
    "    ###========================================================\n",
    "    ### 1) SET TO GPU OR CPU COMPUTING\n",
    "    ###========================================================\n",
    "    if torch.cuda.is_available():\n",
    "        gpu_or_cpu = torch.device(\"cuda:0\") \n",
    "        torch.cuda.set_device(gpu_or_cpu)\n",
    "    else:\n",
    "        gpu_or_cpu = torch.device(\"cpu\")\n",
    "\n",
    "    ###========================================================\n",
    "    ### 2) VARIABLES FOR BEZIER CURVE CONSTRUCTION\n",
    "    ###========================================================\n",
    "    # para_init = torch.tensor([0.02, 0.002, 0.0, 0.01958988, 0.00195899, 0.09690406, -0.03142905, -0.0031429, 0.18200866], dtype=torch.float)\n",
    "    # p_start = torch.tensor([0.02, 0.002, 0.0])\n",
    "\n",
    "\n",
    "    # Z axis + 0.1\n",
    "    # para_init = torch.tensor([0.02, 0.002, 0.1, 0.01958988, 0.00195899, 0.09690406, -0.03142905, -0.0031429, 0.18200866], dtype=torch.float)\n",
    "    # p_start = torch.tensor([0.02, 0.002, 0.1000])\n",
    "        \n",
    "    \n",
    "\n",
    "    # p_start and para_init used for SRC presentation\n",
    "    # p_start = torch.tensor([0.02, 0.008, 0.054])\n",
    "    p_start = torch.tensor([0.02, 0.002, 0.000001]) # 0 here will cause NaN in draw2DCylinderImage, pTip\n",
    "    # para_init = np.array([0.03, 0.0055,  0.0702,  0.0206, -0.0306, 0.1845],\n",
    "    #                  dtype=np.float32) # 1\n",
    "    # [ 2.15634587e-02 -6.05764476e-04  5.16317712e-01  1.65068886e-01 -2.39781477e-01  9.49010349e-01]\n",
    "    para_init = np.array([0.034, -0.01, 0.536, 0.2, -0.37, 0.6],\n",
    "                     dtype=np.float32)\n",
    "\n",
    "    # case_naming = 'E:/OneDrive - UC San Diego/UCSD/Lab/Catheter/diff_catheter/data/rendered_images/dof2_64/dof2_c48_0.001_-0.005_0.2_0.01'\n",
    "    case_naming = 'E:/OneDrive - UC San Diego/UCSD/Lab/Catheter/diff_catheter/scripts/test_diff_render_catheter_v2/gt_dataset3/gt_6_0.0006_-0.0010_0.2_0.01'\n",
    "    img_save_path = case_naming + '.png'\n",
    "    cc_specs_path = case_naming + '.npy'\n",
    "    # cc_specs_path = case_naming + '_gt.npy'\n",
    "    target_specs_path = None\n",
    "    viewpoint_mode = 1\n",
    "    transparent_mode = 0\n",
    "\n",
    "    '''\n",
    "    Create binary mask of catheter: \n",
    "        1) Grayscale the ref img, \n",
    "        2) threshold the grayscaled img, \n",
    "        3) Creates a binary image by replacing all \n",
    "            pixel values equal to 255 with 1 (leaves\n",
    "            other pixel values unchanged)\n",
    "    '''\n",
    "    # img_ref_rgb = cv2.imread(img_save_path)\n",
    "    # img_ref_gray = cv2.cvtColor(img_ref_rgb, cv2.COLOR_BGR2GRAY)\n",
    "    # (thresh, img_ref_thresh) = cv2.threshold(img_ref_gray, 80, 255, cv2.THRESH_BINARY | cv2.THRESH_OTSU)\n",
    "    # img_ref_binary = np.where(img_ref_thresh == 255, 1, img_ref_thresh)\n",
    "    img_ref_binary = process_image(img_save_path)\n",
    "\n",
    "    # Declare loss history lists to keep track of loss values\n",
    "    proj_end_effector_loss_history = []\n",
    "    d3d_end_effector_loss_history = []\n",
    "    # Ground Truth parameters for catheter used in SRC presentation\n",
    "    # para_gt_np = np.load(cc_specs_path)[1:3, :].flatten()\n",
    "    para_gt_np = read_gt_params(cc_specs_path)\n",
    "    # para_gt = torch.tensor([0.02003904, 0.0016096, 0.13205799, 0.00489567, -0.03695673, 0.196168896], dtype=torch.float, device=gpu_or_cpu, requires_grad=False)\n",
    "    para_gt = torch.tensor(para_gt_np, dtype=torch.float, device=gpu_or_cpu, requires_grad=False)\n",
    "    end_effector_gt = para_gt[3:6]\n",
    "\n",
    "\n",
    "    ###========================================================\n",
    "    ### 3) SET UP AND RUN OPTIMIZATION MODEL\n",
    "    ###========================================================\n",
    "    catheter_optimize_model = CatheterOptimizeModel(p_start, para_init, img_ref_binary, gpu_or_cpu, img_save_path).to(gpu_or_cpu)\n",
    "\n",
    "    print(\"Model Parameters:\")\n",
    "    for name, param in catheter_optimize_model.named_parameters():\n",
    "        print(f\"{name}: requires_grad={param.requires_grad}\")\n",
    "\n",
    "    optimizer = torch.optim.Adam(catheter_optimize_model.parameters(), lr=1e-2)\n",
    "\n",
    "    # Run the optimization loop\n",
    "    num_iterations = 100\n",
    "    loop = tqdm(range(num_iterations))\n",
    "    for loop_id in loop:\n",
    "        print(\"\\n================================================================================================================\")\n",
    "        print(\"loop_id: \", loop_id)\n",
    "\n",
    "\n",
    "        # save_img_path = '/Users/kobeyang/Downloads/Programming/ECESRIP/diff_catheter/scripts/test_diff_render_catheter_v2/rendered_imgs/' \\\n",
    "        #     + 'render_' + str(loop_id) + '.jpg'\n",
    "            \n",
    "        save_img_path = 'E:/OneDrive - UC San Diego/UCSD/Lab/Catheter/diff_catheter/scripts/test_diff_render_catheter_v2/test_imgs/rendered_imgs_old/' \\\n",
    "            + 'render_' + str(loop_id) + '.jpg'\n",
    "\n",
    "        # pdb.set_trace()\n",
    "\n",
    "        # Zero the gradients before running the backward pass.\n",
    "        optimizer.zero_grad()\n",
    "\n",
    "        # Run the forward pass\n",
    "        loss = catheter_optimize_model(save_img_path)\n",
    "\n",
    "        # Print gradients for all parameters before backward pass\n",
    "        print(\"Gradients BEFORE BACKWARD PASS:\")\n",
    "        for name, param in catheter_optimize_model.named_parameters():\n",
    "            if param.grad is not None:\n",
    "                print(f\"Parameter: {name}, Gradient: {param.grad.norm().item()}\")  # Print the norm of the gradient\n",
    "            else:\n",
    "                print(f\"{name}: No gradient computed\")\n",
    "\n",
    "        # Run the backward pass\n",
    "        loss.backward(retain_graph=True)\n",
    "\n",
    "        # Print gradients for all parameters after backward pass\n",
    "        print(\"Gradients AFTER BACKWARD PASS:\")\n",
    "        for name, param in catheter_optimize_model.named_parameters():\n",
    "            if param.grad is not None:\n",
    "                print(f\"Parameter: {name}, Gradient: {param.grad.norm().item()}\")\n",
    "            else:\n",
    "                print(f\"{name}: No gradient computed\")\n",
    "\n",
    "        # Update the parameters\n",
    "        optimizer.step()\n",
    "\n",
    "\n",
    "        # Print and inspect the updated parameters\n",
    "        for name, param in catheter_optimize_model.named_parameters():\n",
    "            print(f\"Parameter: {name}, Updated Value: {param.data}\")\n",
    "\n",
    "\n",
    "        # end_effector_loss_history.append(torch.norm((catheter_optimize_model.para_init[3:6] - end_effector_gt), p=2).item())\n",
    "        proj_end_effector_loss_history.append(catheter_optimize_model.tip_euclidean_distance_loss.item())\n",
    "        d3d_end_effector_loss_history.append(torch.norm((catheter_optimize_model.para_init[3:6] - end_effector_gt), p=2).item())\n",
    "\n",
    "        # Update the progress bar\n",
    "        loop.set_description('Optimizing')\n",
    "\n",
    "        # Update the loss\n",
    "        loop.set_postfix(loss=loss.item())\n",
    "\n",
    "        print(\"Loss: \", loss.item())\n",
    "\n",
    "\n",
    "    # # Given array of values proj_end_effector_loss_history, create plot of loss vs. iterations\n",
    "    # iterations_x_axis_proj = list(range(len(proj_end_effector_loss_history)))\n",
    "    # print(\"proj_end_effector_loss_history: \", proj_end_effector_loss_history)\n",
    "    # fig1 = plt.figure()\n",
    "    # ax1 = fig1.add_subplot(111)\n",
    "    # fig1.suptitle('2D Tip Euclidean Distance Loss History')\n",
    "    # ax1.plot(iterations_x_axis_proj, proj_end_effector_loss_history)\n",
    "    # ax1.set_xlabel('Iterations')\n",
    "    # ax1.set_ylabel('Euclidean Distance Loss (Pixels)')\n",
    "    # ax1.set_xlim([0, len(proj_end_effector_loss_history)])\n",
    "    # ax1.set_ylim([0, 80])\n",
    "    # ax1.grid(True)\n",
    "    # plt.show()\n",
    "\n",
    "\n",
    "    # # Given array of values d3d_end_effector_loss_history, create plot of 3d loss vs. iterations\n",
    "    # iterations_x_axis_3d = list(range(len(d3d_end_effector_loss_history)))\n",
    "    # print(\"d3d_end_effector_loss_history: \", d3d_end_effector_loss_history)\n",
    "    # fig2 = plt.figure()\n",
    "    # ax2 = fig2.add_subplot(111)\n",
    "    # fig2.suptitle('3D Tip Euclidean Distance Loss History')\n",
    "    # ax2.plot(iterations_x_axis_3d, d3d_end_effector_loss_history)\n",
    "    # ax2.set_xlabel('Iterations')\n",
    "    # ax2.set_ylabel('Euclidean Distance Loss (m)')\n",
    "    # ax2.set_xlim([0, len(d3d_end_effector_loss_history)])\n",
    "    # ax2.set_ylim([0, 0.05])\n",
    "    # ax2.grid(True)\n",
    "    # plt.show()"
   ]
  },
  {
   "cell_type": "code",
   "execution_count": 5,
   "metadata": {},
   "outputs": [
    {
     "name": "stdout",
     "output_type": "stream",
     "text": [
      "proj_end_effector_loss_history:  [351.2109920910515, 322.1263036306386, 294.36601354537254, 268.0089093149556, 243.13072569475798, 219.8015844459979, 198.08268318724652, 178.02096591108776, 159.6432570718571, 142.9501652607108, 127.91098584296817, 114.46145213421667, 102.50502607705772, 91.91875481819064, 82.56208255807859, 74.28780790958929, 66.95290233041193, 60.42767194753037, 54.60278841380672, 49.3936465186249, 44.74258711586024, 40.61931350349235, 37.01943791744279, 33.96058635498467, 31.474720092794254, 29.59551171175015, 28.34114050549562, 27.697148684883057, 27.606923205297356, 27.975268294093343, 28.68315271910808, 29.60541687821923, 30.624759935400235, 31.639258760726904, 32.5649714291682, 33.335625174335924, 33.901000935512975, 34.22525659764623, 34.28505712893107, 34.06817721740726, 33.57208729239241, 32.80271502761845, 31.773334340273554, 30.503469385713377, 29.01780995011333, 27.345257679254072, 25.517899826658507, 23.570188050886316, 21.5380436045542, 19.458152735402376, 17.367382259816388, 15.302353813984857, 13.299340055107672, 11.394586406337677, 9.625135118644407, 8.030626270334281, 6.655665313771718, 5.551084960742146, 4.7674793015489225, 4.331253239397164, 4.210796667279827, 4.315237048211395, 4.538540655897597, 4.798425052935193, 5.044997562286381, 5.253321289832416, 5.414283811842541, 5.527854640412477, 5.598763866610884, 5.6335673291853725, 5.6387462971263975, 5.619415766857327, 5.578880622548791, 5.5182514004833765, 5.436829978926144, 5.332465911453768, 5.202322319929476, 5.043340514623854, 4.852978423202473, 4.629641248245004, 4.372874717432653, 4.083687567114859, 3.764386251620344, 3.418565410997065, 3.050941881800908, 2.667179708019974, 2.2734865758947356, 1.8765426661835316, 1.4830748369056281, 1.0998018845058581, 0.733300868257976, 0.3910003890901107, 0.10395137729723619, 0.2428701643050991, 0.49177932920075296, 0.7108871245787376, 0.8949803834440804, 1.0433523617919191, 1.156769700618975, 1.236885574539882]\n"
     ]
    },
    {
     "data": {
      "image/png": "[encoded data removed]",
      "text/plain": [
       "<Figure size 640x480 with 1 Axes>"
      ]
     },
     "metadata": {},
     "output_type": "display_data"
    },
    {
     "name": "stdout",
     "output_type": "stream",
     "text": [
      "d3d_end_effector_loss_history:  [0.36055800318717957, 0.34738194942474365, 0.33470451831817627, 0.3226074278354645, 0.3111630976200104, 0.3004293739795685, 0.2904455363750458, 0.2812286913394928, 0.272772878408432, 0.26505038142204285, 0.25801563262939453, 0.25161078572273254, 0.24577221274375916, 0.24043665826320648, 0.23554553091526031, 0.23104791343212128, 0.22690171003341675, 0.22307348251342773, 0.21953752636909485, 0.2162744700908661, 0.21326953172683716, 0.21051134169101715, 0.20799040794372559, 0.2056981474161148, 0.20362582802772522, 0.20176398754119873, 0.20010213553905487, 0.19862809777259827, 0.19732829928398132, 0.19618774950504303, 0.19519031047821045, 0.19431929290294647, 0.1935577392578125, 0.19288910925388336, 0.19229790568351746, 0.19177013635635376, 0.1912936568260193, 0.19085870683193207, 0.1904578059911728, 0.19008584320545197, 0.18974007666110992, 0.18941953778266907, 0.18912482261657715, 0.18885765969753265, 0.18862032890319824, 0.1884152740240097, 0.18824459612369537, 0.18810974061489105, 0.1880112588405609, 0.187948539853096, 0.18791988492012024, 0.18792252242565155, 0.18795256316661835, 0.18800564110279083, 0.18807657063007355, 0.18816012144088745, 0.18825095891952515, 0.18834412097930908, 0.18843500316143036, 0.1885197013616562, 0.18859508633613586, 0.18865874409675598, 0.1887091100215912, 0.18874526023864746, 0.1887669563293457, 0.18877457082271576, 0.18876884877681732, 0.18875089287757874, 0.18872199952602386, 0.1886836141347885, 0.1886371672153473, 0.18858405947685242, 0.18852567672729492, 0.18846334517002106, 0.18839818239212036, 0.18833133578300476, 0.18826371431350708, 0.18819621205329895, 0.18812961876392365, 0.1880645751953125, 0.18800173699855804, 0.18794162571430206, 0.18788456916809082, 0.18783098459243774, 0.18778105080127716, 0.18773488700389862, 0.1876925230026245, 0.18765388429164886, 0.18761880695819855, 0.18758711218833923, 0.18755848705768585, 0.18753275275230408, 0.18750958144664764, 0.1874886304140091, 0.1874697059392929, 0.18745261430740356, 0.18743717670440674, 0.18742325901985168, 0.18741071224212646, 0.18739956617355347]\n"
     ]
    },
    {
     "data": {
      "image/png": "[encoded data removed]",
      "text/plain": [
       "<Figure size 640x480 with 1 Axes>"
      ]
     },
     "metadata": {},
     "output_type": "display_data"
    }
   ],
   "source": [
    "# Given array of values proj_end_effector_loss_history, create plot of loss vs. iterations\n",
    "iterations_x_axis_proj = list(range(len(proj_end_effector_loss_history)))\n",
    "print(\"proj_end_effector_loss_history: \", proj_end_effector_loss_history)\n",
    "fig1 = plt.figure()\n",
    "ax1 = fig1.add_subplot(111)\n",
    "fig1.suptitle('2D Tip Euclidean Distance Loss History')\n",
    "ax1.plot(iterations_x_axis_proj, proj_end_effector_loss_history)\n",
    "ax1.set_xlabel('Iterations')\n",
    "ax1.set_ylabel('Euclidean Distance Loss (Pixels)')\n",
    "ax1.set_xlim([0, len(proj_end_effector_loss_history)])\n",
    "# ax1.set_ylim([0, 80])\n",
    "ax1.set_ylim(bottom=0)\n",
    "ax1.grid(True)\n",
    "plt.show()\n",
    "\n",
    "\n",
    "# Given array of values d3d_end_effector_loss_history, create plot of 3d loss vs. iterations\n",
    "iterations_x_axis_3d = list(range(len(d3d_end_effector_loss_history)))\n",
    "print(\"d3d_end_effector_loss_history: \", d3d_end_effector_loss_history)\n",
    "fig2 = plt.figure()\n",
    "ax2 = fig2.add_subplot(111)\n",
    "fig2.suptitle('3D Tip Euclidean Distance Loss History')\n",
    "ax2.plot(iterations_x_axis_3d, d3d_end_effector_loss_history)\n",
    "ax2.set_xlabel('Iterations')\n",
    "ax2.set_ylabel('Euclidean Distance Loss (m)')\n",
    "ax2.set_xlim([0, len(d3d_end_effector_loss_history)])\n",
    "ax2.set_ylim(bottom=0)\n",
    "# ax2.set_ylim([0, 0.05])\n",
    "ax2.grid(True)\n",
    "plt.show()"
   ]
  },
  {
   "cell_type": "code",
   "execution_count": 6,
   "metadata": {},
   "outputs": [],
   "source": [
    "p_start_np = p_start.numpy()\n",
    "result = catheter_optimize_model.para_init.data.cpu().numpy()\n",
    "control_points = np.vstack([p_start_np, result.reshape(2, 3)])\n",
    "control_points_gt = np.vstack([p_start_np, para_gt_np.reshape(2, 3)])\n",
    "control_points_init = np.vstack([p_start_np, para_init.reshape(2, 3)])"
   ]
  },
  {
   "cell_type": "code",
   "execution_count": 7,
   "metadata": {},
   "outputs": [
    {
     "data": {
      "image/png": "[encoded data removed]",
      "text/plain": [
       "<Figure size 640x480 with 1 Axes>"
      ]
     },
     "metadata": {},
     "output_type": "display_data"
    }
   ],
   "source": [
    "def bezier_curve_3d(control_points, num_points=100):\n",
    "    t = np.linspace(0, 1, num_points)\n",
    "    curve = np.zeros((num_points, 3))\n",
    "\n",
    "    for i in range(num_points):\n",
    "        curve[i] = (1 - t[i]) ** 2 * control_points[0] + \\\n",
    "                   2 * (1 - t[i]) * t[i] * control_points[1] + \\\n",
    "                   t[i] ** 2 * control_points[2]\n",
    "\n",
    "    return curve\n",
    "\n",
    "# Generate the Bezier curve\n",
    "curve = bezier_curve_3d(control_points)\n",
    "curve_gt = bezier_curve_3d(control_points_gt)\n",
    "curve_init = bezier_curve_3d(control_points_init)\n",
    "\n",
    "# Plotting the Bezier curve\n",
    "fig = plt.figure()\n",
    "ax = fig.add_subplot(111, projection='3d')\n",
    "\n",
    "# 绘制第一条贝塞尔曲线及其控制点\n",
    "ax.plot(control_points[:, 0], control_points[:, 1], control_points[:, 2], 'ro--')\n",
    "ax.plot(curve[:, 0], curve[:, 1], curve[:, 2], 'r-', label='Optimized Result')\n",
    "\n",
    "# 绘制第二条贝塞尔曲线及其控制点\n",
    "ax.plot(control_points_gt[:, 0], control_points_gt[:, 1], control_points_gt[:, 2], 'bo--')\n",
    "ax.plot(curve_gt[:, 0], curve_gt[:, 1], curve_gt[:, 2], 'b-', label='Ground Truth')\n",
    "\n",
    "ax.plot(control_points_init[:, 0], control_points_init[:, 1], control_points_init[:, 2], 'go--')\n",
    "ax.plot(curve_init[:, 0], curve_init[:, 1], curve_init[:, 2], 'g-', label='Initial Guess')\n",
    "\n",
    "# Set labels\n",
    "ax.set_xlabel('X')\n",
    "ax.set_ylabel('Y')\n",
    "ax.set_zlabel('Z')\n",
    "ax.set_title('Optimization Result')\n",
    "ax.legend()\n",
    "\n",
    "# plt.savefig('Result.png')\n",
    "\n",
    "plt.show()"
   ]
  }
 ],
 "metadata": {
  "kernelspec": {
   "display_name": "catheter",
   "language": "python",
   "name": "python3"
  },
  "language_info": {
   "codemirror_mode": {
    "name": "ipython",
    "version": 3
   },
   "file_extension": ".py",
   "mimetype": "text/x-python",
   "name": "python",
   "nbconvert_exporter": "python",
   "pygments_lexer": "ipython3",
   "version": "3.8.19"
  }
 },
 "nbformat": 4,
 "nbformat_minor": 2
}
