{
 "cells": [
  {
   "cell_type": "markdown",
   "metadata": {},
   "source": [
    "Script to generate ground truth images"
   ]
  },
  {
   "cell_type": "code",
   "execution_count": 6,
   "metadata": {},
   "outputs": [],
   "source": [
    "import numpy as np\n",
    "from test_cc_catheter import CCCatheter"
   ]
  },
  {
   "cell_type": "markdown",
   "metadata": {},
   "source": [
    "Generate a single ground truth image"
   ]
  },
  {
   "cell_type": "code",
   "execution_count": 7,
   "metadata": {},
   "outputs": [],
   "source": [
    "p_0 = np.array([2e-2, 2e-3, 0])\n",
    "l = 0.2\n",
    "# r = 0.01\n",
    "r = 0.01\n",
    "n_mid_points = 1\n",
    "n_iter = 50\n",
    "n_trials = 50\n",
    "ux = 0.0002\n",
    "uy = -0.0002\n",
    "\n",
    "cccatheter = CCCatheter(p_0, l, r, n_mid_points, n_iter, n_trials)\n",
    "cccatheter.set_3dof_params(ux, uy, l)\n",
    "cccatheter.calculate_cc_points()\n",
    "cccatheter.calculate_beziers_control_points()"
   ]
  },
  {
   "cell_type": "code",
   "execution_count": 8,
   "metadata": {},
   "outputs": [
    {
     "name": "stdout",
     "output_type": "stream",
     "text": [
      "Bezier Specs (shape = (1, 4, 3)): \n",
      "[[[ 0.02        0.002       0.        ]\n",
      "  [ 0.06982687 -0.04782687  0.998464  ]\n",
      "  [ 0.02002078  0.00197922  0.33448892]\n",
      "  [ 0.03662974 -0.01462974  0.66731025]]]\n",
      "\n"
     ]
    }
   ],
   "source": [
    "folder_path = 'E:/OneDrive - UC San Diego/UCSD/Lab/Catheter/diff_catheter/scripts/test_diff_render_catheter_v2/blender_imgs/'\n",
    "file_name = 'test_gt_9'\n",
    "curve_specs_path = folder_path + file_name + '.npy'\n",
    "img_save_path = folder_path + file_name + '.png'\n",
    "\n",
    "cccatheter.render_beziers(curve_specs_path, img_save_path)"
   ]
  },
  {
   "cell_type": "code",
   "execution_count": 9,
   "metadata": {},
   "outputs": [],
   "source": [
    "# cccatheter2 = CCCatheter(p_0, l, r, n_mid_points, n_iter, n_trials)\n",
    "# cccatheter2.set_3dof_params(ux, uy, l)\n",
    "# cccatheter2.calculate_cc_points()\n",
    "# cccatheter2.calculate_beziers_control_points_3()\n",
    "\n",
    "# file_name = 'test_gt_3points_2'\n",
    "# curve_specs_path = folder_path + file_name + '.npy'\n",
    "# img_save_path = folder_path + file_name + '.png'\n",
    "\n",
    "# cccatheter2.render_beziers(curve_specs_path, img_save_path)"
   ]
  },
  {
   "cell_type": "markdown",
   "metadata": {},
   "source": [
    "Generate a series of ground truth images, according to a list of tendon lengths"
   ]
  },
  {
   "cell_type": "code",
   "execution_count": 10,
   "metadata": {},
   "outputs": [],
   "source": [
    "# # Generate a series of numbers from 0 to 0.003 with a step of 0.0002\n",
    "# ux_list = np.arange(-0.0012, 0.0012, 0.0002)\n",
    "# uy_list = np.arange(-0.0012, 0.0012, 0.0002)\n",
    "\n",
    "# p_0 = np.array([2e-2, 2e-3, 0])\n",
    "# l = 0.2\n",
    "# r = 0.01\n",
    "# n_mid_points = 1\n",
    "# n_iter = 50\n",
    "# n_trials = 50\n",
    "\n",
    "# folder_path = 'E:/OneDrive - UC San Diego/UCSD/Lab/Catheter/diff_catheter/scripts/test_diff_render_catheter_v2/gt_dataset4/'\n",
    "\n",
    "# count = 1\n",
    "# for ux in ux_list:\n",
    "#     for uy in uy_list:\n",
    "#         if ux == 0 and uy == 0:\n",
    "#             continue\n",
    "\n",
    "#         cccatheter = CCCatheter(p_0, l, r, n_mid_points, n_iter, n_trials)\n",
    "#         cccatheter.set_3dof_params(ux, uy, l)\n",
    "#         cccatheter.calculate_cc_points()\n",
    "#         cccatheter.calculate_beziers_control_points()\n",
    "        \n",
    "#         ux_str = f\"{ux:.4f}\"\n",
    "#         uy_str = f\"{uy:.4f}\"\n",
    "#         file_name = f\"gt_{count}_{ux_str}_{uy_str}_{l}_{r}\"\n",
    "#         curve_specs_path = folder_path + file_name + '.npy'\n",
    "#         img_save_path = folder_path + file_name + '.png'\n",
    "\n",
    "#         cccatheter.render_beziers(curve_specs_path, img_save_path)\n",
    "        \n",
    "#         print(f\"Generated {file_name}\")\n",
    "#         count += 1\n",
    "        \n",
    "\n",
    "\n"
   ]
  }
 ],
 "metadata": {
  "kernelspec": {
   "display_name": "catheter2",
   "language": "python",
   "name": "python3"
  },
  "language_info": {
   "codemirror_mode": {
    "name": "ipython",
    "version": 3
   },
   "file_extension": ".py",
   "mimetype": "text/x-python",
   "name": "python",
   "nbconvert_exporter": "python",
   "pygments_lexer": "ipython3",
   "version": "3.7.12"
  }
 },
 "nbformat": 4,
 "nbformat_minor": 2
}
