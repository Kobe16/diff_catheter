{
 "cells": [
  {
   "cell_type": "code",
   "execution_count": 3,
   "metadata": {},
   "outputs": [
    {
     "name": "stdout",
     "output_type": "stream",
     "text": [
      "[[0.2 0.2 0.2 0.2 0.2]\n",
      " [0.2 0.2 0.2 0.2 0.2]\n",
      " [0.2 0.2 0.2 0.2 0.2]\n",
      " [0.2 0.2 0.2 0.2 0.2]\n",
      " [0.2 0.2 0.2 0.2 0.2]]\n",
      "[[0.2 0.2 0.2 0.2 0.2]]\n"
     ]
    }
   ],
   "source": [
    "import numpy as np\n",
    "\n",
    "P = np.array([\n",
    "    [1/2, 1/4, 0,   0,   1/4],\n",
    "    [1/4, 1/2, 1/4, 0,   0],\n",
    "    [0,   1/4, 1/2, 1/4, 0],\n",
    "    [0,   0,   1/4, 1/2, 1/4],\n",
    "    [1/4, 0,   0,   1/4, 1/2]\n",
    "])\n",
    "\n",
    "P_100 = np.linalg.matrix_power(P, 100)\n",
    "\n",
    "print(P_100)\n",
    "\n",
    "P0 = np.array([[25/150, 20/150, 35/150, 24/150, 46/150]]).T\n",
    "\n",
    "result = P0.T @ P_100\n",
    "\n",
    "print(result)\n"
   ]
  },
  {
   "cell_type": "code",
   "execution_count": 1,
   "metadata": {},
   "outputs": [
    {
     "data": {
      "text/latex": [
       "$\\displaystyle \\operatorname{PurePoly}{\\left( \\lambda^{3} - 3 \\lambda^{2} + 3 \\lambda - 1, \\lambda, domain=\\mathbb{Z} \\right)}$"
      ],
      "text/plain": [
       "PurePoly(lambda**3 - 3*lambda**2 + 3*lambda - 1, lambda, domain='ZZ')"
      ]
     },
     "execution_count": 1,
     "metadata": {},
     "output_type": "execute_result"
    }
   ],
   "source": [
    "from sympy import Matrix, symbols\n",
    "\n",
    "# Define the matrix A1\n",
    "A1 = Matrix([\n",
    "    [1, 1, 0],\n",
    "    [0, 1, 0],\n",
    "    [0, 0, 1]\n",
    "])\n",
    "\n",
    "# Calculate the characteristic polynomial of the matrix A1\n",
    "lambda_symbol = symbols('lambda')\n",
    "char_poly_A1 = A1.charpoly(lambda_symbol)\n",
    "\n",
    "char_poly_A1\n"
   ]
  },
  {
   "cell_type": "code",
   "execution_count": 4,
   "metadata": {},
   "outputs": [
    {
     "data": {
      "text/latex": [
       "$\\displaystyle \\left[\\begin{matrix}e^{2 t} & 0 & 0 & 0\\\\2 t e^{2 t} & e^{2 t} & 0 & 0\\\\0 & 0 & e^{3 t} & 3 t e^{3 t}\\\\0 & 0 & 0 & e^{3 t}\\end{matrix}\\right]$"
      ],
      "text/plain": [
       "Matrix([\n",
       "[    exp(2*t),        0,        0,            0],\n",
       "[2*t*exp(2*t), exp(2*t),        0,            0],\n",
       "[           0,        0, exp(3*t), 3*t*exp(3*t)],\n",
       "[           0,        0,        0,     exp(3*t)]])"
      ]
     },
     "execution_count": 4,
     "metadata": {},
     "output_type": "execute_result"
    }
   ],
   "source": [
    "from sympy import symbols, Matrix, exp\n",
    "\n",
    "# 定义时间变量\n",
    "t = symbols('t')\n",
    "\n",
    "# 定义矩阵 A1\n",
    "A1 = Matrix([\n",
    "    [2, 0, 0, 0],\n",
    "    [2, 2, 0, 0],\n",
    "    [0, 0, 3, 3],\n",
    "    [0, 0, 0, 3]\n",
    "])\n",
    "\n",
    "# 计算矩阵指数 e^(A1*t)\n",
    "exp_A1_t = exp(A1 * t)\n",
    "\n",
    "# 展示结果\n",
    "exp_A1_t\n"
   ]
  }
 ],
 "metadata": {
  "kernelspec": {
   "display_name": "base",
   "language": "python",
   "name": "python3"
  },
  "language_info": {
   "codemirror_mode": {
    "name": "ipython",
    "version": 3
   },
   "file_extension": ".py",
   "mimetype": "text/x-python",
   "name": "python",
   "nbconvert_exporter": "python",
   "pygments_lexer": "ipython3",
   "version": "3.9.18"
  }
 },
 "nbformat": 4,
 "nbformat_minor": 2
}
