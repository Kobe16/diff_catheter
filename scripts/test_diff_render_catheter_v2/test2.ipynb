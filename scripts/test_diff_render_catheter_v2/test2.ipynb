{
 "cells": [
  {
   "cell_type": "code",
   "execution_count": 2,
   "metadata": {},
   "outputs": [],
   "source": [
    "from scipy.optimize import minimize\n",
    "import numpy as np\n",
    "import os\n",
    "import matplotlib.pyplot as plt"
   ]
  },
  {
   "cell_type": "markdown",
   "metadata": {},
   "source": [
    "homogenous coordinates as input"
   ]
  },
  {
   "cell_type": "code",
   "execution_count": 3,
   "metadata": {},
   "outputs": [],
   "source": [
    "def T_matrix(s, delta_x, delta_y, l, r):\n",
    "\n",
    "    delta = np.sqrt(delta_x**2 + delta_y**2)\n",
    "    S = np.sin(s * delta / (l * r))\n",
    "    C = np.cos(s * delta / (l * r))\n",
    "    \n",
    "    T11 = 1 + (delta_x**2 / delta**2) * (C - 1)\n",
    "    T12 = (delta_x * delta_y / delta**2) * (C - 1)\n",
    "    T13 = -delta_x * S / delta\n",
    "    T14 = delta_x * l * r * (1 - C) / delta**2\n",
    "    \n",
    "    T21 = (delta_y * delta_x / delta**2) * (C - 1)\n",
    "    T22 = 1 + (delta_y**2 / delta**2) * (C - 1)\n",
    "    T23 = -delta_y * S / delta\n",
    "    T24 = delta_y * l * r * (1 - C) / delta**2\n",
    "    \n",
    "    T31 = delta_x * S / delta\n",
    "    T32 = delta_y * S / delta\n",
    "    T33 = C\n",
    "    T34 = l * r * S/ delta\n",
    "    \n",
    "    T41 = 0\n",
    "    T42 = 0\n",
    "    T43 = 0\n",
    "    T44 = 1\n",
    "    \n",
    "    T = np.array([\n",
    "        [T11, T12, T13, T14],\n",
    "        [T21, T22, T23, T24],\n",
    "        [T31, T32, T33, T34],\n",
    "        [T41, T42, T43, T44]\n",
    "    ])\n",
    "    \n",
    "    return T\n",
    "\n",
    "def tendon_disp_to_bezier_control_points(delta_x, delta_y, l, r, p0):\n",
    "    p1 = (2*T_matrix(0.5, delta_x, delta_y, l, r) - T_matrix(0, delta_x, delta_y, l, r) / 2 - T_matrix(1, delta_x, delta_y, l, r) / 2) @ p0\n",
    "    p2 = T_matrix(1, delta_x, delta_y, l, r) @ p0\n",
    "    \n",
    "    return p1, p2"
   ]
  },
  {
   "cell_type": "code",
   "execution_count": 4,
   "metadata": {},
   "outputs": [],
   "source": [
    "def objective(vars, p0, p1_observed, p2_observed, l, r):\n",
    "    delta_x, delta_y = vars\n",
    "    \n",
    "    p1_computed, p2_computed = tendon_disp_to_bezier_control_points(delta_x, delta_y, l, r, p0)\n",
    "    \n",
    "    # 计算残差\n",
    "    residual_p1 = np.linalg.norm(p1_computed - p1_observed)\n",
    "    residual_p2 = np.linalg.norm(p2_computed - p2_observed)\n",
    "    \n",
    "    return residual_p1 + residual_p2\n"
   ]
  },
  {
   "cell_type": "code",
   "execution_count": 5,
   "metadata": {},
   "outputs": [],
   "source": [
    "def bezier_control_points_to_tendon_disp(p0, p1, p2, l, r):\n",
    "    initial_guess = [0.5, 0.5]\n",
    "    result = minimize(objective, initial_guess, args=(p0, p1, p2, l, r))\n",
    "    delta_x_solution, delta_y_solution = result.x\n",
    "    \n",
    "    return delta_x_solution, delta_y_solution"
   ]
  },
  {
   "cell_type": "code",
   "execution_count": 6,
   "metadata": {},
   "outputs": [],
   "source": [
    "l = 2.0  \n",
    "r = 0.1  \n",
    "p0 = np.array([0.02, 0.008, 0.054, 1])\n",
    "delta_x = 0.2\n",
    "delta_y = 0.3\n",
    "\n",
    "p1, p2 = tendon_disp_to_bezier_control_points(delta_x, delta_y, l, r, p0)"
   ]
  },
  {
   "cell_type": "code",
   "execution_count": 7,
   "metadata": {},
   "outputs": [
    {
     "name": "stdout",
     "output_type": "stream",
     "text": [
      "Solved values for delta_x and delta_y are: 0.19999999580397806, 0.29999999427073376\n"
     ]
    }
   ],
   "source": [
    "delta_x_solution, delta_y_solution = bezier_control_points_to_tendon_disp(p0, p1, p2, l, r)\n",
    "\n",
    "print(f\"Solved values for delta_x and delta_y are: {delta_x_solution}, {delta_y_solution}\")"
   ]
  },
  {
   "cell_type": "markdown",
   "metadata": {},
   "source": [
    "Read groundtruth"
   ]
  },
  {
   "cell_type": "code",
   "execution_count": 8,
   "metadata": {},
   "outputs": [
    {
     "name": "stdout",
     "output_type": "stream",
     "text": [
      "[[ 0.02        0.002       0.        ]\n",
      " [ 0.01919279  0.00119279  0.09826749]\n",
      " [-0.03058839 -0.04858839  0.17363909]]\n"
     ]
    }
   ],
   "source": [
    "folder_path = 'E:/OneDrive - UC San Diego/UCSD/Lab/Catheter/diff_catheter/data/rendered_images/dof2_64/'\n",
    "file_name = 'dof2_c0_-0.005_-0.005_0.2_0.01_gt.npy'\n",
    "file_path = folder_path + file_name\n",
    "\n",
    "data = np.load(file_path)\n",
    "\n",
    "print(data)"
   ]
  },
  {
   "cell_type": "code",
   "execution_count": 9,
   "metadata": {},
   "outputs": [
    {
     "name": "stdout",
     "output_type": "stream",
     "text": [
      "[ 0.01919279  0.00119279  0.09826749 -0.03058839 -0.04858839  0.17363909]\n"
     ]
    }
   ],
   "source": [
    "\n",
    "\n",
    "# 提取第2行和第3行\n",
    "rows = data[1:3, :]\n",
    "\n",
    "# 将矩阵转换为向量\n",
    "vector = rows.reshape(-1)\n",
    "\n",
    "print(vector)\n"
   ]
  },
  {
   "cell_type": "code",
   "execution_count": 10,
   "metadata": {},
   "outputs": [
    {
     "name": "stdout",
     "output_type": "stream",
     "text": [
      "[[[ 0.02        0.008       0.054     ]\n",
      "  [ 0.00489567 -0.03695673  0.1961689 ]\n",
      "  [ 0.02508683  0.01446504  0.1106877 ]\n",
      "  [ 0.02005205 -0.00052053  0.15807733]]]\n"
     ]
    }
   ],
   "source": [
    "file_path = 'E:/OneDrive - UC San Diego/UCSD/Lab/Catheter/diff_catheter/scripts/test_diff_render_catheter_v2/blender_imgs/test_catheter_gt1.npy'\n",
    "data = np.load(file_path)\n",
    "print(data)"
   ]
  },
  {
   "cell_type": "code",
   "execution_count": 11,
   "metadata": {},
   "outputs": [],
   "source": [
    "import torch\n",
    "a = torch.tensor(vector, dtype=torch.float, requires_grad=False)"
   ]
  },
  {
   "cell_type": "code",
   "execution_count": 12,
   "metadata": {},
   "outputs": [
    {
     "name": "stdout",
     "output_type": "stream",
     "text": [
      "[[ 0.02        0.002       0.        ]\n",
      " [ 0.02007997  0.00160014  0.1026283 ]\n",
      " [ 0.02973628 -0.04668138  0.19240253]]\n"
     ]
    }
   ],
   "source": [
    "file_name = 'dof2_c48_0.001_-0.005_0.2_0.01_gt.npy'\n",
    "file_path = folder_path + file_name\n",
    "\n",
    "data = np.load(file_path)\n",
    "\n",
    "print(data)"
   ]
  },
  {
   "cell_type": "markdown",
   "metadata": {},
   "source": [
    "test of l and r"
   ]
  },
  {
   "cell_type": "code",
   "execution_count": 13,
   "metadata": {},
   "outputs": [],
   "source": [
    "# l = 0.2  \n",
    "# r = 0.01  \n",
    "# p0 = np.array([0.02, 0.002, 0, 1])\n",
    "# delta_x = 0.001\n",
    "# delta_y = -0.005\n",
    "\n",
    "# p1, p2 = tendon_disp_to_bezier_control_points(delta_x, delta_y, l, r, p0)\n",
    "\n",
    "# print(p1, p2)"
   ]
  },
  {
   "cell_type": "code",
   "execution_count": 14,
   "metadata": {},
   "outputs": [],
   "source": [
    "def objective_func(vars, actuation_params, bezier_control_points, p0):\n",
    "    l, r = vars\n",
    "    total_residual = 0\n",
    "\n",
    "    # 遍历所有的数据点\n",
    "    for i, (delta_x, delta_y) in enumerate(actuation_params):\n",
    "        p1_observed = np.append(bezier_control_points[i][1], 1)  # 将 p1 转换为齐次坐标\n",
    "        p2_observed = np.append(bezier_control_points[i][2], 1)  # 将 p2 转换为齐次坐标\n",
    "\n",
    "        p1_computed, p2_computed = tendon_disp_to_bezier_control_points(delta_x, delta_y, l, r, p0)\n",
    "\n",
    "        # 计算残差\n",
    "        residual_p1 = np.linalg.norm(p1_computed - p1_observed)\n",
    "        residual_p2 = np.linalg.norm(p2_computed - p2_observed)\n",
    "\n",
    "        total_residual += (residual_p1 + residual_p2)\n",
    "\n",
    "    return total_residual"
   ]
  },
  {
   "cell_type": "code",
   "execution_count": 15,
   "metadata": {},
   "outputs": [],
   "source": [
    "def fit_parameters(actuation_params, bezier_control_points, p0):\n",
    "    initial_guess = [0.1, 0.0015]  # 初始估计值\n",
    "    bounds = [(0.02, None), (0.0005, None)]\n",
    "    \n",
    "    result = minimize(objective_func, initial_guess, args=(actuation_params, bezier_control_points, p0), bounds=bounds)\n",
    "    l_solution, r_solution = result.x\n",
    "    \n",
    "    return l_solution, r_solution"
   ]
  },
  {
   "cell_type": "code",
   "execution_count": 16,
   "metadata": {},
   "outputs": [
    {
     "name": "stdout",
     "output_type": "stream",
     "text": [
      "dof2_c0_-0.005_-0.005_0.2_0.01_gt.npy\n",
      "[[ 0.02        0.002       0.        ]\n",
      " [ 0.01919279  0.00119279  0.09826749]\n",
      " [-0.03058839 -0.04858839  0.17363909]]\n",
      "dof2_c10_-0.001_-0.0005_0.2_0.01_gt.npy\n",
      "[[ 0.02        0.002       0.        ]\n",
      " [ 0.01999605  0.00199803  0.09905296]\n",
      " [ 0.00990552 -0.00304724  0.19748797]]\n",
      "dof2_c11_-0.001_-0.0001_0.2_0.01_gt.npy\n",
      "[[0.02       0.002      0.        ]\n",
      " [0.01999681 0.00199968 0.09907324]\n",
      " [0.0099075  0.00099075 0.1976469 ]]\n",
      "dof2_c12_-0.001_0.0001_0.2_0.01_gt.npy\n",
      "[[0.02       0.002      0.        ]\n",
      " [0.01999681 0.00200032 0.09909326]\n",
      " [0.0099095  0.00300905 0.19768683]]\n",
      "dof2_c13_-0.001_0.0005_0.2_0.01_gt.npy\n",
      "[[0.02       0.002      0.        ]\n",
      " [0.01999606 0.00200197 0.09915306]\n",
      " [0.00991551 0.00704224 0.19768755]]\n",
      "dof2_c14_-0.001_0.001_0.2_0.01_gt.npy\n",
      "[[0.02       0.002      0.        ]\n",
      " [0.0199937  0.0020063  0.09926488]\n",
      " [0.00992681 0.01207319 0.19753999]]\n",
      "dof2_c15_-0.001_0.005_0.2_0.01_gt.npy\n",
      "[[0.02       0.002      0.        ]\n",
      " [0.01991922 0.00240388 0.10160712]\n",
      " [0.01016587 0.05117064 0.19048808]]\n",
      "dof2_c16_-0.0005_-0.005_0.2_0.01_gt.npy\n",
      "[[ 0.02        0.002       0.        ]\n",
      " [ 0.01996057  0.0016057   0.10103741]\n",
      " [ 0.01505537 -0.0474463   0.18977207]]\n",
      "dof2_c17_-0.0005_-0.001_0.2_0.01_gt.npy\n",
      "[[ 0.02        0.002       0.        ]\n",
      " [ 0.01999804  0.00199607  0.09950343]\n",
      " [ 0.01497524 -0.00804953  0.19838609]]\n",
      "dof2_c18_-0.0005_-0.0005_0.2_0.01_gt.npy\n",
      "[[ 0.02        0.002       0.        ]\n",
      " [ 0.01999921  0.00199921  0.09949142]\n",
      " [ 0.01497459 -0.00302541  0.19873429]]\n",
      "dof2_c19_-0.0005_-0.0001_0.2_0.01_gt.npy\n",
      "[[0.02       0.002      0.        ]\n",
      " [0.01999959 0.00199992 0.09951155]\n",
      " [0.01497559 0.00099512 0.19889379]]\n",
      "dof2_c1_-0.005_-0.001_0.2_0.01_gt.npy\n",
      "[[ 0.02        0.002       0.        ]\n",
      " [ 0.01957763  0.00191553  0.09690971]\n",
      " [-0.03142124 -0.00828425  0.18168159]]\n",
      "dof2_c20_-0.0005_0.0001_0.2_0.01_gt.npy\n",
      "[[0.02       0.002      0.        ]\n",
      " [0.01999959 0.00200008 0.09953156]\n",
      " [0.01497659 0.00300468 0.19893377]]\n",
      "dof2_c21_-0.0005_0.0005_0.2_0.01_gt.npy\n",
      "[[0.02       0.002      0.        ]\n",
      " [0.01999922 0.00200078 0.09959146]\n",
      " [0.01497959 0.00702041 0.19893412]]\n",
      "dof2_c22_-0.0005_0.001_0.2_0.01_gt.npy\n",
      "[[0.02       0.002      0.        ]\n",
      " [0.01999804 0.00200392 0.09970364]\n",
      " [0.01498523 0.01202955 0.19878526]]\n",
      "dof2_c23_-0.0005_0.005_0.2_0.01_gt.npy\n",
      "[[0.02       0.002      0.        ]\n",
      " [0.01996096 0.0023904  0.10205799]\n",
      " [0.01510433 0.05095673 0.19168896]]\n",
      "dof2_c24_-0.0001_-0.005_0.2_0.01_gt.npy\n",
      "[[ 0.02        0.002       0.        ]\n",
      " [ 0.01999222  0.00161095  0.10142662]\n",
      " [ 0.01901479 -0.04726036  0.19061636]]\n",
      "dof2_c25_-0.0001_-0.001_0.2_0.01_gt.npy\n",
      "[[ 0.02        0.002       0.        ]\n",
      " [ 0.01999968  0.00199684  0.09988392]\n",
      " [ 0.01899884 -0.00801157  0.19926418]]\n",
      "dof2_c26_-0.0001_-0.0005_0.2_0.01_gt.npy\n",
      "[[ 0.02        0.002       0.        ]\n",
      " [ 0.01999992  0.00199959  0.09987163]\n",
      " [ 0.01899872 -0.00300642  0.19961347]]\n",
      "dof2_c27_-0.0001_-0.0001_0.2_0.01_gt.npy\n",
      "[[0.02       0.002      0.        ]\n",
      " [0.01999999 0.00199999 0.09989166]\n",
      " [0.01899892 0.00099892 0.19977334]]\n",
      "dof2_c28_-0.0001_0.0001_0.2_0.01_gt.npy\n",
      "[[0.02       0.002      0.        ]\n",
      " [0.01999999 0.00200001 0.09991167]\n",
      " [0.01899912 0.00300088 0.19981334]]\n",
      "dof2_c29_-0.0001_0.0005_0.2_0.01_gt.npy\n",
      "[[0.02       0.002      0.        ]\n",
      " [0.01999992 0.00200041 0.09997165]\n",
      " [0.01899972 0.00700142 0.19981339]]\n",
      "dof2_c2_-0.005_-0.0005_0.2_0.01_gt.npy\n",
      "[[ 0.02        0.002       0.        ]\n",
      " [ 0.01958988  0.00195899  0.09690406]\n",
      " [-0.03142905 -0.0031429   0.18200866]]\n",
      "dof2_c30_-0.0001_0.001_0.2_0.01_gt.npy\n",
      "[[0.02       0.002      0.        ]\n",
      " [0.01999968 0.00200315 0.10008409]\n",
      " [0.01900084 0.01199159 0.1996635 ]]\n",
      "dof2_c31_-0.0001_0.005_0.2_0.01_gt.npy\n",
      "[[0.02       0.002      0.        ]\n",
      " [0.0199923  0.00238518 0.10244701]\n",
      " [0.01902459 0.0507707  0.19253403]]\n",
      "dof2_c32_0.0001_-0.005_0.2_0.01_gt.npy\n",
      "[[ 0.02        0.002       0.        ]\n",
      " [ 0.02000777  0.00161173  0.1016307 ]\n",
      " [ 0.02098325 -0.04716243  0.1909999 ]]\n",
      "dof2_c33_0.0001_-0.001_0.2_0.01_gt.npy\n",
      "[[ 0.02        0.002       0.        ]\n",
      " [ 0.02000032  0.00199685  0.10008409]\n",
      " [ 0.02099916 -0.00799159  0.1996635 ]]\n",
      "dof2_c34_0.0001_-0.0005_0.2_0.01_gt.npy\n",
      "[[ 0.02        0.002       0.        ]\n",
      " [ 0.02000008  0.00199959  0.10007167]\n",
      " [ 0.02099928 -0.00299642  0.2000133 ]]\n",
      "dof2_c35_0.0001_-0.0001_0.2_0.01_gt.npy\n",
      "[[0.02       0.002      0.        ]\n",
      " [0.02000001 0.00199999 0.10009167]\n",
      " [0.02099908 0.00100092 0.20017333]]\n",
      "dof2_c36_0.0001_0.0001_0.2_0.01_gt.npy\n",
      "[[0.02       0.002      0.        ]\n",
      " [0.02000001 0.00200001 0.10011167]\n",
      " [0.02099888 0.00299888 0.20021333]]\n",
      "dof2_c37_0.0001_0.0005_0.2_0.01_gt.npy\n",
      "[[0.02       0.002      0.        ]\n",
      " [0.02000008 0.00200041 0.10017169]\n",
      " [0.02099828 0.00699142 0.20021321]]\n",
      "dof2_c38_0.0001_0.001_0.2_0.01_gt.npy\n",
      "[[0.02       0.002      0.        ]\n",
      " [0.02000031 0.00200315 0.10028426]\n",
      " [0.02099716 0.0119716  0.20006283]]\n",
      "dof2_c39_0.0001_0.005_0.2_0.01_gt.npy\n",
      "[[0.02       0.002      0.        ]\n",
      " [0.02000769 0.00238441 0.10265109]\n",
      " [0.02097346 0.05067277 0.19291757]]\n",
      "dof2_c3_-0.005_-0.0001_0.2_0.01_gt.npy\n",
      "[[ 0.02        0.002       0.        ]\n",
      " [ 0.0195939   0.00199188  0.09692671]\n",
      " [-0.03141979  0.0009716   0.18215944]]\n",
      "dof2_c40_0.0005_-0.005_0.2_0.01_gt.npy\n",
      "[[ 0.02        0.002       0.        ]\n",
      " [ 0.02003904  0.0016096   0.10205799]\n",
      " [ 0.02489567 -0.04695673  0.19168896]]\n",
      "dof2_c41_0.0005_-0.001_0.2_0.01_gt.npy\n",
      "[[ 0.02        0.002       0.        ]\n",
      " [ 0.02000194  0.00199611  0.10050447]\n",
      " [ 0.02497481 -0.00794963  0.20038193]]\n",
      "dof2_c42_0.0005_-0.0005_0.2_0.01_gt.npy\n",
      "[[ 0.02        0.002       0.        ]\n",
      " [ 0.02000078  0.00199922  0.10049184]\n",
      " [ 0.02497543 -0.00297543  0.20073263]]\n",
      "dof2_c43_0.0005_-0.0001_0.2_0.01_gt.npy\n",
      "[[0.02       0.002      0.        ]\n",
      " [0.0200004  0.00199992 0.10051177]\n",
      " [0.02497442 0.00100512 0.20089292]]\n",
      "dof2_c44_0.0005_0.0001_0.2_0.01_gt.npy\n",
      "[[0.02       0.002      0.        ]\n",
      " [0.0200004  0.00200008 0.10053177]\n",
      " [0.02497342 0.00299468 0.2009329 ]]\n",
      "dof2_c45_0.0005_0.0005_0.2_0.01_gt.npy\n",
      "[[0.02       0.002      0.        ]\n",
      " [0.02000078 0.00200078 0.10059188]\n",
      " [0.02497043 0.00697043 0.20093246]]\n",
      "dof2_c46_0.0005_0.001_0.2_0.01_gt.npy\n",
      "[[0.02       0.002      0.        ]\n",
      " [0.02000194 0.00200388 0.10070468]\n",
      " [0.02496483 0.01192965 0.2007811 ]]\n",
      "dof2_c47_0.0005_0.005_0.2_0.01_gt.npy\n",
      "[[0.02       0.002      0.        ]\n",
      " [0.02003865 0.0023865  0.10307857]\n",
      " [0.02484672 0.05046716 0.19360585]]\n",
      "dof2_c48_0.001_-0.005_0.2_0.01_gt.npy\n",
      "[[ 0.02        0.002       0.        ]\n",
      " [ 0.02007997  0.00160014  0.1026283 ]\n",
      " [ 0.02973628 -0.04668138  0.19240253]]\n",
      "dof2_c49_0.001_-0.001_0.2_0.01_gt.npy\n",
      "[[ 0.02        0.002       0.        ]\n",
      " [ 0.02000619  0.00199381  0.10106787]\n",
      " [ 0.02989349 -0.00789349  0.20112801]]\n",
      "dof2_c4_-0.005_0.0001_0.2_0.01_gt.npy\n",
      "[[ 0.02        0.002       0.        ]\n",
      " [ 0.01959397  0.00200812  0.09694712]\n",
      " [-0.03141     0.0030282   0.18219779]]\n",
      "dof2_c50_0.001_-0.0005_0.2_0.01_gt.npy\n",
      "[[ 0.02        0.002       0.        ]\n",
      " [ 0.02000387  0.00199807  0.10105504]\n",
      " [ 0.02989469 -0.00294734  0.20147964]]\n",
      "dof2_c51_0.001_-0.0001_0.2_0.01_gt.npy\n",
      "[[0.02       0.002      0.        ]\n",
      " [0.02000312 0.00199969 0.10107492]\n",
      " [0.02989267 0.00101073 0.20164017]]\n",
      "dof2_c52_0.001_0.0001_0.2_0.01_gt.npy\n",
      "[[0.02       0.002      0.        ]\n",
      " [0.02000312 0.00200031 0.10109494]\n",
      " [0.02989067 0.00298907 0.2016801 ]]\n",
      "dof2_c53_0.001_0.0005_0.2_0.01_gt.npy\n",
      "[[0.02       0.002      0.        ]\n",
      " [0.02000386 0.00200193 0.10115515]\n",
      " [0.0298847  0.00694235 0.20167922]]\n",
      "dof2_c54_0.001_0.001_0.2_0.01_gt.npy\n",
      "[[0.02       0.002      0.        ]\n",
      " [0.02000618 0.00200618 0.10126821]\n",
      " [0.02987353 0.01187353 0.20152667]]\n",
      "dof2_c55_0.001_0.005_0.2_0.01_gt.npy\n",
      "[[0.02       0.002      0.        ]\n",
      " [0.02007917 0.00239584 0.10364948]\n",
      " [0.02963842 0.05019212 0.19431698]]\n",
      "dof2_c56_0.005_-0.005_0.2_0.01_gt.npy\n",
      "[[ 0.02        0.002       0.        ]\n",
      " [ 0.0207307   0.0012693   0.10866616]\n",
      " [ 0.06579328 -0.04379328  0.1920136 ]]\n",
      "dof2_c57_0.005_-0.001_0.2_0.01_gt.npy\n",
      "[[ 0.02        0.002       0.        ]\n",
      " [ 0.02038218  0.00192356  0.10712148]\n",
      " [ 0.06652864 -0.00730573  0.20082612]]\n",
      "dof2_c58_0.005_-0.0005_0.2_0.01_gt.npy\n",
      "[[ 0.02        0.002       0.        ]\n",
      " [ 0.02037108  0.00196289  0.10710986]\n",
      " [ 0.06653337 -0.00265334  0.20117756]]\n",
      "dof2_c59_0.005_-0.0001_0.2_0.01_gt.npy\n",
      "[[0.02       0.002      0.        ]\n",
      " [0.02036743 0.00199265 0.1071306 ]\n",
      " [0.06652313 0.00106954 0.20133614]]\n",
      "dof2_c5_-0.005_0.0005_0.2_0.01_gt.npy\n",
      "[[ 0.02        0.002       0.        ]\n",
      " [ 0.01959028  0.00204097  0.09700612]\n",
      " [-0.03138009  0.00713801  0.18220035]]\n",
      "dof2_c60_0.005_0.0001_0.2_0.01_gt.npy\n",
      "[[0.02       0.002      0.        ]\n",
      " [0.02036735 0.00200735 0.107151  ]\n",
      " [0.06651334 0.00293027 0.20137449]]\n",
      "dof2_c61_0.005_0.0005_0.2_0.01_gt.npy\n",
      "[[0.02       0.002      0.        ]\n",
      " [0.02037068 0.00203707 0.10721191]\n",
      " [0.06648442 0.00664844 0.20136925]]\n",
      "dof2_c62_0.005_0.001_0.2_0.01_gt.npy\n",
      "[[0.02       0.002      0.        ]\n",
      " [0.02038137 0.00207627 0.10732571]\n",
      " [0.06643079 0.01128616 0.20120902]]\n",
      "dof2_c63_0.005_0.005_0.2_0.01_gt.npy\n",
      "[[0.02       0.002      0.        ]\n",
      " [0.02072304 0.00272304 0.10970603]\n",
      " [0.06531377 0.04731377 0.19385105]]\n",
      "dof2_c6_-0.005_0.001_0.2_0.01_gt.npy\n",
      "[[ 0.02        0.002       0.        ]\n",
      " [ 0.01957844  0.00208431  0.09711394]\n",
      " [-0.03132339  0.01226468  0.18206449]]\n",
      "dof2_c7_-0.005_0.005_0.2_0.01_gt.npy\n",
      "[[ 0.02        0.002       0.        ]\n",
      " [ 0.01920044  0.00279956  0.09930736]\n",
      " [-0.03010888  0.05210888  0.17547655]]\n",
      "dof2_c8_-0.001_-0.005_0.2_0.01_gt.npy\n",
      "[[ 0.02        0.002       0.        ]\n",
      " [ 0.01991842  0.0015921   0.10058595]\n",
      " [ 0.01006802 -0.0476599   0.18857363]]\n",
      "dof2_c9_-0.001_-0.001_0.2_0.01_gt.npy\n",
      "[[ 0.02        0.002       0.        ]\n",
      " [ 0.01999369  0.00199369  0.09906455]\n",
      " [ 0.00990684 -0.00809316  0.19714133]]\n"
     ]
    }
   ],
   "source": [
    "# 指定文件夹路径\n",
    "folder_path = 'E:/OneDrive - UC San Diego/UCSD/Lab/Catheter/diff_catheter/data/rendered_images/dof2_64/'\n",
    "\n",
    "# 存储提取的数字\n",
    "actuation_params = []\n",
    "bezier_control_points = []\n",
    "\n",
    "# 遍历文件夹中的所有文件\n",
    "for filename in os.listdir(folder_path):\n",
    "    if filename.endswith('.npy'):\n",
    "        print(filename)\n",
    "        # 分割文件名\n",
    "        parts = filename.split('_')\n",
    "        # 提取第三段和第四段的数字\n",
    "        third_value = float(parts[2])\n",
    "        fourth_value = float(parts[3])\n",
    "        actuation_params.append([third_value, fourth_value])\n",
    "        \n",
    "        file_path = folder_path + filename\n",
    "        # print(file_path)\n",
    "        data = np.load(file_path)\n",
    "        bezier_control_points.append(data)\n",
    "        print(data)"
   ]
  },
  {
   "cell_type": "code",
   "execution_count": 17,
   "metadata": {},
   "outputs": [],
   "source": [
    "# # 输出提取的结果\n",
    "# for values in actuation_params:\n",
    "#     print(values)"
   ]
  },
  {
   "cell_type": "code",
   "execution_count": 18,
   "metadata": {},
   "outputs": [],
   "source": [
    "p_0 = np.array([0.02, 0.002, 0, 1])\n",
    "l_solution, r_solution = fit_parameters(actuation_params, bezier_control_points, p_0)"
   ]
  },
  {
   "cell_type": "code",
   "execution_count": 19,
   "metadata": {},
   "outputs": [
    {
     "name": "stdout",
     "output_type": "stream",
     "text": [
      "0.02 0.0005\n"
     ]
    }
   ],
   "source": [
    "print(l_solution, r_solution)"
   ]
  },
  {
   "cell_type": "code",
   "execution_count": 20,
   "metadata": {},
   "outputs": [],
   "source": [
    "def calculate_error_percentages(l, r, actuation_params, bezier_control_points, p0):\n",
    "    error_percentages = []\n",
    "    \n",
    "    # 遍历所有的数据点\n",
    "    for i, (delta_x, delta_y) in enumerate(actuation_params):\n",
    "        p1_observed = np.append(bezier_control_points[i][1], 1)  # 转换为齐次坐标\n",
    "        p2_observed = np.append(bezier_control_points[i][2], 1)  # 转换为齐次坐标\n",
    "\n",
    "        p1_computed, p2_computed = tendon_disp_to_bezier_control_points(delta_x, delta_y, l, r, p0)\n",
    "\n",
    "        # 计算残差\n",
    "        residual_p1 = np.linalg.norm(p1_computed - p1_observed)\n",
    "        residual_p2 = np.linalg.norm(p2_computed - p2_observed)\n",
    "        \n",
    "        # 计算误差百分比\n",
    "        error_percentage_p1 = (residual_p1 / np.linalg.norm(p1_observed)) if np.linalg.norm(p1_observed) != 0 else 0\n",
    "        error_percentage_p2 = (residual_p2 / np.linalg.norm(p2_observed)) if np.linalg.norm(p2_observed) != 0 else 0\n",
    "        \n",
    "        error_percentages.append((error_percentage_p1, error_percentage_p2))\n",
    "    \n",
    "    return error_percentages"
   ]
  },
  {
   "cell_type": "code",
   "execution_count": 21,
   "metadata": {},
   "outputs": [
    {
     "name": "stdout",
     "output_type": "stream",
     "text": [
      "Error percentages: [(0.1763850599228995, 0.21883977836990887), (0.05364146755334699, 0.17758582619134014), (0.04506645760038012, 0.14099973454432022), (0.04513409648076767, 0.141018935683969), (0.060897782510527826, 0.1841967949794693), (0.13672010448630806, 0.24774305061926877), (0.25611216517533614, 0.17545777339969823), (0.04619849313941226, 0.14040643831342586), (0.054719545251369864, 0.18113801348893024), (0.2732204224907277, 0.2040165927779365), (0.051106119007677094, 0.1596150968934697), (0.25803550111904794, 0.18545216750088087), (0.0491191435458157, 0.15735603320736108), (0.2729668497903475, 0.1937315611451944), (0.0692462297037345, 0.19454639269917287), (0.04944086179142276, 0.14112792548214156), (0.10781025387919987, 0.22773696755593356), (0.04593296116371481, 0.14314956998053494), (0.050192016622817345, 0.15572556338033994), (0.046059884865893956, 0.1494594911959289), (0.03901374880680496, 0.13806516991901377), (0.03982108519811942, 0.1442267770459409), (0.041753596252915526, 0.13088549043949158), (0.046603725307274545, 0.14335889624481227), (0.1284695471842774, 0.23917900049590798), (0.10838700125200372, 0.22856398789115334), (0.04619333123642272, 0.14364609447930454), (0.04788132060420069, 0.15164575606609115), (0.05301570278211757, 0.11896915559987847), (0.051991429298706454, 0.10788993564631648), (0.037285388852498054, 0.14004604396541495), (0.04686288008242253, 0.1438591890570579), (0.12925663436501922, 0.2400913357725857), (0.10669850985857747, 0.21435181222211314), (0.04752675987172295, 0.14256527793883314), (0.06566558423068189, 0.19617107003687864), (0.27069782227495787, 0.1853423360899447), (0.03925479172822859, 0.13906052634249896), (0.03705256527146995, 0.13670156918021303), (0.2818761529098422, 0.1760673008549486), (0.0799360794605095, 0.20982628556512808), (0.05074451583287574, 0.1433856288589004), (0.25208218112517833, 0.18635521465116905), (0.13522407526267152, 0.25137662388280047), (0.10697593941254444, 0.2145320933450302), (0.07517538130090778, 0.20768601165590375), (0.04766459160240973, 0.14598197892550993), (0.047731014491915705, 0.14600494965313188), (0.08221597615685967, 0.21455040469542963), (0.12779635244659154, 0.2536472364921789), (0.26215806677432746, 0.1742519809437691), (0.1627516188921052, 0.25110922543501374), (0.2707680707171297, 0.17934569814572998), (0.05491527102814098, 0.1529056081230503), (0.13975434357012764, 0.25742650074395323), (0.04209056366873245, 0.13090864323141438), (0.14024519801956065, 0.25769286026790783), (0.055227298130775565, 0.15302824590292846), (0.2748449501673762, 0.17693973008994843), (0.15459250415035086, 0.259068435739154), (0.25657764228561236, 0.1830185350276169), (0.1608911354704866, 0.22480381805673783), (0.2517672212274707, 0.18758852044278848), (0.1527409667236155, 0.2485221592032087)]\n"
     ]
    }
   ],
   "source": [
    "error_percentages = calculate_error_percentages(l_solution, r_solution, actuation_params, bezier_control_points, p0)\n",
    "print(\"Error percentages:\", error_percentages)"
   ]
  },
  {
   "cell_type": "code",
   "execution_count": 22,
   "metadata": {},
   "outputs": [],
   "source": [
    "def plot_error_percentages(error_percentages):\n",
    "    # 提取每组数据的误差百分比\n",
    "    errors_p1 = [ep[0] for ep in error_percentages]\n",
    "    errors_p2 = [ep[1] for ep in error_percentages]\n",
    "\n",
    "    # 创建条形图\n",
    "    x = range(len(errors_p1))  # 数据点的数量\n",
    "    width = 0.35  # 条形的宽度\n",
    "\n",
    "    fig, ax = plt.subplots()\n",
    "    bars_p1 = ax.bar(x, errors_p1, width, label='Error % for P1')\n",
    "    bars_p2 = ax.bar([p + width for p in x], errors_p2, width, label='Error % for P2')\n",
    "\n",
    "    # 添加一些文本描述\n",
    "    ax.set_xlabel('Data Point Index')\n",
    "    ax.set_ylabel('Error Percentage')\n",
    "    ax.set_title('Error Percentages for P1 and P2')\n",
    "    ax.set_xticks([p + width / 2 for p in x])\n",
    "    ax.set_xticklabels([str(i) for i in x])\n",
    "    ax.legend()\n",
    "\n",
    "    # # 在条形图上添加数字标签\n",
    "    # def autolabel(bars):\n",
    "    #     \"\"\"Attach a text label above each bar in *bars*, displaying its height.\"\"\"\n",
    "    #     for bar in bars:\n",
    "    #         height = bar.get_height()\n",
    "    #         ax.annotate('%.2f' % height,\n",
    "    #                     xy=(bar.get_x() + bar.get_width() / 2, height),\n",
    "    #                     xytext=(0, 3),  # 3 points vertical offset\n",
    "    #                     textcoords=\"offset points\",\n",
    "    #                     ha='center', va='bottom')\n",
    "\n",
    "    # autolabel(bars_p1)\n",
    "    # autolabel(bars_p2)\n",
    "\n",
    "    plt.show()"
   ]
  },
  {
   "cell_type": "code",
   "execution_count": 23,
   "metadata": {},
   "outputs": [
    {
     "data": {
      "image/png": "[encoded data removed]",
      "text/plain": [
       "<Figure size 640x480 with 1 Axes>"
      ]
     },
     "metadata": {},
     "output_type": "display_data"
    }
   ],
   "source": [
    "plot_error_percentages(error_percentages)"
   ]
  },
  {
   "cell_type": "code",
   "execution_count": 25,
   "metadata": {},
   "outputs": [
    {
     "name": "stdout",
     "output_type": "stream",
     "text": [
      "[ 0.02007997  0.00160014  0.1026283   0.02973628 -0.04668138  0.19240253]\n"
     ]
    }
   ],
   "source": [
    "case_naming = 'E:/OneDrive - UC San Diego/UCSD/Lab/Catheter/diff_catheter/data/rendered_images/dof2_64/dof2_c48_0.001_-0.005_0.2_0.01'\n",
    "img_save_path = case_naming + '.png'\n",
    "cc_specs_path = case_naming + '_gt.npy'\n",
    "para_gt_np = np.load(cc_specs_path)[1:3, :].flatten()\n",
    "\n",
    "print(para_gt_np)"
   ]
  }
 ],
 "metadata": {
  "kernelspec": {
   "display_name": "catheter",
   "language": "python",
   "name": "python3"
  },
  "language_info": {
   "codemirror_mode": {
    "name": "ipython",
    "version": 3
   },
   "file_extension": ".py",
   "mimetype": "text/x-python",
   "name": "python",
   "nbconvert_exporter": "python",
   "pygments_lexer": "ipython3",
   "version": "3.8.19"
  }
 },
 "nbformat": 4,
 "nbformat_minor": 2
}
