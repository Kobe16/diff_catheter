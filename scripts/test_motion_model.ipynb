{
 "cells": [
  {
   "cell_type": "code",
   "execution_count": 1,
   "metadata": {},
   "outputs": [],
   "source": [
    "import numpy as np"
   ]
  },
  {
   "cell_type": "code",
   "execution_count": 2,
   "metadata": {},
   "outputs": [],
   "source": [
    "def cc_transform_3dof(p_0, ux, uy, l, r, s=1):\n",
    "    \"\"\"\n",
    "    Calculate constant curvature 3DoF transformation\n",
    "    \n",
    "    Args:\n",
    "        p_0 ((3,) numpy array): start point of catheter\n",
    "        ux (float): 1st pair of tendon length (responsible for catheter bending)\n",
    "        uy (float): 2nd pair of tendon length (responsible for catheter bending)\n",
    "        l (float): length of catheter\n",
    "        r (float): cross section radius of catheter\n",
    "        s (float from 0 to 1 inclusive): s value representing position on the CC curve\n",
    "    \"\"\"\n",
    "    p_0_4d = np.append(p_0, 1)\n",
    "    u = np.sqrt(ux ** 2 + uy ** 2)\n",
    "    k = u / r\n",
    "    # k = u / (l * r)\n",
    "\n",
    "    T = np.array([\n",
    "        [1 + (ux ** 2) / (u ** 2) * (np.cos(k * s) - 1), ux * uy / (u ** 2) * (np.cos(k * s) - 1),       -1 * ux / u * np.sin(k * s), r * l * ux * (1 - np.cos(k * s)) / (u ** 2)],\n",
    "        [ux * uy / (u ** 2) * (np.cos(k * s) - 1),       1 + (uy ** 2) / (u ** 2) * (np.cos(k * s) - 1), -1 * uy / u * np.sin(k * s), r * l * uy * (1 - np.cos(k * s)) / (u ** 2)],\n",
    "        [ux / u * np.sin(k * s),                         uy / u * np.sin(k * s),                         np.cos(k * s),               r * l * np.sin(k * s) / u                  ],\n",
    "        [0,                                              0,                                              0,                           1                                          ]], dtype=object)\n",
    "\n",
    "    return (T @ p_0_4d)[:3]"
   ]
  },
  {
   "cell_type": "code",
   "execution_count": 3,
   "metadata": {},
   "outputs": [],
   "source": [
    "p_0 = np.array([2e-2, 2e-3, 0])\n",
    "r = 0.01\n",
    "ux = 0.00001\n",
    "uy = 0.00001\n",
    "l = 0.2\n",
    "s = 1"
   ]
  },
  {
   "cell_type": "code",
   "execution_count": 4,
   "metadata": {},
   "outputs": [],
   "source": [
    "p_0_4d = np.append(p_0, 1)\n",
    "u = np.sqrt(ux ** 2 + uy ** 2)\n",
    "k = u / r\n",
    "# k = u / (l * r)\n",
    "\n",
    "T = np.array([\n",
    "    [1 + (ux ** 2) / (u ** 2) * (np.cos(k * s) - 1), ux * uy / (u ** 2) * (np.cos(k * s) - 1),       -1 * ux / u * np.sin(k * s), r * l * ux * (1 - np.cos(k * s)) / (u ** 2)],\n",
    "    [ux * uy / (u ** 2) * (np.cos(k * s) - 1),       1 + (uy ** 2) / (u ** 2) * (np.cos(k * s) - 1), -1 * uy / u * np.sin(k * s), r * l * uy * (1 - np.cos(k * s)) / (u ** 2)],\n",
    "    [ux / u * np.sin(k * s),                         uy / u * np.sin(k * s),                         np.cos(k * s),               r * l * np.sin(k * s) / u                  ],\n",
    "    [0,                                              0,                                              0,                           1                                          ]], dtype=object)"
   ]
  },
  {
   "cell_type": "code",
   "execution_count": 5,
   "metadata": {},
   "outputs": [
    {
     "name": "stdout",
     "output_type": "stream",
     "text": [
      "[0.020099988983340263 0.002099988983340261 0.20002193332600665]\n",
      "[0.02009999998333843 0.002099999983338428 0.19999993333333999]\n"
     ]
    }
   ],
   "source": [
    "p1 = (T @ p_0_4d)[:3]\n",
    "print(p1)\n",
    "origin = np.array([0, 0, 0, 1])\n",
    "p2 = (T @ origin + p_0_4d)[:3]\n",
    "print(p2)"
   ]
  }
 ],
 "metadata": {
  "kernelspec": {
   "display_name": "catheter",
   "language": "python",
   "name": "python3"
  },
  "language_info": {
   "codemirror_mode": {
    "name": "ipython",
    "version": 3
   },
   "file_extension": ".py",
   "mimetype": "text/x-python",
   "name": "python",
   "nbconvert_exporter": "python",
   "pygments_lexer": "ipython3",
   "version": "3.8.19"
  }
 },
 "nbformat": 4,
 "nbformat_minor": 2
}
