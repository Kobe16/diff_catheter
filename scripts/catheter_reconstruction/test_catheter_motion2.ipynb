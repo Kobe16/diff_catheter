{
 "cells": [
  {
   "cell_type": "code",
   "execution_count": 1,
   "metadata": {},
   "outputs": [],
   "source": [
    "import numpy as np\n",
    "from bezier_interspace_transforms import tendon_disp_to_bezier_control_points\n",
    "# from scipy.optimize import fsolve"
   ]
  },
  {
   "cell_type": "code",
   "execution_count": 2,
   "metadata": {},
   "outputs": [
    {
     "name": "stdout",
     "output_type": "stream",
     "text": [
      "[0.5 1. ]\n"
     ]
    }
   ],
   "source": [
    "n_mid_points = 1\n",
    "a = np.linspace(0, 1, n_mid_points + 2)[1:]\n",
    "print(a)"
   ]
  },
  {
   "cell_type": "code",
   "execution_count": 3,
   "metadata": {},
   "outputs": [
    {
     "name": "stdout",
     "output_type": "stream",
     "text": [
      "[ 2 -2  0] [2 2 0]\n",
      "圆心 (Circle Center): [1. 0. 0.]\n",
      "半径 (Radius): 1.0\n"
     ]
    }
   ],
   "source": [
    "# 定义点\n",
    "A = np.array([1, 1, 0])\n",
    "B = np.array([0, 0, 0])\n",
    "C = np.array([2, 0, 0])\n",
    "\n",
    "# 计算向量\n",
    "vec_AB = B - A\n",
    "vec_AC = C - A\n",
    "\n",
    "# 平面法向量\n",
    "normal_ABC = np.cross(vec_AB, vec_AC)\n",
    "\n",
    "# 计算中点\n",
    "M_AB = (A + B) / 2\n",
    "M_AC = (A + C) / 2\n",
    "\n",
    "# 中垂线方向向量\n",
    "direction_AB = np.cross(normal_ABC, vec_AB)\n",
    "direction_AC = np.cross(normal_ABC, vec_AC)\n",
    "\n",
    "print(direction_AB, direction_AC)\n",
    "\n",
    "# 设定两条中垂线的方程\n",
    "# 使用矩阵方法解交点\n",
    "# 方程: M_AB + t * direction_AB = M_AC + s * direction_AC\n",
    "# 转换为线性方程组求解 t 和 s\n",
    "# A = np.column_stack((direction_AB, -direction_AC))\n",
    "# b = M_AC - M_AB\n",
    "\n",
    "# try:\n",
    "#     t_s = np.linalg.solve(A, b)\n",
    "#     circle_center = M_AB + t_s[0] * direction_AB\n",
    "#     print(\"圆心 (Circle Center):\", circle_center)\n",
    "# except np.linalg.LinAlgError:\n",
    "#     print(\"中垂线可能不相交或存在多个解\")\n",
    "\n",
    "# 解 t\n",
    "try:\n",
    "    t = (M_AC[0] - M_AB[0]) / (direction_AB[0] + direction_AC[0])\n",
    "    circle_center = M_AB + t * direction_AB\n",
    "    # 计算半径\n",
    "    radius = np.linalg.norm(circle_center - A)\n",
    "    print(\"圆心 (Circle Center):\", circle_center)\n",
    "    print(\"半径 (Radius):\", radius)\n",
    "except ZeroDivisionError:\n",
    "    print(\"方向向量x分量之和为0，无法解出t\")"
   ]
  },
  {
   "cell_type": "code",
   "execution_count": 4,
   "metadata": {},
   "outputs": [],
   "source": [
    "def calculate_radius(A, B, C):\n",
    "    # 计算向量\n",
    "    vec_AB = B - A\n",
    "    vec_AC = C - A\n",
    "\n",
    "    # 平面法向量\n",
    "    normal_ABC = np.cross(vec_AB, vec_AC)\n",
    "\n",
    "    # 计算中点\n",
    "    M_AB = (A + B) / 2\n",
    "    M_AC = (A + C) / 2\n",
    "\n",
    "    # 中垂线方向向量\n",
    "    direction_AB = np.cross(normal_ABC, vec_AB)\n",
    "    direction_AC = np.cross(normal_ABC, vec_AC)\n",
    "\n",
    "    t = (M_AC[0] - M_AB[0]) / (direction_AB[0] + direction_AC[0])\n",
    "    circle_center = M_AB + t * direction_AB\n",
    "    # 计算半径\n",
    "    radius = np.linalg.norm(circle_center - A)\n",
    "    \n",
    "    return radius, circle_center, normal_ABC"
   ]
  },
  {
   "cell_type": "code",
   "execution_count": 5,
   "metadata": {},
   "outputs": [
    {
     "name": "stdout",
     "output_type": "stream",
     "text": [
      "2.0 [-2. -2.  3.]\n"
     ]
    }
   ],
   "source": [
    "A = np.array([-2, 0, 3])\n",
    "B = np.array([-4, -2, 3])\n",
    "C = np.array([0, -2, 3])\n",
    "\n",
    "radius, circle_center, _ = calculate_radius(A, B, C)\n",
    "\n",
    "print(radius, circle_center)"
   ]
  },
  {
   "cell_type": "code",
   "execution_count": 6,
   "metadata": {},
   "outputs": [],
   "source": [
    "# def angle_between_vectors(n1, n2):\n",
    "#     # 计算两个向量的点积\n",
    "#     dot_product = np.dot(n1, n2)\n",
    "#     # 计算两个向量的模\n",
    "#     norm_n1 = np.linalg.norm(n1)\n",
    "#     norm_n2 = np.linalg.norm(n2)\n",
    "#     # 计算余弦值\n",
    "#     cos_theta = dot_product / (norm_n1 * norm_n2)\n",
    "#     angle = np.arccos(cos_theta)\n",
    "#     return angle"
   ]
  },
  {
   "cell_type": "code",
   "execution_count": 7,
   "metadata": {},
   "outputs": [],
   "source": [
    "def angle_between_vectors(A, B):\n",
    "    # 计算两个向量的点积\n",
    "    dot_product = np.dot(A, B)\n",
    "    # 计算两个向量的模\n",
    "    norm_A = np.linalg.norm(A)\n",
    "    norm_B = np.linalg.norm(B)\n",
    "    # 计算余弦值\n",
    "    cos_theta = dot_product / (norm_A * norm_B)\n",
    "    # cos_theta = np.clip(dot_product / (norm_A * norm_B), -1.0, 1.0)\n",
    "    # 计算夹角的绝对值（弧度）\n",
    "    angle = np.arccos(cos_theta)\n",
    "    \n",
    "    # 计算向量的叉积\n",
    "    cross_product = np.cross(A, B)\n",
    "    # 判断旋转方向\n",
    "    if cross_product[2] < 0:\n",
    "        # 顺时针旋转，角度取负\n",
    "        angle = -angle\n",
    "    \n",
    "    return angle"
   ]
  },
  {
   "cell_type": "code",
   "execution_count": 8,
   "metadata": {},
   "outputs": [],
   "source": [
    "def bezier_control_points_to_tendon_disp(p_0, p_1, p_2, l, r):\n",
    "    \"\"\"\n",
    "    Convert from Bezier curve model model to constant curvature using optimization.\n",
    "    \"\"\"\n",
    "    p_start = p_0[:-1]\n",
    "    p_mid = p_1[:-1]\n",
    "    p_end = p_2[:-1]\n",
    "    \n",
    "    s_bezier = 0.5\n",
    "    # bezier_mid = p_start * (s_bezier - 1) ** 2 + p_mid * 4 * s_bezier * (1 - s_bezier) + p_end * s_bezier * (3 * s_bezier - 2)\n",
    "    bezier_mid = 0.5 * (p_mid + 0.5*p_start + 0.5*p_end)\n",
    "    radius, _, n_circle = calculate_radius(bezier_mid, p_start, p_end)\n",
    "    k = 1 / radius\n",
    "    delta = k * l * r\n",
    "    n_base = np.array([0, -1, 0])\n",
    "    phi = angle_between_vectors(n_base, n_circle)\n",
    "    \n",
    "    delta_x_solution = delta * np.cos(phi)\n",
    "    delta_y_solution = delta * np.sin(phi)\n",
    "        \n",
    "    return delta_x_solution, delta_y_solution"
   ]
  },
  {
   "cell_type": "code",
   "execution_count": 9,
   "metadata": {},
   "outputs": [],
   "source": [
    "p_0_h = np.array([2e-2, 2e-3, 0, 1])\n",
    "l = 0.2\n",
    "r = 0.01\n",
    "ux = -0.003\n",
    "uy = 0.001\n",
    "# ux = -0.0753\n",
    "# uy = 0.1626"
   ]
  },
  {
   "cell_type": "code",
   "execution_count": 10,
   "metadata": {},
   "outputs": [
    {
     "name": "stdout",
     "output_type": "stream",
     "text": [
      "-0.0029129736332490623 0.0009709912110830195\n",
      "ux: -0.0030, uy: 0.0010 -> ux_solve: -0.0029, uy_solve: 0.0010, ux_error: 2.90%, uy_error: 2.90%\n"
     ]
    }
   ],
   "source": [
    "p1, p2 = tendon_disp_to_bezier_control_points(ux, uy, l, r, p_0_h)\n",
    "ux_solve, uy_solve = bezier_control_points_to_tendon_disp(p_0_h, p1, p2, l, r)\n",
    "\n",
    "print(ux_solve, uy_solve)\n",
    "\n",
    "ux_error = abs((ux_solve - ux) / ux) * 100 if ux != 0 else 0\n",
    "uy_error = abs((uy_solve - uy) / uy) * 100 if uy != 0 else 0\n",
    "print(f\"ux: {ux:.4f}, uy: {uy:.4f} -> ux_solve: {ux_solve:.4f}, uy_solve: {uy_solve:.4f}, ux_error: {ux_error:.2f}%, uy_error: {uy_error:.2f}%\")"
   ]
  },
  {
   "cell_type": "code",
   "execution_count": 11,
   "metadata": {},
   "outputs": [],
   "source": [
    "# 随机生成ux和uy\n",
    "np.random.seed(0)  # 固定随机数种子以便结果可复现\n",
    "n_samples = 1000\n",
    "ux_values = np.random.uniform(-0.005, 0.005, n_samples)\n",
    "uy_values = np.random.uniform(-0.005, 0.009, n_samples)\n",
    "\n",
    "errors = []\n",
    "\n",
    "for ux, uy in zip(ux_values, uy_values):\n",
    "    p1, p2 = tendon_disp_to_bezier_control_points(ux, uy, l, r, p_0_h)\n",
    "    ux_solve, uy_solve = bezier_control_points_to_tendon_disp(p_0_h, p1, p2, l, r)\n",
    "    \n",
    "    ux_error = abs((ux_solve - ux) / ux) * 100 if ux != 0 else 0\n",
    "    uy_error = abs((uy_solve - uy) / uy) * 100 if uy != 0 else 0\n",
    "    \n",
    "    errors.append((ux, uy, ux_solve, uy_solve, ux_error, uy_error))\n",
    "    \n",
    "# 计算平均误差和统计误差超过50%的样本百分比\n",
    "total_ux_error = sum(error[4] for error in errors)\n",
    "total_uy_error = sum(error[5] for error in errors)\n",
    "average_ux_error = total_ux_error / n_samples\n",
    "average_uy_error = total_uy_error / n_samples\n",
    "\n",
    "large_errors_count = sum(1 for error in errors if error[4] > 50 or error[5] > 50)\n",
    "large_errors_percentage = (large_errors_count / n_samples) * 100\n",
    "\n",
    "# # 打印结果\n",
    "# for ux, uy, ux_solve, uy_solve, ux_error, uy_error in errors:\n",
    "#     print(f\"ux: {ux:.4f}, uy: {uy:.4f} -> ux_solve: {ux_solve:.4f}, uy_solve: {uy_solve:.4f}, ux_error: {ux_error:.2f}%, uy_error: {uy_error:.2f}%\")"
   ]
  },
  {
   "cell_type": "code",
   "execution_count": 12,
   "metadata": {},
   "outputs": [
    {
     "name": "stdout",
     "output_type": "stream",
     "text": [
      "\n",
      "平均 ux 误差: 2.52%\n",
      "平均 uy 误差: 2.52%\n",
      "误差超过 50% 的样本百分比: 0.00%\n",
      "\n",
      "误差超过 50% 的例子:\n"
     ]
    }
   ],
   "source": [
    "print(f\"\\n平均 ux 误差: {average_ux_error:.2f}%\")\n",
    "print(f\"平均 uy 误差: {average_uy_error:.2f}%\")\n",
    "print(f\"误差超过 50% 的样本百分比: {large_errors_percentage:.2f}%\")\n",
    "\n",
    "# 打印所有误差超过 50% 的例子\n",
    "print(\"\\n误差超过 50% 的例子:\")\n",
    "for ux, uy, ux_solve, uy_solve, ux_error, uy_error in errors:\n",
    "    if ux_error > 50 or uy_error > 50:\n",
    "        print(f\"ux: {ux:.4f}, uy: {uy:.4f} -> ux_solve: {ux_solve:.4f}, uy_solve: {uy_solve:.4f}, ux_error: {ux_error:.2f}%, uy_error: {uy_error:.2f}%\")"
   ]
  },
  {
   "cell_type": "code",
   "execution_count": 13,
   "metadata": {},
   "outputs": [
    {
     "name": "stdout",
     "output_type": "stream",
     "text": [
      "\n",
      "去掉超过100%误差的数据后，平均 ux 误差: 2.52%\n",
      "去掉超过100%误差的数据后，平均 uy 误差: 2.52%\n"
     ]
    }
   ],
   "source": [
    "# 过滤误差超过100%的数据\n",
    "filtered_errors = [error for error in errors if error[4] <= 100 and error[5] <= 100]\n",
    "\n",
    "# 计算过滤后的平均误差\n",
    "if filtered_errors:\n",
    "    total_filtered_ux_error = sum(error[4] for error in filtered_errors)\n",
    "    total_filtered_uy_error = sum(error[5] for error in filtered_errors)\n",
    "    average_filtered_ux_error = total_filtered_ux_error / len(filtered_errors)\n",
    "    average_filtered_uy_error = total_filtered_uy_error / len(filtered_errors)\n",
    "else:\n",
    "    average_filtered_ux_error = 0\n",
    "    average_filtered_uy_error = 0\n",
    "\n",
    "print(f\"\\n去掉超过100%误差的数据后，平均 ux 误差: {average_filtered_ux_error:.2f}%\")\n",
    "print(f\"去掉超过100%误差的数据后，平均 uy 误差: {average_filtered_uy_error:.2f}%\")\n"
   ]
  },
  {
   "cell_type": "code",
   "execution_count": 14,
   "metadata": {},
   "outputs": [],
   "source": [
    "# def equations(vars, p1_target, p2_target, l, r, p0):\n",
    "#     delta_x, delta_y = vars\n",
    "#     p1, p2 = tendon_disp_to_bezier_control_points(delta_x, delta_y, l, r, p0)\n",
    "#     eq1 = p1 - p1_target\n",
    "#     eq2 = p2 - p2_target\n",
    "#     return np.hstack((eq1, eq2))\n",
    "\n",
    "# def bezier_control_points_to_tendon_disp_2(p1_target, p2_target, l, r, p0):\n",
    "#     initial_guess = [0.003, 0.003]\n",
    "#     result = fsolve(equations, initial_guess, args=(p1_target, p2_target, l, r, p0))\n",
    "#     return result\n"
   ]
  },
  {
   "cell_type": "code",
   "execution_count": 15,
   "metadata": {},
   "outputs": [],
   "source": [
    "# p_0_h = np.array([2e-2, 2e-3, 0, 1])\n",
    "# l = 0.2\n",
    "# r = 0.01\n",
    "# ux = 0.005\n",
    "# uy = 0.003\n",
    "\n",
    "# p1, p2 = tendon_disp_to_bezier_control_points(ux, uy, l, r, p_0_h)\n",
    "# ux_solve, uy_solve = bezier_control_points_to_tendon_disp_2(p_0_h, p1, p2, l, r)\n",
    "\n",
    "# print(ux_solve, uy_solve)"
   ]
  }
 ],
 "metadata": {
  "kernelspec": {
   "display_name": "catheter2",
   "language": "python",
   "name": "python3"
  },
  "language_info": {
   "codemirror_mode": {
    "name": "ipython",
    "version": 3
   },
   "file_extension": ".py",
   "mimetype": "text/x-python",
   "name": "python",
   "nbconvert_exporter": "python",
   "pygments_lexer": "ipython3",
   "version": "3.7.12"
  }
 },
 "nbformat": 4,
 "nbformat_minor": 2
}
