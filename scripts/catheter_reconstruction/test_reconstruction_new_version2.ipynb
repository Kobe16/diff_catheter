{
 "cells": [
  {
   "cell_type": "markdown",
   "metadata": {},
   "source": [
    "New version of reconstruction script.\n",
    "\n",
    "With tip loss of the original frame, without contour loss of the original frame.\n",
    "\n",
    "With motion model loss (tip loss only). "
   ]
  },
  {
   "cell_type": "code",
   "execution_count": 8,
   "metadata": {},
   "outputs": [],
   "source": [
    "\"\"\"\n",
    "File that runs the actual reconstruction optimizer forward pass. \n",
    "It should compute 3 loss functions: contour chamfer loss, tip distance \n",
    "loss, and motion model loss. In its forward pass, it will call upon \n",
    "the construction_bezier and motion_catheter scripts to build its \n",
    "catheters. It will be optimizing the parameter para_init. \n",
    "\"\"\"\n",
    "import sys\n",
    "sys.path.append('..')\n",
    "sys.path.insert(1, 'E:/OneDrive - UC San Diego/UCSD/Lab/Catheter/diff_catheter/scripts')\n",
    "\n",
    "import torch\n",
    "import torch.nn as nn\n",
    "import cv2\n",
    "# from tqdm.notebook import tqdm\n",
    "from tqdm.auto import tqdm\n",
    "import numpy as np\n",
    "import matplotlib.pyplot as plt\n",
    "\n",
    "from construction_bezier import ConstructionBezier\n",
    "from loss_define import (\n",
    "    ContourChamferLoss, \n",
    "    TipDistanceLoss, \n",
    "    ImageContourChamferLoss, \n",
    "    GenerateRefData\n",
    ")\n",
    "\n",
    "from catheter_motion_tensor import CatheterMotion\n",
    "\n",
    "# from mpl_toolkits.mplot3d import Axes3D\n",
    "\n",
    "\n",
    "class ReconstructionOptimizer(nn.Module): \n",
    "\n",
    "    def __init__(self, p_start, para_init, image_ref, gpu_or_cpu, past_frames_list, delta_u_list, img_save_path, image_save_path_list): \n",
    "        '''\n",
    "        This function initializes the catheter optimization model.\n",
    "\n",
    "        Args:\n",
    "            p_start (tensor): starting point of the catheter\n",
    "            image_ref (numpy array): reference image to compare to\n",
    "            gpu_or_cpu (str): either 'cuda' or 'cpu'\n",
    "        '''\n",
    "        super().__init__()\n",
    "\n",
    "        self.build_bezier = ConstructionBezier(radius=0.0015)\n",
    "        self.build_bezier.to(gpu_or_cpu)\n",
    "        self.build_bezier.loadRawImage(img_save_path)\n",
    "\n",
    "        self.contour_chamfer_loss = ContourChamferLoss(device=gpu_or_cpu)\n",
    "        self.contour_chamfer_loss.to(gpu_or_cpu)\n",
    "        self.tip_distance_loss = TipDistanceLoss(device=gpu_or_cpu)\n",
    "        self.tip_distance_loss.to(gpu_or_cpu)\n",
    "        self.image_contour_chamfer_loss = ImageContourChamferLoss(device=gpu_or_cpu)\n",
    "        self.image_contour_chamfer_loss.to(gpu_or_cpu)\n",
    "        \n",
    "        # Declare self.tip_euclidean_distance_loss as a variable that'll hold a single numpy scalar value\n",
    "        self.tip_euclidean_distance_loss = None\n",
    "        self.tip_loss = None\n",
    "\n",
    "        self.p_start = p_start.to(gpu_or_cpu).detach()\n",
    "        self.para_init = nn.Parameter(torch.from_numpy(para_init).to(gpu_or_cpu),\n",
    "                                      requires_grad=True)\n",
    "        \n",
    "        \n",
    "        image_ref = torch.from_numpy(image_ref.astype(np.float32))\n",
    "        self.register_buffer('image_ref', image_ref)\n",
    "        \n",
    "        # Generate reference data, so you don't need to generate it in every forward pass\n",
    "        self.generate_ref_data = GenerateRefData(self.image_ref)\n",
    "        ref_catheter_contour = self.generate_ref_data.get_raw_contour()\n",
    "        # self.register_buffer('ref_catheter_contour', ref_catheter_contour)\n",
    "        self.ref_catheter_contour = ref_catheter_contour\n",
    "        ref_catheter_centerline = self.generate_ref_data.get_raw_centerline()\n",
    "        # self.register_buffer('ref_catheter_centerline', ref_catheter_centerline)\n",
    "        self.ref_catheter_centerline = ref_catheter_centerline\n",
    "        \n",
    "        # self.register_buffer('delta_u_list', delta_u_list)\n",
    "        self.delta_u_list = delta_u_list.to(gpu_or_cpu)\n",
    "        # self.register_buffer('past_frames_list', past_frames_list)\n",
    "        # self.register_buffer('image_save_path_list', image_save_path_list)\n",
    "        self.image_save_path_list = image_save_path_list\n",
    "        \n",
    "        # Generate reference data for past frames\n",
    "        contour_list = []\n",
    "        centerline_list = []\n",
    "        for image in past_frames_list:\n",
    "            image = torch.from_numpy(image.astype(np.float32))\n",
    "            generate_ref_data = GenerateRefData(image)\n",
    "            ref_catheter_contour = generate_ref_data.get_raw_contour()\n",
    "            ref_catheter_centerline = generate_ref_data.get_raw_centerline()\n",
    "            contour_list.append(ref_catheter_contour)\n",
    "            centerline_list.append(ref_catheter_centerline)\n",
    "        # self.register_buffer('contour_list', torch.stack(contour_list))\n",
    "        # self.register_buffer('centerline_list', torch.stack(centerline_list))\n",
    "        self.contour_list = contour_list\n",
    "        self.centerline_list = centerline_list\n",
    "        \n",
    "        self.gpu_or_cpu = gpu_or_cpu\n",
    "\n",
    "    def forward(self, save_img_path): \n",
    "        '''\n",
    "        Function to run forward pass of the catheter optimization model.\n",
    "        Creates catheter model, gets projection onto 2d image, and calculates loss.\n",
    "\n",
    "        Args:\n",
    "            save_img_path (str): path to save the projection image to\n",
    "        '''\n",
    "        \n",
    "        # Generate the Bezier curve cylinder mesh points\n",
    "        self.build_bezier.getBezierCurveCylinder(self.p_start, self.para_init)\n",
    "\n",
    "        # Get 2d projected Bezier Cylinder mesh points\n",
    "        self.build_bezier.getCylinderMeshProjImg()\n",
    "\n",
    "        # Get 2d projected Bezier centerline (position) points\n",
    "        self.build_bezier.getBezierProjImg()\n",
    "\n",
    "        loss_contour = self.contour_chamfer_loss(self.build_bezier.bezier_proj_img.to(self.gpu_or_cpu), self.ref_catheter_contour.to(self.gpu_or_cpu))\n",
    "\n",
    "        loss_tip_distance, self.tip_euclidean_distance_loss = self.tip_distance_loss(self.build_bezier.bezier_proj_centerline_img.to(self.gpu_or_cpu), self.ref_catheter_centerline.to(self.gpu_or_cpu))\n",
    "        \n",
    "        catheterMotion = CatheterMotion(self.p_start, self.gpu_or_cpu, l=0.2, r=0.01)\n",
    "        predicted_paras = catheterMotion.past_frames_prediction(self.delta_u_list, self.para_init)\n",
    "        # print(\"predicted_paras.requires_grad:\", predicted_paras.requires_grad)\n",
    "        motion_model_loss = torch.tensor(0.0).to(self.gpu_or_cpu)\n",
    "        for i in range(len(predicted_paras)):\n",
    "            construction_bezier = ConstructionBezier()\n",
    "            construction_bezier.to(self.gpu_or_cpu)\n",
    "            construction_bezier.loadRawImage(self.image_save_path_list[i])\n",
    "            construction_bezier.getBezierCurveCylinder(self.p_start, predicted_paras[i].to(self.gpu_or_cpu))\n",
    "            construction_bezier.getCylinderMeshProjImg()\n",
    "            construction_bezier.getBezierProjImg()\n",
    "            \n",
    "            # loss_contour_m = self.contour_chamfer_loss(construction_bezier.bezier_proj_img.to(self.gpu_or_cpu), self.contour_list[i].to(self.gpu_or_cpu))\n",
    "             \n",
    "            # motion_model_loss += loss_contour_m.to(self.gpu_or_cpu)\n",
    "            \n",
    "            loss_tip_distance_m, self.tip_loss = self.tip_distance_loss(construction_bezier.bezier_proj_centerline_img.to(self.gpu_or_cpu), self.centerline_list[i].to(self.gpu_or_cpu)) \n",
    "            # weight_m = torch.tensor([1.0, 1.0]).to(self.gpu_or_cpu)\n",
    "            # loss_m = loss_contour_m.to(self.gpu_or_cpu) * weight_m[0] + loss_tip_distance_m.to(self.gpu_or_cpu) * weight_m[1]\n",
    "            # motion_model_loss += loss_m.to(self.gpu_or_cpu)\n",
    "            motion_model_loss += loss_tip_distance_m.to(self.gpu_or_cpu)\n",
    "            \n",
    "        \n",
    "        weight = torch.tensor([1.0, 1.0, 1.0]).to(self.gpu_or_cpu)\n",
    "        # weight = torch.tensor([1.0e-5, 1.0, 1.0e-6]).to(self.gpu_or_cpu)\n",
    "        # loss = loss_contour.to(self.gpu_or_cpu) * weight[0] + loss_tip_distance.to(self.gpu_or_cpu) * weight[1] + motion_model_loss * weight[2]\n",
    "        loss = loss_tip_distance.to(self.gpu_or_cpu) * weight[1] + motion_model_loss * weight[2]\n",
    "        \n",
    "        self.build_bezier.draw2DCylinderImage(self.image_ref, save_img_path)\n",
    "\n",
    "\n",
    "        # print(\"-----------------------------------------------------------------\")\n",
    "        # print(\"loss_contour: \", loss_contour)\n",
    "        # # print(\"loss_tip: \", loss_tip)\n",
    "        # # print(\"loss_boundary: \", loss_boundary)\n",
    "        # print(\"loss_tip_distance: \", loss_tip_distance)\n",
    "        # # print(\"loss_boundary_point_distance_loss: \", loss_boundary_point_distance_loss)\n",
    "        # print(\"motion_model_loss: \", motion_model_loss)\n",
    "        # print(\"loss: \", loss)\n",
    "        # print(\"-----------------------------------------------------------------\")\n",
    "\n",
    "\n",
    "        # TODO: Plot the loss\n",
    "\n",
    "        return loss\n",
    "    \n",
    "\n",
    "\n",
    "\n"
   ]
  },
  {
   "cell_type": "code",
   "execution_count": 9,
   "metadata": {},
   "outputs": [],
   "source": [
    "def process_image(img_save_path):\n",
    "    img_ref_rgb = cv2.imread(img_save_path)\n",
    "    img_ref_gray = cv2.cvtColor(img_ref_rgb, cv2.COLOR_BGR2GRAY)\n",
    "    (thresh, img_ref_thresh) = cv2.threshold(img_ref_gray, 10, 255, cv2.THRESH_BINARY)\n",
    "    img_ref_binary = np.where(img_ref_thresh == 255, 1, img_ref_thresh)\n",
    "    \n",
    "    return img_ref_binary"
   ]
  },
  {
   "cell_type": "code",
   "execution_count": 10,
   "metadata": {},
   "outputs": [],
   "source": [
    "def read_gt_params(cc_specs_path):\n",
    "    \"\"\"\n",
    "    The order of gt: [p_start, p_end, c1, c2]\n",
    "    \"\"\"\n",
    "    \n",
    "    para_gt_np = np.load(cc_specs_path)\n",
    "    matrix = np.squeeze(para_gt_np)\n",
    "    c1 = matrix[2]\n",
    "    c2 = matrix[3]\n",
    "    p_start = matrix[0]\n",
    "    p_end = matrix[1]\n",
    "    p_mid = 3/4 * (c1 + p_end/3)\n",
    "    p1 = 2*p_mid - 0.5*p_start - 0.5*p_end\n",
    "    result_vector = np.concatenate((p1, p_end))\n",
    "    return result_vector "
   ]
  },
  {
   "cell_type": "code",
   "execution_count": 11,
   "metadata": {},
   "outputs": [
    {
     "name": "stdout",
     "output_type": "stream",
     "text": [
      "Model Parameters:\n",
      "para_init: requires_grad=True\n"
     ]
    },
    {
     "name": "stderr",
     "output_type": "stream",
     "text": [
      "  0%|          | 0/500 [00:00<?, ?it/s]"
     ]
    },
    {
     "name": "stdout",
     "output_type": "stream",
     "text": [
      "\n",
      "================================================================================================================\n",
      "loop_id:  0\n"
     ]
    },
    {
     "name": "stderr",
     "output_type": "stream",
     "text": [
      "Optimizing:   0%|          | 1/500 [00:01<12:34,  1.51s/it, loss=3.2e+6]"
     ]
    },
    {
     "name": "stdout",
     "output_type": "stream",
     "text": [
      "\n",
      "================================================================================================================\n",
      "loop_id:  1\n"
     ]
    },
    {
     "name": "stderr",
     "output_type": "stream",
     "text": [
      "Optimizing:   0%|          | 2/500 [00:03<12:46,  1.54s/it, loss=2.02e+6]"
     ]
    },
    {
     "name": "stdout",
     "output_type": "stream",
     "text": [
      "\n",
      "================================================================================================================\n",
      "loop_id:  2\n"
     ]
    },
    {
     "name": "stderr",
     "output_type": "stream",
     "text": [
      "Optimizing:   1%|          | 3/500 [00:04<12:56,  1.56s/it, loss=1.41e+6]"
     ]
    },
    {
     "name": "stdout",
     "output_type": "stream",
     "text": [
      "\n",
      "================================================================================================================\n",
      "loop_id:  3\n"
     ]
    },
    {
     "name": "stderr",
     "output_type": "stream",
     "text": [
      "Optimizing:   1%|          | 4/500 [00:06<12:49,  1.55s/it, loss=1.06e+6]"
     ]
    },
    {
     "name": "stdout",
     "output_type": "stream",
     "text": [
      "\n",
      "================================================================================================================\n",
      "loop_id:  4\n"
     ]
    },
    {
     "name": "stderr",
     "output_type": "stream",
     "text": [
      "Optimizing:   1%|          | 5/500 [00:08<14:14,  1.73s/it, loss=8.36e+5]"
     ]
    },
    {
     "name": "stdout",
     "output_type": "stream",
     "text": [
      "\n",
      "================================================================================================================\n",
      "loop_id:  5\n"
     ]
    },
    {
     "name": "stderr",
     "output_type": "stream",
     "text": [
      "Optimizing:   1%|          | 6/500 [00:09<13:47,  1.68s/it, loss=6.76e+5]"
     ]
    },
    {
     "name": "stdout",
     "output_type": "stream",
     "text": [
      "\n",
      "================================================================================================================\n",
      "loop_id:  6\n"
     ]
    },
    {
     "name": "stderr",
     "output_type": "stream",
     "text": [
      "Optimizing:   1%|▏         | 7/500 [00:11<13:35,  1.66s/it, loss=5.57e+5]"
     ]
    },
    {
     "name": "stdout",
     "output_type": "stream",
     "text": [
      "\n",
      "================================================================================================================\n",
      "loop_id:  7\n"
     ]
    },
    {
     "name": "stderr",
     "output_type": "stream",
     "text": [
      "Optimizing:   2%|▏         | 8/500 [00:12<13:20,  1.63s/it, loss=4.65e+5]"
     ]
    },
    {
     "name": "stdout",
     "output_type": "stream",
     "text": [
      "\n",
      "================================================================================================================\n",
      "loop_id:  8\n"
     ]
    },
    {
     "name": "stderr",
     "output_type": "stream",
     "text": [
      "Optimizing:   2%|▏         | 9/500 [00:14<13:45,  1.68s/it, loss=3.91e+5]"
     ]
    },
    {
     "name": "stdout",
     "output_type": "stream",
     "text": [
      "\n",
      "================================================================================================================\n",
      "loop_id:  9\n"
     ]
    },
    {
     "name": "stderr",
     "output_type": "stream",
     "text": [
      "Optimizing:   2%|▏         | 10/500 [00:16<13:20,  1.63s/it, loss=3.31e+5]"
     ]
    },
    {
     "name": "stdout",
     "output_type": "stream",
     "text": [
      "\n",
      "================================================================================================================\n",
      "loop_id:  10\n"
     ]
    },
    {
     "name": "stderr",
     "output_type": "stream",
     "text": [
      "Optimizing:   2%|▏         | 11/500 [00:17<13:12,  1.62s/it, loss=2.82e+5]"
     ]
    },
    {
     "name": "stdout",
     "output_type": "stream",
     "text": [
      "\n",
      "================================================================================================================\n",
      "loop_id:  11\n"
     ]
    },
    {
     "name": "stderr",
     "output_type": "stream",
     "text": [
      "Optimizing:   2%|▏         | 12/500 [00:19<13:01,  1.60s/it, loss=2.41e+5]"
     ]
    },
    {
     "name": "stdout",
     "output_type": "stream",
     "text": [
      "\n",
      "================================================================================================================\n",
      "loop_id:  12\n"
     ]
    },
    {
     "name": "stderr",
     "output_type": "stream",
     "text": [
      "Optimizing:   3%|▎         | 13/500 [00:21<13:01,  1.60s/it, loss=2.07e+5]"
     ]
    },
    {
     "name": "stdout",
     "output_type": "stream",
     "text": [
      "\n",
      "================================================================================================================\n",
      "loop_id:  13\n"
     ]
    },
    {
     "name": "stderr",
     "output_type": "stream",
     "text": [
      "Optimizing:   3%|▎         | 14/500 [00:22<13:12,  1.63s/it, loss=1.78e+5]"
     ]
    },
    {
     "name": "stdout",
     "output_type": "stream",
     "text": [
      "\n",
      "================================================================================================================\n",
      "loop_id:  14\n"
     ]
    },
    {
     "name": "stderr",
     "output_type": "stream",
     "text": [
      "Optimizing:   3%|▎         | 15/500 [00:24<13:04,  1.62s/it, loss=1.55e+5]"
     ]
    },
    {
     "name": "stdout",
     "output_type": "stream",
     "text": [
      "\n",
      "================================================================================================================\n",
      "loop_id:  15\n"
     ]
    },
    {
     "name": "stderr",
     "output_type": "stream",
     "text": [
      "Optimizing:   3%|▎         | 16/500 [00:25<12:58,  1.61s/it, loss=1.35e+5]"
     ]
    },
    {
     "name": "stdout",
     "output_type": "stream",
     "text": [
      "\n",
      "================================================================================================================\n",
      "loop_id:  16\n"
     ]
    },
    {
     "name": "stderr",
     "output_type": "stream",
     "text": [
      "Optimizing:   3%|▎         | 17/500 [00:27<12:52,  1.60s/it, loss=1.2e+5] "
     ]
    },
    {
     "name": "stdout",
     "output_type": "stream",
     "text": [
      "\n",
      "================================================================================================================\n",
      "loop_id:  17\n"
     ]
    },
    {
     "name": "stderr",
     "output_type": "stream",
     "text": [
      "Optimizing:   4%|▎         | 18/500 [00:29<12:36,  1.57s/it, loss=1.07e+5]"
     ]
    },
    {
     "name": "stdout",
     "output_type": "stream",
     "text": [
      "\n",
      "================================================================================================================\n",
      "loop_id:  18\n"
     ]
    },
    {
     "name": "stderr",
     "output_type": "stream",
     "text": [
      "Optimizing:   4%|▍         | 19/500 [00:30<13:02,  1.63s/it, loss=9.78e+4]"
     ]
    },
    {
     "name": "stdout",
     "output_type": "stream",
     "text": [
      "\n",
      "================================================================================================================\n",
      "loop_id:  19\n"
     ]
    },
    {
     "name": "stderr",
     "output_type": "stream",
     "text": [
      "Optimizing:   4%|▍         | 20/500 [00:32<12:51,  1.61s/it, loss=9.1e+4] "
     ]
    },
    {
     "name": "stdout",
     "output_type": "stream",
     "text": [
      "\n",
      "================================================================================================================\n",
      "loop_id:  20\n"
     ]
    },
    {
     "name": "stderr",
     "output_type": "stream",
     "text": [
      "Optimizing:   4%|▍         | 21/500 [00:33<12:43,  1.59s/it, loss=8.65e+4]"
     ]
    },
    {
     "name": "stdout",
     "output_type": "stream",
     "text": [
      "\n",
      "================================================================================================================\n",
      "loop_id:  21\n"
     ]
    },
    {
     "name": "stderr",
     "output_type": "stream",
     "text": [
      "Optimizing:   4%|▍         | 22/500 [00:35<12:29,  1.57s/it, loss=8.39e+4]"
     ]
    },
    {
     "name": "stdout",
     "output_type": "stream",
     "text": [
      "\n",
      "================================================================================================================\n",
      "loop_id:  22\n"
     ]
    },
    {
     "name": "stderr",
     "output_type": "stream",
     "text": [
      "Optimizing:   5%|▍         | 23/500 [00:36<12:29,  1.57s/it, loss=8.29e+4]"
     ]
    },
    {
     "name": "stdout",
     "output_type": "stream",
     "text": [
      "\n",
      "================================================================================================================\n",
      "loop_id:  23\n"
     ]
    },
    {
     "name": "stderr",
     "output_type": "stream",
     "text": [
      "Optimizing:   5%|▍         | 24/500 [00:38<12:18,  1.55s/it, loss=8.32e+4]"
     ]
    },
    {
     "name": "stdout",
     "output_type": "stream",
     "text": [
      "\n",
      "================================================================================================================\n",
      "loop_id:  24\n"
     ]
    },
    {
     "name": "stderr",
     "output_type": "stream",
     "text": [
      "Optimizing:   5%|▌         | 25/500 [00:40<12:38,  1.60s/it, loss=8.45e+4]"
     ]
    },
    {
     "name": "stdout",
     "output_type": "stream",
     "text": [
      "\n",
      "================================================================================================================\n",
      "loop_id:  25\n"
     ]
    },
    {
     "name": "stderr",
     "output_type": "stream",
     "text": [
      "Optimizing:   5%|▌         | 26/500 [00:41<12:31,  1.59s/it, loss=8.65e+4]"
     ]
    },
    {
     "name": "stdout",
     "output_type": "stream",
     "text": [
      "\n",
      "================================================================================================================\n",
      "loop_id:  26\n"
     ]
    },
    {
     "name": "stderr",
     "output_type": "stream",
     "text": [
      "Optimizing:   5%|▌         | 27/500 [00:43<12:20,  1.57s/it, loss=8.88e+4]"
     ]
    },
    {
     "name": "stdout",
     "output_type": "stream",
     "text": [
      "\n",
      "================================================================================================================\n",
      "loop_id:  27\n"
     ]
    },
    {
     "name": "stderr",
     "output_type": "stream",
     "text": [
      "Optimizing:   6%|▌         | 28/500 [00:44<12:07,  1.54s/it, loss=9.12e+4]"
     ]
    },
    {
     "name": "stdout",
     "output_type": "stream",
     "text": [
      "\n",
      "================================================================================================================\n",
      "loop_id:  28\n"
     ]
    },
    {
     "name": "stderr",
     "output_type": "stream",
     "text": [
      "Optimizing:   6%|▌         | 29/500 [00:46<12:03,  1.54s/it, loss=9.35e+4]"
     ]
    },
    {
     "name": "stdout",
     "output_type": "stream",
     "text": [
      "\n",
      "================================================================================================================\n",
      "loop_id:  29\n"
     ]
    },
    {
     "name": "stderr",
     "output_type": "stream",
     "text": [
      "Optimizing:   6%|▌         | 30/500 [00:47<11:58,  1.53s/it, loss=9.54e+4]"
     ]
    },
    {
     "name": "stdout",
     "output_type": "stream",
     "text": [
      "\n",
      "================================================================================================================\n",
      "loop_id:  30\n"
     ]
    },
    {
     "name": "stderr",
     "output_type": "stream",
     "text": [
      "Optimizing:   6%|▌         | 31/500 [00:49<12:28,  1.59s/it, loss=9.68e+4]"
     ]
    },
    {
     "name": "stdout",
     "output_type": "stream",
     "text": [
      "\n",
      "================================================================================================================\n",
      "loop_id:  31\n"
     ]
    },
    {
     "name": "stderr",
     "output_type": "stream",
     "text": [
      "Optimizing:   6%|▋         | 32/500 [00:51<12:18,  1.58s/it, loss=9.76e+4]"
     ]
    },
    {
     "name": "stdout",
     "output_type": "stream",
     "text": [
      "\n",
      "================================================================================================================\n",
      "loop_id:  32\n"
     ]
    },
    {
     "name": "stderr",
     "output_type": "stream",
     "text": [
      "Optimizing:   7%|▋         | 33/500 [00:52<12:13,  1.57s/it, loss=9.77e+4]"
     ]
    },
    {
     "name": "stdout",
     "output_type": "stream",
     "text": [
      "\n",
      "================================================================================================================\n",
      "loop_id:  33\n"
     ]
    },
    {
     "name": "stderr",
     "output_type": "stream",
     "text": [
      "Optimizing:   7%|▋         | 34/500 [00:54<12:04,  1.56s/it, loss=9.72e+4]"
     ]
    },
    {
     "name": "stdout",
     "output_type": "stream",
     "text": [
      "\n",
      "================================================================================================================\n",
      "loop_id:  34\n"
     ]
    },
    {
     "name": "stderr",
     "output_type": "stream",
     "text": [
      "Optimizing:   7%|▋         | 35/500 [00:55<11:58,  1.55s/it, loss=9.61e+4]"
     ]
    },
    {
     "name": "stdout",
     "output_type": "stream",
     "text": [
      "\n",
      "================================================================================================================\n",
      "loop_id:  35\n"
     ]
    },
    {
     "name": "stderr",
     "output_type": "stream",
     "text": [
      "Optimizing:   7%|▋         | 36/500 [00:57<11:56,  1.54s/it, loss=9.45e+4]"
     ]
    },
    {
     "name": "stdout",
     "output_type": "stream",
     "text": [
      "\n",
      "================================================================================================================\n",
      "loop_id:  36\n"
     ]
    },
    {
     "name": "stderr",
     "output_type": "stream",
     "text": [
      "Optimizing:   7%|▋         | 37/500 [00:58<12:17,  1.59s/it, loss=9.26e+4]"
     ]
    },
    {
     "name": "stdout",
     "output_type": "stream",
     "text": [
      "\n",
      "================================================================================================================\n",
      "loop_id:  37\n"
     ]
    },
    {
     "name": "stderr",
     "output_type": "stream",
     "text": [
      "Optimizing:   8%|▊         | 38/500 [01:00<12:05,  1.57s/it, loss=9.04e+4]"
     ]
    },
    {
     "name": "stdout",
     "output_type": "stream",
     "text": [
      "\n",
      "================================================================================================================\n",
      "loop_id:  38\n"
     ]
    },
    {
     "name": "stderr",
     "output_type": "stream",
     "text": [
      "Optimizing:   8%|▊         | 39/500 [01:01<11:57,  1.56s/it, loss=8.81e+4]"
     ]
    },
    {
     "name": "stdout",
     "output_type": "stream",
     "text": [
      "\n",
      "================================================================================================================\n",
      "loop_id:  39\n"
     ]
    },
    {
     "name": "stderr",
     "output_type": "stream",
     "text": [
      "Optimizing:   8%|▊         | 40/500 [01:03<11:56,  1.56s/it, loss=8.59e+4]"
     ]
    },
    {
     "name": "stdout",
     "output_type": "stream",
     "text": [
      "\n",
      "================================================================================================================\n",
      "loop_id:  40\n"
     ]
    },
    {
     "name": "stderr",
     "output_type": "stream",
     "text": [
      "Optimizing:   8%|▊         | 41/500 [01:05<11:49,  1.55s/it, loss=8.38e+4]"
     ]
    },
    {
     "name": "stdout",
     "output_type": "stream",
     "text": [
      "\n",
      "================================================================================================================\n",
      "loop_id:  41\n"
     ]
    },
    {
     "name": "stderr",
     "output_type": "stream",
     "text": [
      "Optimizing:   8%|▊         | 42/500 [01:06<11:47,  1.54s/it, loss=8.19e+4]"
     ]
    },
    {
     "name": "stdout",
     "output_type": "stream",
     "text": [
      "\n",
      "================================================================================================================\n",
      "loop_id:  42\n"
     ]
    },
    {
     "name": "stderr",
     "output_type": "stream",
     "text": [
      "Optimizing:   9%|▊         | 43/500 [01:08<11:56,  1.57s/it, loss=8.03e+4]"
     ]
    },
    {
     "name": "stdout",
     "output_type": "stream",
     "text": [
      "\n",
      "================================================================================================================\n",
      "loop_id:  43\n"
     ]
    },
    {
     "name": "stderr",
     "output_type": "stream",
     "text": [
      "Optimizing:   9%|▉         | 44/500 [01:09<11:52,  1.56s/it, loss=7.9e+4] "
     ]
    },
    {
     "name": "stdout",
     "output_type": "stream",
     "text": [
      "\n",
      "================================================================================================================\n",
      "loop_id:  44\n"
     ]
    },
    {
     "name": "stderr",
     "output_type": "stream",
     "text": [
      "Optimizing:   9%|▉         | 45/500 [01:11<12:12,  1.61s/it, loss=7.8e+4]"
     ]
    },
    {
     "name": "stdout",
     "output_type": "stream",
     "text": [
      "\n",
      "================================================================================================================\n",
      "loop_id:  45\n"
     ]
    },
    {
     "name": "stderr",
     "output_type": "stream",
     "text": [
      "Optimizing:   9%|▉         | 46/500 [01:13<12:01,  1.59s/it, loss=7.73e+4]"
     ]
    },
    {
     "name": "stdout",
     "output_type": "stream",
     "text": [
      "\n",
      "================================================================================================================\n",
      "loop_id:  46\n"
     ]
    },
    {
     "name": "stderr",
     "output_type": "stream",
     "text": [
      "Optimizing:   9%|▉         | 47/500 [01:14<12:01,  1.59s/it, loss=7.68e+4]"
     ]
    },
    {
     "name": "stdout",
     "output_type": "stream",
     "text": [
      "\n",
      "================================================================================================================\n",
      "loop_id:  47\n"
     ]
    },
    {
     "name": "stderr",
     "output_type": "stream",
     "text": [
      "Optimizing:  10%|▉         | 48/500 [01:16<11:58,  1.59s/it, loss=7.66e+4]"
     ]
    },
    {
     "name": "stdout",
     "output_type": "stream",
     "text": [
      "\n",
      "================================================================================================================\n",
      "loop_id:  48\n"
     ]
    },
    {
     "name": "stderr",
     "output_type": "stream",
     "text": [
      "Optimizing:  10%|▉         | 49/500 [01:17<12:00,  1.60s/it, loss=7.64e+4]"
     ]
    },
    {
     "name": "stdout",
     "output_type": "stream",
     "text": [
      "\n",
      "================================================================================================================\n",
      "loop_id:  49\n"
     ]
    },
    {
     "name": "stderr",
     "output_type": "stream",
     "text": [
      "Optimizing:  10%|█         | 50/500 [01:19<11:53,  1.58s/it, loss=7.63e+4]"
     ]
    },
    {
     "name": "stdout",
     "output_type": "stream",
     "text": [
      "\n",
      "================================================================================================================\n",
      "loop_id:  50\n"
     ]
    },
    {
     "name": "stderr",
     "output_type": "stream",
     "text": [
      "Optimizing:  10%|█         | 51/500 [01:20<11:42,  1.56s/it, loss=7.62e+4]"
     ]
    },
    {
     "name": "stdout",
     "output_type": "stream",
     "text": [
      "\n",
      "================================================================================================================\n",
      "loop_id:  51\n"
     ]
    },
    {
     "name": "stderr",
     "output_type": "stream",
     "text": [
      "Optimizing:  10%|█         | 52/500 [01:22<11:30,  1.54s/it, loss=7.6e+4] "
     ]
    },
    {
     "name": "stdout",
     "output_type": "stream",
     "text": [
      "\n",
      "================================================================================================================\n",
      "loop_id:  52\n"
     ]
    },
    {
     "name": "stderr",
     "output_type": "stream",
     "text": [
      "Optimizing:  11%|█         | 53/500 [01:24<12:01,  1.62s/it, loss=7.57e+4]"
     ]
    },
    {
     "name": "stdout",
     "output_type": "stream",
     "text": [
      "\n",
      "================================================================================================================\n",
      "loop_id:  53\n"
     ]
    },
    {
     "name": "stderr",
     "output_type": "stream",
     "text": [
      "Optimizing:  11%|█         | 54/500 [01:25<11:49,  1.59s/it, loss=7.54e+4]"
     ]
    },
    {
     "name": "stdout",
     "output_type": "stream",
     "text": [
      "\n",
      "================================================================================================================\n",
      "loop_id:  54\n"
     ]
    },
    {
     "name": "stderr",
     "output_type": "stream",
     "text": [
      "Optimizing:  11%|█         | 55/500 [01:27<11:47,  1.59s/it, loss=7.49e+4]"
     ]
    },
    {
     "name": "stdout",
     "output_type": "stream",
     "text": [
      "\n",
      "================================================================================================================\n",
      "loop_id:  55\n"
     ]
    },
    {
     "name": "stderr",
     "output_type": "stream",
     "text": [
      "Optimizing:  11%|█         | 56/500 [01:28<11:35,  1.57s/it, loss=7.43e+4]"
     ]
    },
    {
     "name": "stdout",
     "output_type": "stream",
     "text": [
      "\n",
      "================================================================================================================\n",
      "loop_id:  56\n"
     ]
    },
    {
     "name": "stderr",
     "output_type": "stream",
     "text": [
      "Optimizing:  11%|█▏        | 57/500 [01:30<11:34,  1.57s/it, loss=7.37e+4]"
     ]
    },
    {
     "name": "stdout",
     "output_type": "stream",
     "text": [
      "\n",
      "================================================================================================================\n",
      "loop_id:  57\n"
     ]
    },
    {
     "name": "stderr",
     "output_type": "stream",
     "text": [
      "Optimizing:  12%|█▏        | 58/500 [01:31<11:29,  1.56s/it, loss=7.3e+4] "
     ]
    },
    {
     "name": "stdout",
     "output_type": "stream",
     "text": [
      "\n",
      "================================================================================================================\n",
      "loop_id:  58\n"
     ]
    },
    {
     "name": "stderr",
     "output_type": "stream",
     "text": [
      "Optimizing:  12%|█▏        | 59/500 [01:33<11:18,  1.54s/it, loss=7.22e+4]"
     ]
    },
    {
     "name": "stdout",
     "output_type": "stream",
     "text": [
      "\n",
      "================================================================================================================\n",
      "loop_id:  59\n"
     ]
    },
    {
     "name": "stderr",
     "output_type": "stream",
     "text": [
      "Optimizing:  12%|█▏        | 60/500 [01:34<11:19,  1.55s/it, loss=7.14e+4]"
     ]
    },
    {
     "name": "stdout",
     "output_type": "stream",
     "text": [
      "\n",
      "================================================================================================================\n",
      "loop_id:  60\n"
     ]
    },
    {
     "name": "stderr",
     "output_type": "stream",
     "text": [
      "Optimizing:  12%|█▏        | 61/500 [01:36<11:22,  1.56s/it, loss=7.07e+4]"
     ]
    },
    {
     "name": "stdout",
     "output_type": "stream",
     "text": [
      "\n",
      "================================================================================================================\n",
      "loop_id:  61\n"
     ]
    },
    {
     "name": "stderr",
     "output_type": "stream",
     "text": [
      "Optimizing:  12%|█▏        | 62/500 [01:38<11:49,  1.62s/it, loss=6.99e+4]"
     ]
    },
    {
     "name": "stdout",
     "output_type": "stream",
     "text": [
      "\n",
      "================================================================================================================\n",
      "loop_id:  62\n"
     ]
    },
    {
     "name": "stderr",
     "output_type": "stream",
     "text": [
      "Optimizing:  13%|█▎        | 63/500 [01:39<11:33,  1.59s/it, loss=6.92e+4]"
     ]
    },
    {
     "name": "stdout",
     "output_type": "stream",
     "text": [
      "\n",
      "================================================================================================================\n",
      "loop_id:  63\n"
     ]
    },
    {
     "name": "stderr",
     "output_type": "stream",
     "text": [
      "Optimizing:  13%|█▎        | 64/500 [01:41<11:20,  1.56s/it, loss=6.86e+4]"
     ]
    },
    {
     "name": "stdout",
     "output_type": "stream",
     "text": [
      "\n",
      "================================================================================================================\n",
      "loop_id:  64\n"
     ]
    },
    {
     "name": "stderr",
     "output_type": "stream",
     "text": [
      "Optimizing:  13%|█▎        | 65/500 [01:42<11:19,  1.56s/it, loss=6.8e+4] "
     ]
    },
    {
     "name": "stdout",
     "output_type": "stream",
     "text": [
      "\n",
      "================================================================================================================\n",
      "loop_id:  65\n"
     ]
    },
    {
     "name": "stderr",
     "output_type": "stream",
     "text": [
      "Optimizing:  13%|█▎        | 66/500 [01:44<11:20,  1.57s/it, loss=6.74e+4]"
     ]
    },
    {
     "name": "stdout",
     "output_type": "stream",
     "text": [
      "\n",
      "================================================================================================================\n",
      "loop_id:  66\n"
     ]
    },
    {
     "name": "stderr",
     "output_type": "stream",
     "text": [
      "Optimizing:  13%|█▎        | 67/500 [01:46<11:17,  1.57s/it, loss=6.69e+4]"
     ]
    },
    {
     "name": "stdout",
     "output_type": "stream",
     "text": [
      "\n",
      "================================================================================================================\n",
      "loop_id:  67\n"
     ]
    },
    {
     "name": "stderr",
     "output_type": "stream",
     "text": [
      "Optimizing:  14%|█▎        | 68/500 [01:47<11:55,  1.66s/it, loss=6.64e+4]"
     ]
    },
    {
     "name": "stdout",
     "output_type": "stream",
     "text": [
      "\n",
      "================================================================================================================\n",
      "loop_id:  68\n"
     ]
    },
    {
     "name": "stderr",
     "output_type": "stream",
     "text": [
      "Optimizing:  14%|█▍        | 69/500 [01:49<11:38,  1.62s/it, loss=6.6e+4] "
     ]
    },
    {
     "name": "stdout",
     "output_type": "stream",
     "text": [
      "\n",
      "================================================================================================================\n",
      "loop_id:  69\n"
     ]
    },
    {
     "name": "stderr",
     "output_type": "stream",
     "text": [
      "Optimizing:  14%|█▍        | 70/500 [01:50<11:22,  1.59s/it, loss=6.55e+4]"
     ]
    },
    {
     "name": "stdout",
     "output_type": "stream",
     "text": [
      "\n",
      "================================================================================================================\n",
      "loop_id:  70\n"
     ]
    },
    {
     "name": "stderr",
     "output_type": "stream",
     "text": [
      "Optimizing:  14%|█▍        | 71/500 [01:52<11:14,  1.57s/it, loss=6.5e+4] "
     ]
    },
    {
     "name": "stdout",
     "output_type": "stream",
     "text": [
      "\n",
      "================================================================================================================\n",
      "loop_id:  71\n"
     ]
    },
    {
     "name": "stderr",
     "output_type": "stream",
     "text": [
      "Optimizing:  14%|█▍        | 72/500 [01:54<11:37,  1.63s/it, loss=6.45e+4]"
     ]
    },
    {
     "name": "stdout",
     "output_type": "stream",
     "text": [
      "\n",
      "================================================================================================================\n",
      "loop_id:  72\n"
     ]
    },
    {
     "name": "stderr",
     "output_type": "stream",
     "text": [
      "Optimizing:  15%|█▍        | 73/500 [01:55<11:21,  1.60s/it, loss=6.41e+4]"
     ]
    },
    {
     "name": "stdout",
     "output_type": "stream",
     "text": [
      "\n",
      "================================================================================================================\n",
      "loop_id:  73\n"
     ]
    },
    {
     "name": "stderr",
     "output_type": "stream",
     "text": [
      "Optimizing:  15%|█▍        | 74/500 [01:57<11:18,  1.59s/it, loss=6.36e+4]"
     ]
    },
    {
     "name": "stdout",
     "output_type": "stream",
     "text": [
      "\n",
      "================================================================================================================\n",
      "loop_id:  74\n"
     ]
    },
    {
     "name": "stderr",
     "output_type": "stream",
     "text": [
      "Optimizing:  15%|█▌        | 75/500 [01:58<11:16,  1.59s/it, loss=6.3e+4] "
     ]
    },
    {
     "name": "stdout",
     "output_type": "stream",
     "text": [
      "\n",
      "================================================================================================================\n",
      "loop_id:  75\n"
     ]
    },
    {
     "name": "stderr",
     "output_type": "stream",
     "text": [
      "Optimizing:  15%|█▌        | 76/500 [02:00<11:06,  1.57s/it, loss=6.25e+4]"
     ]
    },
    {
     "name": "stdout",
     "output_type": "stream",
     "text": [
      "\n",
      "================================================================================================================\n",
      "loop_id:  76\n"
     ]
    },
    {
     "name": "stderr",
     "output_type": "stream",
     "text": [
      "Optimizing:  15%|█▌        | 77/500 [02:02<11:14,  1.59s/it, loss=6.2e+4] "
     ]
    },
    {
     "name": "stdout",
     "output_type": "stream",
     "text": [
      "\n",
      "================================================================================================================\n",
      "loop_id:  77\n"
     ]
    },
    {
     "name": "stderr",
     "output_type": "stream",
     "text": [
      "Optimizing:  16%|█▌        | 78/500 [02:03<11:07,  1.58s/it, loss=6.14e+4]"
     ]
    },
    {
     "name": "stdout",
     "output_type": "stream",
     "text": [
      "\n",
      "================================================================================================================\n",
      "loop_id:  78\n"
     ]
    },
    {
     "name": "stderr",
     "output_type": "stream",
     "text": [
      "Optimizing:  16%|█▌        | 79/500 [02:05<11:07,  1.59s/it, loss=6.09e+4]"
     ]
    },
    {
     "name": "stdout",
     "output_type": "stream",
     "text": [
      "\n",
      "================================================================================================================\n",
      "loop_id:  79\n"
     ]
    },
    {
     "name": "stderr",
     "output_type": "stream",
     "text": [
      "Optimizing:  16%|█▌        | 80/500 [02:06<11:10,  1.60s/it, loss=6.03e+4]"
     ]
    },
    {
     "name": "stdout",
     "output_type": "stream",
     "text": [
      "\n",
      "================================================================================================================\n",
      "loop_id:  80\n"
     ]
    },
    {
     "name": "stderr",
     "output_type": "stream",
     "text": [
      "Optimizing:  16%|█▌        | 81/500 [02:08<11:17,  1.62s/it, loss=5.98e+4]"
     ]
    },
    {
     "name": "stdout",
     "output_type": "stream",
     "text": [
      "\n",
      "================================================================================================================\n",
      "loop_id:  81\n"
     ]
    },
    {
     "name": "stderr",
     "output_type": "stream",
     "text": [
      "Optimizing:  16%|█▋        | 82/500 [02:10<11:01,  1.58s/it, loss=5.92e+4]"
     ]
    },
    {
     "name": "stdout",
     "output_type": "stream",
     "text": [
      "\n",
      "================================================================================================================\n",
      "loop_id:  82\n"
     ]
    },
    {
     "name": "stderr",
     "output_type": "stream",
     "text": [
      "Optimizing:  17%|█▋        | 83/500 [02:11<11:38,  1.67s/it, loss=5.87e+4]"
     ]
    },
    {
     "name": "stdout",
     "output_type": "stream",
     "text": [
      "\n",
      "================================================================================================================\n",
      "loop_id:  83\n"
     ]
    },
    {
     "name": "stderr",
     "output_type": "stream",
     "text": [
      "Optimizing:  17%|█▋        | 84/500 [02:13<11:22,  1.64s/it, loss=5.82e+4]"
     ]
    },
    {
     "name": "stdout",
     "output_type": "stream",
     "text": [
      "\n",
      "================================================================================================================\n",
      "loop_id:  84\n"
     ]
    },
    {
     "name": "stderr",
     "output_type": "stream",
     "text": [
      "Optimizing:  17%|█▋        | 85/500 [02:15<11:14,  1.63s/it, loss=5.77e+4]"
     ]
    },
    {
     "name": "stdout",
     "output_type": "stream",
     "text": [
      "\n",
      "================================================================================================================\n",
      "loop_id:  85\n"
     ]
    },
    {
     "name": "stderr",
     "output_type": "stream",
     "text": [
      "Optimizing:  17%|█▋        | 86/500 [02:16<10:59,  1.59s/it, loss=5.72e+4]"
     ]
    },
    {
     "name": "stdout",
     "output_type": "stream",
     "text": [
      "\n",
      "================================================================================================================\n",
      "loop_id:  86\n"
     ]
    },
    {
     "name": "stderr",
     "output_type": "stream",
     "text": [
      "Optimizing:  17%|█▋        | 87/500 [02:18<11:01,  1.60s/it, loss=5.66e+4]"
     ]
    },
    {
     "name": "stdout",
     "output_type": "stream",
     "text": [
      "\n",
      "================================================================================================================\n",
      "loop_id:  87\n"
     ]
    },
    {
     "name": "stderr",
     "output_type": "stream",
     "text": [
      "Optimizing:  18%|█▊        | 88/500 [02:19<10:54,  1.59s/it, loss=5.61e+4]"
     ]
    },
    {
     "name": "stdout",
     "output_type": "stream",
     "text": [
      "\n",
      "================================================================================================================\n",
      "loop_id:  88\n"
     ]
    },
    {
     "name": "stderr",
     "output_type": "stream",
     "text": [
      "Optimizing:  18%|█▊        | 89/500 [02:21<11:03,  1.62s/it, loss=5.57e+4]"
     ]
    },
    {
     "name": "stdout",
     "output_type": "stream",
     "text": [
      "\n",
      "================================================================================================================\n",
      "loop_id:  89\n"
     ]
    },
    {
     "name": "stderr",
     "output_type": "stream",
     "text": [
      "Optimizing:  18%|█▊        | 90/500 [02:23<10:56,  1.60s/it, loss=5.52e+4]"
     ]
    },
    {
     "name": "stdout",
     "output_type": "stream",
     "text": [
      "\n",
      "================================================================================================================\n",
      "loop_id:  90\n"
     ]
    },
    {
     "name": "stderr",
     "output_type": "stream",
     "text": [
      "Optimizing:  18%|█▊        | 91/500 [02:24<11:01,  1.62s/it, loss=5.47e+4]"
     ]
    },
    {
     "name": "stdout",
     "output_type": "stream",
     "text": [
      "\n",
      "================================================================================================================\n",
      "loop_id:  91\n"
     ]
    },
    {
     "name": "stderr",
     "output_type": "stream",
     "text": [
      "Optimizing:  18%|█▊        | 92/500 [02:26<10:49,  1.59s/it, loss=5.42e+4]"
     ]
    },
    {
     "name": "stdout",
     "output_type": "stream",
     "text": [
      "\n",
      "================================================================================================================\n",
      "loop_id:  92\n"
     ]
    },
    {
     "name": "stderr",
     "output_type": "stream",
     "text": [
      "Optimizing:  19%|█▊        | 93/500 [02:27<10:49,  1.59s/it, loss=5.37e+4]"
     ]
    },
    {
     "name": "stdout",
     "output_type": "stream",
     "text": [
      "\n",
      "================================================================================================================\n",
      "loop_id:  93\n"
     ]
    },
    {
     "name": "stderr",
     "output_type": "stream",
     "text": [
      "Optimizing:  19%|█▉        | 94/500 [02:29<11:19,  1.67s/it, loss=5.32e+4]"
     ]
    },
    {
     "name": "stdout",
     "output_type": "stream",
     "text": [
      "\n",
      "================================================================================================================\n",
      "loop_id:  94\n"
     ]
    },
    {
     "name": "stderr",
     "output_type": "stream",
     "text": [
      "Optimizing:  19%|█▉        | 95/500 [02:31<11:18,  1.68s/it, loss=5.27e+4]"
     ]
    },
    {
     "name": "stdout",
     "output_type": "stream",
     "text": [
      "\n",
      "================================================================================================================\n",
      "loop_id:  95\n"
     ]
    },
    {
     "name": "stderr",
     "output_type": "stream",
     "text": [
      "Optimizing:  19%|█▉        | 96/500 [02:32<10:58,  1.63s/it, loss=5.22e+4]"
     ]
    },
    {
     "name": "stdout",
     "output_type": "stream",
     "text": [
      "\n",
      "================================================================================================================\n",
      "loop_id:  96\n"
     ]
    },
    {
     "name": "stderr",
     "output_type": "stream",
     "text": [
      "Optimizing:  19%|█▉        | 97/500 [02:34<10:49,  1.61s/it, loss=5.17e+4]"
     ]
    },
    {
     "name": "stdout",
     "output_type": "stream",
     "text": [
      "\n",
      "================================================================================================================\n",
      "loop_id:  97\n"
     ]
    },
    {
     "name": "stderr",
     "output_type": "stream",
     "text": [
      "Optimizing:  20%|█▉        | 98/500 [02:36<10:52,  1.62s/it, loss=5.12e+4]"
     ]
    },
    {
     "name": "stdout",
     "output_type": "stream",
     "text": [
      "\n",
      "================================================================================================================\n",
      "loop_id:  98\n"
     ]
    },
    {
     "name": "stderr",
     "output_type": "stream",
     "text": [
      "Optimizing:  20%|█▉        | 99/500 [02:37<10:48,  1.62s/it, loss=5.07e+4]"
     ]
    },
    {
     "name": "stdout",
     "output_type": "stream",
     "text": [
      "\n",
      "================================================================================================================\n",
      "loop_id:  99\n"
     ]
    },
    {
     "name": "stderr",
     "output_type": "stream",
     "text": [
      "Optimizing:  20%|██        | 100/500 [02:39<10:33,  1.58s/it, loss=5.02e+4]"
     ]
    },
    {
     "name": "stdout",
     "output_type": "stream",
     "text": [
      "\n",
      "================================================================================================================\n",
      "loop_id:  100\n"
     ]
    },
    {
     "name": "stderr",
     "output_type": "stream",
     "text": [
      "Optimizing:  20%|██        | 101/500 [02:40<10:51,  1.63s/it, loss=4.97e+4]"
     ]
    },
    {
     "name": "stdout",
     "output_type": "stream",
     "text": [
      "\n",
      "================================================================================================================\n",
      "loop_id:  101\n"
     ]
    },
    {
     "name": "stderr",
     "output_type": "stream",
     "text": [
      "Optimizing:  20%|██        | 102/500 [02:42<10:40,  1.61s/it, loss=4.92e+4]"
     ]
    },
    {
     "name": "stdout",
     "output_type": "stream",
     "text": [
      "\n",
      "================================================================================================================\n",
      "loop_id:  102\n"
     ]
    },
    {
     "name": "stderr",
     "output_type": "stream",
     "text": [
      "Optimizing:  21%|██        | 103/500 [02:44<10:34,  1.60s/it, loss=4.87e+4]"
     ]
    },
    {
     "name": "stdout",
     "output_type": "stream",
     "text": [
      "\n",
      "================================================================================================================\n",
      "loop_id:  103\n"
     ]
    },
    {
     "name": "stderr",
     "output_type": "stream",
     "text": [
      "Optimizing:  21%|██        | 104/500 [02:45<10:32,  1.60s/it, loss=4.82e+4]"
     ]
    },
    {
     "name": "stdout",
     "output_type": "stream",
     "text": [
      "\n",
      "================================================================================================================\n",
      "loop_id:  104\n"
     ]
    },
    {
     "name": "stderr",
     "output_type": "stream",
     "text": [
      "Optimizing:  21%|██        | 105/500 [02:47<10:33,  1.60s/it, loss=4.77e+4]"
     ]
    },
    {
     "name": "stdout",
     "output_type": "stream",
     "text": [
      "\n",
      "================================================================================================================\n",
      "loop_id:  105\n"
     ]
    },
    {
     "name": "stderr",
     "output_type": "stream",
     "text": [
      "Optimizing:  21%|██        | 106/500 [02:48<10:23,  1.58s/it, loss=4.72e+4]"
     ]
    },
    {
     "name": "stdout",
     "output_type": "stream",
     "text": [
      "\n",
      "================================================================================================================\n",
      "loop_id:  106\n"
     ]
    },
    {
     "name": "stderr",
     "output_type": "stream",
     "text": [
      "Optimizing:  21%|██▏       | 107/500 [02:50<10:24,  1.59s/it, loss=4.67e+4]"
     ]
    },
    {
     "name": "stdout",
     "output_type": "stream",
     "text": [
      "\n",
      "================================================================================================================\n",
      "loop_id:  107\n"
     ]
    },
    {
     "name": "stderr",
     "output_type": "stream",
     "text": [
      "Optimizing:  22%|██▏       | 108/500 [02:52<11:04,  1.69s/it, loss=4.62e+4]"
     ]
    },
    {
     "name": "stdout",
     "output_type": "stream",
     "text": [
      "\n",
      "================================================================================================================\n",
      "loop_id:  108\n"
     ]
    },
    {
     "name": "stderr",
     "output_type": "stream",
     "text": [
      "Optimizing:  22%|██▏       | 109/500 [02:54<10:58,  1.68s/it, loss=4.57e+4]"
     ]
    },
    {
     "name": "stdout",
     "output_type": "stream",
     "text": [
      "\n",
      "================================================================================================================\n",
      "loop_id:  109\n"
     ]
    },
    {
     "name": "stderr",
     "output_type": "stream",
     "text": [
      "Optimizing:  22%|██▏       | 110/500 [02:55<10:38,  1.64s/it, loss=4.52e+4]"
     ]
    },
    {
     "name": "stdout",
     "output_type": "stream",
     "text": [
      "\n",
      "================================================================================================================\n",
      "loop_id:  110\n"
     ]
    },
    {
     "name": "stderr",
     "output_type": "stream",
     "text": [
      "Optimizing:  22%|██▏       | 111/500 [02:57<10:46,  1.66s/it, loss=4.47e+4]"
     ]
    },
    {
     "name": "stdout",
     "output_type": "stream",
     "text": [
      "\n",
      "================================================================================================================\n",
      "loop_id:  111\n"
     ]
    },
    {
     "name": "stderr",
     "output_type": "stream",
     "text": [
      "Optimizing:  22%|██▏       | 112/500 [02:58<10:37,  1.64s/it, loss=4.43e+4]"
     ]
    },
    {
     "name": "stdout",
     "output_type": "stream",
     "text": [
      "\n",
      "================================================================================================================\n",
      "loop_id:  112\n"
     ]
    },
    {
     "name": "stderr",
     "output_type": "stream",
     "text": [
      "Optimizing:  23%|██▎       | 113/500 [03:00<10:37,  1.65s/it, loss=4.38e+4]"
     ]
    },
    {
     "name": "stdout",
     "output_type": "stream",
     "text": [
      "\n",
      "================================================================================================================\n",
      "loop_id:  113\n"
     ]
    },
    {
     "name": "stderr",
     "output_type": "stream",
     "text": [
      "Optimizing:  23%|██▎       | 114/500 [03:02<10:27,  1.63s/it, loss=4.33e+4]"
     ]
    },
    {
     "name": "stdout",
     "output_type": "stream",
     "text": [
      "\n",
      "================================================================================================================\n",
      "loop_id:  114\n"
     ]
    },
    {
     "name": "stderr",
     "output_type": "stream",
     "text": [
      "Optimizing:  23%|██▎       | 115/500 [03:03<10:32,  1.64s/it, loss=4.28e+4]"
     ]
    },
    {
     "name": "stdout",
     "output_type": "stream",
     "text": [
      "\n",
      "================================================================================================================\n",
      "loop_id:  115\n"
     ]
    },
    {
     "name": "stderr",
     "output_type": "stream",
     "text": [
      "Optimizing:  23%|██▎       | 116/500 [03:05<10:16,  1.61s/it, loss=4.23e+4]"
     ]
    },
    {
     "name": "stdout",
     "output_type": "stream",
     "text": [
      "\n",
      "================================================================================================================\n",
      "loop_id:  116\n"
     ]
    },
    {
     "name": "stderr",
     "output_type": "stream",
     "text": [
      "Optimizing:  23%|██▎       | 117/500 [03:07<10:25,  1.63s/it, loss=4.18e+4]"
     ]
    },
    {
     "name": "stdout",
     "output_type": "stream",
     "text": [
      "\n",
      "================================================================================================================\n",
      "loop_id:  117\n"
     ]
    },
    {
     "name": "stderr",
     "output_type": "stream",
     "text": [
      "Optimizing:  24%|██▎       | 118/500 [03:08<10:19,  1.62s/it, loss=4.13e+4]"
     ]
    },
    {
     "name": "stdout",
     "output_type": "stream",
     "text": [
      "\n",
      "================================================================================================================\n",
      "loop_id:  118\n"
     ]
    },
    {
     "name": "stderr",
     "output_type": "stream",
     "text": [
      "Optimizing:  24%|██▍       | 119/500 [03:10<10:21,  1.63s/it, loss=4.09e+4]"
     ]
    },
    {
     "name": "stdout",
     "output_type": "stream",
     "text": [
      "\n",
      "================================================================================================================\n",
      "loop_id:  119\n"
     ]
    },
    {
     "name": "stderr",
     "output_type": "stream",
     "text": [
      "Optimizing:  24%|██▍       | 120/500 [03:11<10:09,  1.60s/it, loss=4.04e+4]"
     ]
    },
    {
     "name": "stdout",
     "output_type": "stream",
     "text": [
      "\n",
      "================================================================================================================\n",
      "loop_id:  120\n"
     ]
    },
    {
     "name": "stderr",
     "output_type": "stream",
     "text": [
      "Optimizing:  24%|██▍       | 121/500 [03:13<10:21,  1.64s/it, loss=3.99e+4]"
     ]
    },
    {
     "name": "stdout",
     "output_type": "stream",
     "text": [
      "\n",
      "================================================================================================================\n",
      "loop_id:  121\n"
     ]
    },
    {
     "name": "stderr",
     "output_type": "stream",
     "text": [
      "Optimizing:  24%|██▍       | 122/500 [03:15<10:15,  1.63s/it, loss=3.94e+4]"
     ]
    },
    {
     "name": "stdout",
     "output_type": "stream",
     "text": [
      "\n",
      "================================================================================================================\n",
      "loop_id:  122\n"
     ]
    },
    {
     "name": "stderr",
     "output_type": "stream",
     "text": [
      "Optimizing:  25%|██▍       | 123/500 [03:17<11:02,  1.76s/it, loss=3.89e+4]"
     ]
    },
    {
     "name": "stdout",
     "output_type": "stream",
     "text": [
      "\n",
      "================================================================================================================\n",
      "loop_id:  123\n"
     ]
    },
    {
     "name": "stderr",
     "output_type": "stream",
     "text": [
      "Optimizing:  25%|██▍       | 124/500 [03:18<10:42,  1.71s/it, loss=3.85e+4]"
     ]
    },
    {
     "name": "stdout",
     "output_type": "stream",
     "text": [
      "\n",
      "================================================================================================================\n",
      "loop_id:  124\n"
     ]
    },
    {
     "name": "stderr",
     "output_type": "stream",
     "text": [
      "Optimizing:  25%|██▌       | 125/500 [03:20<10:40,  1.71s/it, loss=3.8e+4] "
     ]
    },
    {
     "name": "stdout",
     "output_type": "stream",
     "text": [
      "\n",
      "================================================================================================================\n",
      "loop_id:  125\n"
     ]
    },
    {
     "name": "stderr",
     "output_type": "stream",
     "text": [
      "Optimizing:  25%|██▌       | 126/500 [03:22<10:21,  1.66s/it, loss=3.75e+4]"
     ]
    },
    {
     "name": "stdout",
     "output_type": "stream",
     "text": [
      "\n",
      "================================================================================================================\n",
      "loop_id:  126\n"
     ]
    },
    {
     "name": "stderr",
     "output_type": "stream",
     "text": [
      "Optimizing:  25%|██▌       | 127/500 [03:23<10:27,  1.68s/it, loss=3.7e+4] "
     ]
    },
    {
     "name": "stdout",
     "output_type": "stream",
     "text": [
      "\n",
      "================================================================================================================\n",
      "loop_id:  127\n"
     ]
    },
    {
     "name": "stderr",
     "output_type": "stream",
     "text": [
      "Optimizing:  26%|██▌       | 128/500 [03:25<10:13,  1.65s/it, loss=3.66e+4]"
     ]
    },
    {
     "name": "stdout",
     "output_type": "stream",
     "text": [
      "\n",
      "================================================================================================================\n",
      "loop_id:  128\n"
     ]
    },
    {
     "name": "stderr",
     "output_type": "stream",
     "text": [
      "Optimizing:  26%|██▌       | 129/500 [03:27<10:23,  1.68s/it, loss=3.61e+4]"
     ]
    },
    {
     "name": "stdout",
     "output_type": "stream",
     "text": [
      "\n",
      "================================================================================================================\n",
      "loop_id:  129\n"
     ]
    },
    {
     "name": "stderr",
     "output_type": "stream",
     "text": [
      "Optimizing:  26%|██▌       | 130/500 [03:28<10:18,  1.67s/it, loss=3.56e+4]"
     ]
    },
    {
     "name": "stdout",
     "output_type": "stream",
     "text": [
      "\n",
      "================================================================================================================\n",
      "loop_id:  130\n"
     ]
    },
    {
     "name": "stderr",
     "output_type": "stream",
     "text": [
      "Optimizing:  26%|██▌       | 131/500 [03:30<10:26,  1.70s/it, loss=3.52e+4]"
     ]
    },
    {
     "name": "stdout",
     "output_type": "stream",
     "text": [
      "\n",
      "================================================================================================================\n",
      "loop_id:  131\n"
     ]
    },
    {
     "name": "stderr",
     "output_type": "stream",
     "text": [
      "Optimizing:  26%|██▋       | 132/500 [03:32<10:12,  1.66s/it, loss=3.47e+4]"
     ]
    },
    {
     "name": "stdout",
     "output_type": "stream",
     "text": [
      "\n",
      "================================================================================================================\n",
      "loop_id:  132\n"
     ]
    },
    {
     "name": "stderr",
     "output_type": "stream",
     "text": [
      "Optimizing:  27%|██▋       | 133/500 [03:33<10:21,  1.69s/it, loss=3.42e+4]"
     ]
    },
    {
     "name": "stdout",
     "output_type": "stream",
     "text": [
      "\n",
      "================================================================================================================\n",
      "loop_id:  133\n"
     ]
    },
    {
     "name": "stderr",
     "output_type": "stream",
     "text": [
      "Optimizing:  27%|██▋       | 134/500 [03:35<10:10,  1.67s/it, loss=3.38e+4]"
     ]
    },
    {
     "name": "stdout",
     "output_type": "stream",
     "text": [
      "\n",
      "================================================================================================================\n",
      "loop_id:  134\n"
     ]
    },
    {
     "name": "stderr",
     "output_type": "stream",
     "text": [
      "Optimizing:  27%|██▋       | 135/500 [03:37<10:10,  1.67s/it, loss=3.33e+4]"
     ]
    },
    {
     "name": "stdout",
     "output_type": "stream",
     "text": [
      "\n",
      "================================================================================================================\n",
      "loop_id:  135\n"
     ]
    },
    {
     "name": "stderr",
     "output_type": "stream",
     "text": [
      "Optimizing:  27%|██▋       | 136/500 [03:38<10:03,  1.66s/it, loss=3.28e+4]"
     ]
    },
    {
     "name": "stdout",
     "output_type": "stream",
     "text": [
      "\n",
      "================================================================================================================\n",
      "loop_id:  136\n"
     ]
    },
    {
     "name": "stderr",
     "output_type": "stream",
     "text": [
      "Optimizing:  27%|██▋       | 137/500 [03:40<10:06,  1.67s/it, loss=3.24e+4]"
     ]
    },
    {
     "name": "stdout",
     "output_type": "stream",
     "text": [
      "\n",
      "================================================================================================================\n",
      "loop_id:  137\n"
     ]
    },
    {
     "name": "stderr",
     "output_type": "stream",
     "text": [
      "Optimizing:  28%|██▊       | 138/500 [03:42<10:40,  1.77s/it, loss=3.19e+4]"
     ]
    },
    {
     "name": "stdout",
     "output_type": "stream",
     "text": [
      "\n",
      "================================================================================================================\n",
      "loop_id:  138\n"
     ]
    },
    {
     "name": "stderr",
     "output_type": "stream",
     "text": [
      "Optimizing:  28%|██▊       | 139/500 [03:44<10:27,  1.74s/it, loss=3.15e+4]"
     ]
    },
    {
     "name": "stdout",
     "output_type": "stream",
     "text": [
      "\n",
      "================================================================================================================\n",
      "loop_id:  139\n"
     ]
    },
    {
     "name": "stderr",
     "output_type": "stream",
     "text": [
      "Optimizing:  28%|██▊       | 140/500 [03:45<10:17,  1.72s/it, loss=3.1e+4] "
     ]
    },
    {
     "name": "stdout",
     "output_type": "stream",
     "text": [
      "\n",
      "================================================================================================================\n",
      "loop_id:  140\n"
     ]
    },
    {
     "name": "stderr",
     "output_type": "stream",
     "text": [
      "Optimizing:  28%|██▊       | 141/500 [03:47<10:03,  1.68s/it, loss=3.05e+4]"
     ]
    },
    {
     "name": "stdout",
     "output_type": "stream",
     "text": [
      "\n",
      "================================================================================================================\n",
      "loop_id:  141\n"
     ]
    },
    {
     "name": "stderr",
     "output_type": "stream",
     "text": [
      "Optimizing:  28%|██▊       | 142/500 [03:49<09:55,  1.66s/it, loss=3.01e+4]"
     ]
    },
    {
     "name": "stdout",
     "output_type": "stream",
     "text": [
      "\n",
      "================================================================================================================\n",
      "loop_id:  142\n"
     ]
    },
    {
     "name": "stderr",
     "output_type": "stream",
     "text": [
      "Optimizing:  29%|██▊       | 143/500 [03:50<09:52,  1.66s/it, loss=2.97e+4]"
     ]
    },
    {
     "name": "stdout",
     "output_type": "stream",
     "text": [
      "\n",
      "================================================================================================================\n",
      "loop_id:  143\n"
     ]
    },
    {
     "name": "stderr",
     "output_type": "stream",
     "text": [
      "Optimizing:  29%|██▉       | 144/500 [03:52<09:44,  1.64s/it, loss=2.92e+4]"
     ]
    },
    {
     "name": "stdout",
     "output_type": "stream",
     "text": [
      "\n",
      "================================================================================================================\n",
      "loop_id:  144\n"
     ]
    },
    {
     "name": "stderr",
     "output_type": "stream",
     "text": [
      "Optimizing:  29%|██▉       | 145/500 [03:53<09:38,  1.63s/it, loss=2.88e+4]"
     ]
    },
    {
     "name": "stdout",
     "output_type": "stream",
     "text": [
      "\n",
      "================================================================================================================\n",
      "loop_id:  145\n"
     ]
    },
    {
     "name": "stderr",
     "output_type": "stream",
     "text": [
      "Optimizing:  29%|██▉       | 146/500 [03:55<09:42,  1.65s/it, loss=2.83e+4]"
     ]
    },
    {
     "name": "stdout",
     "output_type": "stream",
     "text": [
      "\n",
      "================================================================================================================\n",
      "loop_id:  146\n"
     ]
    },
    {
     "name": "stderr",
     "output_type": "stream",
     "text": [
      "Optimizing:  29%|██▉       | 147/500 [03:57<09:37,  1.64s/it, loss=2.79e+4]"
     ]
    },
    {
     "name": "stdout",
     "output_type": "stream",
     "text": [
      "\n",
      "================================================================================================================\n",
      "loop_id:  147\n"
     ]
    },
    {
     "name": "stderr",
     "output_type": "stream",
     "text": [
      "Optimizing:  30%|██▉       | 148/500 [03:58<09:36,  1.64s/it, loss=2.75e+4]"
     ]
    },
    {
     "name": "stdout",
     "output_type": "stream",
     "text": [
      "\n",
      "================================================================================================================\n",
      "loop_id:  148\n"
     ]
    },
    {
     "name": "stderr",
     "output_type": "stream",
     "text": [
      "Optimizing:  30%|██▉       | 149/500 [04:00<09:36,  1.64s/it, loss=2.71e+4]"
     ]
    },
    {
     "name": "stdout",
     "output_type": "stream",
     "text": [
      "\n",
      "================================================================================================================\n",
      "loop_id:  149\n"
     ]
    },
    {
     "name": "stderr",
     "output_type": "stream",
     "text": [
      "Optimizing:  30%|███       | 150/500 [04:02<09:47,  1.68s/it, loss=2.67e+4]"
     ]
    },
    {
     "name": "stdout",
     "output_type": "stream",
     "text": [
      "\n",
      "================================================================================================================\n",
      "loop_id:  150\n"
     ]
    },
    {
     "name": "stderr",
     "output_type": "stream",
     "text": [
      "Optimizing:  30%|███       | 151/500 [04:04<10:14,  1.76s/it, loss=2.62e+4]"
     ]
    },
    {
     "name": "stdout",
     "output_type": "stream",
     "text": [
      "\n",
      "================================================================================================================\n",
      "loop_id:  151\n"
     ]
    },
    {
     "name": "stderr",
     "output_type": "stream",
     "text": [
      "Optimizing:  30%|███       | 152/500 [04:06<10:32,  1.82s/it, loss=2.58e+4]"
     ]
    },
    {
     "name": "stdout",
     "output_type": "stream",
     "text": [
      "\n",
      "================================================================================================================\n",
      "loop_id:  152\n"
     ]
    },
    {
     "name": "stderr",
     "output_type": "stream",
     "text": [
      "Optimizing:  31%|███       | 153/500 [04:07<10:14,  1.77s/it, loss=2.54e+4]"
     ]
    },
    {
     "name": "stdout",
     "output_type": "stream",
     "text": [
      "\n",
      "================================================================================================================\n",
      "loop_id:  153\n"
     ]
    },
    {
     "name": "stderr",
     "output_type": "stream",
     "text": [
      "Optimizing:  31%|███       | 154/500 [04:09<10:16,  1.78s/it, loss=2.5e+4] "
     ]
    },
    {
     "name": "stdout",
     "output_type": "stream",
     "text": [
      "\n",
      "================================================================================================================\n",
      "loop_id:  154\n"
     ]
    },
    {
     "name": "stderr",
     "output_type": "stream",
     "text": [
      "Optimizing:  31%|███       | 155/500 [04:11<10:15,  1.78s/it, loss=2.46e+4]"
     ]
    },
    {
     "name": "stdout",
     "output_type": "stream",
     "text": [
      "\n",
      "================================================================================================================\n",
      "loop_id:  155\n"
     ]
    },
    {
     "name": "stderr",
     "output_type": "stream",
     "text": [
      "Optimizing:  31%|███       | 156/500 [04:13<10:16,  1.79s/it, loss=2.43e+4]"
     ]
    },
    {
     "name": "stdout",
     "output_type": "stream",
     "text": [
      "\n",
      "================================================================================================================\n",
      "loop_id:  156\n"
     ]
    },
    {
     "name": "stderr",
     "output_type": "stream",
     "text": [
      "Optimizing:  31%|███▏      | 157/500 [04:15<10:57,  1.92s/it, loss=2.39e+4]"
     ]
    },
    {
     "name": "stdout",
     "output_type": "stream",
     "text": [
      "\n",
      "================================================================================================================\n",
      "loop_id:  157\n"
     ]
    },
    {
     "name": "stderr",
     "output_type": "stream",
     "text": [
      "Optimizing:  32%|███▏      | 158/500 [04:17<10:34,  1.86s/it, loss=2.35e+4]"
     ]
    },
    {
     "name": "stdout",
     "output_type": "stream",
     "text": [
      "\n",
      "================================================================================================================\n",
      "loop_id:  158\n"
     ]
    },
    {
     "name": "stderr",
     "output_type": "stream",
     "text": [
      "Optimizing:  32%|███▏      | 159/500 [04:18<10:23,  1.83s/it, loss=2.31e+4]"
     ]
    },
    {
     "name": "stdout",
     "output_type": "stream",
     "text": [
      "\n",
      "================================================================================================================\n",
      "loop_id:  159\n"
     ]
    },
    {
     "name": "stderr",
     "output_type": "stream",
     "text": [
      "Optimizing:  32%|███▏      | 160/500 [04:20<10:07,  1.79s/it, loss=2.28e+4]"
     ]
    },
    {
     "name": "stdout",
     "output_type": "stream",
     "text": [
      "\n",
      "================================================================================================================\n",
      "loop_id:  160\n"
     ]
    },
    {
     "name": "stderr",
     "output_type": "stream",
     "text": [
      "Optimizing:  32%|███▏      | 161/500 [04:22<09:51,  1.74s/it, loss=2.24e+4]"
     ]
    },
    {
     "name": "stdout",
     "output_type": "stream",
     "text": [
      "\n",
      "================================================================================================================\n",
      "loop_id:  161\n"
     ]
    },
    {
     "name": "stderr",
     "output_type": "stream",
     "text": [
      "Optimizing:  32%|███▏      | 162/500 [04:23<09:41,  1.72s/it, loss=2.21e+4]"
     ]
    },
    {
     "name": "stdout",
     "output_type": "stream",
     "text": [
      "\n",
      "================================================================================================================\n",
      "loop_id:  162\n"
     ]
    },
    {
     "name": "stderr",
     "output_type": "stream",
     "text": [
      "Optimizing:  33%|███▎      | 163/500 [04:25<09:34,  1.71s/it, loss=2.17e+4]"
     ]
    },
    {
     "name": "stdout",
     "output_type": "stream",
     "text": [
      "\n",
      "================================================================================================================\n",
      "loop_id:  163\n"
     ]
    },
    {
     "name": "stderr",
     "output_type": "stream",
     "text": [
      "Optimizing:  33%|███▎      | 164/500 [04:27<09:32,  1.70s/it, loss=2.14e+4]"
     ]
    },
    {
     "name": "stdout",
     "output_type": "stream",
     "text": [
      "\n",
      "================================================================================================================\n",
      "loop_id:  164\n"
     ]
    },
    {
     "name": "stderr",
     "output_type": "stream",
     "text": [
      "Optimizing:  33%|███▎      | 165/500 [04:29<09:40,  1.73s/it, loss=2.11e+4]"
     ]
    },
    {
     "name": "stdout",
     "output_type": "stream",
     "text": [
      "\n",
      "================================================================================================================\n",
      "loop_id:  165\n"
     ]
    },
    {
     "name": "stderr",
     "output_type": "stream",
     "text": [
      "Optimizing:  33%|███▎      | 166/500 [04:30<09:23,  1.69s/it, loss=2.07e+4]"
     ]
    },
    {
     "name": "stdout",
     "output_type": "stream",
     "text": [
      "\n",
      "================================================================================================================\n",
      "loop_id:  166\n"
     ]
    },
    {
     "name": "stderr",
     "output_type": "stream",
     "text": [
      "Optimizing:  33%|███▎      | 167/500 [04:32<09:21,  1.69s/it, loss=2.04e+4]"
     ]
    },
    {
     "name": "stdout",
     "output_type": "stream",
     "text": [
      "\n",
      "================================================================================================================\n",
      "loop_id:  167\n"
     ]
    },
    {
     "name": "stderr",
     "output_type": "stream",
     "text": [
      "Optimizing:  34%|███▎      | 168/500 [04:33<09:14,  1.67s/it, loss=2.01e+4]"
     ]
    },
    {
     "name": "stdout",
     "output_type": "stream",
     "text": [
      "\n",
      "================================================================================================================\n",
      "loop_id:  168\n"
     ]
    },
    {
     "name": "stderr",
     "output_type": "stream",
     "text": [
      "Optimizing:  34%|███▍      | 169/500 [04:35<09:16,  1.68s/it, loss=1.98e+4]"
     ]
    },
    {
     "name": "stdout",
     "output_type": "stream",
     "text": [
      "\n",
      "================================================================================================================\n",
      "loop_id:  169\n"
     ]
    },
    {
     "name": "stderr",
     "output_type": "stream",
     "text": [
      "Optimizing:  34%|███▍      | 170/500 [04:37<09:16,  1.69s/it, loss=1.95e+4]"
     ]
    },
    {
     "name": "stdout",
     "output_type": "stream",
     "text": [
      "\n",
      "================================================================================================================\n",
      "loop_id:  170\n"
     ]
    },
    {
     "name": "stderr",
     "output_type": "stream",
     "text": [
      "Optimizing:  34%|███▍      | 171/500 [04:39<09:31,  1.74s/it, loss=1.92e+4]"
     ]
    },
    {
     "name": "stdout",
     "output_type": "stream",
     "text": [
      "\n",
      "================================================================================================================\n",
      "loop_id:  171\n"
     ]
    },
    {
     "name": "stderr",
     "output_type": "stream",
     "text": [
      "Optimizing:  34%|███▍      | 172/500 [04:40<09:22,  1.71s/it, loss=1.89e+4]"
     ]
    },
    {
     "name": "stdout",
     "output_type": "stream",
     "text": [
      "\n",
      "================================================================================================================\n",
      "loop_id:  172\n"
     ]
    },
    {
     "name": "stderr",
     "output_type": "stream",
     "text": [
      "Optimizing:  35%|███▍      | 173/500 [04:42<09:14,  1.70s/it, loss=1.86e+4]"
     ]
    },
    {
     "name": "stdout",
     "output_type": "stream",
     "text": [
      "\n",
      "================================================================================================================\n",
      "loop_id:  173\n"
     ]
    },
    {
     "name": "stderr",
     "output_type": "stream",
     "text": [
      "Optimizing:  35%|███▍      | 174/500 [04:44<09:09,  1.68s/it, loss=1.83e+4]"
     ]
    },
    {
     "name": "stdout",
     "output_type": "stream",
     "text": [
      "\n",
      "================================================================================================================\n",
      "loop_id:  174\n"
     ]
    },
    {
     "name": "stderr",
     "output_type": "stream",
     "text": [
      "Optimizing:  35%|███▌      | 175/500 [04:45<09:02,  1.67s/it, loss=1.8e+4] "
     ]
    },
    {
     "name": "stdout",
     "output_type": "stream",
     "text": [
      "\n",
      "================================================================================================================\n",
      "loop_id:  175\n"
     ]
    },
    {
     "name": "stderr",
     "output_type": "stream",
     "text": [
      "Optimizing:  35%|███▌      | 176/500 [04:47<08:50,  1.64s/it, loss=1.77e+4]"
     ]
    },
    {
     "name": "stdout",
     "output_type": "stream",
     "text": [
      "\n",
      "================================================================================================================\n",
      "loop_id:  176\n"
     ]
    },
    {
     "name": "stderr",
     "output_type": "stream",
     "text": [
      "Optimizing:  35%|███▌      | 177/500 [04:49<09:44,  1.81s/it, loss=1.74e+4]"
     ]
    },
    {
     "name": "stdout",
     "output_type": "stream",
     "text": [
      "\n",
      "================================================================================================================\n",
      "loop_id:  177\n"
     ]
    },
    {
     "name": "stderr",
     "output_type": "stream",
     "text": [
      "Optimizing:  36%|███▌      | 178/500 [04:51<09:18,  1.73s/it, loss=1.71e+4]"
     ]
    },
    {
     "name": "stdout",
     "output_type": "stream",
     "text": [
      "\n",
      "================================================================================================================\n",
      "loop_id:  178\n"
     ]
    },
    {
     "name": "stderr",
     "output_type": "stream",
     "text": [
      "Optimizing:  36%|███▌      | 179/500 [04:52<09:10,  1.71s/it, loss=1.69e+4]"
     ]
    },
    {
     "name": "stdout",
     "output_type": "stream",
     "text": [
      "\n",
      "================================================================================================================\n",
      "loop_id:  179\n"
     ]
    },
    {
     "name": "stderr",
     "output_type": "stream",
     "text": [
      "Optimizing:  36%|███▌      | 180/500 [04:54<09:02,  1.70s/it, loss=1.66e+4]"
     ]
    },
    {
     "name": "stdout",
     "output_type": "stream",
     "text": [
      "\n",
      "================================================================================================================\n",
      "loop_id:  180\n"
     ]
    },
    {
     "name": "stderr",
     "output_type": "stream",
     "text": [
      "Optimizing:  36%|███▌      | 181/500 [04:56<09:01,  1.70s/it, loss=1.63e+4]"
     ]
    },
    {
     "name": "stdout",
     "output_type": "stream",
     "text": [
      "\n",
      "================================================================================================================\n",
      "loop_id:  181\n"
     ]
    },
    {
     "name": "stderr",
     "output_type": "stream",
     "text": [
      "Optimizing:  36%|███▋      | 182/500 [04:57<08:49,  1.67s/it, loss=1.61e+4]"
     ]
    },
    {
     "name": "stdout",
     "output_type": "stream",
     "text": [
      "\n",
      "================================================================================================================\n",
      "loop_id:  182\n"
     ]
    },
    {
     "name": "stderr",
     "output_type": "stream",
     "text": [
      "Optimizing:  37%|███▋      | 183/500 [04:59<08:59,  1.70s/it, loss=1.58e+4]"
     ]
    },
    {
     "name": "stdout",
     "output_type": "stream",
     "text": [
      "\n",
      "================================================================================================================\n",
      "loop_id:  183\n"
     ]
    },
    {
     "name": "stderr",
     "output_type": "stream",
     "text": [
      "Optimizing:  37%|███▋      | 184/500 [05:01<08:50,  1.68s/it, loss=1.55e+4]"
     ]
    },
    {
     "name": "stdout",
     "output_type": "stream",
     "text": [
      "\n",
      "================================================================================================================\n",
      "loop_id:  184\n"
     ]
    },
    {
     "name": "stderr",
     "output_type": "stream",
     "text": [
      "Optimizing:  37%|███▋      | 185/500 [05:02<08:49,  1.68s/it, loss=1.53e+4]"
     ]
    },
    {
     "name": "stdout",
     "output_type": "stream",
     "text": [
      "\n",
      "================================================================================================================\n",
      "loop_id:  185\n"
     ]
    },
    {
     "name": "stderr",
     "output_type": "stream",
     "text": [
      "Optimizing:  37%|███▋      | 186/500 [05:04<08:46,  1.68s/it, loss=1.5e+4] "
     ]
    },
    {
     "name": "stdout",
     "output_type": "stream",
     "text": [
      "\n",
      "================================================================================================================\n",
      "loop_id:  186\n"
     ]
    },
    {
     "name": "stderr",
     "output_type": "stream",
     "text": [
      "Optimizing:  37%|███▋      | 187/500 [05:06<08:43,  1.67s/it, loss=1.48e+4]"
     ]
    },
    {
     "name": "stdout",
     "output_type": "stream",
     "text": [
      "\n",
      "================================================================================================================\n",
      "loop_id:  187\n"
     ]
    },
    {
     "name": "stderr",
     "output_type": "stream",
     "text": [
      "Optimizing:  38%|███▊      | 188/500 [05:07<08:34,  1.65s/it, loss=1.45e+4]"
     ]
    },
    {
     "name": "stdout",
     "output_type": "stream",
     "text": [
      "\n",
      "================================================================================================================\n",
      "loop_id:  188\n"
     ]
    },
    {
     "name": "stderr",
     "output_type": "stream",
     "text": [
      "Optimizing:  38%|███▊      | 189/500 [05:09<08:38,  1.67s/it, loss=1.43e+4]"
     ]
    },
    {
     "name": "stdout",
     "output_type": "stream",
     "text": [
      "\n",
      "================================================================================================================\n",
      "loop_id:  189\n"
     ]
    },
    {
     "name": "stderr",
     "output_type": "stream",
     "text": [
      "Optimizing:  38%|███▊      | 190/500 [05:11<08:34,  1.66s/it, loss=1.41e+4]"
     ]
    },
    {
     "name": "stdout",
     "output_type": "stream",
     "text": [
      "\n",
      "================================================================================================================\n",
      "loop_id:  190\n"
     ]
    },
    {
     "name": "stderr",
     "output_type": "stream",
     "text": [
      "Optimizing:  38%|███▊      | 191/500 [05:12<08:33,  1.66s/it, loss=1.38e+4]"
     ]
    },
    {
     "name": "stdout",
     "output_type": "stream",
     "text": [
      "\n",
      "================================================================================================================\n",
      "loop_id:  191\n"
     ]
    },
    {
     "name": "stderr",
     "output_type": "stream",
     "text": [
      "Optimizing:  38%|███▊      | 192/500 [05:14<08:33,  1.67s/it, loss=1.36e+4]"
     ]
    },
    {
     "name": "stdout",
     "output_type": "stream",
     "text": [
      "\n",
      "================================================================================================================\n",
      "loop_id:  192\n"
     ]
    },
    {
     "name": "stderr",
     "output_type": "stream",
     "text": [
      "Optimizing:  39%|███▊      | 193/500 [05:16<08:35,  1.68s/it, loss=1.34e+4]"
     ]
    },
    {
     "name": "stdout",
     "output_type": "stream",
     "text": [
      "\n",
      "================================================================================================================\n",
      "loop_id:  193\n"
     ]
    },
    {
     "name": "stderr",
     "output_type": "stream",
     "text": [
      "Optimizing:  39%|███▉      | 194/500 [05:17<08:30,  1.67s/it, loss=1.32e+4]"
     ]
    },
    {
     "name": "stdout",
     "output_type": "stream",
     "text": [
      "\n",
      "================================================================================================================\n",
      "loop_id:  194\n"
     ]
    },
    {
     "name": "stderr",
     "output_type": "stream",
     "text": [
      "Optimizing:  39%|███▉      | 195/500 [05:19<08:31,  1.68s/it, loss=1.3e+4] "
     ]
    },
    {
     "name": "stdout",
     "output_type": "stream",
     "text": [
      "\n",
      "================================================================================================================\n",
      "loop_id:  195\n"
     ]
    },
    {
     "name": "stderr",
     "output_type": "stream",
     "text": [
      "Optimizing:  39%|███▉      | 196/500 [05:21<08:28,  1.67s/it, loss=1.27e+4]"
     ]
    },
    {
     "name": "stdout",
     "output_type": "stream",
     "text": [
      "\n",
      "================================================================================================================\n",
      "loop_id:  196\n"
     ]
    },
    {
     "name": "stderr",
     "output_type": "stream",
     "text": [
      "Optimizing:  39%|███▉      | 197/500 [05:23<09:14,  1.83s/it, loss=1.25e+4]"
     ]
    },
    {
     "name": "stdout",
     "output_type": "stream",
     "text": [
      "\n",
      "================================================================================================================\n",
      "loop_id:  197\n"
     ]
    },
    {
     "name": "stderr",
     "output_type": "stream",
     "text": [
      "Optimizing:  40%|███▉      | 198/500 [05:25<08:53,  1.77s/it, loss=1.23e+4]"
     ]
    },
    {
     "name": "stdout",
     "output_type": "stream",
     "text": [
      "\n",
      "================================================================================================================\n",
      "loop_id:  198\n"
     ]
    },
    {
     "name": "stderr",
     "output_type": "stream",
     "text": [
      "Optimizing:  40%|███▉      | 199/500 [05:26<08:45,  1.75s/it, loss=1.21e+4]"
     ]
    },
    {
     "name": "stdout",
     "output_type": "stream",
     "text": [
      "\n",
      "================================================================================================================\n",
      "loop_id:  199\n"
     ]
    },
    {
     "name": "stderr",
     "output_type": "stream",
     "text": [
      "Optimizing:  40%|████      | 200/500 [05:28<08:40,  1.73s/it, loss=1.19e+4]"
     ]
    },
    {
     "name": "stdout",
     "output_type": "stream",
     "text": [
      "\n",
      "================================================================================================================\n",
      "loop_id:  200\n"
     ]
    },
    {
     "name": "stderr",
     "output_type": "stream",
     "text": [
      "Optimizing:  40%|████      | 201/500 [05:30<08:44,  1.76s/it, loss=1.17e+4]"
     ]
    },
    {
     "name": "stdout",
     "output_type": "stream",
     "text": [
      "\n",
      "================================================================================================================\n",
      "loop_id:  201\n"
     ]
    },
    {
     "name": "stderr",
     "output_type": "stream",
     "text": [
      "Optimizing:  40%|████      | 202/500 [05:31<08:31,  1.72s/it, loss=1.15e+4]"
     ]
    },
    {
     "name": "stdout",
     "output_type": "stream",
     "text": [
      "\n",
      "================================================================================================================\n",
      "loop_id:  202\n"
     ]
    },
    {
     "name": "stderr",
     "output_type": "stream",
     "text": [
      "Optimizing:  41%|████      | 203/500 [05:33<08:27,  1.71s/it, loss=1.13e+4]"
     ]
    },
    {
     "name": "stdout",
     "output_type": "stream",
     "text": [
      "\n",
      "================================================================================================================\n",
      "loop_id:  203\n"
     ]
    },
    {
     "name": "stderr",
     "output_type": "stream",
     "text": [
      "Optimizing:  41%|████      | 204/500 [05:35<08:17,  1.68s/it, loss=1.12e+4]"
     ]
    },
    {
     "name": "stdout",
     "output_type": "stream",
     "text": [
      "\n",
      "================================================================================================================\n",
      "loop_id:  204\n"
     ]
    },
    {
     "name": "stderr",
     "output_type": "stream",
     "text": [
      "Optimizing:  41%|████      | 205/500 [05:36<08:19,  1.69s/it, loss=1.1e+4] "
     ]
    },
    {
     "name": "stdout",
     "output_type": "stream",
     "text": [
      "\n",
      "================================================================================================================\n",
      "loop_id:  205\n"
     ]
    },
    {
     "name": "stderr",
     "output_type": "stream",
     "text": [
      "Optimizing:  41%|████      | 206/500 [05:38<08:10,  1.67s/it, loss=1.08e+4]"
     ]
    },
    {
     "name": "stdout",
     "output_type": "stream",
     "text": [
      "\n",
      "================================================================================================================\n",
      "loop_id:  206\n"
     ]
    },
    {
     "name": "stderr",
     "output_type": "stream",
     "text": [
      "Optimizing:  41%|████▏     | 207/500 [05:40<08:09,  1.67s/it, loss=1.06e+4]"
     ]
    },
    {
     "name": "stdout",
     "output_type": "stream",
     "text": [
      "\n",
      "================================================================================================================\n",
      "loop_id:  207\n"
     ]
    },
    {
     "name": "stderr",
     "output_type": "stream",
     "text": [
      "Optimizing:  42%|████▏     | 208/500 [05:41<08:07,  1.67s/it, loss=1.04e+4]"
     ]
    },
    {
     "name": "stdout",
     "output_type": "stream",
     "text": [
      "\n",
      "================================================================================================================\n",
      "loop_id:  208\n"
     ]
    },
    {
     "name": "stderr",
     "output_type": "stream",
     "text": [
      "Optimizing:  42%|████▏     | 209/500 [05:43<08:07,  1.68s/it, loss=1.03e+4]"
     ]
    },
    {
     "name": "stdout",
     "output_type": "stream",
     "text": [
      "\n",
      "================================================================================================================\n",
      "loop_id:  209\n"
     ]
    },
    {
     "name": "stderr",
     "output_type": "stream",
     "text": [
      "Optimizing:  42%|████▏     | 210/500 [05:45<08:02,  1.66s/it, loss=1.01e+4]"
     ]
    },
    {
     "name": "stdout",
     "output_type": "stream",
     "text": [
      "\n",
      "================================================================================================================\n",
      "loop_id:  210\n"
     ]
    },
    {
     "name": "stderr",
     "output_type": "stream",
     "text": [
      "Optimizing:  42%|████▏     | 211/500 [05:46<08:04,  1.68s/it, loss=9.93e+3]"
     ]
    },
    {
     "name": "stdout",
     "output_type": "stream",
     "text": [
      "\n",
      "================================================================================================================\n",
      "loop_id:  211\n"
     ]
    },
    {
     "name": "stderr",
     "output_type": "stream",
     "text": [
      "Optimizing:  42%|████▏     | 212/500 [05:48<07:59,  1.67s/it, loss=9.77e+3]"
     ]
    },
    {
     "name": "stdout",
     "output_type": "stream",
     "text": [
      "\n",
      "================================================================================================================\n",
      "loop_id:  212\n"
     ]
    },
    {
     "name": "stderr",
     "output_type": "stream",
     "text": [
      "Optimizing:  43%|████▎     | 213/500 [05:50<08:01,  1.68s/it, loss=9.61e+3]"
     ]
    },
    {
     "name": "stdout",
     "output_type": "stream",
     "text": [
      "\n",
      "================================================================================================================\n",
      "loop_id:  213\n"
     ]
    },
    {
     "name": "stderr",
     "output_type": "stream",
     "text": [
      "Optimizing:  43%|████▎     | 214/500 [05:51<07:53,  1.66s/it, loss=9.45e+3]"
     ]
    },
    {
     "name": "stdout",
     "output_type": "stream",
     "text": [
      "\n",
      "================================================================================================================\n",
      "loop_id:  214\n"
     ]
    },
    {
     "name": "stderr",
     "output_type": "stream",
     "text": [
      "Optimizing:  43%|████▎     | 215/500 [05:53<07:55,  1.67s/it, loss=9.29e+3]"
     ]
    },
    {
     "name": "stdout",
     "output_type": "stream",
     "text": [
      "\n",
      "================================================================================================================\n",
      "loop_id:  215\n"
     ]
    },
    {
     "name": "stderr",
     "output_type": "stream",
     "text": [
      "Optimizing:  43%|████▎     | 216/500 [05:55<07:53,  1.67s/it, loss=9.14e+3]"
     ]
    },
    {
     "name": "stdout",
     "output_type": "stream",
     "text": [
      "\n",
      "================================================================================================================\n",
      "loop_id:  216\n"
     ]
    },
    {
     "name": "stderr",
     "output_type": "stream",
     "text": [
      "Optimizing:  43%|████▎     | 217/500 [05:56<07:57,  1.69s/it, loss=8.99e+3]"
     ]
    },
    {
     "name": "stdout",
     "output_type": "stream",
     "text": [
      "\n",
      "================================================================================================================\n",
      "loop_id:  217\n"
     ]
    },
    {
     "name": "stderr",
     "output_type": "stream",
     "text": [
      "Optimizing:  44%|████▎     | 218/500 [05:58<07:50,  1.67s/it, loss=8.84e+3]"
     ]
    },
    {
     "name": "stdout",
     "output_type": "stream",
     "text": [
      "\n",
      "================================================================================================================\n",
      "loop_id:  218\n"
     ]
    },
    {
     "name": "stderr",
     "output_type": "stream",
     "text": [
      "Optimizing:  44%|████▍     | 219/500 [06:00<07:56,  1.69s/it, loss=8.69e+3]"
     ]
    },
    {
     "name": "stdout",
     "output_type": "stream",
     "text": [
      "\n",
      "================================================================================================================\n",
      "loop_id:  219\n"
     ]
    },
    {
     "name": "stderr",
     "output_type": "stream",
     "text": [
      "Optimizing:  44%|████▍     | 220/500 [06:01<07:47,  1.67s/it, loss=8.55e+3]"
     ]
    },
    {
     "name": "stdout",
     "output_type": "stream",
     "text": [
      "\n",
      "================================================================================================================\n",
      "loop_id:  220\n"
     ]
    },
    {
     "name": "stderr",
     "output_type": "stream",
     "text": [
      "Optimizing:  44%|████▍     | 221/500 [06:03<07:52,  1.69s/it, loss=8.41e+3]"
     ]
    },
    {
     "name": "stdout",
     "output_type": "stream",
     "text": [
      "\n",
      "================================================================================================================\n",
      "loop_id:  221\n"
     ]
    },
    {
     "name": "stderr",
     "output_type": "stream",
     "text": [
      "Optimizing:  44%|████▍     | 222/500 [06:05<07:45,  1.67s/it, loss=8.27e+3]"
     ]
    },
    {
     "name": "stdout",
     "output_type": "stream",
     "text": [
      "\n",
      "================================================================================================================\n",
      "loop_id:  222\n"
     ]
    },
    {
     "name": "stderr",
     "output_type": "stream",
     "text": [
      "Optimizing:  45%|████▍     | 223/500 [06:07<08:30,  1.84s/it, loss=8.14e+3]"
     ]
    },
    {
     "name": "stdout",
     "output_type": "stream",
     "text": [
      "\n",
      "================================================================================================================\n",
      "loop_id:  223\n"
     ]
    },
    {
     "name": "stderr",
     "output_type": "stream",
     "text": [
      "Optimizing:  45%|████▍     | 224/500 [06:09<08:14,  1.79s/it, loss=8e+3]   "
     ]
    },
    {
     "name": "stdout",
     "output_type": "stream",
     "text": [
      "\n",
      "================================================================================================================\n",
      "loop_id:  224\n"
     ]
    },
    {
     "name": "stderr",
     "output_type": "stream",
     "text": [
      "Optimizing:  45%|████▌     | 225/500 [06:10<08:02,  1.75s/it, loss=7.87e+3]"
     ]
    },
    {
     "name": "stdout",
     "output_type": "stream",
     "text": [
      "\n",
      "================================================================================================================\n",
      "loop_id:  225\n"
     ]
    },
    {
     "name": "stderr",
     "output_type": "stream",
     "text": [
      "Optimizing:  45%|████▌     | 226/500 [06:12<07:46,  1.70s/it, loss=7.74e+3]"
     ]
    },
    {
     "name": "stdout",
     "output_type": "stream",
     "text": [
      "\n",
      "================================================================================================================\n",
      "loop_id:  226\n"
     ]
    },
    {
     "name": "stderr",
     "output_type": "stream",
     "text": [
      "Optimizing:  45%|████▌     | 227/500 [06:14<07:49,  1.72s/it, loss=7.61e+3]"
     ]
    },
    {
     "name": "stdout",
     "output_type": "stream",
     "text": [
      "\n",
      "================================================================================================================\n",
      "loop_id:  227\n"
     ]
    },
    {
     "name": "stderr",
     "output_type": "stream",
     "text": [
      "Optimizing:  46%|████▌     | 228/500 [06:15<07:39,  1.69s/it, loss=7.49e+3]"
     ]
    },
    {
     "name": "stdout",
     "output_type": "stream",
     "text": [
      "\n",
      "================================================================================================================\n",
      "loop_id:  228\n"
     ]
    },
    {
     "name": "stderr",
     "output_type": "stream",
     "text": [
      "Optimizing:  46%|████▌     | 229/500 [06:17<07:35,  1.68s/it, loss=7.37e+3]"
     ]
    },
    {
     "name": "stdout",
     "output_type": "stream",
     "text": [
      "\n",
      "================================================================================================================\n",
      "loop_id:  229\n"
     ]
    },
    {
     "name": "stderr",
     "output_type": "stream",
     "text": [
      "Optimizing:  46%|████▌     | 230/500 [06:19<07:41,  1.71s/it, loss=7.25e+3]"
     ]
    },
    {
     "name": "stdout",
     "output_type": "stream",
     "text": [
      "\n",
      "================================================================================================================\n",
      "loop_id:  230\n"
     ]
    },
    {
     "name": "stderr",
     "output_type": "stream",
     "text": [
      "Optimizing:  46%|████▌     | 231/500 [06:20<07:34,  1.69s/it, loss=7.13e+3]"
     ]
    },
    {
     "name": "stdout",
     "output_type": "stream",
     "text": [
      "\n",
      "================================================================================================================\n",
      "loop_id:  231\n"
     ]
    },
    {
     "name": "stderr",
     "output_type": "stream",
     "text": [
      "Optimizing:  46%|████▋     | 232/500 [06:22<07:26,  1.67s/it, loss=7.01e+3]"
     ]
    },
    {
     "name": "stdout",
     "output_type": "stream",
     "text": [
      "\n",
      "================================================================================================================\n",
      "loop_id:  232\n"
     ]
    },
    {
     "name": "stderr",
     "output_type": "stream",
     "text": [
      "Optimizing:  47%|████▋     | 233/500 [06:24<07:31,  1.69s/it, loss=6.89e+3]"
     ]
    },
    {
     "name": "stdout",
     "output_type": "stream",
     "text": [
      "\n",
      "================================================================================================================\n",
      "loop_id:  233\n"
     ]
    },
    {
     "name": "stderr",
     "output_type": "stream",
     "text": [
      "Optimizing:  47%|████▋     | 234/500 [06:25<07:23,  1.67s/it, loss=6.78e+3]"
     ]
    },
    {
     "name": "stdout",
     "output_type": "stream",
     "text": [
      "\n",
      "================================================================================================================\n",
      "loop_id:  234\n"
     ]
    },
    {
     "name": "stderr",
     "output_type": "stream",
     "text": [
      "Optimizing:  47%|████▋     | 235/500 [06:27<07:24,  1.68s/it, loss=6.67e+3]"
     ]
    },
    {
     "name": "stdout",
     "output_type": "stream",
     "text": [
      "\n",
      "================================================================================================================\n",
      "loop_id:  235\n"
     ]
    },
    {
     "name": "stderr",
     "output_type": "stream",
     "text": [
      "Optimizing:  47%|████▋     | 236/500 [06:29<07:25,  1.69s/it, loss=6.56e+3]"
     ]
    },
    {
     "name": "stdout",
     "output_type": "stream",
     "text": [
      "\n",
      "================================================================================================================\n",
      "loop_id:  236\n"
     ]
    },
    {
     "name": "stderr",
     "output_type": "stream",
     "text": [
      "Optimizing:  47%|████▋     | 237/500 [06:30<07:23,  1.69s/it, loss=6.45e+3]"
     ]
    },
    {
     "name": "stdout",
     "output_type": "stream",
     "text": [
      "\n",
      "================================================================================================================\n",
      "loop_id:  237\n"
     ]
    },
    {
     "name": "stderr",
     "output_type": "stream",
     "text": [
      "Optimizing:  48%|████▊     | 238/500 [06:32<07:14,  1.66s/it, loss=6.35e+3]"
     ]
    },
    {
     "name": "stdout",
     "output_type": "stream",
     "text": [
      "\n",
      "================================================================================================================\n",
      "loop_id:  238\n"
     ]
    },
    {
     "name": "stderr",
     "output_type": "stream",
     "text": [
      "Optimizing:  48%|████▊     | 239/500 [06:34<07:19,  1.68s/it, loss=6.24e+3]"
     ]
    },
    {
     "name": "stdout",
     "output_type": "stream",
     "text": [
      "\n",
      "================================================================================================================\n",
      "loop_id:  239\n"
     ]
    },
    {
     "name": "stderr",
     "output_type": "stream",
     "text": [
      "Optimizing:  48%|████▊     | 240/500 [06:35<07:14,  1.67s/it, loss=6.14e+3]"
     ]
    },
    {
     "name": "stdout",
     "output_type": "stream",
     "text": [
      "\n",
      "================================================================================================================\n",
      "loop_id:  240\n"
     ]
    },
    {
     "name": "stderr",
     "output_type": "stream",
     "text": [
      "Optimizing:  48%|████▊     | 241/500 [06:37<07:12,  1.67s/it, loss=6.04e+3]"
     ]
    },
    {
     "name": "stdout",
     "output_type": "stream",
     "text": [
      "\n",
      "================================================================================================================\n",
      "loop_id:  241\n"
     ]
    },
    {
     "name": "stderr",
     "output_type": "stream",
     "text": [
      "Optimizing:  48%|████▊     | 242/500 [06:39<07:09,  1.66s/it, loss=5.94e+3]"
     ]
    },
    {
     "name": "stdout",
     "output_type": "stream",
     "text": [
      "\n",
      "================================================================================================================\n",
      "loop_id:  242\n"
     ]
    },
    {
     "name": "stderr",
     "output_type": "stream",
     "text": [
      "Optimizing:  49%|████▊     | 243/500 [06:40<07:12,  1.68s/it, loss=5.85e+3]"
     ]
    },
    {
     "name": "stdout",
     "output_type": "stream",
     "text": [
      "\n",
      "================================================================================================================\n",
      "loop_id:  243\n"
     ]
    },
    {
     "name": "stderr",
     "output_type": "stream",
     "text": [
      "Optimizing:  49%|████▉     | 244/500 [06:42<07:09,  1.68s/it, loss=5.75e+3]"
     ]
    },
    {
     "name": "stdout",
     "output_type": "stream",
     "text": [
      "\n",
      "================================================================================================================\n",
      "loop_id:  244\n"
     ]
    },
    {
     "name": "stderr",
     "output_type": "stream",
     "text": [
      "Optimizing:  49%|████▉     | 245/500 [06:44<07:09,  1.69s/it, loss=5.66e+3]"
     ]
    },
    {
     "name": "stdout",
     "output_type": "stream",
     "text": [
      "\n",
      "================================================================================================================\n",
      "loop_id:  245\n"
     ]
    },
    {
     "name": "stderr",
     "output_type": "stream",
     "text": [
      "Optimizing:  49%|████▉     | 246/500 [06:46<07:06,  1.68s/it, loss=5.57e+3]"
     ]
    },
    {
     "name": "stdout",
     "output_type": "stream",
     "text": [
      "\n",
      "================================================================================================================\n",
      "loop_id:  246\n"
     ]
    },
    {
     "name": "stderr",
     "output_type": "stream",
     "text": [
      "Optimizing:  49%|████▉     | 247/500 [06:47<07:09,  1.70s/it, loss=5.47e+3]"
     ]
    },
    {
     "name": "stdout",
     "output_type": "stream",
     "text": [
      "\n",
      "================================================================================================================\n",
      "loop_id:  247\n"
     ]
    },
    {
     "name": "stderr",
     "output_type": "stream",
     "text": [
      "Optimizing:  50%|████▉     | 248/500 [06:49<07:03,  1.68s/it, loss=5.39e+3]"
     ]
    },
    {
     "name": "stdout",
     "output_type": "stream",
     "text": [
      "\n",
      "================================================================================================================\n",
      "loop_id:  248\n"
     ]
    },
    {
     "name": "stderr",
     "output_type": "stream",
     "text": [
      "Optimizing:  50%|████▉     | 249/500 [06:51<07:54,  1.89s/it, loss=5.3e+3] "
     ]
    },
    {
     "name": "stdout",
     "output_type": "stream",
     "text": [
      "\n",
      "================================================================================================================\n",
      "loop_id:  249\n"
     ]
    },
    {
     "name": "stderr",
     "output_type": "stream",
     "text": [
      "Optimizing:  50%|█████     | 250/500 [06:53<07:33,  1.81s/it, loss=5.21e+3]"
     ]
    },
    {
     "name": "stdout",
     "output_type": "stream",
     "text": [
      "\n",
      "================================================================================================================\n",
      "loop_id:  250\n"
     ]
    },
    {
     "name": "stderr",
     "output_type": "stream",
     "text": [
      "Optimizing:  50%|█████     | 251/500 [06:55<07:20,  1.77s/it, loss=5.13e+3]"
     ]
    },
    {
     "name": "stdout",
     "output_type": "stream",
     "text": [
      "\n",
      "================================================================================================================\n",
      "loop_id:  251\n"
     ]
    },
    {
     "name": "stderr",
     "output_type": "stream",
     "text": [
      "Optimizing:  50%|█████     | 252/500 [06:56<07:09,  1.73s/it, loss=5.04e+3]"
     ]
    },
    {
     "name": "stdout",
     "output_type": "stream",
     "text": [
      "\n",
      "================================================================================================================\n",
      "loop_id:  252\n"
     ]
    },
    {
     "name": "stderr",
     "output_type": "stream",
     "text": [
      "Optimizing:  51%|█████     | 253/500 [06:58<07:01,  1.71s/it, loss=4.96e+3]"
     ]
    },
    {
     "name": "stdout",
     "output_type": "stream",
     "text": [
      "\n",
      "================================================================================================================\n",
      "loop_id:  253\n"
     ]
    },
    {
     "name": "stderr",
     "output_type": "stream",
     "text": [
      "Optimizing:  51%|█████     | 254/500 [06:59<06:51,  1.67s/it, loss=4.88e+3]"
     ]
    },
    {
     "name": "stdout",
     "output_type": "stream",
     "text": [
      "\n",
      "================================================================================================================\n",
      "loop_id:  254\n"
     ]
    },
    {
     "name": "stderr",
     "output_type": "stream",
     "text": [
      "Optimizing:  51%|█████     | 255/500 [07:01<06:58,  1.71s/it, loss=4.8e+3] "
     ]
    },
    {
     "name": "stdout",
     "output_type": "stream",
     "text": [
      "\n",
      "================================================================================================================\n",
      "loop_id:  255\n"
     ]
    },
    {
     "name": "stderr",
     "output_type": "stream",
     "text": [
      "Optimizing:  51%|█████     | 256/500 [07:03<06:52,  1.69s/it, loss=4.72e+3]"
     ]
    },
    {
     "name": "stdout",
     "output_type": "stream",
     "text": [
      "\n",
      "================================================================================================================\n",
      "loop_id:  256\n"
     ]
    },
    {
     "name": "stderr",
     "output_type": "stream",
     "text": [
      "Optimizing:  51%|█████▏    | 257/500 [07:05<06:51,  1.69s/it, loss=4.65e+3]"
     ]
    },
    {
     "name": "stdout",
     "output_type": "stream",
     "text": [
      "\n",
      "================================================================================================================\n",
      "loop_id:  257\n"
     ]
    },
    {
     "name": "stderr",
     "output_type": "stream",
     "text": [
      "Optimizing:  52%|█████▏    | 258/500 [07:06<06:49,  1.69s/it, loss=4.57e+3]"
     ]
    },
    {
     "name": "stdout",
     "output_type": "stream",
     "text": [
      "\n",
      "================================================================================================================\n",
      "loop_id:  258\n"
     ]
    },
    {
     "name": "stderr",
     "output_type": "stream",
     "text": [
      "Optimizing:  52%|█████▏    | 259/500 [07:08<06:52,  1.71s/it, loss=4.5e+3] "
     ]
    },
    {
     "name": "stdout",
     "output_type": "stream",
     "text": [
      "\n",
      "================================================================================================================\n",
      "loop_id:  259\n"
     ]
    },
    {
     "name": "stderr",
     "output_type": "stream",
     "text": [
      "Optimizing:  52%|█████▏    | 260/500 [07:10<06:42,  1.68s/it, loss=4.43e+3]"
     ]
    },
    {
     "name": "stdout",
     "output_type": "stream",
     "text": [
      "\n",
      "================================================================================================================\n",
      "loop_id:  260\n"
     ]
    },
    {
     "name": "stderr",
     "output_type": "stream",
     "text": [
      "Optimizing:  52%|█████▏    | 261/500 [07:11<06:42,  1.68s/it, loss=4.35e+3]"
     ]
    },
    {
     "name": "stdout",
     "output_type": "stream",
     "text": [
      "\n",
      "================================================================================================================\n",
      "loop_id:  261\n"
     ]
    },
    {
     "name": "stderr",
     "output_type": "stream",
     "text": [
      "Optimizing:  52%|█████▏    | 262/500 [07:13<06:36,  1.67s/it, loss=4.28e+3]"
     ]
    },
    {
     "name": "stdout",
     "output_type": "stream",
     "text": [
      "\n",
      "================================================================================================================\n",
      "loop_id:  262\n"
     ]
    },
    {
     "name": "stderr",
     "output_type": "stream",
     "text": [
      "Optimizing:  53%|█████▎    | 263/500 [07:15<06:40,  1.69s/it, loss=4.21e+3]"
     ]
    },
    {
     "name": "stdout",
     "output_type": "stream",
     "text": [
      "\n",
      "================================================================================================================\n",
      "loop_id:  263\n"
     ]
    },
    {
     "name": "stderr",
     "output_type": "stream",
     "text": [
      "Optimizing:  53%|█████▎    | 264/500 [07:16<06:38,  1.69s/it, loss=4.15e+3]"
     ]
    },
    {
     "name": "stdout",
     "output_type": "stream",
     "text": [
      "\n",
      "================================================================================================================\n",
      "loop_id:  264\n"
     ]
    },
    {
     "name": "stderr",
     "output_type": "stream",
     "text": [
      "Optimizing:  53%|█████▎    | 265/500 [07:18<06:38,  1.70s/it, loss=4.08e+3]"
     ]
    },
    {
     "name": "stdout",
     "output_type": "stream",
     "text": [
      "\n",
      "================================================================================================================\n",
      "loop_id:  265\n"
     ]
    },
    {
     "name": "stderr",
     "output_type": "stream",
     "text": [
      "Optimizing:  53%|█████▎    | 266/500 [07:20<06:35,  1.69s/it, loss=4.01e+3]"
     ]
    },
    {
     "name": "stdout",
     "output_type": "stream",
     "text": [
      "\n",
      "================================================================================================================\n",
      "loop_id:  266\n"
     ]
    },
    {
     "name": "stderr",
     "output_type": "stream",
     "text": [
      "Optimizing:  53%|█████▎    | 267/500 [07:21<06:33,  1.69s/it, loss=3.95e+3]"
     ]
    },
    {
     "name": "stdout",
     "output_type": "stream",
     "text": [
      "\n",
      "================================================================================================================\n",
      "loop_id:  267\n"
     ]
    },
    {
     "name": "stderr",
     "output_type": "stream",
     "text": [
      "Optimizing:  54%|█████▎    | 268/500 [07:23<06:28,  1.67s/it, loss=3.89e+3]"
     ]
    },
    {
     "name": "stdout",
     "output_type": "stream",
     "text": [
      "\n",
      "================================================================================================================\n",
      "loop_id:  268\n"
     ]
    },
    {
     "name": "stderr",
     "output_type": "stream",
     "text": [
      "Optimizing:  54%|█████▍    | 269/500 [07:25<06:29,  1.69s/it, loss=3.82e+3]"
     ]
    },
    {
     "name": "stdout",
     "output_type": "stream",
     "text": [
      "\n",
      "================================================================================================================\n",
      "loop_id:  269\n"
     ]
    },
    {
     "name": "stderr",
     "output_type": "stream",
     "text": [
      "Optimizing:  54%|█████▍    | 270/500 [07:26<06:22,  1.67s/it, loss=3.76e+3]"
     ]
    },
    {
     "name": "stdout",
     "output_type": "stream",
     "text": [
      "\n",
      "================================================================================================================\n",
      "loop_id:  270\n"
     ]
    },
    {
     "name": "stderr",
     "output_type": "stream",
     "text": [
      "Optimizing:  54%|█████▍    | 271/500 [07:28<06:25,  1.68s/it, loss=3.7e+3] "
     ]
    },
    {
     "name": "stdout",
     "output_type": "stream",
     "text": [
      "\n",
      "================================================================================================================\n",
      "loop_id:  271\n"
     ]
    },
    {
     "name": "stderr",
     "output_type": "stream",
     "text": [
      "Optimizing:  54%|█████▍    | 272/500 [07:30<06:22,  1.68s/it, loss=3.64e+3]"
     ]
    },
    {
     "name": "stdout",
     "output_type": "stream",
     "text": [
      "\n",
      "================================================================================================================\n",
      "loop_id:  272\n"
     ]
    },
    {
     "name": "stderr",
     "output_type": "stream",
     "text": [
      "Optimizing:  55%|█████▍    | 273/500 [07:32<06:23,  1.69s/it, loss=3.58e+3]"
     ]
    },
    {
     "name": "stdout",
     "output_type": "stream",
     "text": [
      "\n",
      "================================================================================================================\n",
      "loop_id:  273\n"
     ]
    },
    {
     "name": "stderr",
     "output_type": "stream",
     "text": [
      "Optimizing:  55%|█████▍    | 274/500 [07:33<06:20,  1.68s/it, loss=3.53e+3]"
     ]
    },
    {
     "name": "stdout",
     "output_type": "stream",
     "text": [
      "\n",
      "================================================================================================================\n",
      "loop_id:  274\n"
     ]
    },
    {
     "name": "stderr",
     "output_type": "stream",
     "text": [
      "Optimizing:  55%|█████▌    | 275/500 [07:35<06:19,  1.69s/it, loss=3.47e+3]"
     ]
    },
    {
     "name": "stdout",
     "output_type": "stream",
     "text": [
      "\n",
      "================================================================================================================\n",
      "loop_id:  275\n"
     ]
    },
    {
     "name": "stderr",
     "output_type": "stream",
     "text": [
      "Optimizing:  55%|█████▌    | 276/500 [07:37<06:14,  1.67s/it, loss=3.41e+3]"
     ]
    },
    {
     "name": "stdout",
     "output_type": "stream",
     "text": [
      "\n",
      "================================================================================================================\n",
      "loop_id:  276\n"
     ]
    },
    {
     "name": "stderr",
     "output_type": "stream",
     "text": [
      "Optimizing:  55%|█████▌    | 277/500 [07:39<07:02,  1.89s/it, loss=3.36e+3]"
     ]
    },
    {
     "name": "stdout",
     "output_type": "stream",
     "text": [
      "\n",
      "================================================================================================================\n",
      "loop_id:  277\n"
     ]
    },
    {
     "name": "stderr",
     "output_type": "stream",
     "text": [
      "Optimizing:  56%|█████▌    | 278/500 [07:41<06:42,  1.81s/it, loss=3.3e+3] "
     ]
    },
    {
     "name": "stdout",
     "output_type": "stream",
     "text": [
      "\n",
      "================================================================================================================\n",
      "loop_id:  278\n"
     ]
    },
    {
     "name": "stderr",
     "output_type": "stream",
     "text": [
      "Optimizing:  56%|█████▌    | 279/500 [07:42<06:33,  1.78s/it, loss=3.25e+3]"
     ]
    },
    {
     "name": "stdout",
     "output_type": "stream",
     "text": [
      "\n",
      "================================================================================================================\n",
      "loop_id:  279\n"
     ]
    },
    {
     "name": "stderr",
     "output_type": "stream",
     "text": [
      "Optimizing:  56%|█████▌    | 280/500 [07:44<06:26,  1.76s/it, loss=3.2e+3] "
     ]
    },
    {
     "name": "stdout",
     "output_type": "stream",
     "text": [
      "\n",
      "================================================================================================================\n",
      "loop_id:  280\n"
     ]
    },
    {
     "name": "stderr",
     "output_type": "stream",
     "text": [
      "Optimizing:  56%|█████▌    | 281/500 [07:46<06:19,  1.73s/it, loss=3.15e+3]"
     ]
    },
    {
     "name": "stdout",
     "output_type": "stream",
     "text": [
      "\n",
      "================================================================================================================\n",
      "loop_id:  281\n"
     ]
    },
    {
     "name": "stderr",
     "output_type": "stream",
     "text": [
      "Optimizing:  56%|█████▋    | 282/500 [07:47<06:08,  1.69s/it, loss=3.1e+3] "
     ]
    },
    {
     "name": "stdout",
     "output_type": "stream",
     "text": [
      "\n",
      "================================================================================================================\n",
      "loop_id:  282\n"
     ]
    },
    {
     "name": "stderr",
     "output_type": "stream",
     "text": [
      "Optimizing:  57%|█████▋    | 283/500 [07:49<06:18,  1.74s/it, loss=3.05e+3]"
     ]
    },
    {
     "name": "stdout",
     "output_type": "stream",
     "text": [
      "\n",
      "================================================================================================================\n",
      "loop_id:  283\n"
     ]
    },
    {
     "name": "stderr",
     "output_type": "stream",
     "text": [
      "Optimizing:  57%|█████▋    | 284/500 [07:51<06:07,  1.70s/it, loss=3e+3]   "
     ]
    },
    {
     "name": "stdout",
     "output_type": "stream",
     "text": [
      "\n",
      "================================================================================================================\n",
      "loop_id:  284\n"
     ]
    },
    {
     "name": "stderr",
     "output_type": "stream",
     "text": [
      "Optimizing:  57%|█████▋    | 285/500 [07:52<06:03,  1.69s/it, loss=2.95e+3]"
     ]
    },
    {
     "name": "stdout",
     "output_type": "stream",
     "text": [
      "\n",
      "================================================================================================================\n",
      "loop_id:  285\n"
     ]
    },
    {
     "name": "stderr",
     "output_type": "stream",
     "text": [
      "Optimizing:  57%|█████▋    | 286/500 [07:54<06:02,  1.69s/it, loss=2.91e+3]"
     ]
    },
    {
     "name": "stdout",
     "output_type": "stream",
     "text": [
      "\n",
      "================================================================================================================\n",
      "loop_id:  286\n"
     ]
    },
    {
     "name": "stderr",
     "output_type": "stream",
     "text": [
      "Optimizing:  57%|█████▋    | 287/500 [07:56<06:01,  1.70s/it, loss=2.86e+3]"
     ]
    },
    {
     "name": "stdout",
     "output_type": "stream",
     "text": [
      "\n",
      "================================================================================================================\n",
      "loop_id:  287\n"
     ]
    },
    {
     "name": "stderr",
     "output_type": "stream",
     "text": [
      "Optimizing:  58%|█████▊    | 288/500 [07:57<05:56,  1.68s/it, loss=2.81e+3]"
     ]
    },
    {
     "name": "stdout",
     "output_type": "stream",
     "text": [
      "\n",
      "================================================================================================================\n",
      "loop_id:  288\n"
     ]
    },
    {
     "name": "stderr",
     "output_type": "stream",
     "text": [
      "Optimizing:  58%|█████▊    | 289/500 [07:59<06:00,  1.71s/it, loss=2.77e+3]"
     ]
    },
    {
     "name": "stdout",
     "output_type": "stream",
     "text": [
      "\n",
      "================================================================================================================\n",
      "loop_id:  289\n"
     ]
    },
    {
     "name": "stderr",
     "output_type": "stream",
     "text": [
      "Optimizing:  58%|█████▊    | 290/500 [08:01<05:51,  1.68s/it, loss=2.72e+3]"
     ]
    },
    {
     "name": "stdout",
     "output_type": "stream",
     "text": [
      "\n",
      "================================================================================================================\n",
      "loop_id:  290\n"
     ]
    },
    {
     "name": "stderr",
     "output_type": "stream",
     "text": [
      "Optimizing:  58%|█████▊    | 291/500 [08:02<05:50,  1.68s/it, loss=2.68e+3]"
     ]
    },
    {
     "name": "stdout",
     "output_type": "stream",
     "text": [
      "\n",
      "================================================================================================================\n",
      "loop_id:  291\n"
     ]
    },
    {
     "name": "stderr",
     "output_type": "stream",
     "text": [
      "Optimizing:  58%|█████▊    | 292/500 [08:04<05:45,  1.66s/it, loss=2.64e+3]"
     ]
    },
    {
     "name": "stdout",
     "output_type": "stream",
     "text": [
      "\n",
      "================================================================================================================\n",
      "loop_id:  292\n"
     ]
    },
    {
     "name": "stderr",
     "output_type": "stream",
     "text": [
      "Optimizing:  59%|█████▊    | 293/500 [08:06<05:45,  1.67s/it, loss=2.6e+3] "
     ]
    },
    {
     "name": "stdout",
     "output_type": "stream",
     "text": [
      "\n",
      "================================================================================================================\n",
      "loop_id:  293\n"
     ]
    },
    {
     "name": "stderr",
     "output_type": "stream",
     "text": [
      "Optimizing:  59%|█████▉    | 294/500 [08:07<05:41,  1.66s/it, loss=2.55e+3]"
     ]
    },
    {
     "name": "stdout",
     "output_type": "stream",
     "text": [
      "\n",
      "================================================================================================================\n",
      "loop_id:  294\n"
     ]
    },
    {
     "name": "stderr",
     "output_type": "stream",
     "text": [
      "Optimizing:  59%|█████▉    | 295/500 [08:09<05:42,  1.67s/it, loss=2.51e+3]"
     ]
    },
    {
     "name": "stdout",
     "output_type": "stream",
     "text": [
      "\n",
      "================================================================================================================\n",
      "loop_id:  295\n"
     ]
    },
    {
     "name": "stderr",
     "output_type": "stream",
     "text": [
      "Optimizing:  59%|█████▉    | 296/500 [08:11<05:39,  1.67s/it, loss=2.47e+3]"
     ]
    },
    {
     "name": "stdout",
     "output_type": "stream",
     "text": [
      "\n",
      "================================================================================================================\n",
      "loop_id:  296\n"
     ]
    },
    {
     "name": "stderr",
     "output_type": "stream",
     "text": [
      "Optimizing:  59%|█████▉    | 297/500 [08:13<05:44,  1.70s/it, loss=2.43e+3]"
     ]
    },
    {
     "name": "stdout",
     "output_type": "stream",
     "text": [
      "\n",
      "================================================================================================================\n",
      "loop_id:  297\n"
     ]
    },
    {
     "name": "stderr",
     "output_type": "stream",
     "text": [
      "Optimizing:  60%|█████▉    | 298/500 [08:14<05:38,  1.68s/it, loss=2.4e+3] "
     ]
    },
    {
     "name": "stdout",
     "output_type": "stream",
     "text": [
      "\n",
      "================================================================================================================\n",
      "loop_id:  298\n"
     ]
    },
    {
     "name": "stderr",
     "output_type": "stream",
     "text": [
      "Optimizing:  60%|█████▉    | 299/500 [08:16<05:44,  1.71s/it, loss=2.36e+3]"
     ]
    },
    {
     "name": "stdout",
     "output_type": "stream",
     "text": [
      "\n",
      "================================================================================================================\n",
      "loop_id:  299\n"
     ]
    },
    {
     "name": "stderr",
     "output_type": "stream",
     "text": [
      "Optimizing:  60%|██████    | 300/500 [08:18<05:40,  1.70s/it, loss=2.32e+3]"
     ]
    },
    {
     "name": "stdout",
     "output_type": "stream",
     "text": [
      "\n",
      "================================================================================================================\n",
      "loop_id:  300\n"
     ]
    },
    {
     "name": "stderr",
     "output_type": "stream",
     "text": [
      "Optimizing:  60%|██████    | 301/500 [08:19<05:38,  1.70s/it, loss=2.28e+3]"
     ]
    },
    {
     "name": "stdout",
     "output_type": "stream",
     "text": [
      "\n",
      "================================================================================================================\n",
      "loop_id:  301\n"
     ]
    },
    {
     "name": "stderr",
     "output_type": "stream",
     "text": [
      "Optimizing:  60%|██████    | 302/500 [08:21<05:34,  1.69s/it, loss=2.25e+3]"
     ]
    },
    {
     "name": "stdout",
     "output_type": "stream",
     "text": [
      "\n",
      "================================================================================================================\n",
      "loop_id:  302\n"
     ]
    },
    {
     "name": "stderr",
     "output_type": "stream",
     "text": [
      "Optimizing:  61%|██████    | 303/500 [08:23<05:32,  1.69s/it, loss=2.21e+3]"
     ]
    },
    {
     "name": "stdout",
     "output_type": "stream",
     "text": [
      "\n",
      "================================================================================================================\n",
      "loop_id:  303\n"
     ]
    },
    {
     "name": "stderr",
     "output_type": "stream",
     "text": [
      "Optimizing:  61%|██████    | 304/500 [08:24<05:30,  1.68s/it, loss=2.18e+3]"
     ]
    },
    {
     "name": "stdout",
     "output_type": "stream",
     "text": [
      "\n",
      "================================================================================================================\n",
      "loop_id:  304\n"
     ]
    },
    {
     "name": "stderr",
     "output_type": "stream",
     "text": [
      "Optimizing:  61%|██████    | 305/500 [08:26<05:32,  1.70s/it, loss=2.14e+3]"
     ]
    },
    {
     "name": "stdout",
     "output_type": "stream",
     "text": [
      "\n",
      "================================================================================================================\n",
      "loop_id:  305\n"
     ]
    },
    {
     "name": "stderr",
     "output_type": "stream",
     "text": [
      "Optimizing:  61%|██████    | 306/500 [08:28<05:24,  1.67s/it, loss=2.11e+3]"
     ]
    },
    {
     "name": "stdout",
     "output_type": "stream",
     "text": [
      "\n",
      "================================================================================================================\n",
      "loop_id:  306\n"
     ]
    },
    {
     "name": "stderr",
     "output_type": "stream",
     "text": [
      "Optimizing:  61%|██████▏   | 307/500 [08:29<05:24,  1.68s/it, loss=2.08e+3]"
     ]
    },
    {
     "name": "stdout",
     "output_type": "stream",
     "text": [
      "\n",
      "================================================================================================================\n",
      "loop_id:  307\n"
     ]
    },
    {
     "name": "stderr",
     "output_type": "stream",
     "text": [
      "Optimizing:  62%|██████▏   | 308/500 [08:31<05:22,  1.68s/it, loss=2.04e+3]"
     ]
    },
    {
     "name": "stdout",
     "output_type": "stream",
     "text": [
      "\n",
      "================================================================================================================\n",
      "loop_id:  308\n"
     ]
    },
    {
     "name": "stderr",
     "output_type": "stream",
     "text": [
      "Optimizing:  62%|██████▏   | 309/500 [08:33<05:19,  1.67s/it, loss=2.01e+3]"
     ]
    },
    {
     "name": "stdout",
     "output_type": "stream",
     "text": [
      "\n",
      "================================================================================================================\n",
      "loop_id:  309\n"
     ]
    },
    {
     "name": "stderr",
     "output_type": "stream",
     "text": [
      "Optimizing:  62%|██████▏   | 310/500 [08:34<05:16,  1.67s/it, loss=1.98e+3]"
     ]
    },
    {
     "name": "stdout",
     "output_type": "stream",
     "text": [
      "\n",
      "================================================================================================================\n",
      "loop_id:  310\n"
     ]
    },
    {
     "name": "stderr",
     "output_type": "stream",
     "text": [
      "Optimizing:  62%|██████▏   | 311/500 [08:37<06:01,  1.91s/it, loss=1.95e+3]"
     ]
    },
    {
     "name": "stdout",
     "output_type": "stream",
     "text": [
      "\n",
      "================================================================================================================\n",
      "loop_id:  311\n"
     ]
    },
    {
     "name": "stderr",
     "output_type": "stream",
     "text": [
      "Optimizing:  62%|██████▏   | 312/500 [08:39<05:44,  1.83s/it, loss=1.92e+3]"
     ]
    },
    {
     "name": "stdout",
     "output_type": "stream",
     "text": [
      "\n",
      "================================================================================================================\n",
      "loop_id:  312\n"
     ]
    },
    {
     "name": "stderr",
     "output_type": "stream",
     "text": [
      "Optimizing:  63%|██████▎   | 313/500 [08:40<05:35,  1.80s/it, loss=1.89e+3]"
     ]
    },
    {
     "name": "stdout",
     "output_type": "stream",
     "text": [
      "\n",
      "================================================================================================================\n",
      "loop_id:  313\n"
     ]
    },
    {
     "name": "stderr",
     "output_type": "stream",
     "text": [
      "Optimizing:  63%|██████▎   | 314/500 [08:42<05:27,  1.76s/it, loss=1.86e+3]"
     ]
    },
    {
     "name": "stdout",
     "output_type": "stream",
     "text": [
      "\n",
      "================================================================================================================\n",
      "loop_id:  314\n"
     ]
    },
    {
     "name": "stderr",
     "output_type": "stream",
     "text": [
      "Optimizing:  63%|██████▎   | 315/500 [08:44<05:21,  1.74s/it, loss=1.83e+3]"
     ]
    },
    {
     "name": "stdout",
     "output_type": "stream",
     "text": [
      "\n",
      "================================================================================================================\n",
      "loop_id:  315\n"
     ]
    },
    {
     "name": "stderr",
     "output_type": "stream",
     "text": [
      "Optimizing:  63%|██████▎   | 316/500 [08:45<05:16,  1.72s/it, loss=1.8e+3] "
     ]
    },
    {
     "name": "stdout",
     "output_type": "stream",
     "text": [
      "\n",
      "================================================================================================================\n",
      "loop_id:  316\n"
     ]
    },
    {
     "name": "stderr",
     "output_type": "stream",
     "text": [
      "Optimizing:  63%|██████▎   | 317/500 [08:47<05:16,  1.73s/it, loss=1.77e+3]"
     ]
    },
    {
     "name": "stdout",
     "output_type": "stream",
     "text": [
      "\n",
      "================================================================================================================\n",
      "loop_id:  317\n"
     ]
    },
    {
     "name": "stderr",
     "output_type": "stream",
     "text": [
      "Optimizing:  64%|██████▎   | 318/500 [08:49<05:09,  1.70s/it, loss=1.74e+3]"
     ]
    },
    {
     "name": "stdout",
     "output_type": "stream",
     "text": [
      "\n",
      "================================================================================================================\n",
      "loop_id:  318\n"
     ]
    },
    {
     "name": "stderr",
     "output_type": "stream",
     "text": [
      "Optimizing:  64%|██████▍   | 319/500 [08:50<05:09,  1.71s/it, loss=1.71e+3]"
     ]
    },
    {
     "name": "stdout",
     "output_type": "stream",
     "text": [
      "\n",
      "================================================================================================================\n",
      "loop_id:  319\n"
     ]
    },
    {
     "name": "stderr",
     "output_type": "stream",
     "text": [
      "Optimizing:  64%|██████▍   | 320/500 [08:52<05:02,  1.68s/it, loss=1.69e+3]"
     ]
    },
    {
     "name": "stdout",
     "output_type": "stream",
     "text": [
      "\n",
      "================================================================================================================\n",
      "loop_id:  320\n"
     ]
    },
    {
     "name": "stderr",
     "output_type": "stream",
     "text": [
      "Optimizing:  64%|██████▍   | 321/500 [08:54<05:04,  1.70s/it, loss=1.66e+3]"
     ]
    },
    {
     "name": "stdout",
     "output_type": "stream",
     "text": [
      "\n",
      "================================================================================================================\n",
      "loop_id:  321\n"
     ]
    },
    {
     "name": "stderr",
     "output_type": "stream",
     "text": [
      "Optimizing:  64%|██████▍   | 322/500 [08:55<04:59,  1.69s/it, loss=1.63e+3]"
     ]
    },
    {
     "name": "stdout",
     "output_type": "stream",
     "text": [
      "\n",
      "================================================================================================================\n",
      "loop_id:  322\n"
     ]
    },
    {
     "name": "stderr",
     "output_type": "stream",
     "text": [
      "Optimizing:  65%|██████▍   | 323/500 [08:57<04:58,  1.68s/it, loss=1.61e+3]"
     ]
    },
    {
     "name": "stdout",
     "output_type": "stream",
     "text": [
      "\n",
      "================================================================================================================\n",
      "loop_id:  323\n"
     ]
    },
    {
     "name": "stderr",
     "output_type": "stream",
     "text": [
      "Optimizing:  65%|██████▍   | 324/500 [08:59<04:57,  1.69s/it, loss=1.58e+3]"
     ]
    },
    {
     "name": "stdout",
     "output_type": "stream",
     "text": [
      "\n",
      "================================================================================================================\n",
      "loop_id:  324\n"
     ]
    },
    {
     "name": "stderr",
     "output_type": "stream",
     "text": [
      "Optimizing:  65%|██████▌   | 325/500 [09:01<04:58,  1.71s/it, loss=1.56e+3]"
     ]
    },
    {
     "name": "stdout",
     "output_type": "stream",
     "text": [
      "\n",
      "================================================================================================================\n",
      "loop_id:  325\n"
     ]
    },
    {
     "name": "stderr",
     "output_type": "stream",
     "text": [
      "Optimizing:  65%|██████▌   | 326/500 [09:02<04:51,  1.67s/it, loss=1.53e+3]"
     ]
    },
    {
     "name": "stdout",
     "output_type": "stream",
     "text": [
      "\n",
      "================================================================================================================\n",
      "loop_id:  326\n"
     ]
    },
    {
     "name": "stderr",
     "output_type": "stream",
     "text": [
      "Optimizing:  65%|██████▌   | 327/500 [09:04<04:54,  1.70s/it, loss=1.51e+3]"
     ]
    },
    {
     "name": "stdout",
     "output_type": "stream",
     "text": [
      "\n",
      "================================================================================================================\n",
      "loop_id:  327\n"
     ]
    },
    {
     "name": "stderr",
     "output_type": "stream",
     "text": [
      "Optimizing:  66%|██████▌   | 328/500 [09:06<04:49,  1.68s/it, loss=1.49e+3]"
     ]
    },
    {
     "name": "stdout",
     "output_type": "stream",
     "text": [
      "\n",
      "================================================================================================================\n",
      "loop_id:  328\n"
     ]
    },
    {
     "name": "stderr",
     "output_type": "stream",
     "text": [
      "Optimizing:  66%|██████▌   | 329/500 [09:07<04:47,  1.68s/it, loss=1.46e+3]"
     ]
    },
    {
     "name": "stdout",
     "output_type": "stream",
     "text": [
      "\n",
      "================================================================================================================\n",
      "loop_id:  329\n"
     ]
    },
    {
     "name": "stderr",
     "output_type": "stream",
     "text": [
      "Optimizing:  66%|██████▌   | 330/500 [09:09<04:45,  1.68s/it, loss=1.44e+3]"
     ]
    },
    {
     "name": "stdout",
     "output_type": "stream",
     "text": [
      "\n",
      "================================================================================================================\n",
      "loop_id:  330\n"
     ]
    },
    {
     "name": "stderr",
     "output_type": "stream",
     "text": [
      "Optimizing:  66%|██████▌   | 331/500 [09:11<04:47,  1.70s/it, loss=1.42e+3]"
     ]
    },
    {
     "name": "stdout",
     "output_type": "stream",
     "text": [
      "\n",
      "================================================================================================================\n",
      "loop_id:  331\n"
     ]
    },
    {
     "name": "stderr",
     "output_type": "stream",
     "text": [
      "Optimizing:  66%|██████▋   | 332/500 [09:12<04:39,  1.67s/it, loss=1.39e+3]"
     ]
    },
    {
     "name": "stdout",
     "output_type": "stream",
     "text": [
      "\n",
      "================================================================================================================\n",
      "loop_id:  332\n"
     ]
    },
    {
     "name": "stderr",
     "output_type": "stream",
     "text": [
      "Optimizing:  67%|██████▋   | 333/500 [09:14<04:41,  1.69s/it, loss=1.37e+3]"
     ]
    },
    {
     "name": "stdout",
     "output_type": "stream",
     "text": [
      "\n",
      "================================================================================================================\n",
      "loop_id:  333\n"
     ]
    },
    {
     "name": "stderr",
     "output_type": "stream",
     "text": [
      "Optimizing:  67%|██████▋   | 334/500 [09:16<04:38,  1.68s/it, loss=1.35e+3]"
     ]
    },
    {
     "name": "stdout",
     "output_type": "stream",
     "text": [
      "\n",
      "================================================================================================================\n",
      "loop_id:  334\n"
     ]
    },
    {
     "name": "stderr",
     "output_type": "stream",
     "text": [
      "Optimizing:  67%|██████▋   | 335/500 [09:17<04:38,  1.69s/it, loss=1.33e+3]"
     ]
    },
    {
     "name": "stdout",
     "output_type": "stream",
     "text": [
      "\n",
      "================================================================================================================\n",
      "loop_id:  335\n"
     ]
    },
    {
     "name": "stderr",
     "output_type": "stream",
     "text": [
      "Optimizing:  67%|██████▋   | 336/500 [09:19<04:37,  1.69s/it, loss=1.31e+3]"
     ]
    },
    {
     "name": "stdout",
     "output_type": "stream",
     "text": [
      "\n",
      "================================================================================================================\n",
      "loop_id:  336\n"
     ]
    },
    {
     "name": "stderr",
     "output_type": "stream",
     "text": [
      "Optimizing:  67%|██████▋   | 337/500 [09:21<04:40,  1.72s/it, loss=1.29e+3]"
     ]
    },
    {
     "name": "stdout",
     "output_type": "stream",
     "text": [
      "\n",
      "================================================================================================================\n",
      "loop_id:  337\n"
     ]
    },
    {
     "name": "stderr",
     "output_type": "stream",
     "text": [
      "Optimizing:  68%|██████▊   | 338/500 [09:22<04:35,  1.70s/it, loss=1.27e+3]"
     ]
    },
    {
     "name": "stdout",
     "output_type": "stream",
     "text": [
      "\n",
      "================================================================================================================\n",
      "loop_id:  338\n"
     ]
    },
    {
     "name": "stderr",
     "output_type": "stream",
     "text": [
      "Optimizing:  68%|██████▊   | 339/500 [09:24<04:37,  1.72s/it, loss=1.25e+3]"
     ]
    },
    {
     "name": "stdout",
     "output_type": "stream",
     "text": [
      "\n",
      "================================================================================================================\n",
      "loop_id:  339\n"
     ]
    },
    {
     "name": "stderr",
     "output_type": "stream",
     "text": [
      "Optimizing:  68%|██████▊   | 340/500 [09:26<04:32,  1.70s/it, loss=1.23e+3]"
     ]
    },
    {
     "name": "stdout",
     "output_type": "stream",
     "text": [
      "\n",
      "================================================================================================================\n",
      "loop_id:  340\n"
     ]
    },
    {
     "name": "stderr",
     "output_type": "stream",
     "text": [
      "Optimizing:  68%|██████▊   | 341/500 [09:28<04:32,  1.71s/it, loss=1.21e+3]"
     ]
    },
    {
     "name": "stdout",
     "output_type": "stream",
     "text": [
      "\n",
      "================================================================================================================\n",
      "loop_id:  341\n"
     ]
    },
    {
     "name": "stderr",
     "output_type": "stream",
     "text": [
      "Optimizing:  68%|██████▊   | 342/500 [09:29<04:29,  1.71s/it, loss=1.19e+3]"
     ]
    },
    {
     "name": "stdout",
     "output_type": "stream",
     "text": [
      "\n",
      "================================================================================================================\n",
      "loop_id:  342\n"
     ]
    },
    {
     "name": "stderr",
     "output_type": "stream",
     "text": [
      "Optimizing:  69%|██████▊   | 343/500 [09:31<04:35,  1.75s/it, loss=1.17e+3]"
     ]
    },
    {
     "name": "stdout",
     "output_type": "stream",
     "text": [
      "\n",
      "================================================================================================================\n",
      "loop_id:  343\n"
     ]
    },
    {
     "name": "stderr",
     "output_type": "stream",
     "text": [
      "Optimizing:  69%|██████▉   | 344/500 [09:33<04:32,  1.75s/it, loss=1.15e+3]"
     ]
    },
    {
     "name": "stdout",
     "output_type": "stream",
     "text": [
      "\n",
      "================================================================================================================\n",
      "loop_id:  344\n"
     ]
    },
    {
     "name": "stderr",
     "output_type": "stream",
     "text": [
      "Optimizing:  69%|██████▉   | 345/500 [09:35<04:30,  1.75s/it, loss=1.14e+3]"
     ]
    },
    {
     "name": "stdout",
     "output_type": "stream",
     "text": [
      "\n",
      "================================================================================================================\n",
      "loop_id:  345\n"
     ]
    },
    {
     "name": "stderr",
     "output_type": "stream",
     "text": [
      "Optimizing:  69%|██████▉   | 346/500 [09:36<04:25,  1.72s/it, loss=1.12e+3]"
     ]
    },
    {
     "name": "stdout",
     "output_type": "stream",
     "text": [
      "\n",
      "================================================================================================================\n",
      "loop_id:  346\n"
     ]
    },
    {
     "name": "stderr",
     "output_type": "stream",
     "text": [
      "Optimizing:  69%|██████▉   | 347/500 [09:39<05:02,  1.98s/it, loss=1.1e+3] "
     ]
    },
    {
     "name": "stdout",
     "output_type": "stream",
     "text": [
      "\n",
      "================================================================================================================\n",
      "loop_id:  347\n"
     ]
    },
    {
     "name": "stderr",
     "output_type": "stream",
     "text": [
      "Optimizing:  70%|██████▉   | 348/500 [09:41<04:53,  1.93s/it, loss=1.08e+3]"
     ]
    },
    {
     "name": "stdout",
     "output_type": "stream",
     "text": [
      "\n",
      "================================================================================================================\n",
      "loop_id:  348\n"
     ]
    },
    {
     "name": "stderr",
     "output_type": "stream",
     "text": [
      "Optimizing:  70%|██████▉   | 349/500 [09:42<04:38,  1.84s/it, loss=1.07e+3]"
     ]
    },
    {
     "name": "stdout",
     "output_type": "stream",
     "text": [
      "\n",
      "================================================================================================================\n",
      "loop_id:  349\n"
     ]
    },
    {
     "name": "stderr",
     "output_type": "stream",
     "text": [
      "Optimizing:  70%|███████   | 350/500 [09:44<04:34,  1.83s/it, loss=1.05e+3]"
     ]
    },
    {
     "name": "stdout",
     "output_type": "stream",
     "text": [
      "\n",
      "================================================================================================================\n",
      "loop_id:  350\n"
     ]
    },
    {
     "name": "stderr",
     "output_type": "stream",
     "text": [
      "Optimizing:  70%|███████   | 351/500 [09:46<04:27,  1.79s/it, loss=1.03e+3]"
     ]
    },
    {
     "name": "stdout",
     "output_type": "stream",
     "text": [
      "\n",
      "================================================================================================================\n",
      "loop_id:  351\n"
     ]
    },
    {
     "name": "stderr",
     "output_type": "stream",
     "text": [
      "Optimizing:  70%|███████   | 352/500 [09:48<04:24,  1.79s/it, loss=1.02e+3]"
     ]
    },
    {
     "name": "stdout",
     "output_type": "stream",
     "text": [
      "\n",
      "================================================================================================================\n",
      "loop_id:  352\n"
     ]
    },
    {
     "name": "stderr",
     "output_type": "stream",
     "text": [
      "Optimizing:  71%|███████   | 353/500 [09:49<04:16,  1.74s/it, loss=1e+3]   "
     ]
    },
    {
     "name": "stdout",
     "output_type": "stream",
     "text": [
      "\n",
      "================================================================================================================\n",
      "loop_id:  353\n"
     ]
    },
    {
     "name": "stderr",
     "output_type": "stream",
     "text": [
      "Optimizing:  71%|███████   | 354/500 [09:51<04:15,  1.75s/it, loss=985] "
     ]
    },
    {
     "name": "stdout",
     "output_type": "stream",
     "text": [
      "\n",
      "================================================================================================================\n",
      "loop_id:  354\n"
     ]
    },
    {
     "name": "stderr",
     "output_type": "stream",
     "text": [
      "Optimizing:  71%|███████   | 355/500 [09:53<04:11,  1.73s/it, loss=969]"
     ]
    },
    {
     "name": "stdout",
     "output_type": "stream",
     "text": [
      "\n",
      "================================================================================================================\n",
      "loop_id:  355\n"
     ]
    },
    {
     "name": "stderr",
     "output_type": "stream",
     "text": [
      "Optimizing:  71%|███████   | 356/500 [09:55<04:12,  1.76s/it, loss=954]"
     ]
    },
    {
     "name": "stdout",
     "output_type": "stream",
     "text": [
      "\n",
      "================================================================================================================\n",
      "loop_id:  356\n"
     ]
    },
    {
     "name": "stderr",
     "output_type": "stream",
     "text": [
      "Optimizing:  71%|███████▏  | 357/500 [09:56<04:06,  1.73s/it, loss=939]"
     ]
    },
    {
     "name": "stdout",
     "output_type": "stream",
     "text": [
      "\n",
      "================================================================================================================\n",
      "loop_id:  357\n"
     ]
    },
    {
     "name": "stderr",
     "output_type": "stream",
     "text": [
      "Optimizing:  72%|███████▏  | 358/500 [09:58<04:06,  1.74s/it, loss=924]"
     ]
    },
    {
     "name": "stdout",
     "output_type": "stream",
     "text": [
      "\n",
      "================================================================================================================\n",
      "loop_id:  358\n"
     ]
    },
    {
     "name": "stderr",
     "output_type": "stream",
     "text": [
      "Optimizing:  72%|███████▏  | 359/500 [10:00<04:03,  1.73s/it, loss=910]"
     ]
    },
    {
     "name": "stdout",
     "output_type": "stream",
     "text": [
      "\n",
      "================================================================================================================\n",
      "loop_id:  359\n"
     ]
    },
    {
     "name": "stderr",
     "output_type": "stream",
     "text": [
      "Optimizing:  72%|███████▏  | 360/500 [10:02<04:14,  1.82s/it, loss=896]"
     ]
    },
    {
     "name": "stdout",
     "output_type": "stream",
     "text": [
      "\n",
      "================================================================================================================\n",
      "loop_id:  360\n"
     ]
    },
    {
     "name": "stderr",
     "output_type": "stream",
     "text": [
      "Optimizing:  72%|███████▏  | 361/500 [10:04<04:19,  1.86s/it, loss=882]"
     ]
    },
    {
     "name": "stdout",
     "output_type": "stream",
     "text": [
      "\n",
      "================================================================================================================\n",
      "loop_id:  361\n"
     ]
    },
    {
     "name": "stderr",
     "output_type": "stream",
     "text": [
      "Optimizing:  72%|███████▏  | 362/500 [10:05<04:10,  1.81s/it, loss=868]"
     ]
    },
    {
     "name": "stdout",
     "output_type": "stream",
     "text": [
      "\n",
      "================================================================================================================\n",
      "loop_id:  362\n"
     ]
    },
    {
     "name": "stderr",
     "output_type": "stream",
     "text": [
      "Optimizing:  73%|███████▎  | 363/500 [10:07<04:05,  1.79s/it, loss=854]"
     ]
    },
    {
     "name": "stdout",
     "output_type": "stream",
     "text": [
      "\n",
      "================================================================================================================\n",
      "loop_id:  363\n"
     ]
    },
    {
     "name": "stderr",
     "output_type": "stream",
     "text": [
      "Optimizing:  73%|███████▎  | 364/500 [14:13<2:50:04, 75.03s/it, loss=841]"
     ]
    },
    {
     "name": "stdout",
     "output_type": "stream",
     "text": [
      "\n",
      "================================================================================================================\n",
      "loop_id:  364\n"
     ]
    },
    {
     "name": "stderr",
     "output_type": "stream",
     "text": [
      "Optimizing:  73%|███████▎  | 365/500 [14:15<1:59:46, 53.23s/it, loss=827]"
     ]
    },
    {
     "name": "stdout",
     "output_type": "stream",
     "text": [
      "\n",
      "================================================================================================================\n",
      "loop_id:  365\n"
     ]
    },
    {
     "name": "stderr",
     "output_type": "stream",
     "text": [
      "Optimizing:  73%|███████▎  | 366/500 [14:18<1:24:38, 37.90s/it, loss=814]"
     ]
    },
    {
     "name": "stdout",
     "output_type": "stream",
     "text": [
      "\n",
      "================================================================================================================\n",
      "loop_id:  366\n"
     ]
    },
    {
     "name": "stderr",
     "output_type": "stream",
     "text": [
      "Optimizing:  73%|███████▎  | 367/500 [14:20<1:00:14, 27.18s/it, loss=802]"
     ]
    },
    {
     "name": "stdout",
     "output_type": "stream",
     "text": [
      "\n",
      "================================================================================================================\n",
      "loop_id:  367\n"
     ]
    },
    {
     "name": "stderr",
     "output_type": "stream",
     "text": [
      "Optimizing:  74%|███████▎  | 368/500 [14:22<43:12, 19.64s/it, loss=789]  "
     ]
    },
    {
     "name": "stdout",
     "output_type": "stream",
     "text": [
      "\n",
      "================================================================================================================\n",
      "loop_id:  368\n"
     ]
    },
    {
     "name": "stderr",
     "output_type": "stream",
     "text": [
      "Optimizing:  74%|███████▍  | 369/500 [14:24<31:15, 14.32s/it, loss=777]"
     ]
    },
    {
     "name": "stdout",
     "output_type": "stream",
     "text": [
      "\n",
      "================================================================================================================\n",
      "loop_id:  369\n"
     ]
    },
    {
     "name": "stderr",
     "output_type": "stream",
     "text": [
      "Optimizing:  74%|███████▍  | 370/500 [14:25<22:52, 10.56s/it, loss=764]"
     ]
    },
    {
     "name": "stdout",
     "output_type": "stream",
     "text": [
      "\n",
      "================================================================================================================\n",
      "loop_id:  370\n"
     ]
    },
    {
     "name": "stderr",
     "output_type": "stream",
     "text": [
      "Optimizing:  74%|███████▍  | 371/500 [14:27<17:04,  7.94s/it, loss=752]"
     ]
    },
    {
     "name": "stdout",
     "output_type": "stream",
     "text": [
      "\n",
      "================================================================================================================\n",
      "loop_id:  371\n"
     ]
    },
    {
     "name": "stderr",
     "output_type": "stream",
     "text": [
      "Optimizing:  74%|███████▍  | 372/500 [14:29<12:58,  6.08s/it, loss=741]"
     ]
    },
    {
     "name": "stdout",
     "output_type": "stream",
     "text": [
      "\n",
      "================================================================================================================\n",
      "loop_id:  372\n"
     ]
    },
    {
     "name": "stderr",
     "output_type": "stream",
     "text": [
      "Optimizing:  75%|███████▍  | 373/500 [14:31<10:10,  4.81s/it, loss=729]"
     ]
    },
    {
     "name": "stdout",
     "output_type": "stream",
     "text": [
      "\n",
      "================================================================================================================\n",
      "loop_id:  373\n"
     ]
    },
    {
     "name": "stderr",
     "output_type": "stream",
     "text": [
      "Optimizing:  75%|███████▍  | 374/500 [14:33<08:07,  3.87s/it, loss=717]"
     ]
    },
    {
     "name": "stdout",
     "output_type": "stream",
     "text": [
      "\n",
      "================================================================================================================\n",
      "loop_id:  374\n"
     ]
    },
    {
     "name": "stderr",
     "output_type": "stream",
     "text": [
      "Optimizing:  75%|███████▌  | 375/500 [14:34<06:47,  3.26s/it, loss=706]"
     ]
    },
    {
     "name": "stdout",
     "output_type": "stream",
     "text": [
      "\n",
      "================================================================================================================\n",
      "loop_id:  375\n"
     ]
    },
    {
     "name": "stderr",
     "output_type": "stream",
     "text": [
      "Optimizing:  75%|███████▌  | 376/500 [14:36<05:43,  2.77s/it, loss=695]"
     ]
    },
    {
     "name": "stdout",
     "output_type": "stream",
     "text": [
      "\n",
      "================================================================================================================\n",
      "loop_id:  376\n"
     ]
    },
    {
     "name": "stderr",
     "output_type": "stream",
     "text": [
      "Optimizing:  75%|███████▌  | 377/500 [14:38<05:02,  2.46s/it, loss=684]"
     ]
    },
    {
     "name": "stdout",
     "output_type": "stream",
     "text": [
      "\n",
      "================================================================================================================\n",
      "loop_id:  377\n"
     ]
    },
    {
     "name": "stderr",
     "output_type": "stream",
     "text": [
      "Optimizing:  76%|███████▌  | 378/500 [14:39<04:30,  2.22s/it, loss=673]"
     ]
    },
    {
     "name": "stdout",
     "output_type": "stream",
     "text": [
      "\n",
      "================================================================================================================\n",
      "loop_id:  378\n"
     ]
    },
    {
     "name": "stderr",
     "output_type": "stream",
     "text": [
      "Optimizing:  76%|███████▌  | 379/500 [14:41<04:09,  2.07s/it, loss=663]"
     ]
    },
    {
     "name": "stdout",
     "output_type": "stream",
     "text": [
      "\n",
      "================================================================================================================\n",
      "loop_id:  379\n"
     ]
    },
    {
     "name": "stderr",
     "output_type": "stream",
     "text": [
      "Optimizing:  76%|███████▌  | 380/500 [14:43<03:53,  1.95s/it, loss=652]"
     ]
    },
    {
     "name": "stdout",
     "output_type": "stream",
     "text": [
      "\n",
      "================================================================================================================\n",
      "loop_id:  380\n"
     ]
    },
    {
     "name": "stderr",
     "output_type": "stream",
     "text": [
      "Optimizing:  76%|███████▌  | 381/500 [14:45<03:48,  1.92s/it, loss=642]"
     ]
    },
    {
     "name": "stdout",
     "output_type": "stream",
     "text": [
      "\n",
      "================================================================================================================\n",
      "loop_id:  381\n"
     ]
    },
    {
     "name": "stderr",
     "output_type": "stream",
     "text": [
      "Optimizing:  76%|███████▋  | 382/500 [14:46<03:38,  1.85s/it, loss=632]"
     ]
    },
    {
     "name": "stdout",
     "output_type": "stream",
     "text": [
      "\n",
      "================================================================================================================\n",
      "loop_id:  382\n"
     ]
    },
    {
     "name": "stderr",
     "output_type": "stream",
     "text": [
      "Optimizing:  77%|███████▋  | 383/500 [14:49<04:10,  2.14s/it, loss=622]"
     ]
    },
    {
     "name": "stdout",
     "output_type": "stream",
     "text": [
      "\n",
      "================================================================================================================\n",
      "loop_id:  383\n"
     ]
    },
    {
     "name": "stderr",
     "output_type": "stream",
     "text": [
      "Optimizing:  77%|███████▋  | 384/500 [14:51<03:55,  2.03s/it, loss=612]"
     ]
    },
    {
     "name": "stdout",
     "output_type": "stream",
     "text": [
      "\n",
      "================================================================================================================\n",
      "loop_id:  384\n"
     ]
    },
    {
     "name": "stderr",
     "output_type": "stream",
     "text": [
      "Optimizing:  77%|███████▋  | 385/500 [14:53<03:43,  1.94s/it, loss=602]"
     ]
    },
    {
     "name": "stdout",
     "output_type": "stream",
     "text": [
      "\n",
      "================================================================================================================\n",
      "loop_id:  385\n"
     ]
    },
    {
     "name": "stderr",
     "output_type": "stream",
     "text": [
      "Optimizing:  77%|███████▋  | 386/500 [14:54<03:34,  1.88s/it, loss=593]"
     ]
    },
    {
     "name": "stdout",
     "output_type": "stream",
     "text": [
      "\n",
      "================================================================================================================\n",
      "loop_id:  386\n"
     ]
    },
    {
     "name": "stderr",
     "output_type": "stream",
     "text": [
      "Optimizing:  77%|███████▋  | 387/500 [14:56<03:26,  1.83s/it, loss=584]"
     ]
    },
    {
     "name": "stdout",
     "output_type": "stream",
     "text": [
      "\n",
      "================================================================================================================\n",
      "loop_id:  387\n"
     ]
    },
    {
     "name": "stderr",
     "output_type": "stream",
     "text": [
      "Optimizing:  78%|███████▊  | 388/500 [14:58<03:24,  1.82s/it, loss=574]"
     ]
    },
    {
     "name": "stdout",
     "output_type": "stream",
     "text": [
      "\n",
      "================================================================================================================\n",
      "loop_id:  388\n"
     ]
    },
    {
     "name": "stderr",
     "output_type": "stream",
     "text": [
      "Optimizing:  78%|███████▊  | 389/500 [15:00<03:17,  1.78s/it, loss=565]"
     ]
    },
    {
     "name": "stdout",
     "output_type": "stream",
     "text": [
      "\n",
      "================================================================================================================\n",
      "loop_id:  389\n"
     ]
    },
    {
     "name": "stderr",
     "output_type": "stream",
     "text": [
      "Optimizing:  78%|███████▊  | 390/500 [15:01<03:16,  1.79s/it, loss=556]"
     ]
    },
    {
     "name": "stdout",
     "output_type": "stream",
     "text": [
      "\n",
      "================================================================================================================\n",
      "loop_id:  390\n"
     ]
    },
    {
     "name": "stderr",
     "output_type": "stream",
     "text": [
      "Optimizing:  78%|███████▊  | 391/500 [15:03<03:11,  1.75s/it, loss=547]"
     ]
    },
    {
     "name": "stdout",
     "output_type": "stream",
     "text": [
      "\n",
      "================================================================================================================\n",
      "loop_id:  391\n"
     ]
    },
    {
     "name": "stderr",
     "output_type": "stream",
     "text": [
      "Optimizing:  78%|███████▊  | 392/500 [15:05<03:10,  1.76s/it, loss=539]"
     ]
    },
    {
     "name": "stdout",
     "output_type": "stream",
     "text": [
      "\n",
      "================================================================================================================\n",
      "loop_id:  392\n"
     ]
    },
    {
     "name": "stderr",
     "output_type": "stream",
     "text": [
      "Optimizing:  79%|███████▊  | 393/500 [15:07<03:07,  1.75s/it, loss=530]"
     ]
    },
    {
     "name": "stdout",
     "output_type": "stream",
     "text": [
      "\n",
      "================================================================================================================\n",
      "loop_id:  393\n"
     ]
    },
    {
     "name": "stderr",
     "output_type": "stream",
     "text": [
      "Optimizing:  79%|███████▉  | 394/500 [15:08<03:11,  1.80s/it, loss=522]"
     ]
    },
    {
     "name": "stdout",
     "output_type": "stream",
     "text": [
      "\n",
      "================================================================================================================\n",
      "loop_id:  394\n"
     ]
    },
    {
     "name": "stderr",
     "output_type": "stream",
     "text": [
      "Optimizing:  79%|███████▉  | 395/500 [15:10<03:05,  1.76s/it, loss=514]"
     ]
    },
    {
     "name": "stdout",
     "output_type": "stream",
     "text": [
      "\n",
      "================================================================================================================\n",
      "loop_id:  395\n"
     ]
    },
    {
     "name": "stderr",
     "output_type": "stream",
     "text": [
      "Optimizing:  79%|███████▉  | 396/500 [15:12<03:04,  1.78s/it, loss=506]"
     ]
    },
    {
     "name": "stdout",
     "output_type": "stream",
     "text": [
      "\n",
      "================================================================================================================\n",
      "loop_id:  396\n"
     ]
    },
    {
     "name": "stderr",
     "output_type": "stream",
     "text": [
      "Optimizing:  79%|███████▉  | 397/500 [15:14<03:02,  1.77s/it, loss=497]"
     ]
    },
    {
     "name": "stdout",
     "output_type": "stream",
     "text": [
      "\n",
      "================================================================================================================\n",
      "loop_id:  397\n"
     ]
    },
    {
     "name": "stderr",
     "output_type": "stream",
     "text": [
      "Optimizing:  80%|███████▉  | 398/500 [15:16<03:01,  1.78s/it, loss=490]"
     ]
    },
    {
     "name": "stdout",
     "output_type": "stream",
     "text": [
      "\n",
      "================================================================================================================\n",
      "loop_id:  398\n"
     ]
    },
    {
     "name": "stderr",
     "output_type": "stream",
     "text": [
      "Optimizing:  80%|███████▉  | 399/500 [15:17<02:57,  1.76s/it, loss=482]"
     ]
    },
    {
     "name": "stdout",
     "output_type": "stream",
     "text": [
      "\n",
      "================================================================================================================\n",
      "loop_id:  399\n"
     ]
    },
    {
     "name": "stderr",
     "output_type": "stream",
     "text": [
      "Optimizing:  80%|████████  | 400/500 [15:19<02:58,  1.78s/it, loss=474]"
     ]
    },
    {
     "name": "stdout",
     "output_type": "stream",
     "text": [
      "\n",
      "================================================================================================================\n",
      "loop_id:  400\n"
     ]
    },
    {
     "name": "stderr",
     "output_type": "stream",
     "text": [
      "Optimizing:  80%|████████  | 401/500 [15:21<02:55,  1.77s/it, loss=467]"
     ]
    },
    {
     "name": "stdout",
     "output_type": "stream",
     "text": [
      "\n",
      "================================================================================================================\n",
      "loop_id:  401\n"
     ]
    },
    {
     "name": "stderr",
     "output_type": "stream",
     "text": [
      "Optimizing:  80%|████████  | 402/500 [15:23<02:54,  1.78s/it, loss=459]"
     ]
    },
    {
     "name": "stdout",
     "output_type": "stream",
     "text": [
      "\n",
      "================================================================================================================\n",
      "loop_id:  402\n"
     ]
    },
    {
     "name": "stderr",
     "output_type": "stream",
     "text": [
      "Optimizing:  81%|████████  | 403/500 [15:24<02:49,  1.75s/it, loss=452]"
     ]
    },
    {
     "name": "stdout",
     "output_type": "stream",
     "text": [
      "\n",
      "================================================================================================================\n",
      "loop_id:  403\n"
     ]
    },
    {
     "name": "stderr",
     "output_type": "stream",
     "text": [
      "Optimizing:  81%|████████  | 404/500 [15:26<02:49,  1.77s/it, loss=445]"
     ]
    },
    {
     "name": "stdout",
     "output_type": "stream",
     "text": [
      "\n",
      "================================================================================================================\n",
      "loop_id:  404\n"
     ]
    },
    {
     "name": "stderr",
     "output_type": "stream",
     "text": [
      "Optimizing:  81%|████████  | 405/500 [15:28<02:50,  1.80s/it, loss=438]"
     ]
    },
    {
     "name": "stdout",
     "output_type": "stream",
     "text": [
      "\n",
      "================================================================================================================\n",
      "loop_id:  405\n"
     ]
    },
    {
     "name": "stderr",
     "output_type": "stream",
     "text": [
      "Optimizing:  81%|████████  | 406/500 [15:30<02:50,  1.81s/it, loss=431]"
     ]
    },
    {
     "name": "stdout",
     "output_type": "stream",
     "text": [
      "\n",
      "================================================================================================================\n",
      "loop_id:  406\n"
     ]
    },
    {
     "name": "stderr",
     "output_type": "stream",
     "text": [
      "Optimizing:  81%|████████▏ | 407/500 [15:32<02:46,  1.79s/it, loss=424]"
     ]
    },
    {
     "name": "stdout",
     "output_type": "stream",
     "text": [
      "\n",
      "================================================================================================================\n",
      "loop_id:  407\n"
     ]
    },
    {
     "name": "stderr",
     "output_type": "stream",
     "text": [
      "Optimizing:  82%|████████▏ | 408/500 [15:33<02:42,  1.77s/it, loss=417]"
     ]
    },
    {
     "name": "stdout",
     "output_type": "stream",
     "text": [
      "\n",
      "================================================================================================================\n",
      "loop_id:  408\n"
     ]
    },
    {
     "name": "stderr",
     "output_type": "stream",
     "text": [
      "Optimizing:  82%|████████▏ | 409/500 [15:35<02:39,  1.75s/it, loss=410]"
     ]
    },
    {
     "name": "stdout",
     "output_type": "stream",
     "text": [
      "\n",
      "================================================================================================================\n",
      "loop_id:  409\n"
     ]
    },
    {
     "name": "stderr",
     "output_type": "stream",
     "text": [
      "Optimizing:  82%|████████▏ | 410/500 [15:37<02:38,  1.76s/it, loss=404]"
     ]
    },
    {
     "name": "stdout",
     "output_type": "stream",
     "text": [
      "\n",
      "================================================================================================================\n",
      "loop_id:  410\n"
     ]
    },
    {
     "name": "stderr",
     "output_type": "stream",
     "text": [
      "Optimizing:  82%|████████▏ | 411/500 [15:38<02:35,  1.74s/it, loss=397]"
     ]
    },
    {
     "name": "stdout",
     "output_type": "stream",
     "text": [
      "\n",
      "================================================================================================================\n",
      "loop_id:  411\n"
     ]
    },
    {
     "name": "stderr",
     "output_type": "stream",
     "text": [
      "Optimizing:  82%|████████▏ | 412/500 [15:40<02:35,  1.77s/it, loss=391]"
     ]
    },
    {
     "name": "stdout",
     "output_type": "stream",
     "text": [
      "\n",
      "================================================================================================================\n",
      "loop_id:  412\n"
     ]
    },
    {
     "name": "stderr",
     "output_type": "stream",
     "text": [
      "Optimizing:  83%|████████▎ | 413/500 [15:42<02:33,  1.76s/it, loss=385]"
     ]
    },
    {
     "name": "stdout",
     "output_type": "stream",
     "text": [
      "\n",
      "================================================================================================================\n",
      "loop_id:  413\n"
     ]
    },
    {
     "name": "stderr",
     "output_type": "stream",
     "text": [
      "Optimizing:  83%|████████▎ | 414/500 [15:44<02:34,  1.80s/it, loss=379]"
     ]
    },
    {
     "name": "stdout",
     "output_type": "stream",
     "text": [
      "\n",
      "================================================================================================================\n",
      "loop_id:  414\n"
     ]
    },
    {
     "name": "stderr",
     "output_type": "stream",
     "text": [
      "Optimizing:  83%|████████▎ | 415/500 [15:46<02:32,  1.79s/it, loss=373]"
     ]
    },
    {
     "name": "stdout",
     "output_type": "stream",
     "text": [
      "\n",
      "================================================================================================================\n",
      "loop_id:  415\n"
     ]
    },
    {
     "name": "stderr",
     "output_type": "stream",
     "text": [
      "Optimizing:  83%|████████▎ | 416/500 [15:48<02:32,  1.82s/it, loss=367]"
     ]
    },
    {
     "name": "stdout",
     "output_type": "stream",
     "text": [
      "\n",
      "================================================================================================================\n",
      "loop_id:  416\n"
     ]
    },
    {
     "name": "stderr",
     "output_type": "stream",
     "text": [
      "Optimizing:  83%|████████▎ | 417/500 [15:49<02:29,  1.80s/it, loss=361]"
     ]
    },
    {
     "name": "stdout",
     "output_type": "stream",
     "text": [
      "\n",
      "================================================================================================================\n",
      "loop_id:  417\n"
     ]
    },
    {
     "name": "stderr",
     "output_type": "stream",
     "text": [
      "Optimizing:  84%|████████▎ | 418/500 [15:51<02:33,  1.87s/it, loss=355]"
     ]
    },
    {
     "name": "stdout",
     "output_type": "stream",
     "text": [
      "\n",
      "================================================================================================================\n",
      "loop_id:  418\n"
     ]
    },
    {
     "name": "stderr",
     "output_type": "stream",
     "text": [
      "Optimizing:  84%|████████▍ | 419/500 [15:53<02:33,  1.90s/it, loss=349]"
     ]
    },
    {
     "name": "stdout",
     "output_type": "stream",
     "text": [
      "\n",
      "================================================================================================================\n",
      "loop_id:  419\n"
     ]
    },
    {
     "name": "stderr",
     "output_type": "stream",
     "text": [
      "Optimizing:  84%|████████▍ | 420/500 [15:55<02:28,  1.85s/it, loss=344]"
     ]
    },
    {
     "name": "stdout",
     "output_type": "stream",
     "text": [
      "\n",
      "================================================================================================================\n",
      "loop_id:  420\n"
     ]
    },
    {
     "name": "stderr",
     "output_type": "stream",
     "text": [
      "Optimizing:  84%|████████▍ | 421/500 [15:57<02:28,  1.88s/it, loss=338]"
     ]
    },
    {
     "name": "stdout",
     "output_type": "stream",
     "text": [
      "\n",
      "================================================================================================================\n",
      "loop_id:  421\n"
     ]
    },
    {
     "name": "stderr",
     "output_type": "stream",
     "text": [
      "Optimizing:  84%|████████▍ | 422/500 [15:59<02:24,  1.85s/it, loss=333]"
     ]
    },
    {
     "name": "stdout",
     "output_type": "stream",
     "text": [
      "\n",
      "================================================================================================================\n",
      "loop_id:  422\n"
     ]
    },
    {
     "name": "stderr",
     "output_type": "stream",
     "text": [
      "Optimizing:  85%|████████▍ | 423/500 [16:01<02:22,  1.85s/it, loss=327]"
     ]
    },
    {
     "name": "stdout",
     "output_type": "stream",
     "text": [
      "\n",
      "================================================================================================================\n",
      "loop_id:  423\n"
     ]
    },
    {
     "name": "stderr",
     "output_type": "stream",
     "text": [
      "Optimizing:  85%|████████▍ | 424/500 [16:02<02:16,  1.80s/it, loss=322]"
     ]
    },
    {
     "name": "stdout",
     "output_type": "stream",
     "text": [
      "\n",
      "================================================================================================================\n",
      "loop_id:  424\n"
     ]
    },
    {
     "name": "stderr",
     "output_type": "stream",
     "text": [
      "Optimizing:  85%|████████▌ | 425/500 [16:04<02:13,  1.78s/it, loss=317]"
     ]
    },
    {
     "name": "stdout",
     "output_type": "stream",
     "text": [
      "\n",
      "================================================================================================================\n",
      "loop_id:  425\n"
     ]
    },
    {
     "name": "stderr",
     "output_type": "stream",
     "text": [
      "Optimizing:  85%|████████▌ | 426/500 [16:06<02:09,  1.74s/it, loss=312]"
     ]
    },
    {
     "name": "stdout",
     "output_type": "stream",
     "text": [
      "\n",
      "================================================================================================================\n",
      "loop_id:  426\n"
     ]
    },
    {
     "name": "stderr",
     "output_type": "stream",
     "text": [
      "Optimizing:  85%|████████▌ | 427/500 [16:07<02:06,  1.73s/it, loss=307]"
     ]
    },
    {
     "name": "stdout",
     "output_type": "stream",
     "text": [
      "\n",
      "================================================================================================================\n",
      "loop_id:  427\n"
     ]
    },
    {
     "name": "stderr",
     "output_type": "stream",
     "text": [
      "Optimizing:  86%|████████▌ | 428/500 [16:09<02:04,  1.73s/it, loss=302]"
     ]
    },
    {
     "name": "stdout",
     "output_type": "stream",
     "text": [
      "\n",
      "================================================================================================================\n",
      "loop_id:  428\n"
     ]
    },
    {
     "name": "stderr",
     "output_type": "stream",
     "text": [
      "Optimizing:  86%|████████▌ | 429/500 [16:12<02:22,  2.00s/it, loss=297]"
     ]
    },
    {
     "name": "stdout",
     "output_type": "stream",
     "text": [
      "\n",
      "================================================================================================================\n",
      "loop_id:  429\n"
     ]
    },
    {
     "name": "stderr",
     "output_type": "stream",
     "text": [
      "Optimizing:  86%|████████▌ | 430/500 [16:14<02:14,  1.92s/it, loss=292]"
     ]
    },
    {
     "name": "stdout",
     "output_type": "stream",
     "text": [
      "\n",
      "================================================================================================================\n",
      "loop_id:  430\n"
     ]
    },
    {
     "name": "stderr",
     "output_type": "stream",
     "text": [
      "Optimizing:  86%|████████▌ | 431/500 [16:15<02:09,  1.88s/it, loss=288]"
     ]
    },
    {
     "name": "stdout",
     "output_type": "stream",
     "text": [
      "\n",
      "================================================================================================================\n",
      "loop_id:  431\n"
     ]
    },
    {
     "name": "stderr",
     "output_type": "stream",
     "text": [
      "Optimizing:  86%|████████▋ | 432/500 [16:17<02:03,  1.81s/it, loss=283]"
     ]
    },
    {
     "name": "stdout",
     "output_type": "stream",
     "text": [
      "\n",
      "================================================================================================================\n",
      "loop_id:  432\n"
     ]
    },
    {
     "name": "stderr",
     "output_type": "stream",
     "text": [
      "Optimizing:  87%|████████▋ | 433/500 [16:19<02:03,  1.85s/it, loss=278]"
     ]
    },
    {
     "name": "stdout",
     "output_type": "stream",
     "text": [
      "\n",
      "================================================================================================================\n",
      "loop_id:  433\n"
     ]
    },
    {
     "name": "stderr",
     "output_type": "stream",
     "text": [
      "Optimizing:  87%|████████▋ | 434/500 [16:21<01:58,  1.80s/it, loss=274]"
     ]
    },
    {
     "name": "stdout",
     "output_type": "stream",
     "text": [
      "\n",
      "================================================================================================================\n",
      "loop_id:  434\n"
     ]
    },
    {
     "name": "stderr",
     "output_type": "stream",
     "text": [
      "Optimizing:  87%|████████▋ | 435/500 [16:22<01:56,  1.79s/it, loss=269]"
     ]
    },
    {
     "name": "stdout",
     "output_type": "stream",
     "text": [
      "\n",
      "================================================================================================================\n",
      "loop_id:  435\n"
     ]
    },
    {
     "name": "stderr",
     "output_type": "stream",
     "text": [
      "Optimizing:  87%|████████▋ | 436/500 [16:24<01:54,  1.79s/it, loss=265]"
     ]
    },
    {
     "name": "stdout",
     "output_type": "stream",
     "text": [
      "\n",
      "================================================================================================================\n",
      "loop_id:  436\n"
     ]
    },
    {
     "name": "stderr",
     "output_type": "stream",
     "text": [
      "Optimizing:  87%|████████▋ | 437/500 [16:26<01:52,  1.78s/it, loss=261]"
     ]
    },
    {
     "name": "stdout",
     "output_type": "stream",
     "text": [
      "\n",
      "================================================================================================================\n",
      "loop_id:  437\n"
     ]
    },
    {
     "name": "stderr",
     "output_type": "stream",
     "text": [
      "Optimizing:  88%|████████▊ | 438/500 [16:28<01:48,  1.74s/it, loss=257]"
     ]
    },
    {
     "name": "stdout",
     "output_type": "stream",
     "text": [
      "\n",
      "================================================================================================================\n",
      "loop_id:  438\n"
     ]
    },
    {
     "name": "stderr",
     "output_type": "stream",
     "text": [
      "Optimizing:  88%|████████▊ | 439/500 [16:29<01:48,  1.78s/it, loss=252]"
     ]
    },
    {
     "name": "stdout",
     "output_type": "stream",
     "text": [
      "\n",
      "================================================================================================================\n",
      "loop_id:  439\n"
     ]
    },
    {
     "name": "stderr",
     "output_type": "stream",
     "text": [
      "Optimizing:  88%|████████▊ | 440/500 [16:31<01:44,  1.73s/it, loss=248]"
     ]
    },
    {
     "name": "stdout",
     "output_type": "stream",
     "text": [
      "\n",
      "================================================================================================================\n",
      "loop_id:  440\n"
     ]
    },
    {
     "name": "stderr",
     "output_type": "stream",
     "text": [
      "Optimizing:  88%|████████▊ | 441/500 [16:33<01:42,  1.74s/it, loss=244]"
     ]
    },
    {
     "name": "stdout",
     "output_type": "stream",
     "text": [
      "\n",
      "================================================================================================================\n",
      "loop_id:  441\n"
     ]
    },
    {
     "name": "stderr",
     "output_type": "stream",
     "text": [
      "Optimizing:  88%|████████▊ | 442/500 [16:35<01:40,  1.73s/it, loss=240]"
     ]
    },
    {
     "name": "stdout",
     "output_type": "stream",
     "text": [
      "\n",
      "================================================================================================================\n",
      "loop_id:  442\n"
     ]
    },
    {
     "name": "stderr",
     "output_type": "stream",
     "text": [
      "Optimizing:  89%|████████▊ | 443/500 [16:36<01:39,  1.74s/it, loss=236]"
     ]
    },
    {
     "name": "stdout",
     "output_type": "stream",
     "text": [
      "\n",
      "================================================================================================================\n",
      "loop_id:  443\n"
     ]
    },
    {
     "name": "stderr",
     "output_type": "stream",
     "text": [
      "Optimizing:  89%|████████▉ | 444/500 [16:38<01:38,  1.76s/it, loss=233]"
     ]
    },
    {
     "name": "stdout",
     "output_type": "stream",
     "text": [
      "\n",
      "================================================================================================================\n",
      "loop_id:  444\n"
     ]
    },
    {
     "name": "stderr",
     "output_type": "stream",
     "text": [
      "Optimizing:  89%|████████▉ | 445/500 [16:40<01:37,  1.77s/it, loss=229]"
     ]
    },
    {
     "name": "stdout",
     "output_type": "stream",
     "text": [
      "\n",
      "================================================================================================================\n",
      "loop_id:  445\n"
     ]
    },
    {
     "name": "stderr",
     "output_type": "stream",
     "text": [
      "Optimizing:  89%|████████▉ | 446/500 [16:42<01:34,  1.74s/it, loss=225]"
     ]
    },
    {
     "name": "stdout",
     "output_type": "stream",
     "text": [
      "\n",
      "================================================================================================================\n",
      "loop_id:  446\n"
     ]
    },
    {
     "name": "stderr",
     "output_type": "stream",
     "text": [
      "Optimizing:  89%|████████▉ | 447/500 [16:43<01:32,  1.75s/it, loss=221]"
     ]
    },
    {
     "name": "stdout",
     "output_type": "stream",
     "text": [
      "\n",
      "================================================================================================================\n",
      "loop_id:  447\n"
     ]
    },
    {
     "name": "stderr",
     "output_type": "stream",
     "text": [
      "Optimizing:  90%|████████▉ | 448/500 [16:45<01:30,  1.74s/it, loss=218]"
     ]
    },
    {
     "name": "stdout",
     "output_type": "stream",
     "text": [
      "\n",
      "================================================================================================================\n",
      "loop_id:  448\n"
     ]
    },
    {
     "name": "stderr",
     "output_type": "stream",
     "text": [
      "Optimizing:  90%|████████▉ | 449/500 [16:47<01:28,  1.74s/it, loss=214]"
     ]
    },
    {
     "name": "stdout",
     "output_type": "stream",
     "text": [
      "\n",
      "================================================================================================================\n",
      "loop_id:  449\n"
     ]
    },
    {
     "name": "stderr",
     "output_type": "stream",
     "text": [
      "Optimizing:  90%|█████████ | 450/500 [16:49<01:27,  1.74s/it, loss=211]"
     ]
    },
    {
     "name": "stdout",
     "output_type": "stream",
     "text": [
      "\n",
      "================================================================================================================\n",
      "loop_id:  450\n"
     ]
    },
    {
     "name": "stderr",
     "output_type": "stream",
     "text": [
      "Optimizing:  90%|█████████ | 451/500 [16:50<01:26,  1.77s/it, loss=207]"
     ]
    },
    {
     "name": "stdout",
     "output_type": "stream",
     "text": [
      "\n",
      "================================================================================================================\n",
      "loop_id:  451\n"
     ]
    },
    {
     "name": "stderr",
     "output_type": "stream",
     "text": [
      "Optimizing:  90%|█████████ | 452/500 [16:52<01:23,  1.73s/it, loss=204]"
     ]
    },
    {
     "name": "stdout",
     "output_type": "stream",
     "text": [
      "\n",
      "================================================================================================================\n",
      "loop_id:  452\n"
     ]
    },
    {
     "name": "stderr",
     "output_type": "stream",
     "text": [
      "Optimizing:  91%|█████████ | 453/500 [16:54<01:22,  1.76s/it, loss=200]"
     ]
    },
    {
     "name": "stdout",
     "output_type": "stream",
     "text": [
      "\n",
      "================================================================================================================\n",
      "loop_id:  453\n"
     ]
    },
    {
     "name": "stderr",
     "output_type": "stream",
     "text": [
      "Optimizing:  91%|█████████ | 454/500 [16:56<01:20,  1.75s/it, loss=197]"
     ]
    },
    {
     "name": "stdout",
     "output_type": "stream",
     "text": [
      "\n",
      "================================================================================================================\n",
      "loop_id:  454\n"
     ]
    },
    {
     "name": "stderr",
     "output_type": "stream",
     "text": [
      "Optimizing:  91%|█████████ | 455/500 [16:57<01:18,  1.74s/it, loss=194]"
     ]
    },
    {
     "name": "stdout",
     "output_type": "stream",
     "text": [
      "\n",
      "================================================================================================================\n",
      "loop_id:  455\n"
     ]
    },
    {
     "name": "stderr",
     "output_type": "stream",
     "text": [
      "Optimizing:  91%|█████████ | 456/500 [16:59<01:15,  1.73s/it, loss=191]"
     ]
    },
    {
     "name": "stdout",
     "output_type": "stream",
     "text": [
      "\n",
      "================================================================================================================\n",
      "loop_id:  456\n"
     ]
    },
    {
     "name": "stderr",
     "output_type": "stream",
     "text": [
      "Optimizing:  91%|█████████▏| 457/500 [17:01<01:14,  1.74s/it, loss=188]"
     ]
    },
    {
     "name": "stdout",
     "output_type": "stream",
     "text": [
      "\n",
      "================================================================================================================\n",
      "loop_id:  457\n"
     ]
    },
    {
     "name": "stderr",
     "output_type": "stream",
     "text": [
      "Optimizing:  92%|█████████▏| 458/500 [17:02<01:12,  1.72s/it, loss=185]"
     ]
    },
    {
     "name": "stdout",
     "output_type": "stream",
     "text": [
      "\n",
      "================================================================================================================\n",
      "loop_id:  458\n"
     ]
    },
    {
     "name": "stderr",
     "output_type": "stream",
     "text": [
      "Optimizing:  92%|█████████▏| 459/500 [17:04<01:11,  1.75s/it, loss=181]"
     ]
    },
    {
     "name": "stdout",
     "output_type": "stream",
     "text": [
      "\n",
      "================================================================================================================\n",
      "loop_id:  459\n"
     ]
    },
    {
     "name": "stderr",
     "output_type": "stream",
     "text": [
      "Optimizing:  92%|█████████▏| 460/500 [17:06<01:09,  1.74s/it, loss=179]"
     ]
    },
    {
     "name": "stdout",
     "output_type": "stream",
     "text": [
      "\n",
      "================================================================================================================\n",
      "loop_id:  460\n"
     ]
    },
    {
     "name": "stderr",
     "output_type": "stream",
     "text": [
      "Optimizing:  92%|█████████▏| 461/500 [17:08<01:07,  1.74s/it, loss=176]"
     ]
    },
    {
     "name": "stdout",
     "output_type": "stream",
     "text": [
      "\n",
      "================================================================================================================\n",
      "loop_id:  461\n"
     ]
    },
    {
     "name": "stderr",
     "output_type": "stream",
     "text": [
      "Optimizing:  92%|█████████▏| 462/500 [17:09<01:05,  1.72s/it, loss=173]"
     ]
    },
    {
     "name": "stdout",
     "output_type": "stream",
     "text": [
      "\n",
      "================================================================================================================\n",
      "loop_id:  462\n"
     ]
    },
    {
     "name": "stderr",
     "output_type": "stream",
     "text": [
      "Optimizing:  93%|█████████▎| 463/500 [17:11<01:04,  1.73s/it, loss=170]"
     ]
    },
    {
     "name": "stdout",
     "output_type": "stream",
     "text": [
      "\n",
      "================================================================================================================\n",
      "loop_id:  463\n"
     ]
    },
    {
     "name": "stderr",
     "output_type": "stream",
     "text": [
      "Optimizing:  93%|█████████▎| 464/500 [17:13<01:02,  1.73s/it, loss=167]"
     ]
    },
    {
     "name": "stdout",
     "output_type": "stream",
     "text": [
      "\n",
      "================================================================================================================\n",
      "loop_id:  464\n"
     ]
    },
    {
     "name": "stderr",
     "output_type": "stream",
     "text": [
      "Optimizing:  93%|█████████▎| 465/500 [17:15<01:03,  1.82s/it, loss=164]"
     ]
    },
    {
     "name": "stdout",
     "output_type": "stream",
     "text": [
      "\n",
      "================================================================================================================\n",
      "loop_id:  465\n"
     ]
    },
    {
     "name": "stderr",
     "output_type": "stream",
     "text": [
      "Optimizing:  93%|█████████▎| 466/500 [17:17<01:01,  1.81s/it, loss=162]"
     ]
    },
    {
     "name": "stdout",
     "output_type": "stream",
     "text": [
      "\n",
      "================================================================================================================\n",
      "loop_id:  466\n"
     ]
    },
    {
     "name": "stderr",
     "output_type": "stream",
     "text": [
      "Optimizing:  93%|█████████▎| 467/500 [17:18<00:59,  1.80s/it, loss=159]"
     ]
    },
    {
     "name": "stdout",
     "output_type": "stream",
     "text": [
      "\n",
      "================================================================================================================\n",
      "loop_id:  467\n"
     ]
    },
    {
     "name": "stderr",
     "output_type": "stream",
     "text": [
      "Optimizing:  94%|█████████▎| 468/500 [17:20<00:56,  1.76s/it, loss=156]"
     ]
    },
    {
     "name": "stdout",
     "output_type": "stream",
     "text": [
      "\n",
      "================================================================================================================\n",
      "loop_id:  468\n"
     ]
    },
    {
     "name": "stderr",
     "output_type": "stream",
     "text": [
      "Optimizing:  94%|█████████▍| 469/500 [17:22<00:54,  1.76s/it, loss=154]"
     ]
    },
    {
     "name": "stdout",
     "output_type": "stream",
     "text": [
      "\n",
      "================================================================================================================\n",
      "loop_id:  469\n"
     ]
    },
    {
     "name": "stderr",
     "output_type": "stream",
     "text": [
      "Optimizing:  94%|█████████▍| 470/500 [17:24<00:52,  1.74s/it, loss=151]"
     ]
    },
    {
     "name": "stdout",
     "output_type": "stream",
     "text": [
      "\n",
      "================================================================================================================\n",
      "loop_id:  470\n"
     ]
    },
    {
     "name": "stderr",
     "output_type": "stream",
     "text": [
      "Optimizing:  94%|█████████▍| 471/500 [17:25<00:50,  1.73s/it, loss=149]"
     ]
    },
    {
     "name": "stdout",
     "output_type": "stream",
     "text": [
      "\n",
      "================================================================================================================\n",
      "loop_id:  471\n"
     ]
    },
    {
     "name": "stderr",
     "output_type": "stream",
     "text": [
      "Optimizing:  94%|█████████▍| 472/500 [17:27<00:48,  1.74s/it, loss=146]"
     ]
    },
    {
     "name": "stdout",
     "output_type": "stream",
     "text": [
      "\n",
      "================================================================================================================\n",
      "loop_id:  472\n"
     ]
    },
    {
     "name": "stderr",
     "output_type": "stream",
     "text": [
      "Optimizing:  95%|█████████▍| 473/500 [17:29<00:47,  1.76s/it, loss=144]"
     ]
    },
    {
     "name": "stdout",
     "output_type": "stream",
     "text": [
      "\n",
      "================================================================================================================\n",
      "loop_id:  473\n"
     ]
    },
    {
     "name": "stderr",
     "output_type": "stream",
     "text": [
      "Optimizing:  95%|█████████▍| 474/500 [17:31<00:45,  1.75s/it, loss=141]"
     ]
    },
    {
     "name": "stdout",
     "output_type": "stream",
     "text": [
      "\n",
      "================================================================================================================\n",
      "loop_id:  474\n"
     ]
    },
    {
     "name": "stderr",
     "output_type": "stream",
     "text": [
      "Optimizing:  95%|█████████▌| 475/500 [17:32<00:43,  1.75s/it, loss=139]"
     ]
    },
    {
     "name": "stdout",
     "output_type": "stream",
     "text": [
      "\n",
      "================================================================================================================\n",
      "loop_id:  475\n"
     ]
    },
    {
     "name": "stderr",
     "output_type": "stream",
     "text": [
      "Optimizing:  95%|█████████▌| 476/500 [17:34<00:41,  1.75s/it, loss=137]"
     ]
    },
    {
     "name": "stdout",
     "output_type": "stream",
     "text": [
      "\n",
      "================================================================================================================\n",
      "loop_id:  476\n"
     ]
    },
    {
     "name": "stderr",
     "output_type": "stream",
     "text": [
      "Optimizing:  95%|█████████▌| 477/500 [17:37<00:47,  2.05s/it, loss=134]"
     ]
    },
    {
     "name": "stdout",
     "output_type": "stream",
     "text": [
      "\n",
      "================================================================================================================\n",
      "loop_id:  477\n"
     ]
    },
    {
     "name": "stderr",
     "output_type": "stream",
     "text": [
      "Optimizing:  96%|█████████▌| 478/500 [17:39<00:43,  1.96s/it, loss=132]"
     ]
    },
    {
     "name": "stdout",
     "output_type": "stream",
     "text": [
      "\n",
      "================================================================================================================\n",
      "loop_id:  478\n"
     ]
    },
    {
     "name": "stderr",
     "output_type": "stream",
     "text": [
      "Optimizing:  96%|█████████▌| 479/500 [17:40<00:39,  1.90s/it, loss=130]"
     ]
    },
    {
     "name": "stdout",
     "output_type": "stream",
     "text": [
      "\n",
      "================================================================================================================\n",
      "loop_id:  479\n"
     ]
    },
    {
     "name": "stderr",
     "output_type": "stream",
     "text": [
      "Optimizing:  96%|█████████▌| 480/500 [17:42<00:36,  1.82s/it, loss=128]"
     ]
    },
    {
     "name": "stdout",
     "output_type": "stream",
     "text": [
      "\n",
      "================================================================================================================\n",
      "loop_id:  480\n"
     ]
    },
    {
     "name": "stderr",
     "output_type": "stream",
     "text": [
      "Optimizing:  96%|█████████▌| 481/500 [17:44<00:34,  1.81s/it, loss=126]"
     ]
    },
    {
     "name": "stdout",
     "output_type": "stream",
     "text": [
      "\n",
      "================================================================================================================\n",
      "loop_id:  481\n"
     ]
    },
    {
     "name": "stderr",
     "output_type": "stream",
     "text": [
      "Optimizing:  96%|█████████▋| 482/500 [17:46<00:32,  1.81s/it, loss=123]"
     ]
    },
    {
     "name": "stdout",
     "output_type": "stream",
     "text": [
      "\n",
      "================================================================================================================\n",
      "loop_id:  482\n"
     ]
    },
    {
     "name": "stderr",
     "output_type": "stream",
     "text": [
      "Optimizing:  97%|█████████▋| 483/500 [17:48<00:33,  1.98s/it, loss=121]"
     ]
    },
    {
     "name": "stdout",
     "output_type": "stream",
     "text": [
      "\n",
      "================================================================================================================\n",
      "loop_id:  483\n"
     ]
    },
    {
     "name": "stderr",
     "output_type": "stream",
     "text": [
      "Optimizing:  97%|█████████▋| 484/500 [17:50<00:31,  1.99s/it, loss=119]"
     ]
    },
    {
     "name": "stdout",
     "output_type": "stream",
     "text": [
      "\n",
      "================================================================================================================\n",
      "loop_id:  484\n"
     ]
    },
    {
     "name": "stderr",
     "output_type": "stream",
     "text": [
      "Optimizing:  97%|█████████▋| 485/500 [17:52<00:30,  2.01s/it, loss=117]"
     ]
    },
    {
     "name": "stdout",
     "output_type": "stream",
     "text": [
      "\n",
      "================================================================================================================\n",
      "loop_id:  485\n"
     ]
    },
    {
     "name": "stderr",
     "output_type": "stream",
     "text": [
      "Optimizing:  97%|█████████▋| 486/500 [17:54<00:27,  1.96s/it, loss=115]"
     ]
    },
    {
     "name": "stdout",
     "output_type": "stream",
     "text": [
      "\n",
      "================================================================================================================\n",
      "loop_id:  486\n"
     ]
    },
    {
     "name": "stderr",
     "output_type": "stream",
     "text": [
      "Optimizing:  97%|█████████▋| 487/500 [17:56<00:24,  1.89s/it, loss=113]"
     ]
    },
    {
     "name": "stdout",
     "output_type": "stream",
     "text": [
      "\n",
      "================================================================================================================\n",
      "loop_id:  487\n"
     ]
    },
    {
     "name": "stderr",
     "output_type": "stream",
     "text": [
      "Optimizing:  98%|█████████▊| 488/500 [17:57<00:22,  1.88s/it, loss=111]"
     ]
    },
    {
     "name": "stdout",
     "output_type": "stream",
     "text": [
      "\n",
      "================================================================================================================\n",
      "loop_id:  488\n"
     ]
    },
    {
     "name": "stderr",
     "output_type": "stream",
     "text": [
      "Optimizing:  98%|█████████▊| 489/500 [17:59<00:20,  1.86s/it, loss=110]"
     ]
    },
    {
     "name": "stdout",
     "output_type": "stream",
     "text": [
      "\n",
      "================================================================================================================\n",
      "loop_id:  489\n"
     ]
    },
    {
     "name": "stderr",
     "output_type": "stream",
     "text": [
      "Optimizing:  98%|█████████▊| 490/500 [18:01<00:18,  1.87s/it, loss=108]"
     ]
    },
    {
     "name": "stdout",
     "output_type": "stream",
     "text": [
      "\n",
      "================================================================================================================\n",
      "loop_id:  490\n"
     ]
    },
    {
     "name": "stderr",
     "output_type": "stream",
     "text": [
      "Optimizing:  98%|█████████▊| 491/500 [18:03<00:16,  1.81s/it, loss=106]"
     ]
    },
    {
     "name": "stdout",
     "output_type": "stream",
     "text": [
      "\n",
      "================================================================================================================\n",
      "loop_id:  491\n"
     ]
    },
    {
     "name": "stderr",
     "output_type": "stream",
     "text": [
      "Optimizing:  98%|█████████▊| 492/500 [18:05<00:14,  1.86s/it, loss=104]"
     ]
    },
    {
     "name": "stdout",
     "output_type": "stream",
     "text": [
      "\n",
      "================================================================================================================\n",
      "loop_id:  492\n"
     ]
    },
    {
     "name": "stderr",
     "output_type": "stream",
     "text": [
      "Optimizing:  99%|█████████▊| 493/500 [18:07<00:12,  1.83s/it, loss=102]"
     ]
    },
    {
     "name": "stdout",
     "output_type": "stream",
     "text": [
      "\n",
      "================================================================================================================\n",
      "loop_id:  493\n"
     ]
    },
    {
     "name": "stderr",
     "output_type": "stream",
     "text": [
      "Optimizing:  99%|█████████▉| 494/500 [18:08<00:11,  1.84s/it, loss=101]"
     ]
    },
    {
     "name": "stdout",
     "output_type": "stream",
     "text": [
      "\n",
      "================================================================================================================\n",
      "loop_id:  494\n"
     ]
    },
    {
     "name": "stderr",
     "output_type": "stream",
     "text": [
      "Optimizing:  99%|█████████▉| 495/500 [18:10<00:09,  1.85s/it, loss=98.9]"
     ]
    },
    {
     "name": "stdout",
     "output_type": "stream",
     "text": [
      "\n",
      "================================================================================================================\n",
      "loop_id:  495\n"
     ]
    },
    {
     "name": "stderr",
     "output_type": "stream",
     "text": [
      "Optimizing:  99%|█████████▉| 496/500 [18:12<00:07,  1.81s/it, loss=97.2]"
     ]
    },
    {
     "name": "stdout",
     "output_type": "stream",
     "text": [
      "\n",
      "================================================================================================================\n",
      "loop_id:  496\n"
     ]
    },
    {
     "name": "stderr",
     "output_type": "stream",
     "text": [
      "Optimizing:  99%|█████████▉| 497/500 [18:14<00:05,  1.81s/it, loss=95.6]"
     ]
    },
    {
     "name": "stdout",
     "output_type": "stream",
     "text": [
      "\n",
      "================================================================================================================\n",
      "loop_id:  497\n"
     ]
    },
    {
     "name": "stderr",
     "output_type": "stream",
     "text": [
      "Optimizing: 100%|█████████▉| 498/500 [18:16<00:03,  1.80s/it, loss=94]  "
     ]
    },
    {
     "name": "stdout",
     "output_type": "stream",
     "text": [
      "\n",
      "================================================================================================================\n",
      "loop_id:  498\n"
     ]
    },
    {
     "name": "stderr",
     "output_type": "stream",
     "text": [
      "Optimizing: 100%|█████████▉| 499/500 [18:17<00:01,  1.81s/it, loss=92.4]"
     ]
    },
    {
     "name": "stdout",
     "output_type": "stream",
     "text": [
      "\n",
      "================================================================================================================\n",
      "loop_id:  499\n"
     ]
    },
    {
     "name": "stderr",
     "output_type": "stream",
     "text": [
      "Optimizing: 100%|██████████| 500/500 [18:19<00:00,  2.20s/it, loss=90.8]"
     ]
    },
    {
     "name": "stdout",
     "output_type": "stream",
     "text": [
      "Saved para_init to para_init.npy\n"
     ]
    },
    {
     "name": "stderr",
     "output_type": "stream",
     "text": [
      "\n"
     ]
    }
   ],
   "source": [
    "\n",
    "if __name__ == '__main__':\n",
    "    '''\n",
    "    Main function to set up optimzer model and run the optimization loop\n",
    "    '''\n",
    "\n",
    "    ###========================================================\n",
    "    ### 1) SET TO GPU OR CPU COMPUTING\n",
    "    ###========================================================\n",
    "    if torch.cuda.is_available():\n",
    "        gpu_or_cpu = torch.device(\"cuda:0\") \n",
    "        torch.cuda.set_device(gpu_or_cpu)\n",
    "    else:\n",
    "        gpu_or_cpu = torch.device(\"cpu\")\n",
    "\n",
    "    ###========================================================\n",
    "    ### 2) VARIABLES FOR BEZIER CURVE CONSTRUCTION\n",
    "    ###========================================================\n",
    "    # para_init = torch.tensor([0.02, 0.002, 0.0, 0.01958988, 0.00195899, 0.09690406, -0.03142905, -0.0031429, 0.18200866], dtype=torch.float)\n",
    "    # p_start = torch.tensor([0.02, 0.002, 0.0])\n",
    "\n",
    "\n",
    "    # Z axis + 0.1\n",
    "    # para_init = torch.tensor([0.02, 0.002, 0.1, 0.01958988, 0.00195899, 0.09690406, -0.03142905, -0.0031429, 0.18200866], dtype=torch.float)\n",
    "    # p_start = torch.tensor([0.02, 0.002, 0.1000])\n",
    "        \n",
    "    \n",
    "\n",
    "    # p_start and para_init used for SRC presentation\n",
    "    # ground truth: [2.15634587e-02 -6.05764476e-04  5.16317712e-01  1.65068886e-01 -2.39781477e-01  9.49010349e-01]\n",
    "    p_start = torch.tensor([0.02, 0.002, 0.000001]) # 0 here will cause NaN in draw2DCylinderImage, pTip\n",
    "    \n",
    "    # para_init = np.array([0.034, -0.003, 0.526, 0.13, -0.24, 0.6],\n",
    "    #                  dtype=np.float32) #1\n",
    "    para_init = np.array([0.034, -0.01, 0.536, 0.2, -0.37, 0.6],\n",
    "                     dtype=np.float32)\n",
    "\n",
    "    case_naming = 'E:/OneDrive - UC San Diego/UCSD/Lab/Catheter/diff_catheter/scripts/test_diff_render_catheter_v2/gt_dataset3/gt_6_0.0006_-0.0010_0.2_0.01'\n",
    "    img_save_path = case_naming + '.png'\n",
    "    cc_specs_path = case_naming + '.npy'\n",
    "    target_specs_path = None\n",
    "    viewpoint_mode = 1\n",
    "    transparent_mode = 0\n",
    "\n",
    "    '''\n",
    "    Create binary mask of catheter: \n",
    "        1) Grayscale the ref img, \n",
    "        2) threshold the grayscaled img, \n",
    "        3) Creates a binary image by replacing all \n",
    "            pixel values equal to 255 with 1 (leaves\n",
    "            other pixel values unchanged)\n",
    "    '''\n",
    "    img_ref_binary = process_image(img_save_path)\n",
    "\n",
    "    # Declare loss history lists to keep track of loss values\n",
    "    proj_end_effector_loss_history = []\n",
    "    d3d_end_effector_loss_history = []\n",
    "    # Ground Truth parameters for catheter used in SRC presentation\n",
    "    para_gt_np = read_gt_params(cc_specs_path)\n",
    "    para_gt = torch.tensor(para_gt_np, dtype=torch.float, device=gpu_or_cpu, requires_grad=False)\n",
    "    end_effector_gt = para_gt[3:6]\n",
    "    \n",
    "    folder_path = 'E:/OneDrive - UC San Diego/UCSD/Lab/Catheter/diff_catheter/scripts/test_diff_render_catheter_v2/gt_dataset3/'\n",
    "    image_save_path_list = [\n",
    "    folder_path + 'gt_5_0.0006_-0.0008_0.2_0.01.png',\n",
    "    folder_path + 'gt_4_0.0006_-0.0006_0.2_0.01.png',\n",
    "    folder_path + 'gt_3_0.0006_-0.0004_0.2_0.01.png',\n",
    "    folder_path + 'gt_2_0.0006_-0.0002_0.2_0.01.png'\n",
    "    ]\n",
    "    \n",
    "    past_frames_list = []\n",
    "    for path in image_save_path_list:\n",
    "        past_frames_list.append(process_image(path))\n",
    "    \n",
    "    # delta_u_list = [[0, -0.0002], [0, -0.0002], [0, -0.0002], [0, -0.0002]]\n",
    "    delta_u_list = torch.tensor([[0, -0.0002], [0, -0.0002], [0, -0.0002], [0, -0.0002]])\n",
    "\n",
    "    \n",
    "\n",
    "\n",
    "    ###========================================================\n",
    "    ### 3) SET UP AND RUN OPTIMIZATION MODEL\n",
    "    ###========================================================\n",
    "    catheter_optimize_model = ReconstructionOptimizer(p_start, para_init, img_ref_binary, gpu_or_cpu, past_frames_list, delta_u_list, img_save_path, image_save_path_list).to(gpu_or_cpu)\n",
    "\n",
    "    print(\"Model Parameters:\")\n",
    "    for name, param in catheter_optimize_model.named_parameters():\n",
    "        print(f\"{name}: requires_grad={param.requires_grad}\")\n",
    "\n",
    "    optimizer = torch.optim.Adam(catheter_optimize_model.parameters(), lr=1e-2)\n",
    "\n",
    "    # Run the optimization loop\n",
    "    num_iterations = 500\n",
    "    loop = tqdm(range(num_iterations))\n",
    "    for loop_id in loop:\n",
    "        print(\"\\n================================================================================================================\")\n",
    "        print(\"loop_id: \", loop_id)\n",
    "\n",
    "\n",
    "        # save_img_path = '/Users/kobeyang/Downloads/Programming/ECESRIP/diff_catheter/scripts/test_diff_render_catheter_v2/rendered_imgs/' \\\n",
    "        #     + 'render_' + str(loop_id) + '.jpg'\n",
    "            \n",
    "        save_img_path = 'E:/OneDrive - UC San Diego/UCSD/Lab/Catheter/diff_catheter/scripts/test_diff_render_catheter_v2/test_imgs/rendered_imgs_new3/' \\\n",
    "            + 'render_' + str(loop_id) + '.jpg'\n",
    "\n",
    "        # pdb.set_trace()\n",
    "\n",
    "        # Zero the gradients before running the backward pass.\n",
    "        optimizer.zero_grad()\n",
    "\n",
    "        # Run the forward pass\n",
    "        loss = catheter_optimize_model(save_img_path)\n",
    "\n",
    "        # Print gradients for all parameters before backward pass\n",
    "        # print(\"Gradients BEFORE BACKWARD PASS:\")\n",
    "        # for name, param in catheter_optimize_model.named_parameters():\n",
    "        #     if param.grad is not None:\n",
    "        #         print(f\"Parameter: {name}, Gradient: {param.grad.norm().item()}\")  # Print the norm of the gradient\n",
    "        #     else:\n",
    "        #         print(f\"{name}: No gradient computed\")\n",
    "\n",
    "        # Run the backward pass\n",
    "        loss.backward(retain_graph=True)\n",
    "\n",
    "        # Print gradients for all parameters after backward pass\n",
    "        # print(\"Gradients AFTER BACKWARD PASS:\")\n",
    "        # for name, param in catheter_optimize_model.named_parameters():\n",
    "        #     if param.grad is not None:\n",
    "        #         print(f\"Parameter: {name}, Gradient: {param.grad.norm().item()}\")\n",
    "        #     else:\n",
    "        #         print(f\"{name}: No gradient computed\")\n",
    "                \n",
    "        # end_effector_loss_history.append(torch.norm((catheter_optimize_model.para_init[3:6] - end_effector_gt), p=2).item())\n",
    "        proj_end_effector_loss_history.append(catheter_optimize_model.tip_euclidean_distance_loss.item())\n",
    "        d3d_end_effector_loss_history.append(torch.norm((catheter_optimize_model.para_init[3:6] - end_effector_gt), p=2).item())\n",
    "\n",
    "        # Update the parameters\n",
    "        optimizer.step()\n",
    "\n",
    "\n",
    "        # Print and inspect the updated parameters\n",
    "        # for name, param in catheter_optimize_model.named_parameters():\n",
    "        #     print(f\"Parameter: {name}, Updated Value: {param.data}\")\n",
    "\n",
    "\n",
    "        # # end_effector_loss_history.append(torch.norm((catheter_optimize_model.para_init[3:6] - end_effector_gt), p=2).item())\n",
    "        # proj_end_effector_loss_history.append(catheter_optimize_model.tip_euclidean_distance_loss.item())\n",
    "        # d3d_end_effector_loss_history.append(torch.norm((catheter_optimize_model.para_init[3:6] - end_effector_gt), p=2).item())\n",
    "\n",
    "        # Update the progress bar\n",
    "        loop.set_description('Optimizing')\n",
    "\n",
    "        # Update the loss\n",
    "        loop.set_postfix(loss=loss.item())\n",
    "\n",
    "        # print(\"Loss: \", loss.item())\n",
    "\n",
    "    # end_effector_loss_history.append(torch.norm((catheter_optimize_model.para_init[3:6] - end_effector_gt), p=2).item())\n",
    "    proj_end_effector_loss_history.append(catheter_optimize_model.tip_euclidean_distance_loss.item())\n",
    "    d3d_end_effector_loss_history.append(torch.norm((catheter_optimize_model.para_init[3:6] - end_effector_gt), p=2).item())\n",
    "\n",
    "    for name, param in catheter_optimize_model.named_parameters():\n",
    "        param_numpy = param.data.cpu().numpy()\n",
    "        filename = f\"{name}.npy\"\n",
    "        np.save(filename, param_numpy)\n",
    "        print(f\"Saved {name} to {filename}\")"
   ]
  },
  {
   "cell_type": "code",
   "execution_count": 12,
   "metadata": {},
   "outputs": [
    {
     "name": "stdout",
     "output_type": "stream",
     "text": [
      "proj_end_effector_loss_history:  [351.2109920910515, 360.2347207604154, 368.03203992103573, 374.574743630611, 379.9975953504891, 384.4678567989265, 388.1429965581338, 391.1592794132662, 393.63074971573866, 395.65131274719096, 397.29753039926, 398.63130006135475, 399.7022994101684, 400.54989002717736, 401.2051644217149, 401.69211395794514, 402.0291921651118, 402.23018545049945, 402.3052160702763, 402.2616696854974, 402.1048263828943, 401.83852851781785, 401.4656511693563, 400.98865103149376, 400.40981576200863, 399.73160133563346, 398.95683902656884, 398.08860231094854, 397.13054026234664, 396.086517892771, 394.96085810626516, 393.75803213223764, 392.4828438149635, 391.1401398897913, 389.73494415369834, 388.2727324365516, 386.75898393000284, 385.1995719367396, 383.6007723005362, 381.9691454675791, 380.3115572708568, 378.63509643889705, 376.9468642902962, 375.254007810368, 373.5633729165209, 371.88142503115324, 370.2140381705049, 368.56635575137494, 366.94269513959176, 365.3463962394582, 363.7798129568675, 362.24440955644303, 360.7405034295412, 359.2674721145722, 357.82389256592376, 356.4074433572976, 355.01534473513675, 353.64411948147875, 352.28995741951695, 350.94889440544426, 349.6168620712541, 348.28973303081887, 346.9636507065004, 345.6350062013518, 344.3005245590608, 342.9573872251741, 341.60331630434536, 340.2364570158475, 338.85555062202, 337.45986090268457, 336.0490801602564, 334.6233665302545, 333.1832436463903, 331.7298058078245, 330.26420354458344, 328.78787352215267, 327.3025758577585, 325.8099795834624, 324.31202293766927, 322.8106012637038, 321.3075216902256, 319.8045161830856, 318.3032273953117, 316.8051686071893, 315.31160951659115, 313.8236977663916, 312.34236034580704, 310.8683701929024, 309.4021554046688, 307.94412913947065, 306.49433744619176, 305.052783607461, 303.6193266367198, 302.1935900520375, 300.7751828906423, 299.36353296254083, 297.95822411531265, 296.5585665073855, 295.1639606506681, 293.773779321493, 292.3875090259389, 291.00453120528306, 289.62441432372754, 288.24661670887446, 286.8707251391779, 285.49646626455495, 284.123605639497, 282.75187387416855, 281.38114387037945, 280.01128554504356, 278.6422959691615, 277.2742009285156, 275.90694838453567, 274.54064784105964, 273.17534812639633, 271.81109852587264, 270.4480215649979, 269.08622470674857, 267.72572885080757, 266.3666294509384, 265.00896522500847, 263.6526728536527, 262.297853013723, 260.9444602087459, 259.5923866479874, 258.24158348488925, 256.89193824934887, 255.5433033811901, 254.1955468538718, 252.84839869154516, 251.501728677639, 250.15530464350914, 248.8088795607278, 247.4622065955635, 246.1150381312187, 244.76707546666486, 243.41801814993119, 242.06763122233363, 240.71558301163444, 239.3615631241108, 238.0053177871272, 236.6465414369431, 235.2849922837323, 233.92041322331914, 232.55239979066766, 231.18083116047757, 229.80536673636425, 228.4258255958445, 227.0419313534999, 225.65354591942668, 224.26043609547537, 222.86242707099578, 221.45941738359082, 220.05118936981123, 218.63771604014215, 217.21891331322803, 215.79476440442005, 214.36526191566486, 212.93039359553418, 211.49025958629898, 210.04494148228525, 208.59457575980696, 207.13931768571894, 205.67941468607773, 204.21511184078975, 202.7467397184931, 201.27461225476486, 199.79913651584351, 198.32074693838462, 196.83986124120148, 195.3570189364246, 193.87273440557206, 192.38754773793448, 190.90206819078014, 189.41695803461926, 187.93280644187078, 186.45029838549266, 184.97009527321228, 183.4928757489648, 182.01932347752702, 180.55014425264298, 179.0859351456248, 177.62745942044597, 176.17526845530386, 174.73003250702817, 173.2923697202633, 171.8628561696083, 170.4420060001513, 169.03035236475407, 167.6283527444263, 166.23642528473115, 164.85489954480633, 163.48418405398894, 162.12451089046837, 160.77611583410444, 159.43918775097737, 158.11385901583955, 156.8002712753578, 155.49841087781348, 154.2083290703275, 152.9299836554373, 151.66333838830195, 150.4082951974259, 149.16473876395312, 147.9324943484205, 146.71149438784423, 145.5015167227579, 144.30235527987168, 143.11386928305873, 141.93585265022446, 140.7680910741571, 139.61041502848877, 138.46264840307327, 137.32458991873352, 136.19603719047421, 135.0768325149563, 133.9668700196448, 132.86595883375608, 131.77399381033825, 130.69086083698468, 129.61640674970528, 128.55063909839706, 127.49337246722, 126.44464002814453, 125.40433932587254, 124.37236797100452, 123.34875824388502, 122.33348751983789, 121.32648439714875, 120.32777709223508, 119.33737072756298, 118.35520002574229, 117.38131887997172, 116.4156795790797, 115.45826688403321, 114.50907377617996, 113.56809861946299, 112.635332257848, 111.71069942077555, 110.79414706113657, 109.88567737527178, 108.98517919159113, 108.09263725217265, 107.208005241194, 106.33115907255689, 105.46201333043477, 104.6005219006404, 103.74663474095036, 102.90016614086665, 102.06107809091823, 101.22935358213148, 100.40484032377266, 99.58745522471274, 98.77711203742356, 97.97379876432186, 97.17735222960637, 96.3877469612184, 95.60490893151206, 94.82878480111987, 94.05931542441067, 93.29643283345196, 92.54005810269719, 91.79011933830829, 91.04659635795365, 90.30943529724962, 89.57854883739603, 88.85391249265965, 88.13545620804277, 87.42315525219158, 86.71696411861774, 86.01681623390171, 85.32264046019665, 84.63446951591385, 83.95215666650624, 83.27573409105162, 82.60507936812742, 81.94012923103001, 81.28091955129469, 80.62734475775012, 79.97933425944531, 79.33685847738576, 78.69988050748118, 78.06827702613327, 77.44204482072762, 76.82114472144653, 76.20551647991479, 75.59509666216461, 74.98985125762444, 74.38972137109265, 73.79463007600074, 73.20454441949684, 72.61943874290264, 72.03925878803354, 71.4639505720556, 70.89346369055932, 70.32773808736202, 69.76675270070037, 69.21048335388414, 68.65885500095723, 68.1118151177877, 67.56932075072618, 67.03137390895088, 66.49790610552618, 65.96889694742175, 65.44424330015148, 64.92395360926815, 64.40800778883515, 63.896328776258876, 63.388893995654485, 62.88562967504135, 62.38651089763521, 61.8915131342506, 61.400620277535786, 60.91372564364962, 60.4308934591763, 59.951968634021576, 59.477007977378804, 59.005918737033795, 58.538673158344444, 58.07525635797805, 57.615592075014234, 57.1597151376923, 56.707498207872824, 56.258953053827945, 55.81406102688779, 55.37280598716975, 54.935091896017745, 54.50092666657558, 54.070296845266014, 53.64310895226365, 53.21934333347151, 52.79904090348789, 52.38210246445201, 51.968491150068985, 51.5582083940745, 51.15121777263797, 50.747480834897736, 50.346953577773085, 49.9496517567065, 49.55550393376014, 49.16447396948538, 48.776572620389096, 48.391757080523426, 48.00998823071875, 47.63125319342143, 47.25553766136839, 46.88275233956545, 46.51290937582509, 46.14599808266114, 45.78195257825898, 45.420787124241784, 45.06246244171256, 44.70696705758242, 44.35423864681459, 44.00428950482636, 43.657082540149716, 43.312583299672795, 42.97077978179969, 42.63163644177228, 42.295115448100574, 41.96123505674641, 41.629956641306926, 41.30121893673507, 40.97503835590787, 40.65140224494011, 40.33025087758415, 40.01160316825634, 39.695424564770796, 39.38167788829607, 39.07032807167136, 38.761394393545274, 38.454839548345106, 38.15062982807394, 37.84875933050124, 37.54919213055394, 37.25194662746929, 36.95693693472618, 36.66420987927692, 36.37372906965476, 36.08546217200428, 35.79937515484855, 35.51548892618598, 35.23376919790118, 34.954158546739116, 34.67670186115168, 34.40134085982631, 34.12806905165947, 33.85685310796482, 33.58771433314505, 33.32064608021142, 33.05556452559972, 32.79248994344356, 32.531391148499885, 32.272262347133626, 32.015071879288065, 31.759867197511177, 31.506564358608095, 31.255158708170082, 31.005671872173334, 30.758046460057646, 30.512277781114346, 30.268334966002396, 30.026266360993425, 29.785988755498238, 29.547497967986935, 29.31079000090811, 29.07586061128696, 28.842705917724405, 28.61126939511425, 28.381573955139558, 28.15361598845392, 27.927366165873465, 27.7027942865747, 27.479870339746416, 27.25864288393098, 27.03903095577407, 26.82108330341613, 26.604771651430827, 26.390040074954168, 26.176911538562777, 25.96538268039115, 25.755398514398177, 25.547008893785218, 25.340160177067112, 25.1348482829086, 24.93107244292121, 24.72880290056806, 24.528036713980647, 24.328771575141015, 24.13097963950515, 23.934656724805603, 23.73977648638002, 23.54633697628997, 23.354364868469904, 23.163829923669166, 22.974702527668843, 22.7869529766483, 22.600607381611916, 22.41563956332086, 22.232048071327586, 22.04985868255489, 21.868990456702097, 21.689438371666338, 21.51122629674098, 21.334326584012498, 21.158770189983432, 20.984503732980485, 20.811549475112404, 20.63987917110009, 20.469491888411756, 20.30035611569108, 20.132449112194603, 19.96582145211075, 19.80042114812303, 19.636275007963206, 19.473326545554592, 19.311597748511964, 19.15106546212455, 18.99172925965022, 18.833591326976773, 18.67662140766798, 18.52081397836308, 18.36617126328602, 18.2126956944196, 18.060361006822777, 17.909164418584254, 17.759075503641647, 17.610096949190645, 17.462254935195826, 17.315524828490567, 17.169879204342248, 17.025339970930634, 16.881853451453328, 16.739450485846632, 16.598103748190006, 16.457841287056883, 16.318637435937326, 16.180481640205684, 16.043325107780362, 15.907220500978186, 15.772145435380159, 15.638074432059428, 15.50500652585276, 15.372987910138649, 15.241913058018032, 15.111839895463813, 14.982767481372129, 14.854642700257633, 14.727518540329703, 14.60131232147821, 14.476104860966505, 14.35178916613526, 14.228447951689297, 14.106056157026051, 13.984564577174309, 13.864020930081734, 13.744368589521681, 13.62562709171373, 13.5078106378332, 13.390870322181293, 13.390870322181293]\n"
     ]
    },
    {
     "data": {
      "image/png": "[encoded data removed]",
      "text/plain": [
       "<Figure size 640x480 with 1 Axes>"
      ]
     },
     "metadata": {},
     "output_type": "display_data"
    },
    {
     "name": "stdout",
     "output_type": "stream",
     "text": [
      "d3d_end_effector_loss_history:  [0.374146044254303, 0.36960527300834656, 0.36578863859176636, 0.36256393790245056, 0.35982152819633484, 0.35747745633125305, 0.3554670810699463, 0.3537397086620331, 0.3522545099258423, 0.3509776294231415, 0.3498803675174713, 0.34893763065338135, 0.3481270372867584, 0.3474280834197998, 0.346822053194046, 0.3462912440299988, 0.3458192050457001, 0.34539034962654114, 0.3449900448322296, 0.3446047008037567, 0.3442218601703644, 0.34383004903793335, 0.3434191644191742, 0.34298041462898254, 0.3425062894821167, 0.3419908285140991, 0.3414294421672821, 0.3408188223838806, 0.34015706181526184, 0.3394433259963989, 0.3386777937412262, 0.33786168694496155, 0.33699682354927063, 0.336085706949234, 0.33513143658638, 0.33413755893707275, 0.33310800790786743, 0.33204716444015503, 0.3309595584869385, 0.32985013723373413, 0.32872381806373596, 0.3275856673717499, 0.32644063234329224, 0.32529351115226746, 0.32414889335632324, 0.3230108618736267, 0.32188302278518677, 0.3207685351371765, 0.3196698725223541, 0.31858888268470764, 0.31752678751945496, 0.31648415327072144, 0.31546100974082947, 0.3144567310810089, 0.3134702742099762, 0.3125000596046448, 0.311544269323349, 0.3106006979942322, 0.3096669614315033, 0.30874061584472656, 0.3078191578388214, 0.30690014362335205, 0.30598118901252747, 0.30506014823913574, 0.3041350841522217, 0.30320438742637634, 0.3022667467594147, 0.3013211190700531, 0.30036690831184387, 0.29940372705459595, 0.2984316349029541, 0.29745084047317505, 0.296461820602417, 0.295465350151062, 0.2944623529911041, 0.29345375299453735, 0.2924407422542572, 0.2914244532585144, 0.2904060482978821, 0.2893867492675781, 0.2883675992488861, 0.2873496413230896, 0.28633391857147217, 0.28532111644744873, 0.28431203961372375, 0.2833072245121002, 0.2823072075843811, 0.2813122868537903, 0.28032273054122925, 0.27933868765830994, 0.2783600986003876, 0.27738693356513977, 0.27641919255256653, 0.2754565477371216, 0.2744988203048706, 0.2735457420349121, 0.2725971043109894, 0.27165260910987854, 0.2707119584083557, 0.2697749435901642, 0.26884129643440247, 0.26791080832481384, 0.2669833302497864, 0.26605871319770813, 0.2651367783546448, 0.2642174959182739, 0.2633007764816284, 0.26238664984703064, 0.2614750564098358, 0.26056599617004395, 0.2596595287322998, 0.2587556838989258, 0.25785449147224426, 0.2569560110569, 0.25606027245521545, 0.25516730546951294, 0.25427713990211487, 0.25338980555534363, 0.25250524282455444, 0.25162357091903687, 0.25074467062950134, 0.2498684525489807, 0.24899493157863617, 0.24812406301498413, 0.24725569784641266, 0.24638977646827698, 0.24552617967128754, 0.24466478824615479, 0.24380546808242798, 0.2429480403661728, 0.24209241569042206, 0.24123843014240265, 0.24038589000701904, 0.2395346760749817, 0.23868456482887268, 0.23783542215824127, 0.23698702454566956, 0.2361392229795456, 0.23529180884361267, 0.23444457352161407, 0.2335972934961319, 0.232749804854393, 0.23190192878246307, 0.2310534119606018, 0.2302040308713913, 0.22935357689857483, 0.2285018265247345, 0.2276485711336136, 0.2267935872077942, 0.2259366810321808, 0.22507759928703308, 0.22421616315841675, 0.22335219383239746, 0.22248543798923492, 0.22161579132080078, 0.2207430899143219, 0.21986722946166992, 0.2189880907535553, 0.21810556948184967, 0.21721968054771423, 0.2163303792476654, 0.21543771028518677, 0.2145417034626007, 0.21364253759384155, 0.21274036169052124, 0.21183538436889648, 0.21092788875102997, 0.21001821756362915, 0.20910672843456268, 0.2081938087940216, 0.2072799950838089, 0.20636577904224396, 0.20545168220996857, 0.20453834533691406, 0.20362640917301178, 0.20271652936935425, 0.2018093764781952, 0.20090563595294952, 0.20000600814819336, 0.19911114871501923, 0.19822175800800323, 0.19733844697475433, 0.19646185636520386, 0.19559252262115479, 0.1947309672832489, 0.19387772679328918, 0.1930331587791443, 0.19219768047332764, 0.19137153029441833, 0.19055502116680145, 0.18974827229976654, 0.18895140290260315, 0.18816447257995605, 0.18738746643066406, 0.18662036955356598, 0.18586307764053345, 0.18511545658111572, 0.18437737226486206, 0.18364861607551575, 0.18292900919914246, 0.18221835792064667, 0.18151643872261047, 0.18082305788993835, 0.18013803660869598, 0.17946118116378784, 0.17879235744476318, 0.1781313717365265, 0.17747817933559418, 0.1768326610326767, 0.1761946976184845, 0.17556427419185638, 0.17494134604930878, 0.17432589828968048, 0.1737179160118103, 0.17311736941337585, 0.17252425849437714, 0.17193862795829773, 0.17136050760746002, 0.17078985273838043, 0.17022669315338135, 0.16967099905014038, 0.16912278532981873, 0.1685819923877716, 0.16804859042167664, 0.16752250492572784, 0.16700366139411926, 0.1664920300245285, 0.1659875214099884, 0.1654900461435318, 0.16499951481819153, 0.1645159125328064, 0.16403906047344208, 0.16356894373893738, 0.16310545802116394, 0.1626484990119934, 0.162198007106781, 0.16175395250320435, 0.16131623089313507, 0.16088469326496124, 0.16045933961868286, 0.16004008054733276, 0.159626767039299, 0.1592194139957428, 0.15881790220737457, 0.1584220826625824, 0.15803194046020508, 0.15764737129211426, 0.15726834535598755, 0.1568947285413742, 0.15652644634246826, 0.1561635583639145, 0.15580588579177856, 0.1554533988237381, 0.1551060825586319, 0.15476390719413757, 0.15442678332328796, 0.15409472584724426, 0.1537676900625229, 0.15344566106796265, 0.15312856435775757, 0.15281635522842407, 0.15250903367996216, 0.1522064507007599, 0.15190865099430084, 0.15161551535129547, 0.15132692456245422, 0.1510428786277771, 0.15076327323913574, 0.15048804879188538, 0.15021714568138123, 0.14995045959949493, 0.14968794584274292, 0.1494295448064804, 0.14917516708374023, 0.1489248126745224, 0.14867837727069855, 0.14843574166297913, 0.14819693565368652, 0.14796192944049835, 0.14773060381412506, 0.14750291407108307, 0.14727883040905, 0.14705824851989746, 0.14684118330478668, 0.1466275453567505, 0.14641734957695007, 0.14621050655841827, 0.14600703120231628, 0.14580681920051575, 0.14560987055301666, 0.14541609585285187, 0.14522553980350494, 0.14503812789916992, 0.14485380053520203, 0.14467254281044006, 0.14449423551559448, 0.14431892335414886, 0.14414651691913605, 0.14397697150707245, 0.1438101977109909, 0.143646240234375, 0.14348499476909637, 0.14332646131515503, 0.1431705802679062, 0.1430172622203827, 0.14286652207374573, 0.1427183300256729, 0.14257261157035828, 0.14242930710315704, 0.1422884315252304, 0.1421499252319336, 0.14201371371746063, 0.1418798267841339, 0.14174817502498627, 0.14161881804466248, 0.14149163663387299, 0.1413666158914566, 0.14124372601509094, 0.141122967004776, 0.1410043090581894, 0.14088763296604156, 0.1407730132341385, 0.140660360455513, 0.1405496448278427, 0.1404409110546112, 0.14033406972885132, 0.14022904634475708, 0.14012588560581207, 0.14002454280853271, 0.13992497324943542, 0.13982710242271423, 0.1397310346364975, 0.13963663578033447, 0.13954392075538635, 0.13945280015468597, 0.13936331868171692, 0.13927540183067322, 0.13918906450271606, 0.13910426199436188, 0.13902096450328827, 0.13893915712833405, 0.13885881006717682, 0.13877993822097778, 0.13870249688625336, 0.13862641155719757, 0.1385517418384552, 0.13847841322422028, 0.1384063959121704, 0.1383356750011444, 0.13826626539230347, 0.1381981074810028, 0.13813121616840363, 0.13806559145450592, 0.1380012035369873, 0.13793796300888062, 0.13787588477134705, 0.13781499862670898, 0.13775523006916046, 0.13769657909870148, 0.13763903081417084, 0.13758257031440735, 0.13752718269824982, 0.13747279345989227, 0.1374194622039795, 0.1373671293258667, 0.1373157650232315, 0.1372654289007187, 0.13721603155136108, 0.13716758787631989, 0.1371200680732727, 0.13707347214221954, 0.1370278000831604, 0.1369829624891281, 0.13693903386592865, 0.13689598441123962, 0.13685375452041626, 0.13681232929229736, 0.1367717832326889, 0.13673201203346252, 0.13669303059577942, 0.1366548389196396, 0.13661739230155945, 0.1365806758403778, 0.13654468953609467, 0.1365094631910324, 0.13647492229938507, 0.13644109666347504, 0.13640794157981873, 0.13637550175189972, 0.13634373247623444, 0.1363126039505005, 0.13628211617469788, 0.1362522542476654, 0.13622303307056427, 0.13619442284107208, 0.13616643846035004, 0.13613900542259216, 0.13611216843128204, 0.13608594238758087, 0.13606025278568268, 0.13603514432907104, 0.1360105574131012, 0.13598649203777313, 0.13596296310424805, 0.13593992590904236, 0.13591739535331726, 0.13589535653591156, 0.13587383925914764, 0.13585278391838074, 0.13583223521709442, 0.1358121633529663, 0.13579252362251282, 0.13577336072921753, 0.13575458526611328, 0.13573630154132843, 0.13571840524673462, 0.135700985789299, 0.13568395376205444, 0.1356673240661621, 0.13565108180046082, 0.13563521206378937, 0.13561972975730896, 0.1356046348810196, 0.13558991253376007, 0.1355755627155304, 0.13556160032749176, 0.135547935962677, 0.13553465902805328, 0.13552170991897583, 0.13550908863544464, 0.1354968100786209, 0.13548481464385986, 0.13547319173812866, 0.13546188175678253, 0.1354508399963379, 0.13544006645679474, 0.13542965054512024, 0.13541951775550842, 0.1354096680879593, 0.13540007174015045, 0.1353907734155655, 0.13538168370723724, 0.13537287712097168, 0.1353643238544464, 0.13535602390766144, 0.13534802198410034, 0.13534019887447357, 0.13533265888690948, 0.1353253871202469, 0.13531829416751862, 0.13531145453453064, 0.13530482351779938, 0.1352984607219696, 0.13529226183891296, 0.13528628647327423, 0.13528048992156982, 0.13527493178844452, 0.13526956737041473, 0.13526438176631927, 0.13525940477848053, 0.13525459170341492, 0.13524997234344482, 0.13524553179740906, 0.13524127006530762, 0.1352371871471405, 0.13523328304290771, 0.13522951304912567, 0.13522589206695557, 0.13522246479988098, 0.13521921634674072, 0.13521607220172882, 0.13521310687065125, 0.13521024584770203, 0.13520757853984833, 0.13520506024360657, 0.13520267605781555, 0.1352003812789917, 0.13519828021526337, 0.135196253657341, 0.13519442081451416, 0.13519269227981567, 0.13519105315208435, 0.13518954813480377, 0.13518820703029633, 0.13518694043159485, 0.13518580794334412, 0.13518476486206055, 0.13518382608890533, 0.13518299162387848, 0.13518226146697998, 0.13518163561820984, 0.13518111407756805, 0.13518069684505463, 0.13518036901950836, 0.13518010079860687, 0.13517992198467255, 0.13517986238002777, 0.13517987728118896, 0.13517998158931732, 0.13518016040325165, 0.13518044352531433]\n"
     ]
    },
    {
     "data": {
      "image/png": "[encoded data removed]",
      "text/plain": [
       "<Figure size 640x480 with 1 Axes>"
      ]
     },
     "metadata": {},
     "output_type": "display_data"
    }
   ],
   "source": [
    "# Given array of values proj_end_effector_loss_history, create plot of loss vs. iterations\n",
    "iterations_x_axis_proj = list(range(len(proj_end_effector_loss_history)))\n",
    "print(\"proj_end_effector_loss_history: \", proj_end_effector_loss_history)\n",
    "fig1 = plt.figure()\n",
    "ax1 = fig1.add_subplot(111)\n",
    "fig1.suptitle('2D Tip Euclidean Distance Loss History')\n",
    "ax1.plot(iterations_x_axis_proj, proj_end_effector_loss_history)\n",
    "ax1.set_xlabel('Iterations')\n",
    "ax1.set_ylabel('Euclidean Distance Loss (Pixels)')\n",
    "ax1.set_xlim([0, len(proj_end_effector_loss_history)])\n",
    "# ax1.set_ylim([0, 80])\n",
    "ax1.set_ylim(bottom=0)\n",
    "ax1.grid(True)\n",
    "plt.show()\n",
    "\n",
    "\n",
    "# Given array of values d3d_end_effector_loss_history, create plot of 3d loss vs. iterations\n",
    "iterations_x_axis_3d = list(range(len(d3d_end_effector_loss_history)))\n",
    "print(\"d3d_end_effector_loss_history: \", d3d_end_effector_loss_history)\n",
    "fig2 = plt.figure()\n",
    "ax2 = fig2.add_subplot(111)\n",
    "fig2.suptitle('3D Tip Euclidean Distance Loss History')\n",
    "ax2.plot(iterations_x_axis_3d, d3d_end_effector_loss_history)\n",
    "ax2.set_xlabel('Iterations')\n",
    "ax2.set_ylabel('Euclidean Distance Loss (m)')\n",
    "ax2.set_xlim([0, len(d3d_end_effector_loss_history)])\n",
    "ax2.set_ylim(bottom=0)\n",
    "# ax2.set_ylim([0, 0.05])\n",
    "ax2.grid(True)\n",
    "plt.show()"
   ]
  },
  {
   "cell_type": "code",
   "execution_count": 13,
   "metadata": {},
   "outputs": [
    {
     "name": "stdout",
     "output_type": "stream",
     "text": [
      "[2.e-02 2.e-03 1.e-06]\n",
      "result:  [ 0.06848744 -0.08988798  0.4396048   0.13991416 -0.21871476  0.81787235]\n",
      "control_points:  [[ 2.0000000e-02  2.0000001e-03  1.0000000e-06]\n",
      " [ 6.8487443e-02 -8.9887977e-02  4.3960479e-01]\n",
      " [ 1.3991416e-01 -2.1871476e-01  8.1787235e-01]]\n"
     ]
    }
   ],
   "source": [
    "p_start_np = p_start.numpy()\n",
    "print(p_start_np)\n",
    "result = catheter_optimize_model.para_init.data.cpu().numpy()\n",
    "print(\"result: \", result)\n",
    "control_points = np.vstack([p_start_np, result.reshape(2, 3)])\n",
    "print(\"control_points: \", control_points)\n",
    "control_points_gt = np.vstack([p_start_np, para_gt_np.reshape(2, 3)])\n",
    "control_points_init = np.vstack([p_start_np, para_init.reshape(2, 3)])"
   ]
  },
  {
   "cell_type": "code",
   "execution_count": 14,
   "metadata": {},
   "outputs": [
    {
     "data": {
      "image/png": "[encoded data removed]",
      "text/plain": [
       "<Figure size 640x480 with 1 Axes>"
      ]
     },
     "metadata": {},
     "output_type": "display_data"
    }
   ],
   "source": [
    "def bezier_curve_3d(control_points, num_points=100):\n",
    "    t = np.linspace(0, 1, num_points)\n",
    "    curve = np.zeros((num_points, 3))\n",
    "\n",
    "    for i in range(num_points):\n",
    "        curve[i] = (1 - t[i]) ** 2 * control_points[0] + \\\n",
    "                   2 * (1 - t[i]) * t[i] * control_points[1] + \\\n",
    "                   t[i] ** 2 * control_points[2]\n",
    "\n",
    "    return curve\n",
    "\n",
    "# Generate the Bezier curve\n",
    "curve = bezier_curve_3d(control_points)\n",
    "curve_gt = bezier_curve_3d(control_points_gt)\n",
    "curve_init = bezier_curve_3d(control_points_init)\n",
    "\n",
    "# Plotting the Bezier curve\n",
    "fig = plt.figure()\n",
    "ax = fig.add_subplot(111, projection='3d')\n",
    "\n",
    "# 绘制第一条贝塞尔曲线及其控制点\n",
    "ax.plot(control_points[:, 0], control_points[:, 1], control_points[:, 2], 'ro--')\n",
    "ax.plot(curve[:, 0], curve[:, 1], curve[:, 2], 'r-', label='Optimized Result')\n",
    "\n",
    "# 绘制第二条贝塞尔曲线及其控制点\n",
    "ax.plot(control_points_gt[:, 0], control_points_gt[:, 1], control_points_gt[:, 2], 'bo--')\n",
    "ax.plot(curve_gt[:, 0], curve_gt[:, 1], curve_gt[:, 2], 'b-', label='Ground Truth')\n",
    "\n",
    "ax.plot(control_points_init[:, 0], control_points_init[:, 1], control_points_init[:, 2], 'go--')\n",
    "ax.plot(curve_init[:, 0], curve_init[:, 1], curve_init[:, 2], 'g-', label='Initial Guess')\n",
    "\n",
    "# Set labels\n",
    "ax.set_xlabel('X')\n",
    "ax.set_ylabel('Y')\n",
    "ax.set_zlabel('Z')\n",
    "ax.set_title('Optimization Result')\n",
    "ax.legend()\n",
    "\n",
    "plt.savefig('Result.png')\n",
    "\n",
    "plt.show()"
   ]
  }
 ],
 "metadata": {
  "kernelspec": {
   "display_name": "catheter",
   "language": "python",
   "name": "python3"
  },
  "language_info": {
   "codemirror_mode": {
    "name": "ipython",
    "version": 3
   },
   "file_extension": ".py",
   "mimetype": "text/x-python",
   "name": "python",
   "nbconvert_exporter": "python",
   "pygments_lexer": "ipython3",
   "version": "3.8.19"
  }
 },
 "nbformat": 4,
 "nbformat_minor": 2
}
