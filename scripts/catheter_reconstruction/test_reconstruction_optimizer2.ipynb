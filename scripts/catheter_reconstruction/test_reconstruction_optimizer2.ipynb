{
 "cells": [
  {
   "cell_type": "code",
   "execution_count": 5,
   "metadata": {},
   "outputs": [],
   "source": [
    "\"\"\"\n",
    "File that runs the actual reconstruction optimizer forward pass. \n",
    "It should compute 3 loss functions: contour chamfer loss, tip distance \n",
    "loss, and motion model loss. In its forward pass, it will call upon \n",
    "the construction_bezier and motion_catheter scripts to build its \n",
    "catheters. It will be optimizing the parameter para_init. \n",
    "\"\"\"\n",
    "import sys\n",
    "sys.path.append('..')\n",
    "sys.path.insert(1, 'E:/OneDrive - UC San Diego/UCSD/Lab/Catheter/diff_catheter/scripts')\n",
    "\n",
    "import torch\n",
    "import torch.nn as nn\n",
    "import cv2\n",
    "# from tqdm.notebook import tqdm\n",
    "from tqdm.auto import tqdm\n",
    "import numpy as np\n",
    "import matplotlib.pyplot as plt\n",
    "\n",
    "from construction_bezier import ConstructionBezier\n",
    "from loss_define import (\n",
    "    ContourChamferLoss, \n",
    "    TipDistanceLoss, \n",
    "    ImageContourChamferLoss, \n",
    "    GenerateRefData\n",
    ")\n",
    "\n",
    "from catheter_motion import CatheterMotion\n",
    "\n",
    "\n",
    "class ReconstructionOptimizer(nn.Module): \n",
    "\n",
    "    def __init__(self, p_start, para_init, image_ref, gpu_or_cpu, past_frames_list, delta_u_list, img_save_path, image_save_path_list): \n",
    "        '''\n",
    "        This function initializes the catheter optimization model.\n",
    "\n",
    "        Args:\n",
    "            p_start (tensor): starting point of the catheter\n",
    "            image_ref (numpy array): reference image to compare to\n",
    "            gpu_or_cpu (str): either 'cuda' or 'cpu'\n",
    "        '''\n",
    "        super().__init__()\n",
    "\n",
    "        self.build_bezier = ConstructionBezier(radius=0.0015)\n",
    "        self.build_bezier.to(gpu_or_cpu)\n",
    "        self.build_bezier.loadRawImage(img_save_path)\n",
    "\n",
    "        self.contour_chamfer_loss = ContourChamferLoss(device=gpu_or_cpu)\n",
    "        self.contour_chamfer_loss.to(gpu_or_cpu)\n",
    "        self.tip_distance_loss = TipDistanceLoss(device=gpu_or_cpu)\n",
    "        self.tip_distance_loss.to(gpu_or_cpu)\n",
    "        self.image_contour_chamfer_loss = ImageContourChamferLoss(device=gpu_or_cpu)\n",
    "        self.image_contour_chamfer_loss.to(gpu_or_cpu)\n",
    "        \n",
    "        # Declare self.tip_euclidean_distance_loss as a variable that'll hold a single numpy scalar value\n",
    "        self.tip_euclidean_distance_loss = None\n",
    "        self.tip_loss = None\n",
    "\n",
    "        self.p_start = p_start.to(gpu_or_cpu).detach()\n",
    "        self.para_init = nn.Parameter(torch.from_numpy(para_init).to(gpu_or_cpu),\n",
    "                                      requires_grad=True)\n",
    "        \n",
    "        \n",
    "        image_ref = torch.from_numpy(image_ref.astype(np.float32))\n",
    "        self.register_buffer('image_ref', image_ref)\n",
    "        \n",
    "        # Generate reference data, so you don't need to generate it in every forward pass\n",
    "        self.generate_ref_data = GenerateRefData(self.image_ref)\n",
    "        ref_catheter_contour = self.generate_ref_data.get_raw_contour()\n",
    "        self.register_buffer('ref_catheter_contour', ref_catheter_contour)\n",
    "        ref_catheter_centerline = self.generate_ref_data.get_raw_centerline()\n",
    "        self.register_buffer('ref_catheter_centerline', ref_catheter_centerline)\n",
    "        \n",
    "        # self.register_buffer('delta_u_list', delta_u_list)\n",
    "        self.delta_u_list = delta_u_list\n",
    "        # self.register_buffer('past_frames_list', past_frames_list)\n",
    "        # self.register_buffer('image_save_path_list', image_save_path_list)\n",
    "        self.image_save_path_list = image_save_path_list\n",
    "        \n",
    "        # Generate reference data for past frames\n",
    "        contour_list = []\n",
    "        centerline_list = []\n",
    "        for image in past_frames_list:\n",
    "            image = torch.from_numpy(image.astype(np.float32))\n",
    "            generate_ref_data = GenerateRefData(image)\n",
    "            ref_catheter_contour = generate_ref_data.get_raw_contour()\n",
    "            ref_catheter_centerline = generate_ref_data.get_raw_centerline()\n",
    "            contour_list.append(ref_catheter_contour)\n",
    "            centerline_list.append(ref_catheter_centerline)\n",
    "        # self.register_buffer('contour_list', torch.stack(contour_list))\n",
    "        # self.register_buffer('centerline_list', torch.stack(centerline_list))\n",
    "        self.contour_list = contour_list\n",
    "        self.centerline_list = centerline_list\n",
    "        \n",
    "        self.gpu_or_cpu = gpu_or_cpu\n",
    "\n",
    "    def forward(self, save_img_path): \n",
    "        '''\n",
    "        Function to run forward pass of the catheter optimization model.\n",
    "        Creates catheter model, gets projection onto 2d image, and calculates loss.\n",
    "\n",
    "        Args:\n",
    "            save_img_path (str): path to save the projection image to\n",
    "        '''\n",
    "\n",
    "        # print('hello')\n",
    "        \n",
    "        # Generate the Bezier curve cylinder mesh points\n",
    "        self.build_bezier.getBezierCurveCylinder(self.p_start, self.para_init)\n",
    "\n",
    "        # Get 2d projected Bezier Cylinder mesh points\n",
    "        self.build_bezier.getCylinderMeshProjImg()\n",
    "\n",
    "        # Get 2d projected Bezier centerline (position) points\n",
    "        self.build_bezier.getBezierProjImg()\n",
    "\n",
    "        self.build_bezier.draw2DCylinderImage(self.image_ref, save_img_path)\n",
    "\n",
    "        loss_contour = self.contour_chamfer_loss(self.build_bezier.bezier_proj_img.to(self.gpu_or_cpu), self.ref_catheter_contour.to(self.gpu_or_cpu))\n",
    "\n",
    "        loss_tip_distance, self.tip_euclidean_distance_loss = self.tip_distance_loss(self.build_bezier.bezier_proj_centerline_img.to(self.gpu_or_cpu), self.ref_catheter_centerline.to(self.gpu_or_cpu))\n",
    "        \n",
    "        p0 = self.p_start.detach().cpu().numpy()\n",
    "        para_init = self.para_init.detach().cpu().numpy()\n",
    "        catheterMotion = CatheterMotion(p0, r=0.0015)\n",
    "        predicted_paras = catheterMotion.past_frames_prediction(self.delta_u_list, para_init)\n",
    "        motion_model_loss = torch.tensor(0.0).to(self.gpu_or_cpu)\n",
    "        for i in range(len(predicted_paras)):\n",
    "            build_bezier = ConstructionBezier()\n",
    "            build_bezier.to(self.gpu_or_cpu)\n",
    "            build_bezier.loadRawImage(self.image_save_path_list[i])\n",
    "            build_bezier.getBezierCurveCylinder(self.p_start, torch.from_numpy(predicted_paras[i]).to(self.gpu_or_cpu))\n",
    "            build_bezier.getCylinderMeshProjImg()\n",
    "            build_bezier.getBezierProjImg()\n",
    "            # build_bezier.draw2DCylinderImage(self.past_frames_list[i], save_img_path_list[i])\n",
    "            \n",
    "            loss_contour = self.contour_chamfer_loss(build_bezier.bezier_proj_img.to(self.gpu_or_cpu), self.contour_list[i].to(self.gpu_or_cpu))\n",
    "            \n",
    "            # loss_tip_distance_m, self.tip_loss = self.tip_distance_loss(build_bezier.bezier_proj_centerline_img.to(self.gpu_or_cpu), self.centerline_list[i].to(self.gpu_or_cpu))\n",
    "            \n",
    "            motion_model_loss += loss_contour.to(self.gpu_or_cpu)\n",
    "            # weight_m = torch.tensor([1.0e-4, 1.0]).to(self.gpu_or_cpu)\n",
    "            # loss_m = loss_contour_m.to(self.gpu_or_cpu) * weight_m[0] + loss_tip_distance_m.to(self.gpu_or_cpu) * weight_m[1]\n",
    "            # motion_model_loss += loss_m.to(self.gpu_or_cpu)\n",
    "            \n",
    "        \n",
    "        weight = torch.tensor([1.0e-4, 1.0, 1.0e-5]).to(self.gpu_or_cpu)\n",
    "        loss = loss_contour * weight[0] + loss_tip_distance * weight[1] + motion_model_loss * weight[2]\n",
    "\n",
    "\n",
    "        print(\"-----------------------------------------------------------------\")\n",
    "        print(\"loss_contour: \", loss_contour)\n",
    "        # print(\"loss_tip: \", loss_tip)\n",
    "        # print(\"loss_boundary: \", loss_boundary)\n",
    "        print(\"loss_tip_distance: \", loss_tip_distance)\n",
    "        # print(\"loss_boundary_point_distance_loss: \", loss_boundary_point_distance_loss)\n",
    "        print(\"motion_model_loss: \", motion_model_loss)\n",
    "        print(\"loss: \", loss)\n",
    "        print(\"-----------------------------------------------------------------\")\n",
    "\n",
    "\n",
    "        # TODO: Plot the loss\n",
    "\n",
    "        return loss\n",
    "    \n",
    "\n",
    "\n",
    "\n"
   ]
  },
  {
   "cell_type": "code",
   "execution_count": 6,
   "metadata": {},
   "outputs": [],
   "source": [
    "def process_image(img_save_path):\n",
    "    img_ref_rgb = cv2.imread(img_save_path)\n",
    "    img_ref_gray = cv2.cvtColor(img_ref_rgb, cv2.COLOR_BGR2GRAY)\n",
    "    (thresh, img_ref_thresh) = cv2.threshold(img_ref_gray, 80, 255, cv2.THRESH_BINARY | cv2.THRESH_OTSU)\n",
    "    img_ref_binary = np.where(img_ref_thresh == 255, 1, img_ref_thresh)\n",
    "    \n",
    "    return img_ref_binary"
   ]
  },
  {
   "cell_type": "code",
   "execution_count": 7,
   "metadata": {},
   "outputs": [
    {
     "name": "stdout",
     "output_type": "stream",
     "text": [
      "Model Parameters:\n",
      "para_init: requires_grad=True\n"
     ]
    },
    {
     "name": "stderr",
     "output_type": "stream",
     "text": [
      "  0%|          | 0/100 [00:00<?, ?it/s]"
     ]
    },
    {
     "name": "stdout",
     "output_type": "stream",
     "text": [
      "\n",
      "================================================================================================================\n",
      "loop_id:  0\n",
      "-----------------------------------------------------------------\n",
      "loss_contour:  tensor(22450876.4269, device='cuda:0', dtype=torch.float64)\n",
      "loss_tip_distance:  tensor(2981.3144, device='cuda:0', dtype=torch.float64,\n",
      "       grad_fn=<MeanBackward0>)\n",
      "motion_model_loss:  tensor(3.0979e+09, device='cuda:0')\n",
      "loss:  tensor(36205.5348, device='cuda:0', dtype=torch.float64,\n",
      "       grad_fn=<AddBackward0>)\n",
      "-----------------------------------------------------------------\n"
     ]
    },
    {
     "name": "stderr",
     "output_type": "stream",
     "text": [
      "Optimizing:   1%|          | 1/100 [00:09<15:14,  9.24s/it, loss=3.62e+4]"
     ]
    },
    {
     "name": "stdout",
     "output_type": "stream",
     "text": [
      "Gradients BEFORE BACKWARD PASS:\n",
      "para_init: No gradient computed\n",
      "Gradients AFTER BACKWARD PASS:\n",
      "Parameter: para_init, Gradient: 376819.03125\n",
      "Parameter: para_init, Updated Value: tensor([ 0.0300,  0.0055,  0.0702,  0.0306, -0.0406,  0.1745], device='cuda:0')\n",
      "Loss:  36205.53484186571\n",
      "\n",
      "================================================================================================================\n",
      "loop_id:  1\n"
     ]
    },
    {
     "name": "stderr",
     "output_type": "stream",
     "text": [
      "Optimizing:   2%|▏         | 2/100 [00:11<08:26,  5.17s/it, loss=4.28e+4]"
     ]
    },
    {
     "name": "stdout",
     "output_type": "stream",
     "text": [
      "-----------------------------------------------------------------\n",
      "loss_contour:  tensor(58646667.8549, device='cuda:0', dtype=torch.float64)\n",
      "loss_tip_distance:  tensor(214.1109, device='cuda:0', dtype=torch.float64, grad_fn=<MeanBackward0>)\n",
      "motion_model_loss:  tensor(3.6706e+09, device='cuda:0')\n",
      "loss:  tensor(42784.9689, device='cuda:0', dtype=torch.float64,\n",
      "       grad_fn=<AddBackward0>)\n",
      "-----------------------------------------------------------------\n",
      "Gradients BEFORE BACKWARD PASS:\n",
      "para_init: No gradient computed\n",
      "Gradients AFTER BACKWARD PASS:\n",
      "Parameter: para_init, Gradient: 104923.6796875\n",
      "Parameter: para_init, Updated Value: tensor([ 0.0300,  0.0055,  0.0702,  0.0330, -0.0482,  0.1685], device='cuda:0')\n",
      "Loss:  42784.968902285356\n",
      "\n",
      "================================================================================================================\n",
      "loop_id:  2\n"
     ]
    },
    {
     "name": "stderr",
     "output_type": "stream",
     "text": [
      "Optimizing:   3%|▎         | 3/100 [00:13<06:20,  3.92s/it, loss=1.06e+5]"
     ]
    },
    {
     "name": "stdout",
     "output_type": "stream",
     "text": [
      "-----------------------------------------------------------------\n",
      "loss_contour:  tensor(41098158.8712, device='cuda:0', dtype=torch.float64)\n",
      "loss_tip_distance:  tensor(1435.6228, device='cuda:0', dtype=torch.float64,\n",
      "       grad_fn=<MeanBackward0>)\n",
      "motion_model_loss:  tensor(1.0027e+10, device='cuda:0')\n",
      "loss:  tensor(105816.2042, device='cuda:0', dtype=torch.float64,\n",
      "       grad_fn=<AddBackward0>)\n",
      "-----------------------------------------------------------------\n",
      "Gradients BEFORE BACKWARD PASS:\n",
      "para_init: No gradient computed\n",
      "Gradients AFTER BACKWARD PASS:\n",
      "Parameter: para_init, Gradient: 296803.78125\n",
      "Parameter: para_init, Updated Value: tensor([ 0.0300,  0.0055,  0.0702,  0.0299, -0.0499,  0.1707], device='cuda:0')\n",
      "Loss:  105816.20416078626\n",
      "\n",
      "================================================================================================================\n",
      "loop_id:  3\n"
     ]
    },
    {
     "name": "stderr",
     "output_type": "stream",
     "text": [
      "Optimizing:   4%|▍         | 4/100 [00:16<05:15,  3.28s/it, loss=2.12e+5]"
     ]
    },
    {
     "name": "stdout",
     "output_type": "stream",
     "text": [
      "-----------------------------------------------------------------\n",
      "loss_contour:  tensor(7.0215e+08, device='cuda:0', dtype=torch.float64)\n",
      "loss_tip_distance:  tensor(1139.3718, device='cuda:0', dtype=torch.float64,\n",
      "       grad_fn=<MeanBackward0>)\n",
      "motion_model_loss:  tensor(1.4094e+10, device='cuda:0')\n",
      "loss:  tensor(212294.7107, device='cuda:0', dtype=torch.float64,\n",
      "       grad_fn=<AddBackward0>)\n",
      "-----------------------------------------------------------------\n",
      "Gradients BEFORE BACKWARD PASS:\n",
      "para_init: No gradient computed\n",
      "Gradients AFTER BACKWARD PASS:\n",
      "Parameter: para_init, Gradient: 260567.4375\n",
      "Parameter: para_init, Updated Value: tensor([ 0.0300,  0.0055,  0.0702,  0.0257, -0.0480,  0.1755], device='cuda:0')\n",
      "Loss:  212294.71070731542\n",
      "\n",
      "================================================================================================================\n",
      "loop_id:  4\n"
     ]
    },
    {
     "name": "stderr",
     "output_type": "stream",
     "text": [
      "Optimizing:   5%|▌         | 5/100 [00:18<04:42,  2.97s/it, loss=2.56e+4]"
     ]
    },
    {
     "name": "stdout",
     "output_type": "stream",
     "text": [
      "-----------------------------------------------------------------\n",
      "loss_contour:  tensor(28722158.2809, device='cuda:0', dtype=torch.float64)\n",
      "loss_tip_distance:  tensor(407.2633, device='cuda:0', dtype=torch.float64, grad_fn=<MeanBackward0>)\n",
      "motion_model_loss:  tensor(2.2278e+09, device='cuda:0')\n",
      "loss:  tensor(25557.6666, device='cuda:0', dtype=torch.float64,\n",
      "       grad_fn=<AddBackward0>)\n",
      "-----------------------------------------------------------------\n",
      "Gradients BEFORE BACKWARD PASS:\n",
      "para_init: No gradient computed\n",
      "Gradients AFTER BACKWARD PASS:\n",
      "Parameter: para_init, Gradient: 147314.390625\n",
      "Parameter: para_init, Updated Value: tensor([ 0.0300,  0.0055,  0.0702,  0.0227, -0.0450,  0.1807], device='cuda:0')\n",
      "Loss:  25557.66656608075\n",
      "\n",
      "================================================================================================================\n",
      "loop_id:  5\n"
     ]
    },
    {
     "name": "stderr",
     "output_type": "stream",
     "text": [
      "Optimizing:   6%|▌         | 6/100 [00:21<04:20,  2.77s/it, loss=1.19e+4]"
     ]
    },
    {
     "name": "stdout",
     "output_type": "stream",
     "text": [
      "-----------------------------------------------------------------\n",
      "loss_contour:  tensor(14738466.1727, device='cuda:0', dtype=torch.float64)\n",
      "loss_tip_distance:  tensor(330.6042, device='cuda:0', dtype=torch.float64, grad_fn=<MeanBackward0>)\n",
      "motion_model_loss:  tensor(1.0108e+09, device='cuda:0')\n",
      "loss:  tensor(11912.7896, device='cuda:0', dtype=torch.float64,\n",
      "       grad_fn=<AddBackward0>)\n",
      "-----------------------------------------------------------------\n",
      "Gradients BEFORE BACKWARD PASS:\n",
      "para_init: No gradient computed\n",
      "Gradients AFTER BACKWARD PASS:\n",
      "Parameter: para_init, Gradient: 125938.6328125\n",
      "Parameter: para_init, Updated Value: tensor([ 0.0300,  0.0055,  0.0702,  0.0223, -0.0420,  0.1848], device='cuda:0')\n",
      "Loss:  11912.78960481685\n",
      "\n",
      "================================================================================================================\n",
      "loop_id:  6\n"
     ]
    },
    {
     "name": "stderr",
     "output_type": "stream",
     "text": [
      "Optimizing:   7%|▋         | 7/100 [00:23<04:05,  2.64s/it, loss=1.48e+5]"
     ]
    },
    {
     "name": "stdout",
     "output_type": "stream",
     "text": [
      "-----------------------------------------------------------------\n",
      "loss_contour:  tensor(9.2088e+08, device='cuda:0', dtype=torch.float64)\n",
      "loss_tip_distance:  tensor(521.1942, device='cuda:0', dtype=torch.float64, grad_fn=<MeanBackward0>)\n",
      "motion_model_loss:  tensor(5.5046e+09, device='cuda:0')\n",
      "loss:  tensor(147654.6148, device='cuda:0', dtype=torch.float64,\n",
      "       grad_fn=<AddBackward0>)\n",
      "-----------------------------------------------------------------\n",
      "Gradients BEFORE BACKWARD PASS:\n",
      "para_init: No gradient computed\n",
      "Gradients AFTER BACKWARD PASS:\n",
      "Parameter: para_init, Gradient: 157411.71875\n",
      "Parameter: para_init, Updated Value: tensor([ 0.0300,  0.0055,  0.0702,  0.0240, -0.0401,  0.1874], device='cuda:0')\n",
      "Loss:  147654.61479012622\n",
      "\n",
      "================================================================================================================\n",
      "loop_id:  7\n"
     ]
    },
    {
     "name": "stderr",
     "output_type": "stream",
     "text": [
      "Optimizing:   8%|▊         | 8/100 [00:25<03:52,  2.53s/it, loss=4.74e+5]"
     ]
    },
    {
     "name": "stdout",
     "output_type": "stream",
     "text": [
      "-----------------------------------------------------------------\n",
      "loss_contour:  tensor(3.8675e+09, device='cuda:0', dtype=torch.float64)\n",
      "loss_tip_distance:  tensor(569.1495, device='cuda:0', dtype=torch.float64, grad_fn=<MeanBackward0>)\n",
      "motion_model_loss:  tensor(8.6946e+09, device='cuda:0')\n",
      "loss:  tensor(474260.8126, device='cuda:0', dtype=torch.float64,\n",
      "       grad_fn=<AddBackward0>)\n",
      "-----------------------------------------------------------------\n",
      "Gradients BEFORE BACKWARD PASS:\n",
      "para_init: No gradient computed\n",
      "Gradients AFTER BACKWARD PASS:\n",
      "Parameter: para_init, Gradient: 163702.59375\n",
      "Parameter: para_init, Updated Value: tensor([ 0.0300,  0.0055,  0.0702,  0.0269, -0.0397,  0.1883], device='cuda:0')\n",
      "Loss:  474260.8125592798\n",
      "\n",
      "================================================================================================================\n",
      "loop_id:  8\n"
     ]
    },
    {
     "name": "stderr",
     "output_type": "stream",
     "text": [
      "Optimizing:   9%|▉         | 9/100 [00:28<03:46,  2.49s/it, loss=1.65e+5]"
     ]
    },
    {
     "name": "stdout",
     "output_type": "stream",
     "text": [
      "-----------------------------------------------------------------\n",
      "loss_contour:  tensor(22314044.3070, device='cuda:0', dtype=torch.float64)\n",
      "loss_tip_distance:  tensor(433.4194, device='cuda:0', dtype=torch.float64, grad_fn=<MeanBackward0>)\n",
      "motion_model_loss:  tensor(1.6243e+10, device='cuda:0')\n",
      "loss:  tensor(165091.0738, device='cuda:0', dtype=torch.float64,\n",
      "       grad_fn=<AddBackward0>)\n",
      "-----------------------------------------------------------------\n",
      "Gradients BEFORE BACKWARD PASS:\n",
      "para_init: No gradient computed\n",
      "Gradients AFTER BACKWARD PASS:\n",
      "Parameter: para_init, Gradient: 142202.484375\n",
      "Parameter: para_init, Updated Value: tensor([ 0.0300,  0.0055,  0.0702,  0.0301, -0.0406,  0.1881], device='cuda:0')\n",
      "Loss:  165091.07375260562\n",
      "\n",
      "================================================================================================================\n",
      "loop_id:  9\n"
     ]
    },
    {
     "name": "stderr",
     "output_type": "stream",
     "text": [
      "Optimizing:  10%|█         | 10/100 [00:30<03:40,  2.45s/it, loss=7.22e+4]"
     ]
    },
    {
     "name": "stdout",
     "output_type": "stream",
     "text": [
      "-----------------------------------------------------------------\n",
      "loss_contour:  tensor(5.4046e+08, device='cuda:0', dtype=torch.float64)\n",
      "loss_tip_distance:  tensor(284.3035, device='cuda:0', dtype=torch.float64, grad_fn=<MeanBackward0>)\n",
      "motion_model_loss:  tensor(1.7880e+09, device='cuda:0')\n",
      "loss:  tensor(72209.8371, device='cuda:0', dtype=torch.float64,\n",
      "       grad_fn=<AddBackward0>)\n",
      "-----------------------------------------------------------------\n",
      "Gradients BEFORE BACKWARD PASS:\n",
      "para_init: No gradient computed\n",
      "Gradients AFTER BACKWARD PASS:\n",
      "Parameter: para_init, Gradient: 113677.0625\n",
      "Parameter: para_init, Updated Value: tensor([ 0.0300,  0.0055,  0.0702,  0.0326, -0.0425,  0.1873], device='cuda:0')\n",
      "Loss:  72209.8371308897\n",
      "\n",
      "================================================================================================================\n",
      "loop_id:  10\n"
     ]
    },
    {
     "name": "stderr",
     "output_type": "stream",
     "text": [
      "Optimizing:  11%|█         | 11/100 [00:32<03:33,  2.40s/it, loss=1.38e+4]"
     ]
    },
    {
     "name": "stdout",
     "output_type": "stream",
     "text": [
      "-----------------------------------------------------------------\n",
      "loss_contour:  tensor(22984596.4689, device='cuda:0', dtype=torch.float64)\n",
      "loss_tip_distance:  tensor(249.2328, device='cuda:0', dtype=torch.float64, grad_fn=<MeanBackward0>)\n",
      "motion_model_loss:  tensor(1.1246e+09, device='cuda:0')\n",
      "loss:  tensor(13793.5937, device='cuda:0', dtype=torch.float64,\n",
      "       grad_fn=<AddBackward0>)\n",
      "-----------------------------------------------------------------\n",
      "Gradients BEFORE BACKWARD PASS:\n",
      "para_init: No gradient computed\n",
      "Gradients AFTER BACKWARD PASS:\n",
      "Parameter: para_init, Gradient: 105262.40625\n",
      "Parameter: para_init, Updated Value: tensor([ 0.0300,  0.0055,  0.0702,  0.0337, -0.0447,  0.1866], device='cuda:0')\n",
      "Loss:  13793.593713505374\n",
      "\n",
      "================================================================================================================\n",
      "loop_id:  11\n"
     ]
    },
    {
     "name": "stderr",
     "output_type": "stream",
     "text": [
      "Optimizing:  12%|█▏        | 12/100 [00:35<03:34,  2.44s/it, loss=2.49e+4]"
     ]
    },
    {
     "name": "stdout",
     "output_type": "stream",
     "text": [
      "-----------------------------------------------------------------\n",
      "loss_contour:  tensor(13006384.8040, device='cuda:0', dtype=torch.float64)\n",
      "loss_tip_distance:  tensor(277.3362, device='cuda:0', dtype=torch.float64, grad_fn=<MeanBackward0>)\n",
      "motion_model_loss:  tensor(2.3293e+09, device='cuda:0')\n",
      "loss:  tensor(24870.7051, device='cuda:0', dtype=torch.float64,\n",
      "       grad_fn=<AddBackward0>)\n",
      "-----------------------------------------------------------------\n",
      "Gradients BEFORE BACKWARD PASS:\n",
      "para_init: No gradient computed\n",
      "Gradients AFTER BACKWARD PASS:\n",
      "Parameter: para_init, Gradient: 112771.8671875\n",
      "Parameter: para_init, Updated Value: tensor([ 0.0300,  0.0055,  0.0702,  0.0333, -0.0468,  0.1864], device='cuda:0')\n",
      "Loss:  24870.705081530505\n",
      "\n",
      "================================================================================================================\n",
      "loop_id:  12\n"
     ]
    },
    {
     "name": "stderr",
     "output_type": "stream",
     "text": [
      "Optimizing:  13%|█▎        | 13/100 [00:37<03:31,  2.43s/it, loss=2.06e+5]"
     ]
    },
    {
     "name": "stdout",
     "output_type": "stream",
     "text": [
      "-----------------------------------------------------------------\n",
      "loss_contour:  tensor(1.5846e+09, device='cuda:0', dtype=torch.float64)\n",
      "loss_tip_distance:  tensor(265.6277, device='cuda:0', dtype=torch.float64, grad_fn=<MeanBackward0>)\n",
      "motion_model_loss:  tensor(4.7277e+09, device='cuda:0')\n",
      "loss:  tensor(206002.9975, device='cuda:0', dtype=torch.float64,\n",
      "       grad_fn=<AddBackward0>)\n",
      "-----------------------------------------------------------------\n",
      "Gradients BEFORE BACKWARD PASS:\n",
      "para_init: No gradient computed\n",
      "Gradients AFTER BACKWARD PASS:\n",
      "Parameter: para_init, Gradient: 112569.984375\n",
      "Parameter: para_init, Updated Value: tensor([ 0.0300,  0.0055,  0.0702,  0.0318, -0.0484,  0.1871], device='cuda:0')\n",
      "Loss:  206002.99747624164\n",
      "\n",
      "================================================================================================================\n",
      "loop_id:  13\n"
     ]
    },
    {
     "name": "stderr",
     "output_type": "stream",
     "text": [
      "Optimizing:  14%|█▍        | 14/100 [00:40<03:25,  2.39s/it, loss=2.99e+5]"
     ]
    },
    {
     "name": "stdout",
     "output_type": "stream",
     "text": [
      "-----------------------------------------------------------------\n",
      "loss_contour:  tensor(20916365.5198, device='cuda:0', dtype=torch.float64)\n",
      "loss_tip_distance:  tensor(197.9200, device='cuda:0', dtype=torch.float64, grad_fn=<MeanBackward0>)\n",
      "motion_model_loss:  tensor(2.9645e+10, device='cuda:0')\n",
      "loss:  tensor(298741.4002, device='cuda:0', dtype=torch.float64,\n",
      "       grad_fn=<AddBackward0>)\n",
      "-----------------------------------------------------------------\n",
      "Gradients BEFORE BACKWARD PASS:\n",
      "para_init: No gradient computed\n",
      "Gradients AFTER BACKWARD PASS:\n",
      "Parameter: para_init, Gradient: 98114.6796875\n",
      "Parameter: para_init, Updated Value: tensor([ 0.0300,  0.0055,  0.0702,  0.0296, -0.0492,  0.1886], device='cuda:0')\n",
      "Loss:  298741.40022665716\n",
      "\n",
      "================================================================================================================\n",
      "loop_id:  14\n"
     ]
    },
    {
     "name": "stderr",
     "output_type": "stream",
     "text": [
      "Optimizing:  15%|█▌        | 15/100 [00:42<03:23,  2.40s/it, loss=2.7e+4] "
     ]
    },
    {
     "name": "stdout",
     "output_type": "stream",
     "text": [
      "-----------------------------------------------------------------\n",
      "loss_contour:  tensor(14608935.1796, device='cuda:0', dtype=torch.float64)\n",
      "loss_tip_distance:  tensor(134.9615, device='cuda:0', dtype=torch.float64, grad_fn=<MeanBackward0>)\n",
      "motion_model_loss:  tensor(2.5361e+09, device='cuda:0')\n",
      "loss:  tensor(26956.9135, device='cuda:0', dtype=torch.float64,\n",
      "       grad_fn=<AddBackward0>)\n",
      "-----------------------------------------------------------------\n",
      "Gradients BEFORE BACKWARD PASS:\n",
      "para_init: No gradient computed\n",
      "Gradients AFTER BACKWARD PASS:\n",
      "Parameter: para_init, Gradient: 79961.1328125\n",
      "Parameter: para_init, Updated Value: tensor([ 0.0300,  0.0055,  0.0702,  0.0275, -0.0492,  0.1905], device='cuda:0')\n",
      "Loss:  26956.91353061486\n",
      "\n",
      "================================================================================================================\n",
      "loop_id:  15\n"
     ]
    },
    {
     "name": "stderr",
     "output_type": "stream",
     "text": [
      "Optimizing:  16%|█▌        | 16/100 [00:44<03:19,  2.37s/it, loss=1.29e+5]"
     ]
    },
    {
     "name": "stdout",
     "output_type": "stream",
     "text": [
      "-----------------------------------------------------------------\n",
      "loss_contour:  tensor(9.2879e+08, device='cuda:0', dtype=torch.float64)\n",
      "loss_tip_distance:  tensor(131.9066, device='cuda:0', dtype=torch.float64, grad_fn=<MeanBackward0>)\n",
      "motion_model_loss:  tensor(3.5529e+09, device='cuda:0')\n",
      "loss:  tensor(128540.4063, device='cuda:0', dtype=torch.float64,\n",
      "       grad_fn=<AddBackward0>)\n",
      "-----------------------------------------------------------------\n",
      "Gradients BEFORE BACKWARD PASS:\n",
      "para_init: No gradient computed\n",
      "Gradients AFTER BACKWARD PASS:\n",
      "Parameter: para_init, Gradient: 76112.7109375\n",
      "Parameter: para_init, Updated Value: tensor([ 0.0300,  0.0055,  0.0702,  0.0261, -0.0486,  0.1925], device='cuda:0')\n",
      "Loss:  128540.40634098217\n",
      "\n",
      "================================================================================================================\n",
      "loop_id:  16\n"
     ]
    },
    {
     "name": "stderr",
     "output_type": "stream",
     "text": [
      "Optimizing:  17%|█▋        | 17/100 [00:47<03:14,  2.35s/it, loss=1.14e+5]"
     ]
    },
    {
     "name": "stdout",
     "output_type": "stream",
     "text": [
      "-----------------------------------------------------------------\n",
      "loss_contour:  tensor(9.1874e+08, device='cuda:0', dtype=torch.float64)\n",
      "loss_tip_distance:  tensor(170.9239, device='cuda:0', dtype=torch.float64, grad_fn=<MeanBackward0>)\n",
      "motion_model_loss:  tensor(2.1518e+09, device='cuda:0')\n",
      "loss:  tensor(113563.1169, device='cuda:0', dtype=torch.float64,\n",
      "       grad_fn=<AddBackward0>)\n",
      "-----------------------------------------------------------------\n",
      "Gradients BEFORE BACKWARD PASS:\n",
      "para_init: No gradient computed\n",
      "Gradients AFTER BACKWARD PASS:\n",
      "Parameter: para_init, Gradient: 84815.6328125\n",
      "Parameter: para_init, Updated Value: tensor([ 0.0300,  0.0055,  0.0702,  0.0257, -0.0477,  0.1943], device='cuda:0')\n",
      "Loss:  113563.11689419707\n",
      "\n",
      "================================================================================================================\n",
      "loop_id:  17\n"
     ]
    },
    {
     "name": "stderr",
     "output_type": "stream",
     "text": [
      "Optimizing:  18%|█▊        | 18/100 [00:49<03:16,  2.39s/it, loss=3.37e+4]"
     ]
    },
    {
     "name": "stdout",
     "output_type": "stream",
     "text": [
      "-----------------------------------------------------------------\n",
      "loss_contour:  tensor(90084429.9092, device='cuda:0', dtype=torch.float64)\n",
      "loss_tip_distance:  tensor(188.0711, device='cuda:0', dtype=torch.float64, grad_fn=<MeanBackward0>)\n",
      "motion_model_loss:  tensor(2.4482e+09, device='cuda:0')\n",
      "loss:  tensor(33678.8166, device='cuda:0', dtype=torch.float64,\n",
      "       grad_fn=<AddBackward0>)\n",
      "-----------------------------------------------------------------\n",
      "Gradients BEFORE BACKWARD PASS:\n",
      "para_init: No gradient computed\n",
      "Gradients AFTER BACKWARD PASS:\n",
      "Parameter: para_init, Gradient: 88550.484375\n",
      "Parameter: para_init, Updated Value: tensor([ 0.0300,  0.0055,  0.0702,  0.0264, -0.0467,  0.1958], device='cuda:0')\n",
      "Loss:  33678.816635752344\n",
      "\n",
      "================================================================================================================\n",
      "loop_id:  18\n"
     ]
    },
    {
     "name": "stderr",
     "output_type": "stream",
     "text": [
      "Optimizing:  19%|█▉        | 19/100 [00:51<03:12,  2.37s/it, loss=1.65e+4]"
     ]
    },
    {
     "name": "stdout",
     "output_type": "stream",
     "text": [
      "-----------------------------------------------------------------\n",
      "loss_contour:  tensor(45862645.3906, device='cuda:0', dtype=torch.float64)\n",
      "loss_tip_distance:  tensor(151.9718, device='cuda:0', dtype=torch.float64, grad_fn=<MeanBackward0>)\n",
      "motion_model_loss:  tensor(1.1754e+09, device='cuda:0')\n",
      "loss:  tensor(16492.5839, device='cuda:0', dtype=torch.float64,\n",
      "       grad_fn=<AddBackward0>)\n",
      "-----------------------------------------------------------------\n",
      "Gradients BEFORE BACKWARD PASS:\n",
      "para_init: No gradient computed\n",
      "Gradients AFTER BACKWARD PASS:\n",
      "Parameter: para_init, Gradient: 79853.09375\n",
      "Parameter: para_init, Updated Value: tensor([ 0.0300,  0.0055,  0.0702,  0.0278, -0.0460,  0.1966], device='cuda:0')\n",
      "Loss:  16492.58388254883\n",
      "\n",
      "================================================================================================================\n",
      "loop_id:  19\n"
     ]
    },
    {
     "name": "stderr",
     "output_type": "stream",
     "text": [
      "Optimizing:  20%|██        | 20/100 [00:54<03:07,  2.34s/it, loss=2.45e+4]"
     ]
    },
    {
     "name": "stdout",
     "output_type": "stream",
     "text": [
      "-----------------------------------------------------------------\n",
      "loss_contour:  tensor(15146115.5019, device='cuda:0', dtype=torch.float64)\n",
      "loss_tip_distance:  tensor(88.2605, device='cuda:0', dtype=torch.float64, grad_fn=<MeanBackward0>)\n",
      "motion_model_loss:  tensor(2.2909e+09, device='cuda:0')\n",
      "loss:  tensor(24512.2704, device='cuda:0', dtype=torch.float64,\n",
      "       grad_fn=<AddBackward0>)\n",
      "-----------------------------------------------------------------\n",
      "Gradients BEFORE BACKWARD PASS:\n",
      "para_init: No gradient computed\n",
      "Gradients AFTER BACKWARD PASS:\n",
      "Parameter: para_init, Gradient: 61459.3046875\n",
      "Parameter: para_init, Updated Value: tensor([ 0.0300,  0.0055,  0.0702,  0.0297, -0.0457,  0.1970], device='cuda:0')\n",
      "Loss:  24512.270404773128\n",
      "\n",
      "================================================================================================================\n",
      "loop_id:  20\n"
     ]
    },
    {
     "name": "stderr",
     "output_type": "stream",
     "text": [
      "Optimizing:  21%|██        | 21/100 [00:56<03:06,  2.37s/it, loss=2.23e+4]"
     ]
    },
    {
     "name": "stdout",
     "output_type": "stream",
     "text": [
      "-----------------------------------------------------------------\n",
      "loss_contour:  tensor(62763699.2206, device='cuda:0', dtype=torch.float64)\n",
      "loss_tip_distance:  tensor(46.3612, device='cuda:0', dtype=torch.float64, grad_fn=<MeanBackward0>)\n",
      "motion_model_loss:  tensor(1.5966e+09, device='cuda:0')\n",
      "loss:  tensor(22289.0298, device='cuda:0', dtype=torch.float64,\n",
      "       grad_fn=<AddBackward0>)\n",
      "-----------------------------------------------------------------\n",
      "Gradients BEFORE BACKWARD PASS:\n",
      "para_init: No gradient computed\n",
      "Gradients AFTER BACKWARD PASS:\n",
      "Parameter: para_init, Gradient: 44655.01171875\n",
      "Parameter: para_init, Updated Value: tensor([ 0.0300,  0.0055,  0.0702,  0.0316, -0.0458,  0.1970], device='cuda:0')\n",
      "Loss:  22289.02975123014\n",
      "\n",
      "================================================================================================================\n",
      "loop_id:  21\n"
     ]
    },
    {
     "name": "stderr",
     "output_type": "stream",
     "text": [
      "Optimizing:  22%|██▏       | 22/100 [00:59<03:10,  2.44s/it, loss=1.45e+4]"
     ]
    },
    {
     "name": "stdout",
     "output_type": "stream",
     "text": [
      "-----------------------------------------------------------------\n",
      "loss_contour:  tensor(13743887.0698, device='cuda:0', dtype=torch.float64)\n",
      "loss_tip_distance:  tensor(54.4779, device='cuda:0', dtype=torch.float64, grad_fn=<MeanBackward0>)\n",
      "motion_model_loss:  tensor(1.3102e+09, device='cuda:0')\n",
      "loss:  tensor(14531.0805, device='cuda:0', dtype=torch.float64,\n",
      "       grad_fn=<AddBackward0>)\n",
      "-----------------------------------------------------------------\n",
      "Gradients BEFORE BACKWARD PASS:\n",
      "para_init: No gradient computed\n",
      "Gradients AFTER BACKWARD PASS:\n",
      "Parameter: para_init, Gradient: 47065.06640625\n",
      "Parameter: para_init, Updated Value: tensor([ 0.0300,  0.0055,  0.0702,  0.0330, -0.0462,  0.1968], device='cuda:0')\n",
      "Loss:  14531.080485281578\n",
      "\n",
      "================================================================================================================\n",
      "loop_id:  22\n"
     ]
    },
    {
     "name": "stderr",
     "output_type": "stream",
     "text": [
      "Optimizing:  23%|██▎       | 23/100 [01:01<03:04,  2.39s/it, loss=2.49e+4]"
     ]
    },
    {
     "name": "stdout",
     "output_type": "stream",
     "text": [
      "-----------------------------------------------------------------\n",
      "loss_contour:  tensor(58808865.6912, device='cuda:0', dtype=torch.float64)\n",
      "loss_tip_distance:  tensor(94.0347, device='cuda:0', dtype=torch.float64, grad_fn=<MeanBackward0>)\n",
      "motion_model_loss:  tensor(1.8901e+09, device='cuda:0')\n",
      "loss:  tensor(24876.1243, device='cuda:0', dtype=torch.float64,\n",
      "       grad_fn=<AddBackward0>)\n",
      "-----------------------------------------------------------------\n",
      "Gradients BEFORE BACKWARD PASS:\n",
      "para_init: No gradient computed\n",
      "Gradients AFTER BACKWARD PASS:\n",
      "Parameter: para_init, Gradient: 61562.9453125\n",
      "Parameter: para_init, Updated Value: tensor([ 0.0300,  0.0055,  0.0702,  0.0336, -0.0470,  0.1967], device='cuda:0')\n",
      "Loss:  24876.1242731943\n",
      "\n",
      "================================================================================================================\n",
      "loop_id:  23\n"
     ]
    },
    {
     "name": "stderr",
     "output_type": "stream",
     "text": [
      "Optimizing:  24%|██▍       | 24/100 [01:04<03:04,  2.43s/it, loss=1.9e+4] "
     ]
    },
    {
     "name": "stdout",
     "output_type": "stream",
     "text": [
      "-----------------------------------------------------------------\n",
      "loss_contour:  tensor(23084895.1568, device='cuda:0', dtype=torch.float64)\n",
      "loss_tip_distance:  tensor(117.1663, device='cuda:0', dtype=torch.float64, grad_fn=<MeanBackward0>)\n",
      "motion_model_loss:  tensor(1.6539e+09, device='cuda:0')\n",
      "loss:  tensor(18965.1089, device='cuda:0', dtype=torch.float64,\n",
      "       grad_fn=<AddBackward0>)\n",
      "-----------------------------------------------------------------\n",
      "Gradients BEFORE BACKWARD PASS:\n",
      "para_init: No gradient computed\n",
      "Gradients AFTER BACKWARD PASS:\n",
      "Parameter: para_init, Gradient: 69168.15625\n",
      "Parameter: para_init, Updated Value: tensor([ 0.0300,  0.0055,  0.0702,  0.0334, -0.0477,  0.1969], device='cuda:0')\n",
      "Loss:  18965.108908859245\n",
      "\n",
      "================================================================================================================\n",
      "loop_id:  24\n"
     ]
    },
    {
     "name": "stderr",
     "output_type": "stream",
     "text": [
      "Optimizing:  25%|██▌       | 25/100 [01:06<03:00,  2.40s/it, loss=2e+4]  "
     ]
    },
    {
     "name": "stdout",
     "output_type": "stream",
     "text": [
      "-----------------------------------------------------------------\n",
      "loss_contour:  tensor(17510606.1883, device='cuda:0', dtype=torch.float64)\n",
      "loss_tip_distance:  tensor(95.4600, device='cuda:0', dtype=torch.float64, grad_fn=<MeanBackward0>)\n",
      "motion_model_loss:  tensor(1.8170e+09, device='cuda:0')\n",
      "loss:  tensor(20016.6573, device='cuda:0', dtype=torch.float64,\n",
      "       grad_fn=<AddBackward0>)\n",
      "-----------------------------------------------------------------\n",
      "Gradients BEFORE BACKWARD PASS:\n",
      "para_init: No gradient computed\n",
      "Gradients AFTER BACKWARD PASS:\n",
      "Parameter: para_init, Gradient: 62865.81640625\n",
      "Parameter: para_init, Updated Value: tensor([ 0.0300,  0.0055,  0.0702,  0.0325, -0.0485,  0.1974], device='cuda:0')\n",
      "Loss:  20016.65732755897\n",
      "\n",
      "================================================================================================================\n",
      "loop_id:  25\n"
     ]
    },
    {
     "name": "stderr",
     "output_type": "stream",
     "text": [
      "Optimizing:  26%|██▌       | 26/100 [01:08<02:55,  2.37s/it, loss=1.85e+4]"
     ]
    },
    {
     "name": "stdout",
     "output_type": "stream",
     "text": [
      "-----------------------------------------------------------------\n",
      "loss_contour:  tensor(11991690.8551, device='cuda:0', dtype=torch.float64)\n",
      "loss_tip_distance:  tensor(46.6637, device='cuda:0', dtype=torch.float64, grad_fn=<MeanBackward0>)\n",
      "motion_model_loss:  tensor(1.7303e+09, device='cuda:0')\n",
      "loss:  tensor(18549.1824, device='cuda:0', dtype=torch.float64,\n",
      "       grad_fn=<AddBackward0>)\n",
      "-----------------------------------------------------------------\n",
      "Gradients BEFORE BACKWARD PASS:\n",
      "para_init: No gradient computed\n",
      "Gradients AFTER BACKWARD PASS:\n",
      "Parameter: para_init, Gradient: 44323.640625\n",
      "Parameter: para_init, Updated Value: tensor([ 0.0300,  0.0055,  0.0702,  0.0311, -0.0490,  0.1982], device='cuda:0')\n",
      "Loss:  18549.18241217794\n",
      "\n",
      "================================================================================================================\n",
      "loop_id:  26\n"
     ]
    },
    {
     "name": "stderr",
     "output_type": "stream",
     "text": [
      "Optimizing:  27%|██▋       | 27/100 [01:11<02:58,  2.45s/it, loss=2.79e+4]"
     ]
    },
    {
     "name": "stdout",
     "output_type": "stream",
     "text": [
      "-----------------------------------------------------------------\n",
      "loss_contour:  tensor(75777416.6550, device='cuda:0', dtype=torch.float64)\n",
      "loss_tip_distance:  tensor(12.8740, device='cuda:0', dtype=torch.float64, grad_fn=<MeanBackward0>)\n",
      "motion_model_loss:  tensor(2.0280e+09, device='cuda:0')\n",
      "loss:  tensor(27871.0979, device='cuda:0', dtype=torch.float64,\n",
      "       grad_fn=<AddBackward0>)\n",
      "-----------------------------------------------------------------\n",
      "Gradients BEFORE BACKWARD PASS:\n",
      "para_init: No gradient computed\n",
      "Gradients AFTER BACKWARD PASS:\n",
      "Parameter: para_init, Gradient: 23561.693359375\n",
      "Parameter: para_init, Updated Value: tensor([ 0.0300,  0.0055,  0.0702,  0.0298, -0.0493,  0.1990], device='cuda:0')\n",
      "Loss:  27871.097857539422\n",
      "\n",
      "================================================================================================================\n",
      "loop_id:  27\n"
     ]
    },
    {
     "name": "stderr",
     "output_type": "stream",
     "text": [
      "Optimizing:  28%|██▊       | 28/100 [01:13<02:56,  2.45s/it, loss=4.48e+5]"
     ]
    },
    {
     "name": "stdout",
     "output_type": "stream",
     "text": [
      "-----------------------------------------------------------------\n",
      "loss_contour:  tensor(3.8137e+09, device='cuda:0', dtype=torch.float64)\n",
      "loss_tip_distance:  tensor(18.3983, device='cuda:0', dtype=torch.float64, grad_fn=<MeanBackward0>)\n",
      "motion_model_loss:  tensor(6.6863e+09, device='cuda:0')\n",
      "loss:  tensor(448249.3357, device='cuda:0', dtype=torch.float64,\n",
      "       grad_fn=<AddBackward0>)\n",
      "-----------------------------------------------------------------\n",
      "Gradients BEFORE BACKWARD PASS:\n",
      "para_init: No gradient computed\n",
      "Gradients AFTER BACKWARD PASS:\n",
      "Parameter: para_init, Gradient: 27012.587890625\n",
      "Parameter: para_init, Updated Value: tensor([ 0.0300,  0.0055,  0.0702,  0.0287, -0.0493,  0.1999], device='cuda:0')\n",
      "Loss:  448249.3357261835\n",
      "\n",
      "================================================================================================================\n",
      "loop_id:  28\n"
     ]
    },
    {
     "name": "stderr",
     "output_type": "stream",
     "text": [
      "Optimizing:  29%|██▉       | 29/100 [01:16<02:53,  2.44s/it, loss=1.64e+4]"
     ]
    },
    {
     "name": "stdout",
     "output_type": "stream",
     "text": [
      "-----------------------------------------------------------------\n",
      "loss_contour:  tensor(18786835.1626, device='cuda:0', dtype=torch.float64)\n",
      "loss_tip_distance:  tensor(48.9973, device='cuda:0', dtype=torch.float64, grad_fn=<MeanBackward0>)\n",
      "motion_model_loss:  tensor(1.4467e+09, device='cuda:0')\n",
      "loss:  tensor(16394.6612, device='cuda:0', dtype=torch.float64,\n",
      "       grad_fn=<AddBackward0>)\n",
      "-----------------------------------------------------------------\n",
      "Gradients BEFORE BACKWARD PASS:\n",
      "para_init: No gradient computed\n",
      "Gradients AFTER BACKWARD PASS:\n",
      "Parameter: para_init, Gradient: 43749.609375\n",
      "Parameter: para_init, Updated Value: tensor([ 0.0300,  0.0055,  0.0702,  0.0283, -0.0492,  0.2007], device='cuda:0')\n",
      "Loss:  16394.661210699902\n",
      "\n",
      "================================================================================================================\n",
      "loop_id:  29\n"
     ]
    },
    {
     "name": "stderr",
     "output_type": "stream",
     "text": [
      "Optimizing:  30%|███       | 30/100 [01:18<02:54,  2.49s/it, loss=3.51e+4]"
     ]
    },
    {
     "name": "stdout",
     "output_type": "stream",
     "text": [
      "-----------------------------------------------------------------\n",
      "loss_contour:  tensor(43352629.5148, device='cuda:0', dtype=torch.float64)\n",
      "loss_tip_distance:  tensor(69.5545, device='cuda:0', dtype=torch.float64, grad_fn=<MeanBackward0>)\n",
      "motion_model_loss:  tensor(3.0715e+09, device='cuda:0')\n",
      "loss:  tensor(35119.9677, device='cuda:0', dtype=torch.float64,\n",
      "       grad_fn=<AddBackward0>)\n",
      "-----------------------------------------------------------------\n",
      "Gradients BEFORE BACKWARD PASS:\n",
      "para_init: No gradient computed\n",
      "Gradients AFTER BACKWARD PASS:\n",
      "Parameter: para_init, Gradient: 52092.59375\n",
      "Parameter: para_init, Updated Value: tensor([ 0.0300,  0.0055,  0.0702,  0.0285, -0.0490,  0.2012], device='cuda:0')\n",
      "Loss:  35119.967726181305\n",
      "\n",
      "================================================================================================================\n",
      "loop_id:  30\n"
     ]
    },
    {
     "name": "stderr",
     "output_type": "stream",
     "text": [
      "Optimizing:  31%|███       | 31/100 [01:21<02:51,  2.48s/it, loss=2.35e+4]"
     ]
    },
    {
     "name": "stdout",
     "output_type": "stream",
     "text": [
      "-----------------------------------------------------------------\n",
      "loss_contour:  tensor(15824313.1547, device='cuda:0', dtype=torch.float64)\n",
      "loss_tip_distance:  tensor(59.2650, device='cuda:0', dtype=torch.float64, grad_fn=<MeanBackward0>)\n",
      "motion_model_loss:  tensor(2.1872e+09, device='cuda:0')\n",
      "loss:  tensor(23513.6319, device='cuda:0', dtype=torch.float64,\n",
      "       grad_fn=<AddBackward0>)\n",
      "-----------------------------------------------------------------\n",
      "Gradients BEFORE BACKWARD PASS:\n",
      "para_init: No gradient computed\n",
      "Gradients AFTER BACKWARD PASS:\n",
      "Parameter: para_init, Gradient: 48133.66015625\n",
      "Parameter: para_init, Updated Value: tensor([ 0.0300,  0.0055,  0.0702,  0.0293, -0.0487,  0.2015], device='cuda:0')\n",
      "Loss:  23513.63186490001\n",
      "\n",
      "================================================================================================================\n",
      "loop_id:  31\n"
     ]
    },
    {
     "name": "stderr",
     "output_type": "stream",
     "text": [
      "Optimizing:  32%|███▏      | 32/100 [01:24<02:58,  2.62s/it, loss=1.63e+5]"
     ]
    },
    {
     "name": "stdout",
     "output_type": "stream",
     "text": [
      "-----------------------------------------------------------------\n",
      "loss_contour:  tensor(1.1021e+09, device='cuda:0', dtype=torch.float64)\n",
      "loss_tip_distance:  tensor(28.3566, device='cuda:0', dtype=torch.float64, grad_fn=<MeanBackward0>)\n",
      "motion_model_loss:  tensor(5.3254e+09, device='cuda:0')\n",
      "loss:  tensor(163491.4226, device='cuda:0', dtype=torch.float64,\n",
      "       grad_fn=<AddBackward0>)\n",
      "-----------------------------------------------------------------\n",
      "Gradients BEFORE BACKWARD PASS:\n",
      "para_init: No gradient computed\n",
      "Gradients AFTER BACKWARD PASS:\n",
      "Parameter: para_init, Gradient: 33438.6328125\n",
      "Parameter: para_init, Updated Value: tensor([ 0.0300,  0.0055,  0.0702,  0.0305, -0.0485,  0.2016], device='cuda:0')\n",
      "Loss:  163491.42256873634\n",
      "\n",
      "================================================================================================================\n",
      "loop_id:  32\n"
     ]
    },
    {
     "name": "stderr",
     "output_type": "stream",
     "text": [
      "Optimizing:  33%|███▎      | 33/100 [01:26<02:49,  2.53s/it, loss=2.51e+4]"
     ]
    },
    {
     "name": "stdout",
     "output_type": "stream",
     "text": [
      "-----------------------------------------------------------------\n",
      "loss_contour:  tensor(12934008.4304, device='cuda:0', dtype=torch.float64)\n",
      "loss_tip_distance:  tensor(4.4276, device='cuda:0', dtype=torch.float64, grad_fn=<MeanBackward0>)\n",
      "motion_model_loss:  tensor(2.3797e+09, device='cuda:0')\n",
      "loss:  tensor(25094.3362, device='cuda:0', dtype=torch.float64,\n",
      "       grad_fn=<AddBackward0>)\n",
      "-----------------------------------------------------------------\n",
      "Gradients BEFORE BACKWARD PASS:\n",
      "para_init: No gradient computed\n",
      "Gradients AFTER BACKWARD PASS:\n",
      "Parameter: para_init, Gradient: 13449.111328125\n",
      "Parameter: para_init, Updated Value: tensor([ 0.0300,  0.0055,  0.0702,  0.0317, -0.0484,  0.2016], device='cuda:0')\n",
      "Loss:  25094.33624748532\n",
      "\n",
      "================================================================================================================\n",
      "loop_id:  33\n"
     ]
    },
    {
     "name": "stderr",
     "output_type": "stream",
     "text": [
      "Optimizing:  34%|███▍      | 34/100 [01:28<02:42,  2.46s/it, loss=4.52e+4]"
     ]
    },
    {
     "name": "stdout",
     "output_type": "stream",
     "text": [
      "-----------------------------------------------------------------\n",
      "loss_contour:  tensor(29931769.4232, device='cuda:0', dtype=torch.float64)\n",
      "loss_tip_distance:  tensor(5.5786, device='cuda:0', dtype=torch.float64, grad_fn=<MeanBackward0>)\n",
      "motion_model_loss:  tensor(4.2249e+09, device='cuda:0')\n",
      "loss:  tensor(45248.1617, device='cuda:0', dtype=torch.float64,\n",
      "       grad_fn=<AddBackward0>)\n",
      "-----------------------------------------------------------------\n",
      "Gradients BEFORE BACKWARD PASS:\n",
      "para_init: No gradient computed\n",
      "Gradients AFTER BACKWARD PASS:\n",
      "Parameter: para_init, Gradient: 14633.1982421875\n",
      "Parameter: para_init, Updated Value: tensor([ 0.0300,  0.0055,  0.0702,  0.0326, -0.0484,  0.2015], device='cuda:0')\n",
      "Loss:  45248.16168324394\n",
      "\n",
      "================================================================================================================\n",
      "loop_id:  34\n"
     ]
    },
    {
     "name": "stderr",
     "output_type": "stream",
     "text": [
      "Optimizing:  35%|███▌      | 35/100 [01:31<02:38,  2.43s/it, loss=3.2e+5] "
     ]
    },
    {
     "name": "stdout",
     "output_type": "stream",
     "text": [
      "-----------------------------------------------------------------\n",
      "loss_contour:  tensor(2.3834e+09, device='cuda:0', dtype=torch.float64)\n",
      "loss_tip_distance:  tensor(24.8946, device='cuda:0', dtype=torch.float64, grad_fn=<MeanBackward0>)\n",
      "motion_model_loss:  tensor(8.1211e+09, device='cuda:0')\n",
      "loss:  tensor(319580.8984, device='cuda:0', dtype=torch.float64,\n",
      "       grad_fn=<AddBackward0>)\n",
      "-----------------------------------------------------------------\n",
      "Gradients BEFORE BACKWARD PASS:\n",
      "para_init: No gradient computed\n",
      "Gradients AFTER BACKWARD PASS:\n",
      "Parameter: para_init, Gradient: 31038.6015625\n",
      "Parameter: para_init, Updated Value: tensor([ 0.0300,  0.0055,  0.0702,  0.0330, -0.0485,  0.2016], device='cuda:0')\n",
      "Loss:  319580.8984166777\n",
      "\n",
      "================================================================================================================\n",
      "loop_id:  35\n"
     ]
    },
    {
     "name": "stderr",
     "output_type": "stream",
     "text": [
      "Optimizing:  36%|███▌      | 36/100 [01:33<02:33,  2.41s/it, loss=3.22e+4]"
     ]
    },
    {
     "name": "stdout",
     "output_type": "stream",
     "text": [
      "-----------------------------------------------------------------\n",
      "loss_contour:  tensor(11923027.2868, device='cuda:0', dtype=torch.float64)\n",
      "loss_tip_distance:  tensor(39.4604, device='cuda:0', dtype=torch.float64, grad_fn=<MeanBackward0>)\n",
      "motion_model_loss:  tensor(3.0937e+09, device='cuda:0')\n",
      "loss:  tensor(32169.1557, device='cuda:0', dtype=torch.float64,\n",
      "       grad_fn=<AddBackward0>)\n",
      "-----------------------------------------------------------------\n",
      "Gradients BEFORE BACKWARD PASS:\n",
      "para_init: No gradient computed\n",
      "Gradients AFTER BACKWARD PASS:\n",
      "Parameter: para_init, Gradient: 39183.00390625\n",
      "Parameter: para_init, Updated Value: tensor([ 0.0300,  0.0055,  0.0702,  0.0330, -0.0487,  0.2018], device='cuda:0')\n",
      "Loss:  32169.155670291224\n",
      "\n",
      "================================================================================================================\n",
      "loop_id:  36\n"
     ]
    },
    {
     "name": "stderr",
     "output_type": "stream",
     "text": [
      "Optimizing:  37%|███▋      | 37/100 [01:35<02:28,  2.35s/it, loss=4.9e+4] "
     ]
    },
    {
     "name": "stdout",
     "output_type": "stream",
     "text": [
      "-----------------------------------------------------------------\n",
      "loss_contour:  tensor(15180306.5067, device='cuda:0', dtype=torch.float64)\n",
      "loss_tip_distance:  tensor(34.1741, device='cuda:0', dtype=torch.float64, grad_fn=<MeanBackward0>)\n",
      "motion_model_loss:  tensor(4.7460e+09, device='cuda:0')\n",
      "loss:  tensor(49012.3648, device='cuda:0', dtype=torch.float64,\n",
      "       grad_fn=<AddBackward0>)\n",
      "-----------------------------------------------------------------\n",
      "Gradients BEFORE BACKWARD PASS:\n",
      "para_init: No gradient computed\n",
      "Gradients AFTER BACKWARD PASS:\n",
      "Parameter: para_init, Gradient: 36477.47265625\n",
      "Parameter: para_init, Updated Value: tensor([ 0.0300,  0.0055,  0.0702,  0.0324, -0.0489,  0.2022], device='cuda:0')\n",
      "Loss:  49012.364831180275\n",
      "\n",
      "================================================================================================================\n",
      "loop_id:  37\n"
     ]
    },
    {
     "name": "stderr",
     "output_type": "stream",
     "text": [
      "Optimizing:  38%|███▊      | 38/100 [01:38<02:26,  2.36s/it, loss=3.53e+4]"
     ]
    },
    {
     "name": "stdout",
     "output_type": "stream",
     "text": [
      "-----------------------------------------------------------------\n",
      "loss_contour:  tensor(28334794.5189, device='cuda:0', dtype=torch.float64)\n",
      "loss_tip_distance:  tensor(15.3112, device='cuda:0', dtype=torch.float64, grad_fn=<MeanBackward0>)\n",
      "motion_model_loss:  tensor(3.2442e+09, device='cuda:0')\n",
      "loss:  tensor(35291.2887, device='cuda:0', dtype=torch.float64,\n",
      "       grad_fn=<AddBackward0>)\n",
      "-----------------------------------------------------------------\n",
      "Gradients BEFORE BACKWARD PASS:\n",
      "para_init: No gradient computed\n",
      "Gradients AFTER BACKWARD PASS:\n",
      "Parameter: para_init, Gradient: 24385.220703125\n",
      "Parameter: para_init, Updated Value: tensor([ 0.0300,  0.0055,  0.0702,  0.0316, -0.0491,  0.2026], device='cuda:0')\n",
      "Loss:  35291.288666518456\n",
      "\n",
      "================================================================================================================\n",
      "loop_id:  38\n"
     ]
    },
    {
     "name": "stderr",
     "output_type": "stream",
     "text": [
      "Optimizing:  39%|███▉      | 39/100 [01:40<02:20,  2.30s/it, loss=1.52e+4]"
     ]
    },
    {
     "name": "stdout",
     "output_type": "stream",
     "text": [
      "-----------------------------------------------------------------\n",
      "loss_contour:  tensor(30173660.9381, device='cuda:0', dtype=torch.float64)\n",
      "loss_tip_distance:  tensor(1.2550, device='cuda:0', dtype=torch.float64, grad_fn=<MeanBackward0>)\n",
      "motion_model_loss:  tensor(1.2185e+09, device='cuda:0')\n",
      "loss:  tensor(15203.7148, device='cuda:0', dtype=torch.float64,\n",
      "       grad_fn=<AddBackward0>)\n",
      "-----------------------------------------------------------------\n",
      "Gradients BEFORE BACKWARD PASS:\n",
      "para_init: No gradient computed\n",
      "Gradients AFTER BACKWARD PASS:\n",
      "Parameter: para_init, Gradient: 6970.732421875\n",
      "Parameter: para_init, Updated Value: tensor([ 0.0300,  0.0055,  0.0702,  0.0307, -0.0493,  0.2031], device='cuda:0')\n",
      "Loss:  15203.714815999228\n",
      "\n",
      "================================================================================================================\n",
      "loop_id:  39\n"
     ]
    },
    {
     "name": "stderr",
     "output_type": "stream",
     "text": [
      "Optimizing:  40%|████      | 40/100 [01:42<02:16,  2.28s/it, loss=1.92e+4]"
     ]
    },
    {
     "name": "stdout",
     "output_type": "stream",
     "text": [
      "-----------------------------------------------------------------\n",
      "loss_contour:  tensor(25589584.1028, device='cuda:0', dtype=torch.float64)\n",
      "loss_tip_distance:  tensor(2.9362, device='cuda:0', dtype=torch.float64, grad_fn=<MeanBackward0>)\n",
      "motion_model_loss:  tensor(1.6608e+09, device='cuda:0')\n",
      "loss:  tensor(19170.0801, device='cuda:0', dtype=torch.float64,\n",
      "       grad_fn=<AddBackward0>)\n",
      "-----------------------------------------------------------------\n",
      "Gradients BEFORE BACKWARD PASS:\n",
      "para_init: No gradient computed\n",
      "Gradients AFTER BACKWARD PASS:\n",
      "Parameter: para_init, Gradient: 10611.5712890625\n",
      "Parameter: para_init, Updated Value: tensor([ 0.0300,  0.0055,  0.0702,  0.0301, -0.0495,  0.2034], device='cuda:0')\n",
      "Loss:  19170.080110165512\n",
      "\n",
      "================================================================================================================\n",
      "loop_id:  40\n"
     ]
    },
    {
     "name": "stderr",
     "output_type": "stream",
     "text": [
      "Optimizing:  41%|████      | 41/100 [01:44<02:16,  2.32s/it, loss=4.98e+4]"
     ]
    },
    {
     "name": "stdout",
     "output_type": "stream",
     "text": [
      "-----------------------------------------------------------------\n",
      "loss_contour:  tensor(12353637.9134, device='cuda:0', dtype=torch.float64)\n",
      "loss_tip_distance:  tensor(14.6002, device='cuda:0', dtype=torch.float64, grad_fn=<MeanBackward0>)\n",
      "motion_model_loss:  tensor(4.8500e+09, device='cuda:0')\n",
      "loss:  tensor(49750.1866, device='cuda:0', dtype=torch.float64,\n",
      "       grad_fn=<AddBackward0>)\n",
      "-----------------------------------------------------------------\n",
      "Gradients BEFORE BACKWARD PASS:\n",
      "para_init: No gradient computed\n",
      "Gradients AFTER BACKWARD PASS:\n",
      "Parameter: para_init, Gradient: 23614.65625\n",
      "Parameter: para_init, Updated Value: tensor([ 0.0300,  0.0055,  0.0702,  0.0299, -0.0496,  0.2037], device='cuda:0')\n",
      "Loss:  49750.18659795882\n",
      "\n",
      "================================================================================================================\n",
      "loop_id:  41\n"
     ]
    },
    {
     "name": "stderr",
     "output_type": "stream",
     "text": [
      "Optimizing:  42%|████▏     | 42/100 [01:47<02:15,  2.33s/it, loss=9.69e+4]"
     ]
    },
    {
     "name": "stdout",
     "output_type": "stream",
     "text": [
      "-----------------------------------------------------------------\n",
      "loss_contour:  tensor(2.6607e+08, device='cuda:0', dtype=torch.float64)\n",
      "loss_tip_distance:  tensor(22.1115, device='cuda:0', dtype=torch.float64, grad_fn=<MeanBackward0>)\n",
      "motion_model_loss:  tensor(7.0287e+09, device='cuda:0')\n",
      "loss:  tensor(96916.1766, device='cuda:0', dtype=torch.float64,\n",
      "       grad_fn=<AddBackward0>)\n",
      "-----------------------------------------------------------------\n",
      "Gradients BEFORE BACKWARD PASS:\n",
      "para_init: No gradient computed\n",
      "Gradients AFTER BACKWARD PASS:\n",
      "Parameter: para_init, Gradient: 29007.94140625\n",
      "Parameter: para_init, Updated Value: tensor([ 0.0300,  0.0055,  0.0702,  0.0300, -0.0496,  0.2038], device='cuda:0')\n",
      "Loss:  96916.17659664384\n",
      "\n",
      "================================================================================================================\n",
      "loop_id:  42\n"
     ]
    },
    {
     "name": "stderr",
     "output_type": "stream",
     "text": [
      "Optimizing:  43%|████▎     | 43/100 [01:49<02:10,  2.29s/it, loss=3.16e+4]"
     ]
    },
    {
     "name": "stdout",
     "output_type": "stream",
     "text": [
      "-----------------------------------------------------------------\n",
      "loss_contour:  tensor(17769416.2707, device='cuda:0', dtype=torch.float64)\n",
      "loss_tip_distance:  tensor(17.9357, device='cuda:0', dtype=torch.float64, grad_fn=<MeanBackward0>)\n",
      "motion_model_loss:  tensor(2.9814e+09, device='cuda:0')\n",
      "loss:  tensor(31608.6702, device='cuda:0', dtype=torch.float64,\n",
      "       grad_fn=<AddBackward0>)\n",
      "-----------------------------------------------------------------\n",
      "Gradients BEFORE BACKWARD PASS:\n",
      "para_init: No gradient computed\n",
      "Gradients AFTER BACKWARD PASS:\n",
      "Parameter: para_init, Gradient: 26085.36328125\n",
      "Parameter: para_init, Updated Value: tensor([ 0.0300,  0.0055,  0.0702,  0.0305, -0.0496,  0.2037], device='cuda:0')\n",
      "Loss:  31608.67023262614\n",
      "\n",
      "================================================================================================================\n",
      "loop_id:  43\n"
     ]
    },
    {
     "name": "stderr",
     "output_type": "stream",
     "text": [
      "Optimizing:  44%|████▍     | 44/100 [01:51<02:08,  2.29s/it, loss=2.41e+4]"
     ]
    },
    {
     "name": "stdout",
     "output_type": "stream",
     "text": [
      "-----------------------------------------------------------------\n",
      "loss_contour:  tensor(34705683.3297, device='cuda:0', dtype=torch.float64)\n",
      "loss_tip_distance:  tensor(7.2079, device='cuda:0', dtype=torch.float64, grad_fn=<MeanBackward0>)\n",
      "motion_model_loss:  tensor(2.0615e+09, device='cuda:0')\n",
      "loss:  tensor(24093.2566, device='cuda:0', dtype=torch.float64,\n",
      "       grad_fn=<AddBackward0>)\n",
      "-----------------------------------------------------------------\n",
      "Gradients BEFORE BACKWARD PASS:\n",
      "para_init: No gradient computed\n",
      "Gradients AFTER BACKWARD PASS:\n",
      "Parameter: para_init, Gradient: 16499.52734375\n",
      "Parameter: para_init, Updated Value: tensor([ 0.0300,  0.0055,  0.0702,  0.0312, -0.0496,  0.2037], device='cuda:0')\n",
      "Loss:  24093.25661191473\n",
      "\n",
      "================================================================================================================\n",
      "loop_id:  44\n"
     ]
    },
    {
     "name": "stderr",
     "output_type": "stream",
     "text": [
      "Optimizing:  45%|████▌     | 45/100 [01:54<02:06,  2.30s/it, loss=2.05e+4]"
     ]
    },
    {
     "name": "stdout",
     "output_type": "stream",
     "text": [
      "-----------------------------------------------------------------\n",
      "loss_contour:  tensor(47738335.6034, device='cuda:0', dtype=torch.float64)\n",
      "loss_tip_distance:  tensor(0.5713, device='cuda:0', dtype=torch.float64, grad_fn=<MeanBackward0>)\n",
      "motion_model_loss:  tensor(1.5680e+09, device='cuda:0')\n",
      "loss:  tensor(20453.9936, device='cuda:0', dtype=torch.float64,\n",
      "       grad_fn=<AddBackward0>)\n",
      "-----------------------------------------------------------------\n",
      "Gradients BEFORE BACKWARD PASS:\n",
      "para_init: No gradient computed\n",
      "Gradients AFTER BACKWARD PASS:\n",
      "Parameter: para_init, Gradient: 4668.26708984375\n",
      "Parameter: para_init, Updated Value: tensor([ 0.0300,  0.0055,  0.0702,  0.0319, -0.0495,  0.2036], device='cuda:0')\n",
      "Loss:  20453.993604363084\n",
      "\n",
      "================================================================================================================\n",
      "loop_id:  45\n"
     ]
    },
    {
     "name": "stderr",
     "output_type": "stream",
     "text": [
      "Optimizing:  46%|████▌     | 46/100 [01:56<02:04,  2.30s/it, loss=2.09e+5]"
     ]
    },
    {
     "name": "stdout",
     "output_type": "stream",
     "text": [
      "-----------------------------------------------------------------\n",
      "loss_contour:  tensor(1.8127e+09, device='cuda:0', dtype=torch.float64)\n",
      "loss_tip_distance:  tensor(2.8481, device='cuda:0', dtype=torch.float64, grad_fn=<MeanBackward0>)\n",
      "motion_model_loss:  tensor(2.7360e+09, device='cuda:0')\n",
      "loss:  tensor(208628.8035, device='cuda:0', dtype=torch.float64,\n",
      "       grad_fn=<AddBackward0>)\n",
      "-----------------------------------------------------------------\n",
      "Gradients BEFORE BACKWARD PASS:\n",
      "para_init: No gradient computed\n",
      "Gradients AFTER BACKWARD PASS:\n",
      "Parameter: para_init, Gradient: 10558.6328125\n",
      "Parameter: para_init, Updated Value: tensor([ 0.0300,  0.0055,  0.0702,  0.0324, -0.0493,  0.2037], device='cuda:0')\n",
      "Loss:  208628.80354002846\n",
      "\n",
      "================================================================================================================\n",
      "loop_id:  46\n"
     ]
    },
    {
     "name": "stderr",
     "output_type": "stream",
     "text": [
      "Optimizing:  47%|████▋     | 47/100 [01:58<02:02,  2.31s/it, loss=3.44e+4]"
     ]
    },
    {
     "name": "stdout",
     "output_type": "stream",
     "text": [
      "-----------------------------------------------------------------\n",
      "loss_contour:  tensor(29899406.9598, device='cuda:0', dtype=torch.float64)\n",
      "loss_tip_distance:  tensor(9.2449, device='cuda:0', dtype=torch.float64, grad_fn=<MeanBackward0>)\n",
      "motion_model_loss:  tensor(3.1375e+09, device='cuda:0')\n",
      "loss:  tensor(34373.8750, device='cuda:0', dtype=torch.float64,\n",
      "       grad_fn=<AddBackward0>)\n",
      "-----------------------------------------------------------------\n",
      "Gradients BEFORE BACKWARD PASS:\n",
      "para_init: No gradient computed\n",
      "Gradients AFTER BACKWARD PASS:\n",
      "Parameter: para_init, Gradient: 18858.595703125\n",
      "Parameter: para_init, Updated Value: tensor([ 0.0300,  0.0055,  0.0702,  0.0325, -0.0492,  0.2038], device='cuda:0')\n",
      "Loss:  34373.87496964793\n",
      "\n",
      "================================================================================================================\n",
      "loop_id:  47\n"
     ]
    },
    {
     "name": "stderr",
     "output_type": "stream",
     "text": [
      "Optimizing:  48%|████▊     | 48/100 [02:00<01:59,  2.30s/it, loss=1.16e+4]"
     ]
    },
    {
     "name": "stdout",
     "output_type": "stream",
     "text": [
      "-----------------------------------------------------------------\n",
      "loss_contour:  tensor(12404683.9353, device='cuda:0', dtype=torch.float64)\n",
      "loss_tip_distance:  tensor(11.8603, device='cuda:0', dtype=torch.float64, grad_fn=<MeanBackward0>)\n",
      "motion_model_loss:  tensor(1.0345e+09, device='cuda:0')\n",
      "loss:  tensor(11597.0240, device='cuda:0', dtype=torch.float64,\n",
      "       grad_fn=<AddBackward0>)\n",
      "-----------------------------------------------------------------\n",
      "Gradients BEFORE BACKWARD PASS:\n",
      "para_init: No gradient computed\n",
      "Gradients AFTER BACKWARD PASS:\n",
      "Parameter: para_init, Gradient: 21254.158203125\n",
      "Parameter: para_init, Updated Value: tensor([ 0.0300,  0.0055,  0.0702,  0.0323, -0.0492,  0.2041], device='cuda:0')\n",
      "Loss:  11597.023997863276\n",
      "\n",
      "================================================================================================================\n",
      "loop_id:  48\n"
     ]
    },
    {
     "name": "stderr",
     "output_type": "stream",
     "text": [
      "Optimizing:  49%|████▉     | 49/100 [02:03<01:59,  2.34s/it, loss=3.78e+4]"
     ]
    },
    {
     "name": "stdout",
     "output_type": "stream",
     "text": [
      "-----------------------------------------------------------------\n",
      "loss_contour:  tensor(20134759.4933, device='cuda:0', dtype=torch.float64)\n",
      "loss_tip_distance:  tensor(8.2662, device='cuda:0', dtype=torch.float64, grad_fn=<MeanBackward0>)\n",
      "motion_model_loss:  tensor(3.5785e+09, device='cuda:0')\n",
      "loss:  tensor(37806.5389, device='cuda:0', dtype=torch.float64,\n",
      "       grad_fn=<AddBackward0>)\n",
      "-----------------------------------------------------------------\n",
      "Gradients BEFORE BACKWARD PASS:\n",
      "para_init: No gradient computed\n",
      "Gradients AFTER BACKWARD PASS:\n",
      "Parameter: para_init, Gradient: 17647.337890625\n",
      "Parameter: para_init, Updated Value: tensor([ 0.0300,  0.0055,  0.0702,  0.0319, -0.0492,  0.2043], device='cuda:0')\n",
      "Loss:  37806.53894199297\n",
      "\n",
      "================================================================================================================\n",
      "loop_id:  49\n"
     ]
    },
    {
     "name": "stderr",
     "output_type": "stream",
     "text": [
      "Optimizing:  50%|█████     | 50/100 [02:05<01:56,  2.34s/it, loss=3.94e+4]"
     ]
    },
    {
     "name": "stdout",
     "output_type": "stream",
     "text": [
      "-----------------------------------------------------------------\n",
      "loss_contour:  tensor(19682702.5588, device='cuda:0', dtype=torch.float64)\n",
      "loss_tip_distance:  tensor(2.8436, device='cuda:0', dtype=torch.float64, grad_fn=<MeanBackward0>)\n",
      "motion_model_loss:  tensor(3.7399e+09, device='cuda:0')\n",
      "loss:  tensor(39370.0357, device='cuda:0', dtype=torch.float64,\n",
      "       grad_fn=<AddBackward0>)\n",
      "-----------------------------------------------------------------\n",
      "Gradients BEFORE BACKWARD PASS:\n",
      "para_init: No gradient computed\n",
      "Gradients AFTER BACKWARD PASS:\n",
      "Parameter: para_init, Gradient: 10307.146484375\n",
      "Parameter: para_init, Updated Value: tensor([ 0.0300,  0.0055,  0.0702,  0.0314, -0.0493,  0.2046], device='cuda:0')\n",
      "Loss:  39370.0357104099\n",
      "\n",
      "================================================================================================================\n",
      "loop_id:  50\n"
     ]
    },
    {
     "name": "stderr",
     "output_type": "stream",
     "text": [
      "Optimizing:  51%|█████     | 51/100 [02:08<01:54,  2.33s/it, loss=3.9e+4] "
     ]
    },
    {
     "name": "stdout",
     "output_type": "stream",
     "text": [
      "-----------------------------------------------------------------\n",
      "loss_contour:  tensor(58863373.9585, device='cuda:0', dtype=torch.float64)\n",
      "loss_tip_distance:  tensor(0.8797, device='cuda:0', dtype=torch.float64, grad_fn=<MeanBackward0>)\n",
      "motion_model_loss:  tensor(3.3115e+09, device='cuda:0')\n",
      "loss:  tensor(39002.5256, device='cuda:0', dtype=torch.float64,\n",
      "       grad_fn=<AddBackward0>)\n",
      "-----------------------------------------------------------------\n",
      "Gradients BEFORE BACKWARD PASS:\n",
      "para_init: No gradient computed\n",
      "Gradients AFTER BACKWARD PASS:\n",
      "Parameter: para_init, Gradient: 5940.1748046875\n",
      "Parameter: para_init, Updated Value: tensor([ 0.0300,  0.0055,  0.0702,  0.0310, -0.0495,  0.2047], device='cuda:0')\n",
      "Loss:  39002.525590478224\n",
      "\n",
      "================================================================================================================\n",
      "loop_id:  51\n"
     ]
    },
    {
     "name": "stderr",
     "output_type": "stream",
     "text": [
      "Optimizing:  52%|█████▏    | 52/100 [02:10<01:50,  2.31s/it, loss=2.41e+4]"
     ]
    },
    {
     "name": "stdout",
     "output_type": "stream",
     "text": [
      "-----------------------------------------------------------------\n",
      "loss_contour:  tensor(12094692.1236, device='cuda:0', dtype=torch.float64)\n",
      "loss_tip_distance:  tensor(3.0290, device='cuda:0', dtype=torch.float64, grad_fn=<MeanBackward0>)\n",
      "motion_model_loss:  tensor(2.2854e+09, device='cuda:0')\n",
      "loss:  tensor(24066.5666, device='cuda:0', dtype=torch.float64,\n",
      "       grad_fn=<AddBackward0>)\n",
      "-----------------------------------------------------------------\n",
      "Gradients BEFORE BACKWARD PASS:\n",
      "para_init: No gradient computed\n",
      "Gradients AFTER BACKWARD PASS:\n",
      "Parameter: para_init, Gradient: 10858.3447265625\n",
      "Parameter: para_init, Updated Value: tensor([ 0.0300,  0.0055,  0.0702,  0.0308, -0.0496,  0.2048], device='cuda:0')\n",
      "Loss:  24066.566570448056\n",
      "\n",
      "================================================================================================================\n",
      "loop_id:  52\n"
     ]
    },
    {
     "name": "stderr",
     "output_type": "stream",
     "text": [
      "Optimizing:  53%|█████▎    | 53/100 [02:12<01:49,  2.33s/it, loss=3.69e+4]"
     ]
    },
    {
     "name": "stdout",
     "output_type": "stream",
     "text": [
      "-----------------------------------------------------------------\n",
      "loss_contour:  tensor(20370770.1928, device='cuda:0', dtype=torch.float64)\n",
      "loss_tip_distance:  tensor(5.7121, device='cuda:0', dtype=torch.float64, grad_fn=<MeanBackward0>)\n",
      "motion_model_loss:  tensor(3.4831e+09, device='cuda:0')\n",
      "loss:  tensor(36873.6992, device='cuda:0', dtype=torch.float64,\n",
      "       grad_fn=<AddBackward0>)\n",
      "-----------------------------------------------------------------\n",
      "Gradients BEFORE BACKWARD PASS:\n",
      "para_init: No gradient computed\n",
      "Gradients AFTER BACKWARD PASS:\n",
      "Parameter: para_init, Gradient: 14729.1201171875\n",
      "Parameter: para_init, Updated Value: tensor([ 0.0300,  0.0055,  0.0702,  0.0308, -0.0498,  0.2047], device='cuda:0')\n",
      "Loss:  36873.69919425763\n",
      "\n",
      "================================================================================================================\n",
      "loop_id:  53\n"
     ]
    },
    {
     "name": "stderr",
     "output_type": "stream",
     "text": [
      "Optimizing:  54%|█████▍    | 54/100 [02:15<01:47,  2.34s/it, loss=7.99e+3]"
     ]
    },
    {
     "name": "stdout",
     "output_type": "stream",
     "text": [
      "-----------------------------------------------------------------\n",
      "loss_contour:  tensor(15208187.5022, device='cuda:0', dtype=torch.float64)\n",
      "loss_tip_distance:  tensor(5.7197, device='cuda:0', dtype=torch.float64, grad_fn=<MeanBackward0>)\n",
      "motion_model_loss:  tensor(6.4634e+08, device='cuda:0')\n",
      "loss:  tensor(7989.9130, device='cuda:0', dtype=torch.float64, grad_fn=<AddBackward0>)\n",
      "-----------------------------------------------------------------\n",
      "Gradients BEFORE BACKWARD PASS:\n",
      "para_init: No gradient computed\n",
      "Gradients AFTER BACKWARD PASS:\n",
      "Parameter: para_init, Gradient: 14640.296875\n",
      "Parameter: para_init, Updated Value: tensor([ 0.0300,  0.0055,  0.0702,  0.0310, -0.0499,  0.2046], device='cuda:0')\n",
      "Loss:  7989.912973356552\n",
      "\n",
      "================================================================================================================\n",
      "loop_id:  54\n"
     ]
    },
    {
     "name": "stderr",
     "output_type": "stream",
     "text": [
      "Optimizing:  55%|█████▌    | 55/100 [02:17<01:44,  2.33s/it, loss=5.1e+4] "
     ]
    },
    {
     "name": "stdout",
     "output_type": "stream",
     "text": [
      "-----------------------------------------------------------------\n",
      "loss_contour:  tensor(32196263.2510, device='cuda:0', dtype=torch.float64)\n",
      "loss_tip_distance:  tensor(3.3751, device='cuda:0', dtype=torch.float64, grad_fn=<MeanBackward0>)\n",
      "motion_model_loss:  tensor(4.7792e+09, device='cuda:0')\n",
      "loss:  tensor(51014.8686, device='cuda:0', dtype=torch.float64,\n",
      "       grad_fn=<AddBackward0>)\n",
      "-----------------------------------------------------------------\n",
      "Gradients BEFORE BACKWARD PASS:\n",
      "para_init: No gradient computed\n",
      "Gradients AFTER BACKWARD PASS:\n",
      "Parameter: para_init, Gradient: 11210.3740234375\n",
      "Parameter: para_init, Updated Value: tensor([ 0.0300,  0.0055,  0.0702,  0.0314, -0.0499,  0.2046], device='cuda:0')\n",
      "Loss:  51014.868555919165\n",
      "\n",
      "================================================================================================================\n",
      "loop_id:  55\n"
     ]
    },
    {
     "name": "stderr",
     "output_type": "stream",
     "text": [
      "Optimizing:  56%|█████▌    | 56/100 [02:19<01:44,  2.38s/it, loss=1.55e+5]"
     ]
    },
    {
     "name": "stdout",
     "output_type": "stream",
     "text": [
      "-----------------------------------------------------------------\n",
      "loss_contour:  tensor(1.0199e+09, device='cuda:0', dtype=torch.float64)\n",
      "loss_tip_distance:  tensor(1.3353, device='cuda:0', dtype=torch.float64, grad_fn=<MeanBackward0>)\n",
      "motion_model_loss:  tensor(5.2785e+09, device='cuda:0')\n",
      "loss:  tensor(154773.4690, device='cuda:0', dtype=torch.float64,\n",
      "       grad_fn=<AddBackward0>)\n",
      "-----------------------------------------------------------------\n",
      "Gradients BEFORE BACKWARD PASS:\n",
      "para_init: No gradient computed\n",
      "Gradients AFTER BACKWARD PASS:\n",
      "Parameter: para_init, Gradient: 7161.78857421875\n",
      "Parameter: para_init, Updated Value: tensor([ 0.0300,  0.0055,  0.0702,  0.0317, -0.0498,  0.2045], device='cuda:0')\n",
      "Loss:  154773.46896314307\n",
      "\n",
      "================================================================================================================\n",
      "loop_id:  56\n"
     ]
    },
    {
     "name": "stderr",
     "output_type": "stream",
     "text": [
      "Optimizing:  57%|█████▋    | 57/100 [02:22<01:41,  2.35s/it, loss=3.93e+4]"
     ]
    },
    {
     "name": "stdout",
     "output_type": "stream",
     "text": [
      "-----------------------------------------------------------------\n",
      "loss_contour:  tensor(80788398.6199, device='cuda:0', dtype=torch.float64)\n",
      "loss_tip_distance:  tensor(1.2737, device='cuda:0', dtype=torch.float64, grad_fn=<MeanBackward0>)\n",
      "motion_model_loss:  tensor(3.1191e+09, device='cuda:0')\n",
      "loss:  tensor(39270.7540, device='cuda:0', dtype=torch.float64,\n",
      "       grad_fn=<AddBackward0>)\n",
      "-----------------------------------------------------------------\n",
      "Gradients BEFORE BACKWARD PASS:\n",
      "para_init: No gradient computed\n",
      "Gradients AFTER BACKWARD PASS:\n",
      "Parameter: para_init, Gradient: 7166.6328125\n",
      "Parameter: para_init, Updated Value: tensor([ 0.0300,  0.0055,  0.0702,  0.0320, -0.0497,  0.2046], device='cuda:0')\n",
      "Loss:  39270.754004925446\n",
      "\n",
      "================================================================================================================\n",
      "loop_id:  57\n"
     ]
    },
    {
     "name": "stderr",
     "output_type": "stream",
     "text": [
      "Optimizing:  58%|█████▊    | 58/100 [02:24<01:37,  2.33s/it, loss=1.23e+5]"
     ]
    },
    {
     "name": "stdout",
     "output_type": "stream",
     "text": [
      "-----------------------------------------------------------------\n",
      "loss_contour:  tensor(7.2402e+08, device='cuda:0', dtype=torch.float64)\n",
      "loss_tip_distance:  tensor(2.4105, device='cuda:0', dtype=torch.float64, grad_fn=<MeanBackward0>)\n",
      "motion_model_loss:  tensor(5.0451e+09, device='cuda:0')\n",
      "loss:  tensor(122855.3471, device='cuda:0', dtype=torch.float64,\n",
      "       grad_fn=<AddBackward0>)\n",
      "-----------------------------------------------------------------\n",
      "Gradients BEFORE BACKWARD PASS:\n",
      "para_init: No gradient computed\n",
      "Gradients AFTER BACKWARD PASS:\n",
      "Parameter: para_init, Gradient: 9679.6318359375\n",
      "Parameter: para_init, Updated Value: tensor([ 0.0300,  0.0055,  0.0702,  0.0321, -0.0495,  0.2047], device='cuda:0')\n",
      "Loss:  122855.3471366813\n",
      "\n",
      "================================================================================================================\n",
      "loop_id:  58\n"
     ]
    },
    {
     "name": "stderr",
     "output_type": "stream",
     "text": [
      "Optimizing:  59%|█████▉    | 59/100 [02:26<01:35,  2.34s/it, loss=2.29e+4]"
     ]
    },
    {
     "name": "stdout",
     "output_type": "stream",
     "text": [
      "-----------------------------------------------------------------\n",
      "loss_contour:  tensor(1.5057e+08, device='cuda:0', dtype=torch.float64)\n",
      "loss_tip_distance:  tensor(3.0033, device='cuda:0', dtype=torch.float64, grad_fn=<MeanBackward0>)\n",
      "motion_model_loss:  tensor(7.8436e+08, device='cuda:0')\n",
      "loss:  tensor(22903.3304, device='cuda:0', dtype=torch.float64,\n",
      "       grad_fn=<AddBackward0>)\n",
      "-----------------------------------------------------------------\n",
      "Gradients BEFORE BACKWARD PASS:\n",
      "para_init: No gradient computed\n",
      "Gradients AFTER BACKWARD PASS:\n",
      "Parameter: para_init, Gradient: 10645.8701171875\n",
      "Parameter: para_init, Updated Value: tensor([ 0.0300,  0.0055,  0.0702,  0.0320, -0.0494,  0.2049], device='cuda:0')\n",
      "Loss:  22903.33040256673\n",
      "\n",
      "================================================================================================================\n",
      "loop_id:  59\n"
     ]
    },
    {
     "name": "stderr",
     "output_type": "stream",
     "text": [
      "Optimizing:  60%|██████    | 60/100 [02:29<01:33,  2.35s/it, loss=6.36e+4]"
     ]
    },
    {
     "name": "stdout",
     "output_type": "stream",
     "text": [
      "-----------------------------------------------------------------\n",
      "loss_contour:  tensor(5.3119e+08, device='cuda:0', dtype=torch.float64)\n",
      "loss_tip_distance:  tensor(2.4334, device='cuda:0', dtype=torch.float64, grad_fn=<MeanBackward0>)\n",
      "motion_model_loss:  tensor(1.0497e+09, device='cuda:0')\n",
      "loss:  tensor(63617.7858, device='cuda:0', dtype=torch.float64,\n",
      "       grad_fn=<AddBackward0>)\n",
      "-----------------------------------------------------------------\n",
      "Gradients BEFORE BACKWARD PASS:\n",
      "para_init: No gradient computed\n",
      "Gradients AFTER BACKWARD PASS:\n",
      "Parameter: para_init, Gradient: 9506.833984375\n",
      "Parameter: para_init, Updated Value: tensor([ 0.0300,  0.0055,  0.0702,  0.0318, -0.0494,  0.2051], device='cuda:0')\n",
      "Loss:  63617.78575587656\n",
      "\n",
      "================================================================================================================\n",
      "loop_id:  60\n"
     ]
    },
    {
     "name": "stderr",
     "output_type": "stream",
     "text": [
      "Optimizing:  61%|██████    | 61/100 [02:31<01:30,  2.31s/it, loss=5.97e+4]"
     ]
    },
    {
     "name": "stdout",
     "output_type": "stream",
     "text": [
      "-----------------------------------------------------------------\n",
      "loss_contour:  tensor(4.9991e+08, device='cuda:0', dtype=torch.float64)\n",
      "loss_tip_distance:  tensor(1.4750, device='cuda:0', dtype=torch.float64, grad_fn=<MeanBackward0>)\n",
      "motion_model_loss:  tensor(9.7102e+08, device='cuda:0')\n",
      "loss:  tensor(59702.2053, device='cuda:0', dtype=torch.float64,\n",
      "       grad_fn=<AddBackward0>)\n",
      "-----------------------------------------------------------------\n",
      "Gradients BEFORE BACKWARD PASS:\n",
      "para_init: No gradient computed\n",
      "Gradients AFTER BACKWARD PASS:\n",
      "Parameter: para_init, Gradient: 7457.33740234375\n",
      "Parameter: para_init, Updated Value: tensor([ 0.0300,  0.0055,  0.0702,  0.0315, -0.0494,  0.2052], device='cuda:0')\n",
      "Loss:  59702.20526821985\n",
      "\n",
      "================================================================================================================\n",
      "loop_id:  61\n"
     ]
    },
    {
     "name": "stderr",
     "output_type": "stream",
     "text": [
      "Optimizing:  62%|██████▏   | 62/100 [02:33<01:28,  2.33s/it, loss=4.26e+4]"
     ]
    },
    {
     "name": "stdout",
     "output_type": "stream",
     "text": [
      "-----------------------------------------------------------------\n",
      "loss_contour:  tensor(12234798.7952, device='cuda:0', dtype=torch.float64)\n",
      "loss_tip_distance:  tensor(1.0221, device='cuda:0', dtype=torch.float64, grad_fn=<MeanBackward0>)\n",
      "motion_model_loss:  tensor(4.1412e+09, device='cuda:0')\n",
      "loss:  tensor(42636.4356, device='cuda:0', dtype=torch.float64,\n",
      "       grad_fn=<AddBackward0>)\n",
      "-----------------------------------------------------------------\n",
      "Gradients BEFORE BACKWARD PASS:\n",
      "para_init: No gradient computed\n",
      "Gradients AFTER BACKWARD PASS:\n",
      "Parameter: para_init, Gradient: 6371.9013671875\n",
      "Parameter: para_init, Updated Value: tensor([ 0.0300,  0.0055,  0.0702,  0.0313, -0.0495,  0.2053], device='cuda:0')\n",
      "Loss:  42636.43559219801\n",
      "\n",
      "================================================================================================================\n",
      "loop_id:  62\n"
     ]
    },
    {
     "name": "stderr",
     "output_type": "stream",
     "text": [
      "Optimizing:  63%|██████▎   | 63/100 [02:36<01:26,  2.34s/it, loss=1.75e+4]"
     ]
    },
    {
     "name": "stdout",
     "output_type": "stream",
     "text": [
      "-----------------------------------------------------------------\n",
      "loss_contour:  tensor(28570884.0244, device='cuda:0', dtype=torch.float64)\n",
      "loss_tip_distance:  tensor(1.1478, device='cuda:0', dtype=torch.float64, grad_fn=<MeanBackward0>)\n",
      "motion_model_loss:  tensor(1.4675e+09, device='cuda:0')\n",
      "loss:  tensor(17533.1951, device='cuda:0', dtype=torch.float64,\n",
      "       grad_fn=<AddBackward0>)\n",
      "-----------------------------------------------------------------\n",
      "Gradients BEFORE BACKWARD PASS:\n",
      "para_init: No gradient computed\n",
      "Gradients AFTER BACKWARD PASS:\n",
      "Parameter: para_init, Gradient: 6737.25634765625\n",
      "Parameter: para_init, Updated Value: tensor([ 0.0300,  0.0055,  0.0702,  0.0312, -0.0497,  0.2052], device='cuda:0')\n",
      "Loss:  17533.19512891144\n",
      "\n",
      "================================================================================================================\n",
      "loop_id:  63\n"
     ]
    },
    {
     "name": "stderr",
     "output_type": "stream",
     "text": [
      "Optimizing:  64%|██████▍   | 64/100 [02:38<01:22,  2.29s/it, loss=2.41e+4]"
     ]
    },
    {
     "name": "stdout",
     "output_type": "stream",
     "text": [
      "-----------------------------------------------------------------\n",
      "loss_contour:  tensor(18083087.6628, device='cuda:0', dtype=torch.float64)\n",
      "loss_tip_distance:  tensor(1.3659, device='cuda:0', dtype=torch.float64, grad_fn=<MeanBackward0>)\n",
      "motion_model_loss:  tensor(2.2283e+09, device='cuda:0')\n",
      "loss:  tensor(24092.9442, device='cuda:0', dtype=torch.float64,\n",
      "       grad_fn=<AddBackward0>)\n",
      "-----------------------------------------------------------------\n",
      "Gradients BEFORE BACKWARD PASS:\n",
      "para_init: No gradient computed\n",
      "Gradients AFTER BACKWARD PASS:\n",
      "Parameter: para_init, Gradient: 7200.353515625\n",
      "Parameter: para_init, Updated Value: tensor([ 0.0300,  0.0055,  0.0702,  0.0313, -0.0499,  0.2051], device='cuda:0')\n",
      "Loss:  24092.944180347677\n",
      "\n",
      "================================================================================================================\n",
      "loop_id:  64\n"
     ]
    },
    {
     "name": "stderr",
     "output_type": "stream",
     "text": [
      "Optimizing:  65%|██████▌   | 65/100 [02:40<01:23,  2.38s/it, loss=8.12e+3]"
     ]
    },
    {
     "name": "stdout",
     "output_type": "stream",
     "text": [
      "-----------------------------------------------------------------\n",
      "loss_contour:  tensor(24321890.7947, device='cuda:0', dtype=torch.float64)\n",
      "loss_tip_distance:  tensor(1.3496, device='cuda:0', dtype=torch.float64, grad_fn=<MeanBackward0>)\n",
      "motion_model_loss:  tensor(5.6834e+08, device='cuda:0')\n",
      "loss:  tensor(8116.9273, device='cuda:0', dtype=torch.float64, grad_fn=<AddBackward0>)\n",
      "-----------------------------------------------------------------\n",
      "Gradients BEFORE BACKWARD PASS:\n",
      "para_init: No gradient computed\n",
      "Gradients AFTER BACKWARD PASS:\n",
      "Parameter: para_init, Gradient: 7074.859375\n",
      "Parameter: para_init, Updated Value: tensor([ 0.0300,  0.0055,  0.0702,  0.0314, -0.0500,  0.2050], device='cuda:0')\n",
      "Loss:  8116.927256807228\n",
      "\n",
      "================================================================================================================\n",
      "loop_id:  65\n"
     ]
    },
    {
     "name": "stderr",
     "output_type": "stream",
     "text": [
      "Optimizing:  66%|██████▌   | 66/100 [02:43<01:21,  2.40s/it, loss=1e+5]   "
     ]
    },
    {
     "name": "stdout",
     "output_type": "stream",
     "text": [
      "-----------------------------------------------------------------\n",
      "loss_contour:  tensor(5.7570e+08, device='cuda:0', dtype=torch.float64)\n",
      "loss_tip_distance:  tensor(1.1487, device='cuda:0', dtype=torch.float64, grad_fn=<MeanBackward0>)\n",
      "motion_model_loss:  tensor(4.2827e+09, device='cuda:0')\n",
      "loss:  tensor(100398.2232, device='cuda:0', dtype=torch.float64,\n",
      "       grad_fn=<AddBackward0>)\n",
      "-----------------------------------------------------------------\n",
      "Gradients BEFORE BACKWARD PASS:\n",
      "para_init: No gradient computed\n",
      "Gradients AFTER BACKWARD PASS:\n",
      "Parameter: para_init, Gradient: 6578.61328125\n",
      "Parameter: para_init, Updated Value: tensor([ 0.0300,  0.0055,  0.0702,  0.0316, -0.0500,  0.2050], device='cuda:0')\n",
      "Loss:  100398.223249947\n",
      "\n",
      "================================================================================================================\n",
      "loop_id:  66\n"
     ]
    },
    {
     "name": "stderr",
     "output_type": "stream",
     "text": [
      "Optimizing:  67%|██████▋   | 67/100 [02:45<01:20,  2.43s/it, loss=4.87e+4]"
     ]
    },
    {
     "name": "stdout",
     "output_type": "stream",
     "text": [
      "-----------------------------------------------------------------\n",
      "loss_contour:  tensor(1.7869e+08, device='cuda:0', dtype=torch.float64)\n",
      "loss_tip_distance:  tensor(0.9149, device='cuda:0', dtype=torch.float64, grad_fn=<MeanBackward0>)\n",
      "motion_model_loss:  tensor(3.0811e+09, device='cuda:0')\n",
      "loss:  tensor(48681.8506, device='cuda:0', dtype=torch.float64,\n",
      "       grad_fn=<AddBackward0>)\n",
      "-----------------------------------------------------------------\n",
      "Gradients BEFORE BACKWARD PASS:\n",
      "para_init: No gradient computed\n",
      "Gradients AFTER BACKWARD PASS:\n",
      "Parameter: para_init, Gradient: 6000.20556640625\n",
      "Parameter: para_init, Updated Value: tensor([ 0.0300,  0.0055,  0.0702,  0.0317, -0.0499,  0.2050], device='cuda:0')\n",
      "Loss:  48681.85060721256\n",
      "\n",
      "================================================================================================================\n",
      "loop_id:  67\n"
     ]
    },
    {
     "name": "stderr",
     "output_type": "stream",
     "text": [
      "Optimizing:  68%|██████▊   | 68/100 [02:48<01:18,  2.44s/it, loss=2.27e+4]"
     ]
    },
    {
     "name": "stdout",
     "output_type": "stream",
     "text": [
      "-----------------------------------------------------------------\n",
      "loss_contour:  tensor(13405330.4317, device='cuda:0', dtype=torch.float64)\n",
      "loss_tip_distance:  tensor(0.7132, device='cuda:0', dtype=torch.float64, grad_fn=<MeanBackward0>)\n",
      "motion_model_loss:  tensor(2.1373e+09, device='cuda:0')\n",
      "loss:  tensor(22714.6193, device='cuda:0', dtype=torch.float64,\n",
      "       grad_fn=<AddBackward0>)\n",
      "-----------------------------------------------------------------\n",
      "Gradients BEFORE BACKWARD PASS:\n",
      "para_init: No gradient computed\n",
      "Gradients AFTER BACKWARD PASS:\n",
      "Parameter: para_init, Gradient: 5353.8408203125\n",
      "Parameter: para_init, Updated Value: tensor([ 0.0300,  0.0055,  0.0702,  0.0318, -0.0498,  0.2051], device='cuda:0')\n",
      "Loss:  22714.61925517163\n",
      "\n",
      "================================================================================================================\n",
      "loop_id:  68\n"
     ]
    },
    {
     "name": "stderr",
     "output_type": "stream",
     "text": [
      "Optimizing:  69%|██████▉   | 69/100 [02:51<01:20,  2.59s/it, loss=9.47e+4]"
     ]
    },
    {
     "name": "stdout",
     "output_type": "stream",
     "text": [
      "-----------------------------------------------------------------\n",
      "loss_contour:  tensor(28496503.3756, device='cuda:0', dtype=torch.float64)\n",
      "loss_tip_distance:  tensor(0.5960, device='cuda:0', dtype=torch.float64, grad_fn=<MeanBackward0>)\n",
      "motion_model_loss:  tensor(9.1806e+09, device='cuda:0')\n",
      "loss:  tensor(94656.0510, device='cuda:0', dtype=torch.float64,\n",
      "       grad_fn=<AddBackward0>)\n",
      "-----------------------------------------------------------------\n",
      "Gradients BEFORE BACKWARD PASS:\n",
      "para_init: No gradient computed\n",
      "Gradients AFTER BACKWARD PASS:\n",
      "Parameter: para_init, Gradient: 4802.42138671875\n",
      "Parameter: para_init, Updated Value: tensor([ 0.0300,  0.0055,  0.0702,  0.0318, -0.0496,  0.2052], device='cuda:0')\n",
      "Loss:  94656.05098765083\n",
      "\n",
      "================================================================================================================\n",
      "loop_id:  69\n"
     ]
    },
    {
     "name": "stderr",
     "output_type": "stream",
     "text": [
      "Optimizing:  70%|███████   | 70/100 [02:53<01:15,  2.52s/it, loss=4.21e+4]"
     ]
    },
    {
     "name": "stdout",
     "output_type": "stream",
     "text": [
      "-----------------------------------------------------------------\n",
      "loss_contour:  tensor(94411275.0704, device='cuda:0', dtype=torch.float64)\n",
      "loss_tip_distance:  tensor(0.6272, device='cuda:0', dtype=torch.float64, grad_fn=<MeanBackward0>)\n",
      "motion_model_loss:  tensor(3.2671e+09, device='cuda:0')\n",
      "loss:  tensor(42112.3169, device='cuda:0', dtype=torch.float64,\n",
      "       grad_fn=<AddBackward0>)\n",
      "-----------------------------------------------------------------\n",
      "Gradients BEFORE BACKWARD PASS:\n",
      "para_init: No gradient computed\n",
      "Gradients AFTER BACKWARD PASS:\n",
      "Parameter: para_init, Gradient: 4821.6435546875\n",
      "Parameter: para_init, Updated Value: tensor([ 0.0300,  0.0055,  0.0702,  0.0318, -0.0495,  0.2053], device='cuda:0')\n",
      "Loss:  42112.31692368472\n",
      "\n",
      "================================================================================================================\n",
      "loop_id:  70\n"
     ]
    },
    {
     "name": "stderr",
     "output_type": "stream",
     "text": [
      "Optimizing:  71%|███████   | 71/100 [02:55<01:10,  2.44s/it, loss=5.66e+4]"
     ]
    },
    {
     "name": "stdout",
     "output_type": "stream",
     "text": [
      "-----------------------------------------------------------------\n",
      "loss_contour:  tensor(17543989.2317, device='cuda:0', dtype=torch.float64)\n",
      "loss_tip_distance:  tensor(0.7419, device='cuda:0', dtype=torch.float64, grad_fn=<MeanBackward0>)\n",
      "motion_model_loss:  tensor(5.4868e+09, device='cuda:0')\n",
      "loss:  tensor(56623.1681, device='cuda:0', dtype=torch.float64,\n",
      "       grad_fn=<AddBackward0>)\n",
      "-----------------------------------------------------------------\n",
      "Gradients BEFORE BACKWARD PASS:\n",
      "para_init: No gradient computed\n",
      "Gradients AFTER BACKWARD PASS:\n",
      "Parameter: para_init, Gradient: 5282.896484375\n",
      "Parameter: para_init, Updated Value: tensor([ 0.0300,  0.0055,  0.0702,  0.0317, -0.0495,  0.2054], device='cuda:0')\n",
      "Loss:  56623.16813698641\n",
      "\n",
      "================================================================================================================\n",
      "loop_id:  71\n"
     ]
    },
    {
     "name": "stderr",
     "output_type": "stream",
     "text": [
      "Optimizing:  72%|███████▏  | 72/100 [02:58<01:07,  2.42s/it, loss=1.14e+5]"
     ]
    },
    {
     "name": "stdout",
     "output_type": "stream",
     "text": [
      "-----------------------------------------------------------------\n",
      "loss_contour:  tensor(9.2203e+08, device='cuda:0', dtype=torch.float64)\n",
      "loss_tip_distance:  tensor(0.7362, device='cuda:0', dtype=torch.float64, grad_fn=<MeanBackward0>)\n",
      "motion_model_loss:  tensor(2.1458e+09, device='cuda:0')\n",
      "loss:  tensor(113662.5908, device='cuda:0', dtype=torch.float64,\n",
      "       grad_fn=<AddBackward0>)\n",
      "-----------------------------------------------------------------\n",
      "Gradients BEFORE BACKWARD PASS:\n",
      "para_init: No gradient computed\n",
      "Gradients AFTER BACKWARD PASS:\n",
      "Parameter: para_init, Gradient: 5352.6298828125\n",
      "Parameter: para_init, Updated Value: tensor([ 0.0300,  0.0055,  0.0702,  0.0315, -0.0496,  0.2054], device='cuda:0')\n",
      "Loss:  113662.59079198366\n",
      "\n",
      "================================================================================================================\n",
      "loop_id:  72\n"
     ]
    },
    {
     "name": "stderr",
     "output_type": "stream",
     "text": [
      "Optimizing:  73%|███████▎  | 73/100 [03:00<01:04,  2.38s/it, loss=1.15e+5]"
     ]
    },
    {
     "name": "stdout",
     "output_type": "stream",
     "text": [
      "-----------------------------------------------------------------\n",
      "loss_contour:  tensor(4.2650e+08, device='cuda:0', dtype=torch.float64)\n",
      "loss_tip_distance:  tensor(0.5159, device='cuda:0', dtype=torch.float64, grad_fn=<MeanBackward0>)\n",
      "motion_model_loss:  tensor(7.2406e+09, device='cuda:0')\n",
      "loss:  tensor(115056.3890, device='cuda:0', dtype=torch.float64,\n",
      "       grad_fn=<AddBackward0>)\n",
      "-----------------------------------------------------------------\n",
      "Gradients BEFORE BACKWARD PASS:\n",
      "para_init: No gradient computed\n",
      "Gradients AFTER BACKWARD PASS:\n",
      "Parameter: para_init, Gradient: 4536.43115234375\n",
      "Parameter: para_init, Updated Value: tensor([ 0.0300,  0.0055,  0.0702,  0.0315, -0.0497,  0.2054], device='cuda:0')\n",
      "Loss:  115056.3889709801\n",
      "\n",
      "================================================================================================================\n",
      "loop_id:  73\n"
     ]
    },
    {
     "name": "stderr",
     "output_type": "stream",
     "text": [
      "Optimizing:  74%|███████▍  | 74/100 [03:02<01:00,  2.33s/it, loss=1.74e+4]"
     ]
    },
    {
     "name": "stdout",
     "output_type": "stream",
     "text": [
      "-----------------------------------------------------------------\n",
      "loss_contour:  tensor(18583848.2990, device='cuda:0', dtype=torch.float64)\n",
      "loss_tip_distance:  tensor(0.2693, device='cuda:0', dtype=torch.float64, grad_fn=<MeanBackward0>)\n",
      "motion_model_loss:  tensor(1.5562e+09, device='cuda:0')\n",
      "loss:  tensor(17420.6248, device='cuda:0', dtype=torch.float64,\n",
      "       grad_fn=<AddBackward0>)\n",
      "-----------------------------------------------------------------\n",
      "Gradients BEFORE BACKWARD PASS:\n",
      "para_init: No gradient computed\n",
      "Gradients AFTER BACKWARD PASS:\n",
      "Parameter: para_init, Gradient: 3252.8544921875\n",
      "Parameter: para_init, Updated Value: tensor([ 0.0300,  0.0055,  0.0702,  0.0315, -0.0498,  0.2053], device='cuda:0')\n",
      "Loss:  17420.624796655284\n",
      "\n",
      "================================================================================================================\n",
      "loop_id:  74\n"
     ]
    },
    {
     "name": "stderr",
     "output_type": "stream",
     "text": [
      "Optimizing:  75%|███████▌  | 75/100 [03:05<00:58,  2.34s/it, loss=3.45e+4]"
     ]
    },
    {
     "name": "stdout",
     "output_type": "stream",
     "text": [
      "-----------------------------------------------------------------\n",
      "loss_contour:  tensor(23411249.2595, device='cuda:0', dtype=torch.float64)\n",
      "loss_tip_distance:  tensor(0.2530, device='cuda:0', dtype=torch.float64, grad_fn=<MeanBackward0>)\n",
      "motion_model_loss:  tensor(3.2208e+09, device='cuda:0')\n",
      "loss:  tensor(34549.8193, device='cuda:0', dtype=torch.float64,\n",
      "       grad_fn=<AddBackward0>)\n",
      "-----------------------------------------------------------------\n",
      "Gradients BEFORE BACKWARD PASS:\n",
      "para_init: No gradient computed\n",
      "Gradients AFTER BACKWARD PASS:\n",
      "Parameter: para_init, Gradient: 3060.79541015625\n",
      "Parameter: para_init, Updated Value: tensor([ 0.0300,  0.0055,  0.0702,  0.0315, -0.0499,  0.2052], device='cuda:0')\n",
      "Loss:  34549.81930191844\n",
      "\n",
      "================================================================================================================\n",
      "loop_id:  75\n"
     ]
    },
    {
     "name": "stderr",
     "output_type": "stream",
     "text": [
      "Optimizing:  76%|███████▌  | 76/100 [03:07<00:56,  2.36s/it, loss=1.51e+5]"
     ]
    },
    {
     "name": "stdout",
     "output_type": "stream",
     "text": [
      "-----------------------------------------------------------------\n",
      "loss_contour:  tensor(1.3509e+09, device='cuda:0', dtype=torch.float64)\n",
      "loss_tip_distance:  tensor(0.4404, device='cuda:0', dtype=torch.float64, grad_fn=<MeanBackward0>)\n",
      "motion_model_loss:  tensor(1.6134e+09, device='cuda:0')\n",
      "loss:  tensor(151224.1778, device='cuda:0', dtype=torch.float64,\n",
      "       grad_fn=<AddBackward0>)\n",
      "-----------------------------------------------------------------\n",
      "Gradients BEFORE BACKWARD PASS:\n",
      "para_init: No gradient computed\n",
      "Gradients AFTER BACKWARD PASS:\n",
      "Parameter: para_init, Gradient: 4086.2294921875\n",
      "Parameter: para_init, Updated Value: tensor([ 0.0300,  0.0055,  0.0702,  0.0316, -0.0500,  0.2052], device='cuda:0')\n",
      "Loss:  151224.1777835168\n",
      "\n",
      "================================================================================================================\n",
      "loop_id:  76\n"
     ]
    },
    {
     "name": "stderr",
     "output_type": "stream",
     "text": [
      "Optimizing:  77%|███████▋  | 77/100 [03:09<00:53,  2.32s/it, loss=6.24e+4]"
     ]
    },
    {
     "name": "stdout",
     "output_type": "stream",
     "text": [
      "-----------------------------------------------------------------\n",
      "loss_contour:  tensor(29513150.3651, device='cuda:0', dtype=torch.float64)\n",
      "loss_tip_distance:  tensor(0.5347, device='cuda:0', dtype=torch.float64, grad_fn=<MeanBackward0>)\n",
      "motion_model_loss:  tensor(5.9449e+09, device='cuda:0')\n",
      "loss:  tensor(62400.9317, device='cuda:0', dtype=torch.float64,\n",
      "       grad_fn=<AddBackward0>)\n",
      "-----------------------------------------------------------------\n",
      "Gradients BEFORE BACKWARD PASS:\n",
      "para_init: No gradient computed\n",
      "Gradients AFTER BACKWARD PASS:\n",
      "Parameter: para_init, Gradient: 4568.4365234375\n",
      "Parameter: para_init, Updated Value: tensor([ 0.0300,  0.0055,  0.0702,  0.0317, -0.0499,  0.2052], device='cuda:0')\n",
      "Loss:  62400.93167566498\n",
      "\n",
      "================================================================================================================\n",
      "loop_id:  77\n"
     ]
    },
    {
     "name": "stderr",
     "output_type": "stream",
     "text": [
      "Optimizing:  78%|███████▊  | 78/100 [03:12<00:51,  2.36s/it, loss=2.34e+4]"
     ]
    },
    {
     "name": "stdout",
     "output_type": "stream",
     "text": [
      "-----------------------------------------------------------------\n",
      "loss_contour:  tensor(20274236.3980, device='cuda:0', dtype=torch.float64)\n",
      "loss_tip_distance:  tensor(0.3654, device='cuda:0', dtype=torch.float64, grad_fn=<MeanBackward0>)\n",
      "motion_model_loss:  tensor(2.1339e+09, device='cuda:0')\n",
      "loss:  tensor(23366.4218, device='cuda:0', dtype=torch.float64,\n",
      "       grad_fn=<AddBackward0>)\n",
      "-----------------------------------------------------------------\n",
      "Gradients BEFORE BACKWARD PASS:\n",
      "para_init: No gradient computed\n",
      "Gradients AFTER BACKWARD PASS:\n",
      "Parameter: para_init, Gradient: 3814.4169921875\n",
      "Parameter: para_init, Updated Value: tensor([ 0.0300,  0.0055,  0.0702,  0.0317, -0.0498,  0.2052], device='cuda:0')\n",
      "Loss:  23366.42180468428\n",
      "\n",
      "================================================================================================================\n",
      "loop_id:  78\n"
     ]
    },
    {
     "name": "stderr",
     "output_type": "stream",
     "text": [
      "Optimizing:  79%|███████▉  | 79/100 [03:14<00:49,  2.37s/it, loss=6.82e+4]"
     ]
    },
    {
     "name": "stdout",
     "output_type": "stream",
     "text": [
      "-----------------------------------------------------------------\n",
      "loss_contour:  tensor(24038040.0943, device='cuda:0', dtype=torch.float64)\n",
      "loss_tip_distance:  tensor(0.1225, device='cuda:0', dtype=torch.float64, grad_fn=<MeanBackward0>)\n",
      "motion_model_loss:  tensor(6.5783e+09, device='cuda:0')\n",
      "loss:  tensor(68186.5124, device='cuda:0', dtype=torch.float64,\n",
      "       grad_fn=<AddBackward0>)\n",
      "-----------------------------------------------------------------\n",
      "Gradients BEFORE BACKWARD PASS:\n",
      "para_init: No gradient computed\n",
      "Gradients AFTER BACKWARD PASS:\n",
      "Parameter: para_init, Gradient: 2210.71435546875\n",
      "Parameter: para_init, Updated Value: tensor([ 0.0300,  0.0055,  0.0702,  0.0317, -0.0497,  0.2053], device='cuda:0')\n",
      "Loss:  68186.51241770657\n",
      "\n",
      "================================================================================================================\n",
      "loop_id:  79\n"
     ]
    },
    {
     "name": "stderr",
     "output_type": "stream",
     "text": [
      "Optimizing:  80%|████████  | 80/100 [03:16<00:46,  2.35s/it, loss=4.6e+4] "
     ]
    },
    {
     "name": "stdout",
     "output_type": "stream",
     "text": [
      "-----------------------------------------------------------------\n",
      "loss_contour:  tensor(80900427.0770, device='cuda:0', dtype=torch.float64)\n",
      "loss_tip_distance:  tensor(0.0917, device='cuda:0', dtype=torch.float64, grad_fn=<MeanBackward0>)\n",
      "motion_model_loss:  tensor(3.7930e+09, device='cuda:0')\n",
      "loss:  tensor(46020.6303, device='cuda:0', dtype=torch.float64,\n",
      "       grad_fn=<AddBackward0>)\n",
      "-----------------------------------------------------------------\n",
      "Gradients BEFORE BACKWARD PASS:\n",
      "para_init: No gradient computed\n",
      "Gradients AFTER BACKWARD PASS:\n",
      "Parameter: para_init, Gradient: 1842.1488037109375\n",
      "Parameter: para_init, Updated Value: tensor([ 0.0300,  0.0055,  0.0702,  0.0317, -0.0496,  0.2054], device='cuda:0')\n",
      "Loss:  46020.63034178107\n",
      "\n",
      "================================================================================================================\n",
      "loop_id:  80\n"
     ]
    },
    {
     "name": "stderr",
     "output_type": "stream",
     "text": [
      "Optimizing:  81%|████████  | 81/100 [03:19<00:45,  2.39s/it, loss=3.47e+4]"
     ]
    },
    {
     "name": "stdout",
     "output_type": "stream",
     "text": [
      "-----------------------------------------------------------------\n",
      "loss_contour:  tensor(21484438.1040, device='cuda:0', dtype=torch.float64)\n",
      "loss_tip_distance:  tensor(0.2640, device='cuda:0', dtype=torch.float64, grad_fn=<MeanBackward0>)\n",
      "motion_model_loss:  tensor(3.2580e+09, device='cuda:0')\n",
      "loss:  tensor(34728.4245, device='cuda:0', dtype=torch.float64,\n",
      "       grad_fn=<AddBackward0>)\n",
      "-----------------------------------------------------------------\n",
      "Gradients BEFORE BACKWARD PASS:\n",
      "para_init: No gradient computed\n",
      "Gradients AFTER BACKWARD PASS:\n",
      "Parameter: para_init, Gradient: 3175.6513671875\n",
      "Parameter: para_init, Updated Value: tensor([ 0.0300,  0.0055,  0.0702,  0.0317, -0.0496,  0.2055], device='cuda:0')\n",
      "Loss:  34728.424539368454\n",
      "\n",
      "================================================================================================================\n",
      "loop_id:  81\n"
     ]
    },
    {
     "name": "stderr",
     "output_type": "stream",
     "text": [
      "Optimizing:  82%|████████▏ | 82/100 [03:21<00:42,  2.36s/it, loss=6.96e+4]"
     ]
    },
    {
     "name": "stdout",
     "output_type": "stream",
     "text": [
      "-----------------------------------------------------------------\n",
      "loss_contour:  tensor(29214507.2292, device='cuda:0', dtype=torch.float64)\n",
      "loss_tip_distance:  tensor(0.3641, device='cuda:0', dtype=torch.float64, grad_fn=<MeanBackward0>)\n",
      "motion_model_loss:  tensor(6.6693e+09, device='cuda:0')\n",
      "loss:  tensor(69614.6741, device='cuda:0', dtype=torch.float64,\n",
      "       grad_fn=<AddBackward0>)\n",
      "-----------------------------------------------------------------\n",
      "Gradients BEFORE BACKWARD PASS:\n",
      "para_init: No gradient computed\n",
      "Gradients AFTER BACKWARD PASS:\n",
      "Parameter: para_init, Gradient: 3766.21435546875\n",
      "Parameter: para_init, Updated Value: tensor([ 0.0300,  0.0055,  0.0702,  0.0316, -0.0496,  0.2055], device='cuda:0')\n",
      "Loss:  69614.6741367287\n",
      "\n",
      "================================================================================================================\n",
      "loop_id:  82\n"
     ]
    },
    {
     "name": "stderr",
     "output_type": "stream",
     "text": [
      "Optimizing:  83%|████████▎ | 83/100 [03:24<00:40,  2.37s/it, loss=3.21e+4]"
     ]
    },
    {
     "name": "stdout",
     "output_type": "stream",
     "text": [
      "-----------------------------------------------------------------\n",
      "loss_contour:  tensor(23775489.5243, device='cuda:0', dtype=torch.float64)\n",
      "loss_tip_distance:  tensor(0.2388, device='cuda:0', dtype=torch.float64, grad_fn=<MeanBackward0>)\n",
      "motion_model_loss:  tensor(2.9691e+09, device='cuda:0')\n",
      "loss:  tensor(32068.9263, device='cuda:0', dtype=torch.float64,\n",
      "       grad_fn=<AddBackward0>)\n",
      "-----------------------------------------------------------------\n",
      "Gradients BEFORE BACKWARD PASS:\n",
      "para_init: No gradient computed\n",
      "Gradients AFTER BACKWARD PASS:\n",
      "Parameter: para_init, Gradient: 3070.34326171875\n",
      "Parameter: para_init, Updated Value: tensor([ 0.0300,  0.0055,  0.0702,  0.0316, -0.0497,  0.2054], device='cuda:0')\n",
      "Loss:  32068.926343308114\n",
      "\n",
      "================================================================================================================\n",
      "loop_id:  83\n"
     ]
    },
    {
     "name": "stderr",
     "output_type": "stream",
     "text": [
      "Optimizing:  84%|████████▍ | 84/100 [03:26<00:37,  2.37s/it, loss=4.04e+4]"
     ]
    },
    {
     "name": "stdout",
     "output_type": "stream",
     "text": [
      "-----------------------------------------------------------------\n",
      "loss_contour:  tensor(12740895.2406, device='cuda:0', dtype=torch.float64)\n",
      "loss_tip_distance:  tensor(0.0517, device='cuda:0', dtype=torch.float64, grad_fn=<MeanBackward0>)\n",
      "motion_model_loss:  tensor(3.9176e+09, device='cuda:0')\n",
      "loss:  tensor(40449.8521, device='cuda:0', dtype=torch.float64,\n",
      "       grad_fn=<AddBackward0>)\n",
      "-----------------------------------------------------------------\n",
      "Gradients BEFORE BACKWARD PASS:\n",
      "para_init: No gradient computed\n",
      "Gradients AFTER BACKWARD PASS:\n",
      "Parameter: para_init, Gradient: 1437.6217041015625\n",
      "Parameter: para_init, Updated Value: tensor([ 0.0300,  0.0055,  0.0702,  0.0316, -0.0498,  0.2053], device='cuda:0')\n",
      "Loss:  40449.8521002214\n",
      "\n",
      "================================================================================================================\n",
      "loop_id:  84\n"
     ]
    },
    {
     "name": "stderr",
     "output_type": "stream",
     "text": [
      "Optimizing:  85%|████████▌ | 85/100 [03:28<00:35,  2.37s/it, loss=2.08e+4]"
     ]
    },
    {
     "name": "stdout",
     "output_type": "stream",
     "text": [
      "-----------------------------------------------------------------\n",
      "loss_contour:  tensor(15246520.6180, device='cuda:0', dtype=torch.float64)\n",
      "loss_tip_distance:  tensor(0.0343, device='cuda:0', dtype=torch.float64, grad_fn=<MeanBackward0>)\n",
      "motion_model_loss:  tensor(1.9303e+09, device='cuda:0')\n",
      "loss:  tensor(20828.0633, device='cuda:0', dtype=torch.float64,\n",
      "       grad_fn=<AddBackward0>)\n",
      "-----------------------------------------------------------------\n",
      "Gradients BEFORE BACKWARD PASS:\n",
      "para_init: No gradient computed\n",
      "Gradients AFTER BACKWARD PASS:\n",
      "Parameter: para_init, Gradient: 1132.54638671875\n",
      "Parameter: para_init, Updated Value: tensor([ 0.0300,  0.0055,  0.0702,  0.0316, -0.0499,  0.2053], device='cuda:0')\n",
      "Loss:  20828.06330307852\n",
      "\n",
      "================================================================================================================\n",
      "loop_id:  85\n"
     ]
    },
    {
     "name": "stderr",
     "output_type": "stream",
     "text": [
      "Optimizing:  86%|████████▌ | 86/100 [03:31<00:32,  2.35s/it, loss=1.15e+4]"
     ]
    },
    {
     "name": "stdout",
     "output_type": "stream",
     "text": [
      "-----------------------------------------------------------------\n",
      "loss_contour:  tensor(20118503.0945, device='cuda:0', dtype=torch.float64)\n",
      "loss_tip_distance:  tensor(0.1678, device='cuda:0', dtype=torch.float64, grad_fn=<MeanBackward0>)\n",
      "motion_model_loss:  tensor(9.5304e+08, device='cuda:0')\n",
      "loss:  tensor(11542.4224, device='cuda:0', dtype=torch.float64,\n",
      "       grad_fn=<AddBackward0>)\n",
      "-----------------------------------------------------------------\n",
      "Gradients BEFORE BACKWARD PASS:\n",
      "para_init: No gradient computed\n",
      "Gradients AFTER BACKWARD PASS:\n",
      "Parameter: para_init, Gradient: 2549.266845703125\n",
      "Parameter: para_init, Updated Value: tensor([ 0.0300,  0.0055,  0.0702,  0.0316, -0.0499,  0.2053], device='cuda:0')\n",
      "Loss:  11542.422362260577\n",
      "\n",
      "================================================================================================================\n",
      "loop_id:  86\n"
     ]
    },
    {
     "name": "stderr",
     "output_type": "stream",
     "text": [
      "Optimizing:  87%|████████▋ | 87/100 [03:33<00:31,  2.39s/it, loss=1.85e+4]"
     ]
    },
    {
     "name": "stdout",
     "output_type": "stream",
     "text": [
      "-----------------------------------------------------------------\n",
      "loss_contour:  tensor(14993236.8436, device='cuda:0', dtype=torch.float64)\n",
      "loss_tip_distance:  tensor(0.2355, device='cuda:0', dtype=torch.float64, grad_fn=<MeanBackward0>)\n",
      "motion_model_loss:  tensor(1.7050e+09, device='cuda:0')\n",
      "loss:  tensor(18549.1314, device='cuda:0', dtype=torch.float64,\n",
      "       grad_fn=<AddBackward0>)\n",
      "-----------------------------------------------------------------\n",
      "Gradients BEFORE BACKWARD PASS:\n",
      "para_init: No gradient computed\n",
      "Gradients AFTER BACKWARD PASS:\n",
      "Parameter: para_init, Gradient: 3035.681640625\n",
      "Parameter: para_init, Updated Value: tensor([ 0.0300,  0.0055,  0.0702,  0.0316, -0.0499,  0.2053], device='cuda:0')\n",
      "Loss:  18549.131423634222\n",
      "\n",
      "================================================================================================================\n",
      "loop_id:  87\n"
     ]
    },
    {
     "name": "stderr",
     "output_type": "stream",
     "text": [
      "Optimizing:  88%|████████▊ | 88/100 [03:35<00:28,  2.39s/it, loss=2.16e+4]"
     ]
    },
    {
     "name": "stdout",
     "output_type": "stream",
     "text": [
      "-----------------------------------------------------------------\n",
      "loss_contour:  tensor(21216859.3424, device='cuda:0', dtype=torch.float64)\n",
      "loss_tip_distance:  tensor(0.1394, device='cuda:0', dtype=torch.float64, grad_fn=<MeanBackward0>)\n",
      "motion_model_loss:  tensor(1.9429e+09, device='cuda:0')\n",
      "loss:  tensor(21550.7452, device='cuda:0', dtype=torch.float64,\n",
      "       grad_fn=<AddBackward0>)\n",
      "-----------------------------------------------------------------\n",
      "Gradients BEFORE BACKWARD PASS:\n",
      "para_init: No gradient computed\n",
      "Gradients AFTER BACKWARD PASS:\n",
      "Parameter: para_init, Gradient: 2341.701904296875\n",
      "Parameter: para_init, Updated Value: tensor([ 0.0300,  0.0055,  0.0702,  0.0316, -0.0498,  0.2054], device='cuda:0')\n",
      "Loss:  21550.745178503417\n",
      "\n",
      "================================================================================================================\n",
      "loop_id:  88\n"
     ]
    },
    {
     "name": "stderr",
     "output_type": "stream",
     "text": [
      "Optimizing:  89%|████████▉ | 89/100 [03:38<00:26,  2.40s/it, loss=3.65e+4]"
     ]
    },
    {
     "name": "stdout",
     "output_type": "stream",
     "text": [
      "-----------------------------------------------------------------\n",
      "loss_contour:  tensor(16605318.9212, device='cuda:0', dtype=torch.float64)\n",
      "loss_tip_distance:  tensor(0.0169, device='cuda:0', dtype=torch.float64, grad_fn=<MeanBackward0>)\n",
      "motion_model_loss:  tensor(3.4837e+09, device='cuda:0')\n",
      "loss:  tensor(36497.9862, device='cuda:0', dtype=torch.float64,\n",
      "       grad_fn=<AddBackward0>)\n",
      "-----------------------------------------------------------------\n",
      "Gradients BEFORE BACKWARD PASS:\n",
      "para_init: No gradient computed\n",
      "Gradients AFTER BACKWARD PASS:\n",
      "Parameter: para_init, Gradient: 818.9091796875\n",
      "Parameter: para_init, Updated Value: tensor([ 0.0300,  0.0055,  0.0702,  0.0316, -0.0497,  0.2054], device='cuda:0')\n",
      "Loss:  36497.98623942789\n",
      "\n",
      "================================================================================================================\n",
      "loop_id:  89\n"
     ]
    },
    {
     "name": "stderr",
     "output_type": "stream",
     "text": [
      "Optimizing:  90%|█████████ | 90/100 [03:40<00:23,  2.39s/it, loss=1.91e+4]"
     ]
    },
    {
     "name": "stdout",
     "output_type": "stream",
     "text": [
      "-----------------------------------------------------------------\n",
      "loss_contour:  tensor(49994343.5588, device='cuda:0', dtype=torch.float64)\n",
      "loss_tip_distance:  tensor(0.0218, device='cuda:0', dtype=torch.float64, grad_fn=<MeanBackward0>)\n",
      "motion_model_loss:  tensor(1.4085e+09, device='cuda:0')\n",
      "loss:  tensor(19084.4717, device='cuda:0', dtype=torch.float64,\n",
      "       grad_fn=<AddBackward0>)\n",
      "-----------------------------------------------------------------\n",
      "Gradients BEFORE BACKWARD PASS:\n",
      "para_init: No gradient computed\n",
      "Gradients AFTER BACKWARD PASS:\n",
      "Parameter: para_init, Gradient: 919.5750732421875\n",
      "Parameter: para_init, Updated Value: tensor([ 0.0300,  0.0055,  0.0702,  0.0316, -0.0497,  0.2055], device='cuda:0')\n",
      "Loss:  19084.471688005902\n",
      "\n",
      "================================================================================================================\n",
      "loop_id:  90\n"
     ]
    },
    {
     "name": "stderr",
     "output_type": "stream",
     "text": [
      "Optimizing:  91%|█████████ | 91/100 [03:43<00:21,  2.41s/it, loss=9.64e+3]"
     ]
    },
    {
     "name": "stdout",
     "output_type": "stream",
     "text": [
      "-----------------------------------------------------------------\n",
      "loss_contour:  tensor(15578715.2761, device='cuda:0', dtype=torch.float64)\n",
      "loss_tip_distance:  tensor(0.1137, device='cuda:0', dtype=torch.float64, grad_fn=<MeanBackward0>)\n",
      "motion_model_loss:  tensor(8.0859e+08, device='cuda:0')\n",
      "loss:  tensor(9643.8724, device='cuda:0', dtype=torch.float64, grad_fn=<AddBackward0>)\n",
      "-----------------------------------------------------------------\n",
      "Gradients BEFORE BACKWARD PASS:\n",
      "para_init: No gradient computed\n",
      "Gradients AFTER BACKWARD PASS:\n",
      "Parameter: para_init, Gradient: 2106.842529296875\n",
      "Parameter: para_init, Updated Value: tensor([ 0.0300,  0.0055,  0.0702,  0.0316, -0.0497,  0.2055], device='cuda:0')\n",
      "Loss:  9643.87241780879\n",
      "\n",
      "================================================================================================================\n",
      "loop_id:  91\n"
     ]
    },
    {
     "name": "stderr",
     "output_type": "stream",
     "text": [
      "Optimizing:  92%|█████████▏| 92/100 [03:45<00:19,  2.42s/it, loss=1.9e+4] "
     ]
    },
    {
     "name": "stdout",
     "output_type": "stream",
     "text": [
      "-----------------------------------------------------------------\n",
      "loss_contour:  tensor(21032420.9992, device='cuda:0', dtype=torch.float64)\n",
      "loss_tip_distance:  tensor(0.1432, device='cuda:0', dtype=torch.float64, grad_fn=<MeanBackward0>)\n",
      "motion_model_loss:  tensor(1.6856e+09, device='cuda:0')\n",
      "loss:  tensor(18959.4477, device='cuda:0', dtype=torch.float64,\n",
      "       grad_fn=<AddBackward0>)\n",
      "-----------------------------------------------------------------\n",
      "Gradients BEFORE BACKWARD PASS:\n",
      "para_init: No gradient computed\n",
      "Gradients AFTER BACKWARD PASS:\n",
      "Parameter: para_init, Gradient: 2364.128173828125\n",
      "Parameter: para_init, Updated Value: tensor([ 0.0300,  0.0055,  0.0702,  0.0316, -0.0497,  0.2054], device='cuda:0')\n",
      "Loss:  18959.447708167172\n",
      "\n",
      "================================================================================================================\n",
      "loop_id:  92\n"
     ]
    },
    {
     "name": "stderr",
     "output_type": "stream",
     "text": [
      "Optimizing:  93%|█████████▎| 93/100 [03:48<00:17,  2.43s/it, loss=2.26e+4]"
     ]
    },
    {
     "name": "stdout",
     "output_type": "stream",
     "text": [
      "-----------------------------------------------------------------\n",
      "loss_contour:  tensor(26826324.7949, device='cuda:0', dtype=torch.float64)\n",
      "loss_tip_distance:  tensor(0.0717, device='cuda:0', dtype=torch.float64, grad_fn=<MeanBackward0>)\n",
      "motion_model_loss:  tensor(1.9874e+09, device='cuda:0')\n",
      "loss:  tensor(22556.7412, device='cuda:0', dtype=torch.float64,\n",
      "       grad_fn=<AddBackward0>)\n",
      "-----------------------------------------------------------------\n",
      "Gradients BEFORE BACKWARD PASS:\n",
      "para_init: No gradient computed\n",
      "Gradients AFTER BACKWARD PASS:\n",
      "Parameter: para_init, Gradient: 1670.5870361328125\n",
      "Parameter: para_init, Updated Value: tensor([ 0.0300,  0.0055,  0.0702,  0.0316, -0.0498,  0.2054], device='cuda:0')\n",
      "Loss:  22556.74124059514\n",
      "\n",
      "================================================================================================================\n",
      "loop_id:  93\n"
     ]
    },
    {
     "name": "stderr",
     "output_type": "stream",
     "text": [
      "Optimizing:  94%|█████████▍| 94/100 [03:50<00:14,  2.41s/it, loss=9.34e+4]"
     ]
    },
    {
     "name": "stdout",
     "output_type": "stream",
     "text": [
      "-----------------------------------------------------------------\n",
      "loss_contour:  tensor(4.9178e+08, device='cuda:0', dtype=torch.float64)\n",
      "loss_tip_distance:  tensor(0.0048, device='cuda:0', dtype=torch.float64, grad_fn=<MeanBackward0>)\n",
      "motion_model_loss:  tensor(4.4214e+09, device='cuda:0')\n",
      "loss:  tensor(93392.1473, device='cuda:0', dtype=torch.float64,\n",
      "       grad_fn=<AddBackward0>)\n",
      "-----------------------------------------------------------------\n",
      "Gradients BEFORE BACKWARD PASS:\n",
      "para_init: No gradient computed\n",
      "Gradients AFTER BACKWARD PASS:\n",
      "Parameter: para_init, Gradient: 423.7607727050781\n",
      "Parameter: para_init, Updated Value: tensor([ 0.0300,  0.0055,  0.0702,  0.0316, -0.0498,  0.2054], device='cuda:0')\n",
      "Loss:  93392.14726913325\n",
      "\n",
      "================================================================================================================\n",
      "loop_id:  94\n"
     ]
    },
    {
     "name": "stderr",
     "output_type": "stream",
     "text": [
      "Optimizing:  95%|█████████▌| 95/100 [03:53<00:12,  2.48s/it, loss=8.85e+4]"
     ]
    },
    {
     "name": "stdout",
     "output_type": "stream",
     "text": [
      "-----------------------------------------------------------------\n",
      "loss_contour:  tensor(7.4421e+08, device='cuda:0', dtype=torch.float64)\n",
      "loss_tip_distance:  tensor(0.0229, device='cuda:0', dtype=torch.float64, grad_fn=<MeanBackward0>)\n",
      "motion_model_loss:  tensor(1.4087e+09, device='cuda:0')\n",
      "loss:  tensor(88508.2821, device='cuda:0', dtype=torch.float64,\n",
      "       grad_fn=<AddBackward0>)\n",
      "-----------------------------------------------------------------\n",
      "Gradients BEFORE BACKWARD PASS:\n",
      "para_init: No gradient computed\n",
      "Gradients AFTER BACKWARD PASS:\n",
      "Parameter: para_init, Gradient: 952.525146484375\n",
      "Parameter: para_init, Updated Value: tensor([ 0.0300,  0.0055,  0.0702,  0.0316, -0.0499,  0.2053], device='cuda:0')\n",
      "Loss:  88508.28208370386\n",
      "\n",
      "================================================================================================================\n",
      "loop_id:  95\n"
     ]
    },
    {
     "name": "stderr",
     "output_type": "stream",
     "text": [
      "Optimizing:  96%|█████████▌| 96/100 [03:55<00:09,  2.48s/it, loss=4.08e+4]"
     ]
    },
    {
     "name": "stdout",
     "output_type": "stream",
     "text": [
      "-----------------------------------------------------------------\n",
      "loss_contour:  tensor(28248798.8899, device='cuda:0', dtype=torch.float64)\n",
      "loss_tip_distance:  tensor(0.0769, device='cuda:0', dtype=torch.float64, grad_fn=<MeanBackward0>)\n",
      "motion_model_loss:  tensor(3.7970e+09, device='cuda:0')\n",
      "loss:  tensor(40794.8317, device='cuda:0', dtype=torch.float64,\n",
      "       grad_fn=<AddBackward0>)\n",
      "-----------------------------------------------------------------\n",
      "Gradients BEFORE BACKWARD PASS:\n",
      "para_init: No gradient computed\n",
      "Gradients AFTER BACKWARD PASS:\n",
      "Parameter: para_init, Gradient: 1738.2657470703125\n",
      "Parameter: para_init, Updated Value: tensor([ 0.0300,  0.0055,  0.0702,  0.0316, -0.0499,  0.2053], device='cuda:0')\n",
      "Loss:  40794.831702882955\n",
      "\n",
      "================================================================================================================\n",
      "loop_id:  96\n"
     ]
    },
    {
     "name": "stderr",
     "output_type": "stream",
     "text": [
      "Optimizing:  97%|█████████▋| 97/100 [03:57<00:07,  2.46s/it, loss=1.49e+5]"
     ]
    },
    {
     "name": "stdout",
     "output_type": "stream",
     "text": [
      "-----------------------------------------------------------------\n",
      "loss_contour:  tensor(9.2702e+08, device='cuda:0', dtype=torch.float64)\n",
      "loss_tip_distance:  tensor(0.0797, device='cuda:0', dtype=torch.float64, grad_fn=<MeanBackward0>)\n",
      "motion_model_loss:  tensor(5.6781e+09, device='cuda:0')\n",
      "loss:  tensor(149483.2219, device='cuda:0', dtype=torch.float64,\n",
      "       grad_fn=<AddBackward0>)\n",
      "-----------------------------------------------------------------\n",
      "Gradients BEFORE BACKWARD PASS:\n",
      "para_init: No gradient computed\n",
      "Gradients AFTER BACKWARD PASS:\n",
      "Parameter: para_init, Gradient: 1762.224609375\n",
      "Parameter: para_init, Updated Value: tensor([ 0.0300,  0.0055,  0.0702,  0.0316, -0.0498,  0.2054], device='cuda:0')\n",
      "Loss:  149483.22190796872\n",
      "\n",
      "================================================================================================================\n",
      "loop_id:  97\n"
     ]
    },
    {
     "name": "stderr",
     "output_type": "stream",
     "text": [
      "Optimizing:  98%|█████████▊| 98/100 [04:00<00:04,  2.44s/it, loss=3.4e+4] "
     ]
    },
    {
     "name": "stdout",
     "output_type": "stream",
     "text": [
      "-----------------------------------------------------------------\n",
      "loss_contour:  tensor(12059168.6545, device='cuda:0', dtype=torch.float64)\n",
      "loss_tip_distance:  tensor(0.0325, device='cuda:0', dtype=torch.float64, grad_fn=<MeanBackward0>)\n",
      "motion_model_loss:  tensor(3.2745e+09, device='cuda:0')\n",
      "loss:  tensor(33950.9513, device='cuda:0', dtype=torch.float64,\n",
      "       grad_fn=<AddBackward0>)\n",
      "-----------------------------------------------------------------\n",
      "Gradients BEFORE BACKWARD PASS:\n",
      "para_init: No gradient computed\n",
      "Gradients AFTER BACKWARD PASS:\n",
      "Parameter: para_init, Gradient: 1115.8427734375\n",
      "Parameter: para_init, Updated Value: tensor([ 0.0300,  0.0055,  0.0702,  0.0316, -0.0498,  0.2054], device='cuda:0')\n",
      "Loss:  33950.9513201121\n",
      "\n",
      "================================================================================================================\n",
      "loop_id:  98\n"
     ]
    },
    {
     "name": "stderr",
     "output_type": "stream",
     "text": [
      "Optimizing:  99%|█████████▉| 99/100 [04:02<00:02,  2.44s/it, loss=1.48e+5]"
     ]
    },
    {
     "name": "stdout",
     "output_type": "stream",
     "text": [
      "-----------------------------------------------------------------\n",
      "loss_contour:  tensor(18195582.8222, device='cuda:0', dtype=torch.float64)\n",
      "loss_tip_distance:  tensor(0.0046, device='cuda:0', dtype=torch.float64, grad_fn=<MeanBackward0>)\n",
      "motion_model_loss:  tensor(1.4640e+10, device='cuda:0')\n",
      "loss:  tensor(148216.2503, device='cuda:0', dtype=torch.float64,\n",
      "       grad_fn=<AddBackward0>)\n",
      "-----------------------------------------------------------------\n",
      "Gradients BEFORE BACKWARD PASS:\n",
      "para_init: No gradient computed\n",
      "Gradients AFTER BACKWARD PASS:\n",
      "Parameter: para_init, Gradient: 414.8761901855469\n",
      "Parameter: para_init, Updated Value: tensor([ 0.0300,  0.0055,  0.0702,  0.0316, -0.0497,  0.2054], device='cuda:0')\n",
      "Loss:  148216.25031327762\n",
      "\n",
      "================================================================================================================\n",
      "loop_id:  99\n"
     ]
    },
    {
     "name": "stderr",
     "output_type": "stream",
     "text": [
      "Optimizing: 100%|██████████| 100/100 [04:05<00:00,  2.45s/it, loss=7.26e+4]"
     ]
    },
    {
     "name": "stdout",
     "output_type": "stream",
     "text": [
      "-----------------------------------------------------------------\n",
      "loss_contour:  tensor(1.3278e+08, device='cuda:0', dtype=torch.float64)\n",
      "loss_tip_distance:  tensor(0.0238, device='cuda:0', dtype=torch.float64, grad_fn=<MeanBackward0>)\n",
      "motion_model_loss:  tensor(5.9320e+09, device='cuda:0')\n",
      "loss:  tensor(72598.0191, device='cuda:0', dtype=torch.float64,\n",
      "       grad_fn=<AddBackward0>)\n",
      "-----------------------------------------------------------------\n",
      "Gradients BEFORE BACKWARD PASS:\n",
      "para_init: No gradient computed\n",
      "Gradients AFTER BACKWARD PASS:\n",
      "Parameter: para_init, Gradient: 973.0643310546875\n",
      "Parameter: para_init, Updated Value: tensor([ 0.0300,  0.0055,  0.0702,  0.0316, -0.0497,  0.2055], device='cuda:0')\n",
      "Loss:  72598.01914022391\n",
      "Saved para_init to para_init.npy\n",
      "proj_end_effector_loss_history:  [77.2180606256328, 20.693518729040246, 53.58400418945786, 47.736187532707184, 28.539912773198946, 25.713971205831953, 32.286041008202815, 33.73868610775619, 29.44212554417102, 23.845483181783855, 22.32634128055884, 23.551482553470183, 23.048977449115466, 19.895727054405853, 16.429330833267738, 16.242327298570594, 18.48912846000545, 19.39438774622417, 17.433978496049015, 13.286117216183778, 9.62924291884599, 10.438193888967689, 13.71384174004473, 15.307927782223734, 13.817382835546644, 9.660615672749149, 5.074241144399822, 6.06601904009371, 9.899219479287643, 11.794447303353921, 10.887152293304158, 7.530810783569682, 2.9757770818139546, 3.340229495716624, 7.056146958764782, 8.883737232226702, 8.267292496675024, 5.533758096317632, 1.5843285080750402, 2.423310816614716, 5.403736035734284, 6.650034787717356, 5.989270688636812, 3.796813892092691, 1.0689222872770432, 2.3866899728561144, 4.29997583200689, 4.870384618536397, 4.0659976708290095, 2.384797372107774, 1.3264611375976467, 2.461312359860945, 3.3799615940377516, 3.3822329426834377, 2.5981241912102107, 1.6341897223815065, 1.5960714452022478, 2.195688399254786, 2.4508327480317122, 2.206099452149848, 1.7175342814548646, 1.429790080748611, 1.5151331803077415, 1.6528330241701077, 1.642904079698748, 1.5157065857127645, 1.3526863627647434, 1.1943190428163866, 1.0918191984810608, 1.1199599506423934, 1.2181251049637645, 1.2134104605356641, 1.0157910397127015, 0.7339081379504812, 0.7113773344741638, 0.938524623668519, 1.0341010249433633, 0.8548726273640654, 0.4950383941927055, 0.4283566272152347, 0.7266173233637662, 0.853361133388297, 0.6910558103408079, 0.3214680221023052, 0.2620178049221394, 0.5793216078762765, 0.6863111879784897, 0.5279696732542668, 0.18378930643278285, 0.20896611959895126, 0.47691199224496117, 0.5350913542085036, 0.3787334074189857, 0.09752255462807521, 0.21388814562755784, 0.3921358379420508, 0.39922051402249076, 0.2550764669444632, 0.09567680032769463, 0.21799024840797795, 0.21799024840797795]\n"
     ]
    },
    {
     "name": "stderr",
     "output_type": "stream",
     "text": [
      "\n"
     ]
    },
    {
     "data": {
      "image/png": "[encoded data removed]",
      "text/plain": [
       "<Figure size 640x480 with 1 Axes>"
      ]
     },
     "metadata": {},
     "output_type": "display_data"
    },
    {
     "name": "stdout",
     "output_type": "stream",
     "text": [
      "d3d_end_effector_loss_history:  [0.020112991333007812, 0.018926968798041344, 0.024179905652999878, 0.021900014951825142, 0.017402032390236855, 0.013764710165560246, 0.011580323800444603, 0.01005638763308525, 0.008575442247092724, 0.007459454704076052, 0.007212379481643438, 0.007313503418117762, 0.006944112945348024, 0.005897725000977516, 0.004579548258334398, 0.003849682630971074, 0.004095748066902161, 0.004581288900226355, 0.0047669787891209126, 0.004697693511843681, 0.004707373213022947, 0.005032827146351337, 0.005516332108527422, 0.00584040954709053, 0.005913936998695135, 0.005968526005744934, 0.006348878610879183, 0.00713213998824358, 0.008049932308495045, 0.008787567727267742, 0.009205779060721397, 0.009362786076962948, 0.00942525640130043, 0.009537078440189362, 0.009728399105370045, 0.009944217279553413, 0.010148383677005768, 0.010374135337769985, 0.010674238204956055, 0.01104110199958086, 0.011392246000468731, 0.011633731424808502, 0.011731673963367939, 0.01173114962875843, 0.011717656627297401, 0.011757539585232735, 0.011866097338497639, 0.012023095972836018, 0.012205147184431553, 0.012396135367453098, 0.012575541622936726, 0.01271235290914774, 0.012779186479747295, 0.012774044647812843, 0.012727659195661545, 0.012688457034528255, 0.01269637979567051, 0.012765003368258476, 0.012881595641374588, 0.013018282130360603, 0.013143186457455158, 0.013228665105998516, 0.013259025290608406, 0.013236770406365395, 0.013183061964809895, 0.013129990547895432, 0.013107656501233578, 0.013132411986589432, 0.013201463967561722, 0.013294861651957035, 0.01338361855596304, 0.013441052287817001, 0.0134533466771245, 0.013424607925117016, 0.01337401382625103, 0.013327074237167835, 0.013305486179888248, 0.013319788500666618, 0.013366415165364742, 0.013429257087409496, 0.013485901989042759, 0.013516969047486782, 0.013514521531760693, 0.013484969735145569, 0.013445035554468632, 0.013413671404123306, 0.013404368422925472, 0.013420741073787212, 0.013456039130687714, 0.013496185652911663, 0.013525654561817646, 0.0135342413559556, 0.013521420769393444, 0.013495850376784801, 0.01347065344452858, 0.01345724705606699, 0.013460863381624222, 0.013479085639119148, 0.013503569178283215, 0.013523919507861137, 0.013532327488064766]\n"
     ]
    },
    {
     "data": {
      "image/png": "[encoded data removed]",
      "text/plain": [
       "<Figure size 640x480 with 1 Axes>"
      ]
     },
     "metadata": {},
     "output_type": "display_data"
    }
   ],
   "source": [
    "\n",
    "if __name__ == '__main__':\n",
    "    '''\n",
    "    Main function to set up optimzer model and run the optimization loop\n",
    "    '''\n",
    "\n",
    "    ###========================================================\n",
    "    ### 1) SET TO GPU OR CPU COMPUTING\n",
    "    ###========================================================\n",
    "    if torch.cuda.is_available():\n",
    "        gpu_or_cpu = torch.device(\"cuda:0\") \n",
    "        torch.cuda.set_device(gpu_or_cpu)\n",
    "    else:\n",
    "        gpu_or_cpu = torch.device(\"cpu\")\n",
    "\n",
    "    ###========================================================\n",
    "    ### 2) VARIABLES FOR BEZIER CURVE CONSTRUCTION\n",
    "    ###========================================================\n",
    "    # para_init = torch.tensor([0.02, 0.002, 0.0, 0.01958988, 0.00195899, 0.09690406, -0.03142905, -0.0031429, 0.18200866], dtype=torch.float)\n",
    "    # p_start = torch.tensor([0.02, 0.002, 0.0])\n",
    "\n",
    "\n",
    "    # Z axis + 0.1\n",
    "    # para_init = torch.tensor([0.02, 0.002, 0.1, 0.01958988, 0.00195899, 0.09690406, -0.03142905, -0.0031429, 0.18200866], dtype=torch.float)\n",
    "    # p_start = torch.tensor([0.02, 0.002, 0.1000])\n",
    "        \n",
    "    \n",
    "\n",
    "    # p_start and para_init used for SRC presentation\n",
    "    # ground truth: [ 0.02007997  0.00160014  0.1026283   0.02973628 -0.04668138  0.19240253]\n",
    "    p_start = torch.tensor([0.02, 0.002, 0.000001]) # 0 here will cause NaN in draw2DCylinderImage, pTip\n",
    "    # para_init = np.array([0.0365, 0.0036,  0.1202,  0.0056, -0.0166, 0.1645],\n",
    "    #                  dtype=np.float32) # 0, converge\n",
    "    para_init = np.array([0.03, 0.0055,  0.0702,  0.0206, -0.0306, 0.1845],\n",
    "                     dtype=np.float32) # 1, converge\n",
    "    # para_init = np.array([0.03, 0.0055,  0.0702,  0.0186, -0.0306, 0.1815],\n",
    "    #                  dtype=np.float32) # 2, converge\n",
    "    # para_init = np.array([0.03, 0.0055,  0.0702,  0.0186, -0.0266, 0.2115],\n",
    "    #                  dtype=np.float32) # 3, diverge\n",
    "    # para_init = np.array([0.03, 0.0055,  0.0702,  0.0226, -0.0506, 0.2115],\n",
    "    #                  dtype=np.float32) # 4\n",
    "    # para_init = np.array([0.03, 0.0055,  0.0802,  0.0226, -0.0406, 0.2115],\n",
    "    #                  dtype=np.float32) # 5\n",
    "    # para_init = np.array([0.0395, 0.0066,  0.1502,  0.0006, -0.0066, 0.1045],\n",
    "    #                  dtype=np.float32)\n",
    "    # para_init = np.array([0.0395, -0.0066,  0.1502,  0.0006, -0.0066, 0.1045],\n",
    "    #                  dtype=np.float32)\n",
    "    # para_init = np.array([0.04, -0.0166,  0.2002,  -0.0006, -0.0266, 0.0345],\n",
    "    #                  dtype=np.float32)\n",
    "    # para_init = np.array([0.02, 0.002,  0.1,  0.03, -0.05, 0.2],\n",
    "    #                  dtype=np.float32)\n",
    "\n",
    "    # case_naming = '/Users/kobeyang/Downloads/Programming/ECESRIP/diff_catheter/scripts/test_diff_render_catheter_v2/blender_imgs/test_catheter_gt1'\n",
    "    # case_naming = 'E:/OneDrive - UC San Diego/UCSD/Lab/Catheter/diff_catheter/scripts/test_diff_render_catheter_v2/blender_imgs/test_catheter_gt1'\n",
    "    case_naming = 'E:/OneDrive - UC San Diego/UCSD/Lab/Catheter/diff_catheter/data/rendered_images/dof2_64/dof2_c48_0.001_-0.005_0.2_0.01'\n",
    "    img_save_path = case_naming + '.png'\n",
    "    cc_specs_path = case_naming + '_gt.npy'\n",
    "    target_specs_path = None\n",
    "    viewpoint_mode = 1\n",
    "    transparent_mode = 0\n",
    "\n",
    "    '''\n",
    "    Create binary mask of catheter: \n",
    "        1) Grayscale the ref img, \n",
    "        2) threshold the grayscaled img, \n",
    "        3) Creates a binary image by replacing all \n",
    "            pixel values equal to 255 with 1 (leaves\n",
    "            other pixel values unchanged)\n",
    "    '''\n",
    "    # img_ref_rgb = cv2.imread(img_save_path)\n",
    "    # img_ref_gray = cv2.cvtColor(img_ref_rgb, cv2.COLOR_BGR2GRAY)\n",
    "    # (thresh, img_ref_thresh) = cv2.threshold(img_ref_gray, 80, 255, cv2.THRESH_BINARY | cv2.THRESH_OTSU)\n",
    "    # img_ref_binary = np.where(img_ref_thresh == 255, 1, img_ref_thresh)\n",
    "    img_ref_binary = process_image(img_save_path)\n",
    "\n",
    "    # Declare loss history lists to keep track of loss values\n",
    "    proj_end_effector_loss_history = []\n",
    "    d3d_end_effector_loss_history = []\n",
    "    # Ground Truth parameters for catheter used in SRC presentation\n",
    "    para_gt_np = np.load(cc_specs_path)[1:3, :].flatten()\n",
    "    para_gt = torch.tensor(para_gt_np, dtype=torch.float, device=gpu_or_cpu, requires_grad=False)\n",
    "    # para_gt = torch.tensor([0.02003904, 0.0016096, 0.13205799, 0.00489567, -0.03695673, 0.196168896], dtype=torch.float, device=gpu_or_cpu, requires_grad=False)\n",
    "    end_effector_gt = para_gt[3:6]\n",
    "    \n",
    "    folder_path = 'E:/OneDrive - UC San Diego/UCSD/Lab/Catheter/diff_catheter/data/rendered_images/dof2_64/'\n",
    "    image_save_path_list = [\n",
    "    folder_path + 'dof2_c47_0.0005_0.005_0.2_0.01.png',\n",
    "    folder_path + 'dof2_c46_0.0005_0.001_0.2_0.01.png',\n",
    "    folder_path + 'dof2_c45_0.0005_0.0005_0.2_0.01.png',\n",
    "    folder_path + 'dof2_c42_0.0005_-0.0005_0.2_0.01.png',\n",
    "    folder_path + 'dof2_c40_0.0005_-0.005_0.2_0.01.png',\n",
    "    folder_path + 'dof2_c39_0.0001_0.005_0.2_0.01.png',\n",
    "    folder_path + 'dof2_c32_0.0001_-0.005_0.2_0.01.png',\n",
    "    folder_path + 'dof2_c31_-0.0001_0.005_0.2_0.01.png',\n",
    "    folder_path + 'dof2_c6_-0.005_0.001_0.2_0.01.png'\n",
    "    ]\n",
    "    \n",
    "    past_frames_list = []\n",
    "    for path in image_save_path_list:\n",
    "        past_frames_list.append(process_image(path))\n",
    "    \n",
    "    delta_u_list = [[0.0005, -0.01], [0, 0.004], [0, 0.0005], [0, 0.001], [0, 0.0045], [0.0004, -0.01], [0, 0.01], [0.0002, -0.01], [0.0049, 0.004]]\n",
    "\n",
    "    \n",
    "\n",
    "\n",
    "    ###========================================================\n",
    "    ### 3) SET UP AND RUN OPTIMIZATION MODEL\n",
    "    ###========================================================\n",
    "    catheter_optimize_model = ReconstructionOptimizer(p_start, para_init, img_ref_binary, gpu_or_cpu, past_frames_list, delta_u_list, img_save_path, image_save_path_list).to(gpu_or_cpu)\n",
    "\n",
    "    print(\"Model Parameters:\")\n",
    "    for name, param in catheter_optimize_model.named_parameters():\n",
    "        print(f\"{name}: requires_grad={param.requires_grad}\")\n",
    "\n",
    "    optimizer = torch.optim.Adam(catheter_optimize_model.parameters(), lr=1e-2)\n",
    "\n",
    "    # Run the optimization loop\n",
    "    num_iterations = 100\n",
    "    loop = tqdm(range(num_iterations))\n",
    "    for loop_id in loop:\n",
    "        print(\"\\n================================================================================================================\")\n",
    "        print(\"loop_id: \", loop_id)\n",
    "\n",
    "\n",
    "        # save_img_path = '/Users/kobeyang/Downloads/Programming/ECESRIP/diff_catheter/scripts/test_diff_render_catheter_v2/rendered_imgs/' \\\n",
    "        #     + 'render_' + str(loop_id) + '.jpg'\n",
    "            \n",
    "        save_img_path = 'E:/OneDrive - UC San Diego/UCSD/Lab/Catheter/diff_catheter/scripts/test_diff_render_catheter_v2/rendered_imgs_new/' \\\n",
    "            + 'render_' + str(loop_id) + '.jpg'\n",
    "\n",
    "        # pdb.set_trace()\n",
    "\n",
    "        # Zero the gradients before running the backward pass.\n",
    "        optimizer.zero_grad()\n",
    "\n",
    "        # Run the forward pass\n",
    "        loss = catheter_optimize_model(save_img_path)\n",
    "\n",
    "        # Print gradients for all parameters before backward pass\n",
    "        print(\"Gradients BEFORE BACKWARD PASS:\")\n",
    "        for name, param in catheter_optimize_model.named_parameters():\n",
    "            if param.grad is not None:\n",
    "                print(f\"Parameter: {name}, Gradient: {param.grad.norm().item()}\")  # Print the norm of the gradient\n",
    "            else:\n",
    "                print(f\"{name}: No gradient computed\")\n",
    "\n",
    "        # Run the backward pass\n",
    "        loss.backward(retain_graph=True)\n",
    "\n",
    "        # Print gradients for all parameters after backward pass\n",
    "        print(\"Gradients AFTER BACKWARD PASS:\")\n",
    "        for name, param in catheter_optimize_model.named_parameters():\n",
    "            if param.grad is not None:\n",
    "                print(f\"Parameter: {name}, Gradient: {param.grad.norm().item()}\")\n",
    "            else:\n",
    "                print(f\"{name}: No gradient computed\")\n",
    "                \n",
    "        # end_effector_loss_history.append(torch.norm((catheter_optimize_model.para_init[3:6] - end_effector_gt), p=2).item())\n",
    "        proj_end_effector_loss_history.append(catheter_optimize_model.tip_euclidean_distance_loss.item())\n",
    "        d3d_end_effector_loss_history.append(torch.norm((catheter_optimize_model.para_init[3:6] - end_effector_gt), p=2).item())\n",
    "\n",
    "        # Update the parameters\n",
    "        optimizer.step()\n",
    "\n",
    "\n",
    "        # Print and inspect the updated parameters\n",
    "        for name, param in catheter_optimize_model.named_parameters():\n",
    "            print(f\"Parameter: {name}, Updated Value: {param.data}\")\n",
    "\n",
    "\n",
    "        # # end_effector_loss_history.append(torch.norm((catheter_optimize_model.para_init[3:6] - end_effector_gt), p=2).item())\n",
    "        # proj_end_effector_loss_history.append(catheter_optimize_model.tip_euclidean_distance_loss.item())\n",
    "        # d3d_end_effector_loss_history.append(torch.norm((catheter_optimize_model.para_init[3:6] - end_effector_gt), p=2).item())\n",
    "\n",
    "        # Update the progress bar\n",
    "        loop.set_description('Optimizing')\n",
    "\n",
    "        # Update the loss\n",
    "        loop.set_postfix(loss=loss.item())\n",
    "\n",
    "        print(\"Loss: \", loss.item())\n",
    "\n",
    "    # end_effector_loss_history.append(torch.norm((catheter_optimize_model.para_init[3:6] - end_effector_gt), p=2).item())\n",
    "    proj_end_effector_loss_history.append(catheter_optimize_model.tip_euclidean_distance_loss.item())\n",
    "    d3d_end_effector_loss_history.append(torch.norm((catheter_optimize_model.para_init[3:6] - end_effector_gt), p=2).item())\n",
    "\n",
    "    for name, param in catheter_optimize_model.named_parameters():\n",
    "        param_numpy = param.data.cpu().numpy()\n",
    "        filename = f\"{name}.npy\"\n",
    "        np.save(filename, param_numpy)\n",
    "        print(f\"Saved {name} to {filename}\")\n",
    "\n",
    "    # Given array of values proj_end_effector_loss_history, create plot of loss vs. iterations\n",
    "    iterations_x_axis_proj = list(range(len(proj_end_effector_loss_history)))\n",
    "    print(\"proj_end_effector_loss_history: \", proj_end_effector_loss_history)\n",
    "    fig1 = plt.figure()\n",
    "    ax1 = fig1.add_subplot(111)\n",
    "    fig1.suptitle('2D Tip Euclidean Distance Loss History')\n",
    "    ax1.plot(iterations_x_axis_proj, proj_end_effector_loss_history)\n",
    "    ax1.set_xlabel('Iterations')\n",
    "    ax1.set_ylabel('Euclidean Distance Loss (Pixels)')\n",
    "    ax1.set_xlim([0, len(proj_end_effector_loss_history)])\n",
    "    ax1.set_ylim([0, 80])\n",
    "    ax1.grid(True)\n",
    "    plt.show()\n",
    "\n",
    "\n",
    "    # Given array of values d3d_end_effector_loss_history, create plot of 3d loss vs. iterations\n",
    "    iterations_x_axis_3d = list(range(len(d3d_end_effector_loss_history)))\n",
    "    print(\"d3d_end_effector_loss_history: \", d3d_end_effector_loss_history)\n",
    "    fig2 = plt.figure()\n",
    "    ax2 = fig2.add_subplot(111)\n",
    "    fig2.suptitle('3D Tip Euclidean Distance Loss History')\n",
    "    ax2.plot(iterations_x_axis_3d, d3d_end_effector_loss_history)\n",
    "    ax2.set_xlabel('Iterations')\n",
    "    ax2.set_ylabel('Euclidean Distance Loss (m)')\n",
    "    ax2.set_xlim([0, len(d3d_end_effector_loss_history)])\n",
    "    ax2.set_ylim([0, 0.05])\n",
    "    ax2.grid(True)\n",
    "    plt.show()"
   ]
  },
  {
   "cell_type": "code",
   "execution_count": 8,
   "metadata": {},
   "outputs": [
    {
     "name": "stdout",
     "output_type": "stream",
     "text": [
      "proj_end_effector_loss_history:  [77.2180606256328, 20.693518729040246, 53.58400418945786, 47.736187532707184, 28.539912773198946, 25.713971205831953, 32.286041008202815, 33.73868610775619, 29.44212554417102, 23.845483181783855, 22.32634128055884, 23.551482553470183, 23.048977449115466, 19.895727054405853, 16.429330833267738, 16.242327298570594, 18.48912846000545, 19.39438774622417, 17.433978496049015, 13.286117216183778, 9.62924291884599, 10.438193888967689, 13.71384174004473, 15.307927782223734, 13.817382835546644, 9.660615672749149, 5.074241144399822, 6.06601904009371, 9.899219479287643, 11.794447303353921, 10.887152293304158, 7.530810783569682, 2.9757770818139546, 3.340229495716624, 7.056146958764782, 8.883737232226702, 8.267292496675024, 5.533758096317632, 1.5843285080750402, 2.423310816614716, 5.403736035734284, 6.650034787717356, 5.989270688636812, 3.796813892092691, 1.0689222872770432, 2.3866899728561144, 4.29997583200689, 4.870384618536397, 4.0659976708290095, 2.384797372107774, 1.3264611375976467, 2.461312359860945, 3.3799615940377516, 3.3822329426834377, 2.5981241912102107, 1.6341897223815065, 1.5960714452022478, 2.195688399254786, 2.4508327480317122, 2.206099452149848, 1.7175342814548646, 1.429790080748611, 1.5151331803077415, 1.6528330241701077, 1.642904079698748, 1.5157065857127645, 1.3526863627647434, 1.1943190428163866, 1.0918191984810608, 1.1199599506423934, 1.2181251049637645, 1.2134104605356641, 1.0157910397127015, 0.7339081379504812, 0.7113773344741638, 0.938524623668519, 1.0341010249433633, 0.8548726273640654, 0.4950383941927055, 0.4283566272152347, 0.7266173233637662, 0.853361133388297, 0.6910558103408079, 0.3214680221023052, 0.2620178049221394, 0.5793216078762765, 0.6863111879784897, 0.5279696732542668, 0.18378930643278285, 0.20896611959895126, 0.47691199224496117, 0.5350913542085036, 0.3787334074189857, 0.09752255462807521, 0.21388814562755784, 0.3921358379420508, 0.39922051402249076, 0.2550764669444632, 0.09567680032769463, 0.21799024840797795, 0.21799024840797795]\n"
     ]
    },
    {
     "data": {
      "image/png": "[encoded data removed]",
      "text/plain": [
       "<Figure size 640x480 with 1 Axes>"
      ]
     },
     "metadata": {},
     "output_type": "display_data"
    },
    {
     "name": "stdout",
     "output_type": "stream",
     "text": [
      "d3d_end_effector_loss_history:  [0.020112991333007812, 0.018926968798041344, 0.024179905652999878, 0.021900014951825142, 0.017402032390236855, 0.013764710165560246, 0.011580323800444603, 0.01005638763308525, 0.008575442247092724, 0.007459454704076052, 0.007212379481643438, 0.007313503418117762, 0.006944112945348024, 0.005897725000977516, 0.004579548258334398, 0.003849682630971074, 0.004095748066902161, 0.004581288900226355, 0.0047669787891209126, 0.004697693511843681, 0.004707373213022947, 0.005032827146351337, 0.005516332108527422, 0.00584040954709053, 0.005913936998695135, 0.005968526005744934, 0.006348878610879183, 0.00713213998824358, 0.008049932308495045, 0.008787567727267742, 0.009205779060721397, 0.009362786076962948, 0.00942525640130043, 0.009537078440189362, 0.009728399105370045, 0.009944217279553413, 0.010148383677005768, 0.010374135337769985, 0.010674238204956055, 0.01104110199958086, 0.011392246000468731, 0.011633731424808502, 0.011731673963367939, 0.01173114962875843, 0.011717656627297401, 0.011757539585232735, 0.011866097338497639, 0.012023095972836018, 0.012205147184431553, 0.012396135367453098, 0.012575541622936726, 0.01271235290914774, 0.012779186479747295, 0.012774044647812843, 0.012727659195661545, 0.012688457034528255, 0.01269637979567051, 0.012765003368258476, 0.012881595641374588, 0.013018282130360603, 0.013143186457455158, 0.013228665105998516, 0.013259025290608406, 0.013236770406365395, 0.013183061964809895, 0.013129990547895432, 0.013107656501233578, 0.013132411986589432, 0.013201463967561722, 0.013294861651957035, 0.01338361855596304, 0.013441052287817001, 0.0134533466771245, 0.013424607925117016, 0.01337401382625103, 0.013327074237167835, 0.013305486179888248, 0.013319788500666618, 0.013366415165364742, 0.013429257087409496, 0.013485901989042759, 0.013516969047486782, 0.013514521531760693, 0.013484969735145569, 0.013445035554468632, 0.013413671404123306, 0.013404368422925472, 0.013420741073787212, 0.013456039130687714, 0.013496185652911663, 0.013525654561817646, 0.0135342413559556, 0.013521420769393444, 0.013495850376784801, 0.01347065344452858, 0.01345724705606699, 0.013460863381624222, 0.013479085639119148, 0.013503569178283215, 0.013523919507861137, 0.013532327488064766]\n"
     ]
    },
    {
     "data": {
      "image/png": "[encoded data removed]",
      "text/plain": [
       "<Figure size 640x480 with 1 Axes>"
      ]
     },
     "metadata": {},
     "output_type": "display_data"
    }
   ],
   "source": [
    "# Given array of values proj_end_effector_loss_history, create plot of loss vs. iterations\n",
    "iterations_x_axis_proj = list(range(len(proj_end_effector_loss_history)))\n",
    "print(\"proj_end_effector_loss_history: \", proj_end_effector_loss_history)\n",
    "fig1 = plt.figure()\n",
    "ax1 = fig1.add_subplot(111)\n",
    "fig1.suptitle('2D Tip Euclidean Distance Loss History')\n",
    "ax1.plot(iterations_x_axis_proj, proj_end_effector_loss_history)\n",
    "ax1.set_xlabel('Iterations')\n",
    "ax1.set_ylabel('Euclidean Distance Loss (Pixels)')\n",
    "ax1.set_xlim([0, len(proj_end_effector_loss_history)])\n",
    "# ax1.set_ylim([0, 80])\n",
    "ax1.grid(True)\n",
    "plt.show()\n",
    "\n",
    "\n",
    "# Given array of values d3d_end_effector_loss_history, create plot of 3d loss vs. iterations\n",
    "iterations_x_axis_3d = list(range(len(d3d_end_effector_loss_history)))\n",
    "print(\"d3d_end_effector_loss_history: \", d3d_end_effector_loss_history)\n",
    "fig2 = plt.figure()\n",
    "ax2 = fig2.add_subplot(111)\n",
    "fig2.suptitle('3D Tip Euclidean Distance Loss History')\n",
    "ax2.plot(iterations_x_axis_3d, d3d_end_effector_loss_history)\n",
    "ax2.set_xlabel('Iterations')\n",
    "ax2.set_ylabel('Euclidean Distance Loss (m)')\n",
    "ax2.set_xlim([0, len(d3d_end_effector_loss_history)])\n",
    "# ax2.set_ylim([0, 0.05])\n",
    "ax2.grid(True)\n",
    "plt.show()"
   ]
  },
  {
   "cell_type": "code",
   "execution_count": null,
   "metadata": {},
   "outputs": [],
   "source": []
  }
 ],
 "metadata": {
  "kernelspec": {
   "display_name": "catheter",
   "language": "python",
   "name": "python3"
  },
  "language_info": {
   "codemirror_mode": {
    "name": "ipython",
    "version": 3
   },
   "file_extension": ".py",
   "mimetype": "text/x-python",
   "name": "python",
   "nbconvert_exporter": "python",
   "pygments_lexer": "ipython3",
   "version": "3.8.19"
  }
 },
 "nbformat": 4,
 "nbformat_minor": 2
}
