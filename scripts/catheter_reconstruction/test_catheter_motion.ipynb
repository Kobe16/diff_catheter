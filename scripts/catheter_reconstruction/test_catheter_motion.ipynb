{
 "cells": [
  {
   "cell_type": "code",
   "execution_count": 36,
   "metadata": {},
   "outputs": [],
   "source": [
    "import sys\n",
    "import os\n",
    "import numpy as np\n",
    "\n",
    "import transforms\n",
    "from bezier_interspace_transforms import tendon_disp_to_bezier_control_points, bezier_control_points_to_tendon_disp\n",
    "# current_directory = os.path.dirname(os.path.realpath(__file__))\n",
    "# parent_directory = os.path.dirname(current_directory)\n",
    "# sys.path.append(parent_directory)\n",
    "# # from bezier_set import BezierSet\n",
    "\n",
    "\n",
    "class CatheterMotion(): \n",
    "\n",
    "    def __init__(self, p_0, l=0.2, r=0.01, n_mid_points=0, verbose=1):\n",
    "        \"\"\"\n",
    "        Args:\n",
    "            p_0 ((3,) numpy array): start point of catheter\n",
    "            l (float): length of catheter\n",
    "            r (float): cross section radius of catheter\n",
    "            n_mid_points (int): number of middle control points\n",
    "            verbose (0, 1, or 2): amount of verbosity\n",
    "\n",
    "        Attributes:\n",
    "            mode (int or None): Indicates the number of Degrees of Freedom (DoF).\n",
    "            weight_matrix (numpy.ndarray): Matrix for weight calculations. Will take submatrix\n",
    "                                           to use for calculations if necessary. \n",
    "            params (numpy.ndarray): Array to store catheter parameters over iterations.\n",
    "            bezier_config ((1,6) numpy array): current bezier configuration (2nd and 3rd \n",
    "                                               control points respectively) of catheter\n",
    "\n",
    "        \"\"\"\n",
    "        self.p_0 = np.append(p_0, 1)\n",
    "        self.l = l\n",
    "        self.r = r\n",
    "\n",
    "        # self.verbose = verbose\n",
    "\n",
    "        # if n_mid_points == 0:\n",
    "        #     self.n_mid_points = 0\n",
    "        # else:\n",
    "        #     if n_mid_points % 2 == 0:\n",
    "        #         self.n_mid_points = n_mid_points + 1\n",
    "        #     else:\n",
    "        #         self.n_mid_points = n_mid_points\n",
    "\n",
    "        # self.mode = None\n",
    "        # self.weight_matrix = np.zeros((3, 3))\n",
    "        # self.params = np.zeros((self.n_iter + 2, 5))\n",
    "        # self.bezier_config = np.zeros((6, 1))\n",
    "        \n",
    "\n",
    "    def past_frames_prediction(self, delta_u_list, p_init):\n",
    "        \"\"\"\n",
    "        delta_u_list: start from delta_u_(n-1)\n",
    "        \"\"\"\n",
    "        \n",
    "        p_1 = np.append(p_init[:3], 1)\n",
    "        p_2 = np.append(p_init[3:], 1)\n",
    "\n",
    "        ux, uy = bezier_control_points_to_tendon_disp(self.p_0, p_1, p_2, self.l, self.r)\n",
    "        print(\"Initial ux, uy: \", ux, uy)\n",
    "\n",
    "        delta_u_cumulative = np.array([ux, uy])\n",
    "        bezier_control_points = []\n",
    "\n",
    "        for delta_u in delta_u_list:\n",
    "            delta_u_cumulative -= delta_u\n",
    "            p_1_new, p_2_new = tendon_disp_to_bezier_control_points(delta_u_cumulative[0], delta_u_cumulative[1], self.l, self.r, self.p_0)\n",
    "            print('ux, uy', delta_u_cumulative[0], delta_u_cumulative[1])\n",
    "            # bezier_points = np.array([p_1_new[:-1], p_2_new[:-1]])\n",
    "            bezier_points = np.concatenate((p_1_new[:-1], p_2_new[:-1]))\n",
    "            bezier_control_points.append(bezier_points)\n",
    "\n",
    "        return np.array(bezier_control_points)\n"
   ]
  },
  {
   "cell_type": "code",
   "execution_count": 37,
   "metadata": {},
   "outputs": [],
   "source": [
    "def read_gt_params(cc_specs_path):\n",
    "    \"\"\"\n",
    "    The order of gt: [p_start, p_end, c1, c2]\n",
    "    \"\"\"\n",
    "    \n",
    "    para_gt_np = np.load(cc_specs_path)\n",
    "    matrix = np.squeeze(para_gt_np)\n",
    "    c1 = matrix[2]\n",
    "    c2 = matrix[3]\n",
    "    p_start = matrix[0]\n",
    "    p_end = matrix[1]\n",
    "    p_mid = 3/4 * (c1 + p_end/3)\n",
    "    p1 = 2*p_mid - 0.5*p_start - 0.5*p_end\n",
    "    result_vector = np.concatenate((p1, p_end))\n",
    "    return result_vector "
   ]
  },
  {
   "cell_type": "code",
   "execution_count": 38,
   "metadata": {},
   "outputs": [
    {
     "name": "stdout",
     "output_type": "stream",
     "text": [
      "[ 2.15634587e-02 -6.05764476e-04  5.16317712e-01  1.65068886e-01\n",
      " -2.39781477e-01  9.49010349e-01]\n"
     ]
    }
   ],
   "source": [
    "case_naming = 'E:/OneDrive - UC San Diego/UCSD/Lab/Catheter/diff_catheter/scripts/test_diff_render_catheter_v2/gt_dataset3/gt_6_0.0006_-0.0010_0.2_0.01'\n",
    "# case_naming = 'E:/OneDrive - UC San Diego/UCSD/Lab/Catheter/diff_catheter/scripts/test_diff_render_catheter_v2/blender_imgs/test_gt_4'\n",
    "img_save_path = case_naming + '.png'\n",
    "cc_specs_path = case_naming + '.npy'\n",
    "\n",
    "para_gt_np = read_gt_params(cc_specs_path)\n",
    "print(para_gt_np)"
   ]
  },
  {
   "cell_type": "code",
   "execution_count": 39,
   "metadata": {},
   "outputs": [
    {
     "name": "stdout",
     "output_type": "stream",
     "text": [
      "Initial ux, uy:  0.0021725185137369146 -0.005460919249087846\n",
      "ux, uy 0.0021725185137369146 -0.005260919249087846\n",
      "ux, uy 0.0021725185137369146 -0.005060919249087846\n",
      "ux, uy 0.0021725185137369146 -0.004860919249087847\n",
      "ux, uy 0.0021725185137369146 -0.004660919249087847\n",
      "Predicted Bezier Control Points for Past Frames:\n",
      "[[ 0.11591201 -0.23025824  0.65450297  0.27809585 -0.62299879  0.10407099]\n",
      " [ 0.11180137 -0.21185287  0.65473224  0.29125585 -0.62989517  0.1396225 ]\n",
      " [ 0.10762768 -0.19406327  0.653998    0.30438702 -0.63430405  0.17619358]\n",
      " [ 0.10341104 -0.17694998  0.65236998  0.31744453 -0.63613722  0.2135932 ]]\n",
      "(4, 6)\n"
     ]
    }
   ],
   "source": [
    "# Create an instance of CatheterMotion\n",
    "p_0 = np.array([2e-2, 2e-3, 0])\n",
    "l = 0.2\n",
    "r = 0.01\n",
    "n_mid_points = 0                 \n",
    "catheter = CatheterMotion(p_0, l, r)\n",
    "\n",
    "# Initial Bezier control points (6D vector; first 3 for p1, last 3 for p2)\n",
    "p_init = np.array([0.034, -0.003, 0.526, 0.13, -0.24, 0.6],\n",
    "                     dtype=np.float32)\n",
    "\n",
    "# List of changes in control parameters (delta_u_list)\n",
    "delta_u_list = [[0, -0.0002], [0, -0.0002], [0, -0.0002], [0, -0.0002]]\n",
    "\n",
    "# Run the test\n",
    "predicted_bezier_points = catheter.past_frames_prediction(delta_u_list, p_init)\n",
    "\n",
    "# Print the results\n",
    "print(\"Predicted Bezier Control Points for Past Frames:\")\n",
    "print(predicted_bezier_points)\n",
    "print(predicted_bezier_points.shape)\n",
    "\n"
   ]
  },
  {
   "cell_type": "code",
   "execution_count": 40,
   "metadata": {},
   "outputs": [
    {
     "name": "stdout",
     "output_type": "stream",
     "text": [
      "[ 0.11993993 -0.24921253  0.65324587  1.        ] [ 0.26495113 -0.6137178   0.06972045  1.        ]\n"
     ]
    }
   ],
   "source": [
    "p1, p2 = tendon_disp_to_bezier_control_points(0.0021725185137369146, -0.005460919249087846, l, r, np.array([2e-2, 2e-3, 0, 1]))\n",
    "print(p1, p2)"
   ]
  },
  {
   "cell_type": "code",
   "execution_count": 41,
   "metadata": {},
   "outputs": [],
   "source": [
    "p_0 = np.array([2e-2, 2e-3, 0])\n",
    "p_0_h = np.array([2e-2, 2e-3, 0, 1])\n",
    "l = 0.2\n",
    "r = 0.01\n",
    "ux = 0.002\n",
    "uy = 0.003"
   ]
  },
  {
   "cell_type": "code",
   "execution_count": 42,
   "metadata": {},
   "outputs": [
    {
     "name": "stdout",
     "output_type": "stream",
     "text": [
      "[0.3897281434379607 0.5565922151569411 0.5522579368980701]\n",
      "[0.06328963 0.06693444 0.61385996 1.        ] [0.38972814 0.55659222 0.55225794 1.        ]\n"
     ]
    }
   ],
   "source": [
    "def cc_transform_3dof(p_0, ux, uy, l, r, s=1):\n",
    "    \"\"\"\n",
    "    Calculate constant curvature 3DoF transformation\n",
    "    \n",
    "    Args:\n",
    "        p_0 ((3,) numpy array): start point of catheter\n",
    "        ux (float): 1st pair of tendon length (responsible for catheter bending)\n",
    "        uy (float): 2nd pair of tendon length (responsible for catheter bending)\n",
    "        l (float): length of catheter\n",
    "        r (float): cross section radius of catheter\n",
    "        s (float from 0 to 1 inclusive): s value representing position on the CC curve\n",
    "    \"\"\"\n",
    "    p_0_4d = np.append(p_0, 1)\n",
    "    u = np.sqrt(ux ** 2 + uy ** 2)\n",
    "    k = u / (l * r)\n",
    "\n",
    "    T = np.array([\n",
    "        [1 + (ux ** 2) / (u ** 2) * (np.cos(k * s) - 1), ux * uy / (u ** 2) * (np.cos(k * s) - 1),       -1 * ux / u * np.sin(k * s), r * l * ux * (1 - np.cos(k * s)) / (u ** 2)],\n",
    "        [ux * uy / (u ** 2) * (np.cos(k * s) - 1),       1 + (uy ** 2) / (u ** 2) * (np.cos(k * s) - 1), -1 * uy / u * np.sin(k * s), r * l * uy * (1 - np.cos(k * s)) / (u ** 2)],\n",
    "        [ux / u * np.sin(k * s),                         uy / u * np.sin(k * s),                         np.cos(k * s),               r * l * np.sin(k * s) / u                  ],\n",
    "        [0,                                              0,                                              0,                           1                                          ]], dtype=object)\n",
    "\n",
    "    return (T @ p_0_4d)[:3]\n",
    "\n",
    "p_end = cc_transform_3dof(p_0, ux, uy, l, r)\n",
    "p1, p2 = tendon_disp_to_bezier_control_points(ux, uy, l, r, p_0_h)\n",
    "print(p_end)\n",
    "print(p1, p2)\n"
   ]
  },
  {
   "cell_type": "code",
   "execution_count": 43,
   "metadata": {},
   "outputs": [
    {
     "name": "stdout",
     "output_type": "stream",
     "text": [
      "0.0020457509260103923 0.003068626389015589\n"
     ]
    }
   ],
   "source": [
    "p1, p2 = tendon_disp_to_bezier_control_points(ux, uy, l, r, p_0_h)\n",
    "ux_solve, uy_solve = bezier_control_points_to_tendon_disp(p_0_h, p1, p2, l, r)\n",
    "\n",
    "print(ux_solve, uy_solve)"
   ]
  }
 ],
 "metadata": {
  "kernelspec": {
   "display_name": "catheter",
   "language": "python",
   "name": "python3"
  },
  "language_info": {
   "codemirror_mode": {
    "name": "ipython",
    "version": 3
   },
   "file_extension": ".py",
   "mimetype": "text/x-python",
   "name": "python",
   "nbconvert_exporter": "python",
   "pygments_lexer": "ipython3",
   "version": "3.8.19"
  }
 },
 "nbformat": 4,
 "nbformat_minor": 2
}
