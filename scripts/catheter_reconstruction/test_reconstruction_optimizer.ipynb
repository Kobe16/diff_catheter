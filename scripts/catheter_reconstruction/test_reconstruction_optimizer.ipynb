{
 "cells": [
  {
   "cell_type": "code",
   "execution_count": 13,
   "metadata": {},
   "outputs": [],
   "source": [
    "\"\"\"\n",
    "File that runs the actual reconstruction optimizer forward pass. \n",
    "It should compute 3 loss functions: contour chamfer loss, tip distance \n",
    "loss, and motion model loss. In its forward pass, it will call upon \n",
    "the construction_bezier and motion_catheter scripts to build its \n",
    "catheters. It will be optimizing the parameter para_init. \n",
    "\"\"\"\n",
    "import sys\n",
    "sys.path.append('..')\n",
    "sys.path.insert(1, 'E:/OneDrive - UC San Diego/UCSD/Lab/Catheter/diff_catheter/scripts')\n",
    "\n",
    "import torch\n",
    "import torch.nn as nn\n",
    "import cv2\n",
    "# from tqdm.notebook import tqdm\n",
    "from tqdm.auto import tqdm\n",
    "import numpy as np\n",
    "import matplotlib.pyplot as plt\n",
    "\n",
    "from construction_bezier import ConstructionBezier\n",
    "from loss_define import (\n",
    "    ContourChamferLoss, \n",
    "    TipDistanceLoss, \n",
    "    ImageContourChamferLoss, \n",
    "    GenerateRefData\n",
    ")\n",
    "\n",
    "from catheter_motion import CatheterMotion\n",
    "\n",
    "\n",
    "class ReconstructionOptimizer(nn.Module): \n",
    "\n",
    "    def __init__(self, p_start, para_init, image_ref, gpu_or_cpu, past_frames_list, delta_u_list, img_save_path, image_save_path_list): \n",
    "        '''\n",
    "        This function initializes the catheter optimization model.\n",
    "\n",
    "        Args:\n",
    "            p_start (tensor): starting point of the catheter\n",
    "            image_ref (numpy array): reference image to compare to\n",
    "            gpu_or_cpu (str): either 'cuda' or 'cpu'\n",
    "        '''\n",
    "        super().__init__()\n",
    "\n",
    "        self.build_bezier = ConstructionBezier(radius=0.0005)\n",
    "        self.build_bezier.to(gpu_or_cpu)\n",
    "        self.build_bezier.loadRawImage(img_save_path)\n",
    "\n",
    "        self.contour_chamfer_loss = ContourChamferLoss(device=gpu_or_cpu)\n",
    "        self.contour_chamfer_loss.to(gpu_or_cpu)\n",
    "        self.tip_distance_loss = TipDistanceLoss(device=gpu_or_cpu)\n",
    "        self.tip_distance_loss.to(gpu_or_cpu)\n",
    "        self.image_contour_chamfer_loss = ImageContourChamferLoss(device=gpu_or_cpu)\n",
    "        self.image_contour_chamfer_loss.to(gpu_or_cpu)\n",
    "        \n",
    "        # Declare self.tip_euclidean_distance_loss as a variable that'll hold a single numpy scalar value\n",
    "        self.tip_euclidean_distance_loss = None\n",
    "\n",
    "        self.p_start = p_start.to(gpu_or_cpu).detach()\n",
    "        self.para_init = nn.Parameter(torch.from_numpy(para_init).to(gpu_or_cpu),\n",
    "                                      requires_grad=True)\n",
    "        \n",
    "        \n",
    "        image_ref = torch.from_numpy(image_ref.astype(np.float32))\n",
    "        self.register_buffer('image_ref', image_ref)\n",
    "        \n",
    "        # Generate reference data, so you don't need to generate it in every forward pass\n",
    "        self.generate_ref_data = GenerateRefData(self.image_ref)\n",
    "        ref_catheter_contour = self.generate_ref_data.get_raw_contour()\n",
    "        self.register_buffer('ref_catheter_contour', ref_catheter_contour)\n",
    "        ref_catheter_centerline = self.generate_ref_data.get_raw_centerline()\n",
    "        self.register_buffer('ref_catheter_centerline', ref_catheter_centerline)\n",
    "        \n",
    "        # self.register_buffer('delta_u_list', delta_u_list)\n",
    "        self.delta_u_list = delta_u_list\n",
    "        # self.register_buffer('past_frames_list', past_frames_list)\n",
    "        # self.register_buffer('image_save_path_list', image_save_path_list)\n",
    "        self.image_save_path_list = image_save_path_list\n",
    "        \n",
    "        # Generate reference data for past frames\n",
    "        contour_list = []\n",
    "        centerline_list = []\n",
    "        for image in past_frames_list:\n",
    "            image = torch.from_numpy(image.astype(np.float32))\n",
    "            generate_ref_data = GenerateRefData(image)\n",
    "            ref_catheter_contour = generate_ref_data.get_raw_contour()\n",
    "            ref_catheter_centerline = generate_ref_data.get_raw_centerline()\n",
    "            contour_list.append(ref_catheter_contour)\n",
    "            centerline_list.append(ref_catheter_centerline)\n",
    "        # self.register_buffer('contour_list', torch.stack(contour_list))\n",
    "        # self.register_buffer('centerline_list', torch.stack(centerline_list))\n",
    "        self.contour_list = contour_list\n",
    "        self.centerline_list = centerline_list\n",
    "        \n",
    "        self.gpu_or_cpu = gpu_or_cpu\n",
    "\n",
    "    def forward(self, save_img_path): \n",
    "        '''\n",
    "        Function to run forward pass of the catheter optimization model.\n",
    "        Creates catheter model, gets projection onto 2d image, and calculates loss.\n",
    "\n",
    "        Args:\n",
    "            save_img_path (str): path to save the projection image to\n",
    "        '''\n",
    "\n",
    "        # print('hello')\n",
    "        \n",
    "        # Generate the Bezier curve cylinder mesh points\n",
    "        self.build_bezier.getBezierCurveCylinder(self.p_start, self.para_init)\n",
    "\n",
    "        # Get 2d projected Bezier Cylinder mesh points\n",
    "        self.build_bezier.getCylinderMeshProjImg()\n",
    "\n",
    "        # Get 2d projected Bezier centerline (position) points\n",
    "        self.build_bezier.getBezierProjImg()\n",
    "\n",
    "        self.build_bezier.draw2DCylinderImage(self.image_ref, save_img_path)\n",
    "\n",
    "        loss_contour = self.contour_chamfer_loss(self.build_bezier.bezier_proj_img.to(self.gpu_or_cpu), self.ref_catheter_contour.to(self.gpu_or_cpu))\n",
    "\n",
    "        loss_tip_distance, self.tip_euclidean_distance_loss = self.tip_distance_loss(self.build_bezier.bezier_proj_centerline_img.to(self.gpu_or_cpu), self.ref_catheter_centerline.to(self.gpu_or_cpu))\n",
    "        \n",
    "        p0 = self.p_start.detach().cpu().numpy()\n",
    "        para_init = self.para_init.detach().cpu().numpy()\n",
    "        catheterMotion = CatheterMotion(p0)\n",
    "        predicted_paras = catheterMotion.past_frames_prediction(self.delta_u_list, para_init)\n",
    "        motion_model_loss = torch.tensor(0.0).to(self.gpu_or_cpu)\n",
    "        for i in range(len(predicted_paras)):\n",
    "            build_bezier = ConstructionBezier()\n",
    "            build_bezier.to(self.gpu_or_cpu)\n",
    "            build_bezier.loadRawImage(self.image_save_path_list[i])\n",
    "            build_bezier.getBezierCurveCylinder(self.p_start, torch.from_numpy(predicted_paras[i]).to(self.gpu_or_cpu))\n",
    "            build_bezier.getCylinderMeshProjImg()\n",
    "            build_bezier.getBezierProjImg()\n",
    "            # build_bezier.draw2DCylinderImage(self.past_frames_list[i], save_img_path_list[i])\n",
    "            \n",
    "            loss_contour = self.contour_chamfer_loss(build_bezier.bezier_proj_img.to(self.gpu_or_cpu), self.contour_list[i].to(self.gpu_or_cpu))\n",
    "            motion_model_loss += loss_contour.to(self.gpu_or_cpu)  \n",
    "            \n",
    "        \n",
    "        weight = torch.tensor([1.0, 1.0, 1.0])\n",
    "        loss = loss_contour * weight[0] + loss_tip_distance * weight[1] + motion_model_loss * weight[2]\n",
    "\n",
    "\n",
    "        print(\"-----------------------------------------------------------------\")\n",
    "        print(\"loss_contour: \", loss_contour)\n",
    "        # print(\"loss_tip: \", loss_tip)\n",
    "        # print(\"loss_boundary: \", loss_boundary)\n",
    "        print(\"loss_tip_distance: \", loss_tip_distance)\n",
    "        # print(\"loss_boundary_point_distance_loss: \", loss_boundary_point_distance_loss)\n",
    "        print(\"motion_model_loss: \", motion_model_loss)\n",
    "        print(\"loss: \", loss)\n",
    "        print(\"-----------------------------------------------------------------\")\n",
    "\n",
    "\n",
    "        # TODO: Plot the loss\n",
    "\n",
    "        return loss\n",
    "    \n",
    "\n",
    "\n",
    "\n"
   ]
  },
  {
   "cell_type": "code",
   "execution_count": 14,
   "metadata": {},
   "outputs": [],
   "source": [
    "def process_image(img_save_path):\n",
    "    img_ref_rgb = cv2.imread(img_save_path)\n",
    "    img_ref_gray = cv2.cvtColor(img_ref_rgb, cv2.COLOR_BGR2GRAY)\n",
    "    (thresh, img_ref_thresh) = cv2.threshold(img_ref_gray, 80, 255, cv2.THRESH_BINARY | cv2.THRESH_OTSU)\n",
    "    img_ref_binary = np.where(img_ref_thresh == 255, 1, img_ref_thresh)\n",
    "    \n",
    "    return img_ref_binary"
   ]
  },
  {
   "cell_type": "code",
   "execution_count": 15,
   "metadata": {},
   "outputs": [
    {
     "name": "stdout",
     "output_type": "stream",
     "text": [
      "Model Parameters:\n",
      "para_init: requires_grad=True\n"
     ]
    },
    {
     "name": "stderr",
     "output_type": "stream",
     "text": [
      "  0%|          | 0/100 [00:00<?, ?it/s]"
     ]
    },
    {
     "name": "stdout",
     "output_type": "stream",
     "text": [
      "\n",
      "================================================================================================================\n",
      "loop_id:  0\n"
     ]
    },
    {
     "name": "stderr",
     "output_type": "stream",
     "text": [
      "Optimizing:   1%|          | 1/100 [00:01<01:59,  1.20s/it, loss=5.32e+9]"
     ]
    },
    {
     "name": "stdout",
     "output_type": "stream",
     "text": [
      "-----------------------------------------------------------------\n",
      "loss_contour:  tensor(23330729.1311, device='cuda:0', dtype=torch.float64)\n",
      "loss_tip_distance:  tensor(1417.8130, device='cuda:0', dtype=torch.float64,\n",
      "       grad_fn=<MeanBackward0>)\n",
      "motion_model_loss:  tensor(5.2961e+09, device='cuda:0')\n",
      "loss:  tensor(5.3194e+09, device='cuda:0', dtype=torch.float64,\n",
      "       grad_fn=<AddBackward0>)\n",
      "-----------------------------------------------------------------\n",
      "Gradients BEFORE BACKWARD PASS:\n",
      "para_init: No gradient computed\n",
      "Gradients AFTER BACKWARD PASS:\n",
      "Parameter: para_init, Gradient: 261281.546875\n",
      "Parameter: para_init, Updated Value: tensor([ 0.0250,  0.0025,  0.1202,  0.0260, -0.0466,  0.1900], device='cuda:0')\n",
      "Loss:  5319408434.944079\n",
      "\n",
      "================================================================================================================\n",
      "loop_id:  1\n"
     ]
    },
    {
     "name": "stderr",
     "output_type": "stream",
     "text": [
      "Optimizing:   2%|▏         | 2/100 [00:02<01:56,  1.18s/it, loss=1.04e+9]"
     ]
    },
    {
     "name": "stdout",
     "output_type": "stream",
     "text": [
      "-----------------------------------------------------------------\n",
      "loss_contour:  tensor(15068955.2951, device='cuda:0', dtype=torch.float64)\n",
      "loss_tip_distance:  tensor(118.3332, device='cuda:0', dtype=torch.float64, grad_fn=<MeanBackward0>)\n",
      "motion_model_loss:  tensor(1.0210e+09, device='cuda:0')\n",
      "loss:  tensor(1.0361e+09, device='cuda:0', dtype=torch.float64,\n",
      "       grad_fn=<AddBackward0>)\n",
      "-----------------------------------------------------------------\n",
      "Gradients BEFORE BACKWARD PASS:\n",
      "para_init: No gradient computed\n",
      "Gradients AFTER BACKWARD PASS:\n",
      "Parameter: para_init, Gradient: 71810.203125\n",
      "Parameter: para_init, Updated Value: tensor([ 0.0250,  0.0025,  0.1202,  0.0222, -0.0528,  0.1885], device='cuda:0')\n",
      "Loss:  1036064657.628377\n",
      "\n",
      "================================================================================================================\n",
      "loop_id:  2\n"
     ]
    },
    {
     "name": "stderr",
     "output_type": "stream",
     "text": [
      "Optimizing:   3%|▎         | 3/100 [00:03<01:59,  1.23s/it, loss=9.85e+7]"
     ]
    },
    {
     "name": "stdout",
     "output_type": "stream",
     "text": [
      "-----------------------------------------------------------------\n",
      "loss_contour:  tensor(13288615.1027, device='cuda:0', dtype=torch.float64)\n",
      "loss_tip_distance:  tensor(1067.6151, device='cuda:0', dtype=torch.float64,\n",
      "       grad_fn=<MeanBackward0>)\n",
      "motion_model_loss:  tensor(85226184., device='cuda:0')\n",
      "loss:  tensor(98515866.7178, device='cuda:0', dtype=torch.float64,\n",
      "       grad_fn=<AddBackward0>)\n",
      "-----------------------------------------------------------------\n",
      "Gradients BEFORE BACKWARD PASS:\n",
      "para_init: No gradient computed\n",
      "Gradients AFTER BACKWARD PASS:\n",
      "Parameter: para_init, Gradient: 218050.171875\n",
      "Parameter: para_init, Updated Value: tensor([ 0.0250,  0.0025,  0.1202,  0.0235, -0.0519,  0.1941], device='cuda:0')\n",
      "Loss:  98515866.71781714\n",
      "\n",
      "================================================================================================================\n",
      "loop_id:  3\n"
     ]
    },
    {
     "name": "stderr",
     "output_type": "stream",
     "text": [
      "Optimizing:   4%|▍         | 4/100 [00:05<02:03,  1.29s/it, loss=1.02e+8]"
     ]
    },
    {
     "name": "stdout",
     "output_type": "stream",
     "text": [
      "-----------------------------------------------------------------\n",
      "loss_contour:  tensor(13222889.1355, device='cuda:0', dtype=torch.float64)\n",
      "loss_tip_distance:  tensor(676.0074, device='cuda:0', dtype=torch.float64, grad_fn=<MeanBackward0>)\n",
      "motion_model_loss:  tensor(89268560., device='cuda:0')\n",
      "loss:  tensor(1.0249e+08, device='cuda:0', dtype=torch.float64,\n",
      "       grad_fn=<AddBackward0>)\n",
      "-----------------------------------------------------------------\n",
      "Gradients BEFORE BACKWARD PASS:\n",
      "para_init: No gradient computed\n",
      "Gradients AFTER BACKWARD PASS:\n",
      "Parameter: para_init, Gradient: 167608.75\n",
      "Parameter: para_init, Updated Value: tensor([ 0.0250,  0.0025,  0.1202,  0.0271, -0.0490,  0.2006], device='cuda:0')\n",
      "Loss:  102492125.14296153\n",
      "\n",
      "================================================================================================================\n",
      "loop_id:  4\n"
     ]
    },
    {
     "name": "stderr",
     "output_type": "stream",
     "text": [
      "Optimizing:   5%|▌         | 5/100 [00:06<02:01,  1.28s/it, loss=1.02e+8]"
     ]
    },
    {
     "name": "stdout",
     "output_type": "stream",
     "text": [
      "-----------------------------------------------------------------\n",
      "loss_contour:  tensor(24285021.2621, device='cuda:0', dtype=torch.float64)\n",
      "loss_tip_distance:  tensor(143.5769, device='cuda:0', dtype=torch.float64, grad_fn=<MeanBackward0>)\n",
      "motion_model_loss:  tensor(77597840., device='cuda:0')\n",
      "loss:  tensor(1.0188e+08, device='cuda:0', dtype=torch.float64,\n",
      "       grad_fn=<AddBackward0>)\n",
      "-----------------------------------------------------------------\n",
      "Gradients BEFORE BACKWARD PASS:\n",
      "para_init: No gradient computed\n",
      "Gradients AFTER BACKWARD PASS:\n",
      "Parameter: para_init, Gradient: 75043.6640625\n",
      "Parameter: para_init, Updated Value: tensor([ 0.0250,  0.0025,  0.1202,  0.0314, -0.0463,  0.2044], device='cuda:0')\n",
      "Loss:  101883004.83901742\n",
      "\n",
      "================================================================================================================\n",
      "loop_id:  5\n"
     ]
    },
    {
     "name": "stderr",
     "output_type": "stream",
     "text": [
      "Optimizing:   6%|▌         | 6/100 [00:08<02:17,  1.46s/it, loss=2.21e+8]"
     ]
    },
    {
     "name": "stdout",
     "output_type": "stream",
     "text": [
      "-----------------------------------------------------------------\n",
      "loss_contour:  tensor(92092751.1009, device='cuda:0', dtype=torch.float64)\n",
      "loss_tip_distance:  tensor(96.0063, device='cuda:0', dtype=torch.float64, grad_fn=<MeanBackward0>)\n",
      "motion_model_loss:  tensor(1.2898e+08, device='cuda:0')\n",
      "loss:  tensor(2.2107e+08, device='cuda:0', dtype=torch.float64,\n",
      "       grad_fn=<AddBackward0>)\n",
      "-----------------------------------------------------------------\n",
      "Gradients BEFORE BACKWARD PASS:\n",
      "para_init: No gradient computed\n",
      "Gradients AFTER BACKWARD PASS:\n",
      "Parameter: para_init, Gradient: 61450.41796875\n",
      "Parameter: para_init, Updated Value: tensor([ 0.0250,  0.0025,  0.1202,  0.0351, -0.0453,  0.2052], device='cuda:0')\n",
      "Loss:  221073719.10724223\n",
      "\n",
      "================================================================================================================\n",
      "loop_id:  6\n"
     ]
    },
    {
     "name": "stderr",
     "output_type": "stream",
     "text": [
      "Optimizing:   7%|▋         | 7/100 [00:09<02:07,  1.37s/it, loss=1.33e+8]"
     ]
    },
    {
     "name": "stdout",
     "output_type": "stream",
     "text": [
      "-----------------------------------------------------------------\n",
      "loss_contour:  tensor(31331724.2571, device='cuda:0', dtype=torch.float64)\n",
      "loss_tip_distance:  tensor(293.5876, device='cuda:0', dtype=torch.float64, grad_fn=<MeanBackward0>)\n",
      "motion_model_loss:  tensor(1.0174e+08, device='cuda:0')\n",
      "loss:  tensor(1.3307e+08, device='cuda:0', dtype=torch.float64,\n",
      "       grad_fn=<AddBackward0>)\n",
      "-----------------------------------------------------------------\n",
      "Gradients BEFORE BACKWARD PASS:\n",
      "para_init: No gradient computed\n",
      "Gradients AFTER BACKWARD PASS:\n",
      "Parameter: para_init, Gradient: 104491.9296875\n",
      "Parameter: para_init, Updated Value: tensor([ 0.0250,  0.0025,  0.1202,  0.0372, -0.0460,  0.2049], device='cuda:0')\n",
      "Loss:  133071193.84465742\n",
      "\n",
      "================================================================================================================\n",
      "loop_id:  7\n"
     ]
    },
    {
     "name": "stderr",
     "output_type": "stream",
     "text": [
      "Optimizing:   8%|▊         | 8/100 [00:10<02:02,  1.33s/it, loss=1.04e+8]"
     ]
    },
    {
     "name": "stdout",
     "output_type": "stream",
     "text": [
      "-----------------------------------------------------------------\n",
      "loss_contour:  tensor(22773808.2598, device='cuda:0', dtype=torch.float64)\n",
      "loss_tip_distance:  tensor(422.6708, device='cuda:0', dtype=torch.float64, grad_fn=<MeanBackward0>)\n",
      "motion_model_loss:  tensor(80952744., device='cuda:0')\n",
      "loss:  tensor(1.0373e+08, device='cuda:0', dtype=torch.float64,\n",
      "       grad_fn=<AddBackward0>)\n",
      "-----------------------------------------------------------------\n",
      "Gradients BEFORE BACKWARD PASS:\n",
      "para_init: No gradient computed\n",
      "Gradients AFTER BACKWARD PASS:\n",
      "Parameter: para_init, Gradient: 125365.4453125\n",
      "Parameter: para_init, Updated Value: tensor([ 0.0250,  0.0025,  0.1202,  0.0374, -0.0478,  0.2052], device='cuda:0')\n",
      "Loss:  103726974.93064415\n",
      "\n",
      "================================================================================================================\n",
      "loop_id:  8\n"
     ]
    },
    {
     "name": "stderr",
     "output_type": "stream",
     "text": [
      "Optimizing:   9%|▉         | 9/100 [00:11<01:57,  1.29s/it, loss=7.01e+7]"
     ]
    },
    {
     "name": "stdout",
     "output_type": "stream",
     "text": [
      "-----------------------------------------------------------------\n",
      "loss_contour:  tensor(15633298.0424, device='cuda:0', dtype=torch.float64)\n",
      "loss_tip_distance:  tensor(345.4670, device='cuda:0', dtype=torch.float64, grad_fn=<MeanBackward0>)\n",
      "motion_model_loss:  tensor(54440468., device='cuda:0')\n",
      "loss:  tensor(70074111.5094, device='cuda:0', dtype=torch.float64,\n",
      "       grad_fn=<AddBackward0>)\n",
      "-----------------------------------------------------------------\n",
      "Gradients BEFORE BACKWARD PASS:\n",
      "para_init: No gradient computed\n",
      "Gradients AFTER BACKWARD PASS:\n",
      "Parameter: para_init, Gradient: 113693.6484375\n",
      "Parameter: para_init, Updated Value: tensor([ 0.0250,  0.0025,  0.1202,  0.0360, -0.0500,  0.2069], device='cuda:0')\n",
      "Loss:  70074111.50941291\n",
      "\n",
      "================================================================================================================\n",
      "loop_id:  9\n"
     ]
    },
    {
     "name": "stderr",
     "output_type": "stream",
     "text": [
      "Optimizing:  10%|█         | 10/100 [00:12<01:53,  1.26s/it, loss=8.77e+7]"
     ]
    },
    {
     "name": "stdout",
     "output_type": "stream",
     "text": [
      "-----------------------------------------------------------------\n",
      "loss_contour:  tensor(14323206.0466, device='cuda:0', dtype=torch.float64)\n",
      "loss_tip_distance:  tensor(155.4384, device='cuda:0', dtype=torch.float64, grad_fn=<MeanBackward0>)\n",
      "motion_model_loss:  tensor(73392064., device='cuda:0')\n",
      "loss:  tensor(87715425.4850, device='cuda:0', dtype=torch.float64,\n",
      "       grad_fn=<AddBackward0>)\n",
      "-----------------------------------------------------------------\n",
      "Gradients BEFORE BACKWARD PASS:\n",
      "para_init: No gradient computed\n",
      "Gradients AFTER BACKWARD PASS:\n",
      "Parameter: para_init, Gradient: 76262.125\n",
      "Parameter: para_init, Updated Value: tensor([ 0.0250,  0.0025,  0.1202,  0.0337, -0.0520,  0.2100], device='cuda:0')\n",
      "Loss:  87715425.48502925\n",
      "\n",
      "================================================================================================================\n",
      "loop_id:  10\n"
     ]
    },
    {
     "name": "stderr",
     "output_type": "stream",
     "text": [
      "Optimizing:  11%|█         | 11/100 [00:14<01:52,  1.26s/it, loss=2.52e+8]"
     ]
    },
    {
     "name": "stdout",
     "output_type": "stream",
     "text": [
      "-----------------------------------------------------------------\n",
      "loss_contour:  tensor(41624905.1971, device='cuda:0', dtype=torch.float64)\n",
      "loss_tip_distance:  tensor(28.3526, device='cuda:0', dtype=torch.float64, grad_fn=<MeanBackward0>)\n",
      "motion_model_loss:  tensor(2.1039e+08, device='cuda:0')\n",
      "loss:  tensor(2.5202e+08, device='cuda:0', dtype=torch.float64,\n",
      "       grad_fn=<AddBackward0>)\n",
      "-----------------------------------------------------------------\n",
      "Gradients BEFORE BACKWARD PASS:\n",
      "para_init: No gradient computed\n",
      "Gradients AFTER BACKWARD PASS:\n",
      "Parameter: para_init, Gradient: 32887.44921875\n",
      "Parameter: para_init, Updated Value: tensor([ 0.0250,  0.0025,  0.1202,  0.0314, -0.0535,  0.2137], device='cuda:0')\n",
      "Loss:  252018853.5497724\n",
      "\n",
      "================================================================================================================\n",
      "loop_id:  11\n"
     ]
    },
    {
     "name": "stderr",
     "output_type": "stream",
     "text": [
      "Optimizing:  12%|█▏        | 12/100 [00:15<01:47,  1.23s/it, loss=2.62e+8]"
     ]
    },
    {
     "name": "stdout",
     "output_type": "stream",
     "text": [
      "-----------------------------------------------------------------\n",
      "loss_contour:  tensor(1.1356e+08, device='cuda:0', dtype=torch.float64)\n",
      "loss_tip_distance:  tensor(43.8989, device='cuda:0', dtype=torch.float64, grad_fn=<MeanBackward0>)\n",
      "motion_model_loss:  tensor(1.4809e+08, device='cuda:0')\n",
      "loss:  tensor(2.6165e+08, device='cuda:0', dtype=torch.float64,\n",
      "       grad_fn=<AddBackward0>)\n",
      "-----------------------------------------------------------------\n",
      "Gradients BEFORE BACKWARD PASS:\n",
      "para_init: No gradient computed\n",
      "Gradients AFTER BACKWARD PASS:\n",
      "Parameter: para_init, Gradient: 38847.65234375\n",
      "Parameter: para_init, Updated Value: tensor([ 0.0250,  0.0025,  0.1202,  0.0296, -0.0543,  0.2175], device='cuda:0')\n",
      "Loss:  261653347.08621556\n",
      "\n",
      "================================================================================================================\n",
      "loop_id:  12\n"
     ]
    },
    {
     "name": "stderr",
     "output_type": "stream",
     "text": [
      "Optimizing:  13%|█▎        | 13/100 [00:16<01:46,  1.23s/it, loss=6.37e+10]"
     ]
    },
    {
     "name": "stdout",
     "output_type": "stream",
     "text": [
      "-----------------------------------------------------------------\n",
      "loss_contour:  tensor(14298326.2681, device='cuda:0', dtype=torch.float64)\n",
      "loss_tip_distance:  tensor(144.1976, device='cuda:0', dtype=torch.float64, grad_fn=<MeanBackward0>)\n",
      "motion_model_loss:  tensor(6.3661e+10, device='cuda:0')\n",
      "loss:  tensor(6.3676e+10, device='cuda:0', dtype=torch.float64,\n",
      "       grad_fn=<AddBackward0>)\n",
      "-----------------------------------------------------------------\n",
      "Gradients BEFORE BACKWARD PASS:\n",
      "para_init: No gradient computed\n",
      "Gradients AFTER BACKWARD PASS:\n",
      "Parameter: para_init, Gradient: 68984.78125\n",
      "Parameter: para_init, Updated Value: tensor([ 0.0250,  0.0025,  0.1202,  0.0289, -0.0546,  0.2206], device='cuda:0')\n",
      "Loss:  63675641190.46573\n",
      "\n",
      "================================================================================================================\n",
      "loop_id:  13\n"
     ]
    },
    {
     "name": "stderr",
     "output_type": "stream",
     "text": [
      "Optimizing:  14%|█▍        | 14/100 [00:17<01:45,  1.23s/it, loss=9.7e+7]  "
     ]
    },
    {
     "name": "stdout",
     "output_type": "stream",
     "text": [
      "-----------------------------------------------------------------\n",
      "loss_contour:  tensor(22862401.5960, device='cuda:0', dtype=torch.float64)\n",
      "loss_tip_distance:  tensor(214.2275, device='cuda:0', dtype=torch.float64, grad_fn=<MeanBackward0>)\n",
      "motion_model_loss:  tensor(74162640., device='cuda:0')\n",
      "loss:  tensor(97025255.8235, device='cuda:0', dtype=torch.float64,\n",
      "       grad_fn=<AddBackward0>)\n",
      "-----------------------------------------------------------------\n",
      "Gradients BEFORE BACKWARD PASS:\n",
      "para_init: No gradient computed\n",
      "Gradients AFTER BACKWARD PASS:\n",
      "Parameter: para_init, Gradient: 83086.328125\n",
      "Parameter: para_init, Updated Value: tensor([ 0.0250,  0.0025,  0.1202,  0.0294, -0.0545,  0.2226], device='cuda:0')\n",
      "Loss:  97025255.82351544\n",
      "\n",
      "================================================================================================================\n",
      "loop_id:  14\n"
     ]
    },
    {
     "name": "stderr",
     "output_type": "stream",
     "text": [
      "Optimizing:  15%|█▌        | 15/100 [00:19<01:44,  1.23s/it, loss=8.9e+7]"
     ]
    },
    {
     "name": "stdout",
     "output_type": "stream",
     "text": [
      "-----------------------------------------------------------------\n",
      "loss_contour:  tensor(30141049.1896, device='cuda:0', dtype=torch.float64)\n",
      "loss_tip_distance:  tensor(191.8498, device='cuda:0', dtype=torch.float64, grad_fn=<MeanBackward0>)\n",
      "motion_model_loss:  tensor(58896840., device='cuda:0')\n",
      "loss:  tensor(89038081.0394, device='cuda:0', dtype=torch.float64,\n",
      "       grad_fn=<AddBackward0>)\n",
      "-----------------------------------------------------------------\n",
      "Gradients BEFORE BACKWARD PASS:\n",
      "para_init: No gradient computed\n",
      "Gradients AFTER BACKWARD PASS:\n",
      "Parameter: para_init, Gradient: 78099.0390625\n",
      "Parameter: para_init, Updated Value: tensor([ 0.0250,  0.0025,  0.1202,  0.0308, -0.0543,  0.2235], device='cuda:0')\n",
      "Loss:  89038081.03935775\n",
      "\n",
      "================================================================================================================\n",
      "loop_id:  15\n"
     ]
    },
    {
     "name": "stderr",
     "output_type": "stream",
     "text": [
      "Optimizing:  16%|█▌        | 16/100 [00:20<01:48,  1.29s/it, loss=7.47e+7]"
     ]
    },
    {
     "name": "stdout",
     "output_type": "stream",
     "text": [
      "-----------------------------------------------------------------\n",
      "loss_contour:  tensor(16034328.6095, device='cuda:0', dtype=torch.float64)\n",
      "loss_tip_distance:  tensor(102.8651, device='cuda:0', dtype=torch.float64, grad_fn=<MeanBackward0>)\n",
      "motion_model_loss:  tensor(58662060., device='cuda:0')\n",
      "loss:  tensor(74696491.4746, device='cuda:0', dtype=torch.float64,\n",
      "       grad_fn=<AddBackward0>)\n",
      "-----------------------------------------------------------------\n",
      "Gradients BEFORE BACKWARD PASS:\n",
      "para_init: No gradient computed\n",
      "Gradients AFTER BACKWARD PASS:\n",
      "Parameter: para_init, Gradient: 57117.24609375\n",
      "Parameter: para_init, Updated Value: tensor([ 0.0250,  0.0025,  0.1202,  0.0328, -0.0541,  0.2234], device='cuda:0')\n",
      "Loss:  74696491.47461519\n",
      "\n",
      "================================================================================================================\n",
      "loop_id:  16\n"
     ]
    },
    {
     "name": "stderr",
     "output_type": "stream",
     "text": [
      "Optimizing:  17%|█▋        | 17/100 [00:21<01:44,  1.26s/it, loss=3.15e+8]"
     ]
    },
    {
     "name": "stdout",
     "output_type": "stream",
     "text": [
      "-----------------------------------------------------------------\n",
      "loss_contour:  tensor(1.4043e+08, device='cuda:0', dtype=torch.float64)\n",
      "loss_tip_distance:  tensor(20.4103, device='cuda:0', dtype=torch.float64, grad_fn=<MeanBackward0>)\n",
      "motion_model_loss:  tensor(1.7495e+08, device='cuda:0')\n",
      "loss:  tensor(3.1537e+08, device='cuda:0', dtype=torch.float64,\n",
      "       grad_fn=<AddBackward0>)\n",
      "-----------------------------------------------------------------\n",
      "Gradients BEFORE BACKWARD PASS:\n",
      "para_init: No gradient computed\n",
      "Gradients AFTER BACKWARD PASS:\n",
      "Parameter: para_init, Gradient: 25534.537109375\n",
      "Parameter: para_init, Updated Value: tensor([ 0.0250,  0.0025,  0.1202,  0.0349, -0.0539,  0.2229], device='cuda:0')\n",
      "Loss:  315372958.36306304\n",
      "\n",
      "================================================================================================================\n",
      "loop_id:  17\n"
     ]
    },
    {
     "name": "stderr",
     "output_type": "stream",
     "text": [
      "Optimizing:  18%|█▊        | 18/100 [00:22<01:40,  1.23s/it, loss=1.02e+8]"
     ]
    },
    {
     "name": "stdout",
     "output_type": "stream",
     "text": [
      "-----------------------------------------------------------------\n",
      "loss_contour:  tensor(24694558.8220, device='cuda:0', dtype=torch.float64)\n",
      "loss_tip_distance:  tensor(2.8890, device='cuda:0', dtype=torch.float64, grad_fn=<MeanBackward0>)\n",
      "motion_model_loss:  tensor(77334360., device='cuda:0')\n",
      "loss:  tensor(1.0203e+08, device='cuda:0', dtype=torch.float64,\n",
      "       grad_fn=<AddBackward0>)\n",
      "-----------------------------------------------------------------\n",
      "Gradients BEFORE BACKWARD PASS:\n",
      "para_init: No gradient computed\n",
      "Gradients AFTER BACKWARD PASS:\n",
      "Parameter: para_init, Gradient: 9592.791015625\n",
      "Parameter: para_init, Updated Value: tensor([ 0.0250,  0.0025,  0.1202,  0.0367, -0.0538,  0.2225], device='cuda:0')\n",
      "Loss:  102028921.71096535\n",
      "\n",
      "================================================================================================================\n",
      "loop_id:  18\n"
     ]
    },
    {
     "name": "stderr",
     "output_type": "stream",
     "text": [
      "Optimizing:  19%|█▉        | 19/100 [00:24<01:41,  1.25s/it, loss=3.21e+9]"
     ]
    },
    {
     "name": "stdout",
     "output_type": "stream",
     "text": [
      "-----------------------------------------------------------------\n",
      "loss_contour:  tensor(16932286.1565, device='cuda:0', dtype=torch.float64)\n",
      "loss_tip_distance:  tensor(48.1506, device='cuda:0', dtype=torch.float64, grad_fn=<MeanBackward0>)\n",
      "motion_model_loss:  tensor(3.1888e+09, device='cuda:0')\n",
      "loss:  tensor(3.2058e+09, device='cuda:0', dtype=torch.float64,\n",
      "       grad_fn=<AddBackward0>)\n",
      "-----------------------------------------------------------------\n",
      "Gradients BEFORE BACKWARD PASS:\n",
      "para_init: No gradient computed\n",
      "Gradients AFTER BACKWARD PASS:\n",
      "Parameter: para_init, Gradient: 39371.2421875\n",
      "Parameter: para_init, Updated Value: tensor([ 0.0250,  0.0025,  0.1202,  0.0379, -0.0537,  0.2229], device='cuda:0')\n",
      "Loss:  3205776622.307102\n",
      "\n",
      "================================================================================================================\n",
      "loop_id:  19\n"
     ]
    },
    {
     "name": "stderr",
     "output_type": "stream",
     "text": [
      "Optimizing:  20%|██        | 20/100 [00:25<01:39,  1.25s/it, loss=1.25e+8]"
     ]
    },
    {
     "name": "stdout",
     "output_type": "stream",
     "text": [
      "-----------------------------------------------------------------\n",
      "loss_contour:  tensor(13805449.3925, device='cuda:0', dtype=torch.float64)\n",
      "loss_tip_distance:  tensor(99.0414, device='cuda:0', dtype=torch.float64, grad_fn=<MeanBackward0>)\n",
      "motion_model_loss:  tensor(1.1155e+08, device='cuda:0')\n",
      "loss:  tensor(1.2536e+08, device='cuda:0', dtype=torch.float64,\n",
      "       grad_fn=<AddBackward0>)\n",
      "-----------------------------------------------------------------\n",
      "Gradients BEFORE BACKWARD PASS:\n",
      "para_init: No gradient computed\n",
      "Gradients AFTER BACKWARD PASS:\n",
      "Parameter: para_init, Gradient: 56334.78515625\n",
      "Parameter: para_init, Updated Value: tensor([ 0.0250,  0.0025,  0.1202,  0.0382, -0.0537,  0.2242], device='cuda:0')\n",
      "Loss:  125359108.43388605\n",
      "\n",
      "================================================================================================================\n",
      "loop_id:  20\n"
     ]
    },
    {
     "name": "stderr",
     "output_type": "stream",
     "text": [
      "Optimizing:  21%|██        | 21/100 [00:26<01:38,  1.25s/it, loss=1.03e+8]"
     ]
    },
    {
     "name": "stdout",
     "output_type": "stream",
     "text": [
      "-----------------------------------------------------------------\n",
      "loss_contour:  tensor(23315231.2358, device='cuda:0', dtype=torch.float64)\n",
      "loss_tip_distance:  tensor(104.7655, device='cuda:0', dtype=torch.float64, grad_fn=<MeanBackward0>)\n",
      "motion_model_loss:  tensor(79818816., device='cuda:0')\n",
      "loss:  tensor(1.0313e+08, device='cuda:0', dtype=torch.float64,\n",
      "       grad_fn=<AddBackward0>)\n",
      "-----------------------------------------------------------------\n",
      "Gradients BEFORE BACKWARD PASS:\n",
      "para_init: No gradient computed\n",
      "Gradients AFTER BACKWARD PASS:\n",
      "Parameter: para_init, Gradient: 57442.1640625\n",
      "Parameter: para_init, Updated Value: tensor([ 0.0250,  0.0025,  0.1202,  0.0377, -0.0539,  0.2262], device='cuda:0')\n",
      "Loss:  103134152.00124545\n",
      "\n",
      "================================================================================================================\n",
      "loop_id:  21\n"
     ]
    },
    {
     "name": "stderr",
     "output_type": "stream",
     "text": [
      "Optimizing:  22%|██▏       | 22/100 [00:27<01:36,  1.24s/it, loss=3.62e+8]"
     ]
    },
    {
     "name": "stdout",
     "output_type": "stream",
     "text": [
      "-----------------------------------------------------------------\n",
      "loss_contour:  tensor(1.6319e+08, device='cuda:0', dtype=torch.float64)\n",
      "loss_tip_distance:  tensor(67.4719, device='cuda:0', dtype=torch.float64, grad_fn=<MeanBackward0>)\n",
      "motion_model_loss:  tensor(1.9889e+08, device='cuda:0')\n",
      "loss:  tensor(3.6209e+08, device='cuda:0', dtype=torch.float64,\n",
      "       grad_fn=<AddBackward0>)\n",
      "-----------------------------------------------------------------\n",
      "Gradients BEFORE BACKWARD PASS:\n",
      "para_init: No gradient computed\n",
      "Gradients AFTER BACKWARD PASS:\n",
      "Parameter: para_init, Gradient: 45486.28515625\n",
      "Parameter: para_init, Updated Value: tensor([ 0.0250,  0.0025,  0.1202,  0.0367, -0.0543,  0.2285], device='cuda:0')\n",
      "Loss:  362087493.52483964\n",
      "\n",
      "================================================================================================================\n",
      "loop_id:  22\n"
     ]
    },
    {
     "name": "stderr",
     "output_type": "stream",
     "text": [
      "Optimizing:  23%|██▎       | 23/100 [00:29<01:36,  1.25s/it, loss=5.79e+8]"
     ]
    },
    {
     "name": "stdout",
     "output_type": "stream",
     "text": [
      "-----------------------------------------------------------------\n",
      "loss_contour:  tensor(2.6964e+08, device='cuda:0', dtype=torch.float64)\n",
      "loss_tip_distance:  tensor(24.3504, device='cuda:0', dtype=torch.float64, grad_fn=<MeanBackward0>)\n",
      "motion_model_loss:  tensor(3.0944e+08, device='cuda:0')\n",
      "loss:  tensor(5.7908e+08, device='cuda:0', dtype=torch.float64,\n",
      "       grad_fn=<AddBackward0>)\n",
      "-----------------------------------------------------------------\n",
      "Gradients BEFORE BACKWARD PASS:\n",
      "para_init: No gradient computed\n",
      "Gradients AFTER BACKWARD PASS:\n",
      "Parameter: para_init, Gradient: 26966.474609375\n",
      "Parameter: para_init, Updated Value: tensor([ 0.0250,  0.0025,  0.1202,  0.0354, -0.0550,  0.2306], device='cuda:0')\n",
      "Loss:  579084511.5116818\n",
      "\n",
      "================================================================================================================\n",
      "loop_id:  23\n"
     ]
    },
    {
     "name": "stderr",
     "output_type": "stream",
     "text": [
      "Optimizing:  24%|██▍       | 24/100 [00:30<01:35,  1.25s/it, loss=8.97e+7]"
     ]
    },
    {
     "name": "stdout",
     "output_type": "stream",
     "text": [
      "-----------------------------------------------------------------\n",
      "loss_contour:  tensor(24372619.9807, device='cuda:0', dtype=torch.float64)\n",
      "loss_tip_distance:  tensor(5.4851, device='cuda:0', dtype=torch.float64, grad_fn=<MeanBackward0>)\n",
      "motion_model_loss:  tensor(65374880., device='cuda:0')\n",
      "loss:  tensor(89747505.4658, device='cuda:0', dtype=torch.float64,\n",
      "       grad_fn=<AddBackward0>)\n",
      "-----------------------------------------------------------------\n",
      "Gradients BEFORE BACKWARD PASS:\n",
      "para_init: No gradient computed\n",
      "Gradients AFTER BACKWARD PASS:\n",
      "Parameter: para_init, Gradient: 13073.1689453125\n",
      "Parameter: para_init, Updated Value: tensor([ 0.0250,  0.0025,  0.1202,  0.0344, -0.0559,  0.2320], device='cuda:0')\n",
      "Loss:  89747505.46580476\n",
      "\n",
      "================================================================================================================\n",
      "loop_id:  24\n"
     ]
    },
    {
     "name": "stderr",
     "output_type": "stream",
     "text": [
      "Optimizing:  25%|██▌       | 25/100 [00:31<01:32,  1.24s/it, loss=9.36e+7]"
     ]
    },
    {
     "name": "stdout",
     "output_type": "stream",
     "text": [
      "-----------------------------------------------------------------\n",
      "loss_contour:  tensor(18982045.0051, device='cuda:0', dtype=torch.float64)\n",
      "loss_tip_distance:  tensor(14.6380, device='cuda:0', dtype=torch.float64, grad_fn=<MeanBackward0>)\n",
      "motion_model_loss:  tensor(74657760., device='cuda:0')\n",
      "loss:  tensor(93639819.6431, device='cuda:0', dtype=torch.float64,\n",
      "       grad_fn=<AddBackward0>)\n",
      "-----------------------------------------------------------------\n",
      "Gradients BEFORE BACKWARD PASS:\n",
      "para_init: No gradient computed\n",
      "Gradients AFTER BACKWARD PASS:\n",
      "Parameter: para_init, Gradient: 21010.13671875\n",
      "Parameter: para_init, Updated Value: tensor([ 0.0250,  0.0025,  0.1202,  0.0336, -0.0568,  0.2328], device='cuda:0')\n",
      "Loss:  93639819.64313558\n",
      "\n",
      "================================================================================================================\n",
      "loop_id:  25\n"
     ]
    },
    {
     "name": "stderr",
     "output_type": "stream",
     "text": [
      "Optimizing:  26%|██▌       | 26/100 [00:32<01:31,  1.24s/it, loss=1.76e+8]"
     ]
    },
    {
     "name": "stdout",
     "output_type": "stream",
     "text": [
      "-----------------------------------------------------------------\n",
      "loss_contour:  tensor(72443837.8114, device='cuda:0', dtype=torch.float64)\n",
      "loss_tip_distance:  tensor(36.2825, device='cuda:0', dtype=torch.float64, grad_fn=<MeanBackward0>)\n",
      "motion_model_loss:  tensor(1.0404e+08, device='cuda:0')\n",
      "loss:  tensor(1.7648e+08, device='cuda:0', dtype=torch.float64,\n",
      "       grad_fn=<AddBackward0>)\n",
      "-----------------------------------------------------------------\n",
      "Gradients BEFORE BACKWARD PASS:\n",
      "para_init: No gradient computed\n",
      "Gradients AFTER BACKWARD PASS:\n",
      "Parameter: para_init, Gradient: 32486.205078125\n",
      "Parameter: para_init, Updated Value: tensor([ 0.0250,  0.0025,  0.1202,  0.0334, -0.0575,  0.2331], device='cuda:0')\n",
      "Loss:  176483514.09389046\n",
      "\n",
      "================================================================================================================\n",
      "loop_id:  26\n"
     ]
    },
    {
     "name": "stderr",
     "output_type": "stream",
     "text": [
      "Optimizing:  27%|██▋       | 27/100 [00:34<01:33,  1.28s/it, loss=1.05e+8]"
     ]
    },
    {
     "name": "stdout",
     "output_type": "stream",
     "text": [
      "-----------------------------------------------------------------\n",
      "loss_contour:  tensor(14009694.5921, device='cuda:0', dtype=torch.float64)\n",
      "loss_tip_distance:  tensor(50.8837, device='cuda:0', dtype=torch.float64, grad_fn=<MeanBackward0>)\n",
      "motion_model_loss:  tensor(90506376., device='cuda:0')\n",
      "loss:  tensor(1.0452e+08, device='cuda:0', dtype=torch.float64,\n",
      "       grad_fn=<AddBackward0>)\n",
      "-----------------------------------------------------------------\n",
      "Gradients BEFORE BACKWARD PASS:\n",
      "para_init: No gradient computed\n",
      "Gradients AFTER BACKWARD PASS:\n",
      "Parameter: para_init, Gradient: 38241.2578125\n",
      "Parameter: para_init, Updated Value: tensor([ 0.0250,  0.0025,  0.1202,  0.0337, -0.0579,  0.2332], device='cuda:0')\n",
      "Loss:  104516121.47578573\n",
      "\n",
      "================================================================================================================\n",
      "loop_id:  27\n"
     ]
    },
    {
     "name": "stderr",
     "output_type": "stream",
     "text": [
      "Optimizing:  28%|██▊       | 28/100 [00:35<01:30,  1.26s/it, loss=1.11e+8]"
     ]
    },
    {
     "name": "stdout",
     "output_type": "stream",
     "text": [
      "-----------------------------------------------------------------\n",
      "loss_contour:  tensor(28294387.6372, device='cuda:0', dtype=torch.float64)\n",
      "loss_tip_distance:  tensor(47.0046, device='cuda:0', dtype=torch.float64, grad_fn=<MeanBackward0>)\n",
      "motion_model_loss:  tensor(82947576., device='cuda:0')\n",
      "loss:  tensor(1.1124e+08, device='cuda:0', dtype=torch.float64,\n",
      "       grad_fn=<AddBackward0>)\n",
      "-----------------------------------------------------------------\n",
      "Gradients BEFORE BACKWARD PASS:\n",
      "para_init: No gradient computed\n",
      "Gradients AFTER BACKWARD PASS:\n",
      "Parameter: para_init, Gradient: 36709.19140625\n",
      "Parameter: para_init, Updated Value: tensor([ 0.0250,  0.0025,  0.1202,  0.0345, -0.0578,  0.2333], device='cuda:0')\n",
      "Loss:  111242010.64185137\n",
      "\n",
      "================================================================================================================\n",
      "loop_id:  28\n"
     ]
    },
    {
     "name": "stderr",
     "output_type": "stream",
     "text": [
      "Optimizing:  29%|██▉       | 29/100 [00:36<01:34,  1.33s/it, loss=2.18e+9]"
     ]
    },
    {
     "name": "stdout",
     "output_type": "stream",
     "text": [
      "-----------------------------------------------------------------\n",
      "loss_contour:  tensor(15643363.2414, device='cuda:0', dtype=torch.float64)\n",
      "loss_tip_distance:  tensor(27.5113, device='cuda:0', dtype=torch.float64, grad_fn=<MeanBackward0>)\n",
      "motion_model_loss:  tensor(2.1652e+09, device='cuda:0')\n",
      "loss:  tensor(2.1808e+09, device='cuda:0', dtype=torch.float64,\n",
      "       grad_fn=<AddBackward0>)\n",
      "-----------------------------------------------------------------\n",
      "Gradients BEFORE BACKWARD PASS:\n",
      "para_init: No gradient computed\n",
      "Gradients AFTER BACKWARD PASS:\n",
      "Parameter: para_init, Gradient: 28107.470703125\n",
      "Parameter: para_init, Updated Value: tensor([ 0.0250,  0.0025,  0.1202,  0.0354, -0.0574,  0.2336], device='cuda:0')\n",
      "Loss:  2180803582.7526526\n",
      "\n",
      "================================================================================================================\n",
      "loop_id:  29\n"
     ]
    },
    {
     "name": "stderr",
     "output_type": "stream",
     "text": [
      "Optimizing:  30%|███       | 30/100 [00:38<01:30,  1.29s/it, loss=4.35e+8]"
     ]
    },
    {
     "name": "stdout",
     "output_type": "stream",
     "text": [
      "-----------------------------------------------------------------\n",
      "loss_contour:  tensor(13085414.4081, device='cuda:0', dtype=torch.float64)\n",
      "loss_tip_distance:  tensor(7.2117, device='cuda:0', dtype=torch.float64, grad_fn=<MeanBackward0>)\n",
      "motion_model_loss:  tensor(4.2165e+08, device='cuda:0')\n",
      "loss:  tensor(4.3474e+08, device='cuda:0', dtype=torch.float64,\n",
      "       grad_fn=<AddBackward0>)\n",
      "-----------------------------------------------------------------\n",
      "Gradients BEFORE BACKWARD PASS:\n",
      "para_init: No gradient computed\n",
      "Gradients AFTER BACKWARD PASS:\n",
      "Parameter: para_init, Gradient: 14453.4375\n",
      "Parameter: para_init, Updated Value: tensor([ 0.0250,  0.0025,  0.1202,  0.0364, -0.0569,  0.2341], device='cuda:0')\n",
      "Loss:  434736013.61974096\n",
      "\n",
      "================================================================================================================\n",
      "loop_id:  30\n"
     ]
    },
    {
     "name": "stderr",
     "output_type": "stream",
     "text": [
      "Optimizing:  31%|███       | 31/100 [00:39<01:26,  1.25s/it, loss=6.73e+7]"
     ]
    },
    {
     "name": "stdout",
     "output_type": "stream",
     "text": [
      "-----------------------------------------------------------------\n",
      "loss_contour:  tensor(14315196.4032, device='cuda:0', dtype=torch.float64)\n",
      "loss_tip_distance:  tensor(0.9680, device='cuda:0', dtype=torch.float64, grad_fn=<MeanBackward0>)\n",
      "motion_model_loss:  tensor(52957572., device='cuda:0')\n",
      "loss:  tensor(67272769.3712, device='cuda:0', dtype=torch.float64,\n",
      "       grad_fn=<AddBackward0>)\n",
      "-----------------------------------------------------------------\n",
      "Gradients BEFORE BACKWARD PASS:\n",
      "para_init: No gradient computed\n",
      "Gradients AFTER BACKWARD PASS:\n",
      "Parameter: para_init, Gradient: 5384.46923828125\n",
      "Parameter: para_init, Updated Value: tensor([ 0.0250,  0.0025,  0.1202,  0.0372, -0.0563,  0.2347], device='cuda:0')\n",
      "Loss:  67272769.37118934\n",
      "\n",
      "================================================================================================================\n",
      "loop_id:  31\n"
     ]
    },
    {
     "name": "stderr",
     "output_type": "stream",
     "text": [
      "Optimizing:  32%|███▏      | 32/100 [00:40<01:24,  1.24s/it, loss=1.3e+9] "
     ]
    },
    {
     "name": "stdout",
     "output_type": "stream",
     "text": [
      "-----------------------------------------------------------------\n",
      "loss_contour:  tensor(14274516.5239, device='cuda:0', dtype=torch.float64)\n",
      "loss_tip_distance:  tensor(10.7776, device='cuda:0', dtype=torch.float64, grad_fn=<MeanBackward0>)\n",
      "motion_model_loss:  tensor(1.2887e+09, device='cuda:0')\n",
      "loss:  tensor(1.3030e+09, device='cuda:0', dtype=torch.float64,\n",
      "       grad_fn=<AddBackward0>)\n",
      "-----------------------------------------------------------------\n",
      "Gradients BEFORE BACKWARD PASS:\n",
      "para_init: No gradient computed\n",
      "Gradients AFTER BACKWARD PASS:\n",
      "Parameter: para_init, Gradient: 17475.591796875\n",
      "Parameter: para_init, Updated Value: tensor([ 0.0250,  0.0025,  0.1202,  0.0378, -0.0559,  0.2353], device='cuda:0')\n",
      "Loss:  1302974047.301477\n",
      "\n",
      "================================================================================================================\n",
      "loop_id:  32\n"
     ]
    },
    {
     "name": "stderr",
     "output_type": "stream",
     "text": [
      "Optimizing:  33%|███▎      | 33/100 [00:41<01:21,  1.22s/it, loss=7.46e+7]"
     ]
    },
    {
     "name": "stdout",
     "output_type": "stream",
     "text": [
      "-----------------------------------------------------------------\n",
      "loss_contour:  tensor(20199313.9442, device='cuda:0', dtype=torch.float64)\n",
      "loss_tip_distance:  tensor(24.5514, device='cuda:0', dtype=torch.float64, grad_fn=<MeanBackward0>)\n",
      "motion_model_loss:  tensor(54366056., device='cuda:0')\n",
      "loss:  tensor(74565394.4956, device='cuda:0', dtype=torch.float64,\n",
      "       grad_fn=<AddBackward0>)\n",
      "-----------------------------------------------------------------\n",
      "Gradients BEFORE BACKWARD PASS:\n",
      "para_init: No gradient computed\n",
      "Gradients AFTER BACKWARD PASS:\n",
      "Parameter: para_init, Gradient: 26302.3046875\n",
      "Parameter: para_init, Updated Value: tensor([ 0.0250,  0.0025,  0.1202,  0.0379, -0.0559,  0.2358], device='cuda:0')\n",
      "Loss:  74565394.49556828\n",
      "\n",
      "================================================================================================================\n",
      "loop_id:  33\n"
     ]
    },
    {
     "name": "stderr",
     "output_type": "stream",
     "text": [
      "Optimizing:  34%|███▍      | 34/100 [00:42<01:19,  1.21s/it, loss=1.77e+8]"
     ]
    },
    {
     "name": "stdout",
     "output_type": "stream",
     "text": [
      "-----------------------------------------------------------------\n",
      "loss_contour:  tensor(64697571.4223, device='cuda:0', dtype=torch.float64)\n",
      "loss_tip_distance:  tensor(28.3051, device='cuda:0', dtype=torch.float64, grad_fn=<MeanBackward0>)\n",
      "motion_model_loss:  tensor(1.1214e+08, device='cuda:0')\n",
      "loss:  tensor(1.7684e+08, device='cuda:0', dtype=torch.float64,\n",
      "       grad_fn=<AddBackward0>)\n",
      "-----------------------------------------------------------------\n",
      "Gradients BEFORE BACKWARD PASS:\n",
      "para_init: No gradient computed\n",
      "Gradients AFTER BACKWARD PASS:\n",
      "Parameter: para_init, Gradient: 28182.572265625\n",
      "Parameter: para_init, Updated Value: tensor([ 0.0250,  0.0025,  0.1202,  0.0377, -0.0563,  0.2362], device='cuda:0')\n",
      "Loss:  176838639.7273698\n",
      "\n",
      "================================================================================================================\n",
      "loop_id:  34\n"
     ]
    },
    {
     "name": "stderr",
     "output_type": "stream",
     "text": [
      "Optimizing:  35%|███▌      | 35/100 [00:44<01:22,  1.27s/it, loss=1.03e+8]"
     ]
    },
    {
     "name": "stdout",
     "output_type": "stream",
     "text": [
      "-----------------------------------------------------------------\n",
      "loss_contour:  tensor(14244067.5644, device='cuda:0', dtype=torch.float64)\n",
      "loss_tip_distance:  tensor(19.1316, device='cuda:0', dtype=torch.float64, grad_fn=<MeanBackward0>)\n",
      "motion_model_loss:  tensor(89156472., device='cuda:0')\n",
      "loss:  tensor(1.0340e+08, device='cuda:0', dtype=torch.float64,\n",
      "       grad_fn=<AddBackward0>)\n",
      "-----------------------------------------------------------------\n",
      "Gradients BEFORE BACKWARD PASS:\n",
      "para_init: No gradient computed\n",
      "Gradients AFTER BACKWARD PASS:\n",
      "Parameter: para_init, Gradient: 23128.033203125\n",
      "Parameter: para_init, Updated Value: tensor([ 0.0250,  0.0025,  0.1202,  0.0373, -0.0569,  0.2365], device='cuda:0')\n",
      "Loss:  103400558.69603945\n",
      "\n",
      "================================================================================================================\n",
      "loop_id:  35\n"
     ]
    },
    {
     "name": "stderr",
     "output_type": "stream",
     "text": [
      "Optimizing:  36%|███▌      | 36/100 [00:45<01:20,  1.26s/it, loss=1.35e+8]"
     ]
    },
    {
     "name": "stdout",
     "output_type": "stream",
     "text": [
      "-----------------------------------------------------------------\n",
      "loss_contour:  tensor(12994189.6967, device='cuda:0', dtype=torch.float64)\n",
      "loss_tip_distance:  tensor(6.1921, device='cuda:0', dtype=torch.float64, grad_fn=<MeanBackward0>)\n",
      "motion_model_loss:  tensor(1.2224e+08, device='cuda:0')\n",
      "loss:  tensor(1.3524e+08, device='cuda:0', dtype=torch.float64,\n",
      "       grad_fn=<AddBackward0>)\n",
      "-----------------------------------------------------------------\n",
      "Gradients BEFORE BACKWARD PASS:\n",
      "para_init: No gradient computed\n",
      "Gradients AFTER BACKWARD PASS:\n",
      "Parameter: para_init, Gradient: 13142.4052734375\n",
      "Parameter: para_init, Updated Value: tensor([ 0.0250,  0.0025,  0.1202,  0.0367, -0.0576,  0.2369], device='cuda:0')\n",
      "Loss:  135239083.8887702\n",
      "\n",
      "================================================================================================================\n",
      "loop_id:  36\n"
     ]
    },
    {
     "name": "stderr",
     "output_type": "stream",
     "text": [
      "Optimizing:  37%|███▋      | 37/100 [00:46<01:20,  1.28s/it, loss=2.78e+8]"
     ]
    },
    {
     "name": "stdout",
     "output_type": "stream",
     "text": [
      "-----------------------------------------------------------------\n",
      "loss_contour:  tensor(1.1426e+08, device='cuda:0', dtype=torch.float64)\n",
      "loss_tip_distance:  tensor(0.3707, device='cuda:0', dtype=torch.float64, grad_fn=<MeanBackward0>)\n",
      "motion_model_loss:  tensor(1.6345e+08, device='cuda:0')\n",
      "loss:  tensor(2.7771e+08, device='cuda:0', dtype=torch.float64,\n",
      "       grad_fn=<AddBackward0>)\n",
      "-----------------------------------------------------------------\n",
      "Gradients BEFORE BACKWARD PASS:\n",
      "para_init: No gradient computed\n",
      "Gradients AFTER BACKWARD PASS:\n",
      "Parameter: para_init, Gradient: 3328.25048828125\n",
      "Parameter: para_init, Updated Value: tensor([ 0.0250,  0.0025,  0.1202,  0.0361, -0.0581,  0.2373], device='cuda:0')\n",
      "Loss:  277706793.08407414\n",
      "\n",
      "================================================================================================================\n",
      "loop_id:  37\n"
     ]
    },
    {
     "name": "stderr",
     "output_type": "stream",
     "text": [
      "Optimizing:  38%|███▊      | 38/100 [00:47<01:17,  1.25s/it, loss=1.43e+9]"
     ]
    },
    {
     "name": "stdout",
     "output_type": "stream",
     "text": [
      "-----------------------------------------------------------------\n",
      "loss_contour:  tensor(13285429.7998, device='cuda:0', dtype=torch.float64)\n",
      "loss_tip_distance:  tensor(4.1621, device='cuda:0', dtype=torch.float64, grad_fn=<MeanBackward0>)\n",
      "motion_model_loss:  tensor(1.4129e+09, device='cuda:0')\n",
      "loss:  tensor(1.4262e+09, device='cuda:0', dtype=torch.float64,\n",
      "       grad_fn=<AddBackward0>)\n",
      "-----------------------------------------------------------------\n",
      "Gradients BEFORE BACKWARD PASS:\n",
      "para_init: No gradient computed\n",
      "Gradients AFTER BACKWARD PASS:\n",
      "Parameter: para_init, Gradient: 10788.310546875\n",
      "Parameter: para_init, Updated Value: tensor([ 0.0250,  0.0025,  0.1202,  0.0357, -0.0585,  0.2379], device='cuda:0')\n",
      "Loss:  1426192185.9619784\n",
      "\n",
      "================================================================================================================\n",
      "loop_id:  38\n"
     ]
    },
    {
     "name": "stderr",
     "output_type": "stream",
     "text": [
      "Optimizing:  39%|███▉      | 39/100 [00:49<01:15,  1.24s/it, loss=1.3e+9] "
     ]
    },
    {
     "name": "stdout",
     "output_type": "stream",
     "text": [
      "-----------------------------------------------------------------\n",
      "loss_contour:  tensor(13813129.8495, device='cuda:0', dtype=torch.float64)\n",
      "loss_tip_distance:  tensor(11.3081, device='cuda:0', dtype=torch.float64, grad_fn=<MeanBackward0>)\n",
      "motion_model_loss:  tensor(1.2827e+09, device='cuda:0')\n",
      "loss:  tensor(1.2965e+09, device='cuda:0', dtype=torch.float64,\n",
      "       grad_fn=<AddBackward0>)\n",
      "-----------------------------------------------------------------\n",
      "Gradients BEFORE BACKWARD PASS:\n",
      "para_init: No gradient computed\n",
      "Gradients AFTER BACKWARD PASS:\n",
      "Parameter: para_init, Gradient: 17665.82421875\n",
      "Parameter: para_init, Updated Value: tensor([ 0.0250,  0.0025,  0.1202,  0.0355, -0.0585,  0.2385], device='cuda:0')\n",
      "Loss:  1296547733.157618\n",
      "\n",
      "================================================================================================================\n",
      "loop_id:  39\n"
     ]
    },
    {
     "name": "stderr",
     "output_type": "stream",
     "text": [
      "Optimizing:  40%|████      | 40/100 [00:50<01:15,  1.25s/it, loss=9.61e+7]"
     ]
    },
    {
     "name": "stdout",
     "output_type": "stream",
     "text": [
      "-----------------------------------------------------------------\n",
      "loss_contour:  tensor(19655123.9114, device='cuda:0', dtype=torch.float64)\n",
      "loss_tip_distance:  tensor(14.4177, device='cuda:0', dtype=torch.float64, grad_fn=<MeanBackward0>)\n",
      "motion_model_loss:  tensor(76487928., device='cuda:0')\n",
      "loss:  tensor(96143066.3292, device='cuda:0', dtype=torch.float64,\n",
      "       grad_fn=<AddBackward0>)\n",
      "-----------------------------------------------------------------\n",
      "Gradients BEFORE BACKWARD PASS:\n",
      "para_init: No gradient computed\n",
      "Gradients AFTER BACKWARD PASS:\n",
      "Parameter: para_init, Gradient: 19880.048828125\n",
      "Parameter: para_init, Updated Value: tensor([ 0.0250,  0.0025,  0.1202,  0.0356, -0.0584,  0.2391], device='cuda:0')\n",
      "Loss:  96143066.3291615\n",
      "\n",
      "================================================================================================================\n",
      "loop_id:  40\n"
     ]
    },
    {
     "name": "stderr",
     "output_type": "stream",
     "text": [
      "Optimizing:  41%|████      | 41/100 [00:51<01:11,  1.21s/it, loss=1.05e+8]"
     ]
    },
    {
     "name": "stdout",
     "output_type": "stream",
     "text": [
      "-----------------------------------------------------------------\n",
      "loss_contour:  tensor(13969629.1951, device='cuda:0', dtype=torch.float64)\n",
      "loss_tip_distance:  tensor(11.3859, device='cuda:0', dtype=torch.float64, grad_fn=<MeanBackward0>)\n",
      "motion_model_loss:  tensor(91355264., device='cuda:0')\n",
      "loss:  tensor(1.0532e+08, device='cuda:0', dtype=torch.float64,\n",
      "       grad_fn=<AddBackward0>)\n",
      "-----------------------------------------------------------------\n",
      "Gradients BEFORE BACKWARD PASS:\n",
      "para_init: No gradient computed\n",
      "Gradients AFTER BACKWARD PASS:\n",
      "Parameter: para_init, Gradient: 17657.591796875\n",
      "Parameter: para_init, Updated Value: tensor([ 0.0250,  0.0025,  0.1202,  0.0360, -0.0581,  0.2394], device='cuda:0')\n",
      "Loss:  105324904.58103698\n",
      "\n",
      "================================================================================================================\n",
      "loop_id:  41\n"
     ]
    },
    {
     "name": "stderr",
     "output_type": "stream",
     "text": [
      "Optimizing:  42%|████▏     | 42/100 [00:52<01:09,  1.19s/it, loss=8.56e+7]"
     ]
    },
    {
     "name": "stdout",
     "output_type": "stream",
     "text": [
      "-----------------------------------------------------------------\n",
      "loss_contour:  tensor(14770868.7291, device='cuda:0', dtype=torch.float64)\n",
      "loss_tip_distance:  tensor(5.4286, device='cuda:0', dtype=torch.float64, grad_fn=<MeanBackward0>)\n",
      "motion_model_loss:  tensor(70829488., device='cuda:0')\n",
      "loss:  tensor(85600362.1576, device='cuda:0', dtype=torch.float64,\n",
      "       grad_fn=<AddBackward0>)\n",
      "-----------------------------------------------------------------\n",
      "Gradients BEFORE BACKWARD PASS:\n",
      "para_init: No gradient computed\n",
      "Gradients AFTER BACKWARD PASS:\n",
      "Parameter: para_init, Gradient: 12260.0712890625\n",
      "Parameter: para_init, Updated Value: tensor([ 0.0250,  0.0025,  0.1202,  0.0365, -0.0578,  0.2395], device='cuda:0')\n",
      "Loss:  85600362.1576463\n",
      "\n",
      "================================================================================================================\n",
      "loop_id:  42\n"
     ]
    },
    {
     "name": "stderr",
     "output_type": "stream",
     "text": [
      "Optimizing:  43%|████▎     | 43/100 [00:54<01:10,  1.24s/it, loss=1.47e+8]"
     ]
    },
    {
     "name": "stdout",
     "output_type": "stream",
     "text": [
      "-----------------------------------------------------------------\n",
      "loss_contour:  tensor(13135590.8018, device='cuda:0', dtype=torch.float64)\n",
      "loss_tip_distance:  tensor(1.2196, device='cuda:0', dtype=torch.float64, grad_fn=<MeanBackward0>)\n",
      "motion_model_loss:  tensor(1.3376e+08, device='cuda:0')\n",
      "loss:  tensor(1.4689e+08, device='cuda:0', dtype=torch.float64,\n",
      "       grad_fn=<AddBackward0>)\n",
      "-----------------------------------------------------------------\n",
      "Gradients BEFORE BACKWARD PASS:\n",
      "para_init: No gradient computed\n",
      "Gradients AFTER BACKWARD PASS:\n",
      "Parameter: para_init, Gradient: 5948.8232421875\n",
      "Parameter: para_init, Updated Value: tensor([ 0.0250,  0.0025,  0.1202,  0.0371, -0.0576,  0.2393], device='cuda:0')\n",
      "Loss:  146891552.0214074\n",
      "\n",
      "================================================================================================================\n",
      "loop_id:  43\n"
     ]
    },
    {
     "name": "stderr",
     "output_type": "stream",
     "text": [
      "Optimizing:  44%|████▍     | 44/100 [00:55<01:08,  1.23s/it, loss=7.09e+8]"
     ]
    },
    {
     "name": "stdout",
     "output_type": "stream",
     "text": [
      "-----------------------------------------------------------------\n",
      "loss_contour:  tensor(3.3630e+08, device='cuda:0', dtype=torch.float64)\n",
      "loss_tip_distance:  tensor(1.3346, device='cuda:0', dtype=torch.float64, grad_fn=<MeanBackward0>)\n",
      "motion_model_loss:  tensor(3.7224e+08, device='cuda:0')\n",
      "loss:  tensor(7.0853e+08, device='cuda:0', dtype=torch.float64,\n",
      "       grad_fn=<AddBackward0>)\n",
      "-----------------------------------------------------------------\n",
      "Gradients BEFORE BACKWARD PASS:\n",
      "para_init: No gradient computed\n",
      "Gradients AFTER BACKWARD PASS:\n",
      "Parameter: para_init, Gradient: 6067.94140625\n",
      "Parameter: para_init, Updated Value: tensor([ 0.0250,  0.0025,  0.1202,  0.0376, -0.0576,  0.2390], device='cuda:0')\n",
      "Loss:  708533669.1185373\n",
      "\n",
      "================================================================================================================\n",
      "loop_id:  44\n"
     ]
    },
    {
     "name": "stderr",
     "output_type": "stream",
     "text": [
      "Optimizing:  45%|████▌     | 45/100 [00:56<01:13,  1.34s/it, loss=4.65e+8]"
     ]
    },
    {
     "name": "stdout",
     "output_type": "stream",
     "text": [
      "-----------------------------------------------------------------\n",
      "loss_contour:  tensor(2.1497e+08, device='cuda:0', dtype=torch.float64)\n",
      "loss_tip_distance:  tensor(4.7178, device='cuda:0', dtype=torch.float64, grad_fn=<MeanBackward0>)\n",
      "motion_model_loss:  tensor(2.5025e+08, device='cuda:0')\n",
      "loss:  tensor(4.6522e+08, device='cuda:0', dtype=torch.float64,\n",
      "       grad_fn=<AddBackward0>)\n",
      "-----------------------------------------------------------------\n",
      "Gradients BEFORE BACKWARD PASS:\n",
      "para_init: No gradient computed\n",
      "Gradients AFTER BACKWARD PASS:\n",
      "Parameter: para_init, Gradient: 11355.4931640625\n",
      "Parameter: para_init, Updated Value: tensor([ 0.0250,  0.0025,  0.1202,  0.0378, -0.0577,  0.2389], device='cuda:0')\n",
      "Loss:  465219253.31781054\n",
      "\n",
      "================================================================================================================\n",
      "loop_id:  45\n"
     ]
    },
    {
     "name": "stderr",
     "output_type": "stream",
     "text": [
      "Optimizing:  46%|████▌     | 46/100 [00:58<01:09,  1.29s/it, loss=8.95e+7]"
     ]
    },
    {
     "name": "stdout",
     "output_type": "stream",
     "text": [
      "-----------------------------------------------------------------\n",
      "loss_contour:  tensor(23958960.3860, device='cuda:0', dtype=torch.float64)\n",
      "loss_tip_distance:  tensor(7.6418, device='cuda:0', dtype=torch.float64, grad_fn=<MeanBackward0>)\n",
      "motion_model_loss:  tensor(65539372., device='cuda:0')\n",
      "loss:  tensor(89498340.0277, device='cuda:0', dtype=torch.float64,\n",
      "       grad_fn=<AddBackward0>)\n",
      "-----------------------------------------------------------------\n",
      "Gradients BEFORE BACKWARD PASS:\n",
      "para_init: No gradient computed\n",
      "Gradients AFTER BACKWARD PASS:\n",
      "Parameter: para_init, Gradient: 14520.5380859375\n",
      "Parameter: para_init, Updated Value: tensor([ 0.0250,  0.0025,  0.1202,  0.0378, -0.0578,  0.2390], device='cuda:0')\n",
      "Loss:  89498340.02772766\n",
      "\n",
      "================================================================================================================\n",
      "loop_id:  46\n"
     ]
    },
    {
     "name": "stderr",
     "output_type": "stream",
     "text": [
      "Optimizing:  47%|████▋     | 47/100 [00:59<01:06,  1.25s/it, loss=1.03e+8]"
     ]
    },
    {
     "name": "stdout",
     "output_type": "stream",
     "text": [
      "-----------------------------------------------------------------\n",
      "loss_contour:  tensor(14808092.2521, device='cuda:0', dtype=torch.float64)\n",
      "loss_tip_distance:  tensor(7.0010, device='cuda:0', dtype=torch.float64, grad_fn=<MeanBackward0>)\n",
      "motion_model_loss:  tensor(87744936., device='cuda:0')\n",
      "loss:  tensor(1.0255e+08, device='cuda:0', dtype=torch.float64,\n",
      "       grad_fn=<AddBackward0>)\n",
      "-----------------------------------------------------------------\n",
      "Gradients BEFORE BACKWARD PASS:\n",
      "para_init: No gradient computed\n",
      "Gradients AFTER BACKWARD PASS:\n",
      "Parameter: para_init, Gradient: 13941.5751953125\n",
      "Parameter: para_init, Updated Value: tensor([ 0.0250,  0.0025,  0.1202,  0.0376, -0.0580,  0.2393], device='cuda:0')\n",
      "Loss:  102553035.2531795\n",
      "\n",
      "================================================================================================================\n",
      "loop_id:  47\n"
     ]
    },
    {
     "name": "stderr",
     "output_type": "stream",
     "text": [
      "Optimizing:  48%|████▊     | 48/100 [01:00<01:05,  1.26s/it, loss=8.66e+7]"
     ]
    },
    {
     "name": "stdout",
     "output_type": "stream",
     "text": [
      "-----------------------------------------------------------------\n",
      "loss_contour:  tensor(20782163.4503, device='cuda:0', dtype=torch.float64)\n",
      "loss_tip_distance:  tensor(3.3804, device='cuda:0', dtype=torch.float64, grad_fn=<MeanBackward0>)\n",
      "motion_model_loss:  tensor(65782512., device='cuda:0')\n",
      "loss:  tensor(86564678.8307, device='cuda:0', dtype=torch.float64,\n",
      "       grad_fn=<AddBackward0>)\n",
      "-----------------------------------------------------------------\n",
      "Gradients BEFORE BACKWARD PASS:\n",
      "para_init: No gradient computed\n",
      "Gradients AFTER BACKWARD PASS:\n",
      "Parameter: para_init, Gradient: 9694.703125\n",
      "Parameter: para_init, Updated Value: tensor([ 0.0250,  0.0025,  0.1202,  0.0372, -0.0581,  0.2398], device='cuda:0')\n",
      "Loss:  86564678.83073774\n",
      "\n",
      "================================================================================================================\n",
      "loop_id:  48\n"
     ]
    },
    {
     "name": "stderr",
     "output_type": "stream",
     "text": [
      "Optimizing:  49%|████▉     | 49/100 [01:01<01:03,  1.24s/it, loss=1.34e+8]"
     ]
    },
    {
     "name": "stdout",
     "output_type": "stream",
     "text": [
      "-----------------------------------------------------------------\n",
      "loss_contour:  tensor(12977829.6796, device='cuda:0', dtype=torch.float64)\n",
      "loss_tip_distance:  tensor(0.3531, device='cuda:0', dtype=torch.float64, grad_fn=<MeanBackward0>)\n",
      "motion_model_loss:  tensor(1.2060e+08, device='cuda:0')\n",
      "loss:  tensor(1.3358e+08, device='cuda:0', dtype=torch.float64,\n",
      "       grad_fn=<AddBackward0>)\n",
      "-----------------------------------------------------------------\n",
      "Gradients BEFORE BACKWARD PASS:\n",
      "para_init: No gradient computed\n",
      "Gradients AFTER BACKWARD PASS:\n",
      "Parameter: para_init, Gradient: 3131.253173828125\n",
      "Parameter: para_init, Updated Value: tensor([ 0.0250,  0.0025,  0.1202,  0.0368, -0.0583,  0.2404], device='cuda:0')\n",
      "Loss:  133582278.03274865\n",
      "\n",
      "================================================================================================================\n",
      "loop_id:  49\n"
     ]
    },
    {
     "name": "stderr",
     "output_type": "stream",
     "text": [
      "Optimizing:  50%|█████     | 50/100 [01:02<01:03,  1.26s/it, loss=1.02e+8]"
     ]
    },
    {
     "name": "stdout",
     "output_type": "stream",
     "text": [
      "-----------------------------------------------------------------\n",
      "loss_contour:  tensor(15314869.9232, device='cuda:0', dtype=torch.float64)\n",
      "loss_tip_distance:  tensor(0.4945, device='cuda:0', dtype=torch.float64, grad_fn=<MeanBackward0>)\n",
      "motion_model_loss:  tensor(86716016., device='cuda:0')\n",
      "loss:  tensor(1.0203e+08, device='cuda:0', dtype=torch.float64,\n",
      "       grad_fn=<AddBackward0>)\n",
      "-----------------------------------------------------------------\n",
      "Gradients BEFORE BACKWARD PASS:\n",
      "para_init: No gradient computed\n",
      "Gradients AFTER BACKWARD PASS:\n",
      "Parameter: para_init, Gradient: 3688.886474609375\n",
      "Parameter: para_init, Updated Value: tensor([ 0.0250,  0.0025,  0.1202,  0.0364, -0.0584,  0.2408], device='cuda:0')\n",
      "Loss:  102030886.41771932\n",
      "\n",
      "================================================================================================================\n",
      "loop_id:  50\n"
     ]
    },
    {
     "name": "stderr",
     "output_type": "stream",
     "text": [
      "Optimizing:  51%|█████     | 51/100 [01:04<01:02,  1.27s/it, loss=7.68e+7]"
     ]
    },
    {
     "name": "stdout",
     "output_type": "stream",
     "text": [
      "-----------------------------------------------------------------\n",
      "loss_contour:  tensor(21155224.2742, device='cuda:0', dtype=torch.float64)\n",
      "loss_tip_distance:  tensor(2.8150, device='cuda:0', dtype=torch.float64, grad_fn=<MeanBackward0>)\n",
      "motion_model_loss:  tensor(55648424., device='cuda:0')\n",
      "loss:  tensor(76803651.0892, device='cuda:0', dtype=torch.float64,\n",
      "       grad_fn=<AddBackward0>)\n",
      "-----------------------------------------------------------------\n",
      "Gradients BEFORE BACKWARD PASS:\n",
      "para_init: No gradient computed\n",
      "Gradients AFTER BACKWARD PASS:\n",
      "Parameter: para_init, Gradient: 8779.3134765625\n",
      "Parameter: para_init, Updated Value: tensor([ 0.0250,  0.0025,  0.1202,  0.0363, -0.0585,  0.2410], device='cuda:0')\n",
      "Loss:  76803651.08921185\n",
      "\n",
      "================================================================================================================\n",
      "loop_id:  51\n"
     ]
    },
    {
     "name": "stderr",
     "output_type": "stream",
     "text": [
      "Optimizing:  52%|█████▏    | 52/100 [01:05<01:00,  1.25s/it, loss=1.2e+8] "
     ]
    },
    {
     "name": "stdout",
     "output_type": "stream",
     "text": [
      "-----------------------------------------------------------------\n",
      "loss_contour:  tensor(13106374.7292, device='cuda:0', dtype=torch.float64)\n",
      "loss_tip_distance:  tensor(4.3729, device='cuda:0', dtype=torch.float64, grad_fn=<MeanBackward0>)\n",
      "motion_model_loss:  tensor(1.0676e+08, device='cuda:0')\n",
      "loss:  tensor(1.1987e+08, device='cuda:0', dtype=torch.float64,\n",
      "       grad_fn=<AddBackward0>)\n",
      "-----------------------------------------------------------------\n",
      "Gradients BEFORE BACKWARD PASS:\n",
      "para_init: No gradient computed\n",
      "Gradients AFTER BACKWARD PASS:\n",
      "Parameter: para_init, Gradient: 10911.33984375\n",
      "Parameter: para_init, Updated Value: tensor([ 0.0250,  0.0025,  0.1202,  0.0364, -0.0586,  0.2410], device='cuda:0')\n",
      "Loss:  119867611.10204397\n",
      "\n",
      "================================================================================================================\n",
      "loop_id:  52\n"
     ]
    },
    {
     "name": "stderr",
     "output_type": "stream",
     "text": [
      "Optimizing:  53%|█████▎    | 53/100 [01:06<00:59,  1.27s/it, loss=9.81e+7]"
     ]
    },
    {
     "name": "stdout",
     "output_type": "stream",
     "text": [
      "-----------------------------------------------------------------\n",
      "loss_contour:  tensor(24269732.1473, device='cuda:0', dtype=torch.float64)\n",
      "loss_tip_distance:  tensor(3.6191, device='cuda:0', dtype=torch.float64, grad_fn=<MeanBackward0>)\n",
      "motion_model_loss:  tensor(73821976., device='cuda:0')\n",
      "loss:  tensor(98091711.7664, device='cuda:0', dtype=torch.float64,\n",
      "       grad_fn=<AddBackward0>)\n",
      "-----------------------------------------------------------------\n",
      "Gradients BEFORE BACKWARD PASS:\n",
      "para_init: No gradient computed\n",
      "Gradients AFTER BACKWARD PASS:\n",
      "Parameter: para_init, Gradient: 9897.6708984375\n",
      "Parameter: para_init, Updated Value: tensor([ 0.0250,  0.0025,  0.1202,  0.0367, -0.0586,  0.2408], device='cuda:0')\n",
      "Loss:  98091711.766384\n",
      "\n",
      "================================================================================================================\n",
      "loop_id:  53\n"
     ]
    },
    {
     "name": "stderr",
     "output_type": "stream",
     "text": [
      "Optimizing:  54%|█████▍    | 54/100 [01:08<00:57,  1.26s/it, loss=2.21e+8]"
     ]
    },
    {
     "name": "stdout",
     "output_type": "stream",
     "text": [
      "-----------------------------------------------------------------\n",
      "loss_contour:  tensor(89446865.4571, device='cuda:0', dtype=torch.float64)\n",
      "loss_tip_distance:  tensor(1.5895, device='cuda:0', dtype=torch.float64, grad_fn=<MeanBackward0>)\n",
      "motion_model_loss:  tensor(1.3130e+08, device='cuda:0')\n",
      "loss:  tensor(2.2075e+08, device='cuda:0', dtype=torch.float64,\n",
      "       grad_fn=<AddBackward0>)\n",
      "-----------------------------------------------------------------\n",
      "Gradients BEFORE BACKWARD PASS:\n",
      "para_init: No gradient computed\n",
      "Gradients AFTER BACKWARD PASS:\n",
      "Parameter: para_init, Gradient: 6540.4365234375\n",
      "Parameter: para_init, Updated Value: tensor([ 0.0250,  0.0025,  0.1202,  0.0370, -0.0585,  0.2406], device='cuda:0')\n",
      "Loss:  220748139.04663762\n",
      "\n",
      "================================================================================================================\n",
      "loop_id:  54\n"
     ]
    },
    {
     "name": "stderr",
     "output_type": "stream",
     "text": [
      "Optimizing:  55%|█████▌    | 55/100 [01:09<00:55,  1.24s/it, loss=1.11e+8]"
     ]
    },
    {
     "name": "stdout",
     "output_type": "stream",
     "text": [
      "-----------------------------------------------------------------\n",
      "loss_contour:  tensor(13283829.6309, device='cuda:0', dtype=torch.float64)\n",
      "loss_tip_distance:  tensor(0.2699, device='cuda:0', dtype=torch.float64, grad_fn=<MeanBackward0>)\n",
      "motion_model_loss:  tensor(97485896., device='cuda:0')\n",
      "loss:  tensor(1.1077e+08, device='cuda:0', dtype=torch.float64,\n",
      "       grad_fn=<AddBackward0>)\n",
      "-----------------------------------------------------------------\n",
      "Gradients BEFORE BACKWARD PASS:\n",
      "para_init: No gradient computed\n",
      "Gradients AFTER BACKWARD PASS:\n",
      "Parameter: para_init, Gradient: 2735.679443359375\n",
      "Parameter: para_init, Updated Value: tensor([ 0.0250,  0.0025,  0.1202,  0.0373, -0.0584,  0.2405], device='cuda:0')\n",
      "Loss:  110769725.90079051\n",
      "\n",
      "================================================================================================================\n",
      "loop_id:  55\n"
     ]
    },
    {
     "name": "stderr",
     "output_type": "stream",
     "text": [
      "Optimizing:  56%|█████▌    | 56/100 [01:10<00:55,  1.27s/it, loss=1.97e+9]"
     ]
    },
    {
     "name": "stdout",
     "output_type": "stream",
     "text": [
      "-----------------------------------------------------------------\n",
      "loss_contour:  tensor(14963564.2667, device='cuda:0', dtype=torch.float64)\n",
      "loss_tip_distance:  tensor(0.5193, device='cuda:0', dtype=torch.float64, grad_fn=<MeanBackward0>)\n",
      "motion_model_loss:  tensor(1.9591e+09, device='cuda:0')\n",
      "loss:  tensor(1.9741e+09, device='cuda:0', dtype=torch.float64,\n",
      "       grad_fn=<AddBackward0>)\n",
      "-----------------------------------------------------------------\n",
      "Gradients BEFORE BACKWARD PASS:\n",
      "para_init: No gradient computed\n",
      "Gradients AFTER BACKWARD PASS:\n",
      "Parameter: para_init, Gradient: 3829.078125\n",
      "Parameter: para_init, Updated Value: tensor([ 0.0250,  0.0025,  0.1202,  0.0375, -0.0582,  0.2406], device='cuda:0')\n",
      "Loss:  1974053740.7859628\n",
      "\n",
      "================================================================================================================\n",
      "loop_id:  56\n"
     ]
    },
    {
     "name": "stderr",
     "output_type": "stream",
     "text": [
      "Optimizing:  57%|█████▋    | 57/100 [01:11<00:53,  1.24s/it, loss=1.33e+9]"
     ]
    },
    {
     "name": "stdout",
     "output_type": "stream",
     "text": [
      "-----------------------------------------------------------------\n",
      "loss_contour:  tensor(47261999.5584, device='cuda:0', dtype=torch.float64)\n",
      "loss_tip_distance:  tensor(1.6210, device='cuda:0', dtype=torch.float64, grad_fn=<MeanBackward0>)\n",
      "motion_model_loss:  tensor(1.2808e+09, device='cuda:0')\n",
      "loss:  tensor(1.3280e+09, device='cuda:0', dtype=torch.float64,\n",
      "       grad_fn=<AddBackward0>)\n",
      "-----------------------------------------------------------------\n",
      "Gradients BEFORE BACKWARD PASS:\n",
      "para_init: No gradient computed\n",
      "Gradients AFTER BACKWARD PASS:\n",
      "Parameter: para_init, Gradient: 6651.7177734375\n",
      "Parameter: para_init, Updated Value: tensor([ 0.0250,  0.0025,  0.1202,  0.0376, -0.0581,  0.2408], device='cuda:0')\n",
      "Loss:  1328029489.1794212\n",
      "\n",
      "================================================================================================================\n",
      "loop_id:  57\n"
     ]
    },
    {
     "name": "stderr",
     "output_type": "stream",
     "text": [
      "Optimizing:  58%|█████▊    | 58/100 [01:12<00:52,  1.24s/it, loss=1.21e+8]"
     ]
    },
    {
     "name": "stdout",
     "output_type": "stream",
     "text": [
      "-----------------------------------------------------------------\n",
      "loss_contour:  tensor(26451479.6271, device='cuda:0', dtype=torch.float64)\n",
      "loss_tip_distance:  tensor(2.2975, device='cuda:0', dtype=torch.float64, grad_fn=<MeanBackward0>)\n",
      "motion_model_loss:  tensor(94347192., device='cuda:0')\n",
      "loss:  tensor(1.2080e+08, device='cuda:0', dtype=torch.float64,\n",
      "       grad_fn=<AddBackward0>)\n",
      "-----------------------------------------------------------------\n",
      "Gradients BEFORE BACKWARD PASS:\n",
      "para_init: No gradient computed\n",
      "Gradients AFTER BACKWARD PASS:\n",
      "Parameter: para_init, Gradient: 7871.82080078125\n",
      "Parameter: para_init, Updated Value: tensor([ 0.0250,  0.0025,  0.1202,  0.0376, -0.0581,  0.2410], device='cuda:0')\n",
      "Loss:  120798673.92461586\n",
      "\n",
      "================================================================================================================\n",
      "loop_id:  58\n"
     ]
    },
    {
     "name": "stderr",
     "output_type": "stream",
     "text": [
      "Optimizing:  59%|█████▉    | 59/100 [01:14<00:51,  1.25s/it, loss=1.05e+8]"
     ]
    },
    {
     "name": "stdout",
     "output_type": "stream",
     "text": [
      "-----------------------------------------------------------------\n",
      "loss_contour:  tensor(22961241.4258, device='cuda:0', dtype=torch.float64)\n",
      "loss_tip_distance:  tensor(1.8836, device='cuda:0', dtype=torch.float64, grad_fn=<MeanBackward0>)\n",
      "motion_model_loss:  tensor(82352400., device='cuda:0')\n",
      "loss:  tensor(1.0531e+08, device='cuda:0', dtype=torch.float64,\n",
      "       grad_fn=<AddBackward0>)\n",
      "-----------------------------------------------------------------\n",
      "Gradients BEFORE BACKWARD PASS:\n",
      "para_init: No gradient computed\n",
      "Gradients AFTER BACKWARD PASS:\n",
      "Parameter: para_init, Gradient: 7112.22021484375\n",
      "Parameter: para_init, Updated Value: tensor([ 0.0250,  0.0025,  0.1202,  0.0374, -0.0582,  0.2412], device='cuda:0')\n",
      "Loss:  105313643.30940446\n",
      "\n",
      "================================================================================================================\n",
      "loop_id:  59\n"
     ]
    },
    {
     "name": "stderr",
     "output_type": "stream",
     "text": [
      "Optimizing:  60%|██████    | 60/100 [01:15<00:49,  1.23s/it, loss=1.11e+8]"
     ]
    },
    {
     "name": "stdout",
     "output_type": "stream",
     "text": [
      "-----------------------------------------------------------------\n",
      "loss_contour:  tensor(13270749.9224, device='cuda:0', dtype=torch.float64)\n",
      "loss_tip_distance:  tensor(0.7952, device='cuda:0', dtype=torch.float64, grad_fn=<MeanBackward0>)\n",
      "motion_model_loss:  tensor(97959320., device='cuda:0')\n",
      "loss:  tensor(1.1123e+08, device='cuda:0', dtype=torch.float64,\n",
      "       grad_fn=<AddBackward0>)\n",
      "-----------------------------------------------------------------\n",
      "Gradients BEFORE BACKWARD PASS:\n",
      "para_init: No gradient computed\n",
      "Gradients AFTER BACKWARD PASS:\n",
      "Parameter: para_init, Gradient: 4628.619140625\n",
      "Parameter: para_init, Updated Value: tensor([ 0.0250,  0.0025,  0.1202,  0.0372, -0.0584,  0.2413], device='cuda:0')\n",
      "Loss:  111230070.717657\n",
      "\n",
      "================================================================================================================\n",
      "loop_id:  60\n"
     ]
    },
    {
     "name": "stderr",
     "output_type": "stream",
     "text": [
      "Optimizing:  61%|██████    | 61/100 [01:16<00:48,  1.25s/it, loss=1.23e+8]"
     ]
    },
    {
     "name": "stdout",
     "output_type": "stream",
     "text": [
      "-----------------------------------------------------------------\n",
      "loss_contour:  tensor(13029012.4840, device='cuda:0', dtype=torch.float64)\n",
      "loss_tip_distance:  tensor(0.0734, device='cuda:0', dtype=torch.float64, grad_fn=<MeanBackward0>)\n",
      "motion_model_loss:  tensor(1.0962e+08, device='cuda:0')\n",
      "loss:  tensor(1.2265e+08, device='cuda:0', dtype=torch.float64,\n",
      "       grad_fn=<AddBackward0>)\n",
      "-----------------------------------------------------------------\n",
      "Gradients BEFORE BACKWARD PASS:\n",
      "para_init: No gradient computed\n",
      "Gradients AFTER BACKWARD PASS:\n",
      "Parameter: para_init, Gradient: 1443.18115234375\n",
      "Parameter: para_init, Updated Value: tensor([ 0.0250,  0.0025,  0.1202,  0.0370, -0.0586,  0.2413], device='cuda:0')\n",
      "Loss:  122645924.5573891\n",
      "\n",
      "================================================================================================================\n",
      "loop_id:  61\n"
     ]
    },
    {
     "name": "stderr",
     "output_type": "stream",
     "text": [
      "Optimizing:  62%|██████▏   | 62/100 [01:18<00:47,  1.26s/it, loss=8.64e+8]"
     ]
    },
    {
     "name": "stdout",
     "output_type": "stream",
     "text": [
      "-----------------------------------------------------------------\n",
      "loss_contour:  tensor(13126829.9944, device='cuda:0', dtype=torch.float64)\n",
      "loss_tip_distance:  tensor(0.3289, device='cuda:0', dtype=torch.float64, grad_fn=<MeanBackward0>)\n",
      "motion_model_loss:  tensor(8.5059e+08, device='cuda:0')\n",
      "loss:  tensor(8.6372e+08, device='cuda:0', dtype=torch.float64,\n",
      "       grad_fn=<AddBackward0>)\n",
      "-----------------------------------------------------------------\n",
      "Gradients BEFORE BACKWARD PASS:\n",
      "para_init: No gradient computed\n",
      "Gradients AFTER BACKWARD PASS:\n",
      "Parameter: para_init, Gradient: 2971.54345703125\n",
      "Parameter: para_init, Updated Value: tensor([ 0.0250,  0.0025,  0.1202,  0.0368, -0.0587,  0.2414], device='cuda:0')\n",
      "Loss:  863718190.3232937\n",
      "\n",
      "================================================================================================================\n",
      "loop_id:  62\n"
     ]
    },
    {
     "name": "stderr",
     "output_type": "stream",
     "text": [
      "Optimizing:  63%|██████▎   | 63/100 [01:19<00:46,  1.25s/it, loss=2.51e+8]"
     ]
    },
    {
     "name": "stdout",
     "output_type": "stream",
     "text": [
      "-----------------------------------------------------------------\n",
      "loss_contour:  tensor(15679542.5172, device='cuda:0', dtype=torch.float64)\n",
      "loss_tip_distance:  tensor(1.0889, device='cuda:0', dtype=torch.float64, grad_fn=<MeanBackward0>)\n",
      "motion_model_loss:  tensor(2.3541e+08, device='cuda:0')\n",
      "loss:  tensor(2.5109e+08, device='cuda:0', dtype=torch.float64,\n",
      "       grad_fn=<AddBackward0>)\n",
      "-----------------------------------------------------------------\n",
      "Gradients BEFORE BACKWARD PASS:\n",
      "para_init: No gradient computed\n",
      "Gradients AFTER BACKWARD PASS:\n",
      "Parameter: para_init, Gradient: 5399.2060546875\n",
      "Parameter: para_init, Updated Value: tensor([ 0.0250,  0.0025,  0.1202,  0.0368, -0.0588,  0.2414], device='cuda:0')\n",
      "Loss:  251085319.60606903\n",
      "\n",
      "================================================================================================================\n",
      "loop_id:  63\n"
     ]
    },
    {
     "name": "stderr",
     "output_type": "stream",
     "text": [
      "Optimizing:  64%|██████▍   | 64/100 [01:20<00:45,  1.25s/it, loss=9.36e+8]"
     ]
    },
    {
     "name": "stdout",
     "output_type": "stream",
     "text": [
      "-----------------------------------------------------------------\n",
      "loss_contour:  tensor(13273912.9794, device='cuda:0', dtype=torch.float64)\n",
      "loss_tip_distance:  tensor(1.3715, device='cuda:0', dtype=torch.float64, grad_fn=<MeanBackward0>)\n",
      "motion_model_loss:  tensor(9.2270e+08, device='cuda:0')\n",
      "loss:  tensor(9.3597e+08, device='cuda:0', dtype=torch.float64,\n",
      "       grad_fn=<AddBackward0>)\n",
      "-----------------------------------------------------------------\n",
      "Gradients BEFORE BACKWARD PASS:\n",
      "para_init: No gradient computed\n",
      "Gradients AFTER BACKWARD PASS:\n",
      "Parameter: para_init, Gradient: 6060.35888671875\n",
      "Parameter: para_init, Updated Value: tensor([ 0.0250,  0.0025,  0.1202,  0.0369, -0.0587,  0.2414], device='cuda:0')\n",
      "Loss:  935973754.3508618\n",
      "\n",
      "================================================================================================================\n",
      "loop_id:  64\n"
     ]
    },
    {
     "name": "stderr",
     "output_type": "stream",
     "text": [
      "Optimizing:  65%|██████▌   | 65/100 [01:22<00:46,  1.34s/it, loss=4.31e+8]"
     ]
    },
    {
     "name": "stdout",
     "output_type": "stream",
     "text": [
      "-----------------------------------------------------------------\n",
      "loss_contour:  tensor(13098555.2057, device='cuda:0', dtype=torch.float64)\n",
      "loss_tip_distance:  tensor(0.8605, device='cuda:0', dtype=torch.float64, grad_fn=<MeanBackward0>)\n",
      "motion_model_loss:  tensor(4.1741e+08, device='cuda:0')\n",
      "loss:  tensor(4.3051e+08, device='cuda:0', dtype=torch.float64,\n",
      "       grad_fn=<AddBackward0>)\n",
      "-----------------------------------------------------------------\n",
      "Gradients BEFORE BACKWARD PASS:\n",
      "para_init: No gradient computed\n",
      "Gradients AFTER BACKWARD PASS:\n",
      "Parameter: para_init, Gradient: 4798.3349609375\n",
      "Parameter: para_init, Updated Value: tensor([ 0.0250,  0.0025,  0.1202,  0.0370, -0.0586,  0.2415], device='cuda:0')\n",
      "Loss:  430507708.06622493\n",
      "\n",
      "================================================================================================================\n",
      "loop_id:  65\n"
     ]
    },
    {
     "name": "stderr",
     "output_type": "stream",
     "text": [
      "Optimizing:  66%|██████▌   | 66/100 [01:23<00:45,  1.35s/it, loss=1.59e+8]"
     ]
    },
    {
     "name": "stdout",
     "output_type": "stream",
     "text": [
      "-----------------------------------------------------------------\n",
      "loss_contour:  tensor(13431608.0704, device='cuda:0', dtype=torch.float64)\n",
      "loss_tip_distance:  tensor(0.1884, device='cuda:0', dtype=torch.float64, grad_fn=<MeanBackward0>)\n",
      "motion_model_loss:  tensor(1.4517e+08, device='cuda:0')\n",
      "loss:  tensor(1.5861e+08, device='cuda:0', dtype=torch.float64,\n",
      "       grad_fn=<AddBackward0>)\n",
      "-----------------------------------------------------------------\n",
      "Gradients BEFORE BACKWARD PASS:\n",
      "para_init: No gradient computed\n",
      "Gradients AFTER BACKWARD PASS:\n",
      "Parameter: para_init, Gradient: 2247.001708984375\n",
      "Parameter: para_init, Updated Value: tensor([ 0.0250,  0.0025,  0.1202,  0.0372, -0.0585,  0.2415], device='cuda:0')\n",
      "Loss:  158605160.25880188\n",
      "\n",
      "================================================================================================================\n",
      "loop_id:  66\n"
     ]
    },
    {
     "name": "stderr",
     "output_type": "stream",
     "text": [
      "Optimizing:  67%|██████▋   | 67/100 [01:24<00:43,  1.31s/it, loss=8.07e+7]"
     ]
    },
    {
     "name": "stdout",
     "output_type": "stream",
     "text": [
      "-----------------------------------------------------------------\n",
      "loss_contour:  tensor(25505232.6577, device='cuda:0', dtype=torch.float64)\n",
      "loss_tip_distance:  tensor(0.0481, device='cuda:0', dtype=torch.float64, grad_fn=<MeanBackward0>)\n",
      "motion_model_loss:  tensor(55226076., device='cuda:0')\n",
      "loss:  tensor(80731308.7057, device='cuda:0', dtype=torch.float64,\n",
      "       grad_fn=<AddBackward0>)\n",
      "-----------------------------------------------------------------\n",
      "Gradients BEFORE BACKWARD PASS:\n",
      "para_init: No gradient computed\n",
      "Gradients AFTER BACKWARD PASS:\n",
      "Parameter: para_init, Gradient: 1157.795166015625\n",
      "Parameter: para_init, Updated Value: tensor([ 0.0250,  0.0025,  0.1202,  0.0374, -0.0584,  0.2415], device='cuda:0')\n",
      "Loss:  80731308.70573439\n",
      "\n",
      "================================================================================================================\n",
      "loop_id:  67\n"
     ]
    },
    {
     "name": "stderr",
     "output_type": "stream",
     "text": [
      "Optimizing:  68%|██████▊   | 68/100 [01:25<00:40,  1.28s/it, loss=9.95e+7]"
     ]
    },
    {
     "name": "stdout",
     "output_type": "stream",
     "text": [
      "-----------------------------------------------------------------\n",
      "loss_contour:  tensor(13173708.2206, device='cuda:0', dtype=torch.float64)\n",
      "loss_tip_distance:  tensor(0.4063, device='cuda:0', dtype=torch.float64, grad_fn=<MeanBackward0>)\n",
      "motion_model_loss:  tensor(86362040., device='cuda:0')\n",
      "loss:  tensor(99535748.6270, device='cuda:0', dtype=torch.float64,\n",
      "       grad_fn=<AddBackward0>)\n",
      "-----------------------------------------------------------------\n",
      "Gradients BEFORE BACKWARD PASS:\n",
      "para_init: No gradient computed\n",
      "Gradients AFTER BACKWARD PASS:\n",
      "Parameter: para_init, Gradient: 3302.2333984375\n",
      "Parameter: para_init, Updated Value: tensor([ 0.0250,  0.0025,  0.1202,  0.0375, -0.0583,  0.2415], device='cuda:0')\n",
      "Loss:  99535748.62697515\n",
      "\n",
      "================================================================================================================\n",
      "loop_id:  68\n"
     ]
    },
    {
     "name": "stderr",
     "output_type": "stream",
     "text": [
      "Optimizing:  69%|██████▉   | 69/100 [01:27<00:39,  1.28s/it, loss=4.81e+8]"
     ]
    },
    {
     "name": "stdout",
     "output_type": "stream",
     "text": [
      "-----------------------------------------------------------------\n",
      "loss_contour:  tensor(13223487.6898, device='cuda:0', dtype=torch.float64)\n",
      "loss_tip_distance:  tensor(0.7242, device='cuda:0', dtype=torch.float64, grad_fn=<MeanBackward0>)\n",
      "motion_model_loss:  tensor(4.6772e+08, device='cuda:0')\n",
      "loss:  tensor(4.8094e+08, device='cuda:0', dtype=torch.float64,\n",
      "       grad_fn=<AddBackward0>)\n",
      "-----------------------------------------------------------------\n",
      "Gradients BEFORE BACKWARD PASS:\n",
      "para_init: No gradient computed\n",
      "Gradients AFTER BACKWARD PASS:\n",
      "Parameter: para_init, Gradient: 4400.970703125\n",
      "Parameter: para_init, Updated Value: tensor([ 0.0250,  0.0025,  0.1202,  0.0375, -0.0584,  0.2414], device='cuda:0')\n",
      "Loss:  480941920.4139863\n",
      "\n",
      "================================================================================================================\n",
      "loop_id:  69\n"
     ]
    },
    {
     "name": "stderr",
     "output_type": "stream",
     "text": [
      "Optimizing:  70%|███████   | 70/100 [01:28<00:37,  1.26s/it, loss=1.35e+8]"
     ]
    },
    {
     "name": "stdout",
     "output_type": "stream",
     "text": [
      "-----------------------------------------------------------------\n",
      "loss_contour:  tensor(13006811.2753, device='cuda:0', dtype=torch.float64)\n",
      "loss_tip_distance:  tensor(0.6521, device='cuda:0', dtype=torch.float64, grad_fn=<MeanBackward0>)\n",
      "motion_model_loss:  tensor(1.2226e+08, device='cuda:0')\n",
      "loss:  tensor(1.3526e+08, device='cuda:0', dtype=torch.float64,\n",
      "       grad_fn=<AddBackward0>)\n",
      "-----------------------------------------------------------------\n",
      "Gradients BEFORE BACKWARD PASS:\n",
      "para_init: No gradient computed\n",
      "Gradients AFTER BACKWARD PASS:\n",
      "Parameter: para_init, Gradient: 4183.27783203125\n",
      "Parameter: para_init, Updated Value: tensor([ 0.0250,  0.0025,  0.1202,  0.0374, -0.0585,  0.2414], device='cuda:0')\n",
      "Loss:  135263667.92742214\n",
      "\n",
      "================================================================================================================\n",
      "loop_id:  70\n"
     ]
    },
    {
     "name": "stderr",
     "output_type": "stream",
     "text": [
      "Optimizing:  71%|███████   | 71/100 [01:29<00:36,  1.27s/it, loss=1.95e+9]"
     ]
    },
    {
     "name": "stdout",
     "output_type": "stream",
     "text": [
      "-----------------------------------------------------------------\n",
      "loss_contour:  tensor(9.4172e+08, device='cuda:0', dtype=torch.float64)\n",
      "loss_tip_distance:  tensor(0.3134, device='cuda:0', dtype=torch.float64, grad_fn=<MeanBackward0>)\n",
      "motion_model_loss:  tensor(1.0055e+09, device='cuda:0')\n",
      "loss:  tensor(1.9472e+09, device='cuda:0', dtype=torch.float64,\n",
      "       grad_fn=<AddBackward0>)\n",
      "-----------------------------------------------------------------\n",
      "Gradients BEFORE BACKWARD PASS:\n",
      "para_init: No gradient computed\n",
      "Gradients AFTER BACKWARD PASS:\n",
      "Parameter: para_init, Gradient: 2919.8994140625\n",
      "Parameter: para_init, Updated Value: tensor([ 0.0250,  0.0025,  0.1202,  0.0373, -0.0586,  0.2415], device='cuda:0')\n",
      "Loss:  1947209832.913868\n",
      "\n",
      "================================================================================================================\n",
      "loop_id:  71\n"
     ]
    },
    {
     "name": "stderr",
     "output_type": "stream",
     "text": [
      "Optimizing:  72%|███████▏  | 72/100 [01:30<00:35,  1.26s/it, loss=2.36e+9]"
     ]
    },
    {
     "name": "stdout",
     "output_type": "stream",
     "text": [
      "-----------------------------------------------------------------\n",
      "loss_contour:  tensor(32026970.1884, device='cuda:0', dtype=torch.float64)\n",
      "loss_tip_distance:  tensor(0.0577, device='cuda:0', dtype=torch.float64, grad_fn=<MeanBackward0>)\n",
      "motion_model_loss:  tensor(2.3285e+09, device='cuda:0')\n",
      "loss:  tensor(2.3605e+09, device='cuda:0', dtype=torch.float64,\n",
      "       grad_fn=<AddBackward0>)\n",
      "-----------------------------------------------------------------\n",
      "Gradients BEFORE BACKWARD PASS:\n",
      "para_init: No gradient computed\n",
      "Gradients AFTER BACKWARD PASS:\n",
      "Parameter: para_init, Gradient: 1285.9022216796875\n",
      "Parameter: para_init, Updated Value: tensor([ 0.0250,  0.0025,  0.1202,  0.0371, -0.0586,  0.2416], device='cuda:0')\n",
      "Loss:  2360492122.246129\n",
      "\n",
      "================================================================================================================\n",
      "loop_id:  72\n"
     ]
    },
    {
     "name": "stderr",
     "output_type": "stream",
     "text": [
      "Optimizing:  73%|███████▎  | 73/100 [01:32<00:33,  1.24s/it, loss=1.29e+8]"
     ]
    },
    {
     "name": "stdout",
     "output_type": "stream",
     "text": [
      "-----------------------------------------------------------------\n",
      "loss_contour:  tensor(45681444.8069, device='cuda:0', dtype=torch.float64)\n",
      "loss_tip_distance:  tensor(0.0951, device='cuda:0', dtype=torch.float64, grad_fn=<MeanBackward0>)\n",
      "motion_model_loss:  tensor(83799912., device='cuda:0')\n",
      "loss:  tensor(1.2948e+08, device='cuda:0', dtype=torch.float64,\n",
      "       grad_fn=<AddBackward0>)\n",
      "-----------------------------------------------------------------\n",
      "Gradients BEFORE BACKWARD PASS:\n",
      "para_init: No gradient computed\n",
      "Gradients AFTER BACKWARD PASS:\n",
      "Parameter: para_init, Gradient: 1597.9310302734375\n",
      "Parameter: para_init, Updated Value: tensor([ 0.0250,  0.0025,  0.1202,  0.0370, -0.0587,  0.2417], device='cuda:0')\n",
      "Loss:  129481356.9020384\n",
      "\n",
      "================================================================================================================\n",
      "loop_id:  73\n"
     ]
    },
    {
     "name": "stderr",
     "output_type": "stream",
     "text": [
      "Optimizing:  74%|███████▍  | 74/100 [01:33<00:32,  1.27s/it, loss=7.7e+8] "
     ]
    },
    {
     "name": "stdout",
     "output_type": "stream",
     "text": [
      "-----------------------------------------------------------------\n",
      "loss_contour:  tensor(13084499.5895, device='cuda:0', dtype=torch.float64)\n",
      "loss_tip_distance:  tensor(0.3200, device='cuda:0', dtype=torch.float64, grad_fn=<MeanBackward0>)\n",
      "motion_model_loss:  tensor(7.5706e+08, device='cuda:0')\n",
      "loss:  tensor(7.7014e+08, device='cuda:0', dtype=torch.float64,\n",
      "       grad_fn=<AddBackward0>)\n",
      "-----------------------------------------------------------------\n",
      "Gradients BEFORE BACKWARD PASS:\n",
      "para_init: No gradient computed\n",
      "Gradients AFTER BACKWARD PASS:\n",
      "Parameter: para_init, Gradient: 2927.166259765625\n",
      "Parameter: para_init, Updated Value: tensor([ 0.0250,  0.0025,  0.1202,  0.0370, -0.0587,  0.2418], device='cuda:0')\n",
      "Loss:  770140691.9094524\n",
      "\n",
      "================================================================================================================\n",
      "loop_id:  74\n"
     ]
    },
    {
     "name": "stderr",
     "output_type": "stream",
     "text": [
      "Optimizing:  75%|███████▌  | 75/100 [01:34<00:31,  1.25s/it, loss=2.7e+8]"
     ]
    },
    {
     "name": "stdout",
     "output_type": "stream",
     "text": [
      "-----------------------------------------------------------------\n",
      "loss_contour:  tensor(42559920.8828, device='cuda:0', dtype=torch.float64)\n",
      "loss_tip_distance:  tensor(0.4374, device='cuda:0', dtype=torch.float64, grad_fn=<MeanBackward0>)\n",
      "motion_model_loss:  tensor(2.2731e+08, device='cuda:0')\n",
      "loss:  tensor(2.6987e+08, device='cuda:0', dtype=torch.float64,\n",
      "       grad_fn=<AddBackward0>)\n",
      "-----------------------------------------------------------------\n",
      "Gradients BEFORE BACKWARD PASS:\n",
      "para_init: No gradient computed\n",
      "Gradients AFTER BACKWARD PASS:\n",
      "Parameter: para_init, Gradient: 3435.20703125\n",
      "Parameter: para_init, Updated Value: tensor([ 0.0250,  0.0025,  0.1202,  0.0370, -0.0586,  0.2418], device='cuda:0')\n",
      "Loss:  269867201.3202442\n",
      "\n",
      "================================================================================================================\n",
      "loop_id:  75\n"
     ]
    },
    {
     "name": "stderr",
     "output_type": "stream",
     "text": [
      "Optimizing:  76%|███████▌  | 76/100 [01:35<00:29,  1.24s/it, loss=1.54e+8]"
     ]
    },
    {
     "name": "stdout",
     "output_type": "stream",
     "text": [
      "-----------------------------------------------------------------\n",
      "loss_contour:  tensor(52165033.2129, device='cuda:0', dtype=torch.float64)\n",
      "loss_tip_distance:  tensor(0.2959, device='cuda:0', dtype=torch.float64, grad_fn=<MeanBackward0>)\n",
      "motion_model_loss:  tensor(1.0226e+08, device='cuda:0')\n",
      "loss:  tensor(1.5442e+08, device='cuda:0', dtype=torch.float64,\n",
      "       grad_fn=<AddBackward0>)\n",
      "-----------------------------------------------------------------\n",
      "Gradients BEFORE BACKWARD PASS:\n",
      "para_init: No gradient computed\n",
      "Gradients AFTER BACKWARD PASS:\n",
      "Parameter: para_init, Gradient: 2834.29345703125\n",
      "Parameter: para_init, Updated Value: tensor([ 0.0250,  0.0025,  0.1202,  0.0371, -0.0586,  0.2418], device='cuda:0')\n",
      "Loss:  154421057.50886053\n",
      "\n",
      "================================================================================================================\n",
      "loop_id:  76\n"
     ]
    },
    {
     "name": "stderr",
     "output_type": "stream",
     "text": [
      "Optimizing:  77%|███████▋  | 77/100 [01:37<00:28,  1.25s/it, loss=9.91e+7]"
     ]
    },
    {
     "name": "stdout",
     "output_type": "stream",
     "text": [
      "-----------------------------------------------------------------\n",
      "loss_contour:  tensor(19052568.3971, device='cuda:0', dtype=torch.float64)\n",
      "loss_tip_distance:  tensor(0.0652, device='cuda:0', dtype=torch.float64, grad_fn=<MeanBackward0>)\n",
      "motion_model_loss:  tensor(80073264., device='cuda:0')\n",
      "loss:  tensor(99125832.4623, device='cuda:0', dtype=torch.float64,\n",
      "       grad_fn=<AddBackward0>)\n",
      "-----------------------------------------------------------------\n",
      "Gradients BEFORE BACKWARD PASS:\n",
      "para_init: No gradient computed\n",
      "Gradients AFTER BACKWARD PASS:\n",
      "Parameter: para_init, Gradient: 1333.1824951171875\n",
      "Parameter: para_init, Updated Value: tensor([ 0.0250,  0.0025,  0.1202,  0.0373, -0.0586,  0.2417], device='cuda:0')\n",
      "Loss:  99125832.4622658\n",
      "\n",
      "================================================================================================================\n",
      "loop_id:  77\n"
     ]
    },
    {
     "name": "stderr",
     "output_type": "stream",
     "text": [
      "Optimizing:  78%|███████▊  | 78/100 [01:38<00:27,  1.23s/it, loss=4.43e+8]"
     ]
    },
    {
     "name": "stdout",
     "output_type": "stream",
     "text": [
      "-----------------------------------------------------------------\n",
      "loss_contour:  tensor(1.7972e+08, device='cuda:0', dtype=torch.float64)\n",
      "loss_tip_distance:  tensor(0.0093, device='cuda:0', dtype=torch.float64, grad_fn=<MeanBackward0>)\n",
      "motion_model_loss:  tensor(2.6319e+08, device='cuda:0')\n",
      "loss:  tensor(4.4291e+08, device='cuda:0', dtype=torch.float64,\n",
      "       grad_fn=<AddBackward0>)\n",
      "-----------------------------------------------------------------\n",
      "Gradients BEFORE BACKWARD PASS:\n",
      "para_init: No gradient computed\n",
      "Gradients AFTER BACKWARD PASS:\n",
      "Parameter: para_init, Gradient: 502.2377014160156\n",
      "Parameter: para_init, Updated Value: tensor([ 0.0250,  0.0025,  0.1202,  0.0374, -0.0585,  0.2416], device='cuda:0')\n",
      "Loss:  442906690.7274778\n",
      "\n",
      "================================================================================================================\n",
      "loop_id:  78\n"
     ]
    },
    {
     "name": "stderr",
     "output_type": "stream",
     "text": [
      "Optimizing:  79%|███████▉  | 79/100 [01:39<00:25,  1.23s/it, loss=1.56e+8]"
     ]
    },
    {
     "name": "stdout",
     "output_type": "stream",
     "text": [
      "-----------------------------------------------------------------\n",
      "loss_contour:  tensor(61552600.6416, device='cuda:0', dtype=torch.float64)\n",
      "loss_tip_distance:  tensor(0.1452, device='cuda:0', dtype=torch.float64, grad_fn=<MeanBackward0>)\n",
      "motion_model_loss:  tensor(94374992., device='cuda:0')\n",
      "loss:  tensor(1.5593e+08, device='cuda:0', dtype=torch.float64,\n",
      "       grad_fn=<AddBackward0>)\n",
      "-----------------------------------------------------------------\n",
      "Gradients BEFORE BACKWARD PASS:\n",
      "para_init: No gradient computed\n",
      "Gradients AFTER BACKWARD PASS:\n",
      "Parameter: para_init, Gradient: 1989.2977294921875\n",
      "Parameter: para_init, Updated Value: tensor([ 0.0250,  0.0025,  0.1202,  0.0374, -0.0585,  0.2416], device='cuda:0')\n",
      "Loss:  155927592.7868442\n",
      "\n",
      "================================================================================================================\n",
      "loop_id:  79\n"
     ]
    },
    {
     "name": "stderr",
     "output_type": "stream",
     "text": [
      "Optimizing:  80%|████████  | 80/100 [01:40<00:24,  1.22s/it, loss=1.03e+9]"
     ]
    },
    {
     "name": "stdout",
     "output_type": "stream",
     "text": [
      "-----------------------------------------------------------------\n",
      "loss_contour:  tensor(15139521.6683, device='cuda:0', dtype=torch.float64)\n",
      "loss_tip_distance:  tensor(0.2557, device='cuda:0', dtype=torch.float64, grad_fn=<MeanBackward0>)\n",
      "motion_model_loss:  tensor(1.0123e+09, device='cuda:0')\n",
      "loss:  tensor(1.0274e+09, device='cuda:0', dtype=torch.float64,\n",
      "       grad_fn=<AddBackward0>)\n",
      "-----------------------------------------------------------------\n",
      "Gradients BEFORE BACKWARD PASS:\n",
      "para_init: No gradient computed\n",
      "Gradients AFTER BACKWARD PASS:\n",
      "Parameter: para_init, Gradient: 2634.0224609375\n",
      "Parameter: para_init, Updated Value: tensor([ 0.0250,  0.0025,  0.1202,  0.0374, -0.0585,  0.2416], device='cuda:0')\n",
      "Loss:  1027423809.9240773\n",
      "\n",
      "================================================================================================================\n",
      "loop_id:  80\n"
     ]
    },
    {
     "name": "stderr",
     "output_type": "stream",
     "text": [
      "Optimizing:  81%|████████  | 81/100 [01:41<00:23,  1.23s/it, loss=1.32e+8]"
     ]
    },
    {
     "name": "stdout",
     "output_type": "stream",
     "text": [
      "-----------------------------------------------------------------\n",
      "loss_contour:  tensor(12982282.9688, device='cuda:0', dtype=torch.float64)\n",
      "loss_tip_distance:  tensor(0.2017, device='cuda:0', dtype=torch.float64, grad_fn=<MeanBackward0>)\n",
      "motion_model_loss:  tensor(1.1905e+08, device='cuda:0')\n",
      "loss:  tensor(1.3203e+08, device='cuda:0', dtype=torch.float64,\n",
      "       grad_fn=<AddBackward0>)\n",
      "-----------------------------------------------------------------\n",
      "Gradients BEFORE BACKWARD PASS:\n",
      "para_init: No gradient computed\n",
      "Gradients AFTER BACKWARD PASS:\n",
      "Parameter: para_init, Gradient: 2329.980224609375\n",
      "Parameter: para_init, Updated Value: tensor([ 0.0250,  0.0025,  0.1202,  0.0373, -0.0585,  0.2417], device='cuda:0')\n",
      "Loss:  132031299.17054254\n",
      "\n",
      "================================================================================================================\n",
      "loop_id:  81\n"
     ]
    },
    {
     "name": "stderr",
     "output_type": "stream",
     "text": [
      "Optimizing:  82%|████████▏ | 82/100 [01:43<00:22,  1.25s/it, loss=8.92e+7]"
     ]
    },
    {
     "name": "stdout",
     "output_type": "stream",
     "text": [
      "-----------------------------------------------------------------\n",
      "loss_contour:  tensor(22127595.5750, device='cuda:0', dtype=torch.float64)\n",
      "loss_tip_distance:  tensor(0.0703, device='cuda:0', dtype=torch.float64, grad_fn=<MeanBackward0>)\n",
      "motion_model_loss:  tensor(67109000., device='cuda:0')\n",
      "loss:  tensor(89236595.6453, device='cuda:0', dtype=torch.float64,\n",
      "       grad_fn=<AddBackward0>)\n",
      "-----------------------------------------------------------------\n",
      "Gradients BEFORE BACKWARD PASS:\n",
      "para_init: No gradient computed\n",
      "Gradients AFTER BACKWARD PASS:\n",
      "Parameter: para_init, Gradient: 1369.723388671875\n",
      "Parameter: para_init, Updated Value: tensor([ 0.0250,  0.0025,  0.1202,  0.0372, -0.0586,  0.2418], device='cuda:0')\n",
      "Loss:  89236595.64534515\n",
      "\n",
      "================================================================================================================\n",
      "loop_id:  82\n"
     ]
    },
    {
     "name": "stderr",
     "output_type": "stream",
     "text": [
      "Optimizing:  83%|████████▎ | 83/100 [01:44<00:20,  1.23s/it, loss=8.94e+7]"
     ]
    },
    {
     "name": "stdout",
     "output_type": "stream",
     "text": [
      "-----------------------------------------------------------------\n",
      "loss_contour:  tensor(21248197.5975, device='cuda:0', dtype=torch.float64)\n",
      "loss_tip_distance:  tensor(0.0122, device='cuda:0', dtype=torch.float64, grad_fn=<MeanBackward0>)\n",
      "motion_model_loss:  tensor(68150888., device='cuda:0')\n",
      "loss:  tensor(89399085.6097, device='cuda:0', dtype=torch.float64,\n",
      "       grad_fn=<AddBackward0>)\n",
      "-----------------------------------------------------------------\n",
      "Gradients BEFORE BACKWARD PASS:\n",
      "para_init: No gradient computed\n",
      "Gradients AFTER BACKWARD PASS:\n",
      "Parameter: para_init, Gradient: 591.0592651367188\n",
      "Parameter: para_init, Updated Value: tensor([ 0.0250,  0.0025,  0.1202,  0.0372, -0.0586,  0.2419], device='cuda:0')\n",
      "Loss:  89399085.60968442\n",
      "\n",
      "================================================================================================================\n",
      "loop_id:  83\n"
     ]
    },
    {
     "name": "stderr",
     "output_type": "stream",
     "text": [
      "Optimizing:  84%|████████▍ | 84/100 [01:45<00:20,  1.25s/it, loss=9.52e+7]"
     ]
    },
    {
     "name": "stdout",
     "output_type": "stream",
     "text": [
      "-----------------------------------------------------------------\n",
      "loss_contour:  tensor(32427140.8918, device='cuda:0', dtype=torch.float64)\n",
      "loss_tip_distance:  tensor(0.0595, device='cuda:0', dtype=torch.float64, grad_fn=<MeanBackward0>)\n",
      "motion_model_loss:  tensor(62740004., device='cuda:0')\n",
      "loss:  tensor(95167144.9513, device='cuda:0', dtype=torch.float64,\n",
      "       grad_fn=<AddBackward0>)\n",
      "-----------------------------------------------------------------\n",
      "Gradients BEFORE BACKWARD PASS:\n",
      "para_init: No gradient computed\n",
      "Gradients AFTER BACKWARD PASS:\n",
      "Parameter: para_init, Gradient: 1276.0762939453125\n",
      "Parameter: para_init, Updated Value: tensor([ 0.0250,  0.0025,  0.1202,  0.0371, -0.0587,  0.2419], device='cuda:0')\n",
      "Loss:  95167144.95134544\n",
      "\n",
      "================================================================================================================\n",
      "loop_id:  84\n"
     ]
    },
    {
     "name": "stderr",
     "output_type": "stream",
     "text": [
      "Optimizing:  85%|████████▌ | 85/100 [01:46<00:18,  1.23s/it, loss=1.33e+8]"
     ]
    },
    {
     "name": "stdout",
     "output_type": "stream",
     "text": [
      "-----------------------------------------------------------------\n",
      "loss_contour:  tensor(28731572.6949, device='cuda:0', dtype=torch.float64)\n",
      "loss_tip_distance:  tensor(0.1294, device='cuda:0', dtype=torch.float64, grad_fn=<MeanBackward0>)\n",
      "motion_model_loss:  tensor(1.0444e+08, device='cuda:0')\n",
      "loss:  tensor(1.3317e+08, device='cuda:0', dtype=torch.float64,\n",
      "       grad_fn=<AddBackward0>)\n",
      "-----------------------------------------------------------------\n",
      "Gradients BEFORE BACKWARD PASS:\n",
      "para_init: No gradient computed\n",
      "Gradients AFTER BACKWARD PASS:\n",
      "Parameter: para_init, Gradient: 1862.395751953125\n",
      "Parameter: para_init, Updated Value: tensor([ 0.0250,  0.0025,  0.1202,  0.0371, -0.0587,  0.2418], device='cuda:0')\n",
      "Loss:  133167476.82436553\n",
      "\n",
      "================================================================================================================\n",
      "loop_id:  85\n"
     ]
    },
    {
     "name": "stderr",
     "output_type": "stream",
     "text": [
      "Optimizing:  86%|████████▌ | 86/100 [01:48<00:17,  1.22s/it, loss=2.11e+8]"
     ]
    },
    {
     "name": "stdout",
     "output_type": "stream",
     "text": [
      "-----------------------------------------------------------------\n",
      "loss_contour:  tensor(85898784.7967, device='cuda:0', dtype=torch.float64)\n",
      "loss_tip_distance:  tensor(0.1340, device='cuda:0', dtype=torch.float64, grad_fn=<MeanBackward0>)\n",
      "motion_model_loss:  tensor(1.2480e+08, device='cuda:0')\n",
      "loss:  tensor(2.1070e+08, device='cuda:0', dtype=torch.float64,\n",
      "       grad_fn=<AddBackward0>)\n",
      "-----------------------------------------------------------------\n",
      "Gradients BEFORE BACKWARD PASS:\n",
      "para_init: No gradient computed\n",
      "Gradients AFTER BACKWARD PASS:\n",
      "Parameter: para_init, Gradient: 1890.521240234375\n",
      "Parameter: para_init, Updated Value: tensor([ 0.0250,  0.0025,  0.1202,  0.0372, -0.0587,  0.2418], device='cuda:0')\n",
      "Loss:  210700664.93072277\n",
      "\n",
      "================================================================================================================\n",
      "loop_id:  86\n"
     ]
    },
    {
     "name": "stderr",
     "output_type": "stream",
     "text": [
      "Optimizing:  87%|████████▋ | 87/100 [01:49<00:16,  1.25s/it, loss=7.07e+9]"
     ]
    },
    {
     "name": "stdout",
     "output_type": "stream",
     "text": [
      "-----------------------------------------------------------------\n",
      "loss_contour:  tensor(3.5102e+09, device='cuda:0', dtype=torch.float64)\n",
      "loss_tip_distance:  tensor(0.0677, device='cuda:0', dtype=torch.float64, grad_fn=<MeanBackward0>)\n",
      "motion_model_loss:  tensor(3.5627e+09, device='cuda:0')\n",
      "loss:  tensor(7.0729e+09, device='cuda:0', dtype=torch.float64,\n",
      "       grad_fn=<AddBackward0>)\n",
      "-----------------------------------------------------------------\n",
      "Gradients BEFORE BACKWARD PASS:\n",
      "para_init: No gradient computed\n",
      "Gradients AFTER BACKWARD PASS:\n",
      "Parameter: para_init, Gradient: 1345.9744873046875\n",
      "Parameter: para_init, Updated Value: tensor([ 0.0250,  0.0025,  0.1202,  0.0372, -0.0586,  0.2418], device='cuda:0')\n",
      "Loss:  7072889936.352974\n",
      "\n",
      "================================================================================================================\n",
      "loop_id:  87\n"
     ]
    },
    {
     "name": "stderr",
     "output_type": "stream",
     "text": [
      "Optimizing:  88%|████████▊ | 88/100 [01:50<00:14,  1.23s/it, loss=3.11e+9]"
     ]
    },
    {
     "name": "stdout",
     "output_type": "stream",
     "text": [
      "-----------------------------------------------------------------\n",
      "loss_contour:  tensor(14701401.9346, device='cuda:0', dtype=torch.float64)\n",
      "loss_tip_distance:  tensor(0.0073, device='cuda:0', dtype=torch.float64, grad_fn=<MeanBackward0>)\n",
      "motion_model_loss:  tensor(3.0975e+09, device='cuda:0')\n",
      "loss:  tensor(3.1122e+09, device='cuda:0', dtype=torch.float64,\n",
      "       grad_fn=<AddBackward0>)\n",
      "-----------------------------------------------------------------\n",
      "Gradients BEFORE BACKWARD PASS:\n",
      "para_init: No gradient computed\n",
      "Gradients AFTER BACKWARD PASS:\n",
      "Parameter: para_init, Gradient: 449.39324951171875\n",
      "Parameter: para_init, Updated Value: tensor([ 0.0250,  0.0025,  0.1202,  0.0373, -0.0586,  0.2418], device='cuda:0')\n",
      "Loss:  3112201817.9419227\n",
      "\n",
      "================================================================================================================\n",
      "loop_id:  88\n"
     ]
    },
    {
     "name": "stderr",
     "output_type": "stream",
     "text": [
      "Optimizing:  89%|████████▉ | 89/100 [01:51<00:13,  1.24s/it, loss=1.6e+8] "
     ]
    },
    {
     "name": "stdout",
     "output_type": "stream",
     "text": [
      "-----------------------------------------------------------------\n",
      "loss_contour:  tensor(64036848.6572, device='cuda:0', dtype=torch.float64)\n",
      "loss_tip_distance:  tensor(0.0189, device='cuda:0', dtype=torch.float64, grad_fn=<MeanBackward0>)\n",
      "motion_model_loss:  tensor(95587752., device='cuda:0')\n",
      "loss:  tensor(1.5962e+08, device='cuda:0', dtype=torch.float64,\n",
      "       grad_fn=<AddBackward0>)\n",
      "-----------------------------------------------------------------\n",
      "Gradients BEFORE BACKWARD PASS:\n",
      "para_init: No gradient computed\n",
      "Gradients AFTER BACKWARD PASS:\n",
      "Parameter: para_init, Gradient: 710.7019653320312\n",
      "Parameter: para_init, Updated Value: tensor([ 0.0250,  0.0025,  0.1202,  0.0373, -0.0585,  0.2418], device='cuda:0')\n",
      "Loss:  159624600.67606524\n",
      "\n",
      "================================================================================================================\n",
      "loop_id:  89\n"
     ]
    },
    {
     "name": "stderr",
     "output_type": "stream",
     "text": [
      "Optimizing:  90%|█████████ | 90/100 [01:53<00:13,  1.37s/it, loss=3.08e+9]"
     ]
    },
    {
     "name": "stdout",
     "output_type": "stream",
     "text": [
      "-----------------------------------------------------------------\n",
      "loss_contour:  tensor(16780848.1634, device='cuda:0', dtype=torch.float64)\n",
      "loss_tip_distance:  tensor(0.0726, device='cuda:0', dtype=torch.float64, grad_fn=<MeanBackward0>)\n",
      "motion_model_loss:  tensor(3.0665e+09, device='cuda:0')\n",
      "loss:  tensor(3.0833e+09, device='cuda:0', dtype=torch.float64,\n",
      "       grad_fn=<AddBackward0>)\n",
      "-----------------------------------------------------------------\n",
      "Gradients BEFORE BACKWARD PASS:\n",
      "para_init: No gradient computed\n",
      "Gradients AFTER BACKWARD PASS:\n",
      "Parameter: para_init, Gradient: 1392.0126953125\n",
      "Parameter: para_init, Updated Value: tensor([ 0.0250,  0.0025,  0.1202,  0.0373, -0.0585,  0.2418], device='cuda:0')\n",
      "Loss:  3083319600.236038\n",
      "\n",
      "================================================================================================================\n",
      "loop_id:  90\n"
     ]
    },
    {
     "name": "stderr",
     "output_type": "stream",
     "text": [
      "Optimizing:  91%|█████████ | 91/100 [01:54<00:11,  1.33s/it, loss=1.11e+8]"
     ]
    },
    {
     "name": "stdout",
     "output_type": "stream",
     "text": [
      "-----------------------------------------------------------------\n",
      "loss_contour:  tensor(13457871.4552, device='cuda:0', dtype=torch.float64)\n",
      "loss_tip_distance:  tensor(0.0871, device='cuda:0', dtype=torch.float64, grad_fn=<MeanBackward0>)\n",
      "motion_model_loss:  tensor(97330840., device='cuda:0')\n",
      "loss:  tensor(1.1079e+08, device='cuda:0', dtype=torch.float64,\n",
      "       grad_fn=<AddBackward0>)\n",
      "-----------------------------------------------------------------\n",
      "Gradients BEFORE BACKWARD PASS:\n",
      "para_init: No gradient computed\n",
      "Gradients AFTER BACKWARD PASS:\n",
      "Parameter: para_init, Gradient: 1524.1470947265625\n",
      "Parameter: para_init, Updated Value: tensor([ 0.0250,  0.0025,  0.1202,  0.0373, -0.0586,  0.2418], device='cuda:0')\n",
      "Loss:  110788711.54222421\n",
      "\n",
      "================================================================================================================\n",
      "loop_id:  91\n"
     ]
    },
    {
     "name": "stderr",
     "output_type": "stream",
     "text": [
      "Optimizing:  92%|█████████▏| 92/100 [01:56<00:10,  1.33s/it, loss=2.22e+8]"
     ]
    },
    {
     "name": "stdout",
     "output_type": "stream",
     "text": [
      "-----------------------------------------------------------------\n",
      "loss_contour:  tensor(22627182.2242, device='cuda:0', dtype=torch.float64)\n",
      "loss_tip_distance:  tensor(0.0442, device='cuda:0', dtype=torch.float64, grad_fn=<MeanBackward0>)\n",
      "motion_model_loss:  tensor(1.9903e+08, device='cuda:0')\n",
      "loss:  tensor(2.2166e+08, device='cuda:0', dtype=torch.float64,\n",
      "       grad_fn=<AddBackward0>)\n",
      "-----------------------------------------------------------------\n",
      "Gradients BEFORE BACKWARD PASS:\n",
      "para_init: No gradient computed\n",
      "Gradients AFTER BACKWARD PASS:\n",
      "Parameter: para_init, Gradient: 1086.19921875\n",
      "Parameter: para_init, Updated Value: tensor([ 0.0250,  0.0025,  0.1202,  0.0373, -0.0586,  0.2418], device='cuda:0')\n",
      "Loss:  221655438.26842245\n",
      "\n",
      "================================================================================================================\n",
      "loop_id:  92\n"
     ]
    },
    {
     "name": "stderr",
     "output_type": "stream",
     "text": [
      "Optimizing:  93%|█████████▎| 93/100 [01:57<00:08,  1.28s/it, loss=7.1e+7] "
     ]
    },
    {
     "name": "stdout",
     "output_type": "stream",
     "text": [
      "-----------------------------------------------------------------\n",
      "loss_contour:  tensor(20952473.7335, device='cuda:0', dtype=torch.float64)\n",
      "loss_tip_distance:  tensor(0.0045, device='cuda:0', dtype=torch.float64, grad_fn=<MeanBackward0>)\n",
      "motion_model_loss:  tensor(50013452., device='cuda:0')\n",
      "loss:  tensor(70965925.7380, device='cuda:0', dtype=torch.float64,\n",
      "       grad_fn=<AddBackward0>)\n",
      "-----------------------------------------------------------------\n",
      "Gradients BEFORE BACKWARD PASS:\n",
      "para_init: No gradient computed\n",
      "Gradients AFTER BACKWARD PASS:\n",
      "Parameter: para_init, Gradient: 348.9037170410156\n",
      "Parameter: para_init, Updated Value: tensor([ 0.0250,  0.0025,  0.1202,  0.0372, -0.0586,  0.2418], device='cuda:0')\n",
      "Loss:  70965925.73796085\n",
      "\n",
      "================================================================================================================\n",
      "loop_id:  93\n"
     ]
    },
    {
     "name": "stderr",
     "output_type": "stream",
     "text": [
      "Optimizing:  94%|█████████▍| 94/100 [01:58<00:07,  1.24s/it, loss=3.27e+8]"
     ]
    },
    {
     "name": "stdout",
     "output_type": "stream",
     "text": [
      "-----------------------------------------------------------------\n",
      "loss_contour:  tensor(13479797.1136, device='cuda:0', dtype=torch.float64)\n",
      "loss_tip_distance:  tensor(0.0115, device='cuda:0', dtype=torch.float64, grad_fn=<MeanBackward0>)\n",
      "motion_model_loss:  tensor(3.1391e+08, device='cuda:0')\n",
      "loss:  tensor(3.2739e+08, device='cuda:0', dtype=torch.float64,\n",
      "       grad_fn=<AddBackward0>)\n",
      "-----------------------------------------------------------------\n",
      "Gradients BEFORE BACKWARD PASS:\n",
      "para_init: No gradient computed\n",
      "Gradients AFTER BACKWARD PASS:\n",
      "Parameter: para_init, Gradient: 556.9256591796875\n",
      "Parameter: para_init, Updated Value: tensor([ 0.0250,  0.0025,  0.1202,  0.0372, -0.0587,  0.2418], device='cuda:0')\n",
      "Loss:  327386453.1250822\n",
      "\n",
      "================================================================================================================\n",
      "loop_id:  94\n"
     ]
    },
    {
     "name": "stderr",
     "output_type": "stream",
     "text": [
      "Optimizing:  95%|█████████▌| 95/100 [01:59<00:06,  1.26s/it, loss=7.21e+7]"
     ]
    },
    {
     "name": "stdout",
     "output_type": "stream",
     "text": [
      "-----------------------------------------------------------------\n",
      "loss_contour:  tensor(19248498.4697, device='cuda:0', dtype=torch.float64)\n",
      "loss_tip_distance:  tensor(0.0409, device='cuda:0', dtype=torch.float64, grad_fn=<MeanBackward0>)\n",
      "motion_model_loss:  tensor(52824800., device='cuda:0')\n",
      "loss:  tensor(72073298.5106, device='cuda:0', dtype=torch.float64,\n",
      "       grad_fn=<AddBackward0>)\n",
      "-----------------------------------------------------------------\n",
      "Gradients BEFORE BACKWARD PASS:\n",
      "para_init: No gradient computed\n",
      "Gradients AFTER BACKWARD PASS:\n",
      "Parameter: para_init, Gradient: 1044.962890625\n",
      "Parameter: para_init, Updated Value: tensor([ 0.0250,  0.0025,  0.1202,  0.0372, -0.0587,  0.2419], device='cuda:0')\n",
      "Loss:  72073298.51062116\n",
      "\n",
      "================================================================================================================\n",
      "loop_id:  95\n"
     ]
    },
    {
     "name": "stderr",
     "output_type": "stream",
     "text": [
      "Optimizing:  96%|█████████▌| 96/100 [02:00<00:04,  1.24s/it, loss=2.28e+10]"
     ]
    },
    {
     "name": "stdout",
     "output_type": "stream",
     "text": [
      "-----------------------------------------------------------------\n",
      "loss_contour:  tensor(15768794.4071, device='cuda:0', dtype=torch.float64)\n",
      "loss_tip_distance:  tensor(0.0493, device='cuda:0', dtype=torch.float64, grad_fn=<MeanBackward0>)\n",
      "motion_model_loss:  tensor(2.2830e+10, device='cuda:0')\n",
      "loss:  tensor(2.2846e+10, device='cuda:0', dtype=torch.float64,\n",
      "       grad_fn=<AddBackward0>)\n",
      "-----------------------------------------------------------------\n",
      "Gradients BEFORE BACKWARD PASS:\n",
      "para_init: No gradient computed\n",
      "Gradients AFTER BACKWARD PASS:\n",
      "Parameter: para_init, Gradient: 1146.7071533203125\n",
      "Parameter: para_init, Updated Value: tensor([ 0.0250,  0.0025,  0.1202,  0.0372, -0.0586,  0.2419], device='cuda:0')\n",
      "Loss:  22845777114.45638\n",
      "\n",
      "================================================================================================================\n",
      "loop_id:  96\n"
     ]
    },
    {
     "name": "stderr",
     "output_type": "stream",
     "text": [
      "Optimizing:  97%|█████████▋| 97/100 [02:02<00:03,  1.27s/it, loss=7.41e+7] "
     ]
    },
    {
     "name": "stdout",
     "output_type": "stream",
     "text": [
      "-----------------------------------------------------------------\n",
      "loss_contour:  tensor(22069229.7513, device='cuda:0', dtype=torch.float64)\n",
      "loss_tip_distance:  tensor(0.0291, device='cuda:0', dtype=torch.float64, grad_fn=<MeanBackward0>)\n",
      "motion_model_loss:  tensor(51988140., device='cuda:0')\n",
      "loss:  tensor(74057369.7805, device='cuda:0', dtype=torch.float64,\n",
      "       grad_fn=<AddBackward0>)\n",
      "-----------------------------------------------------------------\n",
      "Gradients BEFORE BACKWARD PASS:\n",
      "para_init: No gradient computed\n",
      "Gradients AFTER BACKWARD PASS:\n",
      "Parameter: para_init, Gradient: 886.46533203125\n",
      "Parameter: para_init, Updated Value: tensor([ 0.0250,  0.0025,  0.1202,  0.0372, -0.0586,  0.2419], device='cuda:0')\n",
      "Loss:  74057369.7804935\n",
      "\n",
      "================================================================================================================\n",
      "loop_id:  97\n"
     ]
    },
    {
     "name": "stderr",
     "output_type": "stream",
     "text": [
      "Optimizing:  98%|█████████▊| 98/100 [02:03<00:02,  1.26s/it, loss=1.28e+9]"
     ]
    },
    {
     "name": "stdout",
     "output_type": "stream",
     "text": [
      "-----------------------------------------------------------------\n",
      "loss_contour:  tensor(14275091.9172, device='cuda:0', dtype=torch.float64)\n",
      "loss_tip_distance:  tensor(0.0064, device='cuda:0', dtype=torch.float64, grad_fn=<MeanBackward0>)\n",
      "motion_model_loss:  tensor(1.2625e+09, device='cuda:0')\n",
      "loss:  tensor(1.2768e+09, device='cuda:0', dtype=torch.float64,\n",
      "       grad_fn=<AddBackward0>)\n",
      "-----------------------------------------------------------------\n",
      "Gradients BEFORE BACKWARD PASS:\n",
      "para_init: No gradient computed\n",
      "Gradients AFTER BACKWARD PASS:\n",
      "Parameter: para_init, Gradient: 422.5697937011719\n",
      "Parameter: para_init, Updated Value: tensor([ 0.0250,  0.0025,  0.1202,  0.0373, -0.0586,  0.2418], device='cuda:0')\n",
      "Loss:  1276787603.9235466\n",
      "\n",
      "================================================================================================================\n",
      "loop_id:  98\n"
     ]
    },
    {
     "name": "stderr",
     "output_type": "stream",
     "text": [
      "Optimizing:  99%|█████████▉| 99/100 [02:04<00:01,  1.24s/it, loss=1.21e+8]"
     ]
    },
    {
     "name": "stdout",
     "output_type": "stream",
     "text": [
      "-----------------------------------------------------------------\n",
      "loss_contour:  tensor(40554602.4569, device='cuda:0', dtype=torch.float64)\n",
      "loss_tip_distance:  tensor(0.0050, device='cuda:0', dtype=torch.float64, grad_fn=<MeanBackward0>)\n",
      "motion_model_loss:  tensor(80380160., device='cuda:0')\n",
      "loss:  tensor(1.2093e+08, device='cuda:0', dtype=torch.float64,\n",
      "       grad_fn=<AddBackward0>)\n",
      "-----------------------------------------------------------------\n",
      "Gradients BEFORE BACKWARD PASS:\n",
      "para_init: No gradient computed\n",
      "Gradients AFTER BACKWARD PASS:\n",
      "Parameter: para_init, Gradient: 367.02093505859375\n",
      "Parameter: para_init, Updated Value: tensor([ 0.0250,  0.0025,  0.1202,  0.0373, -0.0586,  0.2418], device='cuda:0')\n",
      "Loss:  120934762.46195066\n",
      "\n",
      "================================================================================================================\n",
      "loop_id:  99\n"
     ]
    },
    {
     "name": "stderr",
     "output_type": "stream",
     "text": [
      "Optimizing: 100%|██████████| 100/100 [02:06<00:00,  1.26s/it, loss=3.45e+9]"
     ]
    },
    {
     "name": "stdout",
     "output_type": "stream",
     "text": [
      "-----------------------------------------------------------------\n",
      "loss_contour:  tensor(14289011.2403, device='cuda:0', dtype=torch.float64)\n",
      "loss_tip_distance:  tensor(0.0217, device='cuda:0', dtype=torch.float64, grad_fn=<MeanBackward0>)\n",
      "motion_model_loss:  tensor(3.4346e+09, device='cuda:0')\n",
      "loss:  tensor(3.4489e+09, device='cuda:0', dtype=torch.float64,\n",
      "       grad_fn=<AddBackward0>)\n",
      "-----------------------------------------------------------------\n",
      "Gradients BEFORE BACKWARD PASS:\n",
      "para_init: No gradient computed\n",
      "Gradients AFTER BACKWARD PASS:\n",
      "Parameter: para_init, Gradient: 762.7896118164062\n",
      "Parameter: para_init, Updated Value: tensor([ 0.0250,  0.0025,  0.1202,  0.0373, -0.0586,  0.2418], device='cuda:0')\n",
      "Loss:  3448926323.2620273\n",
      "Saved para_init to para_init.npy\n",
      "proj_end_effector_loss_history:  [53.25059579962598, 15.383968668087114, 46.208551003956025, 36.769755011211274, 16.945614488069396, 13.856864228899047, 24.231697289083446, 29.074759237067656, 26.28562509973485, 17.631698856928992, 7.530291721687653, 9.370047663514578, 16.982202699423837, 20.699154116242756, 19.588251609883933, 14.34329661418366, 6.389093240852547, 2.403728720717497, 9.813320804971871, 14.074188641439093, 14.475182262089161, 11.616531906668472, 6.978601290939238, 3.3121228478422107, 5.410730416891387, 8.51850436337493, 10.087983731395973, 9.6958388839769, 7.417716010218845, 3.7978056327019516, 1.391371699927523, 4.642752988643792, 7.007333133996459, 7.523974428210238, 6.185726232887028, 3.5191207914012756, 0.861015381726706, 2.8851831081139476, 4.7556504139272935, 5.369869140139076, 4.771987540061606, 3.2950156139356697, 1.561822071270536, 1.6337826683886807, 3.0717286623593445, 3.9094158841662114, 3.741934021059398, 2.600149365554797, 0.8403880831102594, 0.9945209871522648, 2.3727462937666197, 2.957318101843934, 2.6903950805710743, 1.7829884474192064, 0.7347288521555531, 1.0191182543819446, 1.8005495844396349, 2.1436140132554837, 1.940926370421517, 1.2611169274885239, 0.38317231299684756, 0.8110302896798897, 1.4757375750318402, 1.6562048977247503, 1.311862655611087, 0.613813203640641, 0.310069699299556, 0.9014830919459065, 1.2034637183322112, 1.1420274492090858, 0.7917120644599039, 0.33979402771172607, 0.43619306942944475, 0.799972987180287, 0.9353290804225094, 0.7693477472568507, 0.36104124239992724, 0.1361260562137421, 0.5389584268812355, 0.7151780803387441, 0.6351761242534796, 0.3749784602178957, 0.15597375280494316, 0.34506781156021465, 0.5088085607043095, 0.5177324045983752, 0.3680313652581209, 0.12087122881495672, 0.19435203970365567, 0.38114688520359025, 0.41727390222019806, 0.29744865208034754, 0.09466433093802468, 0.15146177824209509, 0.2860744490374566, 0.31391853186219837, 0.2414505530793511, 0.11279453006226266, 0.10006211217700844, 0.20846594091899104]\n"
     ]
    },
    {
     "name": "stderr",
     "output_type": "stream",
     "text": [
      "\n"
     ]
    },
    {
     "data": {
      "image/png": "[encoded data removed]",
      "text/plain": [
       "<Figure size 640x480 with 1 Axes>"
      ]
     },
     "metadata": {},
     "output_type": "display_data"
    },
    {
     "name": "stdout",
     "output_type": "stream",
     "text": [
      "d3d_end_effector_loss_history:  [0.004442799836397171, 0.010480117052793503, 0.008365520276129246, 0.00894069205969572, 0.012126433663070202, 0.01396846305578947, 0.014578871428966522, 0.014924110844731331, 0.01615087501704693, 0.01878742128610611, 0.022434605285525322, 0.026209723204374313, 0.02929006516933441, 0.03122497908771038, 0.032014984637498856, 0.03200871869921684, 0.03173350542783737, 0.03172386810183525, 0.03234032541513443, 0.033654745668172836, 0.03549955040216446, 0.03756202384829521, 0.03947147727012634, 0.04093629866838455, 0.04185495525598526, 0.04231524467468262, 0.042517293244600296, 0.04268014803528786, 0.04296083375811577, 0.04340963065624237, 0.04397685080766678, 0.04456302896142006, 0.0450839065015316, 0.04551541432738304, 0.04589849337935448, 0.04630653187632561, 0.046796150505542755, 0.04736777022480965, 0.04795604199171066, 0.04845402389764786, 0.048761215060949326, 0.048835042864084244, 0.04872008413076401, 0.04853792116045952, 0.048439882695674896, 0.04854224622249603, 0.04887460917234421, 0.04936787858605385, 0.04988674819469452, 0.05028976500034332, 0.05048886314034462, 0.0504811555147171, 0.05034118890762329, 0.05018157139420509, 0.05010177195072174, 0.05014833062887192, 0.050303928554058075, 0.050507597625255585, 0.05069199204444885, 0.0508168525993824, 0.05088183283805847, 0.050915174186229706, 0.05094848573207855, 0.050994664430618286, 0.05104198679327965, 0.051066622138023376, 0.05105402693152428, 0.05101418122649193, 0.050979919731616974, 0.050988730043172836, 0.05105925351381302, 0.05117728188633919, 0.05130070820450783, 0.05138102546334267, 0.05138925462961197, 0.05133149027824402, 0.051245421171188354, 0.051179882138967514, 0.051169253885746, 0.05121709406375885, 0.0512976236641407, 0.05137282982468605, 0.05141394957900047, 0.05141472816467285, 0.05139002948999405, 0.05136289447546005, 0.051349639892578125, 0.051352355629205704, 0.05136219784617424, 0.051369309425354004, 0.05137130990624428, 0.05137420818209648, 0.05138592794537544, 0.05140801891684532, 0.051432352513074875, 0.05144572630524635, 0.05143912509083748, 0.05141500011086464, 0.05138695612549782, 0.05137181654572487]\n"
     ]
    },
    {
     "data": {
      "image/png": "[encoded data removed]",
      "text/plain": [
       "<Figure size 640x480 with 1 Axes>"
      ]
     },
     "metadata": {},
     "output_type": "display_data"
    }
   ],
   "source": [
    "if __name__ == '__main__':\n",
    "    '''\n",
    "    Main function to set up optimzer model and run the optimization loop\n",
    "    '''\n",
    "\n",
    "    ###========================================================\n",
    "    ### 1) SET TO GPU OR CPU COMPUTING\n",
    "    ###========================================================\n",
    "    if torch.cuda.is_available():\n",
    "        gpu_or_cpu = torch.device(\"cuda:0\") \n",
    "        torch.cuda.set_device(gpu_or_cpu)\n",
    "    else:\n",
    "        gpu_or_cpu = torch.device(\"cpu\")\n",
    "\n",
    "    ###========================================================\n",
    "    ### 2) VARIABLES FOR BEZIER CURVE CONSTRUCTION\n",
    "    ###========================================================\n",
    "    # para_init = torch.tensor([0.02, 0.002, 0.0, 0.01958988, 0.00195899, 0.09690406, -0.03142905, -0.0031429, 0.18200866], dtype=torch.float)\n",
    "    # p_start = torch.tensor([0.02, 0.002, 0.0])\n",
    "\n",
    "\n",
    "    # Z axis + 0.1\n",
    "    # para_init = torch.tensor([0.02, 0.002, 0.1, 0.01958988, 0.00195899, 0.09690406, -0.03142905, -0.0031429, 0.18200866], dtype=torch.float)\n",
    "    # p_start = torch.tensor([0.02, 0.002, 0.1000])\n",
    "        \n",
    "    \n",
    "\n",
    "    # p_start and para_init used for SRC presentation\n",
    "    p_start = torch.tensor([0.02, 0.002, 0.000001]) # 0 here will cause NaN in draw2DCylinderImage, pTip\n",
    "    # para_init = np.array([0.0365, 0.0036,  0.1202,  0.0056, -0.0166, 0.1645],\n",
    "    #                  dtype=np.float32)\n",
    "    para_init = np.array([0.025, 0.0025,  0.1202,  0.036, -0.0366, 0.18],\n",
    "                     dtype=np.float32)\n",
    "\n",
    "    # case_naming = '/Users/kobeyang/Downloads/Programming/ECESRIP/diff_catheter/scripts/test_diff_render_catheter_v2/blender_imgs/test_catheter_gt1'\n",
    "    # case_naming = 'E:/OneDrive - UC San Diego/UCSD/Lab/Catheter/diff_catheter/scripts/test_diff_render_catheter_v2/blender_imgs/test_catheter_gt1'\n",
    "    case_naming = 'E:/OneDrive - UC San Diego/UCSD/Lab/Catheter/diff_catheter/data/rendered_images/dof2_64/dof2_c48_0.001_-0.005_0.2_0.01'\n",
    "    img_save_path = case_naming + '.png'\n",
    "    cc_specs_path = case_naming + '_gt.npy'\n",
    "    target_specs_path = None\n",
    "    viewpoint_mode = 1\n",
    "    transparent_mode = 0\n",
    "\n",
    "    '''\n",
    "    Create binary mask of catheter: \n",
    "        1) Grayscale the ref img, \n",
    "        2) threshold the grayscaled img, \n",
    "        3) Creates a binary image by replacing all \n",
    "            pixel values equal to 255 with 1 (leaves\n",
    "            other pixel values unchanged)\n",
    "    '''\n",
    "    # img_ref_rgb = cv2.imread(img_save_path)\n",
    "    # img_ref_gray = cv2.cvtColor(img_ref_rgb, cv2.COLOR_BGR2GRAY)\n",
    "    # (thresh, img_ref_thresh) = cv2.threshold(img_ref_gray, 80, 255, cv2.THRESH_BINARY | cv2.THRESH_OTSU)\n",
    "    # img_ref_binary = np.where(img_ref_thresh == 255, 1, img_ref_thresh)\n",
    "    img_ref_binary = process_image(img_save_path)\n",
    "\n",
    "    # Declare loss history lists to keep track of loss values\n",
    "    proj_end_effector_loss_history = []\n",
    "    d3d_end_effector_loss_history = []\n",
    "    # Ground Truth parameters for catheter used in SRC presentation\n",
    "    para_gt_np = np.load(cc_specs_path)[1:3, :].flatten()\n",
    "    para_gt = torch.tensor(para_gt_np, dtype=torch.float, device=gpu_or_cpu, requires_grad=False)\n",
    "    # para_gt = torch.tensor([0.02003904, 0.0016096, 0.13205799, 0.00489567, -0.03695673, 0.196168896], dtype=torch.float, device=gpu_or_cpu, requires_grad=False)\n",
    "    end_effector_gt = para_gt[3:6]\n",
    "    \n",
    "    folder_path = 'E:/OneDrive - UC San Diego/UCSD/Lab/Catheter/diff_catheter/data/rendered_images/dof2_64/'\n",
    "    image_save_path_list = [\n",
    "    folder_path + 'dof2_c47_0.0005_0.005_0.2_0.01.png',\n",
    "    folder_path + 'dof2_c46_0.0005_0.001_0.2_0.01.png',\n",
    "    folder_path + 'dof2_c45_0.0005_0.0005_0.2_0.01.png'\n",
    "    ]\n",
    "    \n",
    "    past_frames_list = []\n",
    "    for path in image_save_path_list:\n",
    "        past_frames_list.append(process_image(path))\n",
    "    \n",
    "    delta_u_list = [[0.0005, -0.01], [0, 0.004], [0, 0.0005]]\n",
    "\n",
    "    \n",
    "\n",
    "\n",
    "    ###========================================================\n",
    "    ### 3) SET UP AND RUN OPTIMIZATION MODEL\n",
    "    ###========================================================\n",
    "    catheter_optimize_model = ReconstructionOptimizer(p_start, para_init, img_ref_binary, gpu_or_cpu, past_frames_list, delta_u_list, img_save_path, image_save_path_list).to(gpu_or_cpu)\n",
    "\n",
    "    print(\"Model Parameters:\")\n",
    "    for name, param in catheter_optimize_model.named_parameters():\n",
    "        print(f\"{name}: requires_grad={param.requires_grad}\")\n",
    "\n",
    "    optimizer = torch.optim.Adam(catheter_optimize_model.parameters(), lr=1e-2)\n",
    "\n",
    "    # Run the optimization loop\n",
    "    num_iterations = 100\n",
    "    loop = tqdm(range(num_iterations))\n",
    "    for loop_id in loop:\n",
    "        print(\"\\n================================================================================================================\")\n",
    "        print(\"loop_id: \", loop_id)\n",
    "\n",
    "\n",
    "        # save_img_path = '/Users/kobeyang/Downloads/Programming/ECESRIP/diff_catheter/scripts/test_diff_render_catheter_v2/rendered_imgs/' \\\n",
    "        #     + 'render_' + str(loop_id) + '.jpg'\n",
    "            \n",
    "        save_img_path = 'E:/OneDrive - UC San Diego/UCSD/Lab/Catheter/diff_catheter/scripts/test_diff_render_catheter_v2/rendered_imgs_new/' \\\n",
    "            + 'render_' + str(loop_id) + '.jpg'\n",
    "\n",
    "        # pdb.set_trace()\n",
    "\n",
    "        # Zero the gradients before running the backward pass.\n",
    "        optimizer.zero_grad()\n",
    "\n",
    "        # Run the forward pass\n",
    "        loss = catheter_optimize_model(save_img_path)\n",
    "\n",
    "        # Print gradients for all parameters before backward pass\n",
    "        print(\"Gradients BEFORE BACKWARD PASS:\")\n",
    "        for name, param in catheter_optimize_model.named_parameters():\n",
    "            if param.grad is not None:\n",
    "                print(f\"Parameter: {name}, Gradient: {param.grad.norm().item()}\")  # Print the norm of the gradient\n",
    "            else:\n",
    "                print(f\"{name}: No gradient computed\")\n",
    "\n",
    "        # Run the backward pass\n",
    "        loss.backward(retain_graph=True)\n",
    "\n",
    "        # Print gradients for all parameters after backward pass\n",
    "        print(\"Gradients AFTER BACKWARD PASS:\")\n",
    "        for name, param in catheter_optimize_model.named_parameters():\n",
    "            if param.grad is not None:\n",
    "                print(f\"Parameter: {name}, Gradient: {param.grad.norm().item()}\")\n",
    "            else:\n",
    "                print(f\"{name}: No gradient computed\")\n",
    "\n",
    "        # Update the parameters\n",
    "        optimizer.step()\n",
    "\n",
    "\n",
    "        # Print and inspect the updated parameters\n",
    "        for name, param in catheter_optimize_model.named_parameters():\n",
    "            print(f\"Parameter: {name}, Updated Value: {param.data}\")\n",
    "\n",
    "\n",
    "        # end_effector_loss_history.append(torch.norm((catheter_optimize_model.para_init[3:6] - end_effector_gt), p=2).item())\n",
    "        proj_end_effector_loss_history.append(catheter_optimize_model.tip_euclidean_distance_loss.item())\n",
    "        d3d_end_effector_loss_history.append(torch.norm((catheter_optimize_model.para_init[3:6] - end_effector_gt), p=2).item())\n",
    "\n",
    "        # Update the progress bar\n",
    "        loop.set_description('Optimizing')\n",
    "\n",
    "        # Update the loss\n",
    "        loop.set_postfix(loss=loss.item())\n",
    "\n",
    "        print(\"Loss: \", loss.item())\n",
    "\n",
    "\n",
    "    for name, param in catheter_optimize_model.named_parameters():\n",
    "        param_numpy = param.data.cpu().numpy()\n",
    "        filename = f\"{name}.npy\"\n",
    "        np.save(filename, param_numpy)\n",
    "        print(f\"Saved {name} to {filename}\")\n",
    "\n",
    "    # Given array of values proj_end_effector_loss_history, create plot of loss vs. iterations\n",
    "    iterations_x_axis_proj = list(range(len(proj_end_effector_loss_history)))\n",
    "    print(\"proj_end_effector_loss_history: \", proj_end_effector_loss_history)\n",
    "    fig1 = plt.figure()\n",
    "    ax1 = fig1.add_subplot(111)\n",
    "    fig1.suptitle('2D Tip Euclidean Distance Loss History')\n",
    "    ax1.plot(iterations_x_axis_proj, proj_end_effector_loss_history)\n",
    "    ax1.set_xlabel('Iterations')\n",
    "    ax1.set_ylabel('Euclidean Distance Loss (Pixels)')\n",
    "    ax1.set_xlim([0, len(proj_end_effector_loss_history)])\n",
    "    ax1.set_ylim([0, 80])\n",
    "    ax1.grid(True)\n",
    "    plt.show()\n",
    "\n",
    "\n",
    "    # Given array of values d3d_end_effector_loss_history, create plot of 3d loss vs. iterations\n",
    "    iterations_x_axis_3d = list(range(len(d3d_end_effector_loss_history)))\n",
    "    print(\"d3d_end_effector_loss_history: \", d3d_end_effector_loss_history)\n",
    "    fig2 = plt.figure()\n",
    "    ax2 = fig2.add_subplot(111)\n",
    "    fig2.suptitle('3D Tip Euclidean Distance Loss History')\n",
    "    ax2.plot(iterations_x_axis_3d, d3d_end_effector_loss_history)\n",
    "    ax2.set_xlabel('Iterations')\n",
    "    ax2.set_ylabel('Euclidean Distance Loss (m)')\n",
    "    ax2.set_xlim([0, len(d3d_end_effector_loss_history)])\n",
    "    ax2.set_ylim([0, 0.05])\n",
    "    ax2.grid(True)\n",
    "    plt.show()"
   ]
  },
  {
   "cell_type": "code",
   "execution_count": 16,
   "metadata": {},
   "outputs": [
    {
     "name": "stdout",
     "output_type": "stream",
     "text": [
      "proj_end_effector_loss_history:  [53.25059579962598, 15.383968668087114, 46.208551003956025, 36.769755011211274, 16.945614488069396, 13.856864228899047, 24.231697289083446, 29.074759237067656, 26.28562509973485, 17.631698856928992, 7.530291721687653, 9.370047663514578, 16.982202699423837, 20.699154116242756, 19.588251609883933, 14.34329661418366, 6.389093240852547, 2.403728720717497, 9.813320804971871, 14.074188641439093, 14.475182262089161, 11.616531906668472, 6.978601290939238, 3.3121228478422107, 5.410730416891387, 8.51850436337493, 10.087983731395973, 9.6958388839769, 7.417716010218845, 3.7978056327019516, 1.391371699927523, 4.642752988643792, 7.007333133996459, 7.523974428210238, 6.185726232887028, 3.5191207914012756, 0.861015381726706, 2.8851831081139476, 4.7556504139272935, 5.369869140139076, 4.771987540061606, 3.2950156139356697, 1.561822071270536, 1.6337826683886807, 3.0717286623593445, 3.9094158841662114, 3.741934021059398, 2.600149365554797, 0.8403880831102594, 0.9945209871522648, 2.3727462937666197, 2.957318101843934, 2.6903950805710743, 1.7829884474192064, 0.7347288521555531, 1.0191182543819446, 1.8005495844396349, 2.1436140132554837, 1.940926370421517, 1.2611169274885239, 0.38317231299684756, 0.8110302896798897, 1.4757375750318402, 1.6562048977247503, 1.311862655611087, 0.613813203640641, 0.310069699299556, 0.9014830919459065, 1.2034637183322112, 1.1420274492090858, 0.7917120644599039, 0.33979402771172607, 0.43619306942944475, 0.799972987180287, 0.9353290804225094, 0.7693477472568507, 0.36104124239992724, 0.1361260562137421, 0.5389584268812355, 0.7151780803387441, 0.6351761242534796, 0.3749784602178957, 0.15597375280494316, 0.34506781156021465, 0.5088085607043095, 0.5177324045983752, 0.3680313652581209, 0.12087122881495672, 0.19435203970365567, 0.38114688520359025, 0.41727390222019806, 0.29744865208034754, 0.09466433093802468, 0.15146177824209509, 0.2860744490374566, 0.31391853186219837, 0.2414505530793511, 0.11279453006226266, 0.10006211217700844, 0.20846594091899104]\n"
     ]
    },
    {
     "data": {
      "image/png": "[encoded data removed]",
      "text/plain": [
       "<Figure size 640x480 with 1 Axes>"
      ]
     },
     "metadata": {},
     "output_type": "display_data"
    },
    {
     "name": "stdout",
     "output_type": "stream",
     "text": [
      "d3d_end_effector_loss_history:  [0.004442799836397171, 0.010480117052793503, 0.008365520276129246, 0.00894069205969572, 0.012126433663070202, 0.01396846305578947, 0.014578871428966522, 0.014924110844731331, 0.01615087501704693, 0.01878742128610611, 0.022434605285525322, 0.026209723204374313, 0.02929006516933441, 0.03122497908771038, 0.032014984637498856, 0.03200871869921684, 0.03173350542783737, 0.03172386810183525, 0.03234032541513443, 0.033654745668172836, 0.03549955040216446, 0.03756202384829521, 0.03947147727012634, 0.04093629866838455, 0.04185495525598526, 0.04231524467468262, 0.042517293244600296, 0.04268014803528786, 0.04296083375811577, 0.04340963065624237, 0.04397685080766678, 0.04456302896142006, 0.0450839065015316, 0.04551541432738304, 0.04589849337935448, 0.04630653187632561, 0.046796150505542755, 0.04736777022480965, 0.04795604199171066, 0.04845402389764786, 0.048761215060949326, 0.048835042864084244, 0.04872008413076401, 0.04853792116045952, 0.048439882695674896, 0.04854224622249603, 0.04887460917234421, 0.04936787858605385, 0.04988674819469452, 0.05028976500034332, 0.05048886314034462, 0.0504811555147171, 0.05034118890762329, 0.05018157139420509, 0.05010177195072174, 0.05014833062887192, 0.050303928554058075, 0.050507597625255585, 0.05069199204444885, 0.0508168525993824, 0.05088183283805847, 0.050915174186229706, 0.05094848573207855, 0.050994664430618286, 0.05104198679327965, 0.051066622138023376, 0.05105402693152428, 0.05101418122649193, 0.050979919731616974, 0.050988730043172836, 0.05105925351381302, 0.05117728188633919, 0.05130070820450783, 0.05138102546334267, 0.05138925462961197, 0.05133149027824402, 0.051245421171188354, 0.051179882138967514, 0.051169253885746, 0.05121709406375885, 0.0512976236641407, 0.05137282982468605, 0.05141394957900047, 0.05141472816467285, 0.05139002948999405, 0.05136289447546005, 0.051349639892578125, 0.051352355629205704, 0.05136219784617424, 0.051369309425354004, 0.05137130990624428, 0.05137420818209648, 0.05138592794537544, 0.05140801891684532, 0.051432352513074875, 0.05144572630524635, 0.05143912509083748, 0.05141500011086464, 0.05138695612549782, 0.05137181654572487]\n"
     ]
    },
    {
     "data": {
      "image/png": "[encoded data removed]",
      "text/plain": [
       "<Figure size 640x480 with 1 Axes>"
      ]
     },
     "metadata": {},
     "output_type": "display_data"
    }
   ],
   "source": [
    "# Given array of values proj_end_effector_loss_history, create plot of loss vs. iterations\n",
    "iterations_x_axis_proj = list(range(len(proj_end_effector_loss_history)))\n",
    "print(\"proj_end_effector_loss_history: \", proj_end_effector_loss_history)\n",
    "fig1 = plt.figure()\n",
    "ax1 = fig1.add_subplot(111)\n",
    "fig1.suptitle('2D Tip Euclidean Distance Loss History')\n",
    "ax1.plot(iterations_x_axis_proj, proj_end_effector_loss_history)\n",
    "ax1.set_xlabel('Iterations')\n",
    "ax1.set_ylabel('Euclidean Distance Loss (Pixels)')\n",
    "ax1.set_xlim([0, len(proj_end_effector_loss_history)])\n",
    "# ax1.set_ylim([0, 80])\n",
    "ax1.grid(True)\n",
    "plt.show()\n",
    "\n",
    "\n",
    "# Given array of values d3d_end_effector_loss_history, create plot of 3d loss vs. iterations\n",
    "iterations_x_axis_3d = list(range(len(d3d_end_effector_loss_history)))\n",
    "print(\"d3d_end_effector_loss_history: \", d3d_end_effector_loss_history)\n",
    "fig2 = plt.figure()\n",
    "ax2 = fig2.add_subplot(111)\n",
    "fig2.suptitle('3D Tip Euclidean Distance Loss History')\n",
    "ax2.plot(iterations_x_axis_3d, d3d_end_effector_loss_history)\n",
    "ax2.set_xlabel('Iterations')\n",
    "ax2.set_ylabel('Euclidean Distance Loss (m)')\n",
    "ax2.set_xlim([0, len(d3d_end_effector_loss_history)])\n",
    "# ax2.set_ylim([0, 0.05])\n",
    "ax2.grid(True)\n",
    "plt.show()"
   ]
  }
 ],
 "metadata": {
  "kernelspec": {
   "display_name": "catheter",
   "language": "python",
   "name": "python3"
  },
  "language_info": {
   "codemirror_mode": {
    "name": "ipython",
    "version": 3
   },
   "file_extension": ".py",
   "mimetype": "text/x-python",
   "name": "python",
   "nbconvert_exporter": "python",
   "pygments_lexer": "ipython3",
   "version": "3.8.19"
  }
 },
 "nbformat": 4,
 "nbformat_minor": 2
}
