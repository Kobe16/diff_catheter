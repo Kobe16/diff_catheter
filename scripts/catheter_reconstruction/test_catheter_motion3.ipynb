{
 "cells": [
  {
   "cell_type": "markdown",
   "metadata": {},
   "source": [
    "File used to test the accuracy of inverse solution of the motion model used in reconstruction (scripts\\catheter_reconstruction\\catheter_motion_tensor.py, scripts\\catheter_reconstruction\\bezier_interspace_transforms_tensor.py) "
   ]
  },
  {
   "cell_type": "code",
   "execution_count": 1,
   "metadata": {},
   "outputs": [],
   "source": [
    "import numpy as np\n",
    "import torch\n",
    "\n",
    "from bezier_interspace_transforms_tensor import tendon_disp_to_bezier_control_points, bezier_control_points_to_tendon_disp\n",
    "from catheter_motion_tensor import CatheterMotion"
   ]
  },
  {
   "cell_type": "code",
   "execution_count": 2,
   "metadata": {},
   "outputs": [],
   "source": [
    "if torch.cuda.is_available():\n",
    "        gpu_or_cpu = torch.device(\"cuda:0\") \n",
    "        torch.cuda.set_device(gpu_or_cpu)\n",
    "else:\n",
    "    gpu_or_cpu = torch.device(\"cpu\")\n",
    "\n",
    "p0 = torch.tensor([0.02, 0.002, 0.000001]).to(gpu_or_cpu)\n",
    "para_init = torch.tensor([0.034, -0.01, 0.536, 0.2, -0.37, 0.6]).to(gpu_or_cpu)\n",
    "delta_u_list = torch.tensor([[0, -0.0002], [0, -0.0002], [0, -0.0002], [0, -0.0002]]).to(gpu_or_cpu)\n",
    "\n",
    "catheterMotion = CatheterMotion(p0, gpu_or_cpu, l=0.2, r=0.01)\n",
    "predicted_paras = catheterMotion.past_frames_prediction(delta_u_list, para_init)"
   ]
  },
  {
   "cell_type": "code",
   "execution_count": 3,
   "metadata": {},
   "outputs": [],
   "source": [
    "p_0_h = torch.tensor([0.02, 0.002, 0.000001, 1]).to(gpu_or_cpu)\n",
    "l = 0.2\n",
    "r = 0.01\n",
    "ux = torch.tensor(0.003).to(gpu_or_cpu)\n",
    "uy = torch.tensor(0.002).to(gpu_or_cpu)"
   ]
  },
  {
   "cell_type": "code",
   "execution_count": 4,
   "metadata": {},
   "outputs": [
    {
     "name": "stdout",
     "output_type": "stream",
     "text": [
      "0.002906977664679289 0.0019379849545657635\n",
      "ux: 0.0030, uy: 0.0020 -> ux_solve: 0.0029, uy_solve: 0.0019, ux_error: 3.10%, uy_error: 3.10%\n"
     ]
    }
   ],
   "source": [
    "p1, p2 = tendon_disp_to_bezier_control_points(ux, uy, l, r, p_0_h, gpu_or_cpu)\n",
    "ux_solve, uy_solve = bezier_control_points_to_tendon_disp(p_0_h, p1, p2, l, r, gpu_or_cpu)\n",
    "\n",
    "ux_solve = ux_solve.item()\n",
    "uy_solve = uy_solve.item()\n",
    "print(ux_solve, uy_solve)\n",
    "\n",
    "ux_error = abs((ux_solve - ux) / ux) * 100 if ux != 0 else 0\n",
    "uy_error = abs((uy_solve - uy) / uy) * 100 if uy != 0 else 0\n",
    "print(f\"ux: {ux:.4f}, uy: {uy:.4f} -> ux_solve: {ux_solve:.4f}, uy_solve: {uy_solve:.4f}, ux_error: {ux_error:.2f}%, uy_error: {uy_error:.2f}%\")"
   ]
  }
 ],
 "metadata": {
  "kernelspec": {
   "display_name": "catheter2",
   "language": "python",
   "name": "python3"
  },
  "language_info": {
   "codemirror_mode": {
    "name": "ipython",
    "version": 3
   },
   "file_extension": ".py",
   "mimetype": "text/x-python",
   "name": "python",
   "nbconvert_exporter": "python",
   "pygments_lexer": "ipython3",
   "version": "3.8.19"
  }
 },
 "nbformat": 4,
 "nbformat_minor": 2
}
