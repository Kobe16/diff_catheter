{
 "cells": [
  {
   "cell_type": "markdown",
   "metadata": {},
   "source": [
    "New version of reconstruction script.\n",
    "\n",
    "With tip loss of the original frame, without contour loss of the original frame.\n",
    "\n",
    "With motion model loss, but the parameter is detached. "
   ]
  },
  {
   "cell_type": "code",
   "execution_count": 1,
   "metadata": {},
   "outputs": [
    {
     "name": "stderr",
     "output_type": "stream",
     "text": [
      "d:\\Programs\\miniconda3\\envs\\catheter\\lib\\site-packages\\tqdm\\auto.py:21: TqdmWarning: IProgress not found. Please update jupyter and ipywidgets. See https://ipywidgets.readthedocs.io/en/stable/user_install.html\n",
      "  from .autonotebook import tqdm as notebook_tqdm\n"
     ]
    },
    {
     "name": "stdout",
     "output_type": "stream",
     "text": [
      "Camera Intrinsics:\n",
      "[[883.00220751   0.         320.        ]\n",
      " [  0.         883.00220751 240.        ]\n",
      " [  0.           0.           1.        ]]\n",
      "Camera Extrinsics:\n",
      "[[-1.00000000e+00 -1.22464680e-16  1.49975978e-32  0.00000000e+00]\n",
      " [-1.22464680e-16  1.00000000e+00 -1.22464680e-16  0.00000000e+00]\n",
      " [ 0.00000000e+00 -1.22464680e-16 -1.00000000e+00  0.00000000e+00]\n",
      " [ 0.00000000e+00  0.00000000e+00  0.00000000e+00  1.00000000e+00]]\n"
     ]
    }
   ],
   "source": [
    "\"\"\"\n",
    "File that runs the actual reconstruction optimizer forward pass. \n",
    "It should compute 3 loss functions: contour chamfer loss, tip distance \n",
    "loss, and motion model loss. In its forward pass, it will call upon \n",
    "the construction_bezier and motion_catheter scripts to build its \n",
    "catheters. It will be optimizing the parameter para_init. \n",
    "\"\"\"\n",
    "import sys\n",
    "sys.path.append('..')\n",
    "sys.path.insert(1, 'E:/OneDrive - UC San Diego/UCSD/Lab/Catheter/diff_catheter/scripts')\n",
    "\n",
    "import torch\n",
    "import torch.nn as nn\n",
    "import cv2\n",
    "# from tqdm.notebook import tqdm\n",
    "from tqdm.auto import tqdm\n",
    "import numpy as np\n",
    "import matplotlib.pyplot as plt\n",
    "\n",
    "from construction_bezier import ConstructionBezier\n",
    "from loss_define import (\n",
    "    ContourChamferLoss, \n",
    "    TipDistanceLoss, \n",
    "    ImageContourChamferLoss, \n",
    "    GenerateRefData\n",
    ")\n",
    "\n",
    "from catheter_motion import CatheterMotion\n",
    "\n",
    "from mpl_toolkits.mplot3d import Axes3D\n",
    "\n",
    "\n",
    "class ReconstructionOptimizer(nn.Module): \n",
    "\n",
    "    def __init__(self, p_start, para_init, image_ref, gpu_or_cpu, past_frames_list, delta_u_list, img_save_path, image_save_path_list): \n",
    "        '''\n",
    "        This function initializes the catheter optimization model.\n",
    "\n",
    "        Args:\n",
    "            p_start (tensor): starting point of the catheter\n",
    "            image_ref (numpy array): reference image to compare to\n",
    "            gpu_or_cpu (str): either 'cuda' or 'cpu'\n",
    "        '''\n",
    "        super().__init__()\n",
    "\n",
    "        self.build_bezier = ConstructionBezier(radius=0.0015)\n",
    "        self.build_bezier.to(gpu_or_cpu)\n",
    "        self.build_bezier.loadRawImage(img_save_path)\n",
    "\n",
    "        self.contour_chamfer_loss = ContourChamferLoss(device=gpu_or_cpu)\n",
    "        self.contour_chamfer_loss.to(gpu_or_cpu)\n",
    "        self.tip_distance_loss = TipDistanceLoss(device=gpu_or_cpu)\n",
    "        self.tip_distance_loss.to(gpu_or_cpu)\n",
    "        self.image_contour_chamfer_loss = ImageContourChamferLoss(device=gpu_or_cpu)\n",
    "        self.image_contour_chamfer_loss.to(gpu_or_cpu)\n",
    "        \n",
    "        # Declare self.tip_euclidean_distance_loss as a variable that'll hold a single numpy scalar value\n",
    "        self.tip_euclidean_distance_loss = None\n",
    "        self.tip_loss = None\n",
    "\n",
    "        self.p_start = p_start.to(gpu_or_cpu).detach()\n",
    "        self.para_init = nn.Parameter(torch.from_numpy(para_init).to(gpu_or_cpu),\n",
    "                                      requires_grad=True)\n",
    "        \n",
    "        \n",
    "        image_ref = torch.from_numpy(image_ref.astype(np.float32))\n",
    "        self.register_buffer('image_ref', image_ref)\n",
    "        \n",
    "        # Generate reference data, so you don't need to generate it in every forward pass\n",
    "        self.generate_ref_data = GenerateRefData(self.image_ref)\n",
    "        ref_catheter_contour = self.generate_ref_data.get_raw_contour()\n",
    "        # self.register_buffer('ref_catheter_contour', ref_catheter_contour)\n",
    "        self.ref_catheter_contour = ref_catheter_contour\n",
    "        ref_catheter_centerline = self.generate_ref_data.get_raw_centerline()\n",
    "        # self.register_buffer('ref_catheter_centerline', ref_catheter_centerline)\n",
    "        self.ref_catheter_centerline = ref_catheter_centerline\n",
    "        \n",
    "        # self.register_buffer('delta_u_list', delta_u_list)\n",
    "        self.delta_u_list = delta_u_list\n",
    "        # self.register_buffer('past_frames_list', past_frames_list)\n",
    "        # self.register_buffer('image_save_path_list', image_save_path_list)\n",
    "        self.image_save_path_list = image_save_path_list\n",
    "        \n",
    "        # Generate reference data for past frames\n",
    "        contour_list = []\n",
    "        centerline_list = []\n",
    "        for image in past_frames_list:\n",
    "            image = torch.from_numpy(image.astype(np.float32))\n",
    "            generate_ref_data = GenerateRefData(image)\n",
    "            ref_catheter_contour = generate_ref_data.get_raw_contour()\n",
    "            ref_catheter_centerline = generate_ref_data.get_raw_centerline()\n",
    "            contour_list.append(ref_catheter_contour)\n",
    "            centerline_list.append(ref_catheter_centerline)\n",
    "        # self.register_buffer('contour_list', torch.stack(contour_list))\n",
    "        # self.register_buffer('centerline_list', torch.stack(centerline_list))\n",
    "        self.contour_list = contour_list\n",
    "        self.centerline_list = centerline_list\n",
    "        \n",
    "        self.gpu_or_cpu = gpu_or_cpu\n",
    "\n",
    "    def forward(self, save_img_path): \n",
    "        '''\n",
    "        Function to run forward pass of the catheter optimization model.\n",
    "        Creates catheter model, gets projection onto 2d image, and calculates loss.\n",
    "\n",
    "        Args:\n",
    "            save_img_path (str): path to save the projection image to\n",
    "        '''\n",
    "\n",
    "        # print('hello')\n",
    "        \n",
    "        # Generate the Bezier curve cylinder mesh points\n",
    "        self.build_bezier.getBezierCurveCylinder(self.p_start, self.para_init)\n",
    "\n",
    "        # Get 2d projected Bezier Cylinder mesh points\n",
    "        self.build_bezier.getCylinderMeshProjImg()\n",
    "\n",
    "        # Get 2d projected Bezier centerline (position) points\n",
    "        self.build_bezier.getBezierProjImg()\n",
    "\n",
    "        loss_contour = self.contour_chamfer_loss(self.build_bezier.bezier_proj_img.to(self.gpu_or_cpu), self.ref_catheter_contour.to(self.gpu_or_cpu))\n",
    "\n",
    "        loss_tip_distance, self.tip_euclidean_distance_loss = self.tip_distance_loss(self.build_bezier.bezier_proj_centerline_img.to(self.gpu_or_cpu), self.ref_catheter_centerline.to(self.gpu_or_cpu))\n",
    "        \n",
    "        p0 = self.p_start.detach().cpu().numpy()\n",
    "        para_init = self.para_init.detach().cpu().numpy()\n",
    "        catheterMotion = CatheterMotion(p0, l=0.2, r=0.01)\n",
    "        predicted_paras = catheterMotion.past_frames_prediction(self.delta_u_list, para_init)\n",
    "        motion_model_loss = torch.tensor(0.0).to(self.gpu_or_cpu)\n",
    "        for i in range(len(predicted_paras)):\n",
    "            construction_bezier = ConstructionBezier()\n",
    "            construction_bezier.to(self.gpu_or_cpu)\n",
    "            construction_bezier.loadRawImage(self.image_save_path_list[i])\n",
    "            construction_bezier.getBezierCurveCylinder(self.p_start, torch.from_numpy(predicted_paras[i]).to(self.gpu_or_cpu))\n",
    "            construction_bezier.getCylinderMeshProjImg()\n",
    "            construction_bezier.getBezierProjImg()\n",
    "            # build_bezier.draw2DCylinderImage(self.past_frames_list[i], save_img_path_list[i])\n",
    "            \n",
    "            loss_contour_m = self.contour_chamfer_loss(construction_bezier.bezier_proj_img.to(self.gpu_or_cpu), self.contour_list[i].to(self.gpu_or_cpu))\n",
    "             \n",
    "            # motion_model_loss += loss_contour_m.to(self.gpu_or_cpu)\n",
    "            \n",
    "            loss_tip_distance_m, self.tip_loss = self.tip_distance_loss(construction_bezier.bezier_proj_centerline_img.to(self.gpu_or_cpu), self.centerline_list[i].to(self.gpu_or_cpu)) \n",
    "            weight_m = torch.tensor([1.0, 1.0]).to(self.gpu_or_cpu)\n",
    "            loss_m = loss_contour_m.to(self.gpu_or_cpu) * weight_m[0] + loss_tip_distance_m.to(self.gpu_or_cpu) * weight_m[1]\n",
    "            motion_model_loss += loss_m.to(self.gpu_or_cpu)\n",
    "            \n",
    "        \n",
    "        weight = torch.tensor([1.0, 1.0, 1.0]).to(self.gpu_or_cpu)\n",
    "        # weight = torch.tensor([1.0e-5, 1.0, 1.0e-6]).to(self.gpu_or_cpu)\n",
    "        # loss = loss_contour.to(self.gpu_or_cpu) * weight[0] + loss_tip_distance.to(self.gpu_or_cpu) * weight[1] + motion_model_loss * weight[2]\n",
    "        loss = loss_tip_distance.to(self.gpu_or_cpu) * weight[1] + motion_model_loss * weight[2]\n",
    "        \n",
    "        self.build_bezier.draw2DCylinderImage(self.image_ref, save_img_path)\n",
    "\n",
    "\n",
    "        print(\"-----------------------------------------------------------------\")\n",
    "        print(\"loss_contour: \", loss_contour)\n",
    "        # print(\"loss_tip: \", loss_tip)\n",
    "        # print(\"loss_boundary: \", loss_boundary)\n",
    "        print(\"loss_tip_distance: \", loss_tip_distance)\n",
    "        # print(\"loss_boundary_point_distance_loss: \", loss_boundary_point_distance_loss)\n",
    "        print(\"motion_model_loss: \", motion_model_loss)\n",
    "        print(\"loss: \", loss)\n",
    "        print(\"-----------------------------------------------------------------\")\n",
    "\n",
    "\n",
    "        # TODO: Plot the loss\n",
    "\n",
    "        return loss\n",
    "    \n",
    "\n",
    "\n",
    "\n"
   ]
  },
  {
   "cell_type": "code",
   "execution_count": 2,
   "metadata": {},
   "outputs": [],
   "source": [
    "def process_image(img_save_path):\n",
    "    img_ref_rgb = cv2.imread(img_save_path)\n",
    "    img_ref_gray = cv2.cvtColor(img_ref_rgb, cv2.COLOR_BGR2GRAY)\n",
    "    (thresh, img_ref_thresh) = cv2.threshold(img_ref_gray, 10, 255, cv2.THRESH_BINARY)\n",
    "    img_ref_binary = np.where(img_ref_thresh == 255, 1, img_ref_thresh)\n",
    "    \n",
    "    return img_ref_binary"
   ]
  },
  {
   "cell_type": "code",
   "execution_count": 3,
   "metadata": {},
   "outputs": [],
   "source": [
    "def read_gt_params(cc_specs_path):\n",
    "    \"\"\"\n",
    "    The order of gt: [p_start, p_end, c1, c2]\n",
    "    \"\"\"\n",
    "    \n",
    "    para_gt_np = np.load(cc_specs_path)\n",
    "    matrix = np.squeeze(para_gt_np)\n",
    "    c1 = matrix[2]\n",
    "    c2 = matrix[3]\n",
    "    p_start = matrix[0]\n",
    "    p_end = matrix[1]\n",
    "    p_mid = 3/4 * (c1 + p_end/3)\n",
    "    p1 = 2*p_mid - 0.5*p_start - 0.5*p_end\n",
    "    result_vector = np.concatenate((p1, p_end))\n",
    "    return result_vector "
   ]
  },
  {
   "cell_type": "code",
   "execution_count": 4,
   "metadata": {},
   "outputs": [
    {
     "name": "stdout",
     "output_type": "stream",
     "text": [
      "Model Parameters:\n",
      "para_init: requires_grad=True\n"
     ]
    },
    {
     "name": "stderr",
     "output_type": "stream",
     "text": [
      "  0%|          | 0/100 [00:00<?, ?it/s]"
     ]
    },
    {
     "name": "stdout",
     "output_type": "stream",
     "text": [
      "\n",
      "================================================================================================================\n",
      "loop_id:  0\n"
     ]
    },
    {
     "name": "stderr",
     "output_type": "stream",
     "text": [
      "Optimizing:   1%|          | 1/100 [00:01<02:20,  1.42s/it, loss=6.33e+7]"
     ]
    },
    {
     "name": "stdout",
     "output_type": "stream",
     "text": [
      "-----------------------------------------------------------------\n",
      "loss_contour:  tensor(69079267.4932, device='cuda:0', dtype=torch.float64,\n",
      "       grad_fn=<AddBackward0>)\n",
      "loss_tip_distance:  tensor(61674.5805, device='cuda:0', dtype=torch.float64,\n",
      "       grad_fn=<MeanBackward0>)\n",
      "motion_model_loss:  tensor(63209808., device='cuda:0')\n",
      "loss:  tensor(63271482.5805, device='cuda:0', dtype=torch.float64,\n",
      "       grad_fn=<AddBackward0>)\n",
      "-----------------------------------------------------------------\n",
      "Gradients BEFORE BACKWARD PASS:\n",
      "para_init: No gradient computed\n",
      "Gradients AFTER BACKWARD PASS:\n",
      "Parameter: para_init, Gradient: 630522.5625\n",
      "Parameter: para_init, Updated Value: tensor([ 0.0340, -0.0100,  0.5360,  0.1900, -0.3600,  0.6100], device='cuda:0')\n",
      "Loss:  63271482.58048279\n",
      "\n",
      "================================================================================================================\n",
      "loop_id:  1\n"
     ]
    },
    {
     "name": "stderr",
     "output_type": "stream",
     "text": [
      "Optimizing:   2%|▏         | 2/100 [00:02<02:07,  1.30s/it, loss=6.31e+7]"
     ]
    },
    {
     "name": "stdout",
     "output_type": "stream",
     "text": [
      "-----------------------------------------------------------------\n",
      "loss_contour:  tensor(79397079.9778, device='cuda:0', dtype=torch.float64,\n",
      "       grad_fn=<AddBackward0>)\n",
      "loss_tip_distance:  tensor(51882.6777, device='cuda:0', dtype=torch.float64,\n",
      "       grad_fn=<MeanBackward0>)\n",
      "motion_model_loss:  tensor(63004216., device='cuda:0')\n",
      "loss:  tensor(63056098.6777, device='cuda:0', dtype=torch.float64,\n",
      "       grad_fn=<AddBackward0>)\n",
      "-----------------------------------------------------------------\n",
      "Gradients BEFORE BACKWARD PASS:\n",
      "para_init: No gradient computed\n",
      "Gradients AFTER BACKWARD PASS:\n",
      "Parameter: para_init, Gradient: 559769.5\n",
      "Parameter: para_init, Updated Value: tensor([ 0.0340, -0.0100,  0.5360,  0.1801, -0.3500,  0.6199], device='cuda:0')\n",
      "Loss:  63056098.67774537\n",
      "\n",
      "================================================================================================================\n",
      "loop_id:  2\n"
     ]
    },
    {
     "name": "stderr",
     "output_type": "stream",
     "text": [
      "Optimizing:   3%|▎         | 3/100 [00:03<02:08,  1.32s/it, loss=6.29e+7]"
     ]
    },
    {
     "name": "stdout",
     "output_type": "stream",
     "text": [
      "-----------------------------------------------------------------\n",
      "loss_contour:  tensor(1.5692e+08, device='cuda:0', dtype=torch.float64,\n",
      "       grad_fn=<AddBackward0>)\n",
      "loss_tip_distance:  tensor(43325.6750, device='cuda:0', dtype=torch.float64,\n",
      "       grad_fn=<MeanBackward0>)\n",
      "motion_model_loss:  tensor(62824800., device='cuda:0')\n",
      "loss:  tensor(62868125.6750, device='cuda:0', dtype=torch.float64,\n",
      "       grad_fn=<AddBackward0>)\n",
      "-----------------------------------------------------------------\n",
      "Gradients BEFORE BACKWARD PASS:\n",
      "para_init: No gradient computed\n",
      "Gradients AFTER BACKWARD PASS:\n",
      "Parameter: para_init, Gradient: 495710.8125\n",
      "Parameter: para_init, Updated Value: tensor([ 0.0340, -0.0100,  0.5360,  0.1703, -0.3401,  0.6297], device='cuda:0')\n",
      "Loss:  62868125.6749653\n",
      "\n",
      "================================================================================================================\n",
      "loop_id:  3\n"
     ]
    },
    {
     "name": "stderr",
     "output_type": "stream",
     "text": [
      "Optimizing:   4%|▍         | 4/100 [00:05<02:03,  1.28s/it, loss=6.27e+7]"
     ]
    },
    {
     "name": "stdout",
     "output_type": "stream",
     "text": [
      "-----------------------------------------------------------------\n",
      "loss_contour:  tensor(76660301.1195, device='cuda:0', dtype=torch.float64,\n",
      "       grad_fn=<AddBackward0>)\n",
      "loss_tip_distance:  tensor(35914.3877, device='cuda:0', dtype=torch.float64,\n",
      "       grad_fn=<MeanBackward0>)\n",
      "motion_model_loss:  tensor(62677336., device='cuda:0')\n",
      "loss:  tensor(62713250.3877, device='cuda:0', dtype=torch.float64,\n",
      "       grad_fn=<AddBackward0>)\n",
      "-----------------------------------------------------------------\n",
      "Gradients BEFORE BACKWARD PASS:\n",
      "para_init: No gradient computed\n",
      "Gradients AFTER BACKWARD PASS:\n",
      "Parameter: para_init, Gradient: 437903.53125\n",
      "Parameter: para_init, Updated Value: tensor([ 0.0340, -0.0100,  0.5360,  0.1607, -0.3303,  0.6394], device='cuda:0')\n",
      "Loss:  62713250.3877361\n",
      "\n",
      "================================================================================================================\n",
      "loop_id:  4\n"
     ]
    },
    {
     "name": "stderr",
     "output_type": "stream",
     "text": [
      "Optimizing:   5%|▌         | 5/100 [00:06<01:58,  1.25s/it, loss=6.26e+7]"
     ]
    },
    {
     "name": "stdout",
     "output_type": "stream",
     "text": [
      "-----------------------------------------------------------------\n",
      "loss_contour:  tensor(1.1998e+08, device='cuda:0', dtype=torch.float64,\n",
      "       grad_fn=<AddBackward0>)\n",
      "loss_tip_distance:  tensor(29556.2749, device='cuda:0', dtype=torch.float64,\n",
      "       grad_fn=<MeanBackward0>)\n",
      "motion_model_loss:  tensor(62569368., device='cuda:0')\n",
      "loss:  tensor(62598924.2749, device='cuda:0', dtype=torch.float64,\n",
      "       grad_fn=<AddBackward0>)\n",
      "-----------------------------------------------------------------\n",
      "Gradients BEFORE BACKWARD PASS:\n",
      "para_init: No gradient computed\n",
      "Gradients AFTER BACKWARD PASS:\n",
      "Parameter: para_init, Gradient: 385923.625\n",
      "Parameter: para_init, Updated Value: tensor([ 0.0340, -0.0100,  0.5360,  0.1514, -0.3206,  0.6488], device='cuda:0')\n",
      "Loss:  62598924.27488843\n",
      "\n",
      "================================================================================================================\n",
      "loop_id:  5\n"
     ]
    },
    {
     "name": "stderr",
     "output_type": "stream",
     "text": [
      "Optimizing:   6%|▌         | 6/100 [00:07<01:55,  1.23s/it, loss=6.25e+7]"
     ]
    },
    {
     "name": "stdout",
     "output_type": "stream",
     "text": [
      "-----------------------------------------------------------------\n",
      "loss_contour:  tensor(80622435.4772, device='cuda:0', dtype=torch.float64,\n",
      "       grad_fn=<AddBackward0>)\n",
      "loss_tip_distance:  tensor(24156.3683, device='cuda:0', dtype=torch.float64,\n",
      "       grad_fn=<MeanBackward0>)\n",
      "motion_model_loss:  tensor(62509816., device='cuda:0')\n",
      "loss:  tensor(62533972.3683, device='cuda:0', dtype=torch.float64,\n",
      "       grad_fn=<AddBackward0>)\n",
      "-----------------------------------------------------------------\n",
      "Gradients BEFORE BACKWARD PASS:\n",
      "para_init: No gradient computed\n",
      "Gradients AFTER BACKWARD PASS:\n",
      "Parameter: para_init, Gradient: 339367.1875\n",
      "Parameter: para_init, Updated Value: tensor([ 0.0340, -0.0100,  0.5360,  0.1425, -0.3110,  0.6580], device='cuda:0')\n",
      "Loss:  62533972.368262485\n",
      "\n",
      "================================================================================================================\n",
      "loop_id:  6\n"
     ]
    },
    {
     "name": "stderr",
     "output_type": "stream",
     "text": [
      "Optimizing:   7%|▋         | 7/100 [00:08<01:57,  1.26s/it, loss=6.25e+7]"
     ]
    },
    {
     "name": "stdout",
     "output_type": "stream",
     "text": [
      "-----------------------------------------------------------------\n",
      "loss_contour:  tensor(58846600.9425, device='cuda:0', dtype=torch.float64,\n",
      "       grad_fn=<AddBackward0>)\n",
      "loss_tip_distance:  tensor(19618.3747, device='cuda:0', dtype=torch.float64,\n",
      "       grad_fn=<MeanBackward0>)\n",
      "motion_model_loss:  tensor(62508380., device='cuda:0')\n",
      "loss:  tensor(62527998.3747, device='cuda:0', dtype=torch.float64,\n",
      "       grad_fn=<AddBackward0>)\n",
      "-----------------------------------------------------------------\n",
      "Gradients BEFORE BACKWARD PASS:\n",
      "para_init: No gradient computed\n",
      "Gradients AFTER BACKWARD PASS:\n",
      "Parameter: para_init, Gradient: 297850.5\n",
      "Parameter: para_init, Updated Value: tensor([ 0.0340, -0.0100,  0.5360,  0.1341, -0.3016,  0.6669], device='cuda:0')\n",
      "Loss:  62527998.37468933\n",
      "\n",
      "================================================================================================================\n",
      "loop_id:  7\n"
     ]
    },
    {
     "name": "stderr",
     "output_type": "stream",
     "text": [
      "Optimizing:   8%|▊         | 8/100 [00:10<01:55,  1.26s/it, loss=6.26e+7]"
     ]
    },
    {
     "name": "stdout",
     "output_type": "stream",
     "text": [
      "-----------------------------------------------------------------\n",
      "loss_contour:  tensor(53113385.2987, device='cuda:0', dtype=torch.float64,\n",
      "       grad_fn=<AddBackward0>)\n",
      "loss_tip_distance:  tensor(15845.7322, device='cuda:0', dtype=torch.float64,\n",
      "       grad_fn=<MeanBackward0>)\n",
      "motion_model_loss:  tensor(62574088., device='cuda:0')\n",
      "loss:  tensor(62589933.7322, device='cuda:0', dtype=torch.float64,\n",
      "       grad_fn=<AddBackward0>)\n",
      "-----------------------------------------------------------------\n",
      "Gradients BEFORE BACKWARD PASS:\n",
      "para_init: No gradient computed\n",
      "Gradients AFTER BACKWARD PASS:\n",
      "Parameter: para_init, Gradient: 261006.234375\n",
      "Parameter: para_init, Updated Value: tensor([ 0.0340, -0.0100,  0.5360,  0.1263, -0.2924,  0.6755], device='cuda:0')\n",
      "Loss:  62589933.732151955\n",
      "\n",
      "================================================================================================================\n",
      "loop_id:  8\n"
     ]
    },
    {
     "name": "stderr",
     "output_type": "stream",
     "text": [
      "Optimizing:   9%|▉         | 9/100 [00:11<01:54,  1.26s/it, loss=6.27e+7]"
     ]
    },
    {
     "name": "stdout",
     "output_type": "stream",
     "text": [
      "-----------------------------------------------------------------\n",
      "loss_contour:  tensor(50752943.6441, device='cuda:0', dtype=torch.float64,\n",
      "       grad_fn=<AddBackward0>)\n",
      "loss_tip_distance:  tensor(12742.9848, device='cuda:0', dtype=torch.float64,\n",
      "       grad_fn=<MeanBackward0>)\n",
      "motion_model_loss:  tensor(62712548., device='cuda:0')\n",
      "loss:  tensor(62725290.9848, device='cuda:0', dtype=torch.float64,\n",
      "       grad_fn=<AddBackward0>)\n",
      "-----------------------------------------------------------------\n",
      "Gradients BEFORE BACKWARD PASS:\n",
      "para_init: No gradient computed\n",
      "Gradients AFTER BACKWARD PASS:\n",
      "Parameter: para_init, Gradient: 228478.796875\n",
      "Parameter: para_init, Updated Value: tensor([ 0.0340, -0.0100,  0.5360,  0.1191, -0.2833,  0.6837], device='cuda:0')\n",
      "Loss:  62725290.984764256\n",
      "\n",
      "================================================================================================================\n",
      "loop_id:  9\n"
     ]
    },
    {
     "name": "stderr",
     "output_type": "stream",
     "text": [
      "Optimizing:  10%|█         | 10/100 [00:12<01:56,  1.29s/it, loss=6.29e+7]"
     ]
    },
    {
     "name": "stdout",
     "output_type": "stream",
     "text": [
      "-----------------------------------------------------------------\n",
      "loss_contour:  tensor(49860715.7940, device='cuda:0', dtype=torch.float64,\n",
      "       grad_fn=<AddBackward0>)\n",
      "loss_tip_distance:  tensor(10217.3749, device='cuda:0', dtype=torch.float64,\n",
      "       grad_fn=<MeanBackward0>)\n",
      "motion_model_loss:  tensor(62922792., device='cuda:0')\n",
      "loss:  tensor(62933009.3749, device='cuda:0', dtype=torch.float64,\n",
      "       grad_fn=<AddBackward0>)\n",
      "-----------------------------------------------------------------\n",
      "Gradients BEFORE BACKWARD PASS:\n",
      "para_init: No gradient computed\n",
      "Gradients AFTER BACKWARD PASS:\n",
      "Parameter: para_init, Gradient: 199918.9375\n",
      "Parameter: para_init, Updated Value: tensor([ 0.0340, -0.0100,  0.5360,  0.1127, -0.2746,  0.6915], device='cuda:0')\n",
      "Loss:  62933009.37487403\n",
      "\n",
      "================================================================================================================\n",
      "loop_id:  10\n"
     ]
    },
    {
     "name": "stderr",
     "output_type": "stream",
     "text": [
      "Optimizing:  11%|█         | 11/100 [00:14<01:58,  1.33s/it, loss=6.32e+7]"
     ]
    },
    {
     "name": "stdout",
     "output_type": "stream",
     "text": [
      "-----------------------------------------------------------------\n",
      "loss_contour:  tensor(49840117.8890, device='cuda:0', dtype=torch.float64,\n",
      "       grad_fn=<AddBackward0>)\n",
      "loss_tip_distance:  tensor(8180.6101, device='cuda:0', dtype=torch.float64,\n",
      "       grad_fn=<MeanBackward0>)\n",
      "motion_model_loss:  tensor(63193068., device='cuda:0')\n",
      "loss:  tensor(63201248.6101, device='cuda:0', dtype=torch.float64,\n",
      "       grad_fn=<AddBackward0>)\n",
      "-----------------------------------------------------------------\n",
      "Gradients BEFORE BACKWARD PASS:\n",
      "para_init: No gradient computed\n",
      "Gradients AFTER BACKWARD PASS:\n",
      "Parameter: para_init, Gradient: 174978.875\n",
      "Parameter: para_init, Updated Value: tensor([ 0.0340, -0.0100,  0.5360,  0.1071, -0.2660,  0.6990], device='cuda:0')\n",
      "Loss:  63201248.61014966\n",
      "\n",
      "================================================================================================================\n",
      "loop_id:  11\n"
     ]
    },
    {
     "name": "stderr",
     "output_type": "stream",
     "text": [
      "Optimizing:  12%|█▏        | 12/100 [00:15<01:58,  1.35s/it, loss=6.35e+7]"
     ]
    },
    {
     "name": "stdout",
     "output_type": "stream",
     "text": [
      "-----------------------------------------------------------------\n",
      "loss_contour:  tensor(50407102.4318, device='cuda:0', dtype=torch.float64,\n",
      "       grad_fn=<AddBackward0>)\n",
      "loss_tip_distance:  tensor(6550.7120, device='cuda:0', dtype=torch.float64,\n",
      "       grad_fn=<MeanBackward0>)\n",
      "motion_model_loss:  tensor(63496948., device='cuda:0')\n",
      "loss:  tensor(63503498.7120, device='cuda:0', dtype=torch.float64,\n",
      "       grad_fn=<AddBackward0>)\n",
      "-----------------------------------------------------------------\n",
      "Gradients BEFORE BACKWARD PASS:\n",
      "para_init: No gradient computed\n",
      "Gradients AFTER BACKWARD PASS:\n",
      "Parameter: para_init, Gradient: 153309.796875\n",
      "Parameter: para_init, Updated Value: tensor([ 0.0340, -0.0100,  0.5360,  0.1024, -0.2578,  0.7060], device='cuda:0')\n",
      "Loss:  63503498.712012336\n",
      "\n",
      "================================================================================================================\n",
      "loop_id:  12\n"
     ]
    },
    {
     "name": "stderr",
     "output_type": "stream",
     "text": [
      "Optimizing:  13%|█▎        | 13/100 [00:16<01:58,  1.36s/it, loss=6.38e+7]"
     ]
    },
    {
     "name": "stdout",
     "output_type": "stream",
     "text": [
      "-----------------------------------------------------------------\n",
      "loss_contour:  tensor(51341192.6034, device='cuda:0', dtype=torch.float64,\n",
      "       grad_fn=<AddBackward0>)\n",
      "loss_tip_distance:  tensor(5253.6402, device='cuda:0', dtype=torch.float64,\n",
      "       grad_fn=<MeanBackward0>)\n",
      "motion_model_loss:  tensor(63791080., device='cuda:0')\n",
      "loss:  tensor(63796333.6402, device='cuda:0', dtype=torch.float64,\n",
      "       grad_fn=<AddBackward0>)\n",
      "-----------------------------------------------------------------\n",
      "Gradients BEFORE BACKWARD PASS:\n",
      "para_init: No gradient computed\n",
      "Gradients AFTER BACKWARD PASS:\n",
      "Parameter: para_init, Gradient: 134562.390625\n",
      "Parameter: para_init, Updated Value: tensor([ 0.0340, -0.0100,  0.5360,  0.0986, -0.2498,  0.7126], device='cuda:0')\n",
      "Loss:  63796333.64018553\n",
      "\n",
      "================================================================================================================\n",
      "loop_id:  13\n"
     ]
    },
    {
     "name": "stderr",
     "output_type": "stream",
     "text": [
      "Optimizing:  14%|█▍        | 14/100 [00:18<01:56,  1.35s/it, loss=6.4e+7] "
     ]
    },
    {
     "name": "stdout",
     "output_type": "stream",
     "text": [
      "-----------------------------------------------------------------\n",
      "loss_contour:  tensor(52383799.2814, device='cuda:0', dtype=torch.float64,\n",
      "       grad_fn=<AddBackward0>)\n",
      "loss_tip_distance:  tensor(4224.5287, device='cuda:0', dtype=torch.float64,\n",
      "       grad_fn=<MeanBackward0>)\n",
      "motion_model_loss:  tensor(64016724., device='cuda:0')\n",
      "loss:  tensor(64020948.5287, device='cuda:0', dtype=torch.float64,\n",
      "       grad_fn=<AddBackward0>)\n",
      "-----------------------------------------------------------------\n",
      "Gradients BEFORE BACKWARD PASS:\n",
      "para_init: No gradient computed\n",
      "Gradients AFTER BACKWARD PASS:\n",
      "Parameter: para_init, Gradient: 118391.9375\n",
      "Parameter: para_init, Updated Value: tensor([ 0.0340, -0.0100,  0.5360,  0.0956, -0.2422,  0.7188], device='cuda:0')\n",
      "Loss:  64020948.52874366\n",
      "\n",
      "================================================================================================================\n",
      "loop_id:  14\n"
     ]
    },
    {
     "name": "stderr",
     "output_type": "stream",
     "text": [
      "Optimizing:  15%|█▌        | 15/100 [00:19<01:56,  1.37s/it, loss=6.41e+7]"
     ]
    },
    {
     "name": "stdout",
     "output_type": "stream",
     "text": [
      "-----------------------------------------------------------------\n",
      "loss_contour:  tensor(53210657.9532, device='cuda:0', dtype=torch.float64,\n",
      "       grad_fn=<AddBackward0>)\n",
      "loss_tip_distance:  tensor(3408.2487, device='cuda:0', dtype=torch.float64,\n",
      "       grad_fn=<MeanBackward0>)\n",
      "motion_model_loss:  tensor(64107168., device='cuda:0')\n",
      "loss:  tensor(64110576.2487, device='cuda:0', dtype=torch.float64,\n",
      "       grad_fn=<AddBackward0>)\n",
      "-----------------------------------------------------------------\n",
      "Gradients BEFORE BACKWARD PASS:\n",
      "para_init: No gradient computed\n",
      "Gradients AFTER BACKWARD PASS:\n",
      "Parameter: para_init, Gradient: 104465.328125\n",
      "Parameter: para_init, Updated Value: tensor([ 0.0340, -0.0100,  0.5360,  0.0936, -0.2349,  0.7246], device='cuda:0')\n",
      "Loss:  64110576.24873816\n",
      "\n",
      "================================================================================================================\n",
      "loop_id:  15\n"
     ]
    },
    {
     "name": "stderr",
     "output_type": "stream",
     "text": [
      "Optimizing:  16%|█▌        | 16/100 [00:21<01:56,  1.38s/it, loss=6.4e+7] "
     ]
    },
    {
     "name": "stdout",
     "output_type": "stream",
     "text": [
      "-----------------------------------------------------------------\n",
      "loss_contour:  tensor(53506680.6553, device='cuda:0', dtype=torch.float64,\n",
      "       grad_fn=<AddBackward0>)\n",
      "loss_tip_distance:  tensor(2759.3392, device='cuda:0', dtype=torch.float64,\n",
      "       grad_fn=<MeanBackward0>)\n",
      "motion_model_loss:  tensor(64000996., device='cuda:0')\n",
      "loss:  tensor(64003755.3392, device='cuda:0', dtype=torch.float64,\n",
      "       grad_fn=<AddBackward0>)\n",
      "-----------------------------------------------------------------\n",
      "Gradients BEFORE BACKWARD PASS:\n",
      "para_init: No gradient computed\n",
      "Gradients AFTER BACKWARD PASS:\n",
      "Parameter: para_init, Gradient: 92469.9765625\n",
      "Parameter: para_init, Updated Value: tensor([ 0.0340, -0.0100,  0.5360,  0.0924, -0.2280,  0.7300], device='cuda:0')\n",
      "Loss:  64003755.33920201\n",
      "\n",
      "================================================================================================================\n",
      "loop_id:  16\n"
     ]
    },
    {
     "name": "stderr",
     "output_type": "stream",
     "text": [
      "Optimizing:  17%|█▋        | 17/100 [00:22<01:53,  1.37s/it, loss=6.37e+7]"
     ]
    },
    {
     "name": "stdout",
     "output_type": "stream",
     "text": [
      "-----------------------------------------------------------------\n",
      "loss_contour:  tensor(53131020.1503, device='cuda:0', dtype=torch.float64,\n",
      "       grad_fn=<AddBackward0>)\n",
      "loss_tip_distance:  tensor(2241.3456, device='cuda:0', dtype=torch.float64,\n",
      "       grad_fn=<MeanBackward0>)\n",
      "motion_model_loss:  tensor(63657808., device='cuda:0')\n",
      "loss:  tensor(63660049.3456, device='cuda:0', dtype=torch.float64,\n",
      "       grad_fn=<AddBackward0>)\n",
      "-----------------------------------------------------------------\n",
      "Gradients BEFORE BACKWARD PASS:\n",
      "para_init: No gradient computed\n",
      "Gradients AFTER BACKWARD PASS:\n",
      "Parameter: para_init, Gradient: 82122.1640625\n",
      "Parameter: para_init, Updated Value: tensor([ 0.0340, -0.0100,  0.5360,  0.0920, -0.2214,  0.7350], device='cuda:0')\n",
      "Loss:  63660049.34556523\n",
      "\n",
      "================================================================================================================\n",
      "loop_id:  17\n"
     ]
    },
    {
     "name": "stderr",
     "output_type": "stream",
     "text": [
      "Optimizing:  18%|█▊        | 18/100 [00:23<01:50,  1.34s/it, loss=6.31e+7]"
     ]
    },
    {
     "name": "stdout",
     "output_type": "stream",
     "text": [
      "-----------------------------------------------------------------\n",
      "loss_contour:  tensor(52220579.9305, device='cuda:0', dtype=torch.float64,\n",
      "       grad_fn=<AddBackward0>)\n",
      "loss_tip_distance:  tensor(1825.7518, device='cuda:0', dtype=torch.float64,\n",
      "       grad_fn=<MeanBackward0>)\n",
      "motion_model_loss:  tensor(63070592., device='cuda:0')\n",
      "loss:  tensor(63072417.7518, device='cuda:0', dtype=torch.float64,\n",
      "       grad_fn=<AddBackward0>)\n",
      "-----------------------------------------------------------------\n",
      "Gradients BEFORE BACKWARD PASS:\n",
      "para_init: No gradient computed\n",
      "Gradients AFTER BACKWARD PASS:\n",
      "Parameter: para_init, Gradient: 73173.5546875\n",
      "Parameter: para_init, Updated Value: tensor([ 0.0340, -0.0100,  0.5360,  0.0923, -0.2152,  0.7396], device='cuda:0')\n",
      "Loss:  63072417.7517685\n",
      "\n",
      "================================================================================================================\n",
      "loop_id:  18\n"
     ]
    },
    {
     "name": "stderr",
     "output_type": "stream",
     "text": [
      "Optimizing:  19%|█▉        | 19/100 [00:25<01:47,  1.33s/it, loss=6.23e+7]"
     ]
    },
    {
     "name": "stdout",
     "output_type": "stream",
     "text": [
      "-----------------------------------------------------------------\n",
      "loss_contour:  tensor(51108375.1943, device='cuda:0', dtype=torch.float64,\n",
      "       grad_fn=<AddBackward0>)\n",
      "loss_tip_distance:  tensor(1490.7323, device='cuda:0', dtype=torch.float64,\n",
      "       grad_fn=<MeanBackward0>)\n",
      "motion_model_loss:  tensor(62269132., device='cuda:0')\n",
      "loss:  tensor(62270622.7323, device='cuda:0', dtype=torch.float64,\n",
      "       grad_fn=<AddBackward0>)\n",
      "-----------------------------------------------------------------\n",
      "Gradients BEFORE BACKWARD PASS:\n",
      "para_init: No gradient computed\n",
      "Gradients AFTER BACKWARD PASS:\n",
      "Parameter: para_init, Gradient: 65415.625\n",
      "Parameter: para_init, Updated Value: tensor([ 0.0340, -0.0100,  0.5360,  0.0933, -0.2094,  0.7438], device='cuda:0')\n",
      "Loss:  62270622.73225128\n",
      "\n",
      "================================================================================================================\n",
      "loop_id:  19\n"
     ]
    },
    {
     "name": "stderr",
     "output_type": "stream",
     "text": [
      "Optimizing:  20%|██        | 20/100 [00:26<01:47,  1.35s/it, loss=6.13e+7]"
     ]
    },
    {
     "name": "stdout",
     "output_type": "stream",
     "text": [
      "-----------------------------------------------------------------\n",
      "loss_contour:  tensor(50165843.6972, device='cuda:0', dtype=torch.float64,\n",
      "       grad_fn=<AddBackward0>)\n",
      "loss_tip_distance:  tensor(1219.8662, device='cuda:0', dtype=torch.float64,\n",
      "       grad_fn=<MeanBackward0>)\n",
      "motion_model_loss:  tensor(61312952., device='cuda:0')\n",
      "loss:  tensor(61314171.8662, device='cuda:0', dtype=torch.float64,\n",
      "       grad_fn=<AddBackward0>)\n",
      "-----------------------------------------------------------------\n",
      "Gradients BEFORE BACKWARD PASS:\n",
      "para_init: No gradient computed\n",
      "Gradients AFTER BACKWARD PASS:\n",
      "Parameter: para_init, Gradient: 58681.375\n",
      "Parameter: para_init, Updated Value: tensor([ 0.0340, -0.0100,  0.5360,  0.0948, -0.2039,  0.7476], device='cuda:0')\n",
      "Loss:  61314171.8661582\n",
      "\n",
      "================================================================================================================\n",
      "loop_id:  20\n"
     ]
    },
    {
     "name": "stderr",
     "output_type": "stream",
     "text": [
      "Optimizing:  21%|██        | 21/100 [00:27<01:46,  1.35s/it, loss=6.03e+7]"
     ]
    },
    {
     "name": "stdout",
     "output_type": "stream",
     "text": [
      "-----------------------------------------------------------------\n",
      "loss_contour:  tensor(49740948.7770, device='cuda:0', dtype=torch.float64,\n",
      "       grad_fn=<AddBackward0>)\n",
      "loss_tip_distance:  tensor(1000.9496, device='cuda:0', dtype=torch.float64,\n",
      "       grad_fn=<MeanBackward0>)\n",
      "motion_model_loss:  tensor(60276968., device='cuda:0')\n",
      "loss:  tensor(60277968.9496, device='cuda:0', dtype=torch.float64,\n",
      "       grad_fn=<AddBackward0>)\n",
      "-----------------------------------------------------------------\n",
      "Gradients BEFORE BACKWARD PASS:\n",
      "para_init: No gradient computed\n",
      "Gradients AFTER BACKWARD PASS:\n",
      "Parameter: para_init, Gradient: 52845.05859375\n",
      "Parameter: para_init, Updated Value: tensor([ 0.0340, -0.0100,  0.5360,  0.0968, -0.1989,  0.7511], device='cuda:0')\n",
      "Loss:  60277968.94955091\n",
      "\n",
      "================================================================================================================\n",
      "loop_id:  21\n"
     ]
    },
    {
     "name": "stderr",
     "output_type": "stream",
     "text": [
      "Optimizing:  22%|██▏       | 22/100 [00:29<01:46,  1.36s/it, loss=5.92e+7]"
     ]
    },
    {
     "name": "stdout",
     "output_type": "stream",
     "text": [
      "-----------------------------------------------------------------\n",
      "loss_contour:  tensor(50253335.4189, device='cuda:0', dtype=torch.float64,\n",
      "       grad_fn=<AddBackward0>)\n",
      "loss_tip_distance:  tensor(824.9643, device='cuda:0', dtype=torch.float64, grad_fn=<MeanBackward0>)\n",
      "motion_model_loss:  tensor(59235924., device='cuda:0')\n",
      "loss:  tensor(59236748.9643, device='cuda:0', dtype=torch.float64,\n",
      "       grad_fn=<AddBackward0>)\n",
      "-----------------------------------------------------------------\n",
      "Gradients BEFORE BACKWARD PASS:\n",
      "para_init: No gradient computed\n",
      "Gradients AFTER BACKWARD PASS:\n",
      "Parameter: para_init, Gradient: 47819.9296875\n",
      "Parameter: para_init, Updated Value: tensor([ 0.0340, -0.0100,  0.5360,  0.0993, -0.1942,  0.7543], device='cuda:0')\n",
      "Loss:  59236748.964314744\n",
      "\n",
      "================================================================================================================\n",
      "loop_id:  22\n"
     ]
    },
    {
     "name": "stderr",
     "output_type": "stream",
     "text": [
      "Optimizing:  23%|██▎       | 23/100 [00:30<01:46,  1.39s/it, loss=5.83e+7]"
     ]
    },
    {
     "name": "stdout",
     "output_type": "stream",
     "text": [
      "-----------------------------------------------------------------\n",
      "loss_contour:  tensor(52593028.4593, device='cuda:0', dtype=torch.float64,\n",
      "       grad_fn=<AddBackward0>)\n",
      "loss_tip_distance:  tensor(685.2194, device='cuda:0', dtype=torch.float64, grad_fn=<MeanBackward0>)\n",
      "motion_model_loss:  tensor(58252324., device='cuda:0')\n",
      "loss:  tensor(58253009.2194, device='cuda:0', dtype=torch.float64,\n",
      "       grad_fn=<AddBackward0>)\n",
      "-----------------------------------------------------------------\n",
      "Gradients BEFORE BACKWARD PASS:\n",
      "para_init: No gradient computed\n",
      "Gradients AFTER BACKWARD PASS:\n",
      "Parameter: para_init, Gradient: 43554.05859375\n",
      "Parameter: para_init, Updated Value: tensor([ 0.0340, -0.0100,  0.5360,  0.1021, -0.1899,  0.7571], device='cuda:0')\n",
      "Loss:  58253009.21939186\n",
      "\n",
      "================================================================================================================\n",
      "loop_id:  23\n"
     ]
    },
    {
     "name": "stderr",
     "output_type": "stream",
     "text": [
      "Optimizing:  24%|██▍       | 24/100 [00:32<01:46,  1.39s/it, loss=5.74e+7]"
     ]
    },
    {
     "name": "stdout",
     "output_type": "stream",
     "text": [
      "-----------------------------------------------------------------\n",
      "loss_contour:  tensor(60433769.6717, device='cuda:0', dtype=torch.float64,\n",
      "       grad_fn=<AddBackward0>)\n",
      "loss_tip_distance:  tensor(576.6607, device='cuda:0', dtype=torch.float64, grad_fn=<MeanBackward0>)\n",
      "motion_model_loss:  tensor(57370320., device='cuda:0')\n",
      "loss:  tensor(57370896.6607, device='cuda:0', dtype=torch.float64,\n",
      "       grad_fn=<AddBackward0>)\n",
      "-----------------------------------------------------------------\n",
      "Gradients BEFORE BACKWARD PASS:\n",
      "para_init: No gradient computed\n",
      "Gradients AFTER BACKWARD PASS:\n",
      "Parameter: para_init, Gradient: 40023.44921875\n",
      "Parameter: para_init, Updated Value: tensor([ 0.0340, -0.0100,  0.5360,  0.1052, -0.1861,  0.7597], device='cuda:0')\n",
      "Loss:  57370896.660712786\n",
      "\n",
      "================================================================================================================\n",
      "loop_id:  24\n"
     ]
    },
    {
     "name": "stderr",
     "output_type": "stream",
     "text": [
      "Optimizing:  25%|██▌       | 25/100 [00:33<01:43,  1.38s/it, loss=5.66e+7]"
     ]
    },
    {
     "name": "stdout",
     "output_type": "stream",
     "text": [
      "-----------------------------------------------------------------\n",
      "loss_contour:  tensor(2.5287e+08, device='cuda:0', dtype=torch.float64,\n",
      "       grad_fn=<AddBackward0>)\n",
      "loss_tip_distance:  tensor(495.3290, device='cuda:0', dtype=torch.float64, grad_fn=<MeanBackward0>)\n",
      "motion_model_loss:  tensor(56614436., device='cuda:0')\n",
      "loss:  tensor(56614931.3290, device='cuda:0', dtype=torch.float64,\n",
      "       grad_fn=<AddBackward0>)\n",
      "-----------------------------------------------------------------\n",
      "Gradients BEFORE BACKWARD PASS:\n",
      "para_init: No gradient computed\n",
      "Gradients AFTER BACKWARD PASS:\n",
      "Parameter: para_init, Gradient: 37221.55859375\n",
      "Parameter: para_init, Updated Value: tensor([ 0.0340, -0.0100,  0.5360,  0.1085, -0.1826,  0.7620], device='cuda:0')\n",
      "Loss:  56614931.32900246\n",
      "\n",
      "================================================================================================================\n",
      "loop_id:  25\n"
     ]
    },
    {
     "name": "stderr",
     "output_type": "stream",
     "text": [
      "Optimizing:  26%|██▌       | 26/100 [00:34<01:43,  1.40s/it, loss=5.6e+7] "
     ]
    },
    {
     "name": "stdout",
     "output_type": "stream",
     "text": [
      "-----------------------------------------------------------------\n",
      "loss_contour:  tensor(76904173.3636, device='cuda:0', dtype=torch.float64,\n",
      "       grad_fn=<AddBackward0>)\n",
      "loss_tip_distance:  tensor(437.9472, device='cuda:0', dtype=torch.float64, grad_fn=<MeanBackward0>)\n",
      "motion_model_loss:  tensor(55993144., device='cuda:0')\n",
      "loss:  tensor(55993581.9472, device='cuda:0', dtype=torch.float64,\n",
      "       grad_fn=<AddBackward0>)\n",
      "-----------------------------------------------------------------\n",
      "Gradients BEFORE BACKWARD PASS:\n",
      "para_init: No gradient computed\n",
      "Gradients AFTER BACKWARD PASS:\n",
      "Parameter: para_init, Gradient: 35144.95703125\n",
      "Parameter: para_init, Updated Value: tensor([ 0.0340, -0.0100,  0.5360,  0.1119, -0.1795,  0.7640], device='cuda:0')\n",
      "Loss:  55993581.94715674\n",
      "\n",
      "================================================================================================================\n",
      "loop_id:  26\n"
     ]
    },
    {
     "name": "stderr",
     "output_type": "stream",
     "text": [
      "Optimizing:  27%|██▋       | 27/100 [00:36<01:40,  1.38s/it, loss=5.55e+7]"
     ]
    },
    {
     "name": "stdout",
     "output_type": "stream",
     "text": [
      "-----------------------------------------------------------------\n",
      "loss_contour:  tensor(95917930.8649, device='cuda:0', dtype=torch.float64,\n",
      "       grad_fn=<AddBackward0>)\n",
      "loss_tip_distance:  tensor(401.6101, device='cuda:0', dtype=torch.float64, grad_fn=<MeanBackward0>)\n",
      "motion_model_loss:  tensor(55503144., device='cuda:0')\n",
      "loss:  tensor(55503545.6101, device='cuda:0', dtype=torch.float64,\n",
      "       grad_fn=<AddBackward0>)\n",
      "-----------------------------------------------------------------\n",
      "Gradients BEFORE BACKWARD PASS:\n",
      "para_init: No gradient computed\n",
      "Gradients AFTER BACKWARD PASS:\n",
      "Parameter: para_init, Gradient: 33776.61328125\n",
      "Parameter: para_init, Updated Value: tensor([ 0.0340, -0.0100,  0.5360,  0.1154, -0.1767,  0.7657], device='cuda:0')\n",
      "Loss:  55503545.61012258\n",
      "\n",
      "================================================================================================================\n",
      "loop_id:  27\n"
     ]
    },
    {
     "name": "stderr",
     "output_type": "stream",
     "text": [
      "Optimizing:  28%|██▊       | 28/100 [00:37<01:38,  1.37s/it, loss=5.51e+7]"
     ]
    },
    {
     "name": "stdout",
     "output_type": "stream",
     "text": [
      "-----------------------------------------------------------------\n",
      "loss_contour:  tensor(59716812.9498, device='cuda:0', dtype=torch.float64,\n",
      "       grad_fn=<AddBackward0>)\n",
      "loss_tip_distance:  tensor(383.5660, device='cuda:0', dtype=torch.float64, grad_fn=<MeanBackward0>)\n",
      "motion_model_loss:  tensor(55133772., device='cuda:0')\n",
      "loss:  tensor(55134155.5660, device='cuda:0', dtype=torch.float64,\n",
      "       grad_fn=<AddBackward0>)\n",
      "-----------------------------------------------------------------\n",
      "Gradients BEFORE BACKWARD PASS:\n",
      "para_init: No gradient computed\n",
      "Gradients AFTER BACKWARD PASS:\n",
      "Parameter: para_init, Gradient: 33071.54296875\n",
      "Parameter: para_init, Updated Value: tensor([ 0.0340, -0.0100,  0.5360,  0.1189, -0.1743,  0.7673], device='cuda:0')\n",
      "Loss:  55134155.566022635\n",
      "\n",
      "================================================================================================================\n",
      "loop_id:  28\n"
     ]
    },
    {
     "name": "stderr",
     "output_type": "stream",
     "text": [
      "Optimizing:  29%|██▉       | 29/100 [00:38<01:36,  1.36s/it, loss=5.49e+7]"
     ]
    },
    {
     "name": "stdout",
     "output_type": "stream",
     "text": [
      "-----------------------------------------------------------------\n",
      "loss_contour:  tensor(56901361.2589, device='cuda:0', dtype=torch.float64,\n",
      "       grad_fn=<AddBackward0>)\n",
      "loss_tip_distance:  tensor(381.0711, device='cuda:0', dtype=torch.float64, grad_fn=<MeanBackward0>)\n",
      "motion_model_loss:  tensor(54871036., device='cuda:0')\n",
      "loss:  tensor(54871417.0711, device='cuda:0', dtype=torch.float64,\n",
      "       grad_fn=<AddBackward0>)\n",
      "-----------------------------------------------------------------\n",
      "Gradients BEFORE BACKWARD PASS:\n",
      "para_init: No gradient computed\n",
      "Gradients AFTER BACKWARD PASS:\n",
      "Parameter: para_init, Gradient: 32950.546875\n",
      "Parameter: para_init, Updated Value: tensor([ 0.0340, -0.0100,  0.5360,  0.1223, -0.1723,  0.7686], device='cuda:0')\n",
      "Loss:  54871417.07110443\n",
      "\n",
      "================================================================================================================\n",
      "loop_id:  29\n"
     ]
    },
    {
     "name": "stderr",
     "output_type": "stream",
     "text": [
      "Optimizing:  30%|███       | 30/100 [00:40<01:37,  1.39s/it, loss=5.47e+7]"
     ]
    },
    {
     "name": "stdout",
     "output_type": "stream",
     "text": [
      "-----------------------------------------------------------------\n",
      "loss_contour:  tensor(59359883.6840, device='cuda:0', dtype=torch.float64,\n",
      "       grad_fn=<AddBackward0>)\n",
      "loss_tip_distance:  tensor(391.3078, device='cuda:0', dtype=torch.float64, grad_fn=<MeanBackward0>)\n",
      "motion_model_loss:  tensor(54700216., device='cuda:0')\n",
      "loss:  tensor(54700607.3078, device='cuda:0', dtype=torch.float64,\n",
      "       grad_fn=<AddBackward0>)\n",
      "-----------------------------------------------------------------\n",
      "Gradients BEFORE BACKWARD PASS:\n",
      "para_init: No gradient computed\n",
      "Gradients AFTER BACKWARD PASS:\n",
      "Parameter: para_init, Gradient: 33304.84375\n",
      "Parameter: para_init, Updated Value: tensor([ 0.0340, -0.0100,  0.5360,  0.1257, -0.1706,  0.7697], device='cuda:0')\n",
      "Loss:  54700607.30781806\n",
      "\n",
      "================================================================================================================\n",
      "loop_id:  30\n"
     ]
    },
    {
     "name": "stderr",
     "output_type": "stream",
     "text": [
      "Optimizing:  31%|███       | 31/100 [00:41<01:34,  1.37s/it, loss=5.46e+7]"
     ]
    },
    {
     "name": "stdout",
     "output_type": "stream",
     "text": [
      "-----------------------------------------------------------------\n",
      "loss_contour:  tensor(67165046.1723, device='cuda:0', dtype=torch.float64,\n",
      "       grad_fn=<AddBackward0>)\n",
      "loss_tip_distance:  tensor(411.3616, device='cuda:0', dtype=torch.float64, grad_fn=<MeanBackward0>)\n",
      "motion_model_loss:  tensor(54607648., device='cuda:0')\n",
      "loss:  tensor(54608059.3616, device='cuda:0', dtype=torch.float64,\n",
      "       grad_fn=<AddBackward0>)\n",
      "-----------------------------------------------------------------\n",
      "Gradients BEFORE BACKWARD PASS:\n",
      "para_init: No gradient computed\n",
      "Gradients AFTER BACKWARD PASS:\n",
      "Parameter: para_init, Gradient: 34008.6796875\n",
      "Parameter: para_init, Updated Value: tensor([ 0.0340, -0.0100,  0.5360,  0.1289, -0.1692,  0.7707], device='cuda:0')\n",
      "Loss:  54608059.361624956\n",
      "\n",
      "================================================================================================================\n",
      "loop_id:  31\n"
     ]
    },
    {
     "name": "stderr",
     "output_type": "stream",
     "text": [
      "Optimizing:  32%|███▏      | 32/100 [00:42<01:32,  1.36s/it, loss=5.46e+7]"
     ]
    },
    {
     "name": "stdout",
     "output_type": "stream",
     "text": [
      "-----------------------------------------------------------------\n",
      "loss_contour:  tensor(89418250.0150, device='cuda:0', dtype=torch.float64,\n",
      "       grad_fn=<AddBackward0>)\n",
      "loss_tip_distance:  tensor(438.2404, device='cuda:0', dtype=torch.float64, grad_fn=<MeanBackward0>)\n",
      "motion_model_loss:  tensor(54581052., device='cuda:0')\n",
      "loss:  tensor(54581490.2404, device='cuda:0', dtype=torch.float64,\n",
      "       grad_fn=<AddBackward0>)\n",
      "-----------------------------------------------------------------\n",
      "Gradients BEFORE BACKWARD PASS:\n",
      "para_init: No gradient computed\n",
      "Gradients AFTER BACKWARD PASS:\n",
      "Parameter: para_init, Gradient: 34933.5859375\n",
      "Parameter: para_init, Updated Value: tensor([ 0.0340, -0.0100,  0.5360,  0.1319, -0.1681,  0.7715], device='cuda:0')\n",
      "Loss:  54581490.24035427\n",
      "\n",
      "================================================================================================================\n",
      "loop_id:  32\n"
     ]
    },
    {
     "name": "stderr",
     "output_type": "stream",
     "text": [
      "Optimizing:  33%|███▎      | 33/100 [00:44<01:30,  1.36s/it, loss=5.46e+7]"
     ]
    },
    {
     "name": "stdout",
     "output_type": "stream",
     "text": [
      "-----------------------------------------------------------------\n",
      "loss_contour:  tensor(3.4833e+08, device='cuda:0', dtype=torch.float64,\n",
      "       grad_fn=<AddBackward0>)\n",
      "loss_tip_distance:  tensor(468.9380, device='cuda:0', dtype=torch.float64, grad_fn=<MeanBackward0>)\n",
      "motion_model_loss:  tensor(54610060., device='cuda:0')\n",
      "loss:  tensor(54610528.9380, device='cuda:0', dtype=torch.float64,\n",
      "       grad_fn=<AddBackward0>)\n",
      "-----------------------------------------------------------------\n",
      "Gradients BEFORE BACKWARD PASS:\n",
      "para_init: No gradient computed\n",
      "Gradients AFTER BACKWARD PASS:\n",
      "Parameter: para_init, Gradient: 35959.5703125\n",
      "Parameter: para_init, Updated Value: tensor([ 0.0340, -0.0100,  0.5360,  0.1346, -0.1673,  0.7721], device='cuda:0')\n",
      "Loss:  54610528.93796055\n",
      "\n",
      "================================================================================================================\n",
      "loop_id:  33\n"
     ]
    },
    {
     "name": "stderr",
     "output_type": "stream",
     "text": [
      "Optimizing:  34%|███▍      | 34/100 [00:45<01:29,  1.35s/it, loss=5.47e+7]"
     ]
    },
    {
     "name": "stdout",
     "output_type": "stream",
     "text": [
      "-----------------------------------------------------------------\n",
      "loss_contour:  tensor(1.2831e+08, device='cuda:0', dtype=torch.float64,\n",
      "       grad_fn=<AddBackward0>)\n",
      "loss_tip_distance:  tensor(500.5213, device='cuda:0', dtype=torch.float64, grad_fn=<MeanBackward0>)\n",
      "motion_model_loss:  tensor(54686016., device='cuda:0')\n",
      "loss:  tensor(54686516.5213, device='cuda:0', dtype=torch.float64,\n",
      "       grad_fn=<AddBackward0>)\n",
      "-----------------------------------------------------------------\n",
      "Gradients BEFORE BACKWARD PASS:\n",
      "para_init: No gradient computed\n",
      "Gradients AFTER BACKWARD PASS:\n",
      "Parameter: para_init, Gradient: 36981.296875\n",
      "Parameter: para_init, Updated Value: tensor([ 0.0340, -0.0100,  0.5360,  0.1372, -0.1668,  0.7726], device='cuda:0')\n",
      "Loss:  54686516.52134746\n",
      "\n",
      "================================================================================================================\n",
      "loop_id:  34\n"
     ]
    },
    {
     "name": "stderr",
     "output_type": "stream",
     "text": [
      "Optimizing:  35%|███▌      | 35/100 [00:46<01:26,  1.34s/it, loss=5.48e+7]"
     ]
    },
    {
     "name": "stdout",
     "output_type": "stream",
     "text": [
      "-----------------------------------------------------------------\n",
      "loss_contour:  tensor(1.3141e+08, device='cuda:0', dtype=torch.float64,\n",
      "       grad_fn=<AddBackward0>)\n",
      "loss_tip_distance:  tensor(530.2387, device='cuda:0', dtype=torch.float64, grad_fn=<MeanBackward0>)\n",
      "motion_model_loss:  tensor(54801256., device='cuda:0')\n",
      "loss:  tensor(54801786.2387, device='cuda:0', dtype=torch.float64,\n",
      "       grad_fn=<AddBackward0>)\n",
      "-----------------------------------------------------------------\n",
      "Gradients BEFORE BACKWARD PASS:\n",
      "para_init: No gradient computed\n",
      "Gradients AFTER BACKWARD PASS:\n",
      "Parameter: para_init, Gradient: 37910.5234375\n",
      "Parameter: para_init, Updated Value: tensor([ 0.0340, -0.0100,  0.5360,  0.1394, -0.1666,  0.7731], device='cuda:0')\n",
      "Loss:  54801786.23868209\n",
      "\n",
      "================================================================================================================\n",
      "loop_id:  35\n"
     ]
    },
    {
     "name": "stderr",
     "output_type": "stream",
     "text": [
      "Optimizing:  36%|███▌      | 36/100 [00:48<01:26,  1.35s/it, loss=5.49e+7]"
     ]
    },
    {
     "name": "stdout",
     "output_type": "stream",
     "text": [
      "-----------------------------------------------------------------\n",
      "loss_contour:  tensor(1.5173e+08, device='cuda:0', dtype=torch.float64,\n",
      "       grad_fn=<AddBackward0>)\n",
      "loss_tip_distance:  tensor(555.6320, device='cuda:0', dtype=torch.float64, grad_fn=<MeanBackward0>)\n",
      "motion_model_loss:  tensor(54948920., device='cuda:0')\n",
      "loss:  tensor(54949475.6320, device='cuda:0', dtype=torch.float64,\n",
      "       grad_fn=<AddBackward0>)\n",
      "-----------------------------------------------------------------\n",
      "Gradients BEFORE BACKWARD PASS:\n",
      "para_init: No gradient computed\n",
      "Gradients AFTER BACKWARD PASS:\n",
      "Parameter: para_init, Gradient: 38676.1484375\n",
      "Parameter: para_init, Updated Value: tensor([ 0.0340, -0.0100,  0.5360,  0.1413, -0.1665,  0.7734], device='cuda:0')\n",
      "Loss:  54949475.63195288\n",
      "\n",
      "================================================================================================================\n",
      "loop_id:  36\n"
     ]
    },
    {
     "name": "stderr",
     "output_type": "stream",
     "text": [
      "Optimizing:  37%|███▋      | 37/100 [00:49<01:27,  1.40s/it, loss=5.51e+7]"
     ]
    },
    {
     "name": "stdout",
     "output_type": "stream",
     "text": [
      "-----------------------------------------------------------------\n",
      "loss_contour:  tensor(95893253.7869, device='cuda:0', dtype=torch.float64,\n",
      "       grad_fn=<AddBackward0>)\n",
      "loss_tip_distance:  tensor(574.6389, device='cuda:0', dtype=torch.float64, grad_fn=<MeanBackward0>)\n",
      "motion_model_loss:  tensor(55122740., device='cuda:0')\n",
      "loss:  tensor(55123314.6389, device='cuda:0', dtype=torch.float64,\n",
      "       grad_fn=<AddBackward0>)\n",
      "-----------------------------------------------------------------\n",
      "Gradients BEFORE BACKWARD PASS:\n",
      "para_init: No gradient computed\n",
      "Gradients AFTER BACKWARD PASS:\n",
      "Parameter: para_init, Gradient: 39223.03515625\n",
      "Parameter: para_init, Updated Value: tensor([ 0.0340, -0.0100,  0.5360,  0.1429, -0.1667,  0.7736], device='cuda:0')\n",
      "Loss:  55123314.63893221\n",
      "\n",
      "================================================================================================================\n",
      "loop_id:  37\n"
     ]
    },
    {
     "name": "stderr",
     "output_type": "stream",
     "text": [
      "Optimizing:  38%|███▊      | 38/100 [00:51<01:27,  1.40s/it, loss=5.53e+7]"
     ]
    },
    {
     "name": "stdout",
     "output_type": "stream",
     "text": [
      "-----------------------------------------------------------------\n",
      "loss_contour:  tensor(89057517.4160, device='cuda:0', dtype=torch.float64,\n",
      "       grad_fn=<AddBackward0>)\n",
      "loss_tip_distance:  tensor(585.6841, device='cuda:0', dtype=torch.float64, grad_fn=<MeanBackward0>)\n",
      "motion_model_loss:  tensor(55317136., device='cuda:0')\n",
      "loss:  tensor(55317721.6841, device='cuda:0', dtype=torch.float64,\n",
      "       grad_fn=<AddBackward0>)\n",
      "-----------------------------------------------------------------\n",
      "Gradients BEFORE BACKWARD PASS:\n",
      "para_init: No gradient computed\n",
      "Gradients AFTER BACKWARD PASS:\n",
      "Parameter: para_init, Gradient: 39510.828125\n",
      "Parameter: para_init, Updated Value: tensor([ 0.0340, -0.0100,  0.5360,  0.1441, -0.1671,  0.7738], device='cuda:0')\n",
      "Loss:  55317721.684094585\n",
      "\n",
      "================================================================================================================\n",
      "loop_id:  38\n"
     ]
    },
    {
     "name": "stderr",
     "output_type": "stream",
     "text": [
      "Optimizing:  39%|███▉      | 39/100 [00:52<01:23,  1.37s/it, loss=5.55e+7]"
     ]
    },
    {
     "name": "stdout",
     "output_type": "stream",
     "text": [
      "-----------------------------------------------------------------\n",
      "loss_contour:  tensor(89942461.0858, device='cuda:0', dtype=torch.float64,\n",
      "       grad_fn=<AddBackward0>)\n",
      "loss_tip_distance:  tensor(587.7326, device='cuda:0', dtype=torch.float64, grad_fn=<MeanBackward0>)\n",
      "motion_model_loss:  tensor(55527176., device='cuda:0')\n",
      "loss:  tensor(55527763.7326, device='cuda:0', dtype=torch.float64,\n",
      "       grad_fn=<AddBackward0>)\n",
      "-----------------------------------------------------------------\n",
      "Gradients BEFORE BACKWARD PASS:\n",
      "para_init: No gradient computed\n",
      "Gradients AFTER BACKWARD PASS:\n",
      "Parameter: para_init, Gradient: 39512.328125\n",
      "Parameter: para_init, Updated Value: tensor([ 0.0340, -0.0100,  0.5360,  0.1451, -0.1677,  0.7739], device='cuda:0')\n",
      "Loss:  55527763.73257117\n",
      "\n",
      "================================================================================================================\n",
      "loop_id:  39\n"
     ]
    },
    {
     "name": "stderr",
     "output_type": "stream",
     "text": [
      "Optimizing:  40%|████      | 40/100 [00:53<01:20,  1.35s/it, loss=5.57e+7]"
     ]
    },
    {
     "name": "stdout",
     "output_type": "stream",
     "text": [
      "-----------------------------------------------------------------\n",
      "loss_contour:  tensor(92708041.9575, device='cuda:0', dtype=torch.float64,\n",
      "       grad_fn=<AddBackward0>)\n",
      "loss_tip_distance:  tensor(580.3203, device='cuda:0', dtype=torch.float64, grad_fn=<MeanBackward0>)\n",
      "motion_model_loss:  tensor(55748776., device='cuda:0')\n",
      "loss:  tensor(55749356.3203, device='cuda:0', dtype=torch.float64,\n",
      "       grad_fn=<AddBackward0>)\n",
      "-----------------------------------------------------------------\n",
      "Gradients BEFORE BACKWARD PASS:\n",
      "para_init: No gradient computed\n",
      "Gradients AFTER BACKWARD PASS:\n",
      "Parameter: para_init, Gradient: 39212.37109375\n",
      "Parameter: para_init, Updated Value: tensor([ 0.0340, -0.0100,  0.5360,  0.1457, -0.1684,  0.7739], device='cuda:0')\n",
      "Loss:  55749356.320349455\n",
      "\n",
      "================================================================================================================\n",
      "loop_id:  40\n"
     ]
    },
    {
     "name": "stderr",
     "output_type": "stream",
     "text": [
      "Optimizing:  41%|████      | 41/100 [00:55<01:19,  1.35s/it, loss=5.6e+7] "
     ]
    },
    {
     "name": "stdout",
     "output_type": "stream",
     "text": [
      "-----------------------------------------------------------------\n",
      "loss_contour:  tensor(93604879.5810, device='cuda:0', dtype=torch.float64,\n",
      "       grad_fn=<AddBackward0>)\n",
      "loss_tip_distance:  tensor(563.5425, device='cuda:0', dtype=torch.float64, grad_fn=<MeanBackward0>)\n",
      "motion_model_loss:  tensor(55978664., device='cuda:0')\n",
      "loss:  tensor(55979227.5425, device='cuda:0', dtype=torch.float64,\n",
      "       grad_fn=<AddBackward0>)\n",
      "-----------------------------------------------------------------\n",
      "Gradients BEFORE BACKWARD PASS:\n",
      "para_init: No gradient computed\n",
      "Gradients AFTER BACKWARD PASS:\n",
      "Parameter: para_init, Gradient: 38606.5078125\n",
      "Parameter: para_init, Updated Value: tensor([ 0.0340, -0.0100,  0.5360,  0.1460, -0.1693,  0.7739], device='cuda:0')\n",
      "Loss:  55979227.54252259\n",
      "\n",
      "================================================================================================================\n",
      "loop_id:  41\n"
     ]
    },
    {
     "name": "stderr",
     "output_type": "stream",
     "text": [
      "Optimizing:  42%|████▏     | 42/100 [00:56<01:18,  1.35s/it, loss=5.62e+7]"
     ]
    },
    {
     "name": "stdout",
     "output_type": "stream",
     "text": [
      "-----------------------------------------------------------------\n",
      "loss_contour:  tensor(91665539.3354, device='cuda:0', dtype=torch.float64,\n",
      "       grad_fn=<AddBackward0>)\n",
      "loss_tip_distance:  tensor(538.0091, device='cuda:0', dtype=torch.float64, grad_fn=<MeanBackward0>)\n",
      "motion_model_loss:  tensor(56214436., device='cuda:0')\n",
      "loss:  tensor(56214974.0091, device='cuda:0', dtype=torch.float64,\n",
      "       grad_fn=<AddBackward0>)\n",
      "-----------------------------------------------------------------\n",
      "Gradients BEFORE BACKWARD PASS:\n",
      "para_init: No gradient computed\n",
      "Gradients AFTER BACKWARD PASS:\n",
      "Parameter: para_init, Gradient: 37699.796875\n",
      "Parameter: para_init, Updated Value: tensor([ 0.0340, -0.0100,  0.5360,  0.1461, -0.1703,  0.7738], device='cuda:0')\n",
      "Loss:  56214974.00905659\n",
      "\n",
      "================================================================================================================\n",
      "loop_id:  42\n"
     ]
    },
    {
     "name": "stderr",
     "output_type": "stream",
     "text": [
      "Optimizing:  43%|████▎     | 43/100 [00:57<01:16,  1.34s/it, loss=5.65e+7]"
     ]
    },
    {
     "name": "stdout",
     "output_type": "stream",
     "text": [
      "-----------------------------------------------------------------\n",
      "loss_contour:  tensor(89270737.9468, device='cuda:0', dtype=torch.float64,\n",
      "       grad_fn=<AddBackward0>)\n",
      "loss_tip_distance:  tensor(504.7724, device='cuda:0', dtype=torch.float64, grad_fn=<MeanBackward0>)\n",
      "motion_model_loss:  tensor(56454576., device='cuda:0')\n",
      "loss:  tensor(56455080.7724, device='cuda:0', dtype=torch.float64,\n",
      "       grad_fn=<AddBackward0>)\n",
      "-----------------------------------------------------------------\n",
      "Gradients BEFORE BACKWARD PASS:\n",
      "para_init: No gradient computed\n",
      "Gradients AFTER BACKWARD PASS:\n",
      "Parameter: para_init, Gradient: 36505.703125\n",
      "Parameter: para_init, Updated Value: tensor([ 0.0340, -0.0100,  0.5360,  0.1458, -0.1714,  0.7737], device='cuda:0')\n",
      "Loss:  56455080.77238755\n",
      "\n",
      "================================================================================================================\n",
      "loop_id:  43\n"
     ]
    },
    {
     "name": "stderr",
     "output_type": "stream",
     "text": [
      "Optimizing:  44%|████▍     | 44/100 [00:59<01:14,  1.33s/it, loss=5.67e+7]"
     ]
    },
    {
     "name": "stdout",
     "output_type": "stream",
     "text": [
      "-----------------------------------------------------------------\n",
      "loss_contour:  tensor(89441944.1662, device='cuda:0', dtype=torch.float64,\n",
      "       grad_fn=<AddBackward0>)\n",
      "loss_tip_distance:  tensor(465.2308, device='cuda:0', dtype=torch.float64, grad_fn=<MeanBackward0>)\n",
      "motion_model_loss:  tensor(56698312., device='cuda:0')\n",
      "loss:  tensor(56698777.2308, device='cuda:0', dtype=torch.float64,\n",
      "       grad_fn=<AddBackward0>)\n",
      "-----------------------------------------------------------------\n",
      "Gradients BEFORE BACKWARD PASS:\n",
      "para_init: No gradient computed\n",
      "Gradients AFTER BACKWARD PASS:\n",
      "Parameter: para_init, Gradient: 35044.9140625\n",
      "Parameter: para_init, Updated Value: tensor([ 0.0340, -0.0100,  0.5360,  0.1454, -0.1726,  0.7736], device='cuda:0')\n",
      "Loss:  56698777.23082228\n",
      "\n",
      "================================================================================================================\n",
      "loop_id:  44\n"
     ]
    },
    {
     "name": "stderr",
     "output_type": "stream",
     "text": [
      "Optimizing:  45%|████▌     | 45/100 [01:00<01:13,  1.33s/it, loss=5.69e+7]"
     ]
    },
    {
     "name": "stdout",
     "output_type": "stream",
     "text": [
      "-----------------------------------------------------------------\n",
      "loss_contour:  tensor(95823662.1897, device='cuda:0', dtype=torch.float64,\n",
      "       grad_fn=<AddBackward0>)\n",
      "loss_tip_distance:  tensor(421.0166, device='cuda:0', dtype=torch.float64, grad_fn=<MeanBackward0>)\n",
      "motion_model_loss:  tensor(56945540., device='cuda:0')\n",
      "loss:  tensor(56945961.0166, device='cuda:0', dtype=torch.float64,\n",
      "       grad_fn=<AddBackward0>)\n",
      "-----------------------------------------------------------------\n",
      "Gradients BEFORE BACKWARD PASS:\n",
      "para_init: No gradient computed\n",
      "Gradients AFTER BACKWARD PASS:\n",
      "Parameter: para_init, Gradient: 33344.16015625\n",
      "Parameter: para_init, Updated Value: tensor([ 0.0340, -0.0100,  0.5360,  0.1447, -0.1739,  0.7735], device='cuda:0')\n",
      "Loss:  56945961.01664715\n",
      "\n",
      "================================================================================================================\n",
      "loop_id:  45\n"
     ]
    },
    {
     "name": "stderr",
     "output_type": "stream",
     "text": [
      "Optimizing:  46%|████▌     | 46/100 [01:01<01:13,  1.36s/it, loss=5.72e+7]"
     ]
    },
    {
     "name": "stdout",
     "output_type": "stream",
     "text": [
      "-----------------------------------------------------------------\n",
      "loss_contour:  tensor(1.2390e+08, device='cuda:0', dtype=torch.float64,\n",
      "       grad_fn=<AddBackward0>)\n",
      "loss_tip_distance:  tensor(373.8816, device='cuda:0', dtype=torch.float64, grad_fn=<MeanBackward0>)\n",
      "motion_model_loss:  tensor(57196560., device='cuda:0')\n",
      "loss:  tensor(57196933.8816, device='cuda:0', dtype=torch.float64,\n",
      "       grad_fn=<AddBackward0>)\n",
      "-----------------------------------------------------------------\n",
      "Gradients BEFORE BACKWARD PASS:\n",
      "para_init: No gradient computed\n",
      "Gradients AFTER BACKWARD PASS:\n",
      "Parameter: para_init, Gradient: 31435.138671875\n",
      "Parameter: para_init, Updated Value: tensor([ 0.0340, -0.0100,  0.5360,  0.1438, -0.1752,  0.7733], device='cuda:0')\n",
      "Loss:  57196933.881558776\n",
      "\n",
      "================================================================================================================\n",
      "loop_id:  46\n"
     ]
    },
    {
     "name": "stderr",
     "output_type": "stream",
     "text": [
      "Optimizing:  47%|████▋     | 47/100 [01:03<01:12,  1.36s/it, loss=5.75e+7]"
     ]
    },
    {
     "name": "stdout",
     "output_type": "stream",
     "text": [
      "-----------------------------------------------------------------\n",
      "loss_contour:  tensor(4.3837e+08, device='cuda:0', dtype=torch.float64,\n",
      "       grad_fn=<AddBackward0>)\n",
      "loss_tip_distance:  tensor(325.5816, device='cuda:0', dtype=torch.float64, grad_fn=<MeanBackward0>)\n",
      "motion_model_loss:  tensor(57452036., device='cuda:0')\n",
      "loss:  tensor(57452361.5816, device='cuda:0', dtype=torch.float64,\n",
      "       grad_fn=<AddBackward0>)\n",
      "-----------------------------------------------------------------\n",
      "Gradients BEFORE BACKWARD PASS:\n",
      "para_init: No gradient computed\n",
      "Gradients AFTER BACKWARD PASS:\n",
      "Parameter: para_init, Gradient: 29353.3515625\n",
      "Parameter: para_init, Updated Value: tensor([ 0.0340, -0.0100,  0.5360,  0.1428, -0.1766,  0.7731], device='cuda:0')\n",
      "Loss:  57452361.581605785\n",
      "\n",
      "================================================================================================================\n",
      "loop_id:  47\n"
     ]
    },
    {
     "name": "stderr",
     "output_type": "stream",
     "text": [
      "Optimizing:  48%|████▊     | 48/100 [01:04<01:11,  1.37s/it, loss=5.77e+7]"
     ]
    },
    {
     "name": "stdout",
     "output_type": "stream",
     "text": [
      "-----------------------------------------------------------------\n",
      "loss_contour:  tensor(1.1935e+08, device='cuda:0', dtype=torch.float64,\n",
      "       grad_fn=<AddBackward0>)\n",
      "loss_tip_distance:  tensor(277.7769, device='cuda:0', dtype=torch.float64, grad_fn=<MeanBackward0>)\n",
      "motion_model_loss:  tensor(57712700., device='cuda:0')\n",
      "loss:  tensor(57712977.7769, device='cuda:0', dtype=torch.float64,\n",
      "       grad_fn=<AddBackward0>)\n",
      "-----------------------------------------------------------------\n",
      "Gradients BEFORE BACKWARD PASS:\n",
      "para_init: No gradient computed\n",
      "Gradients AFTER BACKWARD PASS:\n",
      "Parameter: para_init, Gradient: 27137.14453125\n",
      "Parameter: para_init, Updated Value: tensor([ 0.0340, -0.0100,  0.5360,  0.1417, -0.1780,  0.7729], device='cuda:0')\n",
      "Loss:  57712977.77688238\n",
      "\n",
      "================================================================================================================\n",
      "loop_id:  48\n"
     ]
    },
    {
     "name": "stderr",
     "output_type": "stream",
     "text": [
      "Optimizing:  49%|████▉     | 49/100 [01:06<01:09,  1.36s/it, loss=5.8e+7] "
     ]
    },
    {
     "name": "stdout",
     "output_type": "stream",
     "text": [
      "-----------------------------------------------------------------\n",
      "loss_contour:  tensor(1.2161e+08, device='cuda:0', dtype=torch.float64,\n",
      "       grad_fn=<AddBackward0>)\n",
      "loss_tip_distance:  tensor(231.9437, device='cuda:0', dtype=torch.float64, grad_fn=<MeanBackward0>)\n",
      "motion_model_loss:  tensor(57979164., device='cuda:0')\n",
      "loss:  tensor(57979395.9437, device='cuda:0', dtype=torch.float64,\n",
      "       grad_fn=<AddBackward0>)\n",
      "-----------------------------------------------------------------\n",
      "Gradients BEFORE BACKWARD PASS:\n",
      "para_init: No gradient computed\n",
      "Gradients AFTER BACKWARD PASS:\n",
      "Parameter: para_init, Gradient: 24826.67578125\n",
      "Parameter: para_init, Updated Value: tensor([ 0.0340, -0.0100,  0.5360,  0.1405, -0.1795,  0.7726], device='cuda:0')\n",
      "Loss:  57979395.94366115\n",
      "\n",
      "================================================================================================================\n",
      "loop_id:  49\n"
     ]
    },
    {
     "name": "stderr",
     "output_type": "stream",
     "text": [
      "Optimizing:  50%|█████     | 50/100 [01:07<01:07,  1.35s/it, loss=5.83e+7]"
     ]
    },
    {
     "name": "stdout",
     "output_type": "stream",
     "text": [
      "-----------------------------------------------------------------\n",
      "loss_contour:  tensor(2.1585e+08, device='cuda:0', dtype=torch.float64,\n",
      "       grad_fn=<AddBackward0>)\n",
      "loss_tip_distance:  tensor(189.3099, device='cuda:0', dtype=torch.float64, grad_fn=<MeanBackward0>)\n",
      "motion_model_loss:  tensor(58251876., device='cuda:0')\n",
      "loss:  tensor(58252065.3099, device='cuda:0', dtype=torch.float64,\n",
      "       grad_fn=<AddBackward0>)\n",
      "-----------------------------------------------------------------\n",
      "Gradients BEFORE BACKWARD PASS:\n",
      "para_init: No gradient computed\n",
      "Gradients AFTER BACKWARD PASS:\n",
      "Parameter: para_init, Gradient: 22463.09765625\n",
      "Parameter: para_init, Updated Value: tensor([ 0.0340, -0.0100,  0.5360,  0.1393, -0.1809,  0.7724], device='cuda:0')\n",
      "Loss:  58252065.309853934\n",
      "\n",
      "================================================================================================================\n",
      "loop_id:  50\n"
     ]
    },
    {
     "name": "stderr",
     "output_type": "stream",
     "text": [
      "Optimizing:  51%|█████     | 51/100 [01:08<01:05,  1.33s/it, loss=5.85e+7]"
     ]
    },
    {
     "name": "stdout",
     "output_type": "stream",
     "text": [
      "-----------------------------------------------------------------\n",
      "loss_contour:  tensor(2.6517e+08, device='cuda:0', dtype=torch.float64,\n",
      "       grad_fn=<AddBackward0>)\n",
      "loss_tip_distance:  tensor(150.8130, device='cuda:0', dtype=torch.float64, grad_fn=<MeanBackward0>)\n",
      "motion_model_loss:  tensor(58530820., device='cuda:0')\n",
      "loss:  tensor(58530970.8130, device='cuda:0', dtype=torch.float64,\n",
      "       grad_fn=<AddBackward0>)\n",
      "-----------------------------------------------------------------\n",
      "Gradients BEFORE BACKWARD PASS:\n",
      "para_init: No gradient computed\n",
      "Gradients AFTER BACKWARD PASS:\n",
      "Parameter: para_init, Gradient: 20087.849609375\n",
      "Parameter: para_init, Updated Value: tensor([ 0.0340, -0.0100,  0.5360,  0.1380, -0.1823,  0.7721], device='cuda:0')\n",
      "Loss:  58530970.81298328\n",
      "\n",
      "================================================================================================================\n",
      "loop_id:  51\n"
     ]
    },
    {
     "name": "stderr",
     "output_type": "stream",
     "text": [
      "Optimizing:  52%|█████▏    | 52/100 [01:09<01:03,  1.32s/it, loss=5.88e+7]"
     ]
    },
    {
     "name": "stdout",
     "output_type": "stream",
     "text": [
      "-----------------------------------------------------------------\n",
      "loss_contour:  tensor(1.1309e+08, device='cuda:0', dtype=torch.float64,\n",
      "       grad_fn=<AddBackward0>)\n",
      "loss_tip_distance:  tensor(117.0810, device='cuda:0', dtype=torch.float64, grad_fn=<MeanBackward0>)\n",
      "motion_model_loss:  tensor(58815596., device='cuda:0')\n",
      "loss:  tensor(58815713.0810, device='cuda:0', dtype=torch.float64,\n",
      "       grad_fn=<AddBackward0>)\n",
      "-----------------------------------------------------------------\n",
      "Gradients BEFORE BACKWARD PASS:\n",
      "para_init: No gradient computed\n",
      "Gradients AFTER BACKWARD PASS:\n",
      "Parameter: para_init, Gradient: 17742.140625\n",
      "Parameter: para_init, Updated Value: tensor([ 0.0340, -0.0100,  0.5360,  0.1368, -0.1837,  0.7719], device='cuda:0')\n",
      "Loss:  58815713.08101612\n",
      "\n",
      "================================================================================================================\n",
      "loop_id:  52\n"
     ]
    },
    {
     "name": "stderr",
     "output_type": "stream",
     "text": [
      "Optimizing:  53%|█████▎    | 53/100 [01:11<01:02,  1.33s/it, loss=5.91e+7]"
     ]
    },
    {
     "name": "stdout",
     "output_type": "stream",
     "text": [
      "-----------------------------------------------------------------\n",
      "loss_contour:  tensor(85396138.6152, device='cuda:0', dtype=torch.float64,\n",
      "       grad_fn=<AddBackward0>)\n",
      "loss_tip_distance:  tensor(88.4362, device='cuda:0', dtype=torch.float64, grad_fn=<MeanBackward0>)\n",
      "motion_model_loss:  tensor(59105172., device='cuda:0')\n",
      "loss:  tensor(59105260.4362, device='cuda:0', dtype=torch.float64,\n",
      "       grad_fn=<AddBackward0>)\n",
      "-----------------------------------------------------------------\n",
      "Gradients BEFORE BACKWARD PASS:\n",
      "para_init: No gradient computed\n",
      "Gradients AFTER BACKWARD PASS:\n",
      "Parameter: para_init, Gradient: 15466.8095703125\n",
      "Parameter: para_init, Updated Value: tensor([ 0.0340, -0.0100,  0.5360,  0.1356, -0.1851,  0.7716], device='cuda:0')\n",
      "Loss:  59105260.43622295\n",
      "\n",
      "================================================================================================================\n",
      "loop_id:  53\n"
     ]
    },
    {
     "name": "stderr",
     "output_type": "stream",
     "text": [
      "Optimizing:  54%|█████▍    | 54/100 [01:12<01:04,  1.40s/it, loss=5.94e+7]"
     ]
    },
    {
     "name": "stdout",
     "output_type": "stream",
     "text": [
      "-----------------------------------------------------------------\n",
      "loss_contour:  tensor(73671917.4906, device='cuda:0', dtype=torch.float64,\n",
      "       grad_fn=<AddBackward0>)\n",
      "loss_tip_distance:  tensor(64.9183, device='cuda:0', dtype=torch.float64, grad_fn=<MeanBackward0>)\n",
      "motion_model_loss:  tensor(59398068., device='cuda:0')\n",
      "loss:  tensor(59398132.9183, device='cuda:0', dtype=torch.float64,\n",
      "       grad_fn=<AddBackward0>)\n",
      "-----------------------------------------------------------------\n",
      "Gradients BEFORE BACKWARD PASS:\n",
      "para_init: No gradient computed\n",
      "Gradients AFTER BACKWARD PASS:\n",
      "Parameter: para_init, Gradient: 13302.5556640625\n",
      "Parameter: para_init, Updated Value: tensor([ 0.0340, -0.0100,  0.5360,  0.1345, -0.1864,  0.7713], device='cuda:0')\n",
      "Loss:  59398132.91829968\n",
      "\n",
      "================================================================================================================\n",
      "loop_id:  54\n"
     ]
    },
    {
     "name": "stderr",
     "output_type": "stream",
     "text": [
      "Optimizing:  55%|█████▌    | 55/100 [01:14<01:01,  1.38s/it, loss=5.97e+7]"
     ]
    },
    {
     "name": "stdout",
     "output_type": "stream",
     "text": [
      "-----------------------------------------------------------------\n",
      "loss_contour:  tensor(67294231.8085, device='cuda:0', dtype=torch.float64,\n",
      "       grad_fn=<AddBackward0>)\n",
      "loss_tip_distance:  tensor(46.3216, device='cuda:0', dtype=torch.float64, grad_fn=<MeanBackward0>)\n",
      "motion_model_loss:  tensor(59692268., device='cuda:0')\n",
      "loss:  tensor(59692314.3216, device='cuda:0', dtype=torch.float64,\n",
      "       grad_fn=<AddBackward0>)\n",
      "-----------------------------------------------------------------\n",
      "Gradients BEFORE BACKWARD PASS:\n",
      "para_init: No gradient computed\n",
      "Gradients AFTER BACKWARD PASS:\n",
      "Parameter: para_init, Gradient: 11290.73828125\n",
      "Parameter: para_init, Updated Value: tensor([ 0.0340, -0.0100,  0.5360,  0.1334, -0.1877,  0.7711], device='cuda:0')\n",
      "Loss:  59692314.32161303\n",
      "\n",
      "================================================================================================================\n",
      "loop_id:  55\n"
     ]
    },
    {
     "name": "stderr",
     "output_type": "stream",
     "text": [
      "Optimizing:  56%|█████▌    | 56/100 [01:15<00:59,  1.36s/it, loss=6e+7]   "
     ]
    },
    {
     "name": "stdout",
     "output_type": "stream",
     "text": [
      "-----------------------------------------------------------------\n",
      "loss_contour:  tensor(63414160.4079, device='cuda:0', dtype=torch.float64,\n",
      "       grad_fn=<AddBackward0>)\n",
      "loss_tip_distance:  tensor(32.2455, device='cuda:0', dtype=torch.float64, grad_fn=<MeanBackward0>)\n",
      "motion_model_loss:  tensor(59985384., device='cuda:0')\n",
      "loss:  tensor(59985416.2455, device='cuda:0', dtype=torch.float64,\n",
      "       grad_fn=<AddBackward0>)\n",
      "-----------------------------------------------------------------\n",
      "Gradients BEFORE BACKWARD PASS:\n",
      "para_init: No gradient computed\n",
      "Gradients AFTER BACKWARD PASS:\n",
      "Parameter: para_init, Gradient: 9475.0537109375\n",
      "Parameter: para_init, Updated Value: tensor([ 0.0340, -0.0100,  0.5360,  0.1325, -0.1890,  0.7708], device='cuda:0')\n",
      "Loss:  59985416.245479144\n",
      "\n",
      "================================================================================================================\n",
      "loop_id:  56\n"
     ]
    },
    {
     "name": "stderr",
     "output_type": "stream",
     "text": [
      "Optimizing:  57%|█████▋    | 57/100 [01:16<00:56,  1.32s/it, loss=6.03e+7]"
     ]
    },
    {
     "name": "stdout",
     "output_type": "stream",
     "text": [
      "-----------------------------------------------------------------\n",
      "loss_contour:  tensor(60927660.3354, device='cuda:0', dtype=torch.float64,\n",
      "       grad_fn=<AddBackward0>)\n",
      "loss_tip_distance:  tensor(22.1489, device='cuda:0', dtype=torch.float64, grad_fn=<MeanBackward0>)\n",
      "motion_model_loss:  tensor(60274600., device='cuda:0')\n",
      "loss:  tensor(60274622.1489, device='cuda:0', dtype=torch.float64,\n",
      "       grad_fn=<AddBackward0>)\n",
      "-----------------------------------------------------------------\n",
      "Gradients BEFORE BACKWARD PASS:\n",
      "para_init: No gradient computed\n",
      "Gradients AFTER BACKWARD PASS:\n",
      "Parameter: para_init, Gradient: 7903.669921875\n",
      "Parameter: para_init, Updated Value: tensor([ 0.0340, -0.0100,  0.5360,  0.1316, -0.1901,  0.7705], device='cuda:0')\n",
      "Loss:  60274622.148940384\n",
      "\n",
      "================================================================================================================\n",
      "loop_id:  57\n"
     ]
    },
    {
     "name": "stderr",
     "output_type": "stream",
     "text": [
      "Optimizing:  58%|█████▊    | 58/100 [01:18<00:54,  1.30s/it, loss=6.06e+7]"
     ]
    },
    {
     "name": "stdout",
     "output_type": "stream",
     "text": [
      "-----------------------------------------------------------------\n",
      "loss_contour:  tensor(59307028.1616, device='cuda:0', dtype=torch.float64,\n",
      "       grad_fn=<AddBackward0>)\n",
      "loss_tip_distance:  tensor(15.4073, device='cuda:0', dtype=torch.float64, grad_fn=<MeanBackward0>)\n",
      "motion_model_loss:  tensor(60556988., device='cuda:0')\n",
      "loss:  tensor(60557003.4073, device='cuda:0', dtype=torch.float64,\n",
      "       grad_fn=<AddBackward0>)\n",
      "-----------------------------------------------------------------\n",
      "Gradients BEFORE BACKWARD PASS:\n",
      "para_init: No gradient computed\n",
      "Gradients AFTER BACKWARD PASS:\n",
      "Parameter: para_init, Gradient: 6630.07177734375\n",
      "Parameter: para_init, Updated Value: tensor([ 0.0340, -0.0100,  0.5360,  0.1309, -0.1912,  0.7703], device='cuda:0')\n",
      "Loss:  60557003.40727212\n",
      "\n",
      "================================================================================================================\n",
      "loop_id:  58\n"
     ]
    },
    {
     "name": "stderr",
     "output_type": "stream",
     "text": [
      "Optimizing:  59%|█████▉    | 59/100 [01:19<00:53,  1.31s/it, loss=6.08e+7]"
     ]
    },
    {
     "name": "stdout",
     "output_type": "stream",
     "text": [
      "-----------------------------------------------------------------\n",
      "loss_contour:  tensor(58260357.8599, device='cuda:0', dtype=torch.float64,\n",
      "       grad_fn=<AddBackward0>)\n",
      "loss_tip_distance:  tensor(11.3644, device='cuda:0', dtype=torch.float64, grad_fn=<MeanBackward0>)\n",
      "motion_model_loss:  tensor(60829576., device='cuda:0')\n",
      "loss:  tensor(60829587.3644, device='cuda:0', dtype=torch.float64,\n",
      "       grad_fn=<AddBackward0>)\n",
      "-----------------------------------------------------------------\n",
      "Gradients BEFORE BACKWARD PASS:\n",
      "para_init: No gradient computed\n",
      "Gradients AFTER BACKWARD PASS:\n",
      "Parameter: para_init, Gradient: 5706.51416015625\n",
      "Parameter: para_init, Updated Value: tensor([ 0.0340, -0.0100,  0.5360,  0.1303, -0.1923,  0.7700], device='cuda:0')\n",
      "Loss:  60829587.364429444\n",
      "\n",
      "================================================================================================================\n",
      "loop_id:  59\n"
     ]
    },
    {
     "name": "stderr",
     "output_type": "stream",
     "text": [
      "Optimizing:  60%|██████    | 60/100 [01:20<00:52,  1.31s/it, loss=6.11e+7]"
     ]
    },
    {
     "name": "stdout",
     "output_type": "stream",
     "text": [
      "-----------------------------------------------------------------\n",
      "loss_contour:  tensor(57606585.9770, device='cuda:0', dtype=torch.float64,\n",
      "       grad_fn=<AddBackward0>)\n",
      "loss_tip_distance:  tensor(9.3799, device='cuda:0', dtype=torch.float64, grad_fn=<MeanBackward0>)\n",
      "motion_model_loss:  tensor(61089576., device='cuda:0')\n",
      "loss:  tensor(61089585.3799, device='cuda:0', dtype=torch.float64,\n",
      "       grad_fn=<AddBackward0>)\n",
      "-----------------------------------------------------------------\n",
      "Gradients BEFORE BACKWARD PASS:\n",
      "para_init: No gradient computed\n",
      "Gradients AFTER BACKWARD PASS:\n",
      "Parameter: para_init, Gradient: 5161.49951171875\n",
      "Parameter: para_init, Updated Value: tensor([ 0.0340, -0.0100,  0.5360,  0.1299, -0.1932,  0.7697], device='cuda:0')\n",
      "Loss:  61089585.379877314\n",
      "\n",
      "================================================================================================================\n",
      "loop_id:  60\n"
     ]
    },
    {
     "name": "stderr",
     "output_type": "stream",
     "text": [
      "Optimizing:  61%|██████    | 61/100 [01:21<00:50,  1.30s/it, loss=6.13e+7]"
     ]
    },
    {
     "name": "stdout",
     "output_type": "stream",
     "text": [
      "-----------------------------------------------------------------\n",
      "loss_contour:  tensor(57222469.3790, device='cuda:0', dtype=torch.float64,\n",
      "       grad_fn=<AddBackward0>)\n",
      "loss_tip_distance:  tensor(8.8654, device='cuda:0', dtype=torch.float64, grad_fn=<MeanBackward0>)\n",
      "motion_model_loss:  tensor(61334500., device='cuda:0')\n",
      "loss:  tensor(61334508.8654, device='cuda:0', dtype=torch.float64,\n",
      "       grad_fn=<AddBackward0>)\n",
      "-----------------------------------------------------------------\n",
      "Gradients BEFORE BACKWARD PASS:\n",
      "para_init: No gradient computed\n",
      "Gradients AFTER BACKWARD PASS:\n",
      "Parameter: para_init, Gradient: 4967.1474609375\n",
      "Parameter: para_init, Updated Value: tensor([ 0.0340, -0.0100,  0.5360,  0.1296, -0.1941,  0.7695], device='cuda:0')\n",
      "Loss:  61334508.865404285\n",
      "\n",
      "================================================================================================================\n",
      "loop_id:  61\n"
     ]
    },
    {
     "name": "stderr",
     "output_type": "stream",
     "text": [
      "Optimizing:  62%|██████▏   | 62/100 [01:23<00:48,  1.28s/it, loss=6.16e+7]"
     ]
    },
    {
     "name": "stdout",
     "output_type": "stream",
     "text": [
      "-----------------------------------------------------------------\n",
      "loss_contour:  tensor(57018182.4204, device='cuda:0', dtype=torch.float64,\n",
      "       grad_fn=<AddBackward0>)\n",
      "loss_tip_distance:  tensor(9.3106, device='cuda:0', dtype=torch.float64, grad_fn=<MeanBackward0>)\n",
      "motion_model_loss:  tensor(61562224., device='cuda:0')\n",
      "loss:  tensor(61562233.3106, device='cuda:0', dtype=torch.float64,\n",
      "       grad_fn=<AddBackward0>)\n",
      "-----------------------------------------------------------------\n",
      "Gradients BEFORE BACKWARD PASS:\n",
      "para_init: No gradient computed\n",
      "Gradients AFTER BACKWARD PASS:\n",
      "Parameter: para_init, Gradient: 5033.859375\n",
      "Parameter: para_init, Updated Value: tensor([ 0.0340, -0.0100,  0.5360,  0.1294, -0.1949,  0.7693], device='cuda:0')\n",
      "Loss:  61562233.31063539\n",
      "\n",
      "================================================================================================================\n",
      "loop_id:  62\n"
     ]
    },
    {
     "name": "stderr",
     "output_type": "stream",
     "text": [
      "Optimizing:  63%|██████▎   | 63/100 [01:24<00:47,  1.28s/it, loss=6.18e+7]"
     ]
    },
    {
     "name": "stdout",
     "output_type": "stream",
     "text": [
      "-----------------------------------------------------------------\n",
      "loss_contour:  tensor(56926138.8618, device='cuda:0', dtype=torch.float64,\n",
      "       grad_fn=<AddBackward0>)\n",
      "loss_tip_distance:  tensor(10.2992, device='cuda:0', dtype=torch.float64, grad_fn=<MeanBackward0>)\n",
      "motion_model_loss:  tensor(61771148., device='cuda:0')\n",
      "loss:  tensor(61771158.2992, device='cuda:0', dtype=torch.float64,\n",
      "       grad_fn=<AddBackward0>)\n",
      "-----------------------------------------------------------------\n",
      "Gradients BEFORE BACKWARD PASS:\n",
      "para_init: No gradient computed\n",
      "Gradients AFTER BACKWARD PASS:\n",
      "Parameter: para_init, Gradient: 5250.009765625\n",
      "Parameter: para_init, Updated Value: tensor([ 0.0340, -0.0100,  0.5360,  0.1293, -0.1956,  0.7691], device='cuda:0')\n",
      "Loss:  61771158.29917564\n",
      "\n",
      "================================================================================================================\n",
      "loop_id:  63\n"
     ]
    },
    {
     "name": "stderr",
     "output_type": "stream",
     "text": [
      "Optimizing:  64%|██████▍   | 64/100 [01:25<00:45,  1.26s/it, loss=6.2e+7] "
     ]
    },
    {
     "name": "stdout",
     "output_type": "stream",
     "text": [
      "-----------------------------------------------------------------\n",
      "loss_contour:  tensor(56896139.3912, device='cuda:0', dtype=torch.float64,\n",
      "       grad_fn=<AddBackward0>)\n",
      "loss_tip_distance:  tensor(11.5124, device='cuda:0', dtype=torch.float64, grad_fn=<MeanBackward0>)\n",
      "motion_model_loss:  tensor(61960180., device='cuda:0')\n",
      "loss:  tensor(61960191.5124, device='cuda:0', dtype=torch.float64,\n",
      "       grad_fn=<AddBackward0>)\n",
      "-----------------------------------------------------------------\n",
      "Gradients BEFORE BACKWARD PASS:\n",
      "para_init: No gradient computed\n",
      "Gradients AFTER BACKWARD PASS:\n",
      "Parameter: para_init, Gradient: 5523.603515625\n",
      "Parameter: para_init, Updated Value: tensor([ 0.0340, -0.0100,  0.5360,  0.1294, -0.1963,  0.7688], device='cuda:0')\n",
      "Loss:  61960191.51244149\n",
      "\n",
      "================================================================================================================\n",
      "loop_id:  64\n"
     ]
    },
    {
     "name": "stderr",
     "output_type": "stream",
     "text": [
      "Optimizing:  65%|██████▌   | 65/100 [01:27<00:45,  1.29s/it, loss=6.21e+7]"
     ]
    },
    {
     "name": "stdout",
     "output_type": "stream",
     "text": [
      "-----------------------------------------------------------------\n",
      "loss_contour:  tensor(56893319.2598, device='cuda:0', dtype=torch.float64,\n",
      "       grad_fn=<AddBackward0>)\n",
      "loss_tip_distance:  tensor(12.7260, device='cuda:0', dtype=torch.float64, grad_fn=<MeanBackward0>)\n",
      "motion_model_loss:  tensor(62128768., device='cuda:0')\n",
      "loss:  tensor(62128780.7260, device='cuda:0', dtype=torch.float64,\n",
      "       grad_fn=<AddBackward0>)\n",
      "-----------------------------------------------------------------\n",
      "Gradients BEFORE BACKWARD PASS:\n",
      "para_init: No gradient computed\n",
      "Gradients AFTER BACKWARD PASS:\n",
      "Parameter: para_init, Gradient: 5795.83251953125\n",
      "Parameter: para_init, Updated Value: tensor([ 0.0340, -0.0100,  0.5360,  0.1295, -0.1968,  0.7687], device='cuda:0')\n",
      "Loss:  62128780.726000205\n",
      "\n",
      "================================================================================================================\n",
      "loop_id:  65\n"
     ]
    },
    {
     "name": "stderr",
     "output_type": "stream",
     "text": [
      "Optimizing:  66%|██████▌   | 66/100 [01:28<00:43,  1.28s/it, loss=6.23e+7]"
     ]
    },
    {
     "name": "stdout",
     "output_type": "stream",
     "text": [
      "-----------------------------------------------------------------\n",
      "loss_contour:  tensor(56896615.3362, device='cuda:0', dtype=torch.float64,\n",
      "       grad_fn=<AddBackward0>)\n",
      "loss_tip_distance:  tensor(13.7987, device='cuda:0', dtype=torch.float64, grad_fn=<MeanBackward0>)\n",
      "motion_model_loss:  tensor(62276800., device='cuda:0')\n",
      "loss:  tensor(62276813.7987, device='cuda:0', dtype=torch.float64,\n",
      "       grad_fn=<AddBackward0>)\n",
      "-----------------------------------------------------------------\n",
      "Gradients BEFORE BACKWARD PASS:\n",
      "para_init: No gradient computed\n",
      "Gradients AFTER BACKWARD PASS:\n",
      "Parameter: para_init, Gradient: 6035.6015625\n",
      "Parameter: para_init, Updated Value: tensor([ 0.0340, -0.0100,  0.5360,  0.1297, -0.1973,  0.7685], device='cuda:0')\n",
      "Loss:  62276813.798692286\n",
      "\n",
      "================================================================================================================\n",
      "loop_id:  66\n"
     ]
    },
    {
     "name": "stderr",
     "output_type": "stream",
     "text": [
      "Optimizing:  67%|██████▋   | 67/100 [01:29<00:41,  1.27s/it, loss=6.24e+7]"
     ]
    },
    {
     "name": "stdout",
     "output_type": "stream",
     "text": [
      "-----------------------------------------------------------------\n",
      "loss_contour:  tensor(56896864.3973, device='cuda:0', dtype=torch.float64,\n",
      "       grad_fn=<AddBackward0>)\n",
      "loss_tip_distance:  tensor(14.6572, device='cuda:0', dtype=torch.float64, grad_fn=<MeanBackward0>)\n",
      "motion_model_loss:  tensor(62404580., device='cuda:0')\n",
      "loss:  tensor(62404594.6572, device='cuda:0', dtype=torch.float64,\n",
      "       grad_fn=<AddBackward0>)\n",
      "-----------------------------------------------------------------\n",
      "Gradients BEFORE BACKWARD PASS:\n",
      "para_init: No gradient computed\n",
      "Gradients AFTER BACKWARD PASS:\n",
      "Parameter: para_init, Gradient: 6230.15380859375\n",
      "Parameter: para_init, Updated Value: tensor([ 0.0340, -0.0100,  0.5360,  0.1300, -0.1977,  0.7683], device='cuda:0')\n",
      "Loss:  62404594.657234594\n",
      "\n",
      "================================================================================================================\n",
      "loop_id:  67\n"
     ]
    },
    {
     "name": "stderr",
     "output_type": "stream",
     "text": [
      "Optimizing:  68%|██████▊   | 68/100 [01:30<00:40,  1.27s/it, loss=6.25e+7]"
     ]
    },
    {
     "name": "stdout",
     "output_type": "stream",
     "text": [
      "-----------------------------------------------------------------\n",
      "loss_contour:  tensor(56893992.8410, device='cuda:0', dtype=torch.float64,\n",
      "       grad_fn=<AddBackward0>)\n",
      "loss_tip_distance:  tensor(15.2786, device='cuda:0', dtype=torch.float64, grad_fn=<MeanBackward0>)\n",
      "motion_model_loss:  tensor(62512732., device='cuda:0')\n",
      "loss:  tensor(62512747.2786, device='cuda:0', dtype=torch.float64,\n",
      "       grad_fn=<AddBackward0>)\n",
      "-----------------------------------------------------------------\n",
      "Gradients BEFORE BACKWARD PASS:\n",
      "para_init: No gradient computed\n",
      "Gradients AFTER BACKWARD PASS:\n",
      "Parameter: para_init, Gradient: 6377.47509765625\n",
      "Parameter: para_init, Updated Value: tensor([ 0.0340, -0.0100,  0.5360,  0.1304, -0.1981,  0.7682], device='cuda:0')\n",
      "Loss:  62512747.27858847\n",
      "\n",
      "================================================================================================================\n",
      "loop_id:  68\n"
     ]
    },
    {
     "name": "stderr",
     "output_type": "stream",
     "text": [
      "Optimizing:  69%|██████▉   | 69/100 [01:32<00:39,  1.27s/it, loss=6.26e+7]"
     ]
    },
    {
     "name": "stdout",
     "output_type": "stream",
     "text": [
      "-----------------------------------------------------------------\n",
      "loss_contour:  tensor(56893734.7552, device='cuda:0', dtype=torch.float64,\n",
      "       grad_fn=<AddBackward0>)\n",
      "loss_tip_distance:  tensor(15.6731, device='cuda:0', dtype=torch.float64, grad_fn=<MeanBackward0>)\n",
      "motion_model_loss:  tensor(62602132., device='cuda:0')\n",
      "loss:  tensor(62602147.6731, device='cuda:0', dtype=torch.float64,\n",
      "       grad_fn=<AddBackward0>)\n",
      "-----------------------------------------------------------------\n",
      "Gradients BEFORE BACKWARD PASS:\n",
      "para_init: No gradient computed\n",
      "Gradients AFTER BACKWARD PASS:\n",
      "Parameter: para_init, Gradient: 6481.21630859375\n",
      "Parameter: para_init, Updated Value: tensor([ 0.0340, -0.0100,  0.5360,  0.1308, -0.1983,  0.7681], device='cuda:0')\n",
      "Loss:  62602147.67307842\n",
      "\n",
      "================================================================================================================\n",
      "loop_id:  69\n"
     ]
    },
    {
     "name": "stderr",
     "output_type": "stream",
     "text": [
      "Optimizing:  70%|███████   | 70/100 [01:33<00:37,  1.25s/it, loss=6.27e+7]"
     ]
    },
    {
     "name": "stdout",
     "output_type": "stream",
     "text": [
      "-----------------------------------------------------------------\n",
      "loss_contour:  tensor(56904455.9599, device='cuda:0', dtype=torch.float64,\n",
      "       grad_fn=<AddBackward0>)\n",
      "loss_tip_distance:  tensor(15.8685, device='cuda:0', dtype=torch.float64, grad_fn=<MeanBackward0>)\n",
      "motion_model_loss:  tensor(62673804., device='cuda:0')\n",
      "loss:  tensor(62673819.8685, device='cuda:0', dtype=torch.float64,\n",
      "       grad_fn=<AddBackward0>)\n",
      "-----------------------------------------------------------------\n",
      "Gradients BEFORE BACKWARD PASS:\n",
      "para_init: No gradient computed\n",
      "Gradients AFTER BACKWARD PASS:\n",
      "Parameter: para_init, Gradient: 6547.1982421875\n",
      "Parameter: para_init, Updated Value: tensor([ 0.0340, -0.0100,  0.5360,  0.1312, -0.1985,  0.7680], device='cuda:0')\n",
      "Loss:  62673819.86854043\n",
      "\n",
      "================================================================================================================\n",
      "loop_id:  70\n"
     ]
    },
    {
     "name": "stderr",
     "output_type": "stream",
     "text": [
      "Optimizing:  71%|███████   | 71/100 [01:34<00:36,  1.24s/it, loss=6.27e+7]"
     ]
    },
    {
     "name": "stdout",
     "output_type": "stream",
     "text": [
      "-----------------------------------------------------------------\n",
      "loss_contour:  tensor(56934509.5814, device='cuda:0', dtype=torch.float64,\n",
      "       grad_fn=<AddBackward0>)\n",
      "loss_tip_distance:  tensor(15.8977, device='cuda:0', dtype=torch.float64, grad_fn=<MeanBackward0>)\n",
      "motion_model_loss:  tensor(62728876., device='cuda:0')\n",
      "loss:  tensor(62728891.8977, device='cuda:0', dtype=torch.float64,\n",
      "       grad_fn=<AddBackward0>)\n",
      "-----------------------------------------------------------------\n",
      "Gradients BEFORE BACKWARD PASS:\n",
      "para_init: No gradient computed\n",
      "Gradients AFTER BACKWARD PASS:\n",
      "Parameter: para_init, Gradient: 6581.16748046875\n",
      "Parameter: para_init, Updated Value: tensor([ 0.0340, -0.0100,  0.5360,  0.1317, -0.1986,  0.7680], device='cuda:0')\n",
      "Loss:  62728891.8977299\n",
      "\n",
      "================================================================================================================\n",
      "loop_id:  71\n"
     ]
    },
    {
     "name": "stderr",
     "output_type": "stream",
     "text": [
      "Optimizing:  72%|███████▏  | 72/100 [01:35<00:34,  1.25s/it, loss=6.28e+7]"
     ]
    },
    {
     "name": "stdout",
     "output_type": "stream",
     "text": [
      "-----------------------------------------------------------------\n",
      "loss_contour:  tensor(56990444.6331, device='cuda:0', dtype=torch.float64,\n",
      "       grad_fn=<AddBackward0>)\n",
      "loss_tip_distance:  tensor(15.7889, device='cuda:0', dtype=torch.float64, grad_fn=<MeanBackward0>)\n",
      "motion_model_loss:  tensor(62768552., device='cuda:0')\n",
      "loss:  tensor(62768567.7889, device='cuda:0', dtype=torch.float64,\n",
      "       grad_fn=<AddBackward0>)\n",
      "-----------------------------------------------------------------\n",
      "Gradients BEFORE BACKWARD PASS:\n",
      "para_init: No gradient computed\n",
      "Gradients AFTER BACKWARD PASS:\n",
      "Parameter: para_init, Gradient: 6587.32275390625\n",
      "Parameter: para_init, Updated Value: tensor([ 0.0340, -0.0100,  0.5360,  0.1321, -0.1987,  0.7679], device='cuda:0')\n",
      "Loss:  62768567.78891678\n",
      "\n",
      "================================================================================================================\n",
      "loop_id:  72\n"
     ]
    },
    {
     "name": "stderr",
     "output_type": "stream",
     "text": [
      "Optimizing:  73%|███████▎  | 73/100 [01:37<00:34,  1.26s/it, loss=6.28e+7]"
     ]
    },
    {
     "name": "stdout",
     "output_type": "stream",
     "text": [
      "-----------------------------------------------------------------\n",
      "loss_contour:  tensor(57076035.0022, device='cuda:0', dtype=torch.float64,\n",
      "       grad_fn=<AddBackward0>)\n",
      "loss_tip_distance:  tensor(15.5620, device='cuda:0', dtype=torch.float64, grad_fn=<MeanBackward0>)\n",
      "motion_model_loss:  tensor(62793976., device='cuda:0')\n",
      "loss:  tensor(62793991.5620, device='cuda:0', dtype=torch.float64,\n",
      "       grad_fn=<AddBackward0>)\n",
      "-----------------------------------------------------------------\n",
      "Gradients BEFORE BACKWARD PASS:\n",
      "para_init: No gradient computed\n",
      "Gradients AFTER BACKWARD PASS:\n",
      "Parameter: para_init, Gradient: 6567.8798828125\n",
      "Parameter: para_init, Updated Value: tensor([ 0.0340, -0.0100,  0.5360,  0.1325, -0.1987,  0.7679], device='cuda:0')\n",
      "Loss:  62793991.5619545\n",
      "\n",
      "================================================================================================================\n",
      "loop_id:  73\n"
     ]
    },
    {
     "name": "stderr",
     "output_type": "stream",
     "text": [
      "Optimizing:  74%|███████▍  | 74/100 [01:38<00:33,  1.28s/it, loss=6.28e+7]"
     ]
    },
    {
     "name": "stdout",
     "output_type": "stream",
     "text": [
      "-----------------------------------------------------------------\n",
      "loss_contour:  tensor(57191949.2554, device='cuda:0', dtype=torch.float64,\n",
      "       grad_fn=<AddBackward0>)\n",
      "loss_tip_distance:  tensor(15.2255, device='cuda:0', dtype=torch.float64, grad_fn=<MeanBackward0>)\n",
      "motion_model_loss:  tensor(62806344., device='cuda:0')\n",
      "loss:  tensor(62806359.2255, device='cuda:0', dtype=torch.float64,\n",
      "       grad_fn=<AddBackward0>)\n",
      "-----------------------------------------------------------------\n",
      "Gradients BEFORE BACKWARD PASS:\n",
      "para_init: No gradient computed\n",
      "Gradients AFTER BACKWARD PASS:\n",
      "Parameter: para_init, Gradient: 6522.7080078125\n",
      "Parameter: para_init, Updated Value: tensor([ 0.0340, -0.0100,  0.5360,  0.1329, -0.1987,  0.7679], device='cuda:0')\n",
      "Loss:  62806359.22554926\n",
      "\n",
      "================================================================================================================\n",
      "loop_id:  74\n"
     ]
    },
    {
     "name": "stderr",
     "output_type": "stream",
     "text": [
      "Optimizing:  75%|███████▌  | 75/100 [01:39<00:32,  1.29s/it, loss=6.28e+7]"
     ]
    },
    {
     "name": "stdout",
     "output_type": "stream",
     "text": [
      "-----------------------------------------------------------------\n",
      "loss_contour:  tensor(57335901.2577, device='cuda:0', dtype=torch.float64,\n",
      "       grad_fn=<AddBackward0>)\n",
      "loss_tip_distance:  tensor(14.7796, device='cuda:0', dtype=torch.float64, grad_fn=<MeanBackward0>)\n",
      "motion_model_loss:  tensor(62806756., device='cuda:0')\n",
      "loss:  tensor(62806770.7796, device='cuda:0', dtype=torch.float64,\n",
      "       grad_fn=<AddBackward0>)\n",
      "-----------------------------------------------------------------\n",
      "Gradients BEFORE BACKWARD PASS:\n",
      "para_init: No gradient computed\n",
      "Gradients AFTER BACKWARD PASS:\n",
      "Parameter: para_init, Gradient: 6449.876953125\n",
      "Parameter: para_init, Updated Value: tensor([ 0.0340, -0.0100,  0.5360,  0.1333, -0.1986,  0.7679], device='cuda:0')\n",
      "Loss:  62806770.77956011\n",
      "\n",
      "================================================================================================================\n",
      "loop_id:  75\n"
     ]
    },
    {
     "name": "stderr",
     "output_type": "stream",
     "text": [
      "Optimizing:  76%|███████▌  | 76/100 [01:41<00:32,  1.35s/it, loss=6.28e+7]"
     ]
    },
    {
     "name": "stdout",
     "output_type": "stream",
     "text": [
      "-----------------------------------------------------------------\n",
      "loss_contour:  tensor(57503102.2819, device='cuda:0', dtype=torch.float64,\n",
      "       grad_fn=<AddBackward0>)\n",
      "loss_tip_distance:  tensor(14.2176, device='cuda:0', dtype=torch.float64, grad_fn=<MeanBackward0>)\n",
      "motion_model_loss:  tensor(62796328., device='cuda:0')\n",
      "loss:  tensor(62796342.2176, device='cuda:0', dtype=torch.float64,\n",
      "       grad_fn=<AddBackward0>)\n",
      "-----------------------------------------------------------------\n",
      "Gradients BEFORE BACKWARD PASS:\n",
      "para_init: No gradient computed\n",
      "Gradients AFTER BACKWARD PASS:\n",
      "Parameter: para_init, Gradient: 6346.1015625\n",
      "Parameter: para_init, Updated Value: tensor([ 0.0340, -0.0100,  0.5360,  0.1336, -0.1984,  0.7680], device='cuda:0')\n",
      "Loss:  62796342.21759635\n",
      "\n",
      "================================================================================================================\n",
      "loop_id:  76\n"
     ]
    },
    {
     "name": "stderr",
     "output_type": "stream",
     "text": [
      "Optimizing:  77%|███████▋  | 77/100 [01:42<00:30,  1.32s/it, loss=6.28e+7]"
     ]
    },
    {
     "name": "stdout",
     "output_type": "stream",
     "text": [
      "-----------------------------------------------------------------\n",
      "loss_contour:  tensor(57686892.0750, device='cuda:0', dtype=torch.float64,\n",
      "       grad_fn=<AddBackward0>)\n",
      "loss_tip_distance:  tensor(13.5321, device='cuda:0', dtype=torch.float64, grad_fn=<MeanBackward0>)\n",
      "motion_model_loss:  tensor(62776120., device='cuda:0')\n",
      "loss:  tensor(62776133.5321, device='cuda:0', dtype=torch.float64,\n",
      "       grad_fn=<AddBackward0>)\n",
      "-----------------------------------------------------------------\n",
      "Gradients BEFORE BACKWARD PASS:\n",
      "para_init: No gradient computed\n",
      "Gradients AFTER BACKWARD PASS:\n",
      "Parameter: para_init, Gradient: 6207.65625\n",
      "Parameter: para_init, Updated Value: tensor([ 0.0340, -0.0100,  0.5360,  0.1339, -0.1983,  0.7680], device='cuda:0')\n",
      "Loss:  62776133.53207876\n",
      "\n",
      "================================================================================================================\n",
      "loop_id:  77\n"
     ]
    },
    {
     "name": "stderr",
     "output_type": "stream",
     "text": [
      "Optimizing:  78%|███████▊  | 78/100 [01:43<00:28,  1.31s/it, loss=6.27e+7]"
     ]
    },
    {
     "name": "stdout",
     "output_type": "stream",
     "text": [
      "-----------------------------------------------------------------\n",
      "loss_contour:  tensor(57879412.3850, device='cuda:0', dtype=torch.float64,\n",
      "       grad_fn=<AddBackward0>)\n",
      "loss_tip_distance:  tensor(12.7176, device='cuda:0', dtype=torch.float64, grad_fn=<MeanBackward0>)\n",
      "motion_model_loss:  tensor(62747216., device='cuda:0')\n",
      "loss:  tensor(62747228.7176, device='cuda:0', dtype=torch.float64,\n",
      "       grad_fn=<AddBackward0>)\n",
      "-----------------------------------------------------------------\n",
      "Gradients BEFORE BACKWARD PASS:\n",
      "para_init: No gradient computed\n",
      "Gradients AFTER BACKWARD PASS:\n",
      "Parameter: para_init, Gradient: 6030.86474609375\n",
      "Parameter: para_init, Updated Value: tensor([ 0.0340, -0.0100,  0.5360,  0.1341, -0.1981,  0.7681], device='cuda:0')\n",
      "Loss:  62747228.71764177\n",
      "\n",
      "================================================================================================================\n",
      "loop_id:  78\n"
     ]
    },
    {
     "name": "stderr",
     "output_type": "stream",
     "text": [
      "Optimizing:  79%|███████▉  | 79/100 [01:44<00:27,  1.31s/it, loss=6.27e+7]"
     ]
    },
    {
     "name": "stdout",
     "output_type": "stream",
     "text": [
      "-----------------------------------------------------------------\n",
      "loss_contour:  tensor(58072407.3190, device='cuda:0', dtype=torch.float64,\n",
      "       grad_fn=<AddBackward0>)\n",
      "loss_tip_distance:  tensor(11.7757, device='cuda:0', dtype=torch.float64, grad_fn=<MeanBackward0>)\n",
      "motion_model_loss:  tensor(62710668., device='cuda:0')\n",
      "loss:  tensor(62710679.7757, device='cuda:0', dtype=torch.float64,\n",
      "       grad_fn=<AddBackward0>)\n",
      "-----------------------------------------------------------------\n",
      "Gradients BEFORE BACKWARD PASS:\n",
      "para_init: No gradient computed\n",
      "Gradients AFTER BACKWARD PASS:\n",
      "Parameter: para_init, Gradient: 5812.92041015625\n",
      "Parameter: para_init, Updated Value: tensor([ 0.0340, -0.0100,  0.5360,  0.1343, -0.1979,  0.7682], device='cuda:0')\n",
      "Loss:  62710679.77569979\n",
      "\n",
      "================================================================================================================\n",
      "loop_id:  79\n"
     ]
    },
    {
     "name": "stderr",
     "output_type": "stream",
     "text": [
      "Optimizing:  80%|████████  | 80/100 [01:46<00:26,  1.32s/it, loss=6.27e+7]"
     ]
    },
    {
     "name": "stdout",
     "output_type": "stream",
     "text": [
      "-----------------------------------------------------------------\n",
      "loss_contour:  tensor(58257788.0757, device='cuda:0', dtype=torch.float64,\n",
      "       grad_fn=<AddBackward0>)\n",
      "loss_tip_distance:  tensor(10.7168, device='cuda:0', dtype=torch.float64, grad_fn=<MeanBackward0>)\n",
      "motion_model_loss:  tensor(62667528., device='cuda:0')\n",
      "loss:  tensor(62667538.7168, device='cuda:0', dtype=torch.float64,\n",
      "       grad_fn=<AddBackward0>)\n",
      "-----------------------------------------------------------------\n",
      "Gradients BEFORE BACKWARD PASS:\n",
      "para_init: No gradient computed\n",
      "Gradients AFTER BACKWARD PASS:\n",
      "Parameter: para_init, Gradient: 5552.3154296875\n",
      "Parameter: para_init, Updated Value: tensor([ 0.0340, -0.0100,  0.5360,  0.1344, -0.1976,  0.7683], device='cuda:0')\n",
      "Loss:  62667538.716789044\n",
      "\n",
      "================================================================================================================\n",
      "loop_id:  80\n"
     ]
    },
    {
     "name": "stderr",
     "output_type": "stream",
     "text": [
      "Optimizing:  81%|████████  | 81/100 [01:47<00:25,  1.32s/it, loss=6.26e+7]"
     ]
    },
    {
     "name": "stdout",
     "output_type": "stream",
     "text": [
      "-----------------------------------------------------------------\n",
      "loss_contour:  tensor(58428427.0846, device='cuda:0', dtype=torch.float64,\n",
      "       grad_fn=<AddBackward0>)\n",
      "loss_tip_distance:  tensor(9.5610, device='cuda:0', dtype=torch.float64, grad_fn=<MeanBackward0>)\n",
      "motion_model_loss:  tensor(62618852., device='cuda:0')\n",
      "loss:  tensor(62618861.5610, device='cuda:0', dtype=torch.float64,\n",
      "       grad_fn=<AddBackward0>)\n",
      "-----------------------------------------------------------------\n",
      "Gradients BEFORE BACKWARD PASS:\n",
      "para_init: No gradient computed\n",
      "Gradients AFTER BACKWARD PASS:\n",
      "Parameter: para_init, Gradient: 5249.00146484375\n",
      "Parameter: para_init, Updated Value: tensor([ 0.0340, -0.0100,  0.5360,  0.1345, -0.1974,  0.7684], device='cuda:0')\n",
      "Loss:  62618861.56101665\n",
      "\n",
      "================================================================================================================\n",
      "loop_id:  81\n"
     ]
    },
    {
     "name": "stderr",
     "output_type": "stream",
     "text": [
      "Optimizing:  82%|████████▏ | 82/100 [01:49<00:25,  1.40s/it, loss=6.26e+7]"
     ]
    },
    {
     "name": "stdout",
     "output_type": "stream",
     "text": [
      "-----------------------------------------------------------------\n",
      "loss_contour:  tensor(58578555.8831, device='cuda:0', dtype=torch.float64,\n",
      "       grad_fn=<AddBackward0>)\n",
      "loss_tip_distance:  tensor(8.3383, device='cuda:0', dtype=torch.float64, grad_fn=<MeanBackward0>)\n",
      "motion_model_loss:  tensor(62565660., device='cuda:0')\n",
      "loss:  tensor(62565668.3383, device='cuda:0', dtype=torch.float64,\n",
      "       grad_fn=<AddBackward0>)\n",
      "-----------------------------------------------------------------\n",
      "Gradients BEFORE BACKWARD PASS:\n",
      "para_init: No gradient computed\n",
      "Gradients AFTER BACKWARD PASS:\n",
      "Parameter: para_init, Gradient: 4904.7158203125\n",
      "Parameter: para_init, Updated Value: tensor([ 0.0340, -0.0100,  0.5360,  0.1345, -0.1971,  0.7686], device='cuda:0')\n",
      "Loss:  62565668.338252075\n",
      "\n",
      "================================================================================================================\n",
      "loop_id:  82\n"
     ]
    },
    {
     "name": "stderr",
     "output_type": "stream",
     "text": [
      "Optimizing:  83%|████████▎ | 83/100 [01:50<00:23,  1.38s/it, loss=6.25e+7]"
     ]
    },
    {
     "name": "stdout",
     "output_type": "stream",
     "text": [
      "-----------------------------------------------------------------\n",
      "loss_contour:  tensor(58704129.3102, device='cuda:0', dtype=torch.float64,\n",
      "       grad_fn=<AddBackward0>)\n",
      "loss_tip_distance:  tensor(7.0853, device='cuda:0', dtype=torch.float64, grad_fn=<MeanBackward0>)\n",
      "motion_model_loss:  tensor(62508984., device='cuda:0')\n",
      "loss:  tensor(62508991.0853, device='cuda:0', dtype=torch.float64,\n",
      "       grad_fn=<AddBackward0>)\n",
      "-----------------------------------------------------------------\n",
      "Gradients BEFORE BACKWARD PASS:\n",
      "para_init: No gradient computed\n",
      "Gradients AFTER BACKWARD PASS:\n",
      "Parameter: para_init, Gradient: 4522.73779296875\n",
      "Parameter: para_init, Updated Value: tensor([ 0.0340, -0.0100,  0.5360,  0.1345, -0.1968,  0.7687], device='cuda:0')\n",
      "Loss:  62508991.08530193\n",
      "\n",
      "================================================================================================================\n",
      "loop_id:  83\n"
     ]
    },
    {
     "name": "stderr",
     "output_type": "stream",
     "text": [
      "Optimizing:  84%|████████▍ | 84/100 [01:51<00:22,  1.38s/it, loss=6.24e+7]"
     ]
    },
    {
     "name": "stdout",
     "output_type": "stream",
     "text": [
      "-----------------------------------------------------------------\n",
      "loss_contour:  tensor(58802990.3180, device='cuda:0', dtype=torch.float64,\n",
      "       grad_fn=<AddBackward0>)\n",
      "loss_tip_distance:  tensor(5.8433, device='cuda:0', dtype=torch.float64, grad_fn=<MeanBackward0>)\n",
      "motion_model_loss:  tensor(62449856., device='cuda:0')\n",
      "loss:  tensor(62449861.8433, device='cuda:0', dtype=torch.float64,\n",
      "       grad_fn=<AddBackward0>)\n",
      "-----------------------------------------------------------------\n",
      "Gradients BEFORE BACKWARD PASS:\n",
      "para_init: No gradient computed\n",
      "Gradients AFTER BACKWARD PASS:\n",
      "Parameter: para_init, Gradient: 4107.84375\n",
      "Parameter: para_init, Updated Value: tensor([ 0.0340, -0.0100,  0.5360,  0.1344, -0.1965,  0.7688], device='cuda:0')\n",
      "Loss:  62449861.84329473\n",
      "\n",
      "================================================================================================================\n",
      "loop_id:  84\n"
     ]
    },
    {
     "name": "stderr",
     "output_type": "stream",
     "text": [
      "Optimizing:  85%|████████▌ | 85/100 [01:53<00:20,  1.39s/it, loss=6.24e+7]"
     ]
    },
    {
     "name": "stdout",
     "output_type": "stream",
     "text": [
      "-----------------------------------------------------------------\n",
      "loss_contour:  tensor(58874819.2819, device='cuda:0', dtype=torch.float64,\n",
      "       grad_fn=<AddBackward0>)\n",
      "loss_tip_distance:  tensor(4.6541, device='cuda:0', dtype=torch.float64, grad_fn=<MeanBackward0>)\n",
      "motion_model_loss:  tensor(62389208., device='cuda:0')\n",
      "loss:  tensor(62389212.6541, device='cuda:0', dtype=torch.float64,\n",
      "       grad_fn=<AddBackward0>)\n",
      "-----------------------------------------------------------------\n",
      "Gradients BEFORE BACKWARD PASS:\n",
      "para_init: No gradient computed\n",
      "Gradients AFTER BACKWARD PASS:\n",
      "Parameter: para_init, Gradient: 3666.0927734375\n",
      "Parameter: para_init, Updated Value: tensor([ 0.0340, -0.0100,  0.5360,  0.1344, -0.1962,  0.7689], device='cuda:0')\n",
      "Loss:  62389212.65412318\n",
      "\n",
      "================================================================================================================\n",
      "loop_id:  85\n"
     ]
    },
    {
     "name": "stderr",
     "output_type": "stream",
     "text": [
      "Optimizing:  86%|████████▌ | 86/100 [01:54<00:19,  1.36s/it, loss=6.23e+7]"
     ]
    },
    {
     "name": "stdout",
     "output_type": "stream",
     "text": [
      "-----------------------------------------------------------------\n",
      "loss_contour:  tensor(58921002.4548, device='cuda:0', dtype=torch.float64,\n",
      "       grad_fn=<AddBackward0>)\n",
      "loss_tip_distance:  tensor(3.5569, device='cuda:0', dtype=torch.float64, grad_fn=<MeanBackward0>)\n",
      "motion_model_loss:  tensor(62328000., device='cuda:0')\n",
      "loss:  tensor(62328003.5569, device='cuda:0', dtype=torch.float64,\n",
      "       grad_fn=<AddBackward0>)\n",
      "-----------------------------------------------------------------\n",
      "Gradients BEFORE BACKWARD PASS:\n",
      "para_init: No gradient computed\n",
      "Gradients AFTER BACKWARD PASS:\n",
      "Parameter: para_init, Gradient: 3204.6044921875\n",
      "Parameter: para_init, Updated Value: tensor([ 0.0340, -0.0100,  0.5360,  0.1342, -0.1960,  0.7691], device='cuda:0')\n",
      "Loss:  62328003.5569238\n",
      "\n",
      "================================================================================================================\n",
      "loop_id:  86\n"
     ]
    },
    {
     "name": "stderr",
     "output_type": "stream",
     "text": [
      "Optimizing:  87%|████████▋ | 87/100 [01:55<00:17,  1.34s/it, loss=6.23e+7]"
     ]
    },
    {
     "name": "stdout",
     "output_type": "stream",
     "text": [
      "-----------------------------------------------------------------\n",
      "loss_contour:  tensor(58944232.8984, device='cuda:0', dtype=torch.float64,\n",
      "       grad_fn=<AddBackward0>)\n",
      "loss_tip_distance:  tensor(2.5844, device='cuda:0', dtype=torch.float64, grad_fn=<MeanBackward0>)\n",
      "motion_model_loss:  tensor(62267092., device='cuda:0')\n",
      "loss:  tensor(62267094.5844, device='cuda:0', dtype=torch.float64,\n",
      "       grad_fn=<AddBackward0>)\n",
      "-----------------------------------------------------------------\n",
      "Gradients BEFORE BACKWARD PASS:\n",
      "para_init: No gradient computed\n",
      "Gradients AFTER BACKWARD PASS:\n",
      "Parameter: para_init, Gradient: 2731.074951171875\n",
      "Parameter: para_init, Updated Value: tensor([ 0.0340, -0.0100,  0.5360,  0.1341, -0.1957,  0.7692], device='cuda:0')\n",
      "Loss:  62267094.584370606\n",
      "\n",
      "================================================================================================================\n",
      "loop_id:  87\n"
     ]
    },
    {
     "name": "stderr",
     "output_type": "stream",
     "text": [
      "Optimizing:  88%|████████▊ | 88/100 [01:57<00:16,  1.34s/it, loss=6.22e+7]"
     ]
    },
    {
     "name": "stdout",
     "output_type": "stream",
     "text": [
      "-----------------------------------------------------------------\n",
      "loss_contour:  tensor(58948204.3033, device='cuda:0', dtype=torch.float64,\n",
      "       grad_fn=<AddBackward0>)\n",
      "loss_tip_distance:  tensor(1.7607, device='cuda:0', dtype=torch.float64, grad_fn=<MeanBackward0>)\n",
      "motion_model_loss:  tensor(62207276., device='cuda:0')\n",
      "loss:  tensor(62207277.7607, device='cuda:0', dtype=torch.float64,\n",
      "       grad_fn=<AddBackward0>)\n",
      "-----------------------------------------------------------------\n",
      "Gradients BEFORE BACKWARD PASS:\n",
      "para_init: No gradient computed\n",
      "Gradients AFTER BACKWARD PASS:\n",
      "Parameter: para_init, Gradient: 2253.690673828125\n",
      "Parameter: para_init, Updated Value: tensor([ 0.0340, -0.0100,  0.5360,  0.1340, -0.1954,  0.7694], device='cuda:0')\n",
      "Loss:  62207277.76070619\n",
      "\n",
      "================================================================================================================\n",
      "loop_id:  88\n"
     ]
    },
    {
     "name": "stderr",
     "output_type": "stream",
     "text": [
      "Optimizing:  89%|████████▉ | 89/100 [01:58<00:14,  1.31s/it, loss=6.21e+7]"
     ]
    },
    {
     "name": "stdout",
     "output_type": "stream",
     "text": [
      "-----------------------------------------------------------------\n",
      "loss_contour:  tensor(58937146.3148, device='cuda:0', dtype=torch.float64,\n",
      "       grad_fn=<AddBackward0>)\n",
      "loss_tip_distance:  tensor(1.0998, device='cuda:0', dtype=torch.float64, grad_fn=<MeanBackward0>)\n",
      "motion_model_loss:  tensor(62149296., device='cuda:0')\n",
      "loss:  tensor(62149297.0998, device='cuda:0', dtype=torch.float64,\n",
      "       grad_fn=<AddBackward0>)\n",
      "-----------------------------------------------------------------\n",
      "Gradients BEFORE BACKWARD PASS:\n",
      "para_init: No gradient computed\n",
      "Gradients AFTER BACKWARD PASS:\n",
      "Parameter: para_init, Gradient: 1780.6273193359375\n",
      "Parameter: para_init, Updated Value: tensor([ 0.0340, -0.0100,  0.5360,  0.1338, -0.1952,  0.7695], device='cuda:0')\n",
      "Loss:  62149297.09975549\n",
      "\n",
      "================================================================================================================\n",
      "loop_id:  89\n"
     ]
    },
    {
     "name": "stderr",
     "output_type": "stream",
     "text": [
      "Optimizing:  90%|█████████ | 90/100 [01:59<00:13,  1.32s/it, loss=6.21e+7]"
     ]
    },
    {
     "name": "stdout",
     "output_type": "stream",
     "text": [
      "-----------------------------------------------------------------\n",
      "loss_contour:  tensor(58915507.2416, device='cuda:0', dtype=torch.float64,\n",
      "       grad_fn=<AddBackward0>)\n",
      "loss_tip_distance:  tensor(0.6048, device='cuda:0', dtype=torch.float64, grad_fn=<MeanBackward0>)\n",
      "motion_model_loss:  tensor(62093788., device='cuda:0')\n",
      "loss:  tensor(62093788.6048, device='cuda:0', dtype=torch.float64,\n",
      "       grad_fn=<AddBackward0>)\n",
      "-----------------------------------------------------------------\n",
      "Gradients BEFORE BACKWARD PASS:\n",
      "para_init: No gradient computed\n",
      "Gradients AFTER BACKWARD PASS:\n",
      "Parameter: para_init, Gradient: 1319.9859619140625\n",
      "Parameter: para_init, Updated Value: tensor([ 0.0340, -0.0100,  0.5360,  0.1336, -0.1949,  0.7696], device='cuda:0')\n",
      "Loss:  62093788.60478209\n",
      "\n",
      "================================================================================================================\n",
      "loop_id:  90\n"
     ]
    },
    {
     "name": "stderr",
     "output_type": "stream",
     "text": [
      "Optimizing:  91%|█████████ | 91/100 [02:01<00:11,  1.33s/it, loss=6.2e+7] "
     ]
    },
    {
     "name": "stdout",
     "output_type": "stream",
     "text": [
      "-----------------------------------------------------------------\n",
      "loss_contour:  tensor(58887618.3912, device='cuda:0', dtype=torch.float64,\n",
      "       grad_fn=<AddBackward0>)\n",
      "loss_tip_distance:  tensor(0.2689, device='cuda:0', dtype=torch.float64, grad_fn=<MeanBackward0>)\n",
      "motion_model_loss:  tensor(62041296., device='cuda:0')\n",
      "loss:  tensor(62041296.2689, device='cuda:0', dtype=torch.float64,\n",
      "       grad_fn=<AddBackward0>)\n",
      "-----------------------------------------------------------------\n",
      "Gradients BEFORE BACKWARD PASS:\n",
      "para_init: No gradient computed\n",
      "Gradients AFTER BACKWARD PASS:\n",
      "Parameter: para_init, Gradient: 879.6245727539062\n",
      "Parameter: para_init, Updated Value: tensor([ 0.0340, -0.0100,  0.5360,  0.1335, -0.1947,  0.7697], device='cuda:0')\n",
      "Loss:  62041296.26886508\n",
      "\n",
      "================================================================================================================\n",
      "loop_id:  91\n"
     ]
    },
    {
     "name": "stderr",
     "output_type": "stream",
     "text": [
      "Optimizing:  92%|█████████▏| 92/100 [02:02<00:10,  1.34s/it, loss=6.2e+7]"
     ]
    },
    {
     "name": "stdout",
     "output_type": "stream",
     "text": [
      "-----------------------------------------------------------------\n",
      "loss_contour:  tensor(58857455.9007, device='cuda:0', dtype=torch.float64,\n",
      "       grad_fn=<AddBackward0>)\n",
      "loss_tip_distance:  tensor(0.0764, device='cuda:0', dtype=torch.float64, grad_fn=<MeanBackward0>)\n",
      "motion_model_loss:  tensor(61992284., device='cuda:0')\n",
      "loss:  tensor(61992284.0764, device='cuda:0', dtype=torch.float64,\n",
      "       grad_fn=<AddBackward0>)\n",
      "-----------------------------------------------------------------\n",
      "Gradients BEFORE BACKWARD PASS:\n",
      "para_init: No gradient computed\n",
      "Gradients AFTER BACKWARD PASS:\n",
      "Parameter: para_init, Gradient: 468.2500915527344\n",
      "Parameter: para_init, Updated Value: tensor([ 0.0340, -0.0100,  0.5360,  0.1334, -0.1945,  0.7698], device='cuda:0')\n",
      "Loss:  61992284.076440655\n",
      "\n",
      "================================================================================================================\n",
      "loop_id:  92\n"
     ]
    },
    {
     "name": "stderr",
     "output_type": "stream",
     "text": [
      "Optimizing:  93%|█████████▎| 93/100 [02:03<00:09,  1.36s/it, loss=6.19e+7]"
     ]
    },
    {
     "name": "stdout",
     "output_type": "stream",
     "text": [
      "-----------------------------------------------------------------\n",
      "loss_contour:  tensor(58828499.4326, device='cuda:0', dtype=torch.float64,\n",
      "       grad_fn=<AddBackward0>)\n",
      "loss_tip_distance:  tensor(0.0054, device='cuda:0', dtype=torch.float64, grad_fn=<MeanBackward0>)\n",
      "motion_model_loss:  tensor(61947112., device='cuda:0')\n",
      "loss:  tensor(61947112.0054, device='cuda:0', dtype=torch.float64,\n",
      "       grad_fn=<AddBackward0>)\n",
      "-----------------------------------------------------------------\n",
      "Gradients BEFORE BACKWARD PASS:\n",
      "para_init: No gradient computed\n",
      "Gradients AFTER BACKWARD PASS:\n",
      "Parameter: para_init, Gradient: 121.18954467773438\n",
      "Parameter: para_init, Updated Value: tensor([ 0.0340, -0.0100,  0.5360,  0.1332, -0.1943,  0.7699], device='cuda:0')\n",
      "Loss:  61947112.005402945\n",
      "\n",
      "================================================================================================================\n",
      "loop_id:  93\n"
     ]
    },
    {
     "name": "stderr",
     "output_type": "stream",
     "text": [
      "Optimizing:  94%|█████████▍| 94/100 [02:05<00:08,  1.36s/it, loss=6.19e+7]"
     ]
    },
    {
     "name": "stdout",
     "output_type": "stream",
     "text": [
      "-----------------------------------------------------------------\n",
      "loss_contour:  tensor(58803647.7796, device='cuda:0', dtype=torch.float64,\n",
      "       grad_fn=<AddBackward0>)\n",
      "loss_tip_distance:  tensor(0.0295, device='cuda:0', dtype=torch.float64, grad_fn=<MeanBackward0>)\n",
      "motion_model_loss:  tensor(61906048., device='cuda:0')\n",
      "loss:  tensor(61906048.0295, device='cuda:0', dtype=torch.float64,\n",
      "       grad_fn=<AddBackward0>)\n",
      "-----------------------------------------------------------------\n",
      "Gradients BEFORE BACKWARD PASS:\n",
      "para_init: No gradient computed\n",
      "Gradients AFTER BACKWARD PASS:\n",
      "Parameter: para_init, Gradient: 289.8707580566406\n",
      "Parameter: para_init, Updated Value: tensor([ 0.0340, -0.0100,  0.5360,  0.1331, -0.1941,  0.7700], device='cuda:0')\n",
      "Loss:  61906048.02949296\n",
      "\n",
      "================================================================================================================\n",
      "loop_id:  94\n"
     ]
    },
    {
     "name": "stderr",
     "output_type": "stream",
     "text": [
      "Optimizing:  95%|█████████▌| 95/100 [02:06<00:06,  1.36s/it, loss=6.19e+7]"
     ]
    },
    {
     "name": "stdout",
     "output_type": "stream",
     "text": [
      "-----------------------------------------------------------------\n",
      "loss_contour:  tensor(58785176.0909, device='cuda:0', dtype=torch.float64,\n",
      "       grad_fn=<AddBackward0>)\n",
      "loss_tip_distance:  tensor(0.1209, device='cuda:0', dtype=torch.float64, grad_fn=<MeanBackward0>)\n",
      "motion_model_loss:  tensor(61869324., device='cuda:0')\n",
      "loss:  tensor(61869324.1209, device='cuda:0', dtype=torch.float64,\n",
      "       grad_fn=<AddBackward0>)\n",
      "-----------------------------------------------------------------\n",
      "Gradients BEFORE BACKWARD PASS:\n",
      "para_init: No gradient computed\n",
      "Gradients AFTER BACKWARD PASS:\n",
      "Parameter: para_init, Gradient: 589.1201171875\n",
      "Parameter: para_init, Updated Value: tensor([ 0.0340, -0.0100,  0.5360,  0.1330, -0.1940,  0.7701], device='cuda:0')\n",
      "Loss:  61869324.12092345\n",
      "\n",
      "================================================================================================================\n",
      "loop_id:  95\n"
     ]
    },
    {
     "name": "stderr",
     "output_type": "stream",
     "text": [
      "Optimizing:  96%|█████████▌| 96/100 [02:08<00:05,  1.35s/it, loss=6.18e+7]"
     ]
    },
    {
     "name": "stdout",
     "output_type": "stream",
     "text": [
      "-----------------------------------------------------------------\n",
      "loss_contour:  tensor(58774735.7649, device='cuda:0', dtype=torch.float64,\n",
      "       grad_fn=<AddBackward0>)\n",
      "loss_tip_distance:  tensor(0.2527, device='cuda:0', dtype=torch.float64, grad_fn=<MeanBackward0>)\n",
      "motion_model_loss:  tensor(61837036., device='cuda:0')\n",
      "loss:  tensor(61837036.2527, device='cuda:0', dtype=torch.float64,\n",
      "       grad_fn=<AddBackward0>)\n",
      "-----------------------------------------------------------------\n",
      "Gradients BEFORE BACKWARD PASS:\n",
      "para_init: No gradient computed\n",
      "Gradients AFTER BACKWARD PASS:\n",
      "Parameter: para_init, Gradient: 852.0348510742188\n",
      "Parameter: para_init, Updated Value: tensor([ 0.0340, -0.0100,  0.5360,  0.1330, -0.1939,  0.7701], device='cuda:0')\n",
      "Loss:  61837036.25268025\n",
      "\n",
      "================================================================================================================\n",
      "loop_id:  96\n"
     ]
    },
    {
     "name": "stderr",
     "output_type": "stream",
     "text": [
      "Optimizing:  97%|█████████▋| 97/100 [02:09<00:04,  1.35s/it, loss=6.18e+7]"
     ]
    },
    {
     "name": "stdout",
     "output_type": "stream",
     "text": [
      "-----------------------------------------------------------------\n",
      "loss_contour:  tensor(58773387.6481, device='cuda:0', dtype=torch.float64,\n",
      "       grad_fn=<AddBackward0>)\n",
      "loss_tip_distance:  tensor(0.4005, device='cuda:0', dtype=torch.float64, grad_fn=<MeanBackward0>)\n",
      "motion_model_loss:  tensor(61809224., device='cuda:0')\n",
      "loss:  tensor(61809224.4005, device='cuda:0', dtype=torch.float64,\n",
      "       grad_fn=<AddBackward0>)\n",
      "-----------------------------------------------------------------\n",
      "Gradients BEFORE BACKWARD PASS:\n",
      "para_init: No gradient computed\n",
      "Gradients AFTER BACKWARD PASS:\n",
      "Parameter: para_init, Gradient: 1072.7896728515625\n",
      "Parameter: para_init, Updated Value: tensor([ 0.0340, -0.0100,  0.5360,  0.1329, -0.1938,  0.7702], device='cuda:0')\n",
      "Loss:  61809224.40049494\n",
      "\n",
      "================================================================================================================\n",
      "loop_id:  97\n"
     ]
    },
    {
     "name": "stderr",
     "output_type": "stream",
     "text": [
      "Optimizing:  98%|█████████▊| 98/100 [02:10<00:02,  1.35s/it, loss=6.18e+7]"
     ]
    },
    {
     "name": "stdout",
     "output_type": "stream",
     "text": [
      "-----------------------------------------------------------------\n",
      "loss_contour:  tensor(58781666.0726, device='cuda:0', dtype=torch.float64,\n",
      "       grad_fn=<AddBackward0>)\n",
      "loss_tip_distance:  tensor(0.5443, device='cuda:0', dtype=torch.float64, grad_fn=<MeanBackward0>)\n",
      "motion_model_loss:  tensor(61785868., device='cuda:0')\n",
      "loss:  tensor(61785868.5443, device='cuda:0', dtype=torch.float64,\n",
      "       grad_fn=<AddBackward0>)\n",
      "-----------------------------------------------------------------\n",
      "Gradients BEFORE BACKWARD PASS:\n",
      "para_init: No gradient computed\n",
      "Gradients AFTER BACKWARD PASS:\n",
      "Parameter: para_init, Gradient: 1250.6156005859375\n",
      "Parameter: para_init, Updated Value: tensor([ 0.0340, -0.0100,  0.5360,  0.1329, -0.1937,  0.7702], device='cuda:0')\n",
      "Loss:  61785868.54429208\n",
      "\n",
      "================================================================================================================\n",
      "loop_id:  98\n"
     ]
    },
    {
     "name": "stderr",
     "output_type": "stream",
     "text": [
      "Optimizing:  99%|█████████▉| 99/100 [02:12<00:01,  1.34s/it, loss=6.18e+7]"
     ]
    },
    {
     "name": "stdout",
     "output_type": "stream",
     "text": [
      "-----------------------------------------------------------------\n",
      "loss_contour:  tensor(58799658.5868, device='cuda:0', dtype=torch.float64,\n",
      "       grad_fn=<AddBackward0>)\n",
      "loss_tip_distance:  tensor(0.6691, device='cuda:0', dtype=torch.float64, grad_fn=<MeanBackward0>)\n",
      "motion_model_loss:  tensor(61766896., device='cuda:0')\n",
      "loss:  tensor(61766896.6691, device='cuda:0', dtype=torch.float64,\n",
      "       grad_fn=<AddBackward0>)\n",
      "-----------------------------------------------------------------\n",
      "Gradients BEFORE BACKWARD PASS:\n",
      "para_init: No gradient computed\n",
      "Gradients AFTER BACKWARD PASS:\n",
      "Parameter: para_init, Gradient: 1386.4412841796875\n",
      "Parameter: para_init, Updated Value: tensor([ 0.0340, -0.0100,  0.5360,  0.1329, -0.1936,  0.7702], device='cuda:0')\n",
      "Loss:  61766896.66905807\n",
      "\n",
      "================================================================================================================\n",
      "loop_id:  99\n"
     ]
    },
    {
     "name": "stderr",
     "output_type": "stream",
     "text": [
      "Optimizing: 100%|██████████| 100/100 [02:13<00:00,  1.33s/it, loss=6.18e+7]"
     ]
    },
    {
     "name": "stdout",
     "output_type": "stream",
     "text": [
      "-----------------------------------------------------------------\n",
      "loss_contour:  tensor(58826958.1014, device='cuda:0', dtype=torch.float64,\n",
      "       grad_fn=<AddBackward0>)\n",
      "loss_tip_distance:  tensor(0.7649, device='cuda:0', dtype=torch.float64, grad_fn=<MeanBackward0>)\n",
      "motion_model_loss:  tensor(61752204., device='cuda:0')\n",
      "loss:  tensor(61752204.7649, device='cuda:0', dtype=torch.float64,\n",
      "       grad_fn=<AddBackward0>)\n",
      "-----------------------------------------------------------------\n",
      "Gradients BEFORE BACKWARD PASS:\n",
      "para_init: No gradient computed\n",
      "Gradients AFTER BACKWARD PASS:\n",
      "Parameter: para_init, Gradient: 1482.2271728515625\n",
      "Parameter: para_init, Updated Value: tensor([ 0.0340, -0.0100,  0.5360,  0.1329, -0.1936,  0.7703], device='cuda:0')\n",
      "Loss:  61752204.76494296\n",
      "Saved para_init to para_init.npy\n"
     ]
    },
    {
     "name": "stderr",
     "output_type": "stream",
     "text": [
      "\n"
     ]
    }
   ],
   "source": [
    "\n",
    "if __name__ == '__main__':\n",
    "    '''\n",
    "    Main function to set up optimzer model and run the optimization loop\n",
    "    '''\n",
    "\n",
    "    ###========================================================\n",
    "    ### 1) SET TO GPU OR CPU COMPUTING\n",
    "    ###========================================================\n",
    "    if torch.cuda.is_available():\n",
    "        gpu_or_cpu = torch.device(\"cuda:0\") \n",
    "        torch.cuda.set_device(gpu_or_cpu)\n",
    "    else:\n",
    "        gpu_or_cpu = torch.device(\"cpu\")\n",
    "\n",
    "    ###========================================================\n",
    "    ### 2) VARIABLES FOR BEZIER CURVE CONSTRUCTION\n",
    "    ###========================================================\n",
    "    # para_init = torch.tensor([0.02, 0.002, 0.0, 0.01958988, 0.00195899, 0.09690406, -0.03142905, -0.0031429, 0.18200866], dtype=torch.float)\n",
    "    # p_start = torch.tensor([0.02, 0.002, 0.0])\n",
    "\n",
    "\n",
    "    # Z axis + 0.1\n",
    "    # para_init = torch.tensor([0.02, 0.002, 0.1, 0.01958988, 0.00195899, 0.09690406, -0.03142905, -0.0031429, 0.18200866], dtype=torch.float)\n",
    "    # p_start = torch.tensor([0.02, 0.002, 0.1000])\n",
    "        \n",
    "    \n",
    "\n",
    "    # p_start and para_init used for SRC presentation\n",
    "    # ground truth: [2.15634587e-02 -6.05764476e-04  5.16317712e-01  1.65068886e-01 -2.39781477e-01  9.49010349e-01]\n",
    "    p_start = torch.tensor([0.02, 0.002, 0.000001]) # 0 here will cause NaN in draw2DCylinderImage, pTip\n",
    "    \n",
    "    # para_init = np.array([0.034, -0.003, 0.526, 0.13, -0.24, 0.6],\n",
    "    #                  dtype=np.float32) #1\n",
    "    para_init = np.array([0.034, -0.01, 0.536, 0.2, -0.37, 0.6],\n",
    "                     dtype=np.float32)\n",
    "\n",
    "    case_naming = 'E:/OneDrive - UC San Diego/UCSD/Lab/Catheter/diff_catheter/scripts/test_diff_render_catheter_v2/gt_dataset3/gt_6_0.0006_-0.0010_0.2_0.01'\n",
    "    img_save_path = case_naming + '.png'\n",
    "    cc_specs_path = case_naming + '.npy'\n",
    "    target_specs_path = None\n",
    "    viewpoint_mode = 1\n",
    "    transparent_mode = 0\n",
    "\n",
    "    '''\n",
    "    Create binary mask of catheter: \n",
    "        1) Grayscale the ref img, \n",
    "        2) threshold the grayscaled img, \n",
    "        3) Creates a binary image by replacing all \n",
    "            pixel values equal to 255 with 1 (leaves\n",
    "            other pixel values unchanged)\n",
    "    '''\n",
    "    img_ref_binary = process_image(img_save_path)\n",
    "\n",
    "    # Declare loss history lists to keep track of loss values\n",
    "    proj_end_effector_loss_history = []\n",
    "    d3d_end_effector_loss_history = []\n",
    "    # Ground Truth parameters for catheter used in SRC presentation\n",
    "    para_gt_np = read_gt_params(cc_specs_path)\n",
    "    para_gt = torch.tensor(para_gt_np, dtype=torch.float, device=gpu_or_cpu, requires_grad=False)\n",
    "    end_effector_gt = para_gt[3:6]\n",
    "    \n",
    "    folder_path = 'E:/OneDrive - UC San Diego/UCSD/Lab/Catheter/diff_catheter/scripts/test_diff_render_catheter_v2/gt_dataset3/'\n",
    "    image_save_path_list = [\n",
    "    folder_path + 'gt_5_0.0006_-0.0008_0.2_0.01.png',\n",
    "    folder_path + 'gt_4_0.0006_-0.0006_0.2_0.01.png',\n",
    "    folder_path + 'gt_3_0.0006_-0.0004_0.2_0.01.png',\n",
    "    folder_path + 'gt_2_0.0006_-0.0002_0.2_0.01.png'\n",
    "    ]\n",
    "    \n",
    "    past_frames_list = []\n",
    "    for path in image_save_path_list:\n",
    "        past_frames_list.append(process_image(path))\n",
    "    \n",
    "    delta_u_list = [[0, -0.0002], [0, -0.0002], [0, -0.0002], [0, -0.0002]]\n",
    "\n",
    "    \n",
    "\n",
    "\n",
    "    ###========================================================\n",
    "    ### 3) SET UP AND RUN OPTIMIZATION MODEL\n",
    "    ###========================================================\n",
    "    catheter_optimize_model = ReconstructionOptimizer(p_start, para_init, img_ref_binary, gpu_or_cpu, past_frames_list, delta_u_list, img_save_path, image_save_path_list).to(gpu_or_cpu)\n",
    "\n",
    "    print(\"Model Parameters:\")\n",
    "    for name, param in catheter_optimize_model.named_parameters():\n",
    "        print(f\"{name}: requires_grad={param.requires_grad}\")\n",
    "\n",
    "    optimizer = torch.optim.Adam(catheter_optimize_model.parameters(), lr=1e-2)\n",
    "\n",
    "    # Run the optimization loop\n",
    "    num_iterations = 100\n",
    "    loop = tqdm(range(num_iterations))\n",
    "    for loop_id in loop:\n",
    "        print(\"\\n================================================================================================================\")\n",
    "        print(\"loop_id: \", loop_id)\n",
    "\n",
    "\n",
    "        # save_img_path = '/Users/kobeyang/Downloads/Programming/ECESRIP/diff_catheter/scripts/test_diff_render_catheter_v2/rendered_imgs/' \\\n",
    "        #     + 'render_' + str(loop_id) + '.jpg'\n",
    "            \n",
    "        save_img_path = 'E:/OneDrive - UC San Diego/UCSD/Lab/Catheter/diff_catheter/scripts/test_diff_render_catheter_v2/test_imgs/rendered_imgs_new3/' \\\n",
    "            + 'render_' + str(loop_id) + '.jpg'\n",
    "\n",
    "        # pdb.set_trace()\n",
    "\n",
    "        # Zero the gradients before running the backward pass.\n",
    "        optimizer.zero_grad()\n",
    "\n",
    "        # Run the forward pass\n",
    "        loss = catheter_optimize_model(save_img_path)\n",
    "\n",
    "        # Print gradients for all parameters before backward pass\n",
    "        print(\"Gradients BEFORE BACKWARD PASS:\")\n",
    "        for name, param in catheter_optimize_model.named_parameters():\n",
    "            if param.grad is not None:\n",
    "                print(f\"Parameter: {name}, Gradient: {param.grad.norm().item()}\")  # Print the norm of the gradient\n",
    "            else:\n",
    "                print(f\"{name}: No gradient computed\")\n",
    "\n",
    "        # Run the backward pass\n",
    "        loss.backward(retain_graph=True)\n",
    "\n",
    "        # Print gradients for all parameters after backward pass\n",
    "        print(\"Gradients AFTER BACKWARD PASS:\")\n",
    "        for name, param in catheter_optimize_model.named_parameters():\n",
    "            if param.grad is not None:\n",
    "                print(f\"Parameter: {name}, Gradient: {param.grad.norm().item()}\")\n",
    "            else:\n",
    "                print(f\"{name}: No gradient computed\")\n",
    "                \n",
    "        # end_effector_loss_history.append(torch.norm((catheter_optimize_model.para_init[3:6] - end_effector_gt), p=2).item())\n",
    "        proj_end_effector_loss_history.append(catheter_optimize_model.tip_euclidean_distance_loss.item())\n",
    "        d3d_end_effector_loss_history.append(torch.norm((catheter_optimize_model.para_init[3:6] - end_effector_gt), p=2).item())\n",
    "\n",
    "        # Update the parameters\n",
    "        optimizer.step()\n",
    "\n",
    "\n",
    "        # Print and inspect the updated parameters\n",
    "        for name, param in catheter_optimize_model.named_parameters():\n",
    "            print(f\"Parameter: {name}, Updated Value: {param.data}\")\n",
    "\n",
    "\n",
    "        # # end_effector_loss_history.append(torch.norm((catheter_optimize_model.para_init[3:6] - end_effector_gt), p=2).item())\n",
    "        # proj_end_effector_loss_history.append(catheter_optimize_model.tip_euclidean_distance_loss.item())\n",
    "        # d3d_end_effector_loss_history.append(torch.norm((catheter_optimize_model.para_init[3:6] - end_effector_gt), p=2).item())\n",
    "\n",
    "        # Update the progress bar\n",
    "        loop.set_description('Optimizing')\n",
    "\n",
    "        # Update the loss\n",
    "        loop.set_postfix(loss=loss.item())\n",
    "\n",
    "        print(\"Loss: \", loss.item())\n",
    "\n",
    "    # end_effector_loss_history.append(torch.norm((catheter_optimize_model.para_init[3:6] - end_effector_gt), p=2).item())\n",
    "    proj_end_effector_loss_history.append(catheter_optimize_model.tip_euclidean_distance_loss.item())\n",
    "    d3d_end_effector_loss_history.append(torch.norm((catheter_optimize_model.para_init[3:6] - end_effector_gt), p=2).item())\n",
    "\n",
    "    for name, param in catheter_optimize_model.named_parameters():\n",
    "        param_numpy = param.data.cpu().numpy()\n",
    "        filename = f\"{name}.npy\"\n",
    "        np.save(filename, param_numpy)\n",
    "        print(f\"Saved {name} to {filename}\")"
   ]
  },
  {
   "cell_type": "code",
   "execution_count": 8,
   "metadata": {},
   "outputs": [
    {
     "name": "stdout",
     "output_type": "stream",
     "text": [
      "proj_end_effector_loss_history:  [351.2109920910515, 322.1263036306386, 294.36601354537254, 268.0089093149556, 243.13072569475798, 219.8015844459979, 198.08268318724652, 178.02096591108776, 159.6432570718571, 142.9501652607108, 127.91098584296817, 114.46145213421667, 102.50502607705772, 91.91875481819064, 82.56208255807859, 74.28780790958929, 66.95290233041193, 60.42767194753037, 54.60278841380672, 49.3936465186249, 44.74258711586024, 40.61931350349235, 37.01943791744279, 33.96058635498467, 31.474720092794254, 29.59551171175015, 28.34114050549562, 27.697148684883057, 27.606923205297356, 27.975268294093343, 28.68315271910808, 29.60541687821923, 30.624759935400235, 31.639258760726904, 32.5649714291682, 33.335625174335924, 33.901000935512975, 34.22525659764623, 34.28505712893107, 34.06817721740726, 33.57208729239241, 32.80271502761845, 31.773334340273554, 30.503469385713377, 29.01780995011333, 27.345257679254072, 25.517899826658507, 23.570188050886316, 21.5380436045542, 19.458152735402376, 17.367382259816388, 15.302353813984857, 13.299340055107672, 11.394586406337677, 9.625135118644407, 8.030626270334281, 6.655665313771718, 5.551084960742146, 4.7674793015489225, 4.331253239397164, 4.210796667279827, 4.315237048211395, 4.538540655897597, 4.798425052935193, 5.044997562286381, 5.253321289832416, 5.414283811842541, 5.527854640412477, 5.598763866610884, 5.6335673291853725, 5.6387462971263975, 5.619415766857327, 5.578880622548791, 5.5182514004833765, 5.436829978926144, 5.332465911453768, 5.202322319929476, 5.043340514623854, 4.852978423202473, 4.629641248245004, 4.372874717432653, 4.083687567114859, 3.764386251620344, 3.418565410997065, 3.050941881800908, 2.667179708019974, 2.2734865758947356, 1.8765426661835316, 1.4830748369056281, 1.0998018845058581, 0.733300868257976, 0.3910003890901107, 0.10395137729723619, 0.2428701643050991, 0.49177932920075296, 0.7108871245787376, 0.8949803834440804, 1.0433523617919191, 1.156769700618975, 1.236885574539882, 1.236885574539882]\n"
     ]
    },
    {
     "data": {
      "image/png": "[encoded data removed]",
      "text/plain": [
       "<Figure size 640x480 with 1 Axes>"
      ]
     },
     "metadata": {},
     "output_type": "display_data"
    },
    {
     "name": "stdout",
     "output_type": "stream",
     "text": [
      "d3d_end_effector_loss_history:  [0.374146044254303, 0.36055800318717957, 0.34738194942474365, 0.33470451831817627, 0.3226074278354645, 0.3111630976200104, 0.3004293739795685, 0.2904455363750458, 0.2812286913394928, 0.272772878408432, 0.26505038142204285, 0.25801563262939453, 0.25161078572273254, 0.24577221274375916, 0.24043665826320648, 0.23554553091526031, 0.23104791343212128, 0.22690171003341675, 0.22307348251342773, 0.21953752636909485, 0.2162744700908661, 0.21326953172683716, 0.21051134169101715, 0.20799040794372559, 0.2056981474161148, 0.20362582802772522, 0.20176398754119873, 0.20010213553905487, 0.19862809777259827, 0.19732829928398132, 0.19618774950504303, 0.19519031047821045, 0.19431929290294647, 0.1935577392578125, 0.19288910925388336, 0.19229790568351746, 0.19177013635635376, 0.1912936568260193, 0.19085870683193207, 0.1904578059911728, 0.19008584320545197, 0.18974007666110992, 0.18941953778266907, 0.18912482261657715, 0.18885765969753265, 0.18862032890319824, 0.1884152740240097, 0.18824459612369537, 0.18810974061489105, 0.1880112588405609, 0.187948539853096, 0.18791988492012024, 0.18792252242565155, 0.18795256316661835, 0.18800564110279083, 0.18807657063007355, 0.18816012144088745, 0.18825095891952515, 0.18834412097930908, 0.18843500316143036, 0.1885197013616562, 0.18859508633613586, 0.18865874409675598, 0.1887091100215912, 0.18874526023864746, 0.1887669563293457, 0.18877457082271576, 0.18876884877681732, 0.18875089287757874, 0.18872199952602386, 0.1886836141347885, 0.1886371672153473, 0.18858405947685242, 0.18852567672729492, 0.18846334517002106, 0.18839818239212036, 0.18833133578300476, 0.18826371431350708, 0.18819621205329895, 0.18812961876392365, 0.1880645751953125, 0.18800173699855804, 0.18794162571430206, 0.18788456916809082, 0.18783098459243774, 0.18778105080127716, 0.18773488700389862, 0.1876925230026245, 0.18765388429164886, 0.18761880695819855, 0.18758711218833923, 0.18755848705768585, 0.18753275275230408, 0.18750958144664764, 0.1874886304140091, 0.1874697059392929, 0.18745261430740356, 0.18743717670440674, 0.18742325901985168, 0.18741071224212646, 0.18739956617355347]\n"
     ]
    },
    {
     "data": {
      "image/png": "[encoded data removed]",
      "text/plain": [
       "<Figure size 640x480 with 1 Axes>"
      ]
     },
     "metadata": {},
     "output_type": "display_data"
    }
   ],
   "source": [
    "# Given array of values proj_end_effector_loss_history, create plot of loss vs. iterations\n",
    "iterations_x_axis_proj = list(range(len(proj_end_effector_loss_history)))\n",
    "print(\"proj_end_effector_loss_history: \", proj_end_effector_loss_history)\n",
    "fig1 = plt.figure()\n",
    "ax1 = fig1.add_subplot(111)\n",
    "fig1.suptitle('2D Tip Euclidean Distance Loss History')\n",
    "ax1.plot(iterations_x_axis_proj, proj_end_effector_loss_history)\n",
    "ax1.set_xlabel('Iterations')\n",
    "ax1.set_ylabel('Euclidean Distance Loss (Pixels)')\n",
    "ax1.set_xlim([0, len(proj_end_effector_loss_history)])\n",
    "# ax1.set_ylim([0, 80])\n",
    "ax1.set_ylim(bottom=0)\n",
    "ax1.grid(True)\n",
    "plt.show()\n",
    "\n",
    "\n",
    "# Given array of values d3d_end_effector_loss_history, create plot of 3d loss vs. iterations\n",
    "iterations_x_axis_3d = list(range(len(d3d_end_effector_loss_history)))\n",
    "print(\"d3d_end_effector_loss_history: \", d3d_end_effector_loss_history)\n",
    "fig2 = plt.figure()\n",
    "ax2 = fig2.add_subplot(111)\n",
    "fig2.suptitle('3D Tip Euclidean Distance Loss History')\n",
    "ax2.plot(iterations_x_axis_3d, d3d_end_effector_loss_history)\n",
    "ax2.set_xlabel('Iterations')\n",
    "ax2.set_ylabel('Euclidean Distance Loss (m)')\n",
    "ax2.set_xlim([0, len(d3d_end_effector_loss_history)])\n",
    "ax2.set_ylim(bottom=0)\n",
    "# ax2.set_ylim([0, 0.05])\n",
    "ax2.grid(True)\n",
    "plt.show()"
   ]
  },
  {
   "cell_type": "code",
   "execution_count": 6,
   "metadata": {},
   "outputs": [
    {
     "name": "stdout",
     "output_type": "stream",
     "text": [
      "[2.e-02 2.e-03 1.e-06]\n",
      "result:  [ 0.034      -0.01        0.536       0.13291377 -0.19355388  0.7702713 ]\n",
      "control_points:  [[ 2.0000000e-02  2.0000001e-03  1.0000000e-06]\n",
      " [ 3.4000002e-02 -9.9999998e-03  5.3600001e-01]\n",
      " [ 1.3291377e-01 -1.9355388e-01  7.7027130e-01]]\n"
     ]
    }
   ],
   "source": [
    "p_start_np = p_start.numpy()\n",
    "print(p_start_np)\n",
    "result = catheter_optimize_model.para_init.data.cpu().numpy()\n",
    "print(\"result: \", result)\n",
    "control_points = np.vstack([p_start_np, result.reshape(2, 3)])\n",
    "print(\"control_points: \", control_points)\n",
    "control_points_gt = np.vstack([p_start_np, para_gt_np.reshape(2, 3)])\n",
    "control_points_init = np.vstack([p_start_np, para_init.reshape(2, 3)])"
   ]
  },
  {
   "cell_type": "code",
   "execution_count": 7,
   "metadata": {},
   "outputs": [
    {
     "data": {
      "image/png": "[encoded data removed]",
      "text/plain": [
       "<Figure size 640x480 with 1 Axes>"
      ]
     },
     "metadata": {},
     "output_type": "display_data"
    }
   ],
   "source": [
    "def bezier_curve_3d(control_points, num_points=100):\n",
    "    t = np.linspace(0, 1, num_points)\n",
    "    curve = np.zeros((num_points, 3))\n",
    "\n",
    "    for i in range(num_points):\n",
    "        curve[i] = (1 - t[i]) ** 2 * control_points[0] + \\\n",
    "                   2 * (1 - t[i]) * t[i] * control_points[1] + \\\n",
    "                   t[i] ** 2 * control_points[2]\n",
    "\n",
    "    return curve\n",
    "\n",
    "# Generate the Bezier curve\n",
    "curve = bezier_curve_3d(control_points)\n",
    "curve_gt = bezier_curve_3d(control_points_gt)\n",
    "curve_init = bezier_curve_3d(control_points_init)\n",
    "\n",
    "# Plotting the Bezier curve\n",
    "fig = plt.figure()\n",
    "ax = fig.add_subplot(111, projection='3d')\n",
    "\n",
    "# 绘制第一条贝塞尔曲线及其控制点\n",
    "ax.plot(control_points[:, 0], control_points[:, 1], control_points[:, 2], 'ro--')\n",
    "ax.plot(curve[:, 0], curve[:, 1], curve[:, 2], 'r-', label='Optimized Result')\n",
    "\n",
    "# 绘制第二条贝塞尔曲线及其控制点\n",
    "ax.plot(control_points_gt[:, 0], control_points_gt[:, 1], control_points_gt[:, 2], 'bo--')\n",
    "ax.plot(curve_gt[:, 0], curve_gt[:, 1], curve_gt[:, 2], 'b-', label='Ground Truth')\n",
    "\n",
    "ax.plot(control_points_init[:, 0], control_points_init[:, 1], control_points_init[:, 2], 'go--')\n",
    "ax.plot(curve_init[:, 0], curve_init[:, 1], curve_init[:, 2], 'g-', label='Initial Guess')\n",
    "\n",
    "# Set labels\n",
    "ax.set_xlabel('X')\n",
    "ax.set_ylabel('Y')\n",
    "ax.set_zlabel('Z')\n",
    "ax.set_title('Optimization Result')\n",
    "ax.legend()\n",
    "\n",
    "plt.savefig('Result.png')\n",
    "\n",
    "plt.show()"
   ]
  }
 ],
 "metadata": {
  "kernelspec": {
   "display_name": "catheter",
   "language": "python",
   "name": "python3"
  },
  "language_info": {
   "codemirror_mode": {
    "name": "ipython",
    "version": 3
   },
   "file_extension": ".py",
   "mimetype": "text/x-python",
   "name": "python",
   "nbconvert_exporter": "python",
   "pygments_lexer": "ipython3",
   "version": "3.8.19"
  }
 },
 "nbformat": 4,
 "nbformat_minor": 2
}
