{
 "cells": [
  {
   "cell_type": "code",
   "execution_count": 1,
   "metadata": {},
   "outputs": [],
   "source": [
    "import torch\n",
    "import numpy as np\n",
    "import pickle"
   ]
  },
  {
   "cell_type": "code",
   "execution_count": 4,
   "metadata": {},
   "outputs": [
    {
     "name": "stdout",
     "output_type": "stream",
     "text": [
      "[ 2.1275524e-02  3.4007222e-05  5.1013148e-01  1.6265069e-01\n",
      " -2.3716097e-01  9.3892723e-01]\n",
      "[[ 2.1275524e-02  3.4007222e-05  5.1013148e-01]\n",
      " [ 1.6265069e-01 -2.3716097e-01  9.3892723e-01]]\n",
      "[[ 7.00000000e+00  8.00000000e+00  9.00000000e+00]\n",
      " [ 2.12755240e-02  3.40072220e-05  5.10131478e-01]\n",
      " [ 1.62650689e-01 -2.37160966e-01  9.38927233e-01]]\n"
     ]
    }
   ],
   "source": [
    "scripts_path = 'E:/OneDrive - UC San Diego/UCSD/Lab/Catheter/diff_catheter/scripts/test_diff_render_catheter_v2'\n",
    "result_folder = \"test_imgs/results_complete_07030113\"\n",
    "filename = \"bezier_params_1900.npy\"\n",
    "full_path = scripts_path + '/' + result_folder + '/' + filename\n",
    "data = np.load(full_path)\n",
    "print(data)\n",
    "data = data.reshape(2, 3)\n",
    "print(data)\n",
    "# 创建一个长度为3的向量\n",
    "p_start = np.array([7, 8, 9])\n",
    "# 在矩阵前添加新的一行\n",
    "data = np.vstack((p_start, data))\n",
    "print(data)"
   ]
  },
  {
   "cell_type": "code",
   "execution_count": 5,
   "metadata": {},
   "outputs": [
    {
     "name": "stdout",
     "output_type": "stream",
     "text": [
      "(1, 4, 3)\n",
      "(4, 3)\n"
     ]
    }
   ],
   "source": [
    "dataset_folder = \"gt_dataset3\"\n",
    "gt_name = 'gt_6_0.0006_-0.0010_0.2_0.01'\n",
    "case_naming = scripts_path + '/' + dataset_folder + '/' + gt_name\n",
    "img_save_path = case_naming + '.png'\n",
    "cc_specs_path = case_naming + '.npy'\n",
    "para_gt_np = np.load(cc_specs_path)\n",
    "matrix = np.squeeze(para_gt_np)\n",
    "print(para_gt_np.shape)\n",
    "print(matrix.shape)"
   ]
  },
  {
   "cell_type": "code",
   "execution_count": 4,
   "metadata": {},
   "outputs": [],
   "source": [
    "list1 = [1, 2, 3, 4, 5]\n",
    "list2 = [6, 7, 8, 9, 10]\n",
    "learning_rate = 1e-2\n",
    "data = {'list1': list1, 'list2': list2, 'learning_rate': learning_rate}\n",
    "\n",
    "with open('lists.pkl', 'wb') as f:\n",
    "    pickle.dump(data, f)"
   ]
  },
  {
   "cell_type": "code",
   "execution_count": 5,
   "metadata": {},
   "outputs": [
    {
     "name": "stdout",
     "output_type": "stream",
     "text": [
      "[6, 7, 8, 9, 10]\n",
      "0.01\n"
     ]
    }
   ],
   "source": [
    "with open('lists.pkl', 'rb') as f:\n",
    "    loaded_data = pickle.load(f)\n",
    "    list2_loaded = loaded_data['list2']\n",
    "    learning_rate_loaded = loaded_data['learning_rate']\n",
    "\n",
    "print(list2_loaded)\n",
    "print(learning_rate_loaded)"
   ]
  },
  {
   "cell_type": "code",
   "execution_count": 10,
   "metadata": {},
   "outputs": [
    {
     "name": "stdout",
     "output_type": "stream",
     "text": [
      "Current iteration: 0\n",
      "Current iteration: 1\n",
      "Current iteration: 2\n",
      "Current iteration: 3\n",
      "Current iteration: 4\n",
      "Current iteration: 5\n",
      "Current iteration: 6\n",
      "Current iteration: 7\n",
      "Current iteration: 8\n",
      "Current iteration: 9\n",
      "Current iteration: 10\n",
      "This operation runs every 10 iterations. 10\n",
      "Current iteration: 11\n",
      "Current iteration: 12\n",
      "Current iteration: 13\n",
      "Current iteration: 14\n",
      "Current iteration: 15\n",
      "Current iteration: 16\n",
      "Current iteration: 17\n",
      "Current iteration: 18\n",
      "Current iteration: 19\n",
      "Current iteration: 20\n",
      "This operation runs every 10 iterations. 20\n",
      "Current iteration: 21\n",
      "Current iteration: 22\n",
      "Current iteration: 23\n",
      "Current iteration: 24\n",
      "Current iteration: 25\n",
      "Current iteration: 26\n",
      "Current iteration: 27\n",
      "Current iteration: 28\n",
      "Current iteration: 29\n",
      "Current iteration: 30\n",
      "This operation runs every 10 iterations. 30\n",
      "Current iteration: 31\n",
      "Current iteration: 32\n",
      "Current iteration: 33\n",
      "Current iteration: 34\n",
      "Current iteration: 35\n",
      "Current iteration: 36\n",
      "Current iteration: 37\n",
      "Current iteration: 38\n",
      "Current iteration: 39\n",
      "Current iteration: 40\n",
      "This operation runs every 10 iterations. 40\n",
      "Current iteration: 41\n",
      "Current iteration: 42\n",
      "Current iteration: 43\n",
      "Current iteration: 44\n",
      "Current iteration: 45\n",
      "Current iteration: 46\n",
      "Current iteration: 47\n",
      "Current iteration: 48\n",
      "Current iteration: 49\n",
      "Current iteration: 50\n",
      "This operation runs every 10 iterations. 50\n",
      "Current iteration: 51\n",
      "Current iteration: 52\n",
      "Current iteration: 53\n",
      "Current iteration: 54\n",
      "Current iteration: 55\n",
      "Current iteration: 56\n",
      "Current iteration: 57\n",
      "Current iteration: 58\n",
      "Current iteration: 59\n",
      "Current iteration: 60\n",
      "This operation runs every 10 iterations. 60\n",
      "Current iteration: 61\n",
      "Current iteration: 62\n",
      "Current iteration: 63\n",
      "Current iteration: 64\n",
      "Current iteration: 65\n",
      "Current iteration: 66\n",
      "Current iteration: 67\n",
      "Current iteration: 68\n",
      "Current iteration: 69\n",
      "Current iteration: 70\n",
      "This operation runs every 10 iterations. 70\n",
      "Current iteration: 71\n",
      "Current iteration: 72\n",
      "Current iteration: 73\n",
      "Current iteration: 74\n",
      "Current iteration: 75\n",
      "Current iteration: 76\n",
      "Current iteration: 77\n",
      "Current iteration: 78\n",
      "Current iteration: 79\n",
      "Current iteration: 80\n",
      "This operation runs every 10 iterations. 80\n",
      "Current iteration: 81\n",
      "Current iteration: 82\n",
      "Current iteration: 83\n",
      "Current iteration: 84\n",
      "Current iteration: 85\n",
      "Current iteration: 86\n",
      "Current iteration: 87\n",
      "Current iteration: 88\n",
      "Current iteration: 89\n",
      "Current iteration: 90\n",
      "This operation runs every 10 iterations. 90\n",
      "Current iteration: 91\n",
      "Current iteration: 92\n",
      "Current iteration: 93\n",
      "Current iteration: 94\n",
      "Current iteration: 95\n",
      "Current iteration: 96\n",
      "Current iteration: 97\n",
      "Current iteration: 98\n",
      "Current iteration: 99\n"
     ]
    }
   ],
   "source": [
    "for i in range(100):  # 假设循环 100 次\n",
    "    # 每次循环执行的操作\n",
    "    print(f\"Current iteration: {i}\")\n",
    "\n",
    "    # 每隔 10 次循环执行一次的操作\n",
    "    if i % 10 == 0 and i != 0:\n",
    "        print(f\"This operation runs every 10 iterations. {i}\")\n"
   ]
  },
  {
   "cell_type": "code",
   "execution_count": 2,
   "metadata": {},
   "outputs": [],
   "source": [
    "p_start = torch.tensor([0.02, 0.002, 0.000001]) # 0 here will cause NaN in draw2DCylinderImage, pTip\n",
    "para_init = np.array([0.034, -0.01, 0.536, 0.2, -0.37, 0.6],\n",
    "                     dtype=np.float32)\n",
    "learning_rate = 1e-1"
   ]
  },
  {
   "cell_type": "code",
   "execution_count": 4,
   "metadata": {},
   "outputs": [],
   "source": [
    "with open('variables.txt', 'w') as file:\n",
    "        file.write(f\"p_start = {p_start.numpy().tolist()}\\n\")\n",
    "        file.write(f\"learning_rate = {learning_rate}\\n\")"
   ]
  },
  {
   "cell_type": "code",
   "execution_count": 8,
   "metadata": {},
   "outputs": [
    {
     "name": "stdout",
     "output_type": "stream",
     "text": [
      "当前时间（格式化）： 06251404\n"
     ]
    }
   ],
   "source": [
    "from datetime import datetime\n",
    "import os\n",
    "\n",
    "# 获取当前日期和时间\n",
    "now = datetime.now()\n",
    "\n",
    "# 格式化日期和时间\n",
    "formatted_time = now.strftime(\"%m%d%H%M\")\n",
    "\n",
    "print(\"当前时间（格式化）：\", formatted_time)"
   ]
  },
  {
   "cell_type": "code",
   "execution_count": 9,
   "metadata": {},
   "outputs": [
    {
     "name": "stdout",
     "output_type": "stream",
     "text": [
      "test_imgs/results_06251404/rendered_imgs\n"
     ]
    }
   ],
   "source": [
    "scripts_path = 'E:/OneDrive - UC San Diego/UCSD/Lab/Catheter/diff_catheter/scripts/test_diff_render_catheter_v2'\n",
    "dataset_folder = \"gt_dataset3\"\n",
    "test_idx = datetime.now().strftime(\"%m%d%H%M\")\n",
    "result_folder = f\"test_imgs/results_{test_idx}\"\n",
    "rendered_imgs_folder = result_folder + '/' + f\"rendered_imgs\"\n",
    "print(rendered_imgs_folder)"
   ]
  },
  {
   "cell_type": "code",
   "execution_count": 10,
   "metadata": {},
   "outputs": [
    {
     "data": {
      "image/png": "[encoded data removed]",
      "text/plain": [
       "<Figure size 1000x600 with 1 Axes>"
      ]
     },
     "metadata": {},
     "output_type": "display_data"
    }
   ],
   "source": [
    "import matplotlib.pyplot as plt\n",
    "import numpy as np\n",
    "\n",
    "# 示例数据\n",
    "x = np.linspace(0, 10, 100)\n",
    "y = np.sin(x)\n",
    "\n",
    "# 创建折线图\n",
    "plt.figure(figsize=(10, 6))\n",
    "plt.plot(x, y, label='sin(x)', color='b', marker='o')\n",
    "\n",
    "# 添加标题和标签\n",
    "plt.title('Line Plot Example')\n",
    "plt.xlabel('X-axis')\n",
    "plt.ylabel('Y-axis')\n",
    "\n",
    "# 添加网格\n",
    "plt.grid(True)\n",
    "\n",
    "# 添加图例\n",
    "plt.legend()\n",
    "\n",
    "filename = \"test.png\"\n",
    "full_path = scripts_path + '/' + result_folder + '/' + filename\n",
    "if not os.path.exists(os.path.dirname(full_path)):\n",
    "    os.makedirs(os.path.dirname(full_path))\n",
    "plt.savefig(full_path)\n",
    "\n",
    "\n",
    "# 显示图表\n",
    "plt.show()"
   ]
  }
 ],
 "metadata": {
  "kernelspec": {
   "display_name": "catheter",
   "language": "python",
   "name": "python3"
  },
  "language_info": {
   "codemirror_mode": {
    "name": "ipython",
    "version": 3
   },
   "file_extension": ".py",
   "mimetype": "text/x-python",
   "name": "python",
   "nbconvert_exporter": "python",
   "pygments_lexer": "ipython3",
   "version": "3.8.19"
  }
 },
 "nbformat": 4,
 "nbformat_minor": 2
}
