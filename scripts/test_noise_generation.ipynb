{
 "cells": [
  {
   "cell_type": "code",
   "execution_count": 22,
   "metadata": {},
   "outputs": [],
   "source": [
    "import numpy as np"
   ]
  },
  {
   "cell_type": "code",
   "execution_count": 23,
   "metadata": {},
   "outputs": [
    {
     "name": "stdout",
     "output_type": "stream",
     "text": [
      "平移向量 A: [ 1.41421356e-03  1.73191211e-19 -1.41421356e-03]\n",
      "平移向量 B: [ 1.41403909e-03 -2.22135012e-05 -1.41421356e-03]\n",
      "平移向量 C: [-1.41421356e-03  1.73191211e-19 -1.41421356e-03]\n",
      "平移向量 D: [-0.00141856 -0.00011164 -0.00140543]\n",
      "0.002\n"
     ]
    }
   ],
   "source": [
    "# 生成用于平移的向量，确保相近的参考点产生相似的偏移向量\n",
    "def generate_translation_vector(reference_point, translation_magnitude=0.002, noise_scale=4.0):\n",
    "    # 将参考点乘以一个缩放因子，确保平滑性\n",
    "    scaled_point = reference_point / noise_scale\n",
    "    \n",
    "    # 使用参考点的坐标生成噪声方向向量，使用 sin 生成平滑随机值\n",
    "    noise = np.sin(scaled_point * np.pi * 2)\n",
    "    \n",
    "    # 随机生成的方向不是单位向量，先归一化成单位向量\n",
    "    random_direction = noise / np.linalg.norm(noise)\n",
    "    \n",
    "    # 将单位向量乘以 translation_magnitude，保证平移向量的模长为指定值\n",
    "    translation_vector = random_direction * translation_magnitude\n",
    "    \n",
    "    return translation_vector\n",
    "\n",
    "# 示例用法:\n",
    "reference_point_a = np.array([1.0, 2.0, 3.0])  # 参考点 A\n",
    "reference_point_b = np.array([1.01, 2.01, 3.0])  # 参考点 B，与 A 很接近\n",
    "reference_point_c = np.array([-1.0, 2.0, 3.0])  # 参考点 A\n",
    "reference_point_d = np.array([-1.05, 2.05, 2.9])  # 参考点 B，与 A 很接近\n",
    "\n",
    "# 生成平移向量\n",
    "translation_a = generate_translation_vector(reference_point_a)\n",
    "translation_b = generate_translation_vector(reference_point_b)\n",
    "translation_c = generate_translation_vector(reference_point_c)\n",
    "translation_d = generate_translation_vector(reference_point_d)\n",
    "\n",
    "print(\"平移向量 A:\", translation_a)\n",
    "print(\"平移向量 B:\", translation_b)\n",
    "print(\"平移向量 C:\", translation_c)\n",
    "print(\"平移向量 D:\", translation_d)\n",
    "\n",
    "print(np.linalg.norm(translation_a))\n"
   ]
  }
 ],
 "metadata": {
  "kernelspec": {
   "display_name": "catheter",
   "language": "python",
   "name": "python3"
  },
  "language_info": {
   "codemirror_mode": {
    "name": "ipython",
    "version": 3
   },
   "file_extension": ".py",
   "mimetype": "text/x-python",
   "name": "python",
   "nbconvert_exporter": "python",
   "pygments_lexer": "ipython3",
   "version": "3.8.19"
  }
 },
 "nbformat": 4,
 "nbformat_minor": 2
}
